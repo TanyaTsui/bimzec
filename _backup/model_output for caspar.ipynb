{
 "cells": [
  {
   "cell_type": "code",
   "execution_count": 1,
   "id": "2070e485-c622-4da1-8257-2219677fd6d9",
   "metadata": {},
   "outputs": [],
   "source": [
    "from mesa import Agent, Model\n",
    "from mesa.time import RandomActivation, BaseScheduler\n",
    "import pandas as pd\n",
    "import geopandas as gpd\n",
    "import shapely\n",
    "from shapely.geometry import Polygon, Point, MultiPoint, box\n",
    "import math\n",
    "import matplotlib.pyplot as plt\n",
    "import numpy as np\n",
    "from numpy import exp\n",
    "from numpy.random import rand, seed\n",
    "import folium\n",
    "import random \n",
    "from haversine import haversine\n",
    "import plotly.express as px\n",
    "from plotly.subplots import make_subplots\n",
    "import base64\n",
    "from io import BytesIO\n",
    "from IPython.display import IFrame\n",
    "from IPython.display import display, Javascript\n",
    "from IPython.core.display import HTML\n",
    "import copy\n",
    "import time\n",
    "pd.options.mode.chained_assignment = None  # default='warn'"
   ]
  },
  {
   "cell_type": "code",
   "execution_count": 2,
   "id": "15d600bb-fd7b-4f45-ba09-5de590be888e",
   "metadata": {},
   "outputs": [],
   "source": [
    "class ConstructionSite(Agent): \n",
    "    def __init__(self, unique_id, model, buildingType, coords, \n",
    "                 inA10, waterbound, start_year, end_year, multiplier):\n",
    "        super().__init__(unique_id, model)\n",
    "        self.buildingType = buildingType # A, B, or C\n",
    "        self.coords = coords \n",
    "        self.inA10 = inA10 # True or False \n",
    "        self.waterbound = waterbound # True or False\n",
    "        self.start_year = start_year\n",
    "        self.end_year = end_year\n",
    "        self.multiplier = multiplier\n",
    "        self.materials_request = {}\n",
    "        self.materials_request_forHubs = {}\n",
    "        self.materials_request_forSuppliers = {}\n",
    "        self.materials_received = {}\n",
    "        self.material_composition_df = None\n",
    "        \n",
    "        if self.model.hub_network == 'decentralized': \n",
    "            self.nearestHub_id = None\n",
    "            self.nearestHub_dist = None\n",
    "        self.nearestMacroHub_id = None\n",
    "        self.nearestMacroHub_dist = None\n",
    "        \n",
    "        self.filter_material_composition_df()\n",
    "        self.calc_materials_required()\n",
    "        if self.model.modularity_type == 'full': \n",
    "            self.add_materials_required_modular_core()\n",
    "            \n",
    "    def filter_material_composition_df(self): \n",
    "        '''make df of materials required, based on building, biobased, and modular type'''\n",
    "        b = self.model.build_info.copy()\n",
    "        b = b[(b.buildingType == self.buildingType) & (b.biobased_type == self.model.biobased_type)] \n",
    "        if self.model.modularity_type == 'none': \n",
    "            b = b[b.material != 'modules']\n",
    "        else: # self.model.modularity_type == 'full': \n",
    "            b = b[(b.structural_type == 'foundation') | (b.material == 'modules')]\n",
    "        b = b[~b.tons.isna()]\n",
    "        b.tons = b.tons * self.multiplier\n",
    "        self.material_composition_df = b\n",
    "    \n",
    "    def calc_materials_required(self): \n",
    "        '''make dictionaries required to record materials required and received on construction site'''\n",
    "        self.materials_required = {}\n",
    "        self.materials_received = {}\n",
    "        self.material_composition_df.apply(lambda row: self._add_materials_required(row), axis=1)\n",
    "        \n",
    "    def add_materials_required_modular_core(self): \n",
    "        b = self.model.build_info.copy()\n",
    "        b = b[(b.buildingType == self.buildingType) & \n",
    "              (b.biobased_type == self.model.biobased_type) & \n",
    "              (b.structural_type == 'structural')] \n",
    "        b = b[~b.tons.isna()]\n",
    "        b.tons = b.tons * 0.2\n",
    "        b.apply(lambda row: self._add_materials_required(row), axis=1)\n",
    "        \n",
    "        self.material_composition_df = pd.concat([self.material_composition_df, b])\n",
    "        \n",
    "    def _add_materials_required(self, row): \n",
    "        strucType = row.structural_type\n",
    "        mat = row.material\n",
    "        amount = row.tons\n",
    "\n",
    "        self.materials_required[strucType] = self.materials_required.get(strucType, {})\n",
    "        self.materials_required[strucType][mat] = self.materials_required[strucType].get(mat, 0) + amount\n",
    "\n",
    "        self.materials_received[strucType] = self.materials_received.get(strucType, {})\n",
    "        self.materials_received[strucType][mat] = 0\n",
    "                \n",
    "    def step(self): \n",
    "        if self.start_year <= self.model.year <= self.end_year + 1: \n",
    "            self.make_materials_request_dicts()\n",
    "            self.request_materials()\n",
    "        \n",
    "    def make_materials_request_dicts(self): \n",
    "        self.materials_request_forHubs = {}\n",
    "        self.materials_request_forSuppliers = {}\n",
    "        self.materials_request_all = {}\n",
    "        \n",
    "        for strucType, mat_amounts in self.materials_required.items(): \n",
    "            self.materials_request_forHubs[strucType] = {}\n",
    "            self.materials_request_forSuppliers[strucType] = {}\n",
    "            self.materials_request_all[strucType] = {}\n",
    "            \n",
    "            for mat, amount in mat_amounts.items(): \n",
    "                if mat in self.model.materials_forHubs: \n",
    "                    self.materials_request_forHubs[strucType][mat] = amount\n",
    "                elif mat in self.model.materials_forSuppliers: \n",
    "                    self.materials_request_forSuppliers[strucType][mat] = amount\n",
    "                else: \n",
    "                    print('ERROR: mat not in list for hubs or suppliers')\n",
    "                self.materials_request_all[strucType][mat] = amount\n",
    "                \n",
    "    def request_materials(self):\n",
    "        '''make materials_request that will be received by supplier / macro / micro hub'''        \n",
    "        materials_request_forHubs = self.materials_request_forHubs\n",
    "        materials_request_forSuppliers = self.materials_request_forSuppliers\n",
    "        materials_request_all = self.materials_request_all\n",
    "        \n",
    "        for strucType, mat_amounts in self.materials_required.items():             \n",
    "            for mat, amount in mat_amounts.items(): \n",
    "                mat_required = amount \n",
    "                mat_received = self.materials_received[strucType][mat] \n",
    "                mat_stillNeeded = mat_required - mat_received\n",
    "                \n",
    "                mat_request = mat_required / (self.end_year - self.start_year + 1)\n",
    "                mat_request = mat_request if mat_request < mat_stillNeeded else mat_stillNeeded\n",
    "                if self.model.year > self.end_year: \n",
    "                    mat_request = 0\n",
    "                                \n",
    "                materials_request_all[strucType][mat] = mat_request\n",
    "                if mat in self.model.materials_forHubs: \n",
    "                    materials_request_forHubs[strucType][mat] = mat_request\n",
    "                elif mat in self.model.materials_forSuppliers: \n",
    "                    materials_request_forSuppliers[strucType][mat] = mat_request\n",
    "                else: \n",
    "                    print(f'error: {mat} has not been assigned to hubs or suppliers')\n",
    "                    \n",
    "        if self.model.year > self.end_year: \n",
    "            materials_request_forHubs = {}\n",
    "            materials_request_forSuppliers = {}\n",
    "            materials_request_all = {}\n",
    "                        \n",
    "        self.materials_request_forSuppliers = materials_request_forSuppliers\n",
    "        self.materials_request_forHubs = materials_request_forHubs\n",
    "        self.materials_request_all = materials_request_all\n",
    "            \n",
    "        \n",
    "class Hub(Agent):\n",
    "    def __init__(self, unique_id, model, hubType, coords, inA10, waterbound):\n",
    "        super().__init__(unique_id, model)\n",
    "        self.hubType = hubType # macro or micro \n",
    "        self.coords = coords\n",
    "        self.inA10 = inA10 # True of False\n",
    "        self.waterbound = waterbound # True of False\n",
    "        self.nearestMacroHub_id = None\n",
    "        self.nearestMacroHub_dist = None\n",
    "        \n",
    "        self.materials_toSend = {}\n",
    "        self.nTrips = {}\n",
    "        self.materials_request = {}\n",
    "        self.materials_request_forSuppliers = {}\n",
    "        self.materials_received = dict.fromkeys(self.model.materials_list, 0)\n",
    "        \n",
    "        self.suppliers = {}\n",
    "        self.clients = {}\n",
    "        self.trucks_toSite = []\n",
    "        self.vehicles_toSupplier = []\n",
    "        self.demolition_site_ids = []\n",
    "        self.supplier_ids = []\n",
    "        self.client_ids = []\n",
    "                                \n",
    "    def step(self):\n",
    "        self.find_clients()\n",
    "        if self.clients: # if hub has clients: \n",
    "            # print(f'{self.hubType} hub {self.unique_id} is calculating materials to send... ')\n",
    "            self.calc_materials_toSend() # to each site / microHub\n",
    "            self.check_if_materials_toSend_hasAmounts()\n",
    "            if not self.materials_toSend_hasAmounts: \n",
    "                self.materials_request = {}\n",
    "            \n",
    "            elif self.materials_toSend_hasAmounts: # if hub has materials to send: \n",
    "                # print(f'{self.hubType} hub {self.unique_id} is making materials request ... ')\n",
    "                self.make_materials_request() # for suppliers / demSites / macroHubs \n",
    "\n",
    "                if self.hubType != 'macro_assembly': \n",
    "                    # print(f'{self.hubType} hub {self.unique_id} is triaging materials request ... ')\n",
    "                    self.triage_materials_request()\n",
    "\n",
    "                    if self.model.circularity_type != 'none' and self.hubType == 'macro': \n",
    "                        # print(f'{self.hubType} hub {self.unique_id} is collecting materials from dem sites ... ')\n",
    "                        self.simplify_matRequest_forDemolitionSites()\n",
    "                        self.collect_materials_fromDemolitionSites()\n",
    "\n",
    "                else: # hubType == 'macro_assembly'\n",
    "                    # print(f'{self.hubType} hub {self.unique_id} is making materials request for module supplier ... ')\n",
    "                    self.materials_request_forModuleSupplier() \n",
    "\n",
    "                if self.hubType != 'micro': # hubType = 'macro' or 'macro_assembly' \n",
    "                    # print(f'{self.hubType} hub {self.unique_id} is collecting materials from supplier ... ')\n",
    "                    self.find_suppliers()\n",
    "                    self.collect_materials_fromSupplier() # collect materials from suppliers \n",
    "\n",
    "                # print(f'{self.hubType} hub {self.unique_id} is sending materials to client ... ')\n",
    "                self.send_materials_toClient() # send materials to site / microhub\n",
    "        \n",
    "    def find_clients(self): \n",
    "        '''make dictionary of clients. \n",
    "            - For macrohubs, clients are nearby construction sites and micro hubs. \n",
    "            - For microhubs, clients are nearby construction sites. \n",
    "            - for macro assembly hubs, clients are all construction sites and microhubs (if hub_network is decentralized).\n",
    "        self.clients = {id: {'agent': agentObject, 'distance': 14312}, ... etc}'''\n",
    "        \n",
    "        self.clients = {}\n",
    "        \n",
    "        if self.model.hub_network == 'decentralized': \n",
    "            if self.hubType == 'macro': \n",
    "                microHubs = [hub for hub in self.model.hubs if hub.hubType == 'micro']\n",
    "                microHubs = [hub for hub in microHubs if hub.nearestMacroHub_id == self.unique_id]\n",
    "                sites = [s for s in self.model.construction_sites if s.nearestHub_id == self.unique_id]\n",
    "                clients = microHubs + sites # sometimes sends directly to sites if no microhub is closeby\n",
    "                for client in clients: \n",
    "                    self.clients[client.unique_id] = {'agent': client, 'distance': client.nearestMacroHub_dist}\n",
    "            \n",
    "            elif self.hubType == 'macro_assembly': \n",
    "                microHubs = [hub for hub in self.model.hubs if hub.hubType == 'micro']\n",
    "                clients = microHubs\n",
    "                for client in clients: \n",
    "                    od = self.model.od_matrix_h2h\n",
    "                    distance = od[(od[:, 0] == self.unique_id) & (od[:, 1] == client.unique_id)][0][2]\n",
    "                    self.clients[client.unique_id] = {'agent': client, 'distance': distance}\n",
    "            \n",
    "            elif self.hubType == 'micro': \n",
    "                sites = self.model.construction_sites\n",
    "                clients = [site for site in sites if site.nearestHub_id == self.unique_id]\n",
    "                for client in clients: \n",
    "                    self.clients[client.unique_id] = {'agent': client, 'distance': client.nearestHub_dist}\n",
    "        \n",
    "        elif self.model.hub_network == 'centralized':\n",
    "            if self.hubType == 'macro': \n",
    "                sites = self.model.construction_sites\n",
    "                clients = [site for site in sites if site.nearestMacroHub_id == self.unique_id]\n",
    "                for client in clients: \n",
    "                    self.clients[client.unique_id] = {'agent': client, 'distance': client.nearestMacroHub_dist}    \n",
    "            else: # if self.hubType == 'macro_assembly'\n",
    "                clients = self.model.construction_sites\n",
    "                for client in clients: \n",
    "                    od = self.model.od_matrix_h2c\n",
    "                    distance = od[(od[:, 0] == self.unique_id) & (od[:, 1] == client.unique_id)][0][2]\n",
    "                    self.clients[client.unique_id] = {'agent': client, 'distance': distance}\n",
    "                                    \n",
    "    def calc_materials_toSend(self): \n",
    "        '''check which clients still need materials and make materials_toSend dictionary\n",
    "        self.clients = microhubs or construction sites \n",
    "        self.materials_toSend = {site_id: {'foundation': {'timber': 123, ... }, ... }'''\n",
    "        self.materials_toSend = {}\n",
    "        matList = []\n",
    "               \n",
    "        for client_id in self.clients.keys():\n",
    "            materials_request, sum_values = self._get_materials_request(client_id)\n",
    "            \n",
    "            if sum_values > 0: # if client is requesting anything: \n",
    "                matList = self._make_materials_list(materials_request)\n",
    "                materials_toSend = self._make_materials_toSend_dict(client_id, matList, materials_request)\n",
    "        \n",
    "        self.materials_list = matList\n",
    "        self.materials_toSend = self._remove_zeros(self.materials_toSend)\n",
    "                \n",
    "    def _get_materials_request(self, client_id): \n",
    "        client = self.clients[client_id]['agent']\n",
    "        \n",
    "        if isinstance(client, Hub): \n",
    "            materials_request = client.materials_request.copy()\n",
    "        elif isinstance(client, ConstructionSite): \n",
    "            materials_request = client.materials_request_forHubs.copy()\n",
    "        else: \n",
    "            print('somethings wrong here: couldnt get materials request')\n",
    "        \n",
    "        sum_values = sum(sum(request.values()) for request in materials_request.values())\n",
    "        return materials_request, sum_values\n",
    "    \n",
    "    def _make_materials_list(self, materials_request): \n",
    "        matList = []\n",
    "        for strucType, mat_amounts in materials_request.items(): \n",
    "            for mat, amount in mat_amounts.items(): \n",
    "                matList.append(mat)\n",
    "                \n",
    "        matList = list(set(matList))\n",
    "        if self.hubType == 'macro_assembly': \n",
    "            matList = ['modules']\n",
    "            \n",
    "        return matList\n",
    "    \n",
    "    def _make_materials_toSend_dict(self, client_id, matList, materials_request): \n",
    "        \n",
    "        self.materials_toSend[client_id] = {\n",
    "            strucType: {\n",
    "                mat: 0 for mat in matList \n",
    "            } for strucType in materials_request.keys()\n",
    "        }\n",
    "        for strucType, mat_amounts in materials_request.items(): \n",
    "            for mat, amount in mat_amounts.items(): \n",
    "                if mat in matList: \n",
    "                    self.materials_toSend[client_id][strucType][mat] += amount \n",
    "    \n",
    "    def _remove_zeros(self, materials_toSend): \n",
    "        materials_toSend_noZeros = {}\n",
    "        for client_id, toSend_dict in materials_toSend.items():\n",
    "            materials_toSend_noZeros[client_id] = {}\n",
    "            for strucType, mat_amounts in toSend_dict.items(): \n",
    "                materials_toSend_noZeros[client_id][strucType] = {}\n",
    "                for mat, amount in mat_amounts.items(): \n",
    "                    if amount == 0: \n",
    "                        continue\n",
    "                    materials_toSend_noZeros[client_id][strucType][mat] = amount\n",
    "        return materials_toSend_noZeros\n",
    "        \n",
    "    def check_if_materials_toSend_hasAmounts(self): \n",
    "        hasAmounts = False\n",
    "        for site_id, mat_request in self.materials_toSend.items(): \n",
    "            for strucType, mat_amounts in mat_request.items(): \n",
    "                for mat, amount in mat_amounts.items(): \n",
    "                    if amount > 0: \n",
    "                        hasAmounts = True\n",
    "                        break\n",
    "        self.materials_toSend_hasAmounts = hasAmounts\n",
    "                            \n",
    "    def make_materials_request(self):\n",
    "        '''self.materials_request = {'foundation': {'timber': 123, ... }, ... }, ... }'''\n",
    "                              \n",
    "        materials_request = {}\n",
    "        for site_id, mat_request in self.materials_toSend.items():\n",
    "            for strucType, mat_amounts in mat_request.items(): \n",
    "                materials_request[strucType] = materials_request.get(strucType, {})\n",
    "                for mat, amount in mat_amounts.items(): \n",
    "                    materials_request[strucType][mat] = materials_request[strucType].get(mat, 0) + amount \n",
    "        \n",
    "        self.materials_request = materials_request\n",
    "        \n",
    "        # if self.unique_id == 373: \n",
    "        #     print(f'macro hub {self.unique_id} has the following mat request: \\n{self.materials_request}')\n",
    "\n",
    "                \n",
    "    def materials_request_forModuleSupplier(self): \n",
    "        '''this function only runs for the macro_assembly hub. \n",
    "        it simplifies the materials_request into materials_request for suppliers, \n",
    "        which doesnt have information on structural type'''\n",
    "        matReqSupplier = {} \n",
    "        for strucType, mat_amounts in self.materials_request.items(): \n",
    "            matReqSupplier[strucType] = {}\n",
    "            for mat, amount in mat_amounts.items(): \n",
    "                matReqSupplier[strucType][mat] = matReqSupplier[strucType].get(mat, 0) + amount\n",
    "        self.materials_request_forSuppliers = matReqSupplier\n",
    "        \n",
    "    def triage_materials_request(self):\n",
    "        '''separate self.materials_request into two parts, \n",
    "        one for demolition sites and one for suppliers'''\n",
    "        \n",
    "        strucTypes_suppliers, strucTypes_demSites = self._pick_strucTypes_forTriage()\n",
    "        \n",
    "        self.materials_request_forDemSites = self._make_matRequest_triaged(strucTypes_demSites)\n",
    "        self.materials_request_forSuppliers = self._make_matRequest_triaged(strucTypes_suppliers)\n",
    "        \n",
    "        # if self.unique_id == 373:\n",
    "        #     print(f'supplier strucTypes: {strucTypes_suppliers}; demsite strucTypes: {strucTypes_demSites}')\n",
    "        #     print(f'mat request for demsites: {self.materials_request_forDemSites}')\n",
    "        #     print(f'mat request for supplers: {self.materials_request_forSuppliers}')\n",
    "            \n",
    "    def _pick_strucTypes_forTriage(self): \n",
    "        '''pick strucType for demSite and suppliers'''\n",
    "        strucTypes_forCircParam_dict = {\n",
    "            'none': [], \n",
    "            'semi': ['non-structural'], \n",
    "            'full': ['non-structural', 'structural'], \n",
    "            'extreme': ['non-structural', 'structural', 'foundation']\n",
    "        }\n",
    "        strucTypes_all = ['non-structural', 'structural', 'foundation']\n",
    "        strucTypes_demSites = strucTypes_forCircParam_dict[self.model.circularity_type] \n",
    "        strucTypes_suppliers = [i for i in strucTypes_all if i not in strucTypes_demSites]\n",
    "        if self.model.modularity_type == 'full': \n",
    "            strucTypes_suppliers = strucTypes_suppliers + ['non-structural']\n",
    "            # if 'structural' in strucTypes_suppliers: \n",
    "            #     strucTypes_suppliers.remove('structural')\n",
    "            # if 'structural' in strucTypes_demSites:\n",
    "            #     strucTypes_demSites.remove('structural')\n",
    "        return strucTypes_suppliers, strucTypes_demSites\n",
    "    \n",
    "    def _make_matRequest_triaged(self, strucTypes): \n",
    "        '''make separate materials_requests for demSites and suppliers'''\n",
    "        matRequest_triaged = {}\n",
    "        for strucType in strucTypes:\n",
    "            matRequest_triaged[strucType] = {}\n",
    "            mat_amounts = self.materials_request[strucType]\n",
    "            for mat, amount in mat_amounts.items(): \n",
    "                if mat == 'modules': \n",
    "                    continue\n",
    "                matRequest_triaged[strucType][mat] = matRequest_triaged[strucType].get(mat, 0) + amount\n",
    "        matRequest_triaged = {k: v for k, v in matRequest_triaged.items() if v!= 0}\n",
    "        return matRequest_triaged\n",
    "        \n",
    "    def simplify_matRequest_forDemolitionSites(self): \n",
    "        '''convert mat names in materials_request_forDemSites to match mat names in demolition_sites_df'''\n",
    "        \n",
    "        materials_request_old = self.materials_request_forDemSites\n",
    "        materials_request_new = {}\n",
    "        \n",
    "        for strucType, mat_amounts in materials_request_old.items(): \n",
    "            for mat, amount in mat_amounts.items(): \n",
    "                materials_request_new[mat] = materials_request_new.get(mat, 0) + amount\n",
    "        \n",
    "        self.materials_request_forDemSites = materials_request_new\n",
    "                               \n",
    "    def collect_materials_fromDemolitionSites(self): \n",
    "        '''collect materials from randomly selected demolition sites'''\n",
    "        \n",
    "        materials_collected = {key: 0 for key in self.materials_request_forDemSites.keys()}\n",
    "        demSites = self.model.demolition_sites_df\n",
    "        demSites = demSites[demSites.nearestMacroHub_id == self.unique_id]\n",
    "        mats_collected = []\n",
    "        \n",
    "        for matName_conSite, request_amount in self.materials_request_forDemSites.items(): \n",
    "            matName_demSite = self._get_matName_demSite(matName_conSite)\n",
    "            self.distances_all = []\n",
    "            self.nTrips_all = []\n",
    "            self.emissions_all = []\n",
    "            \n",
    "            while True: \n",
    "                demSite = demSites.sample(1).iloc[0]\n",
    "                collect_tons = self._calc_collect_tons(demSite, matName_demSite, matName_conSite, request_amount, materials_collected)\n",
    "                vehicle, capacity = self._get_vehicle_forDemSite(demSite, matName_demSite)\n",
    "                nTrips, emissions = self._record_emissions(demSite, matName_conSite, collect_tons, vehicle, capacity)\n",
    "                if vehicle.transportation_network == 'road': \n",
    "                    self._record_road_impact(demSite, nTrips, vehicle, capacity)\n",
    "                                                   \n",
    "                # stop if enough materials have been collected \n",
    "                materials_collected[matName_conSite] += collect_tons\n",
    "                if materials_collected[matName_conSite] >= request_amount: \n",
    "                    break\n",
    "                \n",
    "            # record mats collected for print statement below\n",
    "            mats_collected.append(matName_conSite)\n",
    "        # print(f'{self.hubType} hub {self.unique_id} has collected the following materials from demolition sites: \\n{mats_collected}')\n",
    "        \n",
    "    def _get_matName_demSite(self, matName_conSite): \n",
    "        conversion_df = self.model.materialNames_conversion\n",
    "        matName_demSite = conversion_df[conversion_df.name_from_conSiteData == matName_conSite].name_from_demSiteData.iloc[0]\n",
    "        return matName_demSite\n",
    "    \n",
    "    def _calc_collect_tons(self, demSite, matName_demSite, matName_conSite, request_amount, materials_collected): \n",
    "        available_tons = demSite[matName_demSite] \n",
    "        still_needed = request_amount - materials_collected[matName_conSite]\n",
    "        collect_tons = still_needed if available_tons >= still_needed else available_tons\n",
    "        return collect_tons\n",
    "    \n",
    "    def _get_vehicle_forDemSite(self, demSite, matName_demSite): \n",
    "        '''make vehicle capacities for demolition sites by converting mat names in vehicles_info\n",
    "        into mat names in demolition_sites_df'''\n",
    "        \n",
    "        # get info for vehicle based on model params  \n",
    "        if self.model.network_type == 'water' and self.waterbound and demSite.waterbound: \n",
    "            transportation_network = 'water'\n",
    "            vehicle_type = 'water'\n",
    "        else: # road network is used \n",
    "            transportation_network = 'road'\n",
    "            if self.model.truck_type == 'semi': \n",
    "                vehicle_type = 'electric' if self.inA10 or demSite.inA10 else 'diesel'\n",
    "            else: \n",
    "                vehicle_type = self.model.truck_type \n",
    "        \n",
    "        # select vehicle \n",
    "        vehicles_df = self.model.vehicles_info_demSites\n",
    "        vehicle = vehicles_df[(vehicles_df.transportation_network == transportation_network) & \n",
    "                              (vehicles_df.vehicle_type == vehicle_type)].iloc[0]\n",
    "        capacity = vehicle[f'capacity_{matName_demSite}'] \n",
    "        \n",
    "        return vehicle, capacity # need this for self.collect_materials_fromDemolitionSites() \n",
    "    \n",
    "    def _record_emissions(self, demSite, matName_conSite, collect_tons, vehicle, capacity): \n",
    "        distance = demSite.nearestMacroHub_dist\n",
    "        nTrips = math.ceil(collect_tons / capacity)\n",
    "        emissions = vehicle.emissions_perKm_tCO2 * distance * nTrips * 2\n",
    "        \n",
    "        self.distances_all.append(distance)\n",
    "        self.nTrips_all.append(nTrips*2)\n",
    "        self.emissions_all.append(emissions)\n",
    "\n",
    "        self.model.emissions_d2h += emissions\n",
    "        self.model.emissions_per_material[matName_conSite] = self.model.emissions_per_material.get(matName_conSite, 0) + emissions\n",
    "        self.demolition_site_ids.append(demSite.unique_id)\n",
    "        \n",
    "        self.model.emissions_NOX += vehicle.emissions_perKm_gNOX * distance * nTrips * 2\n",
    "        self.model.emissions_PM2p5 += vehicle.emissions_perKm_gPM2p5 * distance * nTrips * 2\n",
    "        self.model.emissions_PM10 += vehicle.emissions_perKm_gPM10 * distance * nTrips * 2\n",
    "        \n",
    "        return nTrips, emissions\n",
    "        \n",
    "    def _record_road_impact(self, demSite, nTrips, vehicle, capacity): \n",
    "        # record roads used\n",
    "        roadMatrix = self.model.road_matrix_d2h\n",
    "        road_ids = roadMatrix[(roadMatrix[:, 1] == self.unique_id) & (roadMatrix[:, 0] == demSite.unique_id)][0][2]\n",
    "        mask = self.model.roads_used['osmid'].isin(road_ids)\n",
    "        self.model.roads_used.loc[mask, 'nTrips'] += nTrips\n",
    "\n",
    "        # record road damage\n",
    "        nAxels = vehicle.nAxels\n",
    "        weight = capacity / nAxels \n",
    "        damage = (weight ** 4) * nTrips \n",
    "        self.model.roads_used.loc[mask, 'damage'] += damage\n",
    "    \n",
    "    def find_suppliers(self): \n",
    "        '''this function is only run by macro hubs - see Hub.step()\n",
    "        select supplier agent and distance based on location type (national / international)\n",
    "        self.materials_request_forSuppliers = {'mat': 123, 'mat': 456 ... }\n",
    "        self.suppliers = {'timber': {'agent': agentObject, 'distance': 14312}, ... etc}'''\n",
    "               \n",
    "        self.suppliers = {}\n",
    "        mat_info = self.model.materials_logistics_info\n",
    "        \n",
    "        matList = []\n",
    "        for strucType, mat_amounts in self.materials_request_forSuppliers.items(): \n",
    "            for mat in mat_amounts.keys(): \n",
    "                matList.append(mat)\n",
    "        matList = list(set(matList))\n",
    "        \n",
    "        for mat in matList:\n",
    "            self.suppliers[mat] = {}\n",
    "            supplier = [s for s in self.model.suppliers if s.material_type == mat][0]\n",
    "            self.suppliers[mat]['agent'] = supplier \n",
    "            self.suppliers[mat]['distance'] = haversine(self.coords, supplier.coords) # supplier.distance_fromAms\n",
    "                        \n",
    "    def collect_materials_fromSupplier(self): \n",
    "        '''this function is only run by macro hubs - see Hub.step()\n",
    "        collect materials from factory supplier (national / international)'''\n",
    "        mats_collected = []\n",
    "        # print(f'request for suppliers: \\n{self.materials_request_forSuppliers}')\n",
    "        for strucType, mat_amounts in self.materials_request_forSuppliers.items():\n",
    "            for mat, amount in mat_amounts.items(): \n",
    "                if amount == 0: \n",
    "                    continue\n",
    "                mats_collected.append(f'{strucType} {mat}')\n",
    "                # get info for calculating emissions and road usage \n",
    "                supplier = self.suppliers[mat]['agent']\n",
    "                distance = self.suppliers[mat]['distance']\n",
    "                if self.model.network_type == 'water' and not self.waterbound: \n",
    "                    network_type = 'road'\n",
    "                else: \n",
    "                    network_type = self.model.network_type\n",
    "                vehicle = self._select_vehicle(mat, network_type, 'diesel')\n",
    "                capacity = vehicle['capacity_modules_2D'] if mat == 'modules' else vehicle[f'capacity_{mat}'] # * 0.8\n",
    "                nTrips = math.ceil(amount / capacity)\n",
    "\n",
    "                # record road usage road network is used  \n",
    "                if self.model.network_type == 'road' or (self.model.network_type == 'water' and not self.waterbound): \n",
    "                    roadMatrix = self.model.road_matrix_s2h\n",
    "                    road_ids = roadMatrix[(roadMatrix[:, 0] == supplier.unique_id) & (roadMatrix[:, 1] == self.unique_id)][0][2]\n",
    "                    mask = self.model.roads_used['osmid'].isin(road_ids)\n",
    "                    self.model.roads_used.loc[mask, 'nTrips'] += nTrips\n",
    "\n",
    "                    # record road damage\n",
    "                    nAxels = vehicle['nAxels']\n",
    "                    weight = capacity / nAxels \n",
    "                    damage = (weight ** 4) * nTrips \n",
    "                    self.model.roads_used.loc[mask, 'damage'] += damage\n",
    "\n",
    "                # record emissions, materials received, and suppliers used \n",
    "                emissions = vehicle['emissions_perKm_tCO2'] * distance * nTrips * 2\n",
    "                self.model.emissions_s2h += emissions\n",
    "                self.model.emissions_per_material[mat] = self.model.emissions_per_material.get(mat, 0) + emissions\n",
    "                self.materials_received[mat] += amount\n",
    "                self.supplier_ids.append(supplier.unique_id)\n",
    "                \n",
    "                self.model.emissions_NOX += vehicle.emissions_perKm_gNOX * distance * nTrips * 2\n",
    "                self.model.emissions_PM2p5 += vehicle.emissions_perKm_gPM2p5 * distance * nTrips * 2\n",
    "                self.model.emissions_PM10 += vehicle.emissions_perKm_gPM10 * distance * nTrips * 2\n",
    "\n",
    "        \n",
    "    def send_materials_toClient(self): \n",
    "        '''send materials to client (either construction sites or micro hubs) \n",
    "        self.materials_toSend = {site_id: {'foundation': {'timber': 123, ... }, ... }, ... }'''\n",
    "        mats_sent = []\n",
    "        # for each client (either construction site or micro hub): \n",
    "        for client_id, mat_toSend_dict in self.materials_toSend.items(): \n",
    "            \n",
    "            # get client and vehicle info\n",
    "            client = self.clients[client_id]['agent']\n",
    "            distance = self.clients[client_id]['distance']\n",
    "            \n",
    "            # get vehicle based on params \n",
    "            fuel_type = self.model.truck_type\n",
    "            network_type = self.model.network_type\n",
    "            if self.model.network_type == 'water' and self.waterbound and client.waterbound: \n",
    "                network_type = 'water'\n",
    "            else: # network_type == 'road' or 'rail', or not waterbound: \n",
    "                network_type = 'road'\n",
    "                if self.model.truck_type == 'semi': \n",
    "                    fuel_type = 'electric' if client.inA10 or self.inA10 else 'diesel'\n",
    "                else: # truck_type == 'none' or 'full'\n",
    "                    fuel_type = self.model.truck_type      \n",
    "            \n",
    "            # determine path used\n",
    "            roadMatrix = self.model.road_matrix_h2hc\n",
    "            road_ids = roadMatrix[(roadMatrix[:, 0] == self.unique_id) & (roadMatrix[:, 1] == client.unique_id)][0][2]\n",
    "            road_ids_str = [','.join(map(str, r)) if isinstance(r, list) else str(r) for r in road_ids]\n",
    "            # mask = self.model.roads_used['osmid'].isin(road_ids_str)\n",
    "            mask = self.model.roads_used['osmid'].apply(lambda x: x in road_ids_str)\n",
    "\n",
    "            damages = []\n",
    "            n_trips_list = []\n",
    "            for strucType, mat_amounts in mat_toSend_dict.items(): \n",
    "                for mat, amount in mat_amounts.items(): \n",
    "                    mats_sent.append(f'{strucType} {mat}')\n",
    "                    vehicle = self._select_vehicle(mat, network_type, fuel_type)\n",
    "\n",
    "                    # record emissions \n",
    "                    capacity = vehicle['capacity_modules_3D'] if mat == 'modules' else vehicle[f'capacity_{mat}']\n",
    "                    nTrips = math.ceil(amount / capacity)\n",
    "                    emissions = vehicle.emissions_perKm_tCO2 * distance * nTrips * 2\n",
    "                    self.model.emissions_h2c += emissions\n",
    "                    self.model.emissions_per_material[mat] = self.model.emissions_per_material.get(mat, 0) + emissions\n",
    "                    \n",
    "                    self.model.emissions_NOX += vehicle.emissions_perKm_gNOX * distance * nTrips * 2\n",
    "                    self.model.emissions_PM2p5 += vehicle.emissions_perKm_gPM2p5 * distance * nTrips * 2\n",
    "                    self.model.emissions_PM10 += vehicle.emissions_perKm_gPM10 * distance * nTrips * 2\n",
    "                    \n",
    "                    if network_type == 'road': \n",
    "                        # record roads used, road damage\n",
    "                        nAxels = vehicle.nAxels\n",
    "                        weight = capacity / nAxels \n",
    "                        damage = (weight ** 4) * nTrips \n",
    "                        if self.model.network_type == 'water': \n",
    "                            if self.waterbound and client.waterbound: \n",
    "                                damage = 0\n",
    "                        damages.append(damage)\n",
    "                        n_trips_list.append(nTrips)\n",
    "                    \n",
    "                    # record  materials received, client ids \n",
    "                    if type(client) is ConstructionSite: \n",
    "                        client.materials_received[strucType].setdefault(mat, 0)\n",
    "                        client.materials_received[strucType][mat] += amount\n",
    "                    else: # if client == micro hub: \n",
    "                        client.materials_received.setdefault(mat, 0)\n",
    "                        client.materials_received[mat] += amount\n",
    "                    self.client_ids.append(client_id)\n",
    "                    \n",
    "            self.model.roads_used.loc[mask, 'damage'] += sum(damages)\n",
    "            self.model.roads_used.loc[mask, 'nTrips'] += sum(n_trips_list)\n",
    "        # print(f'{self.hubType} hub {self.unique_id} sent the following materials to its clients: {set(mats_sent)}')\n",
    "\n",
    "    def _select_vehicle(self, mat, network_type, fuel_type):\n",
    "        logistics_info = self.model.materials_logistics_info\n",
    "        mat = 'modules_2D' if mat == 'modules' else mat # doesn't matter if it's modules_2D or 3D, they use the same truck. And we're only selecting a truck here.\n",
    "        logistics_info = logistics_info[logistics_info.material == mat].iloc[0]\n",
    "        vehicle_info = self.model.vehicles_info\n",
    "\n",
    "        if network_type == 'water': \n",
    "            fuel_type = 'water'\n",
    "            if logistics_info.water_usage == 'no':\n",
    "                network_type = 'road'\n",
    "                fuel_type = 'diesel'\n",
    "        elif network_type == 'rail': \n",
    "            fuel_type = 'rail'\n",
    "            if logistics_info.rail_usage == 'no':\n",
    "                network_type = 'road'\n",
    "                fuel_type = 'diesel'\n",
    "\n",
    "        vehicle = vehicle_info[\n",
    "            ((vehicle_info.transportation_network != 'road') | \n",
    "             (vehicle_info.vehicle_name == logistics_info.vehicle_name)) & \n",
    "            (vehicle_info.transportation_network == network_type) & \n",
    "            (vehicle_info.vehicle_type == fuel_type)\n",
    "        ].iloc[0]\n",
    "\n",
    "        return vehicle\n",
    "    \n",
    "class Supplier(Agent): \n",
    "    # supplier = Supplier(row.unique_id, self, row.material, coords)\n",
    "    def __init__(self, unique_id, model, material, coords): \n",
    "        super().__init__(unique_id, model)\n",
    "        self.material = material\n",
    "        self.location_type = material\n",
    "        self.coords = coords\n",
    "        self.clients = {}\n",
    "        self.waterbound = 0\n",
    "        self.material_type = material\n",
    "        \n",
    "    def step(self): \n",
    "        self.find_clients() \n",
    "        self.calc_materials_toSend() \n",
    "        if self.materials_toSend: \n",
    "            # print(f'{self.material_type} supplier is sending materials to site ... ')\n",
    "            self.send_materials_supplierToSite() \n",
    "    \n",
    "    def find_clients(self): \n",
    "        '''self.clients = list of client agents [agent, agent, agent ...]\n",
    "        clients are only construction sites, not hubs, because logistics\n",
    "        between suppliers and hubs are handled by hubs, not suppliers.'''\n",
    "        sites = [site for site in self.model.construction_sites if site.materials_request_forSuppliers]\n",
    "        clients = []\n",
    "        for site in sites: \n",
    "            if self.model.hub_network != 'none': \n",
    "                matReq = site.materials_request_forSuppliers\n",
    "            else: \n",
    "                matReq = site.materials_request_all\n",
    "            for mat_amounts in matReq.values(): \n",
    "                for mat in mat_amounts.keys(): \n",
    "                    if mat == self.material_type: \n",
    "                        clients.append(site)\n",
    "        self.clients = clients\n",
    "                        \n",
    "    def calc_materials_toSend(self): \n",
    "        '''self.materials_toSend = {id: 123 ... }'''\n",
    "        self.materials_toSend = {}\n",
    "        for client in self.clients: \n",
    "            if self.model.hub_network != 'none': \n",
    "                mat_req = client.materials_request_forSuppliers\n",
    "            else: \n",
    "                mat_req = client.materials_request_all\n",
    "            self.materials_toSend[client.unique_id] = {}\n",
    "            for strucType, mat_amounts in mat_req.items(): \n",
    "                self.materials_toSend[client.unique_id][strucType] = {} \n",
    "                for mat, amount in mat_amounts.items(): \n",
    "                    if mat == self.material_type: \n",
    "                        self.materials_toSend[client.unique_id][strucType][mat] = self.materials_toSend[client.unique_id][strucType].get(mat, 0) + amount \n",
    "        \n",
    "    def send_materials_supplierToSite(self): \n",
    "        client_dict = {c.unique_id: c for c in self.clients}\n",
    "        \n",
    "        for client_id, mat_toSend_dict in self.materials_toSend.items(): \n",
    "            client = client_dict[client_id]\n",
    "            distance = haversine(client.coords, self.coords)\n",
    "            mask = self._get_mask_forRoadsUsed(self.unique_id, client_id)\n",
    "\n",
    "            nTrips_total = []\n",
    "            damage_total = []\n",
    "            for strucType, mat_amounts in mat_toSend_dict.items(): \n",
    "                for mat, amount in mat_amounts.items():  \n",
    "                    vehicle = self._select_vehicle(mat, self.model.network_type, self.model.truck_type)\n",
    "                    capacity = vehicle[f'capacity_modules_3D'] if mat == 'modules' else vehicle[f'capacity_{mat}'] * 0.3 \n",
    "                    nTrips = math.ceil(amount / capacity)\n",
    "                    client.materials_received[strucType][mat] += amount\n",
    "                    self._record_emissions(vehicle, mat, amount, distance, nTrips)\n",
    "                    self._record_road_impact(nTrips_total, damage_total, mat, amount, vehicle)\n",
    "                    \n",
    "            self.model.roads_used.loc[mask, 'nTrips'] += sum(nTrips_total)\n",
    "            self.model.roads_used.loc[mask, 'damage'] += sum(damage_total)\n",
    "\n",
    "    def _select_vehicle(self, mat, network_type, fuel_type):\n",
    "        logistics_info = self.model.materials_logistics_info\n",
    "        logistics_info = logistics_info[logistics_info.material == mat].iloc[0]\n",
    "        vehicle_info = self.model.vehicles_info\n",
    "\n",
    "        fuel_type = 'diesel'\n",
    "        if network_type == 'water': \n",
    "            fuel_type = 'water'\n",
    "            if logistics_info.water_usage == 'no':\n",
    "                network_type = 'road'\n",
    "                fuel_type = 'diesel'\n",
    "        elif network_type == 'rail': \n",
    "            fuel_type = 'rail'\n",
    "            if logistics_info.rail_usage == 'no':\n",
    "                network_type = 'road'\n",
    "                fuel_type = 'diesel'\n",
    "\n",
    "        vehicle = vehicle_info[\n",
    "            ((vehicle_info.transportation_network != 'road') | \n",
    "             (vehicle_info.vehicle_name == logistics_info.vehicle_name)) & \n",
    "            (vehicle_info.transportation_network == network_type) & \n",
    "            (vehicle_info.vehicle_type == fuel_type)\n",
    "        ].iloc[0]\n",
    "\n",
    "        return vehicle\n",
    "    \n",
    "    def _get_mask_forRoadsUsed(self, self_id, client_id): \n",
    "        roadMatrix = self.model.road_matrix_s2c\n",
    "        road_ids = roadMatrix[(roadMatrix[:, 0] == self_id) & \n",
    "                              (roadMatrix[:, 1] == client_id)][0][2]\n",
    "        mask = self.model.roads_used['osmid'].isin(road_ids)\n",
    "        return mask \n",
    "    \n",
    "    def _record_emissions(self, vehicle, mat, amount, distance, nTrips): \n",
    "        emissions = vehicle.emissions_perKm_tCO2 * distance * nTrips * 2\n",
    "        self.model.emissions_s2c += emissions\n",
    "        self.model.emissions_per_material[mat] = self.model.emissions_per_material.get(mat, 0) + emissions\n",
    "        \n",
    "        self.model.emissions_NOX += vehicle.emissions_perKm_gNOX * distance * nTrips * 2\n",
    "        self.model.emissions_PM2p5 += vehicle.emissions_perKm_gPM2p5 * distance * nTrips * 2\n",
    "        self.model.emissions_PM10 += vehicle.emissions_perKm_gPM10 * distance * nTrips * 2\n",
    "        \n",
    "    def _record_road_impact(self, nTrips_total, damage_total, mat, amount, vehicle): \n",
    "        capacity = vehicle[f'capacity_modules_3D'] if mat == 'modules' else vehicle[f'capacity_{mat}'] * 0.3 \n",
    "\n",
    "        nTrips = math.ceil(amount / capacity)\n",
    "        nTrips_total.append(nTrips)\n",
    "\n",
    "        nAxels = vehicle.nAxels\n",
    "        weight = capacity / nAxels \n",
    "        damage = (weight ** 4) * nTrips \n",
    "        damage_total.append(damage)"
   ]
  },
  {
   "cell_type": "code",
   "execution_count": 100,
   "id": "f3f97134-978e-49db-9b40-25533ffdcff7",
   "metadata": {
    "tags": []
   },
   "outputs": [],
   "source": [
    "from mesa import Model\n",
    "from mesa.datacollection import DataCollector\n",
    "class Model(Model):\n",
    "    def __init__(self, parameters_dict): \n",
    "        '''create construction sites, hubs, and vehicles'''\n",
    "        super().__init__()\n",
    "        self.schedule = BaseScheduler(self)\n",
    "        self.emissions_s2h = 0\n",
    "        self.emissions_h2c = 0 \n",
    "        self.emissions_s2c = 0\n",
    "        self.emissions_d2h = 0\n",
    "        self.emissions_NOX = 0\n",
    "        self.emissions_PM2p5 = 0\n",
    "        self.emissions_PM10 = 0\n",
    "        self.emissions_per_material = {}\n",
    "        self.emissions_glass = {}\n",
    "        self.roads_used = gpd.read_file('data/data_cleaned/ams_roads_edges.shp')\n",
    "        self.roads_used['damage'] = 0 \n",
    "        self.roads_used['damage'] = self.roads_used['damage'].astype(float)\n",
    "        self.datacollector = DataCollector(\n",
    "            model_reporters = {\n",
    "                'emissions_s2h': lambda m: m.emissions_s2h, \n",
    "                'emissions_h2c': lambda m: m.emissions_h2c, \n",
    "                'emissions_s2c': lambda m: m.emissions_s2c, \n",
    "                'emissions_d2h': lambda m: m.emissions_d2h, \n",
    "                'emissions_total': lambda m: m.emissions_s2h + m.emissions_h2c + m.emissions_s2c + m.emissions_d2h,\n",
    "                'emissions_per_material': lambda m: dict(m.emissions_per_material), \n",
    "                'emissions_glass': lambda m: dict(m.emissions_glass),\n",
    "                'emissions_gNOX': lambda m: m.emissions_NOX, \n",
    "                'emissions_gPM2p5': lambda m: m.emissions_PM2p5, \n",
    "                'emissions_gPM10': lambda m: m.emissions_PM10\n",
    "            }\n",
    "        )\n",
    "        \n",
    "        self.load_data()\n",
    "        self.load_material_info()\n",
    "        self.add_parameters(parameters_dict) \n",
    "        \n",
    "        '''\n",
    "        DO NOT CHANGE ORDER OF AGENT CREATION BELOW. \n",
    "        od matrices (created externally in dataPrep.ipynb to save time) depends on \n",
    "        agent.unique_ids, which change if the order of agent creation is changed. \n",
    "        '''\n",
    "        self.create_constructionSites()\n",
    "        self.create_suppliers() \n",
    "        self.create_hubs()\n",
    "        \n",
    "        self.create_od_matrix_h2c()\n",
    "        self.create_od_matrix_h2h()\n",
    "        self.assign_hubs_to_sites()\n",
    "        self.assign_hubs_to_hubs()\n",
    "        \n",
    "        if self.circularity_type != 'none': \n",
    "            self.create_od_matrix_d2h()\n",
    "            self.assign_hubs_to_demolition_sites()\n",
    "                    \n",
    "    def load_data(self): \n",
    "        self.construction_sites_df = gpd.read_file('data/data_cleaned/construction_sites.shp')\n",
    "        self.hubs_df = gpd.read_file('data/data_cleaned/hubs.shp')\n",
    "        self.suppliers_df = gpd.read_file('data/data_cleaned/suppliers.shp')\n",
    "        self.demolition_sites_df = gpd.read_file('data/data_cleaned/demolition_sites.shp')\n",
    "        self.vehicles_info = pd.read_csv('data/data_cleaned/vehicles_info.csv')\n",
    "        self.vehicles_info_demSites = pd.read_csv('data/data_cleaned/vehicles_info_demSites.csv')\n",
    "        self.build_info = pd.read_csv('data/data_cleaned/buildingType_info.csv')\n",
    "        self.materials_logistics_info = pd.read_csv('data/data_cleaned/materials_logistics_info.csv')\n",
    "        self.materialNames_conversion = pd.read_csv('data/data_cleaned/materialNames_conversion.csv')\n",
    "        self.materials_list = list(self.build_info.material.unique())\n",
    "        self.road_matrix_h2hc = np.load('data/data_cleaned/roadOsmIds_matrix_h2hc.npy', allow_pickle=True)\n",
    "        self.road_matrix_d2h = np.load('data/data_cleaned/roadOsmIds_matrix_d2h.npy', allow_pickle=True)\n",
    "        self.road_matrix_s2h = np.load('data/data_cleaned/roadOsmIds_matrix_s2h.npy', allow_pickle=True)\n",
    "        self.road_matrix_s2c = np.load('data/data_cleaned/roadOsmIds_matrix_s2c.npy', allow_pickle=True)\n",
    "\n",
    "        self.construction_sites = []\n",
    "        self.hubs = []\n",
    "        self.suppliers = []\n",
    "        self.trucks_urban = []\n",
    "        self.vehicles_international = []\n",
    "        \n",
    "    def load_material_info(self): \n",
    "        df = self.materials_logistics_info\n",
    "        self.materials_forHubs = df[df.hub_usage == 'yes'].material.to_list()\n",
    "        self.materials_forHubs = self.materials_forHubs + ['modules']\n",
    "        self.materials_forSuppliers = df[df.hub_usage == 'no'].material.to_list()\n",
    "        \n",
    "    def add_parameters(self, parameters_dict): \n",
    "        self.network_type = parameters_dict['network_type']\n",
    "        self.truck_type = parameters_dict['truck_type']\n",
    "        self.biobased_type = parameters_dict['biobased_type']\n",
    "        self.modularity_type = parameters_dict['modularity_type']\n",
    "        self.hub_network = parameters_dict['hub_network']\n",
    "        self.circularity_type = parameters_dict['circularity_type']\n",
    "        self.model_boundary = parameters_dict['model_boundary']\n",
    "        self.parameters_dict = parameters_dict\n",
    "    \n",
    "    def create_constructionSites(self): \n",
    "        for i, row in self.construction_sites_df.iterrows(): \n",
    "            coords = (row.geometry.y, row.geometry.x)\n",
    "            site = ConstructionSite(row.unique_id, self, row.buildType, \n",
    "                                    coords, row.inA10, row.waterbound, \n",
    "                                    row.start_year, row.end_year, row.multiplier)\n",
    "            self.schedule.add(site)\n",
    "            self.construction_sites.append(site)\n",
    "            \n",
    "    def create_suppliers(self): \n",
    "        for i, row in self.suppliers_df.iterrows(): \n",
    "            coords = (row.geometry.y, row.geometry.x)\n",
    "            supplier = Supplier(row.unique_id, self, row.material, coords)\n",
    "            self.schedule.add(supplier)\n",
    "            self.suppliers.append(supplier)\n",
    "    \n",
    "    def create_hubs(self): \n",
    "        if self.hub_network == 'centralized': \n",
    "            hub_type = ['macro', 'macro_assembly']\n",
    "        elif self.hub_network == 'decentralized': \n",
    "            hub_type = ['micro', 'macro', 'macro_assembly']\n",
    "        elif self.hub_network == 'none': \n",
    "            hub_type = ['macro']\n",
    "        for i, row in self.hubs_df.iterrows(): \n",
    "            if row.hub_type in hub_type: \n",
    "                coords = (row.geometry.y, row.geometry.x)\n",
    "                hub = Hub(row.unique_id, self, row.hub_type, coords, row.inA10, row.waterbound)\n",
    "                self.schedule.add(hub)\n",
    "                self.hubs.append(hub)\n",
    "                \n",
    "    def get_capacity(self, network_type, truck_type): \n",
    "        '''capacity_dict = {'timber': 20, 'concrete': 25, ... }\n",
    "        emissions_perTonKm = 0.0009 (emissions per km for a particular vehicle)'''\n",
    "        v = self.vehicles_info.copy()\n",
    "        v = v[(v.transportation_network == network_type) & (v.vehicle_type == truck_type)]\n",
    "        capacity_dict = {}\n",
    "        for mat in self.materials_list + ['modules']: \n",
    "            capacity = v[f'capacity_{mat}'].iloc[0]\n",
    "            capacity_dict[mat] = capacity\n",
    "        emissions_perTonKm = v.emissions_perTonKm.iloc[0]\n",
    "        nAxels = v.nAxels.iloc[0]\n",
    "        return capacity_dict, emissions_perTonKm, nAxels\n",
    "    \n",
    "    # this needs to be changed to real distance od matrix \n",
    "    # add this in data prep \n",
    "    def create_od_matrix_h2c(self): \n",
    "        '''This od matrix was made in dataPrep.ipynb. The ids correspond to the \n",
    "        agent unique ids in the agent based model. If the input data for construction sites\n",
    "        and hubs changes, this od matrix needs to change accordingly in dataPrep.ipynb.'''\n",
    "        self.od_matrix_h2c = np.load('data/data_cleaned/od_matrix_h2c.npy')\n",
    "    \n",
    "    def create_od_matrix_h2h(self): \n",
    "        '''This od matrix was made in dataPrep.ipynb. The ids correspond to the \n",
    "        agent unique ids in the agent based model. If the input data for construction sites\n",
    "        and hubs changes, this od matrix needs to change accordingly in dataPrep.ipynb.'''\n",
    "        self.od_matrix_h2h = np.load('data/data_cleaned/od_matrix_h2h.npy')\n",
    "        \n",
    "    def create_od_matrix_d2h(self): \n",
    "        '''This od matrix was made in dataPrep.ipynb. The ids correspond to the \n",
    "        agent unique ids in the agent based model. If the input data for construction sites\n",
    "        and hubs changes, this od matrix needs to change accordingly in dataPrep.ipynb.'''\n",
    "        self.od_matrix_d2h = np.load('data/data_cleaned/od_matrix_d2h.npy')\n",
    "                \n",
    "    def assign_hubs_to_sites(self):\n",
    "        od = self.od_matrix_h2c\n",
    "        nMacroHubs = len([hub for hub in self.hubs if hub.hubType == 'macro'])\n",
    "        for site in self.construction_sites: \n",
    "            site_od = od[od[:, 1] == site.unique_id]\n",
    "            if self.hub_network == 'decentralized': \n",
    "                site.nearestHub_id = int(site_od[np.argmin(site_od[:, 2]), 0])\n",
    "                site.nearestHub_dist = site_od[np.argmin(site_od[:, 2]), 2]\n",
    "            site_od_macro = site_od[:nMacroHubs]\n",
    "            site.nearestMacroHub_id = int(site_od_macro[np.argmin(site_od_macro[:, 2]), 0])\n",
    "            site.nearestMacroHub_dist = site_od_macro[np.argmin(site_od_macro[:, 2]), 2]\n",
    "                        \n",
    "    def assign_hubs_to_hubs(self): \n",
    "        od = self.od_matrix_h2h\n",
    "        for hub in self.hubs: \n",
    "            hub_od = od[od[:, 1] == hub.unique_id]\n",
    "            hub.nearestMacroHub_id = int(hub_od[np.argmin(hub_od[:, 2])][0])\n",
    "            hub.nearestMacroHub_dist = hub_od[np.argmin(hub_od[:, 2])][2]\n",
    "            \n",
    "    def assign_hubs_to_demolition_sites(self): \n",
    "        od = self.od_matrix_d2h\n",
    "        def func(row): \n",
    "            unique_id = row.unique_id\n",
    "            site_od = od[od[:, 0] == unique_id]\n",
    "            # nearest hub out of all hubs\n",
    "            row['nearestHub_id'] = int(site_od[np.argmin(site_od[:, 2]), 1])\n",
    "            row['nearestHub_dist'] = site_od[np.argmin(site_od[:, 2]), 2]\n",
    "            # nearest macroHub\n",
    "            macroHubIds = [h.unique_id for h in self.hubs if h.hubType == 'macro']\n",
    "            site_od_macro = site_od[np.isin(site_od[:, 1], macroHubIds)]\n",
    "            row['nearestMacroHub_id'] = int(site_od_macro[np.argmin(site_od_macro[:, 2]), 1])\n",
    "            row['nearestMacroHub_dist'] = site_od_macro[np.argmin(site_od_macro[:, 2]), 2]\n",
    "            return row\n",
    "        self.demolition_sites_df = self.demolition_sites_df.apply(lambda row: func(row), axis=1)\n",
    "            \n",
    "    def step(self): # each model.step() is a year\n",
    "        self.year = self.schedule.steps + 2023\n",
    "        self.schedule.step()\n",
    "        self.calc_emissions()\n",
    "        self.datacollector.collect(self)\n",
    "    \n",
    "    def calc_emissions(self): \n",
    "        self.emissions = round(self.emissions_h2c + self.emissions_s2h + self.emissions_s2c + self.emissions_d2h)\n",
    "    \n",
    "    def visualize(self): \n",
    "        emissions_text = self.display_total_emissions()\n",
    "        results_df = self.make_results_df()\n",
    "        fig_emissions = self.display_emissions_chart()\n",
    "        fig_emissions_perMaterial = self.display_emissions_chart_byMaterial()\n",
    "        fig_materials_all = self.display_materials_chart(hub=False)\n",
    "        fig_materials_hubs = self.display_materials_chart(hub=True)\n",
    "        map_html = self.display_folium_html()\n",
    "\n",
    "        return emissions_text, fig_emissions, fig_emissions_perMaterial, fig_materials_all, fig_materials_hubs, map_html, results_df\n",
    "    \n",
    "    def make_results_forCaspar(self): \n",
    "        results_df = self.make_results_df()\n",
    "        shps_all = self.display_folium_html(getshps=True) # construction, demolition, hubs, suppliers, roadsUsed\n",
    "        emissions_df = self.display_emissions_chart(caspar=True)\n",
    "        emissions_perMaterial_df = self.display_emissions_chart_byMaterial(caspar=True)\n",
    "        tons_byMaterialType = self.display_materials_chart(caspar=True)[0]\n",
    "        tons_byCircularityType = self.display_materials_chart(caspar=True)[1]\n",
    "\n",
    "        return results_df, shps_all, emissions_df, emissions_perMaterial_df, tons_byMaterialType, tons_byCircularityType\n",
    "        \n",
    "    def make_results_df(self): \n",
    "        total_emissions = round(self.emissions_h2c + self.emissions_s2h + self.emissions_s2c + self.emissions_d2h)\n",
    "        roads_used = self.roads_used\n",
    "        total_distance_km_mra = self._calc_total_distance_km(roads_used)\n",
    "        results_dict = {\n",
    "            'result_name': ['co2', 'NOX', 'PM2.5', 'PM10', 'logistic movements'], \n",
    "            'value': [total_emissions, self.emissions_NOX, self.emissions_PM2p5, self.emissions_PM10, total_distance_km_mra], \n",
    "            'unit': ['tons', 'g', 'g', 'g', 'km']\n",
    "        }\n",
    "        results_df_model = pd.DataFrame(results_dict)\n",
    "        results_df_model['area'] = 'whole model'\n",
    "        \n",
    "        # make results for MRA, ZO \n",
    "        total_distance_km_mra = self._calc_total_distance_km(roads_used)\n",
    "        roads_used_zo = self._get_roads_used(zuidOost=True)\n",
    "        total_distance_km_zo = self._calc_total_distance_km(roads_used_zo)\n",
    "\n",
    "        results_df_mra = self._calc_emissions_from_totalDist(total_distance_km_mra, 'MRA')\n",
    "        results_df_zo = self._calc_emissions_from_totalDist(total_distance_km_zo, 'zuid-oost')\n",
    "        \n",
    "        results_df = pd.concat([results_df_model, results_df_mra, results_df_zo])\n",
    "        \n",
    "        return results_df\n",
    "    \n",
    "    def _calc_emissions_from_totalDist(self, total_distance_km, area_name): \n",
    "        emissions_co2 = total_distance_km * 0.001539 # tCO2 emissions per km for trucks\n",
    "        emissions_NOX = total_distance_km * 5.71 # gNOX per km\n",
    "        emissions_pm2p5 = total_distance_km * 0.01805 # gPM2.5 per km \n",
    "        emissions_pm10 = total_distance_km * 0.0361 # gPM10 per km\n",
    "        results_dict = {\n",
    "            'result_name': ['co2', 'NOX', 'PM2.5', 'PM10', 'logistic movements'], \n",
    "            'value': [emissions_co2, emissions_NOX, emissions_pm2p5, emissions_pm10, total_distance_km], \n",
    "            'unit': ['tons', 'g', 'g', 'g', 'km']\n",
    "        }\n",
    "        results_df = pd.DataFrame(results_dict)\n",
    "        results_df['area'] = area_name\n",
    "        return results_df\n",
    "    \n",
    "    def display_total_emissions(self, caspar=False): \n",
    "        total_emissions = round(self.emissions_h2c + self.emissions_s2h + self.emissions_s2c + self.emissions_d2h)\n",
    "        roads_used = self.roads_used\n",
    "        roads_used_zo = self._get_roads_used(zuidOost=True)\n",
    "        total_distance_km_mra = self._calc_total_distance_km(roads_used)\n",
    "        million = '' if total_distance_km_mra<1000000 else 'million '\n",
    "        total_distance_km_mra = total_distance_km_mra if total_distance_km_mra<1000000 else round(total_distance_km_mra/1000000,3)\n",
    "        total_distance_km_zo = self._calc_total_distance_km(roads_used_zo)\n",
    "        zuid_oost_text = self._make_zuidOost_text(total_distance_km_zo)\n",
    "        emissions_text = (\n",
    "            f'''\n",
    "            CO2 emissions (suppliers to construction sites): {round(self.emissions_s2c)} tCO2\n",
    "            CO2 emissions (suppliers to hubs): {round(self.emissions_s2h)} tCO2\n",
    "            CO2 emissions (demSites to hubs): {round(self.emissions_d2h)} tCO2\n",
    "            CO2 emissions (hubs to construction sites): {round(self.emissions_h2c)} tCO2\n",
    "            CO2 emissions (total): {total_emissions} tCO2\n",
    "            \n",
    "            NOX emissions (total): {round(self.emissions_NOX/1000000)} tNOX\n",
    "            PM2.5 emissions (total): {round(self.emissions_PM2p5/1000)} kg PM2.5\n",
    "            PM10 emissions (total): {round(self.emissions_PM10/1000)} kg PM10\n",
    "            \n",
    "            total logistics movements within MRA: {total_distance_km_mra} {million}km\n",
    "            \n",
    "            {zuid_oost_text}\n",
    "            '''\n",
    "        )\n",
    "\n",
    "        return emissions_text\n",
    "    \n",
    "    def _get_roads_used(self, zuidOost): \n",
    "        roads_used = self.roads_used \n",
    "        if zuidOost: \n",
    "            zuidOost = gpd.read_file('data/data_cleaned/zuidOost_buffer_500m.shp')\n",
    "            roads_used_zuidOost = gpd.sjoin(roads_used, zuidOost, predicate='intersects')\n",
    "            self.roads_used_zuidOost = roads_used_zuidOost\n",
    "            roads_used = roads_used_zuidOost\n",
    "        return roads_used\n",
    "    \n",
    "    def _calc_total_distance_km(self, roads_used):         \n",
    "        roads_used = roads_used.to_crs('EPSG:28992') \n",
    "        roads_used['distance_m'] = roads_used.geometry.length\n",
    "        roads_used['total_distance_m'] = roads_used.distance_m * roads_used.nTrips \n",
    "        total_distance_m = roads_used.total_distance_m.sum()\n",
    "        total_distance_km = round(total_distance_m / 1000)\n",
    "        return total_distance_km\n",
    "    \n",
    "    def _make_zuidOost_text(self, total_distance_km):\n",
    "        million = '' if total_distance_km<1000000 else 'million '\n",
    "        total_distance_km = total_distance_km if total_distance_km<1000000 else total_distance_km/1000000\n",
    "        if self.model_boundary == 'zuid-oost': \n",
    "            emissions_co2 = total_distance_km * 0.001539 # tCO2 emissions per km for trucks\n",
    "            emissions_NOX = total_distance_km * 5.71 # gNOX per km\n",
    "            emissions_pm2p5 = total_distance_km * 0.01805 # gPM2.5 per km \n",
    "            emissions_pm10 = total_distance_km * 0.0361 # gPM10 per km\n",
    "            text = f'''\n",
    "            Zuid-Oost results: \n",
    "            total logistics movements: {round(total_distance_km)} {million}km\n",
    "            CO2 emissions: {round(emissions_co2)} tCO2eq\n",
    "            NOX emissions: {round(emissions_NOX/1000000, 3)} tNOX\n",
    "            PM2.5 emissions: {round(emissions_pm2p5/1000, 3)} kg PM2.5\n",
    "            PM10 emissions: {round(emissions_pm10/1000, 3)} kg PM10\n",
    "            '''\n",
    "        else: \n",
    "            text = ''\n",
    "        return text\n",
    "        \n",
    "    def display_emissions_chart(self, caspar=False): \n",
    "        data = self.datacollector.get_model_vars_dataframe()\n",
    "        data = data.reset_index(names='step')\n",
    "        data.step = data.step.map(lambda x: x + 2023)\n",
    "        data.rename(columns={'step': 'year'}, inplace=True)\n",
    "        fig = px.line(data, x=\"year\", \n",
    "                      y=['emissions_s2c', 'emissions_s2h', 'emissions_d2h', 'emissions_h2c', 'emissions_total'], \n",
    "                      title='emissions')\n",
    "        fig.update_layout(height=500)  # or any desired height in pixels\n",
    "        \n",
    "        if caspar: \n",
    "            return data \n",
    "        else: \n",
    "            return fig\n",
    "    \n",
    "    def display_emissions_chart_byMaterial(self, caspar=False): \n",
    "        data = self.datacollector.get_model_vars_dataframe()\n",
    "        df = data.copy()\n",
    "        df = df[['emissions_per_material']]\n",
    "        df = df.explode('emissions_per_material').reset_index(names='step')\n",
    "        df = df.rename(columns={'emissions_per_material': 'material'})\n",
    "        df = df.dropna()\n",
    "        def get_emissions(row): \n",
    "            emissions_dict = data.iloc[row.step].emissions_per_material\n",
    "            row['emissions'] = emissions_dict[row.material]\n",
    "            return row\n",
    "        df = df.apply(lambda row: get_emissions(row), axis=1)\n",
    "\n",
    "        dfAdd = df[df.step == 1]\n",
    "        dfAdd.step = 0\n",
    "        dfAdd.emissions = 0\n",
    "        df = pd.concat([dfAdd, df])\n",
    "        df.step = df.step.map(lambda x: x + 2023)\n",
    "        df.rename(columns={'step': 'year'}, inplace=True)\n",
    "\n",
    "        fig = px.line(df, x='year', y='emissions', color='material', title='emissions per material')\n",
    "        fig.update_layout(height=500)\n",
    "\n",
    "        return df if caspar else fig\n",
    "    \n",
    "    def display_materials_chart(self, hub=False, caspar=False): \n",
    "        if hub: # display materials processed by hub(s)\n",
    "            s = '' if self.model_boundary == 'zuid-oost' else 's'\n",
    "            title_text = f'Materials processed by hub{s} in {self.model_boundary}'\n",
    "            df_mat, total_tons = self._make_df_materials(hub=True)\n",
    "            df_circ = self._make_df_circular(self.circularity_type, hub=True)\n",
    "        else: # display all materials \n",
    "            title_text = 'Material composition for buildings in the MRA'\n",
    "            df_mat, total_tons = self._make_df_materials(hub=False)\n",
    "            df_circ = self._make_df_circular(self.circularity_type, hub=False)\n",
    "        million = 'million ' if total_tons > 1000000 else ''\n",
    "        total_tons = round(total_tons) if total_tons < 1000000 else round(total_tons / 1000000, 3)\n",
    "        subtitle_text = f'total mass: {total_tons} {million}tons'\n",
    "        \n",
    "        fig_1 = px.pie(df_mat, values='tons', names='material', title='materials used')\n",
    "        fig_2 = px.pie(df_circ, values='tons', names='circular', title='materials used')\n",
    "\n",
    "        fig = make_subplots(rows=1, cols=2, \n",
    "                            subplot_titles=('by material type', 'by circularity type'),\n",
    "                            specs=[[{'type':'domain'}, {'type':'domain'}]])\n",
    "        fig.add_trace(fig_1.data[0], 1, 1)\n",
    "        fig.add_trace(fig_2.data[0], 1, 2)\n",
    "        fig.update_layout(title=f'{title_text}<br><sup>{subtitle_text}</sup>')\n",
    "        for annotation in fig['layout']['annotations']: \n",
    "            annotation['font'] = dict(size=12)  # Set to desired font size\n",
    "\n",
    "        return [df_mat, df_circ] if caspar else fig \n",
    "    \n",
    "    def _make_df_materials(self, hub=False): \n",
    "        dfs = []\n",
    "        materials_list = self.materials_forHubs if hub else self.materials_list + ['modules_2D', 'modules_3D'] \n",
    "        consite_agents_list = self.construction_sites if self.model_boundary != 'zuid-oost' else [c for c in self.construction_sites if c.nearestMacroHub_id == 374]\n",
    "        for site in consite_agents_list: \n",
    "            df = site.material_composition_df\n",
    "            df = df[df.material.isin(materials_list)]\n",
    "            df = df.groupby(by='material').sum(numeric_only=True).reset_index()\n",
    "            dfs.append(df)\n",
    "        df_all = pd.concat(dfs).groupby('material').sum(numeric_only=True).reset_index() \n",
    "        self.df_mat = df_all\n",
    "        total_tons = round(df_all.tons.sum())\n",
    "        return self.df_mat, total_tons\n",
    "    \n",
    "    def _make_df_circular(self, circularity_type, hub=False): \n",
    "        circularity_dict = {\n",
    "            'none': [], \n",
    "            'semi': ['non-structural'], \n",
    "            'full': ['non-structural', 'structural'], \n",
    "            'extreme': ['non-structural', 'structural', 'foundation']\n",
    "        }\n",
    "\n",
    "        dfs = []\n",
    "        materials_list = self.materials_forHubs + self.materials_forSuppliers\n",
    "        consite_agents_list = self.construction_sites\n",
    "        if self.model_boundary == 'zuid-oost': \n",
    "            sites_zo = [c for c in consite_agents_list if c.nearestMacroHub_id == 374]\n",
    "            consite_agents_list = sites_zo\n",
    "            if hub: \n",
    "                materials_list = self.materials_forHubs\n",
    "\n",
    "        for site in consite_agents_list: \n",
    "            df = site.material_composition_df\n",
    "            df = df[df.material.isin(materials_list)]\n",
    "            def decide_circularity(row): \n",
    "                bulk_materials = ['cement_cover-floor', 'concrete_in-situ', 'concrete_prefab', 'gravel_sand']\n",
    "                row['circular'] = 'circular' if row.structural_type in circularity_dict[circularity_type] else 'not circular'\n",
    "                if row.material in bulk_materials or row.material == 'modules': \n",
    "                    row['circular'] = 'not circular'\n",
    "                return row \n",
    "            df = df.apply(lambda row: decide_circularity(row), axis=1)\n",
    "            df = df.groupby('circular').sum(numeric_only=True).reset_index()\n",
    "            \n",
    "            dfs.append(df)\n",
    "            \n",
    "        self.df_circ = pd.concat(dfs).groupby('circular').sum(numeric_only=True).reset_index()\n",
    "        return self.df_circ\n",
    "        \n",
    "    def display_folium_html(self, getshps=False): \n",
    "\n",
    "        shps_forCaspar = {}\n",
    "\n",
    "        m = folium.Map([52.377231, 4.899288], zoom_start=11, tiles='cartodbpositron')\n",
    "        \n",
    "        # plot conditional shps \n",
    "        if self.network_type != 'road': \n",
    "            self._plotLines_nonRoad_networks(m, self.network_type)\n",
    "            shps_forCaspar['nonRoad_networks'] = self._plotLines_nonRoad_networks(m, self.network_type, getshp=True)\n",
    "        if self.hub_network != 'none':  \n",
    "            if self.circularity_type != 'none': \n",
    "                self.plotPoints_demSites(m, '#bababa', 1)\n",
    "                shps_forCaspar['demolition_sites'] = self.plotPoints_demSites(m, '#bababa', 1, getshp=True)\n",
    "        if self.model_boundary == 'zuid-oost': \n",
    "            self._plot_zuidOost_boundary(m)\n",
    "            shps_forCaspar['zuidOost_boundary'] = self._plot_zuidOost_boundary(m, getshp=True)\n",
    "        \n",
    "        # plot all shps\n",
    "        self.plotLines_roadsUsed(m, self.roads_used)\n",
    "        self.plotPoints(m, self.suppliers, 'grey', 1)\n",
    "        self.plotPoints(m, self.construction_sites, '#e8aa00', 1)\n",
    "        self.plotPoints(m, [h for h in self.hubs if h.hubType != 'micro' and h.clients], 'red', 8)\n",
    "        self.plotPoints(m, [h for h in self.hubs if h.hubType == 'micro' and h.clients], 'red', 4)\n",
    "        html_string = m._repr_html_()\n",
    "\n",
    "        # add shps to shps_forCaspar\n",
    "        shps_forCaspar['roadsUsed'] = self.plotLines_roadsUsed(m, self.roads_used, getshp=True)  \n",
    "        shps_forCaspar['construction_sites'] = self.plotPoints(m, self.construction_sites, '#e8aa00', 1, getshp=True)\n",
    "        shps_forCaspar['hubs_macro'] = self.plotPoints(m, [h for h in self.hubs if h.hubType != 'micro' and h.clients], 'red', 8, getshp=True)\n",
    "        shps_forCaspar['hubs_micro'] = self.plotPoints(m, [h for h in self.hubs if h.hubType == 'micro' and h.clients], 'red', 4, getshp=True)\n",
    "        shps_forCaspar['suppliers'] = self.plotPoints(m, self.suppliers, 'grey', 1, getshp=True)\n",
    "\n",
    "        return shps_forCaspar if getshps else html_string\n",
    "    \n",
    "    def _plotLines_nonRoad_networks(self, m, network_type, getshp=False): \n",
    "        color = 'blue' if network_type == 'water' else 'brown'\n",
    "        paths_plot = gpd.read_file(f'data/networkLines_{network_type}.gpkg') \n",
    "        \n",
    "        def style_function(feature):\n",
    "            return {'color': color,'weight': 2,'opacity': 1,'dashArray': '5, 5'}\n",
    "        \n",
    "        # print(f'adding {network_type} paths to map ...')\n",
    "        folium.GeoJson(paths_plot, style_function=style_function).add_to(m)\n",
    "\n",
    "        if getshp: \n",
    "            return paths_plot\n",
    "                \n",
    "    def plotPoints(self, m, agent_list, color, radius, getshp=False): \n",
    "        for agent in agent_list: \n",
    "            selected_color = color\n",
    "            folium.CircleMarker(\n",
    "                location=agent.coords, radius=radius, color=selected_color, fill_color=selected_color, \n",
    "                popup=folium.Popup(f'id: {agent.unique_id}', max_width=300, height=150), \n",
    "            ).add_to(m)\n",
    "\n",
    "        if getshp: \n",
    "            df = gpd.GeoDataFrame()\n",
    "            df['geometry'] = [Point(agent.coords[1], agent.coords[0]) for agent in agent_list]\n",
    "            return df\n",
    "\n",
    "    def plotLines_roadsUsed(self, m, df, getshp=False): \n",
    "        df = df[df.nTrips > 0]\n",
    "        df = df.sort_values(by='nTrips')\n",
    "        max_trips = df.nTrips.max()\n",
    "        quantiles = df.nTrips.quantile([0, 0.2, 0.4, 0.6, 0.8, 1]).tolist()\n",
    "        \n",
    "        def get_color(value):\n",
    "            if value <= quantiles[1]:  # corresponds to 0.2 quantile\n",
    "                return 'rgb(255, 200, 200)'  # Light Pink\n",
    "            elif value <= quantiles[2]:  # corresponds to 0.4 quantile\n",
    "                return 'rgb(255, 150, 150)'  # Hot Pink\n",
    "            elif value <= quantiles[3]:  # corresponds to 0.6 quantile\n",
    "                return 'rgb(255, 100, 100)'     # Orange Red\n",
    "            elif value <= quantiles[4]:  # corresponds to 0.8 quantile\n",
    "                return 'rgb(220, 50, 50)'   # Crimson\n",
    "            else:\n",
    "                return 'rgb(255, 0, 0)'     # Bright Red\n",
    "        def style_function(feature):\n",
    "            nTrips = feature['properties']['nTrips']\n",
    "            return {'weight': 2,'color': get_color(nTrips)}\n",
    "        def popup_function(feature):\n",
    "            nTrips = feature['properties']['nTrips']\n",
    "            return folium.Popup(f'nTrips: {nTrips}')\n",
    "        folium.GeoJson(\n",
    "            df, style_function=style_function,\n",
    "            tooltip=folium.GeoJsonTooltip(fields=['nTrips']),  # Add tooltip on hover\n",
    "            popup=folium.GeoJsonPopup(fields=['nTrips'])      # Add popup on click\n",
    "        ).add_to(m)\n",
    "\n",
    "        import branca\n",
    "        def rgb_to_hex(rgb):\n",
    "            return '#{:02x}{:02x}{:02x}'.format(*rgb)\n",
    "        colors_hex = [rgb_to_hex((255, 200, 200)), rgb_to_hex((255, 150, 150)), rgb_to_hex((255, 100, 100)), rgb_to_hex((220, 50, 50)), rgb_to_hex((255, 0, 0))]\n",
    "        quantiles = quantiles[1:]\n",
    "        colormap = branca.colormap.LinearColormap(colors=colors_hex, index=quantiles, vmin=quantiles[0], vmax=quantiles[-1])\n",
    "        colormap.caption = 'Number of Trips'\n",
    "        cmap_HTML = colormap._repr_html_()\n",
    "        cmap_HTML = cmap_HTML.replace('<svg height=\"50\" width=\"500\">', '<svg id=\"cmap\" height=\"50\" width=\"500\">', 1)\n",
    "        # m.get_root().header.add_child(folium.Element(cmap_style))\n",
    "        m.get_root().html.add_child(folium.Element(cmap_HTML))\n",
    "        folium.map.LayerControl().add_to(m)\n",
    "\n",
    "        if getshp: \n",
    "            return df\n",
    "        \n",
    "    def _calc_roadsUsed_zuidOost(self): \n",
    "        roads_used = self.roads_used \n",
    "        zuidOost = gpd.read_file('data/data_cleaned/zuidOost_buffer_500m.shp')\n",
    "        self.roads_used_zuidOost = gpd.sjoin(roads_used, zuidOost, predicate='intersects')\n",
    "               \n",
    "    def _plot_zuidOost_boundary(self, m, getshp=False): \n",
    "        zuidOost = gpd.read_file('data/data_cleaned/zuidOost_buffer_500m.shp')\n",
    "        folium.GeoJson(\n",
    "            zuidOost, style_function=lambda feature: {\n",
    "                'color': '#bababa', 'fillColor': '#bababa', 'fillOpacity': 0.2, \n",
    "                'dashArray': '5, 5', 'weight': 2\n",
    "            }\n",
    "        ).add_to(m)\n",
    "\n",
    "        if getshp: \n",
    "            return zuidOost\n",
    "                \n",
    "    def plotLines_s2h(self, m): \n",
    "        if self.hub_network != 'none': \n",
    "            macroHubs = [hub for hub in self.hubs if hub.hubType == 'macro']\n",
    "            for hub in self.hubs: \n",
    "                if hub.supplier_ids: \n",
    "                    for supplier_id in hub.supplier_ids: \n",
    "                        suppliers = self.suppliers if hub.hubType != 'micro' else macroHubs\n",
    "                        supplier = [s for s in suppliers if s.unique_id == supplier_id][0]\n",
    "                        folium.PolyLine(\n",
    "                            locations=[supplier.coords, hub.coords], weight=1, \n",
    "                            color='#454545', dash_array='5'\n",
    "                        ).add_to(m)\n",
    "        else: \n",
    "            sites = self.construction_sites\n",
    "            for supplier in self.suppliers: \n",
    "                for site in sites: \n",
    "                    folium.PolyLine(\n",
    "                        locations=[supplier.coords, site.coords], weight=1, \n",
    "                        color='#454545', dash_array='5'\n",
    "                    ).add_to(m)\n",
    "                \n",
    "    def plotLines_d2h(self, m):\n",
    "        for hub in self.hubs: \n",
    "            coords_hub = hub.coords\n",
    "            demSite_ids = list(set(hub.demolition_site_ids))\n",
    "            for demSite_id in demSite_ids:\n",
    "                demSites = self.demolition_sites_df\n",
    "                demSite = demSites[demSites.unique_id == demSite_id].iloc[0]\n",
    "                coord_demSite = (demSite.geometry.y, demSite.geometry.x)\n",
    "                folium.PolyLine(\n",
    "                    locations=[coords_hub, coord_demSite], weight=1, \n",
    "                    color='#454545', dash_array='5'\n",
    "                ).add_to(m)\n",
    "        \n",
    "    def plotPoints_demSites(self, m, color, radius, getshp=False): \n",
    "\n",
    "        demSite_ids_all = []\n",
    "\n",
    "        for hub in self.hubs: \n",
    "            demSite_ids = list(set(hub.demolition_site_ids))\n",
    "            demSite_ids_all.extend(demSite_ids)\n",
    "            for demSite_id in demSite_ids: \n",
    "                demSites = self.demolition_sites_df\n",
    "                demSite = demSites[demSites.unique_id == demSite_id].iloc[0]\n",
    "                coord = (demSite.geometry.y, demSite.geometry.x)\n",
    "                folium.CircleMarker(\n",
    "                    location=coord, radius=radius, color=color, \n",
    "                    popup=folium.Popup(f'id: {demSite.unique_id}', max_width=300)\n",
    "                ).add_to(m)\n",
    "\n",
    "        demSites_df = self.demolition_sites_df[self.demolition_sites_df.unique_id.isin(demSite_ids_all)]\n",
    "        if getshp:\n",
    "            return demSites_df\n",
    "                \n",
    "    def plotPoints_hubs(self, m, color):\n",
    "        self.plotPoints(m, [hub for hub in self.hubs if hub.hubType == 'macro'], color, 5)\n",
    "        if self.hub_network == 'decentralized': \n",
    "            for macroHub in [h for h in self.hubs if h.hubType == 'macro']: \n",
    "                for client_id in macroHub.client_ids: \n",
    "                    if client_id in [h.unique_id for h in self.hubs]: \n",
    "                        microHub = [h for h in self.hubs if h.unique_id == client_id][0]\n",
    "                        folium.CircleMarker(\n",
    "                            location=microHub.coords, radius=1, color=color, \n",
    "                            popup=folium.Popup(f'id: {microHub.unique_id}', max_width=300)\n",
    "                        ).add_to(m)"
   ]
  },
  {
   "cell_type": "code",
   "execution_count": 4,
   "id": "2c8ecf30-b515-45a5-b2d9-6a1f8a9f2697",
   "metadata": {
    "tags": []
   },
   "outputs": [
    {
     "data": {
      "application/vnd.jupyter.widget-view+json": {
       "model_id": "263be0967f244ed7935d2cfbfdca92d7",
       "version_major": 2,
       "version_minor": 0
      },
      "text/plain": [
       "Dropdown(description='hub_network', layout=Layout(width='500px'), options=('centralized', 'decentralized', 'no…"
      ]
     },
     "metadata": {},
     "output_type": "display_data"
    },
    {
     "data": {
      "application/vnd.jupyter.widget-view+json": {
       "model_id": "7fb8ddf159834840a1f7c07e972d8140",
       "version_major": 2,
       "version_minor": 0
      },
      "text/plain": [
       "Dropdown(description='network_type', layout=Layout(width='500px'), options=('road', 'water', 'rail'), style=De…"
      ]
     },
     "metadata": {},
     "output_type": "display_data"
    },
    {
     "data": {
      "application/vnd.jupyter.widget-view+json": {
       "model_id": "271010242e7949de9b892be5c09064f1",
       "version_major": 2,
       "version_minor": 0
      },
      "text/plain": [
       "Dropdown(description='truck_type', layout=Layout(width='500px'), options=('diesel', 'semi', 'electric'), style…"
      ]
     },
     "metadata": {},
     "output_type": "display_data"
    },
    {
     "data": {
      "application/vnd.jupyter.widget-view+json": {
       "model_id": "1b2626887f284288afd2aa1b5b965a98",
       "version_major": 2,
       "version_minor": 0
      },
      "text/plain": [
       "Dropdown(description='biobased_type', layout=Layout(width='500px'), options=('biobased non-structural + struct…"
      ]
     },
     "metadata": {},
     "output_type": "display_data"
    },
    {
     "data": {
      "application/vnd.jupyter.widget-view+json": {
       "model_id": "4b845a294c944ad6901873e01ef5a6c5",
       "version_major": 2,
       "version_minor": 0
      },
      "text/plain": [
       "Dropdown(description='modularity_type', layout=Layout(width='500px'), options=('conventional', 'non-structural…"
      ]
     },
     "metadata": {},
     "output_type": "display_data"
    },
    {
     "data": {
      "application/vnd.jupyter.widget-view+json": {
       "model_id": "d355d184afa04ee18782c17bb62f7c03",
       "version_major": 2,
       "version_minor": 0
      },
      "text/plain": [
       "Dropdown(description='circularity_type', layout=Layout(width='500px'), options=('circular non-structural eleme…"
      ]
     },
     "metadata": {},
     "output_type": "display_data"
    },
    {
     "data": {
      "application/vnd.jupyter.widget-view+json": {
       "model_id": "b388326e5ca04d52b6362903b9ff4623",
       "version_major": 2,
       "version_minor": 0
      },
      "text/plain": [
       "Dropdown(description='model_boundary', layout=Layout(width='500px'), options=('metropolitan region of amsterda…"
      ]
     },
     "metadata": {},
     "output_type": "display_data"
    }
   ],
   "source": [
    "import ipywidgets as widgets\n",
    "from IPython.display import display\n",
    "\n",
    "# Define your parameters and their options\n",
    "params_options = {\n",
    "    'hub_network': ['centralized', 'decentralized', 'none'],\n",
    "    'network_type': ['road', 'water', 'rail'],\n",
    "    'truck_type': ['diesel', 'semi', 'electric'],\n",
    "    'biobased_type': ['biobased non-structural + structural elements', \n",
    "                      'conventional'],\n",
    "    'modularity_type': ['conventional', 'non-structural modules'], \n",
    "    'circularity_type': ['circular non-structural elements', \n",
    "                      'circular non-structural + structural elements', \n",
    "                      'circular non-structural + structural + foundation elements', \n",
    "                      'conventional'],\n",
    "    'model_boundary': ['metropolitan region of amsterdam', 'zuid-oost']\n",
    "}\n",
    "\n",
    "params_conversion = {\n",
    "    'biobased_type': {'biobased non-structural + structural elements': 'full', \n",
    "                      'conventional': 'none'}, \n",
    "    'modularity_type': {'conventional': 'none', \n",
    "                        'non-structural modules': 'full'}, \n",
    "    'circularity_type': {'circular non-structural elements': 'semi', \n",
    "                      'circular non-structural + structural elements': 'full', \n",
    "                      'circular non-structural + structural + foundation elements': 'extreme', \n",
    "                      'conventional': 'none'}\n",
    "}\n",
    "\n",
    "def update_options_hub_network(change): \n",
    "    if change['new'] == 'none': \n",
    "        dropdowns['network_type'].options = ['road']\n",
    "        dropdowns['truck_type'].options = ['diesel']\n",
    "        dropdowns['circularity_type'].options = ['conventional']\n",
    "        dropdowns['modularity_type'].options = ['conventional']\n",
    "    else:\n",
    "        # Reset to original options if 'none' is not selected\n",
    "        dropdowns['network_type'].options = params_options['network_type']\n",
    "        dropdowns['truck_type'].options = params_options['truck_type']\n",
    "        dropdowns['circularity_type'].options = params_options['circularity_type']\n",
    "        \n",
    "def update_options_biobased_type(change): \n",
    "    if change['new'] == 'conventional': \n",
    "        dropdowns['modularity_type'].options = ['conventional']\n",
    "    else:\n",
    "        dropdowns['modularity_type'].options = params_options['modularity_type']\n",
    "\n",
    "def update_options_modularity_type(change): \n",
    "    if change['new'] == 'non-structural modules': \n",
    "        dropdowns['circularity_type'].options = [ \n",
    "            'circular non-structural + structural elements', \n",
    "            'circular non-structural + structural + foundation elements', \n",
    "            'conventional'\n",
    "        ]\n",
    "    else:\n",
    "        dropdowns['circularity_type'].options = params_options['circularity_type']\n",
    "\n",
    "def update_options_circularity_type(change): \n",
    "    if change['new'] == 'circular non-structural elements': \n",
    "        dropdowns['modularity_type'].options = ['conventional']\n",
    "    else:\n",
    "        dropdowns['modularity_type'].options = params_options['modularity_type']\n",
    "\n",
    "# Create dropdown widgets\n",
    "dropdowns = {}\n",
    "for key, options in params_options.items():\n",
    "    layout = widgets.Layout(width='500px')\n",
    "    style = {'description_width': '100px'}\n",
    "    dropdowns[key] = widgets.Dropdown(options=options, description=key, \n",
    "                                      value=options[0], layout=layout, style=style)\n",
    "    if key == 'hub_network': \n",
    "        dropdowns[key].observe(update_options_hub_network, names='value')\n",
    "    if key == 'biobased_type': \n",
    "        dropdowns[key].observe(update_options_biobased_type, names='value')\n",
    "    if key == 'modularity_type': \n",
    "        dropdowns[key].observe(update_options_modularity_type, names='value')\n",
    "    display(dropdowns[key])"
   ]
  },
  {
   "cell_type": "code",
   "execution_count": 5,
   "id": "622c534c-2f17-4944-8645-1c97093d691b",
   "metadata": {
    "tags": []
   },
   "outputs": [
    {
     "data": {
      "application/vnd.jupyter.widget-view+json": {
       "model_id": "e9990a272dc642809f3746d21b94cb2e",
       "version_major": 2,
       "version_minor": 0
      },
      "text/plain": [
       "Button(description='Run model!', style=ButtonStyle())"
      ]
     },
     "metadata": {},
     "output_type": "display_data"
    },
    {
     "data": {
      "application/vnd.jupyter.widget-view+json": {
       "model_id": "fc86b4d1a9d8421a80ff32ff5fa9c8b3",
       "version_major": 2,
       "version_minor": 0
      },
      "text/plain": [
       "Output()"
      ]
     },
     "metadata": {},
     "output_type": "display_data"
    },
    {
     "data": {
      "application/vnd.plotly.v1+json": {
       "config": {
        "plotlyServerURL": "https://plot.ly"
       },
       "data": [
        {
         "hovertemplate": "variable=emissions_s2c<br>year=%{x}<br>value=%{y}<extra></extra>",
         "legendgroup": "emissions_s2c",
         "line": {
          "color": "#636efa",
          "dash": "solid"
         },
         "marker": {
          "symbol": "circle"
         },
         "mode": "lines",
         "name": "emissions_s2c",
         "orientation": "v",
         "showlegend": true,
         "type": "scatter",
         "x": [
          2023,
          2024
         ],
         "xaxis": "x",
         "y": [
          0,
          761.5228473552575
         ],
         "yaxis": "y"
        },
        {
         "hovertemplate": "variable=emissions_s2h<br>year=%{x}<br>value=%{y}<extra></extra>",
         "legendgroup": "emissions_s2h",
         "line": {
          "color": "#EF553B",
          "dash": "solid"
         },
         "marker": {
          "symbol": "circle"
         },
         "mode": "lines",
         "name": "emissions_s2h",
         "orientation": "v",
         "showlegend": true,
         "type": "scatter",
         "x": [
          2023,
          2024
         ],
         "xaxis": "x",
         "y": [
          0,
          9837.840964846217
         ],
         "yaxis": "y"
        },
        {
         "hovertemplate": "variable=emissions_d2h<br>year=%{x}<br>value=%{y}<extra></extra>",
         "legendgroup": "emissions_d2h",
         "line": {
          "color": "#00cc96",
          "dash": "solid"
         },
         "marker": {
          "symbol": "circle"
         },
         "mode": "lines",
         "name": "emissions_d2h",
         "orientation": "v",
         "showlegend": true,
         "type": "scatter",
         "x": [
          2023,
          2024
         ],
         "xaxis": "x",
         "y": [
          0,
          778.6157974979998
         ],
         "yaxis": "y"
        },
        {
         "hovertemplate": "variable=emissions_h2c<br>year=%{x}<br>value=%{y}<extra></extra>",
         "legendgroup": "emissions_h2c",
         "line": {
          "color": "#ab63fa",
          "dash": "solid"
         },
         "marker": {
          "symbol": "circle"
         },
         "mode": "lines",
         "name": "emissions_h2c",
         "orientation": "v",
         "showlegend": true,
         "type": "scatter",
         "x": [
          2023,
          2024
         ],
         "xaxis": "x",
         "y": [
          0,
          212.93202018399987
         ],
         "yaxis": "y"
        },
        {
         "hovertemplate": "variable=emissions_total<br>year=%{x}<br>value=%{y}<extra></extra>",
         "legendgroup": "emissions_total",
         "line": {
          "color": "#FFA15A",
          "dash": "solid"
         },
         "marker": {
          "symbol": "circle"
         },
         "mode": "lines",
         "name": "emissions_total",
         "orientation": "v",
         "showlegend": true,
         "type": "scatter",
         "x": [
          2023,
          2024
         ],
         "xaxis": "x",
         "y": [
          0,
          11590.911629883474
         ],
         "yaxis": "y"
        }
       ],
       "layout": {
        "height": 500,
        "legend": {
         "title": {
          "text": "variable"
         },
         "tracegroupgap": 0
        },
        "template": {
         "data": {
          "bar": [
           {
            "error_x": {
             "color": "#2a3f5f"
            },
            "error_y": {
             "color": "#2a3f5f"
            },
            "marker": {
             "line": {
              "color": "#E5ECF6",
              "width": 0.5
             },
             "pattern": {
              "fillmode": "overlay",
              "size": 10,
              "solidity": 0.2
             }
            },
            "type": "bar"
           }
          ],
          "barpolar": [
           {
            "marker": {
             "line": {
              "color": "#E5ECF6",
              "width": 0.5
             },
             "pattern": {
              "fillmode": "overlay",
              "size": 10,
              "solidity": 0.2
             }
            },
            "type": "barpolar"
           }
          ],
          "carpet": [
           {
            "aaxis": {
             "endlinecolor": "#2a3f5f",
             "gridcolor": "white",
             "linecolor": "white",
             "minorgridcolor": "white",
             "startlinecolor": "#2a3f5f"
            },
            "baxis": {
             "endlinecolor": "#2a3f5f",
             "gridcolor": "white",
             "linecolor": "white",
             "minorgridcolor": "white",
             "startlinecolor": "#2a3f5f"
            },
            "type": "carpet"
           }
          ],
          "choropleth": [
           {
            "colorbar": {
             "outlinewidth": 0,
             "ticks": ""
            },
            "type": "choropleth"
           }
          ],
          "contour": [
           {
            "colorbar": {
             "outlinewidth": 0,
             "ticks": ""
            },
            "colorscale": [
             [
              0,
              "#0d0887"
             ],
             [
              0.1111111111111111,
              "#46039f"
             ],
             [
              0.2222222222222222,
              "#7201a8"
             ],
             [
              0.3333333333333333,
              "#9c179e"
             ],
             [
              0.4444444444444444,
              "#bd3786"
             ],
             [
              0.5555555555555556,
              "#d8576b"
             ],
             [
              0.6666666666666666,
              "#ed7953"
             ],
             [
              0.7777777777777778,
              "#fb9f3a"
             ],
             [
              0.8888888888888888,
              "#fdca26"
             ],
             [
              1,
              "#f0f921"
             ]
            ],
            "type": "contour"
           }
          ],
          "contourcarpet": [
           {
            "colorbar": {
             "outlinewidth": 0,
             "ticks": ""
            },
            "type": "contourcarpet"
           }
          ],
          "heatmap": [
           {
            "colorbar": {
             "outlinewidth": 0,
             "ticks": ""
            },
            "colorscale": [
             [
              0,
              "#0d0887"
             ],
             [
              0.1111111111111111,
              "#46039f"
             ],
             [
              0.2222222222222222,
              "#7201a8"
             ],
             [
              0.3333333333333333,
              "#9c179e"
             ],
             [
              0.4444444444444444,
              "#bd3786"
             ],
             [
              0.5555555555555556,
              "#d8576b"
             ],
             [
              0.6666666666666666,
              "#ed7953"
             ],
             [
              0.7777777777777778,
              "#fb9f3a"
             ],
             [
              0.8888888888888888,
              "#fdca26"
             ],
             [
              1,
              "#f0f921"
             ]
            ],
            "type": "heatmap"
           }
          ],
          "heatmapgl": [
           {
            "colorbar": {
             "outlinewidth": 0,
             "ticks": ""
            },
            "colorscale": [
             [
              0,
              "#0d0887"
             ],
             [
              0.1111111111111111,
              "#46039f"
             ],
             [
              0.2222222222222222,
              "#7201a8"
             ],
             [
              0.3333333333333333,
              "#9c179e"
             ],
             [
              0.4444444444444444,
              "#bd3786"
             ],
             [
              0.5555555555555556,
              "#d8576b"
             ],
             [
              0.6666666666666666,
              "#ed7953"
             ],
             [
              0.7777777777777778,
              "#fb9f3a"
             ],
             [
              0.8888888888888888,
              "#fdca26"
             ],
             [
              1,
              "#f0f921"
             ]
            ],
            "type": "heatmapgl"
           }
          ],
          "histogram": [
           {
            "marker": {
             "pattern": {
              "fillmode": "overlay",
              "size": 10,
              "solidity": 0.2
             }
            },
            "type": "histogram"
           }
          ],
          "histogram2d": [
           {
            "colorbar": {
             "outlinewidth": 0,
             "ticks": ""
            },
            "colorscale": [
             [
              0,
              "#0d0887"
             ],
             [
              0.1111111111111111,
              "#46039f"
             ],
             [
              0.2222222222222222,
              "#7201a8"
             ],
             [
              0.3333333333333333,
              "#9c179e"
             ],
             [
              0.4444444444444444,
              "#bd3786"
             ],
             [
              0.5555555555555556,
              "#d8576b"
             ],
             [
              0.6666666666666666,
              "#ed7953"
             ],
             [
              0.7777777777777778,
              "#fb9f3a"
             ],
             [
              0.8888888888888888,
              "#fdca26"
             ],
             [
              1,
              "#f0f921"
             ]
            ],
            "type": "histogram2d"
           }
          ],
          "histogram2dcontour": [
           {
            "colorbar": {
             "outlinewidth": 0,
             "ticks": ""
            },
            "colorscale": [
             [
              0,
              "#0d0887"
             ],
             [
              0.1111111111111111,
              "#46039f"
             ],
             [
              0.2222222222222222,
              "#7201a8"
             ],
             [
              0.3333333333333333,
              "#9c179e"
             ],
             [
              0.4444444444444444,
              "#bd3786"
             ],
             [
              0.5555555555555556,
              "#d8576b"
             ],
             [
              0.6666666666666666,
              "#ed7953"
             ],
             [
              0.7777777777777778,
              "#fb9f3a"
             ],
             [
              0.8888888888888888,
              "#fdca26"
             ],
             [
              1,
              "#f0f921"
             ]
            ],
            "type": "histogram2dcontour"
           }
          ],
          "mesh3d": [
           {
            "colorbar": {
             "outlinewidth": 0,
             "ticks": ""
            },
            "type": "mesh3d"
           }
          ],
          "parcoords": [
           {
            "line": {
             "colorbar": {
              "outlinewidth": 0,
              "ticks": ""
             }
            },
            "type": "parcoords"
           }
          ],
          "pie": [
           {
            "automargin": true,
            "type": "pie"
           }
          ],
          "scatter": [
           {
            "fillpattern": {
             "fillmode": "overlay",
             "size": 10,
             "solidity": 0.2
            },
            "type": "scatter"
           }
          ],
          "scatter3d": [
           {
            "line": {
             "colorbar": {
              "outlinewidth": 0,
              "ticks": ""
             }
            },
            "marker": {
             "colorbar": {
              "outlinewidth": 0,
              "ticks": ""
             }
            },
            "type": "scatter3d"
           }
          ],
          "scattercarpet": [
           {
            "marker": {
             "colorbar": {
              "outlinewidth": 0,
              "ticks": ""
             }
            },
            "type": "scattercarpet"
           }
          ],
          "scattergeo": [
           {
            "marker": {
             "colorbar": {
              "outlinewidth": 0,
              "ticks": ""
             }
            },
            "type": "scattergeo"
           }
          ],
          "scattergl": [
           {
            "marker": {
             "colorbar": {
              "outlinewidth": 0,
              "ticks": ""
             }
            },
            "type": "scattergl"
           }
          ],
          "scattermapbox": [
           {
            "marker": {
             "colorbar": {
              "outlinewidth": 0,
              "ticks": ""
             }
            },
            "type": "scattermapbox"
           }
          ],
          "scatterpolar": [
           {
            "marker": {
             "colorbar": {
              "outlinewidth": 0,
              "ticks": ""
             }
            },
            "type": "scatterpolar"
           }
          ],
          "scatterpolargl": [
           {
            "marker": {
             "colorbar": {
              "outlinewidth": 0,
              "ticks": ""
             }
            },
            "type": "scatterpolargl"
           }
          ],
          "scatterternary": [
           {
            "marker": {
             "colorbar": {
              "outlinewidth": 0,
              "ticks": ""
             }
            },
            "type": "scatterternary"
           }
          ],
          "surface": [
           {
            "colorbar": {
             "outlinewidth": 0,
             "ticks": ""
            },
            "colorscale": [
             [
              0,
              "#0d0887"
             ],
             [
              0.1111111111111111,
              "#46039f"
             ],
             [
              0.2222222222222222,
              "#7201a8"
             ],
             [
              0.3333333333333333,
              "#9c179e"
             ],
             [
              0.4444444444444444,
              "#bd3786"
             ],
             [
              0.5555555555555556,
              "#d8576b"
             ],
             [
              0.6666666666666666,
              "#ed7953"
             ],
             [
              0.7777777777777778,
              "#fb9f3a"
             ],
             [
              0.8888888888888888,
              "#fdca26"
             ],
             [
              1,
              "#f0f921"
             ]
            ],
            "type": "surface"
           }
          ],
          "table": [
           {
            "cells": {
             "fill": {
              "color": "#EBF0F8"
             },
             "line": {
              "color": "white"
             }
            },
            "header": {
             "fill": {
              "color": "#C8D4E3"
             },
             "line": {
              "color": "white"
             }
            },
            "type": "table"
           }
          ]
         },
         "layout": {
          "annotationdefaults": {
           "arrowcolor": "#2a3f5f",
           "arrowhead": 0,
           "arrowwidth": 1
          },
          "autotypenumbers": "strict",
          "coloraxis": {
           "colorbar": {
            "outlinewidth": 0,
            "ticks": ""
           }
          },
          "colorscale": {
           "diverging": [
            [
             0,
             "#8e0152"
            ],
            [
             0.1,
             "#c51b7d"
            ],
            [
             0.2,
             "#de77ae"
            ],
            [
             0.3,
             "#f1b6da"
            ],
            [
             0.4,
             "#fde0ef"
            ],
            [
             0.5,
             "#f7f7f7"
            ],
            [
             0.6,
             "#e6f5d0"
            ],
            [
             0.7,
             "#b8e186"
            ],
            [
             0.8,
             "#7fbc41"
            ],
            [
             0.9,
             "#4d9221"
            ],
            [
             1,
             "#276419"
            ]
           ],
           "sequential": [
            [
             0,
             "#0d0887"
            ],
            [
             0.1111111111111111,
             "#46039f"
            ],
            [
             0.2222222222222222,
             "#7201a8"
            ],
            [
             0.3333333333333333,
             "#9c179e"
            ],
            [
             0.4444444444444444,
             "#bd3786"
            ],
            [
             0.5555555555555556,
             "#d8576b"
            ],
            [
             0.6666666666666666,
             "#ed7953"
            ],
            [
             0.7777777777777778,
             "#fb9f3a"
            ],
            [
             0.8888888888888888,
             "#fdca26"
            ],
            [
             1,
             "#f0f921"
            ]
           ],
           "sequentialminus": [
            [
             0,
             "#0d0887"
            ],
            [
             0.1111111111111111,
             "#46039f"
            ],
            [
             0.2222222222222222,
             "#7201a8"
            ],
            [
             0.3333333333333333,
             "#9c179e"
            ],
            [
             0.4444444444444444,
             "#bd3786"
            ],
            [
             0.5555555555555556,
             "#d8576b"
            ],
            [
             0.6666666666666666,
             "#ed7953"
            ],
            [
             0.7777777777777778,
             "#fb9f3a"
            ],
            [
             0.8888888888888888,
             "#fdca26"
            ],
            [
             1,
             "#f0f921"
            ]
           ]
          },
          "colorway": [
           "#636efa",
           "#EF553B",
           "#00cc96",
           "#ab63fa",
           "#FFA15A",
           "#19d3f3",
           "#FF6692",
           "#B6E880",
           "#FF97FF",
           "#FECB52"
          ],
          "font": {
           "color": "#2a3f5f"
          },
          "geo": {
           "bgcolor": "white",
           "lakecolor": "white",
           "landcolor": "#E5ECF6",
           "showlakes": true,
           "showland": true,
           "subunitcolor": "white"
          },
          "hoverlabel": {
           "align": "left"
          },
          "hovermode": "closest",
          "mapbox": {
           "style": "light"
          },
          "paper_bgcolor": "white",
          "plot_bgcolor": "#E5ECF6",
          "polar": {
           "angularaxis": {
            "gridcolor": "white",
            "linecolor": "white",
            "ticks": ""
           },
           "bgcolor": "#E5ECF6",
           "radialaxis": {
            "gridcolor": "white",
            "linecolor": "white",
            "ticks": ""
           }
          },
          "scene": {
           "xaxis": {
            "backgroundcolor": "#E5ECF6",
            "gridcolor": "white",
            "gridwidth": 2,
            "linecolor": "white",
            "showbackground": true,
            "ticks": "",
            "zerolinecolor": "white"
           },
           "yaxis": {
            "backgroundcolor": "#E5ECF6",
            "gridcolor": "white",
            "gridwidth": 2,
            "linecolor": "white",
            "showbackground": true,
            "ticks": "",
            "zerolinecolor": "white"
           },
           "zaxis": {
            "backgroundcolor": "#E5ECF6",
            "gridcolor": "white",
            "gridwidth": 2,
            "linecolor": "white",
            "showbackground": true,
            "ticks": "",
            "zerolinecolor": "white"
           }
          },
          "shapedefaults": {
           "line": {
            "color": "#2a3f5f"
           }
          },
          "ternary": {
           "aaxis": {
            "gridcolor": "white",
            "linecolor": "white",
            "ticks": ""
           },
           "baxis": {
            "gridcolor": "white",
            "linecolor": "white",
            "ticks": ""
           },
           "bgcolor": "#E5ECF6",
           "caxis": {
            "gridcolor": "white",
            "linecolor": "white",
            "ticks": ""
           }
          },
          "title": {
           "x": 0.05
          },
          "xaxis": {
           "automargin": true,
           "gridcolor": "white",
           "linecolor": "white",
           "ticks": "",
           "title": {
            "standoff": 15
           },
           "zerolinecolor": "white",
           "zerolinewidth": 2
          },
          "yaxis": {
           "automargin": true,
           "gridcolor": "white",
           "linecolor": "white",
           "ticks": "",
           "title": {
            "standoff": 15
           },
           "zerolinecolor": "white",
           "zerolinewidth": 2
          }
         }
        },
        "title": {
         "text": "emissions"
        },
        "xaxis": {
         "anchor": "y",
         "domain": [
          0,
          1
         ],
         "title": {
          "text": "year"
         }
        },
        "yaxis": {
         "anchor": "x",
         "domain": [
          0,
          1
         ],
         "title": {
          "text": "value"
         }
        }
       }
      }
     },
     "metadata": {},
     "output_type": "display_data"
    },
    {
     "data": {
      "application/vnd.plotly.v1+json": {
       "config": {
        "plotlyServerURL": "https://plot.ly"
       },
       "data": [
        {
         "domain": {
          "x": [
           0,
           0.45
          ],
          "y": [
           0,
           1
          ]
         },
         "hovertemplate": "material=%{label}<br>tons=%{value}<extra></extra>",
         "labels": [
          "biobased",
          "concrete_in-situ",
          "concrete_prefab",
          "furnishing_stone",
          "glass",
          "gravel_sand",
          "steel",
          "timber"
         ],
         "legendgroup": "",
         "name": "",
         "showlegend": true,
         "type": "pie",
         "values": [
          1085954.6239852891,
          1188918.5304503567,
          252856.04728469515,
          102707.51484127098,
          767615.5774754577,
          56790.559735015464,
          155372.026545746,
          1549871.6728146242
         ]
        },
        {
         "domain": {
          "x": [
           0.55,
           1
          ],
          "y": [
           0,
           1
          ]
         },
         "hovertemplate": "circular=%{label}<br>tons=%{value}<extra></extra>",
         "labels": [
          "circular",
          "not circular"
         ],
         "legendgroup": "",
         "name": "",
         "showlegend": true,
         "type": "pie",
         "values": [
          1979547.6839088353,
          3180538.8692236203
         ]
        }
       ],
       "layout": {
        "annotations": [
         {
          "font": {
           "size": 12
          },
          "showarrow": false,
          "text": "by material type",
          "x": 0.225,
          "xanchor": "center",
          "xref": "paper",
          "y": 1,
          "yanchor": "bottom",
          "yref": "paper"
         },
         {
          "font": {
           "size": 12
          },
          "showarrow": false,
          "text": "by circularity type",
          "x": 0.775,
          "xanchor": "center",
          "xref": "paper",
          "y": 1,
          "yanchor": "bottom",
          "yref": "paper"
         }
        ],
        "template": {
         "data": {
          "bar": [
           {
            "error_x": {
             "color": "#2a3f5f"
            },
            "error_y": {
             "color": "#2a3f5f"
            },
            "marker": {
             "line": {
              "color": "#E5ECF6",
              "width": 0.5
             },
             "pattern": {
              "fillmode": "overlay",
              "size": 10,
              "solidity": 0.2
             }
            },
            "type": "bar"
           }
          ],
          "barpolar": [
           {
            "marker": {
             "line": {
              "color": "#E5ECF6",
              "width": 0.5
             },
             "pattern": {
              "fillmode": "overlay",
              "size": 10,
              "solidity": 0.2
             }
            },
            "type": "barpolar"
           }
          ],
          "carpet": [
           {
            "aaxis": {
             "endlinecolor": "#2a3f5f",
             "gridcolor": "white",
             "linecolor": "white",
             "minorgridcolor": "white",
             "startlinecolor": "#2a3f5f"
            },
            "baxis": {
             "endlinecolor": "#2a3f5f",
             "gridcolor": "white",
             "linecolor": "white",
             "minorgridcolor": "white",
             "startlinecolor": "#2a3f5f"
            },
            "type": "carpet"
           }
          ],
          "choropleth": [
           {
            "colorbar": {
             "outlinewidth": 0,
             "ticks": ""
            },
            "type": "choropleth"
           }
          ],
          "contour": [
           {
            "colorbar": {
             "outlinewidth": 0,
             "ticks": ""
            },
            "colorscale": [
             [
              0,
              "#0d0887"
             ],
             [
              0.1111111111111111,
              "#46039f"
             ],
             [
              0.2222222222222222,
              "#7201a8"
             ],
             [
              0.3333333333333333,
              "#9c179e"
             ],
             [
              0.4444444444444444,
              "#bd3786"
             ],
             [
              0.5555555555555556,
              "#d8576b"
             ],
             [
              0.6666666666666666,
              "#ed7953"
             ],
             [
              0.7777777777777778,
              "#fb9f3a"
             ],
             [
              0.8888888888888888,
              "#fdca26"
             ],
             [
              1,
              "#f0f921"
             ]
            ],
            "type": "contour"
           }
          ],
          "contourcarpet": [
           {
            "colorbar": {
             "outlinewidth": 0,
             "ticks": ""
            },
            "type": "contourcarpet"
           }
          ],
          "heatmap": [
           {
            "colorbar": {
             "outlinewidth": 0,
             "ticks": ""
            },
            "colorscale": [
             [
              0,
              "#0d0887"
             ],
             [
              0.1111111111111111,
              "#46039f"
             ],
             [
              0.2222222222222222,
              "#7201a8"
             ],
             [
              0.3333333333333333,
              "#9c179e"
             ],
             [
              0.4444444444444444,
              "#bd3786"
             ],
             [
              0.5555555555555556,
              "#d8576b"
             ],
             [
              0.6666666666666666,
              "#ed7953"
             ],
             [
              0.7777777777777778,
              "#fb9f3a"
             ],
             [
              0.8888888888888888,
              "#fdca26"
             ],
             [
              1,
              "#f0f921"
             ]
            ],
            "type": "heatmap"
           }
          ],
          "heatmapgl": [
           {
            "colorbar": {
             "outlinewidth": 0,
             "ticks": ""
            },
            "colorscale": [
             [
              0,
              "#0d0887"
             ],
             [
              0.1111111111111111,
              "#46039f"
             ],
             [
              0.2222222222222222,
              "#7201a8"
             ],
             [
              0.3333333333333333,
              "#9c179e"
             ],
             [
              0.4444444444444444,
              "#bd3786"
             ],
             [
              0.5555555555555556,
              "#d8576b"
             ],
             [
              0.6666666666666666,
              "#ed7953"
             ],
             [
              0.7777777777777778,
              "#fb9f3a"
             ],
             [
              0.8888888888888888,
              "#fdca26"
             ],
             [
              1,
              "#f0f921"
             ]
            ],
            "type": "heatmapgl"
           }
          ],
          "histogram": [
           {
            "marker": {
             "pattern": {
              "fillmode": "overlay",
              "size": 10,
              "solidity": 0.2
             }
            },
            "type": "histogram"
           }
          ],
          "histogram2d": [
           {
            "colorbar": {
             "outlinewidth": 0,
             "ticks": ""
            },
            "colorscale": [
             [
              0,
              "#0d0887"
             ],
             [
              0.1111111111111111,
              "#46039f"
             ],
             [
              0.2222222222222222,
              "#7201a8"
             ],
             [
              0.3333333333333333,
              "#9c179e"
             ],
             [
              0.4444444444444444,
              "#bd3786"
             ],
             [
              0.5555555555555556,
              "#d8576b"
             ],
             [
              0.6666666666666666,
              "#ed7953"
             ],
             [
              0.7777777777777778,
              "#fb9f3a"
             ],
             [
              0.8888888888888888,
              "#fdca26"
             ],
             [
              1,
              "#f0f921"
             ]
            ],
            "type": "histogram2d"
           }
          ],
          "histogram2dcontour": [
           {
            "colorbar": {
             "outlinewidth": 0,
             "ticks": ""
            },
            "colorscale": [
             [
              0,
              "#0d0887"
             ],
             [
              0.1111111111111111,
              "#46039f"
             ],
             [
              0.2222222222222222,
              "#7201a8"
             ],
             [
              0.3333333333333333,
              "#9c179e"
             ],
             [
              0.4444444444444444,
              "#bd3786"
             ],
             [
              0.5555555555555556,
              "#d8576b"
             ],
             [
              0.6666666666666666,
              "#ed7953"
             ],
             [
              0.7777777777777778,
              "#fb9f3a"
             ],
             [
              0.8888888888888888,
              "#fdca26"
             ],
             [
              1,
              "#f0f921"
             ]
            ],
            "type": "histogram2dcontour"
           }
          ],
          "mesh3d": [
           {
            "colorbar": {
             "outlinewidth": 0,
             "ticks": ""
            },
            "type": "mesh3d"
           }
          ],
          "parcoords": [
           {
            "line": {
             "colorbar": {
              "outlinewidth": 0,
              "ticks": ""
             }
            },
            "type": "parcoords"
           }
          ],
          "pie": [
           {
            "automargin": true,
            "type": "pie"
           }
          ],
          "scatter": [
           {
            "fillpattern": {
             "fillmode": "overlay",
             "size": 10,
             "solidity": 0.2
            },
            "type": "scatter"
           }
          ],
          "scatter3d": [
           {
            "line": {
             "colorbar": {
              "outlinewidth": 0,
              "ticks": ""
             }
            },
            "marker": {
             "colorbar": {
              "outlinewidth": 0,
              "ticks": ""
             }
            },
            "type": "scatter3d"
           }
          ],
          "scattercarpet": [
           {
            "marker": {
             "colorbar": {
              "outlinewidth": 0,
              "ticks": ""
             }
            },
            "type": "scattercarpet"
           }
          ],
          "scattergeo": [
           {
            "marker": {
             "colorbar": {
              "outlinewidth": 0,
              "ticks": ""
             }
            },
            "type": "scattergeo"
           }
          ],
          "scattergl": [
           {
            "marker": {
             "colorbar": {
              "outlinewidth": 0,
              "ticks": ""
             }
            },
            "type": "scattergl"
           }
          ],
          "scattermapbox": [
           {
            "marker": {
             "colorbar": {
              "outlinewidth": 0,
              "ticks": ""
             }
            },
            "type": "scattermapbox"
           }
          ],
          "scatterpolar": [
           {
            "marker": {
             "colorbar": {
              "outlinewidth": 0,
              "ticks": ""
             }
            },
            "type": "scatterpolar"
           }
          ],
          "scatterpolargl": [
           {
            "marker": {
             "colorbar": {
              "outlinewidth": 0,
              "ticks": ""
             }
            },
            "type": "scatterpolargl"
           }
          ],
          "scatterternary": [
           {
            "marker": {
             "colorbar": {
              "outlinewidth": 0,
              "ticks": ""
             }
            },
            "type": "scatterternary"
           }
          ],
          "surface": [
           {
            "colorbar": {
             "outlinewidth": 0,
             "ticks": ""
            },
            "colorscale": [
             [
              0,
              "#0d0887"
             ],
             [
              0.1111111111111111,
              "#46039f"
             ],
             [
              0.2222222222222222,
              "#7201a8"
             ],
             [
              0.3333333333333333,
              "#9c179e"
             ],
             [
              0.4444444444444444,
              "#bd3786"
             ],
             [
              0.5555555555555556,
              "#d8576b"
             ],
             [
              0.6666666666666666,
              "#ed7953"
             ],
             [
              0.7777777777777778,
              "#fb9f3a"
             ],
             [
              0.8888888888888888,
              "#fdca26"
             ],
             [
              1,
              "#f0f921"
             ]
            ],
            "type": "surface"
           }
          ],
          "table": [
           {
            "cells": {
             "fill": {
              "color": "#EBF0F8"
             },
             "line": {
              "color": "white"
             }
            },
            "header": {
             "fill": {
              "color": "#C8D4E3"
             },
             "line": {
              "color": "white"
             }
            },
            "type": "table"
           }
          ]
         },
         "layout": {
          "annotationdefaults": {
           "arrowcolor": "#2a3f5f",
           "arrowhead": 0,
           "arrowwidth": 1
          },
          "autotypenumbers": "strict",
          "coloraxis": {
           "colorbar": {
            "outlinewidth": 0,
            "ticks": ""
           }
          },
          "colorscale": {
           "diverging": [
            [
             0,
             "#8e0152"
            ],
            [
             0.1,
             "#c51b7d"
            ],
            [
             0.2,
             "#de77ae"
            ],
            [
             0.3,
             "#f1b6da"
            ],
            [
             0.4,
             "#fde0ef"
            ],
            [
             0.5,
             "#f7f7f7"
            ],
            [
             0.6,
             "#e6f5d0"
            ],
            [
             0.7,
             "#b8e186"
            ],
            [
             0.8,
             "#7fbc41"
            ],
            [
             0.9,
             "#4d9221"
            ],
            [
             1,
             "#276419"
            ]
           ],
           "sequential": [
            [
             0,
             "#0d0887"
            ],
            [
             0.1111111111111111,
             "#46039f"
            ],
            [
             0.2222222222222222,
             "#7201a8"
            ],
            [
             0.3333333333333333,
             "#9c179e"
            ],
            [
             0.4444444444444444,
             "#bd3786"
            ],
            [
             0.5555555555555556,
             "#d8576b"
            ],
            [
             0.6666666666666666,
             "#ed7953"
            ],
            [
             0.7777777777777778,
             "#fb9f3a"
            ],
            [
             0.8888888888888888,
             "#fdca26"
            ],
            [
             1,
             "#f0f921"
            ]
           ],
           "sequentialminus": [
            [
             0,
             "#0d0887"
            ],
            [
             0.1111111111111111,
             "#46039f"
            ],
            [
             0.2222222222222222,
             "#7201a8"
            ],
            [
             0.3333333333333333,
             "#9c179e"
            ],
            [
             0.4444444444444444,
             "#bd3786"
            ],
            [
             0.5555555555555556,
             "#d8576b"
            ],
            [
             0.6666666666666666,
             "#ed7953"
            ],
            [
             0.7777777777777778,
             "#fb9f3a"
            ],
            [
             0.8888888888888888,
             "#fdca26"
            ],
            [
             1,
             "#f0f921"
            ]
           ]
          },
          "colorway": [
           "#636efa",
           "#EF553B",
           "#00cc96",
           "#ab63fa",
           "#FFA15A",
           "#19d3f3",
           "#FF6692",
           "#B6E880",
           "#FF97FF",
           "#FECB52"
          ],
          "font": {
           "color": "#2a3f5f"
          },
          "geo": {
           "bgcolor": "white",
           "lakecolor": "white",
           "landcolor": "#E5ECF6",
           "showlakes": true,
           "showland": true,
           "subunitcolor": "white"
          },
          "hoverlabel": {
           "align": "left"
          },
          "hovermode": "closest",
          "mapbox": {
           "style": "light"
          },
          "paper_bgcolor": "white",
          "plot_bgcolor": "#E5ECF6",
          "polar": {
           "angularaxis": {
            "gridcolor": "white",
            "linecolor": "white",
            "ticks": ""
           },
           "bgcolor": "#E5ECF6",
           "radialaxis": {
            "gridcolor": "white",
            "linecolor": "white",
            "ticks": ""
           }
          },
          "scene": {
           "xaxis": {
            "backgroundcolor": "#E5ECF6",
            "gridcolor": "white",
            "gridwidth": 2,
            "linecolor": "white",
            "showbackground": true,
            "ticks": "",
            "zerolinecolor": "white"
           },
           "yaxis": {
            "backgroundcolor": "#E5ECF6",
            "gridcolor": "white",
            "gridwidth": 2,
            "linecolor": "white",
            "showbackground": true,
            "ticks": "",
            "zerolinecolor": "white"
           },
           "zaxis": {
            "backgroundcolor": "#E5ECF6",
            "gridcolor": "white",
            "gridwidth": 2,
            "linecolor": "white",
            "showbackground": true,
            "ticks": "",
            "zerolinecolor": "white"
           }
          },
          "shapedefaults": {
           "line": {
            "color": "#2a3f5f"
           }
          },
          "ternary": {
           "aaxis": {
            "gridcolor": "white",
            "linecolor": "white",
            "ticks": ""
           },
           "baxis": {
            "gridcolor": "white",
            "linecolor": "white",
            "ticks": ""
           },
           "bgcolor": "#E5ECF6",
           "caxis": {
            "gridcolor": "white",
            "linecolor": "white",
            "ticks": ""
           }
          },
          "title": {
           "x": 0.05
          },
          "xaxis": {
           "automargin": true,
           "gridcolor": "white",
           "linecolor": "white",
           "ticks": "",
           "title": {
            "standoff": 15
           },
           "zerolinecolor": "white",
           "zerolinewidth": 2
          },
          "yaxis": {
           "automargin": true,
           "gridcolor": "white",
           "linecolor": "white",
           "ticks": "",
           "title": {
            "standoff": 15
           },
           "zerolinecolor": "white",
           "zerolinewidth": 2
          }
         }
        },
        "title": {
         "text": "Material composition for buildings in the MRA<br><sup>total mass: 5.16 million tons</sup>"
        }
       }
      }
     },
     "metadata": {},
     "output_type": "display_data"
    },
    {
     "data": {
      "application/vnd.plotly.v1+json": {
       "config": {
        "plotlyServerURL": "https://plot.ly"
       },
       "data": [
        {
         "domain": {
          "x": [
           0,
           0.45
          ],
          "y": [
           0,
           1
          ]
         },
         "hovertemplate": "material=%{label}<br>tons=%{value}<extra></extra>",
         "labels": [
          "biobased",
          "furnishing_stone",
          "glass",
          "steel",
          "timber"
         ],
         "legendgroup": "",
         "name": "",
         "showlegend": true,
         "type": "pie",
         "values": [
          1085954.6239852891,
          102707.51484127098,
          767615.5774754577,
          155372.026545746,
          1549871.6728146242
         ]
        },
        {
         "domain": {
          "x": [
           0.55,
           1
          ],
          "y": [
           0,
           1
          ]
         },
         "hovertemplate": "circular=%{label}<br>tons=%{value}<extra></extra>",
         "labels": [
          "circular",
          "not circular"
         ],
         "legendgroup": "",
         "name": "",
         "showlegend": true,
         "type": "pie",
         "values": [
          1979547.6839088353,
          3180538.8692236203
         ]
        }
       ],
       "layout": {
        "annotations": [
         {
          "font": {
           "size": 12
          },
          "showarrow": false,
          "text": "by material type",
          "x": 0.225,
          "xanchor": "center",
          "xref": "paper",
          "y": 1,
          "yanchor": "bottom",
          "yref": "paper"
         },
         {
          "font": {
           "size": 12
          },
          "showarrow": false,
          "text": "by circularity type",
          "x": 0.775,
          "xanchor": "center",
          "xref": "paper",
          "y": 1,
          "yanchor": "bottom",
          "yref": "paper"
         }
        ],
        "template": {
         "data": {
          "bar": [
           {
            "error_x": {
             "color": "#2a3f5f"
            },
            "error_y": {
             "color": "#2a3f5f"
            },
            "marker": {
             "line": {
              "color": "#E5ECF6",
              "width": 0.5
             },
             "pattern": {
              "fillmode": "overlay",
              "size": 10,
              "solidity": 0.2
             }
            },
            "type": "bar"
           }
          ],
          "barpolar": [
           {
            "marker": {
             "line": {
              "color": "#E5ECF6",
              "width": 0.5
             },
             "pattern": {
              "fillmode": "overlay",
              "size": 10,
              "solidity": 0.2
             }
            },
            "type": "barpolar"
           }
          ],
          "carpet": [
           {
            "aaxis": {
             "endlinecolor": "#2a3f5f",
             "gridcolor": "white",
             "linecolor": "white",
             "minorgridcolor": "white",
             "startlinecolor": "#2a3f5f"
            },
            "baxis": {
             "endlinecolor": "#2a3f5f",
             "gridcolor": "white",
             "linecolor": "white",
             "minorgridcolor": "white",
             "startlinecolor": "#2a3f5f"
            },
            "type": "carpet"
           }
          ],
          "choropleth": [
           {
            "colorbar": {
             "outlinewidth": 0,
             "ticks": ""
            },
            "type": "choropleth"
           }
          ],
          "contour": [
           {
            "colorbar": {
             "outlinewidth": 0,
             "ticks": ""
            },
            "colorscale": [
             [
              0,
              "#0d0887"
             ],
             [
              0.1111111111111111,
              "#46039f"
             ],
             [
              0.2222222222222222,
              "#7201a8"
             ],
             [
              0.3333333333333333,
              "#9c179e"
             ],
             [
              0.4444444444444444,
              "#bd3786"
             ],
             [
              0.5555555555555556,
              "#d8576b"
             ],
             [
              0.6666666666666666,
              "#ed7953"
             ],
             [
              0.7777777777777778,
              "#fb9f3a"
             ],
             [
              0.8888888888888888,
              "#fdca26"
             ],
             [
              1,
              "#f0f921"
             ]
            ],
            "type": "contour"
           }
          ],
          "contourcarpet": [
           {
            "colorbar": {
             "outlinewidth": 0,
             "ticks": ""
            },
            "type": "contourcarpet"
           }
          ],
          "heatmap": [
           {
            "colorbar": {
             "outlinewidth": 0,
             "ticks": ""
            },
            "colorscale": [
             [
              0,
              "#0d0887"
             ],
             [
              0.1111111111111111,
              "#46039f"
             ],
             [
              0.2222222222222222,
              "#7201a8"
             ],
             [
              0.3333333333333333,
              "#9c179e"
             ],
             [
              0.4444444444444444,
              "#bd3786"
             ],
             [
              0.5555555555555556,
              "#d8576b"
             ],
             [
              0.6666666666666666,
              "#ed7953"
             ],
             [
              0.7777777777777778,
              "#fb9f3a"
             ],
             [
              0.8888888888888888,
              "#fdca26"
             ],
             [
              1,
              "#f0f921"
             ]
            ],
            "type": "heatmap"
           }
          ],
          "heatmapgl": [
           {
            "colorbar": {
             "outlinewidth": 0,
             "ticks": ""
            },
            "colorscale": [
             [
              0,
              "#0d0887"
             ],
             [
              0.1111111111111111,
              "#46039f"
             ],
             [
              0.2222222222222222,
              "#7201a8"
             ],
             [
              0.3333333333333333,
              "#9c179e"
             ],
             [
              0.4444444444444444,
              "#bd3786"
             ],
             [
              0.5555555555555556,
              "#d8576b"
             ],
             [
              0.6666666666666666,
              "#ed7953"
             ],
             [
              0.7777777777777778,
              "#fb9f3a"
             ],
             [
              0.8888888888888888,
              "#fdca26"
             ],
             [
              1,
              "#f0f921"
             ]
            ],
            "type": "heatmapgl"
           }
          ],
          "histogram": [
           {
            "marker": {
             "pattern": {
              "fillmode": "overlay",
              "size": 10,
              "solidity": 0.2
             }
            },
            "type": "histogram"
           }
          ],
          "histogram2d": [
           {
            "colorbar": {
             "outlinewidth": 0,
             "ticks": ""
            },
            "colorscale": [
             [
              0,
              "#0d0887"
             ],
             [
              0.1111111111111111,
              "#46039f"
             ],
             [
              0.2222222222222222,
              "#7201a8"
             ],
             [
              0.3333333333333333,
              "#9c179e"
             ],
             [
              0.4444444444444444,
              "#bd3786"
             ],
             [
              0.5555555555555556,
              "#d8576b"
             ],
             [
              0.6666666666666666,
              "#ed7953"
             ],
             [
              0.7777777777777778,
              "#fb9f3a"
             ],
             [
              0.8888888888888888,
              "#fdca26"
             ],
             [
              1,
              "#f0f921"
             ]
            ],
            "type": "histogram2d"
           }
          ],
          "histogram2dcontour": [
           {
            "colorbar": {
             "outlinewidth": 0,
             "ticks": ""
            },
            "colorscale": [
             [
              0,
              "#0d0887"
             ],
             [
              0.1111111111111111,
              "#46039f"
             ],
             [
              0.2222222222222222,
              "#7201a8"
             ],
             [
              0.3333333333333333,
              "#9c179e"
             ],
             [
              0.4444444444444444,
              "#bd3786"
             ],
             [
              0.5555555555555556,
              "#d8576b"
             ],
             [
              0.6666666666666666,
              "#ed7953"
             ],
             [
              0.7777777777777778,
              "#fb9f3a"
             ],
             [
              0.8888888888888888,
              "#fdca26"
             ],
             [
              1,
              "#f0f921"
             ]
            ],
            "type": "histogram2dcontour"
           }
          ],
          "mesh3d": [
           {
            "colorbar": {
             "outlinewidth": 0,
             "ticks": ""
            },
            "type": "mesh3d"
           }
          ],
          "parcoords": [
           {
            "line": {
             "colorbar": {
              "outlinewidth": 0,
              "ticks": ""
             }
            },
            "type": "parcoords"
           }
          ],
          "pie": [
           {
            "automargin": true,
            "type": "pie"
           }
          ],
          "scatter": [
           {
            "fillpattern": {
             "fillmode": "overlay",
             "size": 10,
             "solidity": 0.2
            },
            "type": "scatter"
           }
          ],
          "scatter3d": [
           {
            "line": {
             "colorbar": {
              "outlinewidth": 0,
              "ticks": ""
             }
            },
            "marker": {
             "colorbar": {
              "outlinewidth": 0,
              "ticks": ""
             }
            },
            "type": "scatter3d"
           }
          ],
          "scattercarpet": [
           {
            "marker": {
             "colorbar": {
              "outlinewidth": 0,
              "ticks": ""
             }
            },
            "type": "scattercarpet"
           }
          ],
          "scattergeo": [
           {
            "marker": {
             "colorbar": {
              "outlinewidth": 0,
              "ticks": ""
             }
            },
            "type": "scattergeo"
           }
          ],
          "scattergl": [
           {
            "marker": {
             "colorbar": {
              "outlinewidth": 0,
              "ticks": ""
             }
            },
            "type": "scattergl"
           }
          ],
          "scattermapbox": [
           {
            "marker": {
             "colorbar": {
              "outlinewidth": 0,
              "ticks": ""
             }
            },
            "type": "scattermapbox"
           }
          ],
          "scatterpolar": [
           {
            "marker": {
             "colorbar": {
              "outlinewidth": 0,
              "ticks": ""
             }
            },
            "type": "scatterpolar"
           }
          ],
          "scatterpolargl": [
           {
            "marker": {
             "colorbar": {
              "outlinewidth": 0,
              "ticks": ""
             }
            },
            "type": "scatterpolargl"
           }
          ],
          "scatterternary": [
           {
            "marker": {
             "colorbar": {
              "outlinewidth": 0,
              "ticks": ""
             }
            },
            "type": "scatterternary"
           }
          ],
          "surface": [
           {
            "colorbar": {
             "outlinewidth": 0,
             "ticks": ""
            },
            "colorscale": [
             [
              0,
              "#0d0887"
             ],
             [
              0.1111111111111111,
              "#46039f"
             ],
             [
              0.2222222222222222,
              "#7201a8"
             ],
             [
              0.3333333333333333,
              "#9c179e"
             ],
             [
              0.4444444444444444,
              "#bd3786"
             ],
             [
              0.5555555555555556,
              "#d8576b"
             ],
             [
              0.6666666666666666,
              "#ed7953"
             ],
             [
              0.7777777777777778,
              "#fb9f3a"
             ],
             [
              0.8888888888888888,
              "#fdca26"
             ],
             [
              1,
              "#f0f921"
             ]
            ],
            "type": "surface"
           }
          ],
          "table": [
           {
            "cells": {
             "fill": {
              "color": "#EBF0F8"
             },
             "line": {
              "color": "white"
             }
            },
            "header": {
             "fill": {
              "color": "#C8D4E3"
             },
             "line": {
              "color": "white"
             }
            },
            "type": "table"
           }
          ]
         },
         "layout": {
          "annotationdefaults": {
           "arrowcolor": "#2a3f5f",
           "arrowhead": 0,
           "arrowwidth": 1
          },
          "autotypenumbers": "strict",
          "coloraxis": {
           "colorbar": {
            "outlinewidth": 0,
            "ticks": ""
           }
          },
          "colorscale": {
           "diverging": [
            [
             0,
             "#8e0152"
            ],
            [
             0.1,
             "#c51b7d"
            ],
            [
             0.2,
             "#de77ae"
            ],
            [
             0.3,
             "#f1b6da"
            ],
            [
             0.4,
             "#fde0ef"
            ],
            [
             0.5,
             "#f7f7f7"
            ],
            [
             0.6,
             "#e6f5d0"
            ],
            [
             0.7,
             "#b8e186"
            ],
            [
             0.8,
             "#7fbc41"
            ],
            [
             0.9,
             "#4d9221"
            ],
            [
             1,
             "#276419"
            ]
           ],
           "sequential": [
            [
             0,
             "#0d0887"
            ],
            [
             0.1111111111111111,
             "#46039f"
            ],
            [
             0.2222222222222222,
             "#7201a8"
            ],
            [
             0.3333333333333333,
             "#9c179e"
            ],
            [
             0.4444444444444444,
             "#bd3786"
            ],
            [
             0.5555555555555556,
             "#d8576b"
            ],
            [
             0.6666666666666666,
             "#ed7953"
            ],
            [
             0.7777777777777778,
             "#fb9f3a"
            ],
            [
             0.8888888888888888,
             "#fdca26"
            ],
            [
             1,
             "#f0f921"
            ]
           ],
           "sequentialminus": [
            [
             0,
             "#0d0887"
            ],
            [
             0.1111111111111111,
             "#46039f"
            ],
            [
             0.2222222222222222,
             "#7201a8"
            ],
            [
             0.3333333333333333,
             "#9c179e"
            ],
            [
             0.4444444444444444,
             "#bd3786"
            ],
            [
             0.5555555555555556,
             "#d8576b"
            ],
            [
             0.6666666666666666,
             "#ed7953"
            ],
            [
             0.7777777777777778,
             "#fb9f3a"
            ],
            [
             0.8888888888888888,
             "#fdca26"
            ],
            [
             1,
             "#f0f921"
            ]
           ]
          },
          "colorway": [
           "#636efa",
           "#EF553B",
           "#00cc96",
           "#ab63fa",
           "#FFA15A",
           "#19d3f3",
           "#FF6692",
           "#B6E880",
           "#FF97FF",
           "#FECB52"
          ],
          "font": {
           "color": "#2a3f5f"
          },
          "geo": {
           "bgcolor": "white",
           "lakecolor": "white",
           "landcolor": "#E5ECF6",
           "showlakes": true,
           "showland": true,
           "subunitcolor": "white"
          },
          "hoverlabel": {
           "align": "left"
          },
          "hovermode": "closest",
          "mapbox": {
           "style": "light"
          },
          "paper_bgcolor": "white",
          "plot_bgcolor": "#E5ECF6",
          "polar": {
           "angularaxis": {
            "gridcolor": "white",
            "linecolor": "white",
            "ticks": ""
           },
           "bgcolor": "#E5ECF6",
           "radialaxis": {
            "gridcolor": "white",
            "linecolor": "white",
            "ticks": ""
           }
          },
          "scene": {
           "xaxis": {
            "backgroundcolor": "#E5ECF6",
            "gridcolor": "white",
            "gridwidth": 2,
            "linecolor": "white",
            "showbackground": true,
            "ticks": "",
            "zerolinecolor": "white"
           },
           "yaxis": {
            "backgroundcolor": "#E5ECF6",
            "gridcolor": "white",
            "gridwidth": 2,
            "linecolor": "white",
            "showbackground": true,
            "ticks": "",
            "zerolinecolor": "white"
           },
           "zaxis": {
            "backgroundcolor": "#E5ECF6",
            "gridcolor": "white",
            "gridwidth": 2,
            "linecolor": "white",
            "showbackground": true,
            "ticks": "",
            "zerolinecolor": "white"
           }
          },
          "shapedefaults": {
           "line": {
            "color": "#2a3f5f"
           }
          },
          "ternary": {
           "aaxis": {
            "gridcolor": "white",
            "linecolor": "white",
            "ticks": ""
           },
           "baxis": {
            "gridcolor": "white",
            "linecolor": "white",
            "ticks": ""
           },
           "bgcolor": "#E5ECF6",
           "caxis": {
            "gridcolor": "white",
            "linecolor": "white",
            "ticks": ""
           }
          },
          "title": {
           "x": 0.05
          },
          "xaxis": {
           "automargin": true,
           "gridcolor": "white",
           "linecolor": "white",
           "ticks": "",
           "title": {
            "standoff": 15
           },
           "zerolinecolor": "white",
           "zerolinewidth": 2
          },
          "yaxis": {
           "automargin": true,
           "gridcolor": "white",
           "linecolor": "white",
           "ticks": "",
           "title": {
            "standoff": 15
           },
           "zerolinecolor": "white",
           "zerolinewidth": 2
          }
         }
        },
        "title": {
         "text": "Materials processed by hubs in metropolitan region of amsterdam<br><sup>total mass: 3.662 million tons</sup>"
        }
       }
      }
     },
     "metadata": {},
     "output_type": "display_data"
    },
    {
     "data": {
      "application/vnd.plotly.v1+json": {
       "config": {
        "plotlyServerURL": "https://plot.ly"
       },
       "data": [
        {
         "hovertemplate": "material=concrete_in-situ<br>year=%{x}<br>emissions=%{y}<extra></extra>",
         "legendgroup": "concrete_in-situ",
         "line": {
          "color": "#636efa",
          "dash": "solid"
         },
         "marker": {
          "symbol": "circle"
         },
         "mode": "lines",
         "name": "concrete_in-situ",
         "orientation": "v",
         "showlegend": true,
         "type": "scatter",
         "x": [
          2023,
          2024
         ],
         "xaxis": "x",
         "y": [
          0,
          317.72206323959153
         ],
         "yaxis": "y"
        },
        {
         "hovertemplate": "material=concrete_prefab<br>year=%{x}<br>emissions=%{y}<extra></extra>",
         "legendgroup": "concrete_prefab",
         "line": {
          "color": "#EF553B",
          "dash": "solid"
         },
         "marker": {
          "symbol": "circle"
         },
         "mode": "lines",
         "name": "concrete_prefab",
         "orientation": "v",
         "showlegend": true,
         "type": "scatter",
         "x": [
          2023,
          2024
         ],
         "xaxis": "x",
         "y": [
          0,
          372.82760256403606
         ],
         "yaxis": "y"
        },
        {
         "hovertemplate": "material=gravel_sand<br>year=%{x}<br>emissions=%{y}<extra></extra>",
         "legendgroup": "gravel_sand",
         "line": {
          "color": "#00cc96",
          "dash": "solid"
         },
         "marker": {
          "symbol": "circle"
         },
         "mode": "lines",
         "name": "gravel_sand",
         "orientation": "v",
         "showlegend": true,
         "type": "scatter",
         "x": [
          2023,
          2024
         ],
         "xaxis": "x",
         "y": [
          0,
          70.97318155163036
         ],
         "yaxis": "y"
        },
        {
         "hovertemplate": "material=biobased<br>year=%{x}<br>emissions=%{y}<extra></extra>",
         "legendgroup": "biobased",
         "line": {
          "color": "#ab63fa",
          "dash": "solid"
         },
         "marker": {
          "symbol": "circle"
         },
         "mode": "lines",
         "name": "biobased",
         "orientation": "v",
         "showlegend": true,
         "type": "scatter",
         "x": [
          2023,
          2024
         ],
         "xaxis": "x",
         "y": [
          0,
          386.23967827799993
         ],
         "yaxis": "y"
        },
        {
         "hovertemplate": "material=steel<br>year=%{x}<br>emissions=%{y}<extra></extra>",
         "legendgroup": "steel",
         "line": {
          "color": "#FFA15A",
          "dash": "solid"
         },
         "marker": {
          "symbol": "circle"
         },
         "mode": "lines",
         "name": "steel",
         "orientation": "v",
         "showlegend": true,
         "type": "scatter",
         "x": [
          2023,
          2024
         ],
         "xaxis": "x",
         "y": [
          0,
          45.59222462183653
         ],
         "yaxis": "y"
        },
        {
         "hovertemplate": "material=glass<br>year=%{x}<br>emissions=%{y}<extra></extra>",
         "legendgroup": "glass",
         "line": {
          "color": "#19d3f3",
          "dash": "solid"
         },
         "marker": {
          "symbol": "circle"
         },
         "mode": "lines",
         "name": "glass",
         "orientation": "v",
         "showlegend": true,
         "type": "scatter",
         "x": [
          2023,
          2024
         ],
         "xaxis": "x",
         "y": [
          0,
          496.0240776299999
         ],
         "yaxis": "y"
        },
        {
         "hovertemplate": "material=furnishing_stone<br>year=%{x}<br>emissions=%{y}<extra></extra>",
         "legendgroup": "furnishing_stone",
         "line": {
          "color": "#FF6692",
          "dash": "solid"
         },
         "marker": {
          "symbol": "circle"
         },
         "mode": "lines",
         "name": "furnishing_stone",
         "orientation": "v",
         "showlegend": true,
         "type": "scatter",
         "x": [
          2023,
          2024
         ],
         "xaxis": "x",
         "y": [
          0,
          27.77868487600002
         ],
         "yaxis": "y"
        },
        {
         "hovertemplate": "material=timber<br>year=%{x}<br>emissions=%{y}<extra></extra>",
         "legendgroup": "timber",
         "line": {
          "color": "#B6E880",
          "dash": "solid"
         },
         "marker": {
          "symbol": "circle"
         },
         "mode": "lines",
         "name": "timber",
         "orientation": "v",
         "showlegend": true,
         "type": "scatter",
         "x": [
          2023,
          2024
         ],
         "xaxis": "x",
         "y": [
          0,
          9873.754117122386
         ],
         "yaxis": "y"
        }
       ],
       "layout": {
        "height": 500,
        "legend": {
         "title": {
          "text": "material"
         },
         "tracegroupgap": 0
        },
        "template": {
         "data": {
          "bar": [
           {
            "error_x": {
             "color": "#2a3f5f"
            },
            "error_y": {
             "color": "#2a3f5f"
            },
            "marker": {
             "line": {
              "color": "#E5ECF6",
              "width": 0.5
             },
             "pattern": {
              "fillmode": "overlay",
              "size": 10,
              "solidity": 0.2
             }
            },
            "type": "bar"
           }
          ],
          "barpolar": [
           {
            "marker": {
             "line": {
              "color": "#E5ECF6",
              "width": 0.5
             },
             "pattern": {
              "fillmode": "overlay",
              "size": 10,
              "solidity": 0.2
             }
            },
            "type": "barpolar"
           }
          ],
          "carpet": [
           {
            "aaxis": {
             "endlinecolor": "#2a3f5f",
             "gridcolor": "white",
             "linecolor": "white",
             "minorgridcolor": "white",
             "startlinecolor": "#2a3f5f"
            },
            "baxis": {
             "endlinecolor": "#2a3f5f",
             "gridcolor": "white",
             "linecolor": "white",
             "minorgridcolor": "white",
             "startlinecolor": "#2a3f5f"
            },
            "type": "carpet"
           }
          ],
          "choropleth": [
           {
            "colorbar": {
             "outlinewidth": 0,
             "ticks": ""
            },
            "type": "choropleth"
           }
          ],
          "contour": [
           {
            "colorbar": {
             "outlinewidth": 0,
             "ticks": ""
            },
            "colorscale": [
             [
              0,
              "#0d0887"
             ],
             [
              0.1111111111111111,
              "#46039f"
             ],
             [
              0.2222222222222222,
              "#7201a8"
             ],
             [
              0.3333333333333333,
              "#9c179e"
             ],
             [
              0.4444444444444444,
              "#bd3786"
             ],
             [
              0.5555555555555556,
              "#d8576b"
             ],
             [
              0.6666666666666666,
              "#ed7953"
             ],
             [
              0.7777777777777778,
              "#fb9f3a"
             ],
             [
              0.8888888888888888,
              "#fdca26"
             ],
             [
              1,
              "#f0f921"
             ]
            ],
            "type": "contour"
           }
          ],
          "contourcarpet": [
           {
            "colorbar": {
             "outlinewidth": 0,
             "ticks": ""
            },
            "type": "contourcarpet"
           }
          ],
          "heatmap": [
           {
            "colorbar": {
             "outlinewidth": 0,
             "ticks": ""
            },
            "colorscale": [
             [
              0,
              "#0d0887"
             ],
             [
              0.1111111111111111,
              "#46039f"
             ],
             [
              0.2222222222222222,
              "#7201a8"
             ],
             [
              0.3333333333333333,
              "#9c179e"
             ],
             [
              0.4444444444444444,
              "#bd3786"
             ],
             [
              0.5555555555555556,
              "#d8576b"
             ],
             [
              0.6666666666666666,
              "#ed7953"
             ],
             [
              0.7777777777777778,
              "#fb9f3a"
             ],
             [
              0.8888888888888888,
              "#fdca26"
             ],
             [
              1,
              "#f0f921"
             ]
            ],
            "type": "heatmap"
           }
          ],
          "heatmapgl": [
           {
            "colorbar": {
             "outlinewidth": 0,
             "ticks": ""
            },
            "colorscale": [
             [
              0,
              "#0d0887"
             ],
             [
              0.1111111111111111,
              "#46039f"
             ],
             [
              0.2222222222222222,
              "#7201a8"
             ],
             [
              0.3333333333333333,
              "#9c179e"
             ],
             [
              0.4444444444444444,
              "#bd3786"
             ],
             [
              0.5555555555555556,
              "#d8576b"
             ],
             [
              0.6666666666666666,
              "#ed7953"
             ],
             [
              0.7777777777777778,
              "#fb9f3a"
             ],
             [
              0.8888888888888888,
              "#fdca26"
             ],
             [
              1,
              "#f0f921"
             ]
            ],
            "type": "heatmapgl"
           }
          ],
          "histogram": [
           {
            "marker": {
             "pattern": {
              "fillmode": "overlay",
              "size": 10,
              "solidity": 0.2
             }
            },
            "type": "histogram"
           }
          ],
          "histogram2d": [
           {
            "colorbar": {
             "outlinewidth": 0,
             "ticks": ""
            },
            "colorscale": [
             [
              0,
              "#0d0887"
             ],
             [
              0.1111111111111111,
              "#46039f"
             ],
             [
              0.2222222222222222,
              "#7201a8"
             ],
             [
              0.3333333333333333,
              "#9c179e"
             ],
             [
              0.4444444444444444,
              "#bd3786"
             ],
             [
              0.5555555555555556,
              "#d8576b"
             ],
             [
              0.6666666666666666,
              "#ed7953"
             ],
             [
              0.7777777777777778,
              "#fb9f3a"
             ],
             [
              0.8888888888888888,
              "#fdca26"
             ],
             [
              1,
              "#f0f921"
             ]
            ],
            "type": "histogram2d"
           }
          ],
          "histogram2dcontour": [
           {
            "colorbar": {
             "outlinewidth": 0,
             "ticks": ""
            },
            "colorscale": [
             [
              0,
              "#0d0887"
             ],
             [
              0.1111111111111111,
              "#46039f"
             ],
             [
              0.2222222222222222,
              "#7201a8"
             ],
             [
              0.3333333333333333,
              "#9c179e"
             ],
             [
              0.4444444444444444,
              "#bd3786"
             ],
             [
              0.5555555555555556,
              "#d8576b"
             ],
             [
              0.6666666666666666,
              "#ed7953"
             ],
             [
              0.7777777777777778,
              "#fb9f3a"
             ],
             [
              0.8888888888888888,
              "#fdca26"
             ],
             [
              1,
              "#f0f921"
             ]
            ],
            "type": "histogram2dcontour"
           }
          ],
          "mesh3d": [
           {
            "colorbar": {
             "outlinewidth": 0,
             "ticks": ""
            },
            "type": "mesh3d"
           }
          ],
          "parcoords": [
           {
            "line": {
             "colorbar": {
              "outlinewidth": 0,
              "ticks": ""
             }
            },
            "type": "parcoords"
           }
          ],
          "pie": [
           {
            "automargin": true,
            "type": "pie"
           }
          ],
          "scatter": [
           {
            "fillpattern": {
             "fillmode": "overlay",
             "size": 10,
             "solidity": 0.2
            },
            "type": "scatter"
           }
          ],
          "scatter3d": [
           {
            "line": {
             "colorbar": {
              "outlinewidth": 0,
              "ticks": ""
             }
            },
            "marker": {
             "colorbar": {
              "outlinewidth": 0,
              "ticks": ""
             }
            },
            "type": "scatter3d"
           }
          ],
          "scattercarpet": [
           {
            "marker": {
             "colorbar": {
              "outlinewidth": 0,
              "ticks": ""
             }
            },
            "type": "scattercarpet"
           }
          ],
          "scattergeo": [
           {
            "marker": {
             "colorbar": {
              "outlinewidth": 0,
              "ticks": ""
             }
            },
            "type": "scattergeo"
           }
          ],
          "scattergl": [
           {
            "marker": {
             "colorbar": {
              "outlinewidth": 0,
              "ticks": ""
             }
            },
            "type": "scattergl"
           }
          ],
          "scattermapbox": [
           {
            "marker": {
             "colorbar": {
              "outlinewidth": 0,
              "ticks": ""
             }
            },
            "type": "scattermapbox"
           }
          ],
          "scatterpolar": [
           {
            "marker": {
             "colorbar": {
              "outlinewidth": 0,
              "ticks": ""
             }
            },
            "type": "scatterpolar"
           }
          ],
          "scatterpolargl": [
           {
            "marker": {
             "colorbar": {
              "outlinewidth": 0,
              "ticks": ""
             }
            },
            "type": "scatterpolargl"
           }
          ],
          "scatterternary": [
           {
            "marker": {
             "colorbar": {
              "outlinewidth": 0,
              "ticks": ""
             }
            },
            "type": "scatterternary"
           }
          ],
          "surface": [
           {
            "colorbar": {
             "outlinewidth": 0,
             "ticks": ""
            },
            "colorscale": [
             [
              0,
              "#0d0887"
             ],
             [
              0.1111111111111111,
              "#46039f"
             ],
             [
              0.2222222222222222,
              "#7201a8"
             ],
             [
              0.3333333333333333,
              "#9c179e"
             ],
             [
              0.4444444444444444,
              "#bd3786"
             ],
             [
              0.5555555555555556,
              "#d8576b"
             ],
             [
              0.6666666666666666,
              "#ed7953"
             ],
             [
              0.7777777777777778,
              "#fb9f3a"
             ],
             [
              0.8888888888888888,
              "#fdca26"
             ],
             [
              1,
              "#f0f921"
             ]
            ],
            "type": "surface"
           }
          ],
          "table": [
           {
            "cells": {
             "fill": {
              "color": "#EBF0F8"
             },
             "line": {
              "color": "white"
             }
            },
            "header": {
             "fill": {
              "color": "#C8D4E3"
             },
             "line": {
              "color": "white"
             }
            },
            "type": "table"
           }
          ]
         },
         "layout": {
          "annotationdefaults": {
           "arrowcolor": "#2a3f5f",
           "arrowhead": 0,
           "arrowwidth": 1
          },
          "autotypenumbers": "strict",
          "coloraxis": {
           "colorbar": {
            "outlinewidth": 0,
            "ticks": ""
           }
          },
          "colorscale": {
           "diverging": [
            [
             0,
             "#8e0152"
            ],
            [
             0.1,
             "#c51b7d"
            ],
            [
             0.2,
             "#de77ae"
            ],
            [
             0.3,
             "#f1b6da"
            ],
            [
             0.4,
             "#fde0ef"
            ],
            [
             0.5,
             "#f7f7f7"
            ],
            [
             0.6,
             "#e6f5d0"
            ],
            [
             0.7,
             "#b8e186"
            ],
            [
             0.8,
             "#7fbc41"
            ],
            [
             0.9,
             "#4d9221"
            ],
            [
             1,
             "#276419"
            ]
           ],
           "sequential": [
            [
             0,
             "#0d0887"
            ],
            [
             0.1111111111111111,
             "#46039f"
            ],
            [
             0.2222222222222222,
             "#7201a8"
            ],
            [
             0.3333333333333333,
             "#9c179e"
            ],
            [
             0.4444444444444444,
             "#bd3786"
            ],
            [
             0.5555555555555556,
             "#d8576b"
            ],
            [
             0.6666666666666666,
             "#ed7953"
            ],
            [
             0.7777777777777778,
             "#fb9f3a"
            ],
            [
             0.8888888888888888,
             "#fdca26"
            ],
            [
             1,
             "#f0f921"
            ]
           ],
           "sequentialminus": [
            [
             0,
             "#0d0887"
            ],
            [
             0.1111111111111111,
             "#46039f"
            ],
            [
             0.2222222222222222,
             "#7201a8"
            ],
            [
             0.3333333333333333,
             "#9c179e"
            ],
            [
             0.4444444444444444,
             "#bd3786"
            ],
            [
             0.5555555555555556,
             "#d8576b"
            ],
            [
             0.6666666666666666,
             "#ed7953"
            ],
            [
             0.7777777777777778,
             "#fb9f3a"
            ],
            [
             0.8888888888888888,
             "#fdca26"
            ],
            [
             1,
             "#f0f921"
            ]
           ]
          },
          "colorway": [
           "#636efa",
           "#EF553B",
           "#00cc96",
           "#ab63fa",
           "#FFA15A",
           "#19d3f3",
           "#FF6692",
           "#B6E880",
           "#FF97FF",
           "#FECB52"
          ],
          "font": {
           "color": "#2a3f5f"
          },
          "geo": {
           "bgcolor": "white",
           "lakecolor": "white",
           "landcolor": "#E5ECF6",
           "showlakes": true,
           "showland": true,
           "subunitcolor": "white"
          },
          "hoverlabel": {
           "align": "left"
          },
          "hovermode": "closest",
          "mapbox": {
           "style": "light"
          },
          "paper_bgcolor": "white",
          "plot_bgcolor": "#E5ECF6",
          "polar": {
           "angularaxis": {
            "gridcolor": "white",
            "linecolor": "white",
            "ticks": ""
           },
           "bgcolor": "#E5ECF6",
           "radialaxis": {
            "gridcolor": "white",
            "linecolor": "white",
            "ticks": ""
           }
          },
          "scene": {
           "xaxis": {
            "backgroundcolor": "#E5ECF6",
            "gridcolor": "white",
            "gridwidth": 2,
            "linecolor": "white",
            "showbackground": true,
            "ticks": "",
            "zerolinecolor": "white"
           },
           "yaxis": {
            "backgroundcolor": "#E5ECF6",
            "gridcolor": "white",
            "gridwidth": 2,
            "linecolor": "white",
            "showbackground": true,
            "ticks": "",
            "zerolinecolor": "white"
           },
           "zaxis": {
            "backgroundcolor": "#E5ECF6",
            "gridcolor": "white",
            "gridwidth": 2,
            "linecolor": "white",
            "showbackground": true,
            "ticks": "",
            "zerolinecolor": "white"
           }
          },
          "shapedefaults": {
           "line": {
            "color": "#2a3f5f"
           }
          },
          "ternary": {
           "aaxis": {
            "gridcolor": "white",
            "linecolor": "white",
            "ticks": ""
           },
           "baxis": {
            "gridcolor": "white",
            "linecolor": "white",
            "ticks": ""
           },
           "bgcolor": "#E5ECF6",
           "caxis": {
            "gridcolor": "white",
            "linecolor": "white",
            "ticks": ""
           }
          },
          "title": {
           "x": 0.05
          },
          "xaxis": {
           "automargin": true,
           "gridcolor": "white",
           "linecolor": "white",
           "ticks": "",
           "title": {
            "standoff": 15
           },
           "zerolinecolor": "white",
           "zerolinewidth": 2
          },
          "yaxis": {
           "automargin": true,
           "gridcolor": "white",
           "linecolor": "white",
           "ticks": "",
           "title": {
            "standoff": 15
           },
           "zerolinecolor": "white",
           "zerolinewidth": 2
          }
         }
        },
        "title": {
         "text": "emissions per material"
        },
        "xaxis": {
         "anchor": "y",
         "domain": [
          0,
          1
         ],
         "title": {
          "text": "year"
         }
        },
        "yaxis": {
         "anchor": "x",
         "domain": [
          0,
          1
         ],
         "title": {
          "text": "emissions"
         }
        }
       }
      }
     },
     "metadata": {},
     "output_type": "display_data"
    }
   ],
   "source": [
    "# import ipywidgets as widgets\n",
    "from IPython.display import display, HTML\n",
    "\n",
    "button = widgets.Button(description=\"Run model!\")\n",
    "output = widgets.Output()\n",
    "\n",
    "display(button, output)\n",
    "\n",
    "def on_button_clicked(b):\n",
    "    with output:\n",
    "        output.clear_output(wait=True)\n",
    "        print('running model ... ')\n",
    "        print('(be patient, this will take ~10-30 seconds)')\n",
    "        \n",
    "        parameters_dict = {}\n",
    "        for name in dropdowns.keys(): \n",
    "            parameters_dict[name] = dropdowns[name].value\n",
    "        for key, value in parameters_dict.items():\n",
    "            if key in params_conversion:\n",
    "                parameters_dict[key] = params_conversion[key][value]\n",
    "\n",
    "        model = Model(parameters_dict)\n",
    "        for i in range(2): \n",
    "            # each model.step() is a year. \n",
    "            # This model simulates 10 years: from 2023 to 2033. \n",
    "            model.step()\n",
    "\n",
    "        emissions_text, fig_emissions, fig_emissions_perMaterial, fig_materials_all, fig_materials_hubs, map_html, results_df = model.visualize()\n",
    "        \n",
    "        def create_and_display_fig_widget(fig):\n",
    "            fig_widget = widgets.Output(layout=widgets.Layout())\n",
    "            with fig_widget:\n",
    "                fig.show()\n",
    "            return fig_widget\n",
    "        fig_widget_emissions = create_and_display_fig_widget(fig_emissions)\n",
    "        fig_widget_materials_all = create_and_display_fig_widget(fig_materials_all)\n",
    "        fig_widget_materials_hubs = create_and_display_fig_widget(fig_materials_hubs)\n",
    "        fig_widget_emissionsPerMaterial = create_and_display_fig_widget(fig_emissions_perMaterial)\n",
    "             \n",
    "        print(emissions_text)\n",
    "        v_box = widgets.VBox([fig_widget_emissions, fig_widget_emissionsPerMaterial, fig_widget_materials_all, fig_widget_materials_hubs], layout=widgets.Layout(width='30%', height='600px'))\n",
    "        map_widget = widgets.HTML(map_html, layout=widgets.Layout(width='70%'))\n",
    "        h_box = widgets.HBox([v_box, map_widget])\n",
    "        display(h_box)\n",
    "        \n",
    "\n",
    "button.on_click(on_button_clicked)"
   ]
  },
  {
   "cell_type": "markdown",
   "id": "97dcc0fb-e2c3-4d0d-bc7a-007a8a033bc1",
   "metadata": {},
   "source": [
    "# saving figures of Caspar"
   ]
  },
  {
   "cell_type": "code",
   "execution_count": 6,
   "id": "575febbf-123c-4a22-8d2d-d0284e46ae11",
   "metadata": {},
   "outputs": [],
   "source": [
    "bimzec_scenarios = {\n",
    "    1: {\n",
    "        'hub_network': 'none',\n",
    "        'network_type': 'road',\n",
    "        'truck_type': 'diesel',\n",
    "        'biobased_type': 'none',\n",
    "        'modularity_type': 'none',\n",
    "        'circularity_type': 'none',\n",
    "        'model_boundary': 'metropolitan region of amsterdam'\n",
    "    }, \n",
    "    2: {\n",
    "        'hub_network': 'centralized',\n",
    "        'network_type': 'water',\n",
    "        'truck_type': 'diesel',\n",
    "        'biobased_type': 'none',\n",
    "        'modularity_type': 'none',\n",
    "        'circularity_type': 'none',\n",
    "        'model_boundary': 'metropolitan region of amsterdam'\n",
    "    }, \n",
    "    3: {\n",
    "        'hub_network': 'centralized',\n",
    "        'network_type': 'water',\n",
    "        'truck_type': 'semi',\n",
    "        'biobased_type': 'none',\n",
    "        'modularity_type': 'none',\n",
    "        'circularity_type': 'none',\n",
    "        'model_boundary': 'metropolitan region of amsterdam'\n",
    "    }, \n",
    "    4: {\n",
    "        'hub_network': 'centralized',\n",
    "        'network_type': 'water',\n",
    "        'truck_type': 'semi',\n",
    "        'biobased_type': 'full',\n",
    "        'modularity_type': 'none',\n",
    "        'circularity_type': 'none',\n",
    "        'model_boundary': 'metropolitan region of amsterdam'\n",
    "    }, \n",
    "    5: {\n",
    "        'hub_network': 'centralized',\n",
    "        'network_type': 'water',\n",
    "        'truck_type': 'electric',\n",
    "        'biobased_type': 'full',\n",
    "        'modularity_type': 'full',\n",
    "        'circularity_type': 'none',\n",
    "        'model_boundary': 'metropolitan region of amsterdam'\n",
    "    }, \n",
    "    6: {\n",
    "        'hub_network': 'centralized',\n",
    "        'network_type': 'water',\n",
    "        'truck_type': 'electric',\n",
    "        'biobased_type': 'full',\n",
    "        'modularity_type': 'full',\n",
    "        'circularity_type': 'extreme',\n",
    "        'model_boundary': 'metropolitan region of amsterdam'\n",
    "    }\n",
    "}\n",
    "\n",
    "sample_scenario = {\n",
    "    1: {\n",
    "        'hub_network': 'none',\n",
    "        'network_type': 'road',\n",
    "        'truck_type': 'diesel',\n",
    "        'biobased_type': 'none',\n",
    "        'modularity_type': 'none',\n",
    "        'circularity_type': 'none',\n",
    "        'model_boundary': 'metropolitan region of amsterdam'\n",
    "    },\n",
    "}"
   ]
  },
  {
   "cell_type": "code",
   "execution_count": 18,
   "id": "6f04a4b9-3a14-4474-8d22-119ffbc64885",
   "metadata": {
    "tags": []
   },
   "outputs": [
    {
     "name": "stdout",
     "output_type": "stream",
     "text": [
      "\n",
      "\n",
      "scenario number: 1\n",
      "parameters: \n",
      "{'hub_network': 'none', 'network_type': 'road', 'truck_type': 'diesel', 'biobased_type': 'none', 'modularity_type': 'none', 'circularity_type': 'none', 'model_boundary': 'metropolitan region of amsterdam'}\n",
      "running model ... \n",
      "model year: 2023\n",
      "model year: 2024\n",
      "model year: 2025\n",
      "model year: 2026\n",
      "model year: 2027\n",
      "model year: 2028\n",
      "model year: 2029\n",
      "model year: 2030\n",
      "model year: 2031\n",
      "model year: 2032\n",
      "model year: 2033\n",
      "model year: 2034\n",
      "visualizing results ... \n",
      "saving results ... \n",
      "\n",
      "\n",
      "scenario number: 2\n",
      "parameters: \n",
      "{'hub_network': 'centralized', 'network_type': 'water', 'truck_type': 'diesel', 'biobased_type': 'none', 'modularity_type': 'none', 'circularity_type': 'none', 'model_boundary': 'metropolitan region of amsterdam'}\n",
      "running model ... \n",
      "model year: 2023\n",
      "model year: 2024\n",
      "model year: 2025\n",
      "model year: 2026\n",
      "model year: 2027\n",
      "model year: 2028\n",
      "model year: 2029\n",
      "model year: 2030\n",
      "model year: 2031\n",
      "model year: 2032\n",
      "model year: 2033\n",
      "model year: 2034\n",
      "visualizing results ... \n",
      "saving results ... \n",
      "\n",
      "\n",
      "scenario number: 3\n",
      "parameters: \n",
      "{'hub_network': 'centralized', 'network_type': 'water', 'truck_type': 'semi', 'biobased_type': 'none', 'modularity_type': 'none', 'circularity_type': 'none', 'model_boundary': 'metropolitan region of amsterdam'}\n",
      "running model ... \n",
      "model year: 2023\n",
      "model year: 2024\n",
      "model year: 2025\n",
      "model year: 2026\n",
      "model year: 2027\n",
      "model year: 2028\n",
      "model year: 2029\n",
      "model year: 2030\n",
      "model year: 2031\n",
      "model year: 2032\n",
      "model year: 2033\n",
      "model year: 2034\n",
      "visualizing results ... \n",
      "saving results ... \n",
      "\n",
      "\n",
      "scenario number: 4\n",
      "parameters: \n",
      "{'hub_network': 'centralized', 'network_type': 'water', 'truck_type': 'semi', 'biobased_type': 'full', 'modularity_type': 'none', 'circularity_type': 'none', 'model_boundary': 'metropolitan region of amsterdam'}\n",
      "running model ... \n",
      "model year: 2023\n",
      "model year: 2024\n",
      "model year: 2025\n",
      "model year: 2026\n",
      "model year: 2027\n",
      "model year: 2028\n",
      "model year: 2029\n",
      "model year: 2030\n",
      "model year: 2031\n",
      "model year: 2032\n",
      "model year: 2033\n",
      "model year: 2034\n",
      "visualizing results ... \n",
      "saving results ... \n",
      "\n",
      "\n",
      "scenario number: 5\n",
      "parameters: \n",
      "{'hub_network': 'centralized', 'network_type': 'water', 'truck_type': 'electric', 'biobased_type': 'full', 'modularity_type': 'full', 'circularity_type': 'none', 'model_boundary': 'metropolitan region of amsterdam'}\n",
      "running model ... \n",
      "model year: 2023\n",
      "model year: 2024\n",
      "model year: 2025\n",
      "model year: 2026\n",
      "model year: 2027\n",
      "model year: 2028\n",
      "model year: 2029\n",
      "model year: 2030\n",
      "model year: 2031\n",
      "model year: 2032\n",
      "model year: 2033\n",
      "model year: 2034\n",
      "visualizing results ... \n",
      "saving results ... \n",
      "\n",
      "\n",
      "scenario number: 6\n",
      "parameters: \n",
      "{'hub_network': 'centralized', 'network_type': 'water', 'truck_type': 'electric', 'biobased_type': 'full', 'modularity_type': 'full', 'circularity_type': 'extreme', 'model_boundary': 'metropolitan region of amsterdam'}\n",
      "running model ... \n",
      "model year: 2023\n",
      "model year: 2024\n",
      "model year: 2025\n",
      "model year: 2026\n",
      "model year: 2027\n",
      "model year: 2028\n",
      "model year: 2029\n",
      "model year: 2030\n",
      "model year: 2031\n",
      "model year: 2032\n",
      "model year: 2033\n",
      "model year: 2034\n",
      "visualizing results ... \n",
      "saving results ... \n"
     ]
    }
   ],
   "source": [
    "for scenario_number, parameters_dict in bimzec_scenarios.items(): \n",
    "    print(f'\\n\\nscenario number: {scenario_number}')\n",
    "    print(f'parameters: \\n{parameters_dict}')\n",
    "\n",
    "    print('running model ... ')\n",
    "    model = Model(parameters_dict)\n",
    "    for i in range(12): \n",
    "        print(f'model year: {i+2023}')\n",
    "        model.step()\n",
    "\n",
    "    print('visualizing results ... ')\n",
    "    emissions_text, fig_emissions, fig_emissions_perMaterial, fig_materials_all, fig_materials_hubs, map_html, results_df = model.visualize()\n",
    "    fig_dict = {\n",
    "        'emissions': fig_emissions, \n",
    "        'emissions_perMaterial': fig_emissions_perMaterial, \n",
    "        'materialComposition_MRA': fig_materials_all, \n",
    "        'materialComposition_hubs': fig_materials_hubs, \n",
    "        'foliumMap': map_html, \n",
    "    }\n",
    "\n",
    "    print('saving results ... ')\n",
    "    # save plotly charts \n",
    "    import plotly.offline as pyo\n",
    "    fig_name_list = list(fig_dict.keys())\n",
    "    fig_name_list.remove('foliumMap')\n",
    "    for fig_name in fig_name_list: \n",
    "        html_file_path = f'results/bimzecScenarios/s{scenario_number}_{fig_name}.html'\n",
    "        pyo.plot(fig_dict[fig_name], filename=html_file_path, auto_open=False)\n",
    "\n",
    "    # save folium map \n",
    "    with open(f'results/bimzecScenarios/s{scenario_number}_foliumMap.html', 'w', encoding='utf-8') as html_file: \n",
    "        html_file.write(fig_dict['foliumMap'])\n",
    "\n",
    "    # save text file\n",
    "    with open(f'results/bimzecScenarios/s{scenario_number}_resultsText.txt', 'w', encoding='utf-8') as text_file:\n",
    "        text_file.write(emissions_text)\n",
    "        \n",
    "    # save csv of results\n",
    "    results_df['scenario'] = scenario_number\n",
    "    results_df.to_csv(f'results/bimzecScenarios/s{scenario_number}_results.csv', index=False)"
   ]
  },
  {
   "cell_type": "code",
   "execution_count": 123,
   "id": "5646a4d6",
   "metadata": {},
   "outputs": [
    {
     "name": "stdout",
     "output_type": "stream",
     "text": [
      "\n",
      "\n",
      "scenario number: 1\n",
      "parameters: \n",
      "{'hub_network': 'none', 'network_type': 'road', 'truck_type': 'diesel', 'biobased_type': 'none', 'modularity_type': 'none', 'circularity_type': 'none', 'model_boundary': 'metropolitan region of amsterdam'}\n",
      "running model ... \n",
      "model year: 2023\n",
      "model year: 2024\n",
      "model year: 2025\n",
      "model year: 2026\n",
      "model year: 2027\n",
      "model year: 2028\n",
      "model year: 2029\n",
      "model year: 2030\n",
      "model year: 2031\n",
      "model year: 2032\n",
      "model year: 2033\n",
      "model year: 2034\n",
      "getting results ... \n",
      "\n",
      "\n",
      "scenario number: 2\n",
      "parameters: \n",
      "{'hub_network': 'centralized', 'network_type': 'water', 'truck_type': 'diesel', 'biobased_type': 'none', 'modularity_type': 'none', 'circularity_type': 'none', 'model_boundary': 'metropolitan region of amsterdam'}\n",
      "running model ... \n",
      "model year: 2023\n",
      "model year: 2024\n",
      "model year: 2025\n",
      "model year: 2026\n",
      "model year: 2027\n",
      "model year: 2028\n",
      "model year: 2029\n",
      "model year: 2030\n",
      "model year: 2031\n",
      "model year: 2032\n",
      "model year: 2033\n",
      "model year: 2034\n",
      "getting results ... \n",
      "\n",
      "\n",
      "scenario number: 3\n",
      "parameters: \n",
      "{'hub_network': 'centralized', 'network_type': 'water', 'truck_type': 'semi', 'biobased_type': 'none', 'modularity_type': 'none', 'circularity_type': 'none', 'model_boundary': 'metropolitan region of amsterdam'}\n",
      "running model ... \n",
      "model year: 2023\n",
      "model year: 2024\n",
      "model year: 2025\n",
      "model year: 2026\n",
      "model year: 2027\n",
      "model year: 2028\n",
      "model year: 2029\n",
      "model year: 2030\n",
      "model year: 2031\n",
      "model year: 2032\n",
      "model year: 2033\n",
      "model year: 2034\n",
      "getting results ... \n",
      "\n",
      "\n",
      "scenario number: 4\n",
      "parameters: \n",
      "{'hub_network': 'centralized', 'network_type': 'water', 'truck_type': 'semi', 'biobased_type': 'full', 'modularity_type': 'none', 'circularity_type': 'none', 'model_boundary': 'metropolitan region of amsterdam'}\n",
      "running model ... \n",
      "model year: 2023\n",
      "model year: 2024\n",
      "model year: 2025\n",
      "model year: 2026\n",
      "model year: 2027\n",
      "model year: 2028\n",
      "model year: 2029\n",
      "model year: 2030\n",
      "model year: 2031\n",
      "model year: 2032\n",
      "model year: 2033\n",
      "model year: 2034\n",
      "getting results ... \n",
      "\n",
      "\n",
      "scenario number: 5\n",
      "parameters: \n",
      "{'hub_network': 'centralized', 'network_type': 'water', 'truck_type': 'electric', 'biobased_type': 'full', 'modularity_type': 'full', 'circularity_type': 'none', 'model_boundary': 'metropolitan region of amsterdam'}\n",
      "running model ... \n",
      "model year: 2023\n",
      "model year: 2024\n",
      "model year: 2025\n",
      "model year: 2026\n",
      "model year: 2027\n",
      "model year: 2028\n",
      "model year: 2029\n",
      "model year: 2030\n",
      "model year: 2031\n",
      "model year: 2032\n",
      "model year: 2033\n",
      "model year: 2034\n",
      "getting results ... \n",
      "\n",
      "\n",
      "scenario number: 6\n",
      "parameters: \n",
      "{'hub_network': 'centralized', 'network_type': 'water', 'truck_type': 'electric', 'biobased_type': 'full', 'modularity_type': 'full', 'circularity_type': 'extreme', 'model_boundary': 'metropolitan region of amsterdam'}\n",
      "running model ... \n",
      "model year: 2023\n",
      "model year: 2024\n",
      "model year: 2025\n",
      "model year: 2026\n",
      "model year: 2027\n",
      "model year: 2028\n",
      "model year: 2029\n",
      "model year: 2030\n",
      "model year: 2031\n",
      "model year: 2032\n",
      "model year: 2033\n",
      "model year: 2034\n",
      "getting results ... \n"
     ]
    }
   ],
   "source": [
    "# get shps and csvs for caspar\n",
    "\n",
    "scenario_results = {}\n",
    "\n",
    "for scenario_number, parameters_dict in bimzec_scenarios.items(): \n",
    "# scenario_number = 6\n",
    "# parameters_dict = bimzec_scenarios[scenario_number]\n",
    "    print(f'\\n\\nscenario number: {scenario_number}')\n",
    "    print(f'parameters: \\n{parameters_dict}')\n",
    "\n",
    "    print('running model ... ')\n",
    "    model = Model(parameters_dict)\n",
    "    for i in range(12): \n",
    "        print(f'model year: {i+2023}')\n",
    "        model.step()\n",
    "\n",
    "    print('getting results ... ')\n",
    "    results_df, shps_all, emissions_df, emissions_perMaterial_df, tons_byMaterialType, tons_byCircularityType = model.make_results_forCaspar()\n",
    "\n",
    "    scenario_results[scenario_number] = {\n",
    "        'results_df': results_df,\n",
    "        'shps_all': shps_all,\n",
    "        'emissions_df': emissions_df,\n",
    "        'emissions_perMaterial_df': emissions_perMaterial_df,\n",
    "        'tons_byMaterialType': tons_byMaterialType,\n",
    "        'tons_byCircularityType': tons_byCircularityType\n",
    "    }"
   ]
  },
  {
   "cell_type": "code",
   "execution_count": 128,
   "id": "7ba6045b",
   "metadata": {},
   "outputs": [
    {
     "name": "stderr",
     "output_type": "stream",
     "text": [
      "C:\\Users\\tpytsui\\AppData\\Local\\Temp\\ipykernel_19344\\477910880.py:20: UserWarning:\n",
      "\n",
      "Column names longer than 10 characters will be truncated when saved to ESRI Shapefile.\n",
      "\n"
     ]
    }
   ],
   "source": [
    "for scenario_number, results in scenario_results.items(): \n",
    "    # print(f'\\n\\nscenario number: {scenario_number}')\n",
    "    # print(f'results: \\n{results[\"results_df\"]}')\n",
    "    # print(f'emissions_df: \\n{results[\"emissions_df\"]}')\n",
    "    # print(f'emissions_perMaterial_df: \\n{results[\"emissions_perMaterial_df\"]}')\n",
    "    # print(f'tons_byMaterialType: \\n{results[\"tons_byMaterialType\"]}')\n",
    "    # print(f'tons_byCircularityType: \\n{results[\"tons_byCircularityType\"]}')\n",
    "    # for gdf_name, gdf in results['shps_all'].items(): \n",
    "    #     print(f'{gdf_name}: \\n{gdf.head()}')\n",
    "\n",
    "    # save results\n",
    "    results['results_df'].to_csv(f'results/forCaspar_240209/s{scenario_number}_results.csv', index=False)\n",
    "    results['emissions_perMaterial_df'].to_csv(f'results/forCaspar_240209/s{scenario_number}_emissions_perMaterial.csv', index=False)\n",
    "    results['tons_byMaterialType'].to_csv(f'results/forCaspar_240209/s{scenario_number}_tons_byMaterialType.csv', index=False)\n",
    "    results['tons_byCircularityType'].to_csv(f'results/forCaspar_240209/s{scenario_number}_tons_byCircularityType.csv', index=False)\n",
    "\n",
    "    # save shps\n",
    "    for gdf_name, gdf in results['shps_all'].items(): \n",
    "        if not gdf.empty:\n",
    "            gdf.to_file(f'results/forCaspar_240209/s{scenario_number}_{gdf_name}.shp')\n"
   ]
  },
  {
   "cell_type": "code",
   "execution_count": null,
   "id": "2be42438",
   "metadata": {},
   "outputs": [
    {
     "name": "stdout",
     "output_type": "stream",
     "text": [
      "\n",
      "\n",
      "scenario number: 1\n",
      "parameters: \n",
      "{'hub_network': 'none', 'network_type': 'road', 'truck_type': 'diesel', 'biobased_type': 'none', 'modularity_type': 'none', 'circularity_type': 'none', 'model_boundary': 'metropolitan region of amsterdam'}\n",
      "running model ... \n",
      "model year: 2023\n",
      "model year: 2024\n",
      "model year: 2025\n",
      "model year: 2026\n",
      "model year: 2027\n",
      "model year: 2028\n",
      "model year: 2029\n",
      "model year: 2030\n",
      "model year: 2031\n",
      "model year: 2032\n",
      "model year: 2033\n",
      "model year: 2034\n",
      "visualizing results ... \n",
      "saving results ... \n",
      "\n",
      "\n",
      "scenario number: 2\n",
      "parameters: \n",
      "{'hub_network': 'centralized', 'network_type': 'water', 'truck_type': 'diesel', 'biobased_type': 'none', 'modularity_type': 'none', 'circularity_type': 'none', 'model_boundary': 'metropolitan region of amsterdam'}\n",
      "running model ... \n",
      "model year: 2023\n",
      "model year: 2024\n",
      "model year: 2025\n",
      "model year: 2026\n",
      "model year: 2027\n",
      "model year: 2028\n",
      "model year: 2029\n",
      "model year: 2030\n",
      "model year: 2031\n",
      "model year: 2032\n",
      "model year: 2033\n",
      "model year: 2034\n",
      "visualizing results ... \n",
      "saving results ... \n",
      "\n",
      "\n",
      "scenario number: 3\n",
      "parameters: \n",
      "{'hub_network': 'centralized', 'network_type': 'water', 'truck_type': 'semi', 'biobased_type': 'none', 'modularity_type': 'none', 'circularity_type': 'none', 'model_boundary': 'metropolitan region of amsterdam'}\n",
      "running model ... \n",
      "model year: 2023\n",
      "model year: 2024\n",
      "model year: 2025\n",
      "model year: 2026\n",
      "model year: 2027\n",
      "model year: 2028\n",
      "model year: 2029\n",
      "model year: 2030\n",
      "model year: 2031\n",
      "model year: 2032\n",
      "model year: 2033\n",
      "model year: 2034\n",
      "visualizing results ... \n",
      "saving results ... \n",
      "\n",
      "\n",
      "scenario number: 4\n",
      "parameters: \n",
      "{'hub_network': 'centralized', 'network_type': 'water', 'truck_type': 'semi', 'biobased_type': 'full', 'modularity_type': 'none', 'circularity_type': 'none', 'model_boundary': 'metropolitan region of amsterdam'}\n",
      "running model ... \n",
      "model year: 2023\n",
      "model year: 2024\n",
      "model year: 2025\n",
      "model year: 2026\n",
      "model year: 2027\n",
      "model year: 2028\n",
      "model year: 2029\n",
      "model year: 2030\n",
      "model year: 2031\n",
      "model year: 2032\n",
      "model year: 2033\n",
      "model year: 2034\n",
      "visualizing results ... \n",
      "saving results ... \n",
      "\n",
      "\n",
      "scenario number: 5\n",
      "parameters: \n",
      "{'hub_network': 'centralized', 'network_type': 'water', 'truck_type': 'electric', 'biobased_type': 'full', 'modularity_type': 'full', 'circularity_type': 'none', 'model_boundary': 'metropolitan region of amsterdam'}\n",
      "running model ... \n",
      "model year: 2023\n",
      "model year: 2024\n",
      "model year: 2025\n",
      "model year: 2026\n",
      "model year: 2027\n",
      "model year: 2028\n",
      "model year: 2029\n",
      "model year: 2030\n",
      "model year: 2031\n",
      "model year: 2032\n",
      "model year: 2033\n",
      "model year: 2034\n",
      "visualizing results ... \n",
      "saving results ... \n",
      "\n",
      "\n",
      "scenario number: 6\n",
      "parameters: \n",
      "{'hub_network': 'centralized', 'network_type': 'water', 'truck_type': 'electric', 'biobased_type': 'full', 'modularity_type': 'full', 'circularity_type': 'extreme', 'model_boundary': 'metropolitan region of amsterdam'}\n",
      "running model ... \n",
      "model year: 2023\n",
      "model year: 2024\n",
      "model year: 2025\n",
      "model year: 2026\n",
      "model year: 2027\n",
      "model year: 2028\n",
      "model year: 2029\n",
      "model year: 2030\n",
      "model year: 2031\n",
      "model year: 2032\n",
      "model year: 2033\n",
      "model year: 2034\n",
      "visualizing results ... \n",
      "saving results ... \n"
     ]
    }
   ],
   "source": [
    "for scenario_number, parameters_dict in bimzec_scenarios.items(): \n",
    "    print(f'\\n\\nscenario number: {scenario_number}')\n",
    "    print(f'parameters: \\n{parameters_dict}')\n",
    "\n",
    "    print('running model ... ')\n",
    "    model = Model(parameters_dict)\n",
    "    for i in range(12): \n",
    "        print(f'model year: {i+2023}')\n",
    "        model.step()\n",
    "\n",
    "    print('visualizing results ... ')\n",
    "    emissions_text, fig_emissions, fig_emissions_perMaterial, fig_materials_all, fig_materials_hubs, map_html, results_df = model.visualize()\n",
    "    fig_dict = {\n",
    "        'emissions': fig_emissions, \n",
    "        'emissions_perMaterial': fig_emissions_perMaterial, \n",
    "        'materialComposition_MRA': fig_materials_all, \n",
    "        'materialComposition_hubs': fig_materials_hubs, \n",
    "        'foliumMap': map_html, \n",
    "    }\n",
    "\n",
    "    print('saving results ... ')\n",
    "    # save plotly charts \n",
    "    import plotly.offline as pyo\n",
    "    fig_name_list = list(fig_dict.keys())\n",
    "    fig_name_list.remove('foliumMap')\n",
    "    for fig_name in fig_name_list: \n",
    "        html_file_path = f'results/bimzecScenarios/s{scenario_number}_{fig_name}.html'\n",
    "        pyo.plot(fig_dict[fig_name], filename=html_file_path, auto_open=False)\n",
    "\n",
    "    # save folium map \n",
    "    with open(f'results/bimzecScenarios/s{scenario_number}_foliumMap.html', 'w', encoding='utf-8') as html_file: \n",
    "        html_file.write(fig_dict['foliumMap'])\n",
    "\n",
    "    # save text file\n",
    "    with open(f'results/bimzecScenarios/s{scenario_number}_resultsText.txt', 'w', encoding='utf-8') as text_file:\n",
    "        text_file.write(emissions_text)\n",
    "        \n",
    "    # save csv of results\n",
    "    results_df['scenario'] = scenario_number\n",
    "    results_df.to_csv(f'results/bimzecScenarios/s{scenario_number}_results.csv', index=False)"
   ]
  },
  {
   "cell_type": "code",
   "execution_count": null,
   "id": "d7a31f28",
   "metadata": {},
   "outputs": [],
   "source": []
  },
  {
   "cell_type": "code",
   "execution_count": null,
   "id": "b090deab",
   "metadata": {},
   "outputs": [],
   "source": []
  },
  {
   "cell_type": "code",
   "execution_count": null,
   "id": "4b101bb2",
   "metadata": {},
   "outputs": [],
   "source": []
  },
  {
   "cell_type": "code",
   "execution_count": null,
   "id": "f3125c7e",
   "metadata": {},
   "outputs": [],
   "source": []
  },
  {
   "cell_type": "code",
   "execution_count": 82,
   "id": "a1f7fc60-8233-4a82-9b7e-bafee5001692",
   "metadata": {},
   "outputs": [
    {
     "data": {
      "text/html": [
       "<iframe\n",
       "    scrolling=\"no\"\n",
       "    width=\"1020px\"\n",
       "    height=\"545px\"\n",
       "    src=\"iframe_figures/figure_82.html\"\n",
       "    frameborder=\"0\"\n",
       "    allowfullscreen\n",
       "></iframe>\n"
      ]
     },
     "metadata": {},
     "output_type": "display_data"
    }
   ],
   "source": [
    "results_dfs = []\n",
    "area = 'whole model'\n",
    "for i in range(6): \n",
    "    scenario_number = i + 1\n",
    "    results_df = pd.read_csv(f'results/bimzecScenarios/s{scenario_number}_results.csv')\n",
    "    results_df = results_df[results_df.area == area]\n",
    "    results_dfs.append(results_df)\n",
    "    \n",
    "results_all = pd.concat(results_dfs)\n",
    "def convertCO2(row): \n",
    "    if row.result_name == 'co2': \n",
    "        row.value = row.value * 1000000\n",
    "        row.unit = 'g'\n",
    "    return row\n",
    "results_all = results_all.apply(lambda row: convertCO2(row), axis=1)\n",
    "\n",
    "emissions_names = ['co2', 'NOX', 'PM2.5', 'PM10']\n",
    "emissions = results_all[results_all.result_name.isin(emissions_names)]\n",
    "logistics = results_all[results_all.result_name == 'logistic movements']\n",
    "\n",
    "import plotly.express as px\n",
    "import plotly.graph_objs as go\n",
    "\n",
    "# Create the emissions plot with different colors for each emission type\n",
    "fig = px.line(emissions, x='scenario', y='value', color='result_name', \n",
    "              title=f'BAU to BIMZEC for {area}', labels={'value': 'Emissions (grams)'})\n",
    "fig.update_traces(mode='lines')\n",
    "\n",
    "# Add the logistics plot as a secondary trace on the right y-axis with dotted line style\n",
    "logistics_trace = go.Scatter(\n",
    "    x=logistics['scenario'], y=logistics['value'], \n",
    "    mode='lines', name='Logistics', yaxis='y2',\n",
    "    line=dict(color='black', dash='dot')  # Set line style to dotted\n",
    ")\n",
    "\n",
    "fig.add_trace(logistics_trace)\n",
    "\n",
    "# Update the layout to include a secondary y-axis and move the legend\n",
    "fig.update_layout(\n",
    "    width=1000,\n",
    "    xaxis=dict(title='Scenario'),\n",
    "    yaxis=dict(title='Emissions (grams)', side='left', showgrid=False),\n",
    "    yaxis2=dict(title='Logistics (km)', side='right', overlaying='y', showgrid=False),\n",
    "    legend=dict(title_text='Legend', x=1.1, xanchor='left'),  # Adjust legend position\n",
    ")\n",
    "\n",
    "# Show the figure\n",
    "fig.show(renderer='iframe')\n"
   ]
  }
 ],
 "metadata": {
  "kernelspec": {
   "display_name": "Python 3 (ipykernel)",
   "language": "python",
   "name": "python3"
  },
  "language_info": {
   "codemirror_mode": {
    "name": "ipython",
    "version": 3
   },
   "file_extension": ".py",
   "mimetype": "text/x-python",
   "name": "python",
   "nbconvert_exporter": "python",
   "pygments_lexer": "ipython3",
   "version": "3.11.0"
  },
  "toc-autonumbering": false,
  "toc-showcode": false,
  "toc-showmarkdowntxt": false,
  "toc-showtags": false
 },
 "nbformat": 4,
 "nbformat_minor": 5
}
