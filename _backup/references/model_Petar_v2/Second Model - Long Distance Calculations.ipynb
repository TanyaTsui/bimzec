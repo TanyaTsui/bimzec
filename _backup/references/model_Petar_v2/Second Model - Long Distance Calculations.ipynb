{
 "cells": [
  {
   "cell_type": "code",
   "execution_count": 1,
   "id": "f44977f7",
   "metadata": {},
   "outputs": [
    {
     "name": "stdout",
     "output_type": "stream",
     "text": [
      "The distance between the two points is 6.0 kilometers.\n",
      "The estimated travel time is 14.0 minutes.\n"
     ]
    }
   ],
   "source": [
    "import openrouteservice\n",
    "from openrouteservice import convert\n",
    "import folium\n",
    "import json\n",
    "\n",
    "client = openrouteservice.Client(key='5b3ce3597851110001cf624818a4b9738d784b54902ce48c55862c58')\n",
    "\n",
    "coords = ((80.21787585263182,6.025423265401452),(80.23990263756545,6.018498276842677))\n",
    "res = client.directions(coords)\n",
    "geometry = client.directions(coords)['routes'][0]['geometry']\n",
    "decoded = convert.decode_polyline(geometry)\n",
    "\n",
    "distance = round(res['routes'][0]['summary']['distance']/1000,1)\n",
    "duration = round(res['routes'][0]['summary']['duration']/60,1)\n",
    "\n",
    "distance_txt = \"<h4> <b>Distance :&nbsp\" + \"<strong>\"+str(distance)+\" Km </strong>\" +\"</h4></b>\"\n",
    "duration_txt = \"<h4> <b>Duration :&nbsp\" + \"<strong>\"+str(duration)+\" Mins. </strong>\" +\"</h4></b>\"\n",
    "\n",
    "print(\"The distance between the two points is\", distance, \"kilometers.\")\n",
    "print(\"The estimated travel time is\", duration, \"minutes.\")\n",
    "\n",
    "m = folium.Map(location=[6.074834613830474, 80.25749815575348],zoom_start=10, control_scale=True,tiles=\"cartodbpositron\")\n",
    "folium.GeoJson(decoded).add_child(folium.Popup(distance_txt+duration_txt,max_width=300)).add_to(m)\n",
    "\n",
    "folium.Marker(\n",
    "    location=list(coords[0][::-1]),\n",
    "    popup=\"Galle fort\",\n",
    "    icon=folium.Icon(color=\"green\"),\n",
    ").add_to(m)\n",
    "\n",
    "folium.Marker(\n",
    "    location=list(coords[1][::-1]),\n",
    "    popup=\"Jungle beach\",\n",
    "    icon=folium.Icon(color=\"red\"),\n",
    ").add_to(m)\n",
    "\n",
    "m.save('map.html')"
   ]
  },
  {
   "cell_type": "code",
   "execution_count": 2,
   "id": "a4640fe4",
   "metadata": {},
   "outputs": [
    {
     "data": {
      "text/html": [
       "\n",
       "        <iframe\n",
       "            width=\"700\"\n",
       "            height=\"600\"\n",
       "            src=\"./map.html\"\n",
       "            frameborder=\"0\"\n",
       "            allowfullscreen\n",
       "            \n",
       "        ></iframe>\n",
       "        "
      ],
      "text/plain": [
       "<IPython.lib.display.IFrame at 0x21225a5d280>"
      ]
     },
     "execution_count": 2,
     "metadata": {},
     "output_type": "execute_result"
    }
   ],
   "source": [
    "from IPython.display import IFrame\n",
    "\n",
    "IFrame(src='./map.html', width=700, height=600)\n"
   ]
  },
  {
   "cell_type": "code",
   "execution_count": 3,
   "id": "c5ecd0d7",
   "metadata": {},
   "outputs": [
    {
     "name": "stdout",
     "output_type": "stream",
     "text": [
      "The distance between the two points is 1084.9 kilometers.\n",
      "The estimated travel time is 588.4 minutes.\n"
     ]
    }
   ],
   "source": [
    "# Kaufmannbausysteme Standort Österreich - Kalwang(47.422984, 14.745254), Standort Berlin - (52.430731, 13.57124), Amsterdam ALC (52.41687, 4.83531)\n",
    "\n",
    "# from:: https://medium.com/analytics-vidhya/measure-driving-distance-time-and-plot-routes-between-two-geographical-locations-using-python-39995dfea7e\n",
    "\n",
    "client = openrouteservice.Client(key='5b3ce3597851110001cf624818a4b9738d784b54902ce48c55862c58')\n",
    "\n",
    "Amsterdam = (4.835863846254326, 52.416855091985106)\n",
    "\n",
    "coords = ((14.745072617692786, 47.422977831433016, ), Amsterdam) \n",
    "res = client.directions(coords)\n",
    "geometry = client.directions(coords)['routes'][0]['geometry']\n",
    "decoded = convert.decode_polyline(geometry)\n",
    "\n",
    "distance = round(res['routes'][0]['summary']['distance']/1000,1)\n",
    "duration = round(res['routes'][0]['summary']['duration']/60,1)\n",
    "\n",
    "distance_txt = \"<h4> <b>Distance :&nbsp\" + \"<strong>\"+str(distance)+\" Km </strong>\" +\"</h4></b>\"\n",
    "duration_txt = \"<h4> <b>Duration :&nbsp\" + \"<strong>\"+str(duration)+\" Mins. </strong>\" +\"</h4></b>\"\n",
    "\n",
    "print(\"The distance between the two points is\", distance, \"kilometers.\")\n",
    "print(\"The estimated travel time is\", duration, \"minutes.\")\n",
    "\n",
    "m = folium.Map(location=[52.430731, 4.83999],zoom_start=5, control_scale=True,tiles=\"cartodbpositron\")\n",
    "folium.GeoJson(decoded).add_child(folium.Popup(distance_txt+duration_txt,max_width=300)).add_to(m)\n",
    "\n",
    "folium.Marker(\n",
    "    location=list(coords[0][::-1]),\n",
    "    popup=\"Kaufmann Bausysteme Austria\",\n",
    "    icon=folium.Icon(color=\"green\"),\n",
    ").add_to(m)\n",
    "\n",
    "folium.Marker(\n",
    "    location=list(coords[1][::-1]),\n",
    "    popup=\"Amsterdam Logistic CityHub\",\n",
    "    icon=folium.Icon(color=\"red\"),\n",
    ").add_to(m)\n",
    "\n",
    "m.save('map.html')"
   ]
  },
  {
   "cell_type": "code",
   "execution_count": 4,
   "id": "61bbcfbf",
   "metadata": {},
   "outputs": [
    {
     "data": {
      "text/html": [
       "\n",
       "        <iframe\n",
       "            width=\"700\"\n",
       "            height=\"600\"\n",
       "            src=\"./map.html\"\n",
       "            frameborder=\"0\"\n",
       "            allowfullscreen\n",
       "            \n",
       "        ></iframe>\n",
       "        "
      ],
      "text/plain": [
       "<IPython.lib.display.IFrame at 0x212284bc4c0>"
      ]
     },
     "execution_count": 4,
     "metadata": {},
     "output_type": "execute_result"
    }
   ],
   "source": [
    "from IPython.display import IFrame\n",
    "\n",
    "IFrame(src='./map.html', width=700, height=600)\n"
   ]
  },
  {
   "cell_type": "code",
   "execution_count": 5,
   "id": "af6b726d",
   "metadata": {},
   "outputs": [
    {
     "name": "stdout",
     "output_type": "stream",
     "text": [
      "The distance between the two points is 679.5 kilometers.\n",
      "The estimated travel time is 373.4 minutes.\n"
     ]
    }
   ],
   "source": [
    "# Kaufmannbausysteme Standort Österreich - Kalwang(47.422984, 14.745254), Standort Berlin - (52.430731, 13.57124), Amsterdam ALC (52.41687, 4.83531)\n",
    "\n",
    "\n",
    "\n",
    "coords = ((13.57124, 52.430731), Amsterdam) \n",
    "res = client.directions(coords)\n",
    "geometry = client.directions(coords)['routes'][0]['geometry']\n",
    "decoded = convert.decode_polyline(geometry)\n",
    "\n",
    "distance = round(res['routes'][0]['summary']['distance']/1000,1)\n",
    "duration = round(res['routes'][0]['summary']['duration']/60,1)\n",
    "\n",
    "distance_txt = \"<h4> <b>Distance :&nbsp\" + \"<strong>\"+str(distance)+\" Km </strong>\" +\"</h4></b>\"\n",
    "duration_txt = \"<h4> <b>Duration :&nbsp\" + \"<strong>\"+str(duration)+\" Mins. </strong>\" +\"</h4></b>\"\n",
    "\n",
    "print(\"The distance between the two points is\", distance, \"kilometers.\")\n",
    "print(\"The estimated travel time is\", duration, \"minutes.\")\n",
    "\n",
    "m = folium.Map(location=[52.430731, 7],zoom_start=6, control_scale=True,tiles=\"cartodbpositron\")\n",
    "folium.GeoJson(decoded).add_child(folium.Popup(distance_txt+duration_txt,max_width=300)).add_to(m)\n",
    "\n",
    "folium.Marker(\n",
    "    location=list(coords[0][::-1]),\n",
    "    popup=\"Kaufmann Bausysteme Germany\",\n",
    "    icon=folium.Icon(color=\"green\"),\n",
    ").add_to(m)\n",
    "\n",
    "folium.Marker(\n",
    "    location=list(coords[1][::-1]),\n",
    "    popup=\"Amsterdam Logistic Cityhub\",\n",
    "    icon=folium.Icon(color=\"red\"),\n",
    ").add_to(m)\n",
    "\n",
    "m.save('map1.html')"
   ]
  },
  {
   "cell_type": "code",
   "execution_count": 6,
   "id": "73324c66",
   "metadata": {},
   "outputs": [
    {
     "data": {
      "text/html": [
       "\n",
       "        <iframe\n",
       "            width=\"700\"\n",
       "            height=\"600\"\n",
       "            src=\"./map1.html\"\n",
       "            frameborder=\"0\"\n",
       "            allowfullscreen\n",
       "            \n",
       "        ></iframe>\n",
       "        "
      ],
      "text/plain": [
       "<IPython.lib.display.IFrame at 0x212284f6e50>"
      ]
     },
     "execution_count": 6,
     "metadata": {},
     "output_type": "execute_result"
    }
   ],
   "source": [
    "from IPython.display import IFrame\n",
    "\n",
    "IFrame(src='./map1.html', width=700, height=600)\n"
   ]
  },
  {
   "cell_type": "code",
   "execution_count": 7,
   "id": "79527cb2",
   "metadata": {},
   "outputs": [
    {
     "name": "stdout",
     "output_type": "stream",
     "text": [
      "The distance between the two points is 1823.2 kilometers.\n",
      "The estimated travel time is 1077.5 minutes.\n"
     ]
    }
   ],
   "source": [
    "# Akmene Timber Factory Litauen 56.278600952443895, 22.880217994127253\n",
    "\n",
    "\n",
    "# Kaufmannbausysteme Standort Österreich - Kalwang(47.422984, 14.745254), Standort Berlin - (52.430731, 13.57124), Amsterdam ALC (52.41687, 4.83531)\n",
    "\n",
    "\n",
    "\n",
    "coords = ((22.880217994127253, 56.278600952443895), Amsterdam) \n",
    "res = client.directions(coords)\n",
    "geometry = client.directions(coords)['routes'][0]['geometry']\n",
    "decoded = convert.decode_polyline(geometry)\n",
    "\n",
    "distance = round(res['routes'][0]['summary']['distance']/1000,1)\n",
    "duration = round(res['routes'][0]['summary']['duration']/60,1)\n",
    "\n",
    "distance_txt = \"<h4> <b>Distance :&nbsp\" + \"<strong>\"+str(distance)+\" Km </strong>\" +\"</h4></b>\"\n",
    "duration_txt = \"<h4> <b>Duration :&nbsp\" + \"<strong>\"+str(duration)+\" Mins. </strong>\" +\"</h4></b>\"\n",
    "\n",
    "print(\"The distance between the two points is\", distance, \"kilometers.\")\n",
    "print(\"The estimated travel time is\", duration, \"minutes.\")\n",
    "\n",
    "m = folium.Map(location=[52.430731, 10],zoom_start=5, control_scale=True,tiles=\"cartodbpositron\")\n",
    "folium.GeoJson(decoded).add_child(folium.Popup(distance_txt+duration_txt,max_width=300)).add_to(m)\n",
    "\n",
    "folium.Marker(\n",
    "    location=list(coords[0][::-1]),\n",
    "    popup=\"VMG Lithuania\",\n",
    "    icon=folium.Icon(color=\"green\"),\n",
    ").add_to(m)\n",
    "\n",
    "folium.Marker(\n",
    "    location=list(coords[1][::-1]),\n",
    "    popup=\"Amsterdam Logistic CityHub\",\n",
    "    icon=folium.Icon(color=\"red\"),\n",
    ").add_to(m)\n",
    "\n",
    "m.save('map2.html')"
   ]
  },
  {
   "cell_type": "code",
   "execution_count": 8,
   "id": "960b0d6c",
   "metadata": {},
   "outputs": [
    {
     "data": {
      "text/html": [
       "\n",
       "        <iframe\n",
       "            width=\"700\"\n",
       "            height=\"600\"\n",
       "            src=\"./map2.html\"\n",
       "            frameborder=\"0\"\n",
       "            allowfullscreen\n",
       "            \n",
       "        ></iframe>\n",
       "        "
      ],
      "text/plain": [
       "<IPython.lib.display.IFrame at 0x21228493700>"
      ]
     },
     "execution_count": 8,
     "metadata": {},
     "output_type": "execute_result"
    }
   ],
   "source": [
    "from IPython.display import IFrame\n",
    "\n",
    "IFrame(src='./map2.html', width=700, height=600)\n"
   ]
  },
  {
   "cell_type": "code",
   "execution_count": 9,
   "id": "d0bd0000",
   "metadata": {},
   "outputs": [
    {
     "name": "stdout",
     "output_type": "stream",
     "text": [
      "The distance between the two points is 245.5 kilometers.\n",
      "The estimated travel time is 178.0 minutes.\n"
     ]
    }
   ],
   "source": [
    "#Cement Plants Belgium https://www.globalcement.com/magazine/articles/663-cement-in-belgium-and-the-netherlands\n",
    "\n",
    "#SA Cimenteries CBR Cementbedrijven NV (CBR) I Liege Facility (50.764288020962304, 5.6747747291562485)\n",
    "\n",
    "\n",
    "coords = ((5.6747747291562485, 50.764288020962304), Amsterdam) \n",
    "res = client.directions(coords)\n",
    "geometry = client.directions(coords)['routes'][0]['geometry']\n",
    "decoded = convert.decode_polyline(geometry)\n",
    "\n",
    "distance = round(res['routes'][0]['summary']['distance']/1000,1)\n",
    "duration = round(res['routes'][0]['summary']['duration']/60,1)\n",
    "\n",
    "distance_txt = \"<h4> <b>Distance :&nbsp\" + \"<strong>\"+str(distance)+\" Km </strong>\" +\"</h4></b>\"\n",
    "duration_txt = \"<h4> <b>Duration :&nbsp\" + \"<strong>\"+str(duration)+\" Mins. </strong>\" +\"</h4></b>\"\n",
    "\n",
    "print(\"The distance between the two points is\", distance, \"kilometers.\")\n",
    "print(\"The estimated travel time is\", duration, \"minutes.\")\n",
    "\n",
    "m = folium.Map(location=[52.430731, 5],zoom_start=7, control_scale=True,tiles=\"cartodbpositron\")\n",
    "folium.GeoJson(decoded).add_child(folium.Popup(distance_txt+duration_txt,max_width=300)).add_to(m)\n",
    "\n",
    "folium.Marker(\n",
    "    location=list(coords[0][::-1]),\n",
    "    popup=\"CBR Liege\",\n",
    "    icon=folium.Icon(color=\"black\"),\n",
    ").add_to(m)\n",
    "\n",
    "folium.Marker(\n",
    "    location=list(coords[1][::-1]),\n",
    "    popup=\"Amsterdam Logistic CityHub\",\n",
    "    icon=folium.Icon(color=\"red\"),\n",
    ").add_to(m)\n",
    "\n",
    "m.save('cement.html')"
   ]
  },
  {
   "cell_type": "code",
   "execution_count": 10,
   "id": "d0c91723",
   "metadata": {},
   "outputs": [
    {
     "data": {
      "text/html": [
       "\n",
       "        <iframe\n",
       "            width=\"700\"\n",
       "            height=\"600\"\n",
       "            src=\"./cement.html\"\n",
       "            frameborder=\"0\"\n",
       "            allowfullscreen\n",
       "            \n",
       "        ></iframe>\n",
       "        "
      ],
      "text/plain": [
       "<IPython.lib.display.IFrame at 0x21225a297f0>"
      ]
     },
     "execution_count": 10,
     "metadata": {},
     "output_type": "execute_result"
    }
   ],
   "source": [
    "from IPython.display import IFrame\n",
    "\n",
    "IFrame(src='./cement.html', width=700, height=600)\n"
   ]
  },
  {
   "cell_type": "code",
   "execution_count": 11,
   "id": "c491c541",
   "metadata": {},
   "outputs": [
    {
     "name": "stdout",
     "output_type": "stream",
     "text": [
      "The distance between the two points is 319.1 kilometers.\n",
      "The estimated travel time is 202.5 minutes.\n"
     ]
    }
   ],
   "source": [
    "#Cement Plants Belgium https://www.globalcement.com/magazine/articles/663-cement-in-belgium-and-the-netherlands\n",
    "\n",
    "#CCB I  Gaurain-Ramecroix  (50.599039357876144, 3.4921961430220603)\n",
    "\n",
    "## Timbeco CLT ! one more \n",
    "\n",
    "coords = ((3.4921961430220603, 50.599039357876144), Amsterdam) \n",
    "res = client.directions(coords)\n",
    "geometry = client.directions(coords)['routes'][0]['geometry']\n",
    "decoded = convert.decode_polyline(geometry)\n",
    "\n",
    "distance = round(res['routes'][0]['summary']['distance']/1000,1)\n",
    "duration = round(res['routes'][0]['summary']['duration']/60,1)\n",
    "\n",
    "distance_txt = \"<h4> <b>Distance :&nbsp\" + \"<strong>\"+str(distance)+\" Km </strong>\" +\"</h4></b>\"\n",
    "duration_txt = \"<h4> <b>Duration :&nbsp\" + \"<strong>\"+str(duration)+\" Mins. </strong>\" +\"</h4></b>\"\n",
    "\n",
    "print(\"The distance between the two points is\", distance, \"kilometers.\")\n",
    "print(\"The estimated travel time is\", duration, \"minutes.\")\n",
    "\n",
    "m = folium.Map(location=[52.430731, 5],zoom_start=7, control_scale=True,tiles=\"cartodbpositron\")\n",
    "folium.GeoJson(decoded).add_child(folium.Popup(distance_txt+duration_txt,max_width=300)).add_to(m)\n",
    "\n",
    "folium.Marker(\n",
    "    location=list(coords[0][::-1]),\n",
    "    popup=\"CCB Gaurain-Ramecroix \",\n",
    "    icon=folium.Icon(color=\"black\"),\n",
    ").add_to(m)\n",
    "\n",
    "folium.Marker(\n",
    "    location=list(coords[1][::-1]),\n",
    "    popup=\"Amsterdam Logistic CityHub\",\n",
    "    icon=folium.Icon(color=\"red\"),\n",
    ").add_to(m)\n",
    "\n",
    "m.save('cement1.html')"
   ]
  },
  {
   "cell_type": "code",
   "execution_count": 12,
   "id": "e9ebc08a",
   "metadata": {},
   "outputs": [
    {
     "data": {
      "text/html": [
       "\n",
       "        <iframe\n",
       "            width=\"700\"\n",
       "            height=\"600\"\n",
       "            src=\"./cement1.html\"\n",
       "            frameborder=\"0\"\n",
       "            allowfullscreen\n",
       "            \n",
       "        ></iframe>\n",
       "        "
      ],
      "text/plain": [
       "<IPython.lib.display.IFrame at 0x21225a295e0>"
      ]
     },
     "execution_count": 12,
     "metadata": {},
     "output_type": "execute_result"
    }
   ],
   "source": [
    "from IPython.display import IFrame\n",
    "\n",
    "IFrame(src='./cement1.html', width=700, height=600)\n"
   ]
  }
 ],
 "metadata": {
  "kernelspec": {
   "display_name": "Python 3 (ipykernel)",
   "language": "python",
   "name": "python3"
  },
  "language_info": {
   "codemirror_mode": {
    "name": "ipython",
    "version": 3
   },
   "file_extension": ".py",
   "mimetype": "text/x-python",
   "name": "python",
   "nbconvert_exporter": "python",
   "pygments_lexer": "ipython3",
   "version": "3.11.0"
  }
 },
 "nbformat": 4,
 "nbformat_minor": 5
}
