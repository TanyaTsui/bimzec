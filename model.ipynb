{
 "cells": [
  {
   "cell_type": "code",
   "execution_count": 1,
   "id": "2070e485-c622-4da1-8257-2219677fd6d9",
   "metadata": {},
   "outputs": [],
   "source": [
    "from mesa import Agent, Model\n",
    "from mesa.time import RandomActivation, BaseScheduler\n",
    "import pandas as pd\n",
    "import geopandas as gpd\n",
    "import shapely\n",
    "from shapely.geometry import Polygon, Point, MultiPoint, box\n",
    "import math\n",
    "import matplotlib.pyplot as plt\n",
    "import numpy as np\n",
    "from numpy import exp\n",
    "from numpy.random import rand, seed\n",
    "import folium\n",
    "import random \n",
    "from haversine import haversine\n",
    "import plotly.express as px\n",
    "import base64\n",
    "from io import BytesIO\n",
    "from IPython.display import IFrame\n",
    "pd.options.mode.chained_assignment = None  # default='warn'"
   ]
  },
  {
   "cell_type": "code",
   "execution_count": 304,
   "id": "15d600bb-fd7b-4f45-ba09-5de590be888e",
   "metadata": {},
   "outputs": [],
   "source": [
    "class ConstructionSite(Agent): \n",
    "    def __init__(self, unique_id, model, buildingType, coords, inA10, waterbound):\n",
    "        super().__init__(unique_id, model)\n",
    "        self.buildingType = buildingType # A, B, C...etc. \n",
    "        self.coords = coords \n",
    "        self.inA10 = inA10 # True or False \n",
    "        self.waterbound = waterbound # True of False\n",
    "        self.materials_request = {}\n",
    "        self.materials_received = {}\n",
    "        \n",
    "        if self.model.hub_network == 'decentralized': \n",
    "            self.nearestHub_id = None\n",
    "            self.nearestHub_dist = None\n",
    "        self.nearestMacroHub_id = None\n",
    "        self.nearestMacroHub_dist = None\n",
    "        \n",
    "        self.filter_material_composition_df()\n",
    "        self.make_dicts_siteInfo()\n",
    "        self.calc_materials_required()\n",
    "            \n",
    "    def filter_material_composition_df(self): \n",
    "        '''make df of materials required, based on building type and biobased type'''\n",
    "        b = self.model.build_info.copy()\n",
    "        b = b[(b.buildingType == self.buildingType) & (b.biobased_type == self.model.biobased_type)] \n",
    "        self.material_composition_df = b\n",
    "    \n",
    "    def make_dicts_siteInfo(self): \n",
    "        '''make dictionaries required to record information on construction site'''\n",
    "        self.materials_required = {\n",
    "            strucType: {\n",
    "                mat: 0 for mat in [mat for mat in self.model.materials_list if mat != 'modules']\n",
    "            } for strucType in ['foundation', 'structural', 'non-structural']\n",
    "        }\n",
    "        self.materials_received = {\n",
    "            strucType: {\n",
    "                mat: 0 for mat in self.model.materials_list\n",
    "            } for strucType in ['foundation', 'structural', 'non-structural']\n",
    "        }\n",
    "\n",
    "    def calc_materials_required(self): \n",
    "        '''calculate materials required based on modularity_type\n",
    "        self.materials_required = {'foundation': {'timber': 123, ...}, ... }'''        \n",
    "        b = self.material_composition_df\n",
    "        if self.model.modularity_type == 'none':\n",
    "            strucTypes = ['foundation', 'structural', 'non-structural']\n",
    "        else: \n",
    "            strucTypes = ['foundation', 'structural']\n",
    "        \n",
    "        for strucType, mat_amounts in self.materials_required.items():\n",
    "            for mat, amounts in mat_amounts.items(): \n",
    "                b1 = b[(b.material == mat) & (b.structural_type == strucType)].iloc[0]\n",
    "                self.materials_required[strucType][mat] += b1.tons\n",
    "        if self.model.modularity_type != 'none': \n",
    "            self.materials_required['non-structural']['modules'] = b[(b.material == 'modules')].iloc[0].tons                              \n",
    "                \n",
    "    def step(self): \n",
    "        self.check_materials_toRequest()\n",
    "        self.request_materials()\n",
    "    \n",
    "    def check_materials_toRequest(self): \n",
    "        '''check which materials still need to be requested based on \n",
    "        materials already received in previous rounds'''\n",
    "        materials_toRequest = []\n",
    "        for strucType, mat_required_dict in self.materials_required.items(): \n",
    "            for mat, amount in mat_required_dict.items():  \n",
    "                mat_required = amount\n",
    "                mat_received = self.materials_received[strucType][mat]\n",
    "                if mat_received < mat_required: \n",
    "                    materials_toRequest.append(mat)\n",
    "        self.materials_toRequest_list = list(set(materials_toRequest))\n",
    "        \n",
    "    def request_materials(self):\n",
    "        '''make materials_request that will be received by supplier / macro / micro hub'''\n",
    "        material_request = {key: dict.fromkeys(self.model.materials_list, 0) for key in \n",
    "                            list(self.materials_required.keys())} \n",
    "        for strucType in self.materials_required.keys(): \n",
    "            for mat in self.materials_toRequest_list:\n",
    "                if mat == 'modules' and strucType != 'non-structural': \n",
    "                    continue\n",
    "                mat_required = self.materials_required[strucType][mat]\n",
    "                mat_received = self.materials_received[strucType][mat] \n",
    "                mat_stillNeeded = mat_required - mat_received\n",
    "                mat_request = mat_required * random.uniform(0.1, 0.2)\n",
    "                mat_request = mat_request if mat_request < mat_stillNeeded else mat_stillNeeded\n",
    "                material_request[strucType][mat] += mat_request\n",
    "        self.materials_request = material_request\n",
    "        \n",
    "class Hub(Agent):\n",
    "    def __init__(self, unique_id, model, hubType, coords, inA10, waterbound):\n",
    "        super().__init__(unique_id, model)\n",
    "        self.hubType = hubType # macro or micro \n",
    "        self.coords = coords\n",
    "        self.inA10 = inA10 # True of False\n",
    "        self.waterbound = waterbound # True of False\n",
    "        self.nearestMacroHub_id = None\n",
    "        self.nearestMacroHub_dist = None\n",
    "        \n",
    "        self.materials_toSend = {}\n",
    "        self.nTrips = {}\n",
    "        self.materials_request = {}\n",
    "        self.materials_received = dict.fromkeys(self.model.materials_list, 0)\n",
    "        \n",
    "        self.suppliers = {}\n",
    "        self.clients = {}\n",
    "        self.trucks_toSite = []\n",
    "        self.vehicles_toSupplier = []\n",
    "        self.demolition_site_ids = []\n",
    "        self.supplier_ids = []\n",
    "        self.client_ids = []\n",
    "                                \n",
    "    def step(self):\n",
    "        self.find_clients()\n",
    "        if self.clients: # if hub has clients: \n",
    "            self.calc_materials_toSend() # to each site / microHub\n",
    "            self.make_materials_request() # for suppliers / demSites / macroHubs \n",
    "            self.triage_materials_request()\n",
    "            \n",
    "            if self.model.circularity_type != 'none' and self.hubType == 'macro': \n",
    "                self.convertNames_matRequest_forDemolitionSites()\n",
    "                self.make_vehicleCapacities_forDemolitionSites()\n",
    "                self.collect_materials_fromDemolitionSites()\n",
    "            \n",
    "            self.find_suppliers()\n",
    "            self.collect_materials_fromSupplier() # collect materials from suppliers \n",
    "            self.send_materials_toClient() # send materials to site / microhub\n",
    "        \n",
    "    def find_clients(self): \n",
    "        '''self.clients = {id: {'agent': agentObject, 'distance': 14312}, ... etc}'''\n",
    "        \n",
    "        self.clients = {}\n",
    "        \n",
    "        if self.model.hub_network == 'decentralized': \n",
    "            if self.hubType == 'macro': \n",
    "                microHubs = [hub for hub in self.model.hubs if hub.hubType == 'micro']\n",
    "                microHubs = [hub for hub in microHubs if hub.nearestMacroHub_id == self.unique_id]\n",
    "                sites = [s for s in self.model.construction_sites if s.nearestHub_id == self.unique_id]\n",
    "                clients = microHubs + sites\n",
    "                for client in clients: \n",
    "                    self.clients[client.unique_id] = {'agent': client, 'distance': client.nearestMacroHub_dist}\n",
    "            \n",
    "            elif self.hubType == 'micro': \n",
    "                sites = self.model.construction_sites\n",
    "                clients = [site for site in sites if site.nearestHub_id == self.unique_id]\n",
    "                for client in clients: \n",
    "                    self.clients[client.unique_id] = {'agent': client, 'distance': client.nearestHub_dist}\n",
    "        \n",
    "        elif self.model.hub_network == 'centralized': \n",
    "            sites = self.model.construction_sites\n",
    "            clients = [site for site in sites if site.nearestMacroHub_id == self.unique_id]\n",
    "            for client in clients: \n",
    "                self.clients[client.unique_id] = {'agent': client, 'distance': client.nearestMacroHub_dist}    \n",
    "                        \n",
    "    def calc_materials_toSend(self): \n",
    "        '''check which clients still need materials and make materials_toSend dictionary\n",
    "        self.clients = microhubs or construction sites \n",
    "        self.materials_toSend = {site_id: {'foundation': {'timber': 123, ... }, ... }'''\n",
    "        self.materials_toSend = {}\n",
    "        for client_id in self.clients.keys():\n",
    "            client = self.clients[client_id]['agent']\n",
    "            # if the client is requesting any material: \n",
    "            if sum(sum(request.values()) for request in client.materials_request.values()) > 0: \n",
    "                self.materials_toSend[client_id] = client.materials_request\n",
    "                        \n",
    "    def make_materials_request(self):\n",
    "        '''self.materials_request = {'foundation': {'timber': 123, ... }, ... }, ... }'''\n",
    "        material_request = {\n",
    "            strucType: {\n",
    "                mat: 0 for mat in self.model.materials_list\n",
    "            } for strucType in ['foundation', 'structural', 'non-structural']\n",
    "        }\n",
    "                        \n",
    "        for site_id, mat_request in self.materials_toSend.items():\n",
    "            for strucType, mat_amounts in mat_request.items(): \n",
    "                for mat, amount in mat_amounts.items(): \n",
    "                    material_request[strucType][mat] += amount \n",
    "        self.materials_request = material_request\n",
    "                \n",
    "    def triage_materials_request(self):\n",
    "        '''separate self.materials_request into two parts, \n",
    "        one for demolition sites and one for suppliers'''\n",
    "        \n",
    "        # pick strucType for demSite and suppliers \n",
    "        strucTypes_forCircParam_dict = {\n",
    "            'none': [], \n",
    "            'semi': ['non-structural'], \n",
    "            'full': ['non-structural', 'structural'], \n",
    "            'extreme': ['non-structural', 'structural', 'foundation']\n",
    "        }\n",
    "        strucTypes_all = ['non-structural', 'structural', 'foundation']\n",
    "        strucTypes_demSites = strucTypes_forCircParam_dict[self.model.circularity_type] \n",
    "        strucTypes_suppliers = [i for i in strucTypes_all if i not in strucTypes_demSites]\n",
    "        if self.model.modularity_type == 'full': \n",
    "            strucTypes_suppliers = strucTypes_suppliers + ['non-structural']\n",
    "        \n",
    "        # make separate materials_requests for demSites and suppliers\n",
    "        def make_matRequest_triaged(strucTypes): \n",
    "            matRequest_triaged = {}\n",
    "            for strucType in strucTypes:\n",
    "                mat_amounts = self.materials_request[strucType]\n",
    "                for mat, amount in mat_amounts.items(): \n",
    "                    matRequest_triaged[mat] = matRequest_triaged.get(mat, 0) + amount\n",
    "            matRequest_triaged = {k: v for k, v in matRequest_triaged.items() if v!= 0}\n",
    "            return matRequest_triaged\n",
    "        \n",
    "        self.materials_request_forDemSites = make_matRequest_triaged(strucTypes_demSites)\n",
    "        self.materials_request_forSuppliers = make_matRequest_triaged(strucTypes_suppliers)\n",
    "        \n",
    "    def convertNames_matRequest_forDemolitionSites(self): \n",
    "        '''convert mat names in materials_request_forDemSites to match mat names in demolition_sites_df'''\n",
    "        \n",
    "        materials_request_old = self.materials_request_forDemSites\n",
    "        df = self.model.materialNames_conversion\n",
    "        materials_request_new = {key: 0 for key in df.name_from_demSiteData.unique()}\n",
    "        \n",
    "        for matName_con, amount in materials_request_old.items(): \n",
    "            matName = df[df.name_from_conSiteData == matName_con].name_from_demSiteData.iloc[0]\n",
    "            materials_request_new[matName] += amount\n",
    "        \n",
    "        self.materials_request_forDemSites = materials_request_new\n",
    "    \n",
    "    def make_vehicleCapacities_forDemolitionSites(self): \n",
    "        '''make vehicle capacities for demolition sites by converting mat names in vehicles_info\n",
    "        into mat names in demolition_sites_df'''\n",
    "        \n",
    "        # pick truck (agent) based on truck_type (diesel, semi, electric)\n",
    "        if self.model.truck_type == 'semi': # semi = minimum compliance to AMS rules (no diesel vehicles within A10 highway)\n",
    "            if self.inA10 or demSite.inA10: \n",
    "                truck = [t for t in self.model.trucks_urban if t.truck_type == 'electric'][0]\n",
    "            else: \n",
    "                truck = [t for t in self.model.trucks_urban if t.truck_type == 'diesel'][0]\n",
    "        else: \n",
    "            truck = [t for t in self.model.trucks_urban if t.truck_type == self.model.truck_type][0]\n",
    "        self.vehicle = truck # need this for self.collect_materials_fromDemolitionSites() \n",
    "                \n",
    "        # get info needed for converting mat names to match demolition sites \n",
    "        truckCapacity_con = truck.capacity\n",
    "        df = self.model.materialNames_conversion\n",
    "        matNames_dem = df.name_from_demSiteData.unique()\n",
    "        truckCapacity_dem = {}\n",
    "        \n",
    "        # make dictionary on truck capacities for demSite materials \n",
    "        for mat in matNames_dem: \n",
    "            matNames_con = df[df.name_from_demSiteData == mat].name_from_conSiteData.to_list()\n",
    "            if len(matNames_con) == 1: \n",
    "                capacity = truckCapacity_con[matNames_con[0]]\n",
    "            else: \n",
    "                capacities = [truckCapacity_con[mat] for mat in matNames_con]\n",
    "                capacity = sum(capacities) / len(capacities)\n",
    "            truckCapacity_dem[mat] = capacity\n",
    "        \n",
    "        self.truckCapacity_circularMaterials = truckCapacity_dem\n",
    "                \n",
    "    def collect_materials_fromDemolitionSites(self): \n",
    "        '''collect materials from randomly selected demolition sites'''\n",
    "        materials_collected = {key: 0 for key in self.materials_request_forDemSites.keys()}\n",
    "        for mat, request_amount in self.materials_request_forDemSites.items(): \n",
    "            if mat not in self.model.demolition_sites_df.columns: \n",
    "                continue\n",
    "            while True: \n",
    "                # randomly select demolition site and see what's available\n",
    "                demSites = self.model.demolition_sites_df\n",
    "                demSites = demSites[demSites.nearestMacroHub_id == self.unique_id]\n",
    "                demSite = demSites.sample(1).iloc[0]\n",
    "                available_tons = demSite[mat] \n",
    "\n",
    "                # collect what's still needed \n",
    "                still_needed = request_amount - materials_collected[mat]\n",
    "                collect_tons = still_needed if available_tons >= still_needed else available_tons\n",
    "\n",
    "                # record emissions and demolition site ids\n",
    "                capacity = self.truckCapacity_circularMaterials[mat] * 0.8\n",
    "                emissions_perKm = self.vehicle.emissions_perKm \n",
    "                distance = demSite.nearestMacroHub_dist\n",
    "                nTrips = math.ceil(collect_tons / capacity)\n",
    "                emissions = emissions_perKm * distance * nTrips * 2\n",
    "                self.model.emissions_s2h += emissions\n",
    "                self.demolition_site_ids.append(demSite.unique_id)\n",
    "\n",
    "                # record roads used\n",
    "                roadMatrix = self.model.road_matrix_d2h\n",
    "                road_ids = roadMatrix[(roadMatrix[:, 1] == self.unique_id) & (roadMatrix[:, 0] == demSite.unique_id)][0][2]\n",
    "                mask = self.model.roads_used['osmid'].isin(road_ids)\n",
    "                self.model.roads_used.loc[mask, 'nTrips'] += nTrips\n",
    "                \n",
    "                # stop if enough materials have been collected \n",
    "                materials_collected[mat] += collect_tons\n",
    "                if materials_collected[mat] >= request_amount: \n",
    "                    break\n",
    "\n",
    "    def find_suppliers(self): \n",
    "        '''suppliers are: factories if hubType == 'macro', or macroHubs if hubType == 'micro'\n",
    "        self.materials_request_forSuppliers = {'mat': 123, 'mat': 456 ... }\n",
    "        self.suppliers = {'timber': {'agent': agentObject, 'distance': 14312}, ... etc}'''\n",
    "               \n",
    "        self.suppliers = {}\n",
    "        mat_info = self.model.materials_logistics_info\n",
    "        for mat in self.materials_request_forSuppliers.keys():\n",
    "            # check if material comes from national or international supplier \n",
    "            location_type = mat_info[mat_info.material == mat].iloc[0].supplier_type\n",
    "            self.suppliers[mat] = {}\n",
    "            if self.hubType == 'macro': \n",
    "                # select supplier with the right 'material' (national / international)\n",
    "                supplier = [s for s in self.model.suppliers if s.location_type == location_type][0]\n",
    "                self.suppliers[mat]['agent'] = supplier \n",
    "                self.suppliers[mat]['distance'] = supplier.distance_fromAms\n",
    "            elif self.hubType == 'micro': \n",
    "                macroHubs = [h for h in self.model.hubs if h.hubType == 'macro']\n",
    "                supplier = [h for h in macroHubs if h.unique_id == self.nearestMacroHub_id][0]\n",
    "                self.suppliers[mat]['agent'] = supplier\n",
    "                self.suppliers[mat]['distance'] = self.nearestMacroHub_dist \n",
    "            \n",
    "    def collect_materials_fromSupplier(self): \n",
    "        '''\n",
    "        self.materials_request = {'timber': 3421, 'concrete': 8723, 'modules': 13, ... etc}\n",
    "        self.model.emissions_s2h (float) = emissions from vehicle going to supplier and back\n",
    "        self.materials_received (dict) = {'timber': 123, 'concrete': 456 ... etc} \n",
    "        '''\n",
    "        if self.hubType == 'macro': \n",
    "            for mat, amount in self.materials_request_forSuppliers.items(): \n",
    "                supplier = self.suppliers[mat]['agent']\n",
    "                distance = self.suppliers[mat]['distance']\n",
    "                vehicle = self.model.vehicles_international[0]\n",
    "                capacity = vehicle.capacity[mat]\n",
    "                emissions_perKm = vehicle.emissions_perKm \n",
    "                if self.model.network_type == 'water' and not self.waterbound: \n",
    "                    t = self.model.vehicles_info\n",
    "                    capacity = t[(t.transportation_network=='road') & (t.vehicle_type=='diesel')][f'capacity_{mat}'].iloc[0]\n",
    "                    emissions_perKm = t[(t.transportation_network=='road') & (t.vehicle_type=='diesel')]['emissions_perKm'].iloc[0]\n",
    "                nTrips = math.ceil(amount / capacity)\n",
    "                \n",
    "                if self.model.network_type == 'road': \n",
    "                    # record road usage\n",
    "                    roadMatrix = model.road_matrix_s2h\n",
    "                    road_ids = roadMatrix[(roadMatrix[:, 0] == supplier.unique_id) & (roadMatrix[:, 1] == self.unique_id)][0][2]\n",
    "                    roads_gdf = self.model.roads_used\n",
    "                    mask = roads_gdf['osmid'].isin(road_ids)\n",
    "                    roads_gdf.loc[mask, 'nTrips'] += nTrips\n",
    "                    self.model.roads_used = roads_gdf\n",
    "\n",
    "                self.model.emissions_s2h += emissions_perKm * distance * nTrips * 2\n",
    "                self.materials_received[mat] += amount\n",
    "                self.supplier_ids.append(supplier.unique_id)\n",
    "        \n",
    "    def send_materials_toClient(self): \n",
    "        '''self.materials_toSend = {\n",
    "            site_id: {\n",
    "                'foundation': {'timber': 123, 'modules': 456, ... }, \n",
    "                'structural': {'timber': 123, 'modules': 456, ... }, ...\n",
    "            }, ... \n",
    "        }\n",
    "        '''\n",
    "        trucks = self.model.trucks_urban\n",
    "        for client_id, mat_toSend_dict in self.materials_toSend.items(): \n",
    "            # select client and truck\n",
    "            client = self.clients[client_id]['agent']\n",
    "            if self.model.truck_type == 'semi': \n",
    "                if client.inA10 or self.inA10: \n",
    "                    truck = [t for t in trucks if t.truck_type == 'electric'][0]\n",
    "                else: \n",
    "                    truck = [t for t in trucks if t.truck_type == 'diesel'][0]\n",
    "            else: \n",
    "                truck = [t for t in trucks if t.truck_type == self.model.truck_type][0]\n",
    "            emissions_perKm = truck.emissions_perKm\n",
    "            if self.model.network_type == 'water': \n",
    "                if self.waterbound and client.waterbound: \n",
    "                    emissions_perKm = 0 # assuming that water transport is zero emission\n",
    "            distance = self.clients[client_id]['distance']\n",
    "\n",
    "            # determine roads used\n",
    "            roadMatrix = self.model.road_matrix_h2hc\n",
    "            road_ids = roadMatrix[(roadMatrix[:, 0] == self.unique_id) & \n",
    "                                  (roadMatrix[:, 1] == client.unique_id)][0][2]\n",
    "            road_ids_str = [','.join(map(str, r)) if isinstance(r, list) else str(r) for r in road_ids]\n",
    "            roads_gdf = self.model.roads_used\n",
    "            mask = roads_gdf['osmid'].isin(road_ids_str)\n",
    "\n",
    "            # record emissions, road usage \n",
    "            for strucType, mat_amounts in mat_toSend_dict.items(): \n",
    "                for mat, amount in mat_amounts.items(): \n",
    "                    capacity = truck.capacity[mat]\n",
    "                    nTrips = math.ceil(amount / capacity)\n",
    "                    emissions = emissions_perKm * distance * nTrips * 2\n",
    "\n",
    "                    roads_gdf.loc[mask, 'nTrips'] += nTrips\n",
    "                    self.model.roads_used = roads_gdf\n",
    "                    self.model.emissions_h2c += emissions\n",
    "                    if type(client) is ConstructionSite: \n",
    "                        try: \n",
    "                            client.materials_received[strucType][mat] += amount\n",
    "                        except: \n",
    "                            client.materials_received[strucType][mat] = amount \n",
    "                    else: # if client == microhub\n",
    "                        try: \n",
    "                            client.materials_received[mat] += amount\n",
    "                        except: \n",
    "                            client.materials_received[mat] = amount\n",
    "                    self.client_ids.append(client_id)\n",
    "                                        \n",
    "class Supplier(Agent): \n",
    "    def __init__(self, unique_id, model, material, distFromAms, coords): \n",
    "        super().__init__(unique_id, model)\n",
    "        self.material = material\n",
    "        self.location_type = material\n",
    "        self.distance_fromAms = distFromAms \n",
    "        self.coords = coords\n",
    "        self.clients = {}\n",
    "        self.waterbound = 0\n",
    "        self.location_type = material\n",
    "        \n",
    "    def step(self): \n",
    "        self.find_clients() \n",
    "        if self.clients and self.model.hub_network == 'none': \n",
    "            self.calc_materials_toSend() \n",
    "            self.send_materials_toClient() \n",
    "    \n",
    "    def find_clients(self): \n",
    "        '''self.clients = list of client agents [agent, agent, agent ...]'''\n",
    "        self.clients = {}\n",
    "        if self.model.hub_network == 'centralized': \n",
    "            clients = self.model.hubs\n",
    "        elif self.model.hub_network == 'decentralized': \n",
    "            clients = [hub for hub in self.model.hubs if hub.hubType == 'macro']\n",
    "        elif self.model.hub_network == 'none': \n",
    "            clients = [site for site in self.model.construction_sites]\n",
    "        self.clients = clients \n",
    "                        \n",
    "    def calc_materials_toSend(self): \n",
    "        '''self.materials_toSend = {id: {foundation: {'timber': 123, 'concrete': 456}}, ... }'''\n",
    "        self.materials_toSend = {}\n",
    "        for client in self.clients: \n",
    "            mat_req = client.materials_request # {'foundation': {'mat': 123}, ... }\n",
    "            self.materials_toSend[client.unique_id] = {}\n",
    "            for strucType, mat_amounts in mat_req.items(): \n",
    "                self.materials_toSend[client.unique_id][strucType] = {}\n",
    "                for mat, amount in mat_amounts.items(): \n",
    "                    try: \n",
    "                        self.materials_toSend[client.unique_id][strucType][mat] += amount \n",
    "                    except: \n",
    "                        self.materials_toSend[client.unique_id][strucType][mat] = amount\n",
    "\n",
    "    def send_materials_toClient(self): \n",
    "        for client_id, mat_toSend_dict in self.materials_toSend.items(): \n",
    "            client = [c for c in self.clients if c.unique_id == client_id][0]\n",
    "            distance = self.distance_fromAms\n",
    "            vehicle = self.model.vehicles_international[0]\n",
    "            emissions_perKm = vehicle.emissions_perKm\n",
    "            for strucType, mat_amounts in mat_toSend_dict.items(): \n",
    "                for mat, amount in mat_amounts.items(): \n",
    "                    # record emissions\n",
    "                    # assuming that trucks from supplier to constructure site is 30% loaded\n",
    "                    capacity = vehicle.capacity[mat] * 0.3 \n",
    "                    nTrips = math.ceil(amount / capacity)\n",
    "                    emissions = emissions_perKm * distance * nTrips * 2\n",
    "                    self.model.emissions_s2h += emissions\n",
    "                    client.materials_received[strucType][mat] += amount\n",
    "\n",
    "                    # record roads used \n",
    "                    roadMatrix = self.model.road_matrix_s2c\n",
    "                    road_ids = roadMatrix[(roadMatrix[:, 0] == self.unique_id) & \n",
    "                                          (roadMatrix[:, 1] == client_id)][0][2]\n",
    "                    roads_gdf = self.model.roads_used\n",
    "                    mask = roads_gdf['osmid'].isin(road_ids)\n",
    "                    roads_gdf.loc[mask, 'nTrips'] += nTrips\n",
    "                    self.model.roads_used = roads_gdf\n",
    "                            \n",
    "class Truck_Urban(Agent):\n",
    "    def __init__(self, unique_id, model, truck_type, capacity, emissions_perKm):\n",
    "        super().__init__(unique_id, model)\n",
    "        self.emissions = 0\n",
    "        self.truck_type = truck_type\n",
    "        self.capacity = capacity\n",
    "        self.emissions_perKm = emissions_perKm\n",
    "        \n",
    "        self.loaded = False\n",
    "        self.content = {} # {'material': amount}\n",
    "        self.destination_id = None\n",
    "        \n",
    "    def step(self):\n",
    "        pass\n",
    "    \n",
    "class Vehicle_International(Agent): \n",
    "    def __init__(self, unique_id, model, network_type, capacity, emissions_perKm): \n",
    "        super().__init__(unique_id, model)\n",
    "        self.emissions = 0 \n",
    "        self.network_type = network_type\n",
    "        self.capacity = capacity\n",
    "        self.emissions_perKm = emissions_perKm\n",
    "        self.loaded = False\n",
    "        self.content = {}\n",
    "        \n",
    "    def step(self): \n",
    "        pass "
   ]
  },
  {
   "cell_type": "code",
   "execution_count": 134,
   "id": "936fe0fa-1553-44d9-8a9e-0226a94182bd",
   "metadata": {
    "tags": []
   },
   "outputs": [],
   "source": [
    "from mesa import Model\n",
    "from mesa.datacollection import DataCollector\n",
    "class Model(Model):\n",
    "    def __init__(self, parameters_dict): \n",
    "        '''create construction sites, hubs, and vehicles'''\n",
    "        super().__init__()\n",
    "        self.schedule = BaseScheduler(self)\n",
    "        self.emissions_s2h = 0\n",
    "        self.emissions_h2c = 0 \n",
    "        self.roads_used = gpd.read_file('data/data_cleaned/ams_roads_edges.shp')\n",
    "        self.datacollector = DataCollector(\n",
    "            model_reporters = {\n",
    "                'emissions_s2h': lambda m: m.emissions_s2h, \n",
    "                'emissions_h2c': lambda m: m.emissions_h2c, \n",
    "                'emissions_total': lambda m: m.emissions_s2h + m.emissions_h2c, \n",
    "            }\n",
    "        )\n",
    "        \n",
    "        self.load_data()\n",
    "        self.add_parameters(parameters_dict) \n",
    "        \n",
    "        '''\n",
    "        DO NOT CHANGE ORDER OF AGENT CREATION BELOW. \n",
    "        od matrices (created externally in dataPrep.ipynb to save time) depends on \n",
    "        agent.unique_ids, which change if the order of agent creation is changed. \n",
    "        '''\n",
    "        self.id_count = 0\n",
    "        self.create_constructionSites()\n",
    "        self.create_suppliers() \n",
    "        if self.hub_network != 'none': \n",
    "            self.create_hubs()\n",
    "        self.create_trucks_urban()\n",
    "        self.create_vehicles_international() \n",
    "        \n",
    "        if self.hub_network != 'none': \n",
    "            self.create_od_matrix_h2c()\n",
    "            self.create_od_matrix_h2h()\n",
    "            self.assign_hubs_to_sites()\n",
    "            self.assign_hubs_to_hubs()\n",
    "        \n",
    "        if self.circularity_type != 'none': \n",
    "            self.create_od_matrix_d2h()\n",
    "            self.assign_hubs_to_demolition_sites()\n",
    "                    \n",
    "    def load_data(self): \n",
    "        self.construction_sites_df = gpd.read_file('data/data_cleaned/construction_sites.shp')\n",
    "        self.hubs_df = gpd.read_file('data/data_cleaned/hubs.shp')\n",
    "        self.suppliers_df = gpd.read_file('data/data_cleaned/suppliers.shp')\n",
    "        self.demolition_sites_df = gpd.read_file('data/data_cleaned/demolition_sites.shp')\n",
    "        self.vehicles_info = pd.read_csv('data/data_cleaned/vehicles_info.csv')\n",
    "        self.build_info = pd.read_csv('data/data_cleaned/buildingType_info.csv')\n",
    "        self.materials_logistics_info = pd.read_csv('data/data_cleaned/materials_logistics_info.csv')\n",
    "        self.materialNames_conversion = pd.read_csv('data/data_cleaned/materialNames_conversion.csv')\n",
    "        self.materials_list = list(self.build_info.material.unique())\n",
    "        self.road_matrix_h2hc = np.load('data/data_cleaned/roadOsmIds_matrix_h2hc.npy', allow_pickle=True)\n",
    "        self.road_matrix_d2h = np.load('data/data_cleaned/roadOsmIds_matrix_d2h.npy', allow_pickle=True)\n",
    "        self.road_matrix_s2h = np.load('data/data_cleaned/roadOsmIds_matrix_s2h.npy', allow_pickle=True)\n",
    "        self.road_matrix_s2c = np.load('data/data_cleaned/roadOsmIds_matrix_s2c.npy', allow_pickle=True)\n",
    "\n",
    "        self.construction_sites = []\n",
    "        self.hubs = []\n",
    "        self.suppliers = []\n",
    "        self.trucks_urban = []\n",
    "        self.vehicles_international = []\n",
    "        \n",
    "    def add_parameters(self, parameters_dict): \n",
    "        self.network_type = parameters_dict['network_type']\n",
    "        self.truck_type = parameters_dict['truck_type']\n",
    "        self.biobased_type = parameters_dict['biobased_type']\n",
    "        self.modularity_type = parameters_dict['modularity_type']\n",
    "        self.hub_network = parameters_dict['hub_network']\n",
    "        self.circularity_type = parameters_dict['circularity_type']\n",
    "    \n",
    "    def create_constructionSites(self): \n",
    "        for i, row in self.construction_sites_df.iterrows(): \n",
    "            coords = (row.geometry.y, row.geometry.x)\n",
    "            site = ConstructionSite(self.id_count, self, row.buildType, \n",
    "                                    coords, row.inA10, row.waterbound)\n",
    "            self.schedule.add(site)\n",
    "            self.construction_sites.append(site)\n",
    "            self.id_count += 1 \n",
    "            \n",
    "    def create_suppliers(self): \n",
    "        for i, row in self.suppliers_df.iterrows(): \n",
    "            coords = (row.geometry.y, row.geometry.x)\n",
    "            supplier = Supplier(self.id_count, self, row.material, \n",
    "                                row.distAms, coords)\n",
    "            self.schedule.add(supplier)\n",
    "            self.suppliers.append(supplier)\n",
    "            self.id_count += 1\n",
    "    \n",
    "    def create_hubs(self): \n",
    "        if self.hub_network == 'centralized': \n",
    "            hub_type = ['macro']\n",
    "        elif self.hub_network == 'decentralized': \n",
    "            hub_type = ['micro', 'macro']\n",
    "        elif self.hub_network == 'none': \n",
    "            hub_type = []\n",
    "        for i, row in self.hubs_df.iterrows(): \n",
    "            if row.hub_type in hub_type: \n",
    "                coords = (row.geometry.y, row.geometry.x)\n",
    "                hub = Hub(self.id_count, self, row.hub_type, coords, row.inA10, row.waterbound)\n",
    "                self.schedule.add(hub)\n",
    "                self.hubs.append(hub)\n",
    "                self.id_count += 1 \n",
    "                \n",
    "    def get_capacity(self, network_type, truck_type): \n",
    "        '''capacity_dict = {'timber': 20, 'concrete': 25, ... }\n",
    "        emissions_perKm = 0.0009 (emissions per km for a particular vehicle)'''\n",
    "        v = self.vehicles_info.copy()\n",
    "        v = v[(v.transportation_network == network_type) & (v.vehicle_type == truck_type)]\n",
    "        capacity_dict = {}\n",
    "        for mat in self.materials_list + ['modules']: \n",
    "            capacity = v[f'capacity_{mat}'].iloc[0]\n",
    "            capacity_dict[mat] = capacity\n",
    "        emissions_perKm = v.emissions_perKm.iloc[0]\n",
    "        return capacity_dict, emissions_perKm\n",
    "    \n",
    "    def create_trucks_urban(self): \n",
    "        # create urban trucks\n",
    "        truckTypes = ['diesel', 'electric'] if self.truck_type == 'semi' else [self.truck_type]\n",
    "        for truckType in truckTypes: \n",
    "            capacity_dict, emissions_perKm = self.get_capacity('road', truckType)\n",
    "            truck_urban = Truck_Urban(\n",
    "                self.id_count, self, truckType, \n",
    "                capacity_dict, emissions_perKm)\n",
    "            self.schedule.add(truck_urban)\n",
    "            self.trucks_urban.append(truck_urban)\n",
    "            self.id_count += 1  \n",
    "            \n",
    "    def create_vehicles_international(self): \n",
    "        if self.hub_network != 'none': \n",
    "            hub_ids = [hub.unique_id for hub in self.hubs]\n",
    "        else: \n",
    "            # construction sites are considered 'hubs' if there is no hub_network\n",
    "            hub_ids = [site.unique_id for site in self.construction_sites]\n",
    "        \n",
    "        # assume that all international road travel is done with diesel trucks            \n",
    "        vehicle_type = 'diesel' if self.network_type == 'road' else self.network_type\n",
    "        capacity_dict, emissions_perKm = self.get_capacity(self.network_type, vehicle_type)\n",
    "        vehicle_international = Vehicle_International(\n",
    "            self.id_count, self, self.network_type, \n",
    "            capacity_dict, emissions_perKm)\n",
    "        self.schedule.add(vehicle_international)  \n",
    "        self.vehicles_international.append(vehicle_international)\n",
    "        self.id_count += 1 \n",
    "    \n",
    "    # this needs to be changed to real distance od matrix \n",
    "    # add this in data prep \n",
    "    def create_od_matrix_h2c(self): \n",
    "        '''This od matrix was made in dataPrep.ipynb. The ids correspond to the \n",
    "        agent unique ids in the agent based model. If the input data for construction sites\n",
    "        and hubs changes, this od matrix needs to change accordingly in dataPrep.ipynb.'''\n",
    "        self.od_matrix_h2c = np.load('data/data_cleaned/od_matrix_h2c.npy')\n",
    "    \n",
    "    # this needs to be changed to real distance od matrix \n",
    "    # add this in data prep\n",
    "    def create_od_matrix_h2h(self): \n",
    "        '''This od matrix was made in dataPrep.ipynb. The ids correspond to the \n",
    "        agent unique ids in the agent based model. If the input data for construction sites\n",
    "        and hubs changes, this od matrix needs to change accordingly in dataPrep.ipynb.'''\n",
    "        self.od_matrix_h2h = np.load('data/data_cleaned/od_matrix_h2h.npy')\n",
    "        \n",
    "    def create_od_matrix_d2h(self): \n",
    "        '''This od matrix was made in dataPrep.ipynb. The ids correspond to the \n",
    "        agent unique ids in the agent based model. If the input data for construction sites\n",
    "        and hubs changes, this od matrix needs to change accordingly in dataPrep.ipynb.'''\n",
    "        self.od_matrix_d2h = np.load('data/data_cleaned/od_matrix_d2h.npy')\n",
    "                \n",
    "    def assign_hubs_to_sites(self):\n",
    "        od = self.od_matrix_h2c\n",
    "        nMacroHubs = len([hub for hub in self.hubs if hub.hubType == 'macro'])\n",
    "        for site in self.construction_sites: \n",
    "            site_od = od[od[:, 1] == site.unique_id]\n",
    "            if self.hub_network == 'decentralized': \n",
    "                site.nearestHub_id = int(site_od[np.argmin(site_od[:, 2]), 0])\n",
    "                site.nearestHub_dist = site_od[np.argmin(site_od[:, 2]), 2]\n",
    "            site_od_macro = site_od[:nMacroHubs]\n",
    "            site.nearestMacroHub_id = int(site_od_macro[np.argmin(site_od_macro[:, 2]), 0])\n",
    "            site.nearestMacroHub_dist = site_od_macro[np.argmin(site_od_macro[:, 2]), 2]\n",
    "                        \n",
    "    def assign_hubs_to_hubs(self): \n",
    "        od = self.od_matrix_h2h\n",
    "        for hub in self.hubs: \n",
    "            hub_od = od[od[:, 1] == hub.unique_id]\n",
    "            hub.nearestMacroHub_id = int(hub_od[np.argmin(hub_od[:, 2])][0])\n",
    "            hub.nearestMacroHub_dist = hub_od[np.argmin(hub_od[:, 2])][2]\n",
    "            \n",
    "    def assign_hubs_to_demolition_sites(self): \n",
    "        od = self.od_matrix_d2h\n",
    "        def func(row): \n",
    "            unique_id = row.unique_id\n",
    "            site_od = od[od[:, 0] == unique_id]\n",
    "            # nearest hub out of all hubs\n",
    "            row['nearestHub_id'] = int(site_od[np.argmin(site_od[:, 2]), 1])\n",
    "            row['nearestHub_dist'] = site_od[np.argmin(site_od[:, 2]), 2]\n",
    "            # nearest macroHub\n",
    "            macroHubIds = [h.unique_id for h in self.hubs if h.hubType == 'macro']\n",
    "            site_od_macro = site_od[np.isin(site_od[:, 1], macroHubIds)]\n",
    "            row['nearestMacroHub_id'] = int(site_od_macro[np.argmin(site_od_macro[:, 2]), 1])\n",
    "            row['nearestMacroHub_dist'] = site_od_macro[np.argmin(site_od_macro[:, 2]), 2]\n",
    "            return row\n",
    "        self.demolition_sites_df = self.demolition_sites_df.apply(lambda row: func(row), axis=1)\n",
    "            \n",
    "    def step(self):\n",
    "        self.schedule.step()\n",
    "        self.calc_emissions()\n",
    "        self.datacollector.collect(self)\n",
    "    \n",
    "    def calc_emissions(self): \n",
    "        self.emissions = round(self.emissions_h2c + self.emissions_s2h)\n",
    "    \n",
    "    def visualize(self): \n",
    "        self.save_folium_html()\n",
    "        self.display_total_emissions()\n",
    "        self.display_emissions_chart()\n",
    "        self.display_folium_html() \n",
    "    \n",
    "    def save_folium_html(self): \n",
    "        \n",
    "        m = folium.Map([52.377231, 4.899288], zoom_start=11, tiles='cartodbdark_matter')\n",
    "        self.plotLines_roadsUsed(m)\n",
    "        if self.hub_network != 'none':  \n",
    "            if self.circularity_type != 'none': \n",
    "                self.plotPoints_demSites(m, 'grey', 1)\n",
    "        if self.network_type != 'road': \n",
    "            self.plotLines_s2h(m)\n",
    "        self.plotPoints(m, self.suppliers, 'grey', 1)\n",
    "        self.plotPoints(m, self.construction_sites, 'white', 1)\n",
    "        self.plotPoints(m, [h for h in self.hubs if h.hubType == 'macro' and h.clients], 'red', 8)\n",
    "        self.plotPoints(m, [h for h in self.hubs if h.hubType == 'micro' and h.clients], 'red', 4)\n",
    "        m.save('temp_map_hubs.html')\n",
    "    \n",
    "    def display_total_emissions(self): \n",
    "        total_emissions = round(self.emissions_h2c + self.emissions_s2h)\n",
    "        print(f'emissions (hubs to construction sites): {round(self.emissions_h2c)} tCO2eq')\n",
    "        print(f'emissions (suppliers to hubs): {round(self.emissions_s2h)} tCO2eq')\n",
    "        print(f'emissions (total): {total_emissions} tCO2eq')\n",
    "        \n",
    "    def display_emissions_chart(self): \n",
    "        data = self.datacollector.get_model_vars_dataframe()\n",
    "        data = data.reset_index(names='step')\n",
    "        fig = px.line(data, x=\"step\", \n",
    "                      y=['emissions_s2h', 'emissions_h2c', 'emissions_total'], \n",
    "                      title='emissions')\n",
    "        return fig.show()\n",
    "    \n",
    "    def display_folium_html(self): \n",
    "        display(IFrame(\"temp_map_hubs.html\", width=700, height=600))\n",
    " \n",
    "    \n",
    "    def plotPoints(self, m, agent_list, color, radius): \n",
    "        for agent in agent_list: \n",
    "            # selected_color = 'blue' if agent.waterbound else color\n",
    "            selected_color = color\n",
    "            folium.CircleMarker(\n",
    "                location=agent.coords, radius=radius, color=selected_color, fill_color=selected_color, \n",
    "                popup=folium.Popup(f'id: {agent.unique_id}', max_width=300, height=150), \n",
    "            ).add_to(m)\n",
    "\n",
    "    def plotLines_roadsUsed(self, m): \n",
    "        df = self.roads_used\n",
    "        df = df[df.nTrips > 0]\n",
    "        max_trips = df['nTrips'].max()\n",
    "        quantiles = df['nTrips'].quantile([0, 0.2, 0.4, 0.6, 0.8, 1])\n",
    "        def get_color(value):\n",
    "            lowVal = 80\n",
    "            inc = (255 - lowVal) / 5\n",
    "            if value <= quantiles[0.2]:\n",
    "                return f'rgb({lowVal}, 0, 0)'  # Dark Red\n",
    "            elif value <= quantiles[0.4]:\n",
    "                return f'rgb({lowVal+inc*1}, 0, 0)'  # Slightly Brighter Red\n",
    "            elif value <= quantiles[0.6]:\n",
    "                return f'rgb({lowVal+inc*2}, 0, 0)'  # Medium Bright Red\n",
    "            elif value <= quantiles[0.8]:\n",
    "                return f'rgb({lowVal+inc*3}, 0, 0)'  # Brighter Red\n",
    "            else:\n",
    "                return 'rgb(255, 0, 0)'  # Brightest Red\n",
    "        def style_function(feature):\n",
    "            nTrips = feature['properties']['nTrips']\n",
    "            proportion = np.log(1 + nTrips) / np.log(1 + max_trips)\n",
    "            red_intensity = int(20 + 235 * proportion)\n",
    "            return {\n",
    "                'fillOpacity': 0.5,\n",
    "                'weight': 2,  # or however thick you want your roads\n",
    "                'color': get_color(nTrips)\n",
    "                # 'color': f'rgb({red_intensity}, 0, 0)'\n",
    "            }\n",
    "        def popup_function(feature):\n",
    "            return folium.Popup(str(feature['properties']['nTrips']))\n",
    "        folium.GeoJson(\n",
    "            df, \n",
    "            style_function=style_function, \n",
    "            popup=popup_function\n",
    "        ).add_to(m)\n",
    "                \n",
    "    def plotLines_s2h(self, m): \n",
    "        if self.hub_network != 'none': \n",
    "            macroHubs = [hub for hub in self.hubs if hub.hubType == 'macro']\n",
    "            for hub in self.hubs: \n",
    "                if hub.supplier_ids: \n",
    "                    for supplier_id in hub.supplier_ids: \n",
    "                        suppliers = self.suppliers if hub.hubType == 'macro' else macroHubs\n",
    "                        supplier = [s for s in suppliers if s.unique_id == supplier_id][0]\n",
    "                        folium.PolyLine(\n",
    "                            locations=[supplier.coords, hub.coords], weight=1, \n",
    "                            color='#454545', dash_array='5'\n",
    "                        ).add_to(m)\n",
    "        else: \n",
    "            sites = self.construction_sites\n",
    "            for supplier in self.suppliers: \n",
    "                for site in sites: \n",
    "                    folium.PolyLine(\n",
    "                        locations=[supplier.coords, site.coords], weight=1, \n",
    "                        color='#454545', dash_array='5'\n",
    "                    ).add_to(m)\n",
    "                \n",
    "    def plotLines_d2h(self, m):\n",
    "        for hub in self.hubs: \n",
    "            coords_hub = hub.coords\n",
    "            demSite_ids = list(set(hub.demolition_site_ids))\n",
    "            for demSite_id in demSite_ids:\n",
    "                demSites = self.demolition_sites_df\n",
    "                demSite = demSites[demSites.unique_id == demSite_id].iloc[0]\n",
    "                coord_demSite = (demSite.geometry.y, demSite.geometry.x)\n",
    "                folium.PolyLine(\n",
    "                    locations=[coords_hub, coord_demSite], weight=1, \n",
    "                    color='#454545', dash_array='5'\n",
    "                ).add_to(m)\n",
    "        \n",
    "    def plotPoints_demSites(self, m, color, radius): \n",
    "        for hub in self.hubs: \n",
    "            demSite_ids = list(set(hub.demolition_site_ids))\n",
    "            for demSite_id in demSite_ids: \n",
    "                demSites = self.demolition_sites_df\n",
    "                demSite = demSites[demSites.unique_id == demSite_id].iloc[0]\n",
    "                coord = (demSite.geometry.y, demSite.geometry.x)\n",
    "                folium.CircleMarker(\n",
    "                    location=coord, radius=radius, color=color, \n",
    "                    popup=folium.Popup(f'id: {demSite.unique_id}', max_width=300)\n",
    "                ).add_to(m)\n",
    "                \n",
    "    def plotPoints_hubs(self, m, color):\n",
    "        self.plotPoints(m, [hub for hub in self.hubs if hub.hubType == 'macro'], color, 5)\n",
    "        if self.hub_network == 'decentralized': \n",
    "            for macroHub in [h for h in self.hubs if h.hubType == 'macro']: \n",
    "                for client_id in macroHub.client_ids: \n",
    "                    if client_id in [h.unique_id for h in self.hubs]: \n",
    "                        microHub = [h for h in self.hubs if h.unique_id == client_id][0]\n",
    "                        folium.CircleMarker(\n",
    "                            location=microHub.coords, radius=1, color=color, \n",
    "                            popup=folium.Popup(f'id: {microHub.unique_id}', max_width=300)\n",
    "                        ).add_to(m)"
   ]
  },
  {
   "cell_type": "code",
   "execution_count": 238,
   "id": "2c8ecf30-b515-45a5-b2d9-6a1f8a9f2697",
   "metadata": {
    "tags": []
   },
   "outputs": [
    {
     "data": {
      "application/vnd.jupyter.widget-view+json": {
       "model_id": "c627ab2ede244bde80d355f66afccef0",
       "version_major": 2,
       "version_minor": 0
      },
      "text/plain": [
       "Dropdown(description='hub_network', layout=Layout(width='500px'), options=('centralized', 'decentralized', 'no…"
      ]
     },
     "metadata": {},
     "output_type": "display_data"
    },
    {
     "data": {
      "application/vnd.jupyter.widget-view+json": {
       "model_id": "73c5e3a03ac04d3a8e8632d7b97feab8",
       "version_major": 2,
       "version_minor": 0
      },
      "text/plain": [
       "Dropdown(description='network_type', layout=Layout(width='500px'), options=('road', 'water', 'rail'), style=De…"
      ]
     },
     "metadata": {},
     "output_type": "display_data"
    },
    {
     "data": {
      "application/vnd.jupyter.widget-view+json": {
       "model_id": "4f8ce3492e424fe49ed4a79cf2163ebd",
       "version_major": 2,
       "version_minor": 0
      },
      "text/plain": [
       "Dropdown(description='truck_type', layout=Layout(width='500px'), options=('diesel', 'semi', 'electric'), style…"
      ]
     },
     "metadata": {},
     "output_type": "display_data"
    },
    {
     "data": {
      "application/vnd.jupyter.widget-view+json": {
       "model_id": "475ae8c35f79469d86b4384319d9a75a",
       "version_major": 2,
       "version_minor": 0
      },
      "text/plain": [
       "Dropdown(description='biobased_type', layout=Layout(width='500px'), options=('biobased non-structural elements…"
      ]
     },
     "metadata": {},
     "output_type": "display_data"
    },
    {
     "data": {
      "application/vnd.jupyter.widget-view+json": {
       "model_id": "e02f83f37aaf4db98465f2097ae51b0c",
       "version_major": 2,
       "version_minor": 0
      },
      "text/plain": [
       "Dropdown(description='modularity_type', layout=Layout(width='500px'), options=('conventional', 'non-structural…"
      ]
     },
     "metadata": {},
     "output_type": "display_data"
    },
    {
     "data": {
      "application/vnd.jupyter.widget-view+json": {
       "model_id": "69c8e822c9be4dc4b5cd60dbf1e7d13f",
       "version_major": 2,
       "version_minor": 0
      },
      "text/plain": [
       "Dropdown(description='circularity_type', layout=Layout(width='500px'), options=('circular non-structural eleme…"
      ]
     },
     "metadata": {},
     "output_type": "display_data"
    }
   ],
   "source": [
    "import ipywidgets as widgets\n",
    "from IPython.display import display\n",
    "\n",
    "# Define your parameters and their options\n",
    "params_options = {\n",
    "    'hub_network': ['centralized', 'decentralized', 'none'],\n",
    "    'network_type': ['road', 'water', 'rail'],\n",
    "    'truck_type': ['diesel', 'semi', 'electric'],\n",
    "    'biobased_type': ['biobased non-structural elements', \n",
    "                      'biobased non-structural + structural elements', \n",
    "                      'biobased non-structural + structural + foundation elements', \n",
    "                      'conventional'],\n",
    "    'modularity_type': ['conventional', 'non-structural modules'], \n",
    "    'circularity_type': ['circular non-structural elements', \n",
    "                      'circular non-structural + structural elements', \n",
    "                      'circular non-structural + structural + foundation elements', \n",
    "                      'conventional'],\n",
    "}\n",
    "\n",
    "params_conversion = {\n",
    "    'biobased_type': {'biobased non-structural elements': 'semi', \n",
    "                      'biobased non-structural + structural elements': 'full', \n",
    "                      'biobased non-structural + structural + foundation elements': 'extreme', \n",
    "                      'conventional': 'none'}, \n",
    "    'modularity_type': {'conventional': 'none', \n",
    "                        'non-structural modules': 'full'}, \n",
    "    'circularity_type': {'circular non-structural elements': 'semi', \n",
    "                      'circular non-structural + structural elements': 'full', \n",
    "                      'circular non-structural + structural + foundation elements': 'extreme', \n",
    "                      'conventional': 'none'}\n",
    "}\n",
    "\n",
    "def update_options_hub_network(change): \n",
    "    if change['new'] == 'none': \n",
    "        dropdowns['network_type'].options = ['road']\n",
    "        dropdowns['truck_type'].options = ['diesel']\n",
    "        dropdowns['circularity_type'].options = ['conventional']\n",
    "        dropdowns['modularity_type'].options = ['conventional']\n",
    "    else:\n",
    "        # Reset to original options if 'none' is not selected\n",
    "        dropdowns['network_type'].options = params_options['network_type']\n",
    "        dropdowns['truck_type'].options = params_options['truck_type']\n",
    "        dropdowns['circularity_type'].options = params_options['circularity_type']\n",
    "        \n",
    "def update_options_biobased_type(change): \n",
    "    if change['new'] == 'conventional': \n",
    "        dropdowns['modularity_type'].options = ['conventional']\n",
    "    else:\n",
    "        dropdowns['modularity_type'].options = params_options['modularity_type']\n",
    "\n",
    "def update_options_modularity_type(change): \n",
    "    if change['new'] == 'non-structural modules': \n",
    "        dropdowns['circularity_type'].options = [ \n",
    "            'circular non-structural + structural elements', \n",
    "            'circular non-structural + structural + foundation elements', \n",
    "            'conventional'\n",
    "        ]\n",
    "    else:\n",
    "        dropdowns['circularity_type'].options = params_options['circularity_type']\n",
    "\n",
    "def update_options_circularity_type(change): \n",
    "    if change['new'] == 'circular non-structural elements': \n",
    "        dropdowns['modularity_type'].options = ['conventional']\n",
    "    else:\n",
    "        dropdowns['modularity_type'].options = params_options['modularity_type']\n",
    "\n",
    "# Create dropdown widgets\n",
    "dropdowns = {}\n",
    "for key, options in params_options.items():\n",
    "    layout = widgets.Layout(width='500px')\n",
    "    style = {'description_width': '100px'}\n",
    "    dropdowns[key] = widgets.Dropdown(options=options, description=key, \n",
    "                                      value=options[0], layout=layout, style=style)\n",
    "    if key == 'hub_network': \n",
    "        dropdowns[key].observe(update_options_hub_network, names='value')\n",
    "    if key == 'biobased_type': \n",
    "        dropdowns[key].observe(update_options_biobased_type, names='value')\n",
    "    if key == 'modularity_type': \n",
    "        dropdowns[key].observe(update_options_modularity_type, names='value')\n",
    "    display(dropdowns[key])"
   ]
  },
  {
   "cell_type": "code",
   "execution_count": 305,
   "id": "af1df4db-ba99-4e28-a419-6316b8e67b32",
   "metadata": {
    "tags": []
   },
   "outputs": [
    {
     "name": "stdout",
     "output_type": "stream",
     "text": [
      "emissions (hubs to construction sites): 66 tCO2eq\n",
      "emissions (suppliers to hubs): 1125 tCO2eq\n",
      "emissions (total): 1191 tCO2eq\n"
     ]
    },
    {
     "data": {
      "application/vnd.plotly.v1+json": {
       "config": {
        "plotlyServerURL": "https://plot.ly"
       },
       "data": [
        {
         "hovertemplate": "variable=emissions_s2h<br>step=%{x}<br>value=%{y}<extra></extra>",
         "legendgroup": "emissions_s2h",
         "line": {
          "color": "#636efa",
          "dash": "solid"
         },
         "marker": {
          "symbol": "circle"
         },
         "mode": "lines",
         "name": "emissions_s2h",
         "orientation": "v",
         "showlegend": true,
         "type": "scatter",
         "x": [
          0,
          1,
          2,
          3,
          4,
          5,
          6,
          7,
          8,
          9
         ],
         "xaxis": "x",
         "y": [
          162.1273284,
          328.23622980000005,
          494.9101044000001,
          656.6764032000001,
          818.3828987999997,
          986.3335781999991,
          1096.8541361999996,
          1124.6327136000002,
          1124.7991020000004,
          1124.7991020000004
         ],
         "yaxis": "y"
        },
        {
         "hovertemplate": "variable=emissions_h2c<br>step=%{x}<br>value=%{y}<extra></extra>",
         "legendgroup": "emissions_h2c",
         "line": {
          "color": "#EF553B",
          "dash": "solid"
         },
         "marker": {
          "symbol": "circle"
         },
         "mode": "lines",
         "name": "emissions_h2c",
         "orientation": "v",
         "showlegend": true,
         "type": "scatter",
         "x": [
          0,
          1,
          2,
          3,
          4,
          5,
          6,
          7,
          8,
          9
         ],
         "xaxis": "x",
         "y": [
          9.36652679999998,
          18.997302600000094,
          28.362535200000018,
          37.73541599999998,
          47.24522820000011,
          56.568882600000244,
          63.780089400000364,
          65.77436340000038,
          65.85495120000037,
          65.85495120000037
         ],
         "yaxis": "y"
        },
        {
         "hovertemplate": "variable=emissions_total<br>step=%{x}<br>value=%{y}<extra></extra>",
         "legendgroup": "emissions_total",
         "line": {
          "color": "#00cc96",
          "dash": "solid"
         },
         "marker": {
          "symbol": "circle"
         },
         "mode": "lines",
         "name": "emissions_total",
         "orientation": "v",
         "showlegend": true,
         "type": "scatter",
         "x": [
          0,
          1,
          2,
          3,
          4,
          5,
          6,
          7,
          8,
          9
         ],
         "xaxis": "x",
         "y": [
          171.49385519999998,
          347.2335324000001,
          523.2726396,
          694.4118192000001,
          865.6281269999998,
          1042.9024607999993,
          1160.6342256,
          1190.4070770000005,
          1190.6540532000008,
          1190.6540532000008
         ],
         "yaxis": "y"
        }
       ],
       "layout": {
        "autosize": true,
        "legend": {
         "title": {
          "text": "variable"
         },
         "tracegroupgap": 0
        },
        "template": {
         "data": {
          "bar": [
           {
            "error_x": {
             "color": "#2a3f5f"
            },
            "error_y": {
             "color": "#2a3f5f"
            },
            "marker": {
             "line": {
              "color": "#E5ECF6",
              "width": 0.5
             },
             "pattern": {
              "fillmode": "overlay",
              "size": 10,
              "solidity": 0.2
             }
            },
            "type": "bar"
           }
          ],
          "barpolar": [
           {
            "marker": {
             "line": {
              "color": "#E5ECF6",
              "width": 0.5
             },
             "pattern": {
              "fillmode": "overlay",
              "size": 10,
              "solidity": 0.2
             }
            },
            "type": "barpolar"
           }
          ],
          "carpet": [
           {
            "aaxis": {
             "endlinecolor": "#2a3f5f",
             "gridcolor": "white",
             "linecolor": "white",
             "minorgridcolor": "white",
             "startlinecolor": "#2a3f5f"
            },
            "baxis": {
             "endlinecolor": "#2a3f5f",
             "gridcolor": "white",
             "linecolor": "white",
             "minorgridcolor": "white",
             "startlinecolor": "#2a3f5f"
            },
            "type": "carpet"
           }
          ],
          "choropleth": [
           {
            "colorbar": {
             "outlinewidth": 0,
             "ticks": ""
            },
            "type": "choropleth"
           }
          ],
          "contour": [
           {
            "colorbar": {
             "outlinewidth": 0,
             "ticks": ""
            },
            "colorscale": [
             [
              0,
              "#0d0887"
             ],
             [
              0.1111111111111111,
              "#46039f"
             ],
             [
              0.2222222222222222,
              "#7201a8"
             ],
             [
              0.3333333333333333,
              "#9c179e"
             ],
             [
              0.4444444444444444,
              "#bd3786"
             ],
             [
              0.5555555555555556,
              "#d8576b"
             ],
             [
              0.6666666666666666,
              "#ed7953"
             ],
             [
              0.7777777777777778,
              "#fb9f3a"
             ],
             [
              0.8888888888888888,
              "#fdca26"
             ],
             [
              1,
              "#f0f921"
             ]
            ],
            "type": "contour"
           }
          ],
          "contourcarpet": [
           {
            "colorbar": {
             "outlinewidth": 0,
             "ticks": ""
            },
            "type": "contourcarpet"
           }
          ],
          "heatmap": [
           {
            "colorbar": {
             "outlinewidth": 0,
             "ticks": ""
            },
            "colorscale": [
             [
              0,
              "#0d0887"
             ],
             [
              0.1111111111111111,
              "#46039f"
             ],
             [
              0.2222222222222222,
              "#7201a8"
             ],
             [
              0.3333333333333333,
              "#9c179e"
             ],
             [
              0.4444444444444444,
              "#bd3786"
             ],
             [
              0.5555555555555556,
              "#d8576b"
             ],
             [
              0.6666666666666666,
              "#ed7953"
             ],
             [
              0.7777777777777778,
              "#fb9f3a"
             ],
             [
              0.8888888888888888,
              "#fdca26"
             ],
             [
              1,
              "#f0f921"
             ]
            ],
            "type": "heatmap"
           }
          ],
          "heatmapgl": [
           {
            "colorbar": {
             "outlinewidth": 0,
             "ticks": ""
            },
            "colorscale": [
             [
              0,
              "#0d0887"
             ],
             [
              0.1111111111111111,
              "#46039f"
             ],
             [
              0.2222222222222222,
              "#7201a8"
             ],
             [
              0.3333333333333333,
              "#9c179e"
             ],
             [
              0.4444444444444444,
              "#bd3786"
             ],
             [
              0.5555555555555556,
              "#d8576b"
             ],
             [
              0.6666666666666666,
              "#ed7953"
             ],
             [
              0.7777777777777778,
              "#fb9f3a"
             ],
             [
              0.8888888888888888,
              "#fdca26"
             ],
             [
              1,
              "#f0f921"
             ]
            ],
            "type": "heatmapgl"
           }
          ],
          "histogram": [
           {
            "marker": {
             "pattern": {
              "fillmode": "overlay",
              "size": 10,
              "solidity": 0.2
             }
            },
            "type": "histogram"
           }
          ],
          "histogram2d": [
           {
            "colorbar": {
             "outlinewidth": 0,
             "ticks": ""
            },
            "colorscale": [
             [
              0,
              "#0d0887"
             ],
             [
              0.1111111111111111,
              "#46039f"
             ],
             [
              0.2222222222222222,
              "#7201a8"
             ],
             [
              0.3333333333333333,
              "#9c179e"
             ],
             [
              0.4444444444444444,
              "#bd3786"
             ],
             [
              0.5555555555555556,
              "#d8576b"
             ],
             [
              0.6666666666666666,
              "#ed7953"
             ],
             [
              0.7777777777777778,
              "#fb9f3a"
             ],
             [
              0.8888888888888888,
              "#fdca26"
             ],
             [
              1,
              "#f0f921"
             ]
            ],
            "type": "histogram2d"
           }
          ],
          "histogram2dcontour": [
           {
            "colorbar": {
             "outlinewidth": 0,
             "ticks": ""
            },
            "colorscale": [
             [
              0,
              "#0d0887"
             ],
             [
              0.1111111111111111,
              "#46039f"
             ],
             [
              0.2222222222222222,
              "#7201a8"
             ],
             [
              0.3333333333333333,
              "#9c179e"
             ],
             [
              0.4444444444444444,
              "#bd3786"
             ],
             [
              0.5555555555555556,
              "#d8576b"
             ],
             [
              0.6666666666666666,
              "#ed7953"
             ],
             [
              0.7777777777777778,
              "#fb9f3a"
             ],
             [
              0.8888888888888888,
              "#fdca26"
             ],
             [
              1,
              "#f0f921"
             ]
            ],
            "type": "histogram2dcontour"
           }
          ],
          "mesh3d": [
           {
            "colorbar": {
             "outlinewidth": 0,
             "ticks": ""
            },
            "type": "mesh3d"
           }
          ],
          "parcoords": [
           {
            "line": {
             "colorbar": {
              "outlinewidth": 0,
              "ticks": ""
             }
            },
            "type": "parcoords"
           }
          ],
          "pie": [
           {
            "automargin": true,
            "type": "pie"
           }
          ],
          "scatter": [
           {
            "fillpattern": {
             "fillmode": "overlay",
             "size": 10,
             "solidity": 0.2
            },
            "type": "scatter"
           }
          ],
          "scatter3d": [
           {
            "line": {
             "colorbar": {
              "outlinewidth": 0,
              "ticks": ""
             }
            },
            "marker": {
             "colorbar": {
              "outlinewidth": 0,
              "ticks": ""
             }
            },
            "type": "scatter3d"
           }
          ],
          "scattercarpet": [
           {
            "marker": {
             "colorbar": {
              "outlinewidth": 0,
              "ticks": ""
             }
            },
            "type": "scattercarpet"
           }
          ],
          "scattergeo": [
           {
            "marker": {
             "colorbar": {
              "outlinewidth": 0,
              "ticks": ""
             }
            },
            "type": "scattergeo"
           }
          ],
          "scattergl": [
           {
            "marker": {
             "colorbar": {
              "outlinewidth": 0,
              "ticks": ""
             }
            },
            "type": "scattergl"
           }
          ],
          "scattermapbox": [
           {
            "marker": {
             "colorbar": {
              "outlinewidth": 0,
              "ticks": ""
             }
            },
            "type": "scattermapbox"
           }
          ],
          "scatterpolar": [
           {
            "marker": {
             "colorbar": {
              "outlinewidth": 0,
              "ticks": ""
             }
            },
            "type": "scatterpolar"
           }
          ],
          "scatterpolargl": [
           {
            "marker": {
             "colorbar": {
              "outlinewidth": 0,
              "ticks": ""
             }
            },
            "type": "scatterpolargl"
           }
          ],
          "scatterternary": [
           {
            "marker": {
             "colorbar": {
              "outlinewidth": 0,
              "ticks": ""
             }
            },
            "type": "scatterternary"
           }
          ],
          "surface": [
           {
            "colorbar": {
             "outlinewidth": 0,
             "ticks": ""
            },
            "colorscale": [
             [
              0,
              "#0d0887"
             ],
             [
              0.1111111111111111,
              "#46039f"
             ],
             [
              0.2222222222222222,
              "#7201a8"
             ],
             [
              0.3333333333333333,
              "#9c179e"
             ],
             [
              0.4444444444444444,
              "#bd3786"
             ],
             [
              0.5555555555555556,
              "#d8576b"
             ],
             [
              0.6666666666666666,
              "#ed7953"
             ],
             [
              0.7777777777777778,
              "#fb9f3a"
             ],
             [
              0.8888888888888888,
              "#fdca26"
             ],
             [
              1,
              "#f0f921"
             ]
            ],
            "type": "surface"
           }
          ],
          "table": [
           {
            "cells": {
             "fill": {
              "color": "#EBF0F8"
             },
             "line": {
              "color": "white"
             }
            },
            "header": {
             "fill": {
              "color": "#C8D4E3"
             },
             "line": {
              "color": "white"
             }
            },
            "type": "table"
           }
          ]
         },
         "layout": {
          "annotationdefaults": {
           "arrowcolor": "#2a3f5f",
           "arrowhead": 0,
           "arrowwidth": 1
          },
          "autotypenumbers": "strict",
          "coloraxis": {
           "colorbar": {
            "outlinewidth": 0,
            "ticks": ""
           }
          },
          "colorscale": {
           "diverging": [
            [
             0,
             "#8e0152"
            ],
            [
             0.1,
             "#c51b7d"
            ],
            [
             0.2,
             "#de77ae"
            ],
            [
             0.3,
             "#f1b6da"
            ],
            [
             0.4,
             "#fde0ef"
            ],
            [
             0.5,
             "#f7f7f7"
            ],
            [
             0.6,
             "#e6f5d0"
            ],
            [
             0.7,
             "#b8e186"
            ],
            [
             0.8,
             "#7fbc41"
            ],
            [
             0.9,
             "#4d9221"
            ],
            [
             1,
             "#276419"
            ]
           ],
           "sequential": [
            [
             0,
             "#0d0887"
            ],
            [
             0.1111111111111111,
             "#46039f"
            ],
            [
             0.2222222222222222,
             "#7201a8"
            ],
            [
             0.3333333333333333,
             "#9c179e"
            ],
            [
             0.4444444444444444,
             "#bd3786"
            ],
            [
             0.5555555555555556,
             "#d8576b"
            ],
            [
             0.6666666666666666,
             "#ed7953"
            ],
            [
             0.7777777777777778,
             "#fb9f3a"
            ],
            [
             0.8888888888888888,
             "#fdca26"
            ],
            [
             1,
             "#f0f921"
            ]
           ],
           "sequentialminus": [
            [
             0,
             "#0d0887"
            ],
            [
             0.1111111111111111,
             "#46039f"
            ],
            [
             0.2222222222222222,
             "#7201a8"
            ],
            [
             0.3333333333333333,
             "#9c179e"
            ],
            [
             0.4444444444444444,
             "#bd3786"
            ],
            [
             0.5555555555555556,
             "#d8576b"
            ],
            [
             0.6666666666666666,
             "#ed7953"
            ],
            [
             0.7777777777777778,
             "#fb9f3a"
            ],
            [
             0.8888888888888888,
             "#fdca26"
            ],
            [
             1,
             "#f0f921"
            ]
           ]
          },
          "colorway": [
           "#636efa",
           "#EF553B",
           "#00cc96",
           "#ab63fa",
           "#FFA15A",
           "#19d3f3",
           "#FF6692",
           "#B6E880",
           "#FF97FF",
           "#FECB52"
          ],
          "font": {
           "color": "#2a3f5f"
          },
          "geo": {
           "bgcolor": "white",
           "lakecolor": "white",
           "landcolor": "#E5ECF6",
           "showlakes": true,
           "showland": true,
           "subunitcolor": "white"
          },
          "hoverlabel": {
           "align": "left"
          },
          "hovermode": "closest",
          "mapbox": {
           "style": "light"
          },
          "paper_bgcolor": "white",
          "plot_bgcolor": "#E5ECF6",
          "polar": {
           "angularaxis": {
            "gridcolor": "white",
            "linecolor": "white",
            "ticks": ""
           },
           "bgcolor": "#E5ECF6",
           "radialaxis": {
            "gridcolor": "white",
            "linecolor": "white",
            "ticks": ""
           }
          },
          "scene": {
           "xaxis": {
            "backgroundcolor": "#E5ECF6",
            "gridcolor": "white",
            "gridwidth": 2,
            "linecolor": "white",
            "showbackground": true,
            "ticks": "",
            "zerolinecolor": "white"
           },
           "yaxis": {
            "backgroundcolor": "#E5ECF6",
            "gridcolor": "white",
            "gridwidth": 2,
            "linecolor": "white",
            "showbackground": true,
            "ticks": "",
            "zerolinecolor": "white"
           },
           "zaxis": {
            "backgroundcolor": "#E5ECF6",
            "gridcolor": "white",
            "gridwidth": 2,
            "linecolor": "white",
            "showbackground": true,
            "ticks": "",
            "zerolinecolor": "white"
           }
          },
          "shapedefaults": {
           "line": {
            "color": "#2a3f5f"
           }
          },
          "ternary": {
           "aaxis": {
            "gridcolor": "white",
            "linecolor": "white",
            "ticks": ""
           },
           "baxis": {
            "gridcolor": "white",
            "linecolor": "white",
            "ticks": ""
           },
           "bgcolor": "#E5ECF6",
           "caxis": {
            "gridcolor": "white",
            "linecolor": "white",
            "ticks": ""
           }
          },
          "title": {
           "x": 0.05
          },
          "xaxis": {
           "automargin": true,
           "gridcolor": "white",
           "linecolor": "white",
           "ticks": "",
           "title": {
            "standoff": 15
           },
           "zerolinecolor": "white",
           "zerolinewidth": 2
          },
          "yaxis": {
           "automargin": true,
           "gridcolor": "white",
           "linecolor": "white",
           "ticks": "",
           "title": {
            "standoff": 15
           },
           "zerolinecolor": "white",
           "zerolinewidth": 2
          }
         }
        },
        "title": {
         "text": "emissions"
        },
        "xaxis": {
         "anchor": "y",
         "autorange": true,
         "domain": [
          0,
          1
         ],
         "range": [
          0,
          9
         ],
         "title": {
          "text": "step"
         },
         "type": "linear"
        },
        "yaxis": {
         "anchor": "x",
         "autorange": true,
         "domain": [
          0,
          1
         ],
         "range": [
          -56.26055800000007,
          1256.281138000001
         ],
         "title": {
          "text": "value"
         },
         "type": "linear"
        }
       }
      },
      "image/png": "[encoded data removed]",
      "text/html": [
       "<div>                            <div id=\"5d48e4f7-44d8-49d3-af26-322b6442a80f\" class=\"plotly-graph-div\" style=\"height:525px; width:100%;\"></div>            <script type=\"text/javascript\">                require([\"plotly\"], function(Plotly) {                    window.PLOTLYENV=window.PLOTLYENV || {};                                    if (document.getElementById(\"5d48e4f7-44d8-49d3-af26-322b6442a80f\")) {                    Plotly.newPlot(                        \"5d48e4f7-44d8-49d3-af26-322b6442a80f\",                        [{\"hovertemplate\":\"variable=emissions_s2h<br>step=%{x}<br>value=%{y}<extra></extra>\",\"legendgroup\":\"emissions_s2h\",\"line\":{\"color\":\"#636efa\",\"dash\":\"solid\"},\"marker\":{\"symbol\":\"circle\"},\"mode\":\"lines\",\"name\":\"emissions_s2h\",\"orientation\":\"v\",\"showlegend\":true,\"x\":[0,1,2,3,4,5,6,7,8,9],\"xaxis\":\"x\",\"y\":[162.1273284,328.23622980000005,494.9101044000001,656.6764032000001,818.3828987999997,986.3335781999991,1096.8541361999996,1124.6327136000002,1124.7991020000004,1124.7991020000004],\"yaxis\":\"y\",\"type\":\"scatter\"},{\"hovertemplate\":\"variable=emissions_h2c<br>step=%{x}<br>value=%{y}<extra></extra>\",\"legendgroup\":\"emissions_h2c\",\"line\":{\"color\":\"#EF553B\",\"dash\":\"solid\"},\"marker\":{\"symbol\":\"circle\"},\"mode\":\"lines\",\"name\":\"emissions_h2c\",\"orientation\":\"v\",\"showlegend\":true,\"x\":[0,1,2,3,4,5,6,7,8,9],\"xaxis\":\"x\",\"y\":[9.36652679999998,18.997302600000094,28.362535200000018,37.73541599999998,47.24522820000011,56.568882600000244,63.780089400000364,65.77436340000038,65.85495120000037,65.85495120000037],\"yaxis\":\"y\",\"type\":\"scatter\"},{\"hovertemplate\":\"variable=emissions_total<br>step=%{x}<br>value=%{y}<extra></extra>\",\"legendgroup\":\"emissions_total\",\"line\":{\"color\":\"#00cc96\",\"dash\":\"solid\"},\"marker\":{\"symbol\":\"circle\"},\"mode\":\"lines\",\"name\":\"emissions_total\",\"orientation\":\"v\",\"showlegend\":true,\"x\":[0,1,2,3,4,5,6,7,8,9],\"xaxis\":\"x\",\"y\":[171.49385519999998,347.2335324000001,523.2726396,694.4118192000001,865.6281269999998,1042.9024607999993,1160.6342256,1190.4070770000005,1190.6540532000008,1190.6540532000008],\"yaxis\":\"y\",\"type\":\"scatter\"}],                        {\"template\":{\"data\":{\"histogram2dcontour\":[{\"type\":\"histogram2dcontour\",\"colorbar\":{\"outlinewidth\":0,\"ticks\":\"\"},\"colorscale\":[[0.0,\"#0d0887\"],[0.1111111111111111,\"#46039f\"],[0.2222222222222222,\"#7201a8\"],[0.3333333333333333,\"#9c179e\"],[0.4444444444444444,\"#bd3786\"],[0.5555555555555556,\"#d8576b\"],[0.6666666666666666,\"#ed7953\"],[0.7777777777777778,\"#fb9f3a\"],[0.8888888888888888,\"#fdca26\"],[1.0,\"#f0f921\"]]}],\"choropleth\":[{\"type\":\"choropleth\",\"colorbar\":{\"outlinewidth\":0,\"ticks\":\"\"}}],\"histogram2d\":[{\"type\":\"histogram2d\",\"colorbar\":{\"outlinewidth\":0,\"ticks\":\"\"},\"colorscale\":[[0.0,\"#0d0887\"],[0.1111111111111111,\"#46039f\"],[0.2222222222222222,\"#7201a8\"],[0.3333333333333333,\"#9c179e\"],[0.4444444444444444,\"#bd3786\"],[0.5555555555555556,\"#d8576b\"],[0.6666666666666666,\"#ed7953\"],[0.7777777777777778,\"#fb9f3a\"],[0.8888888888888888,\"#fdca26\"],[1.0,\"#f0f921\"]]}],\"heatmap\":[{\"type\":\"heatmap\",\"colorbar\":{\"outlinewidth\":0,\"ticks\":\"\"},\"colorscale\":[[0.0,\"#0d0887\"],[0.1111111111111111,\"#46039f\"],[0.2222222222222222,\"#7201a8\"],[0.3333333333333333,\"#9c179e\"],[0.4444444444444444,\"#bd3786\"],[0.5555555555555556,\"#d8576b\"],[0.6666666666666666,\"#ed7953\"],[0.7777777777777778,\"#fb9f3a\"],[0.8888888888888888,\"#fdca26\"],[1.0,\"#f0f921\"]]}],\"heatmapgl\":[{\"type\":\"heatmapgl\",\"colorbar\":{\"outlinewidth\":0,\"ticks\":\"\"},\"colorscale\":[[0.0,\"#0d0887\"],[0.1111111111111111,\"#46039f\"],[0.2222222222222222,\"#7201a8\"],[0.3333333333333333,\"#9c179e\"],[0.4444444444444444,\"#bd3786\"],[0.5555555555555556,\"#d8576b\"],[0.6666666666666666,\"#ed7953\"],[0.7777777777777778,\"#fb9f3a\"],[0.8888888888888888,\"#fdca26\"],[1.0,\"#f0f921\"]]}],\"contourcarpet\":[{\"type\":\"contourcarpet\",\"colorbar\":{\"outlinewidth\":0,\"ticks\":\"\"}}],\"contour\":[{\"type\":\"contour\",\"colorbar\":{\"outlinewidth\":0,\"ticks\":\"\"},\"colorscale\":[[0.0,\"#0d0887\"],[0.1111111111111111,\"#46039f\"],[0.2222222222222222,\"#7201a8\"],[0.3333333333333333,\"#9c179e\"],[0.4444444444444444,\"#bd3786\"],[0.5555555555555556,\"#d8576b\"],[0.6666666666666666,\"#ed7953\"],[0.7777777777777778,\"#fb9f3a\"],[0.8888888888888888,\"#fdca26\"],[1.0,\"#f0f921\"]]}],\"surface\":[{\"type\":\"surface\",\"colorbar\":{\"outlinewidth\":0,\"ticks\":\"\"},\"colorscale\":[[0.0,\"#0d0887\"],[0.1111111111111111,\"#46039f\"],[0.2222222222222222,\"#7201a8\"],[0.3333333333333333,\"#9c179e\"],[0.4444444444444444,\"#bd3786\"],[0.5555555555555556,\"#d8576b\"],[0.6666666666666666,\"#ed7953\"],[0.7777777777777778,\"#fb9f3a\"],[0.8888888888888888,\"#fdca26\"],[1.0,\"#f0f921\"]]}],\"mesh3d\":[{\"type\":\"mesh3d\",\"colorbar\":{\"outlinewidth\":0,\"ticks\":\"\"}}],\"scatter\":[{\"fillpattern\":{\"fillmode\":\"overlay\",\"size\":10,\"solidity\":0.2},\"type\":\"scatter\"}],\"parcoords\":[{\"type\":\"parcoords\",\"line\":{\"colorbar\":{\"outlinewidth\":0,\"ticks\":\"\"}}}],\"scatterpolargl\":[{\"type\":\"scatterpolargl\",\"marker\":{\"colorbar\":{\"outlinewidth\":0,\"ticks\":\"\"}}}],\"bar\":[{\"error_x\":{\"color\":\"#2a3f5f\"},\"error_y\":{\"color\":\"#2a3f5f\"},\"marker\":{\"line\":{\"color\":\"#E5ECF6\",\"width\":0.5},\"pattern\":{\"fillmode\":\"overlay\",\"size\":10,\"solidity\":0.2}},\"type\":\"bar\"}],\"scattergeo\":[{\"type\":\"scattergeo\",\"marker\":{\"colorbar\":{\"outlinewidth\":0,\"ticks\":\"\"}}}],\"scatterpolar\":[{\"type\":\"scatterpolar\",\"marker\":{\"colorbar\":{\"outlinewidth\":0,\"ticks\":\"\"}}}],\"histogram\":[{\"marker\":{\"pattern\":{\"fillmode\":\"overlay\",\"size\":10,\"solidity\":0.2}},\"type\":\"histogram\"}],\"scattergl\":[{\"type\":\"scattergl\",\"marker\":{\"colorbar\":{\"outlinewidth\":0,\"ticks\":\"\"}}}],\"scatter3d\":[{\"type\":\"scatter3d\",\"line\":{\"colorbar\":{\"outlinewidth\":0,\"ticks\":\"\"}},\"marker\":{\"colorbar\":{\"outlinewidth\":0,\"ticks\":\"\"}}}],\"scattermapbox\":[{\"type\":\"scattermapbox\",\"marker\":{\"colorbar\":{\"outlinewidth\":0,\"ticks\":\"\"}}}],\"scatterternary\":[{\"type\":\"scatterternary\",\"marker\":{\"colorbar\":{\"outlinewidth\":0,\"ticks\":\"\"}}}],\"scattercarpet\":[{\"type\":\"scattercarpet\",\"marker\":{\"colorbar\":{\"outlinewidth\":0,\"ticks\":\"\"}}}],\"carpet\":[{\"aaxis\":{\"endlinecolor\":\"#2a3f5f\",\"gridcolor\":\"white\",\"linecolor\":\"white\",\"minorgridcolor\":\"white\",\"startlinecolor\":\"#2a3f5f\"},\"baxis\":{\"endlinecolor\":\"#2a3f5f\",\"gridcolor\":\"white\",\"linecolor\":\"white\",\"minorgridcolor\":\"white\",\"startlinecolor\":\"#2a3f5f\"},\"type\":\"carpet\"}],\"table\":[{\"cells\":{\"fill\":{\"color\":\"#EBF0F8\"},\"line\":{\"color\":\"white\"}},\"header\":{\"fill\":{\"color\":\"#C8D4E3\"},\"line\":{\"color\":\"white\"}},\"type\":\"table\"}],\"barpolar\":[{\"marker\":{\"line\":{\"color\":\"#E5ECF6\",\"width\":0.5},\"pattern\":{\"fillmode\":\"overlay\",\"size\":10,\"solidity\":0.2}},\"type\":\"barpolar\"}],\"pie\":[{\"automargin\":true,\"type\":\"pie\"}]},\"layout\":{\"autotypenumbers\":\"strict\",\"colorway\":[\"#636efa\",\"#EF553B\",\"#00cc96\",\"#ab63fa\",\"#FFA15A\",\"#19d3f3\",\"#FF6692\",\"#B6E880\",\"#FF97FF\",\"#FECB52\"],\"font\":{\"color\":\"#2a3f5f\"},\"hovermode\":\"closest\",\"hoverlabel\":{\"align\":\"left\"},\"paper_bgcolor\":\"white\",\"plot_bgcolor\":\"#E5ECF6\",\"polar\":{\"bgcolor\":\"#E5ECF6\",\"angularaxis\":{\"gridcolor\":\"white\",\"linecolor\":\"white\",\"ticks\":\"\"},\"radialaxis\":{\"gridcolor\":\"white\",\"linecolor\":\"white\",\"ticks\":\"\"}},\"ternary\":{\"bgcolor\":\"#E5ECF6\",\"aaxis\":{\"gridcolor\":\"white\",\"linecolor\":\"white\",\"ticks\":\"\"},\"baxis\":{\"gridcolor\":\"white\",\"linecolor\":\"white\",\"ticks\":\"\"},\"caxis\":{\"gridcolor\":\"white\",\"linecolor\":\"white\",\"ticks\":\"\"}},\"coloraxis\":{\"colorbar\":{\"outlinewidth\":0,\"ticks\":\"\"}},\"colorscale\":{\"sequential\":[[0.0,\"#0d0887\"],[0.1111111111111111,\"#46039f\"],[0.2222222222222222,\"#7201a8\"],[0.3333333333333333,\"#9c179e\"],[0.4444444444444444,\"#bd3786\"],[0.5555555555555556,\"#d8576b\"],[0.6666666666666666,\"#ed7953\"],[0.7777777777777778,\"#fb9f3a\"],[0.8888888888888888,\"#fdca26\"],[1.0,\"#f0f921\"]],\"sequentialminus\":[[0.0,\"#0d0887\"],[0.1111111111111111,\"#46039f\"],[0.2222222222222222,\"#7201a8\"],[0.3333333333333333,\"#9c179e\"],[0.4444444444444444,\"#bd3786\"],[0.5555555555555556,\"#d8576b\"],[0.6666666666666666,\"#ed7953\"],[0.7777777777777778,\"#fb9f3a\"],[0.8888888888888888,\"#fdca26\"],[1.0,\"#f0f921\"]],\"diverging\":[[0,\"#8e0152\"],[0.1,\"#c51b7d\"],[0.2,\"#de77ae\"],[0.3,\"#f1b6da\"],[0.4,\"#fde0ef\"],[0.5,\"#f7f7f7\"],[0.6,\"#e6f5d0\"],[0.7,\"#b8e186\"],[0.8,\"#7fbc41\"],[0.9,\"#4d9221\"],[1,\"#276419\"]]},\"xaxis\":{\"gridcolor\":\"white\",\"linecolor\":\"white\",\"ticks\":\"\",\"title\":{\"standoff\":15},\"zerolinecolor\":\"white\",\"automargin\":true,\"zerolinewidth\":2},\"yaxis\":{\"gridcolor\":\"white\",\"linecolor\":\"white\",\"ticks\":\"\",\"title\":{\"standoff\":15},\"zerolinecolor\":\"white\",\"automargin\":true,\"zerolinewidth\":2},\"scene\":{\"xaxis\":{\"backgroundcolor\":\"#E5ECF6\",\"gridcolor\":\"white\",\"linecolor\":\"white\",\"showbackground\":true,\"ticks\":\"\",\"zerolinecolor\":\"white\",\"gridwidth\":2},\"yaxis\":{\"backgroundcolor\":\"#E5ECF6\",\"gridcolor\":\"white\",\"linecolor\":\"white\",\"showbackground\":true,\"ticks\":\"\",\"zerolinecolor\":\"white\",\"gridwidth\":2},\"zaxis\":{\"backgroundcolor\":\"#E5ECF6\",\"gridcolor\":\"white\",\"linecolor\":\"white\",\"showbackground\":true,\"ticks\":\"\",\"zerolinecolor\":\"white\",\"gridwidth\":2}},\"shapedefaults\":{\"line\":{\"color\":\"#2a3f5f\"}},\"annotationdefaults\":{\"arrowcolor\":\"#2a3f5f\",\"arrowhead\":0,\"arrowwidth\":1},\"geo\":{\"bgcolor\":\"white\",\"landcolor\":\"#E5ECF6\",\"subunitcolor\":\"white\",\"showland\":true,\"showlakes\":true,\"lakecolor\":\"white\"},\"title\":{\"x\":0.05},\"mapbox\":{\"style\":\"light\"}}},\"xaxis\":{\"anchor\":\"y\",\"domain\":[0.0,1.0],\"title\":{\"text\":\"step\"}},\"yaxis\":{\"anchor\":\"x\",\"domain\":[0.0,1.0],\"title\":{\"text\":\"value\"}},\"legend\":{\"title\":{\"text\":\"variable\"},\"tracegroupgap\":0},\"title\":{\"text\":\"emissions\"}},                        {\"responsive\": true}                    ).then(function(){\n",
       "                            \n",
       "var gd = document.getElementById('5d48e4f7-44d8-49d3-af26-322b6442a80f');\n",
       "var x = new MutationObserver(function (mutations, observer) {{\n",
       "        var display = window.getComputedStyle(gd).display;\n",
       "        if (!display || display === 'none') {{\n",
       "            console.log([gd, 'removed!']);\n",
       "            Plotly.purge(gd);\n",
       "            observer.disconnect();\n",
       "        }}\n",
       "}});\n",
       "\n",
       "// Listen for the removal of the full notebook cells\n",
       "var notebookContainer = gd.closest('#notebook-container');\n",
       "if (notebookContainer) {{\n",
       "    x.observe(notebookContainer, {childList: true});\n",
       "}}\n",
       "\n",
       "// Listen for the clearing of the current output cell\n",
       "var outputEl = gd.closest('.output');\n",
       "if (outputEl) {{\n",
       "    x.observe(outputEl, {childList: true});\n",
       "}}\n",
       "\n",
       "                        })                };                });            </script>        </div>"
      ]
     },
     "metadata": {},
     "output_type": "display_data"
    },
    {
     "data": {
      "text/html": [
       "\n",
       "        <iframe\n",
       "            width=\"700\"\n",
       "            height=\"600\"\n",
       "            src=\"temp_map_hubs.html\"\n",
       "            frameborder=\"0\"\n",
       "            allowfullscreen\n",
       "            \n",
       "        ></iframe>\n",
       "        "
      ],
      "text/plain": [
       "<IPython.lib.display.IFrame at 0x1a79033fd90>"
      ]
     },
     "metadata": {},
     "output_type": "display_data"
    },
    {
     "name": "stdout",
     "output_type": "stream",
     "text": [
      "CPU times: total: 9.42 s\n",
      "Wall time: 9.54 s\n"
     ]
    }
   ],
   "source": [
    "%%time\n",
    "parameters_dict = {}\n",
    "for name in dropdowns.keys(): \n",
    "    parameters_dict[name] = dropdowns[name].value\n",
    "\n",
    "for key, value in parameters_dict.items():\n",
    "    if key in params_conversion:\n",
    "        parameters_dict[key] = params_conversion[key][value]\n",
    "\n",
    "# create and run model \n",
    "model = Model(parameters_dict)\n",
    "for i in range(10): \n",
    "    model.step()\n",
    "\n",
    "model.visualize()"
   ]
  },
  {
   "cell_type": "code",
   "execution_count": null,
   "id": "4b94f672-86e7-4c1b-a751-fb612e133d3b",
   "metadata": {},
   "outputs": [],
   "source": []
  },
  {
   "cell_type": "code",
   "execution_count": null,
   "id": "028d736b-2f9a-4682-94e6-29aad3a22b4b",
   "metadata": {},
   "outputs": [],
   "source": []
  },
  {
   "cell_type": "code",
   "execution_count": null,
   "id": "92508514-e193-457b-a43f-878bb4fa4cab",
   "metadata": {},
   "outputs": [],
   "source": []
  },
  {
   "cell_type": "code",
   "execution_count": null,
   "id": "f5f86923-7478-46ef-8309-ccdac15567cd",
   "metadata": {},
   "outputs": [],
   "source": []
  },
  {
   "cell_type": "code",
   "execution_count": 27,
   "id": "f495a7d2-afa5-45f3-b4c7-7dd1a302215c",
   "metadata": {
    "tags": []
   },
   "outputs": [
    {
     "name": "stdout",
     "output_type": "stream",
     "text": [
      "emissions (hubs to construction sites): 18 tCO2eq\n",
      "emissions (suppliers to hubs): 579 tCO2eq\n",
      "emissions (total): 597 tCO2eq\n"
     ]
    },
    {
     "data": {
      "application/vnd.plotly.v1+json": {
       "config": {
        "plotlyServerURL": "https://plot.ly"
       },
       "data": [
        {
         "hovertemplate": "variable=emissions_s2h<br>step=%{x}<br>value=%{y}<extra></extra>",
         "legendgroup": "emissions_s2h",
         "line": {
          "color": "#636efa",
          "dash": "solid"
         },
         "marker": {
          "symbol": "circle"
         },
         "mode": "lines",
         "name": "emissions_s2h",
         "orientation": "v",
         "showlegend": true,
         "type": "scatter",
         "x": [
          0
         ],
         "xaxis": "x",
         "y": [
          578.7
         ],
         "yaxis": "y"
        },
        {
         "hovertemplate": "variable=emissions_h2c<br>step=%{x}<br>value=%{y}<extra></extra>",
         "legendgroup": "emissions_h2c",
         "line": {
          "color": "#EF553B",
          "dash": "solid"
         },
         "marker": {
          "symbol": "circle"
         },
         "mode": "lines",
         "name": "emissions_h2c",
         "orientation": "v",
         "showlegend": true,
         "type": "scatter",
         "x": [
          0
         ],
         "xaxis": "x",
         "y": [
          18.3664314
         ],
         "yaxis": "y"
        },
        {
         "hovertemplate": "variable=emissions_total<br>step=%{x}<br>value=%{y}<extra></extra>",
         "legendgroup": "emissions_total",
         "line": {
          "color": "#00cc96",
          "dash": "solid"
         },
         "marker": {
          "symbol": "circle"
         },
         "mode": "lines",
         "name": "emissions_total",
         "orientation": "v",
         "showlegend": true,
         "type": "scatter",
         "x": [
          0
         ],
         "xaxis": "x",
         "y": [
          597.0664314
         ],
         "yaxis": "y"
        }
       ],
       "layout": {
        "autosize": true,
        "legend": {
         "title": {
          "text": "variable"
         },
         "tracegroupgap": 0
        },
        "template": {
         "data": {
          "bar": [
           {
            "error_x": {
             "color": "#2a3f5f"
            },
            "error_y": {
             "color": "#2a3f5f"
            },
            "marker": {
             "line": {
              "color": "#E5ECF6",
              "width": 0.5
             },
             "pattern": {
              "fillmode": "overlay",
              "size": 10,
              "solidity": 0.2
             }
            },
            "type": "bar"
           }
          ],
          "barpolar": [
           {
            "marker": {
             "line": {
              "color": "#E5ECF6",
              "width": 0.5
             },
             "pattern": {
              "fillmode": "overlay",
              "size": 10,
              "solidity": 0.2
             }
            },
            "type": "barpolar"
           }
          ],
          "carpet": [
           {
            "aaxis": {
             "endlinecolor": "#2a3f5f",
             "gridcolor": "white",
             "linecolor": "white",
             "minorgridcolor": "white",
             "startlinecolor": "#2a3f5f"
            },
            "baxis": {
             "endlinecolor": "#2a3f5f",
             "gridcolor": "white",
             "linecolor": "white",
             "minorgridcolor": "white",
             "startlinecolor": "#2a3f5f"
            },
            "type": "carpet"
           }
          ],
          "choropleth": [
           {
            "colorbar": {
             "outlinewidth": 0,
             "ticks": ""
            },
            "type": "choropleth"
           }
          ],
          "contour": [
           {
            "colorbar": {
             "outlinewidth": 0,
             "ticks": ""
            },
            "colorscale": [
             [
              0,
              "#0d0887"
             ],
             [
              0.1111111111111111,
              "#46039f"
             ],
             [
              0.2222222222222222,
              "#7201a8"
             ],
             [
              0.3333333333333333,
              "#9c179e"
             ],
             [
              0.4444444444444444,
              "#bd3786"
             ],
             [
              0.5555555555555556,
              "#d8576b"
             ],
             [
              0.6666666666666666,
              "#ed7953"
             ],
             [
              0.7777777777777778,
              "#fb9f3a"
             ],
             [
              0.8888888888888888,
              "#fdca26"
             ],
             [
              1,
              "#f0f921"
             ]
            ],
            "type": "contour"
           }
          ],
          "contourcarpet": [
           {
            "colorbar": {
             "outlinewidth": 0,
             "ticks": ""
            },
            "type": "contourcarpet"
           }
          ],
          "heatmap": [
           {
            "colorbar": {
             "outlinewidth": 0,
             "ticks": ""
            },
            "colorscale": [
             [
              0,
              "#0d0887"
             ],
             [
              0.1111111111111111,
              "#46039f"
             ],
             [
              0.2222222222222222,
              "#7201a8"
             ],
             [
              0.3333333333333333,
              "#9c179e"
             ],
             [
              0.4444444444444444,
              "#bd3786"
             ],
             [
              0.5555555555555556,
              "#d8576b"
             ],
             [
              0.6666666666666666,
              "#ed7953"
             ],
             [
              0.7777777777777778,
              "#fb9f3a"
             ],
             [
              0.8888888888888888,
              "#fdca26"
             ],
             [
              1,
              "#f0f921"
             ]
            ],
            "type": "heatmap"
           }
          ],
          "heatmapgl": [
           {
            "colorbar": {
             "outlinewidth": 0,
             "ticks": ""
            },
            "colorscale": [
             [
              0,
              "#0d0887"
             ],
             [
              0.1111111111111111,
              "#46039f"
             ],
             [
              0.2222222222222222,
              "#7201a8"
             ],
             [
              0.3333333333333333,
              "#9c179e"
             ],
             [
              0.4444444444444444,
              "#bd3786"
             ],
             [
              0.5555555555555556,
              "#d8576b"
             ],
             [
              0.6666666666666666,
              "#ed7953"
             ],
             [
              0.7777777777777778,
              "#fb9f3a"
             ],
             [
              0.8888888888888888,
              "#fdca26"
             ],
             [
              1,
              "#f0f921"
             ]
            ],
            "type": "heatmapgl"
           }
          ],
          "histogram": [
           {
            "marker": {
             "pattern": {
              "fillmode": "overlay",
              "size": 10,
              "solidity": 0.2
             }
            },
            "type": "histogram"
           }
          ],
          "histogram2d": [
           {
            "colorbar": {
             "outlinewidth": 0,
             "ticks": ""
            },
            "colorscale": [
             [
              0,
              "#0d0887"
             ],
             [
              0.1111111111111111,
              "#46039f"
             ],
             [
              0.2222222222222222,
              "#7201a8"
             ],
             [
              0.3333333333333333,
              "#9c179e"
             ],
             [
              0.4444444444444444,
              "#bd3786"
             ],
             [
              0.5555555555555556,
              "#d8576b"
             ],
             [
              0.6666666666666666,
              "#ed7953"
             ],
             [
              0.7777777777777778,
              "#fb9f3a"
             ],
             [
              0.8888888888888888,
              "#fdca26"
             ],
             [
              1,
              "#f0f921"
             ]
            ],
            "type": "histogram2d"
           }
          ],
          "histogram2dcontour": [
           {
            "colorbar": {
             "outlinewidth": 0,
             "ticks": ""
            },
            "colorscale": [
             [
              0,
              "#0d0887"
             ],
             [
              0.1111111111111111,
              "#46039f"
             ],
             [
              0.2222222222222222,
              "#7201a8"
             ],
             [
              0.3333333333333333,
              "#9c179e"
             ],
             [
              0.4444444444444444,
              "#bd3786"
             ],
             [
              0.5555555555555556,
              "#d8576b"
             ],
             [
              0.6666666666666666,
              "#ed7953"
             ],
             [
              0.7777777777777778,
              "#fb9f3a"
             ],
             [
              0.8888888888888888,
              "#fdca26"
             ],
             [
              1,
              "#f0f921"
             ]
            ],
            "type": "histogram2dcontour"
           }
          ],
          "mesh3d": [
           {
            "colorbar": {
             "outlinewidth": 0,
             "ticks": ""
            },
            "type": "mesh3d"
           }
          ],
          "parcoords": [
           {
            "line": {
             "colorbar": {
              "outlinewidth": 0,
              "ticks": ""
             }
            },
            "type": "parcoords"
           }
          ],
          "pie": [
           {
            "automargin": true,
            "type": "pie"
           }
          ],
          "scatter": [
           {
            "fillpattern": {
             "fillmode": "overlay",
             "size": 10,
             "solidity": 0.2
            },
            "type": "scatter"
           }
          ],
          "scatter3d": [
           {
            "line": {
             "colorbar": {
              "outlinewidth": 0,
              "ticks": ""
             }
            },
            "marker": {
             "colorbar": {
              "outlinewidth": 0,
              "ticks": ""
             }
            },
            "type": "scatter3d"
           }
          ],
          "scattercarpet": [
           {
            "marker": {
             "colorbar": {
              "outlinewidth": 0,
              "ticks": ""
             }
            },
            "type": "scattercarpet"
           }
          ],
          "scattergeo": [
           {
            "marker": {
             "colorbar": {
              "outlinewidth": 0,
              "ticks": ""
             }
            },
            "type": "scattergeo"
           }
          ],
          "scattergl": [
           {
            "marker": {
             "colorbar": {
              "outlinewidth": 0,
              "ticks": ""
             }
            },
            "type": "scattergl"
           }
          ],
          "scattermapbox": [
           {
            "marker": {
             "colorbar": {
              "outlinewidth": 0,
              "ticks": ""
             }
            },
            "type": "scattermapbox"
           }
          ],
          "scatterpolar": [
           {
            "marker": {
             "colorbar": {
              "outlinewidth": 0,
              "ticks": ""
             }
            },
            "type": "scatterpolar"
           }
          ],
          "scatterpolargl": [
           {
            "marker": {
             "colorbar": {
              "outlinewidth": 0,
              "ticks": ""
             }
            },
            "type": "scatterpolargl"
           }
          ],
          "scatterternary": [
           {
            "marker": {
             "colorbar": {
              "outlinewidth": 0,
              "ticks": ""
             }
            },
            "type": "scatterternary"
           }
          ],
          "surface": [
           {
            "colorbar": {
             "outlinewidth": 0,
             "ticks": ""
            },
            "colorscale": [
             [
              0,
              "#0d0887"
             ],
             [
              0.1111111111111111,
              "#46039f"
             ],
             [
              0.2222222222222222,
              "#7201a8"
             ],
             [
              0.3333333333333333,
              "#9c179e"
             ],
             [
              0.4444444444444444,
              "#bd3786"
             ],
             [
              0.5555555555555556,
              "#d8576b"
             ],
             [
              0.6666666666666666,
              "#ed7953"
             ],
             [
              0.7777777777777778,
              "#fb9f3a"
             ],
             [
              0.8888888888888888,
              "#fdca26"
             ],
             [
              1,
              "#f0f921"
             ]
            ],
            "type": "surface"
           }
          ],
          "table": [
           {
            "cells": {
             "fill": {
              "color": "#EBF0F8"
             },
             "line": {
              "color": "white"
             }
            },
            "header": {
             "fill": {
              "color": "#C8D4E3"
             },
             "line": {
              "color": "white"
             }
            },
            "type": "table"
           }
          ]
         },
         "layout": {
          "annotationdefaults": {
           "arrowcolor": "#2a3f5f",
           "arrowhead": 0,
           "arrowwidth": 1
          },
          "autotypenumbers": "strict",
          "coloraxis": {
           "colorbar": {
            "outlinewidth": 0,
            "ticks": ""
           }
          },
          "colorscale": {
           "diverging": [
            [
             0,
             "#8e0152"
            ],
            [
             0.1,
             "#c51b7d"
            ],
            [
             0.2,
             "#de77ae"
            ],
            [
             0.3,
             "#f1b6da"
            ],
            [
             0.4,
             "#fde0ef"
            ],
            [
             0.5,
             "#f7f7f7"
            ],
            [
             0.6,
             "#e6f5d0"
            ],
            [
             0.7,
             "#b8e186"
            ],
            [
             0.8,
             "#7fbc41"
            ],
            [
             0.9,
             "#4d9221"
            ],
            [
             1,
             "#276419"
            ]
           ],
           "sequential": [
            [
             0,
             "#0d0887"
            ],
            [
             0.1111111111111111,
             "#46039f"
            ],
            [
             0.2222222222222222,
             "#7201a8"
            ],
            [
             0.3333333333333333,
             "#9c179e"
            ],
            [
             0.4444444444444444,
             "#bd3786"
            ],
            [
             0.5555555555555556,
             "#d8576b"
            ],
            [
             0.6666666666666666,
             "#ed7953"
            ],
            [
             0.7777777777777778,
             "#fb9f3a"
            ],
            [
             0.8888888888888888,
             "#fdca26"
            ],
            [
             1,
             "#f0f921"
            ]
           ],
           "sequentialminus": [
            [
             0,
             "#0d0887"
            ],
            [
             0.1111111111111111,
             "#46039f"
            ],
            [
             0.2222222222222222,
             "#7201a8"
            ],
            [
             0.3333333333333333,
             "#9c179e"
            ],
            [
             0.4444444444444444,
             "#bd3786"
            ],
            [
             0.5555555555555556,
             "#d8576b"
            ],
            [
             0.6666666666666666,
             "#ed7953"
            ],
            [
             0.7777777777777778,
             "#fb9f3a"
            ],
            [
             0.8888888888888888,
             "#fdca26"
            ],
            [
             1,
             "#f0f921"
            ]
           ]
          },
          "colorway": [
           "#636efa",
           "#EF553B",
           "#00cc96",
           "#ab63fa",
           "#FFA15A",
           "#19d3f3",
           "#FF6692",
           "#B6E880",
           "#FF97FF",
           "#FECB52"
          ],
          "font": {
           "color": "#2a3f5f"
          },
          "geo": {
           "bgcolor": "white",
           "lakecolor": "white",
           "landcolor": "#E5ECF6",
           "showlakes": true,
           "showland": true,
           "subunitcolor": "white"
          },
          "hoverlabel": {
           "align": "left"
          },
          "hovermode": "closest",
          "mapbox": {
           "style": "light"
          },
          "paper_bgcolor": "white",
          "plot_bgcolor": "#E5ECF6",
          "polar": {
           "angularaxis": {
            "gridcolor": "white",
            "linecolor": "white",
            "ticks": ""
           },
           "bgcolor": "#E5ECF6",
           "radialaxis": {
            "gridcolor": "white",
            "linecolor": "white",
            "ticks": ""
           }
          },
          "scene": {
           "xaxis": {
            "backgroundcolor": "#E5ECF6",
            "gridcolor": "white",
            "gridwidth": 2,
            "linecolor": "white",
            "showbackground": true,
            "ticks": "",
            "zerolinecolor": "white"
           },
           "yaxis": {
            "backgroundcolor": "#E5ECF6",
            "gridcolor": "white",
            "gridwidth": 2,
            "linecolor": "white",
            "showbackground": true,
            "ticks": "",
            "zerolinecolor": "white"
           },
           "zaxis": {
            "backgroundcolor": "#E5ECF6",
            "gridcolor": "white",
            "gridwidth": 2,
            "linecolor": "white",
            "showbackground": true,
            "ticks": "",
            "zerolinecolor": "white"
           }
          },
          "shapedefaults": {
           "line": {
            "color": "#2a3f5f"
           }
          },
          "ternary": {
           "aaxis": {
            "gridcolor": "white",
            "linecolor": "white",
            "ticks": ""
           },
           "baxis": {
            "gridcolor": "white",
            "linecolor": "white",
            "ticks": ""
           },
           "bgcolor": "#E5ECF6",
           "caxis": {
            "gridcolor": "white",
            "linecolor": "white",
            "ticks": ""
           }
          },
          "title": {
           "x": 0.05
          },
          "xaxis": {
           "automargin": true,
           "gridcolor": "white",
           "linecolor": "white",
           "ticks": "",
           "title": {
            "standoff": 15
           },
           "zerolinecolor": "white",
           "zerolinewidth": 2
          },
          "yaxis": {
           "automargin": true,
           "gridcolor": "white",
           "linecolor": "white",
           "ticks": "",
           "title": {
            "standoff": 15
           },
           "zerolinecolor": "white",
           "zerolinewidth": 2
          }
         }
        },
        "title": {
         "text": "emissions"
        },
        "xaxis": {
         "anchor": "y",
         "autorange": true,
         "domain": [
          0,
          1
         ],
         "range": [
          -1,
          1
         ],
         "title": {
          "text": "step"
         },
         "type": "linear"
        },
        "yaxis": {
         "anchor": "x",
         "autorange": true,
         "domain": [
          0,
          1
         ],
         "range": [
          -13.783568599999999,
          629.2164314
         ],
         "title": {
          "text": "value"
         },
         "type": "linear"
        }
       }
      },
      "image/png": "[encoded data removed]",
      "text/html": [
       "<div>                            <div id=\"03a538fe-ff54-4089-b2e3-9f8180a39d43\" class=\"plotly-graph-div\" style=\"height:525px; width:100%;\"></div>            <script type=\"text/javascript\">                require([\"plotly\"], function(Plotly) {                    window.PLOTLYENV=window.PLOTLYENV || {};                                    if (document.getElementById(\"03a538fe-ff54-4089-b2e3-9f8180a39d43\")) {                    Plotly.newPlot(                        \"03a538fe-ff54-4089-b2e3-9f8180a39d43\",                        [{\"hovertemplate\":\"variable=emissions_s2h<br>step=%{x}<br>value=%{y}<extra></extra>\",\"legendgroup\":\"emissions_s2h\",\"line\":{\"color\":\"#636efa\",\"dash\":\"solid\"},\"marker\":{\"symbol\":\"circle\"},\"mode\":\"lines\",\"name\":\"emissions_s2h\",\"orientation\":\"v\",\"showlegend\":true,\"x\":[0],\"xaxis\":\"x\",\"y\":[578.7],\"yaxis\":\"y\",\"type\":\"scatter\"},{\"hovertemplate\":\"variable=emissions_h2c<br>step=%{x}<br>value=%{y}<extra></extra>\",\"legendgroup\":\"emissions_h2c\",\"line\":{\"color\":\"#EF553B\",\"dash\":\"solid\"},\"marker\":{\"symbol\":\"circle\"},\"mode\":\"lines\",\"name\":\"emissions_h2c\",\"orientation\":\"v\",\"showlegend\":true,\"x\":[0],\"xaxis\":\"x\",\"y\":[18.3664314],\"yaxis\":\"y\",\"type\":\"scatter\"},{\"hovertemplate\":\"variable=emissions_total<br>step=%{x}<br>value=%{y}<extra></extra>\",\"legendgroup\":\"emissions_total\",\"line\":{\"color\":\"#00cc96\",\"dash\":\"solid\"},\"marker\":{\"symbol\":\"circle\"},\"mode\":\"lines\",\"name\":\"emissions_total\",\"orientation\":\"v\",\"showlegend\":true,\"x\":[0],\"xaxis\":\"x\",\"y\":[597.0664314],\"yaxis\":\"y\",\"type\":\"scatter\"}],                        {\"template\":{\"data\":{\"histogram2dcontour\":[{\"type\":\"histogram2dcontour\",\"colorbar\":{\"outlinewidth\":0,\"ticks\":\"\"},\"colorscale\":[[0.0,\"#0d0887\"],[0.1111111111111111,\"#46039f\"],[0.2222222222222222,\"#7201a8\"],[0.3333333333333333,\"#9c179e\"],[0.4444444444444444,\"#bd3786\"],[0.5555555555555556,\"#d8576b\"],[0.6666666666666666,\"#ed7953\"],[0.7777777777777778,\"#fb9f3a\"],[0.8888888888888888,\"#fdca26\"],[1.0,\"#f0f921\"]]}],\"choropleth\":[{\"type\":\"choropleth\",\"colorbar\":{\"outlinewidth\":0,\"ticks\":\"\"}}],\"histogram2d\":[{\"type\":\"histogram2d\",\"colorbar\":{\"outlinewidth\":0,\"ticks\":\"\"},\"colorscale\":[[0.0,\"#0d0887\"],[0.1111111111111111,\"#46039f\"],[0.2222222222222222,\"#7201a8\"],[0.3333333333333333,\"#9c179e\"],[0.4444444444444444,\"#bd3786\"],[0.5555555555555556,\"#d8576b\"],[0.6666666666666666,\"#ed7953\"],[0.7777777777777778,\"#fb9f3a\"],[0.8888888888888888,\"#fdca26\"],[1.0,\"#f0f921\"]]}],\"heatmap\":[{\"type\":\"heatmap\",\"colorbar\":{\"outlinewidth\":0,\"ticks\":\"\"},\"colorscale\":[[0.0,\"#0d0887\"],[0.1111111111111111,\"#46039f\"],[0.2222222222222222,\"#7201a8\"],[0.3333333333333333,\"#9c179e\"],[0.4444444444444444,\"#bd3786\"],[0.5555555555555556,\"#d8576b\"],[0.6666666666666666,\"#ed7953\"],[0.7777777777777778,\"#fb9f3a\"],[0.8888888888888888,\"#fdca26\"],[1.0,\"#f0f921\"]]}],\"heatmapgl\":[{\"type\":\"heatmapgl\",\"colorbar\":{\"outlinewidth\":0,\"ticks\":\"\"},\"colorscale\":[[0.0,\"#0d0887\"],[0.1111111111111111,\"#46039f\"],[0.2222222222222222,\"#7201a8\"],[0.3333333333333333,\"#9c179e\"],[0.4444444444444444,\"#bd3786\"],[0.5555555555555556,\"#d8576b\"],[0.6666666666666666,\"#ed7953\"],[0.7777777777777778,\"#fb9f3a\"],[0.8888888888888888,\"#fdca26\"],[1.0,\"#f0f921\"]]}],\"contourcarpet\":[{\"type\":\"contourcarpet\",\"colorbar\":{\"outlinewidth\":0,\"ticks\":\"\"}}],\"contour\":[{\"type\":\"contour\",\"colorbar\":{\"outlinewidth\":0,\"ticks\":\"\"},\"colorscale\":[[0.0,\"#0d0887\"],[0.1111111111111111,\"#46039f\"],[0.2222222222222222,\"#7201a8\"],[0.3333333333333333,\"#9c179e\"],[0.4444444444444444,\"#bd3786\"],[0.5555555555555556,\"#d8576b\"],[0.6666666666666666,\"#ed7953\"],[0.7777777777777778,\"#fb9f3a\"],[0.8888888888888888,\"#fdca26\"],[1.0,\"#f0f921\"]]}],\"surface\":[{\"type\":\"surface\",\"colorbar\":{\"outlinewidth\":0,\"ticks\":\"\"},\"colorscale\":[[0.0,\"#0d0887\"],[0.1111111111111111,\"#46039f\"],[0.2222222222222222,\"#7201a8\"],[0.3333333333333333,\"#9c179e\"],[0.4444444444444444,\"#bd3786\"],[0.5555555555555556,\"#d8576b\"],[0.6666666666666666,\"#ed7953\"],[0.7777777777777778,\"#fb9f3a\"],[0.8888888888888888,\"#fdca26\"],[1.0,\"#f0f921\"]]}],\"mesh3d\":[{\"type\":\"mesh3d\",\"colorbar\":{\"outlinewidth\":0,\"ticks\":\"\"}}],\"scatter\":[{\"fillpattern\":{\"fillmode\":\"overlay\",\"size\":10,\"solidity\":0.2},\"type\":\"scatter\"}],\"parcoords\":[{\"type\":\"parcoords\",\"line\":{\"colorbar\":{\"outlinewidth\":0,\"ticks\":\"\"}}}],\"scatterpolargl\":[{\"type\":\"scatterpolargl\",\"marker\":{\"colorbar\":{\"outlinewidth\":0,\"ticks\":\"\"}}}],\"bar\":[{\"error_x\":{\"color\":\"#2a3f5f\"},\"error_y\":{\"color\":\"#2a3f5f\"},\"marker\":{\"line\":{\"color\":\"#E5ECF6\",\"width\":0.5},\"pattern\":{\"fillmode\":\"overlay\",\"size\":10,\"solidity\":0.2}},\"type\":\"bar\"}],\"scattergeo\":[{\"type\":\"scattergeo\",\"marker\":{\"colorbar\":{\"outlinewidth\":0,\"ticks\":\"\"}}}],\"scatterpolar\":[{\"type\":\"scatterpolar\",\"marker\":{\"colorbar\":{\"outlinewidth\":0,\"ticks\":\"\"}}}],\"histogram\":[{\"marker\":{\"pattern\":{\"fillmode\":\"overlay\",\"size\":10,\"solidity\":0.2}},\"type\":\"histogram\"}],\"scattergl\":[{\"type\":\"scattergl\",\"marker\":{\"colorbar\":{\"outlinewidth\":0,\"ticks\":\"\"}}}],\"scatter3d\":[{\"type\":\"scatter3d\",\"line\":{\"colorbar\":{\"outlinewidth\":0,\"ticks\":\"\"}},\"marker\":{\"colorbar\":{\"outlinewidth\":0,\"ticks\":\"\"}}}],\"scattermapbox\":[{\"type\":\"scattermapbox\",\"marker\":{\"colorbar\":{\"outlinewidth\":0,\"ticks\":\"\"}}}],\"scatterternary\":[{\"type\":\"scatterternary\",\"marker\":{\"colorbar\":{\"outlinewidth\":0,\"ticks\":\"\"}}}],\"scattercarpet\":[{\"type\":\"scattercarpet\",\"marker\":{\"colorbar\":{\"outlinewidth\":0,\"ticks\":\"\"}}}],\"carpet\":[{\"aaxis\":{\"endlinecolor\":\"#2a3f5f\",\"gridcolor\":\"white\",\"linecolor\":\"white\",\"minorgridcolor\":\"white\",\"startlinecolor\":\"#2a3f5f\"},\"baxis\":{\"endlinecolor\":\"#2a3f5f\",\"gridcolor\":\"white\",\"linecolor\":\"white\",\"minorgridcolor\":\"white\",\"startlinecolor\":\"#2a3f5f\"},\"type\":\"carpet\"}],\"table\":[{\"cells\":{\"fill\":{\"color\":\"#EBF0F8\"},\"line\":{\"color\":\"white\"}},\"header\":{\"fill\":{\"color\":\"#C8D4E3\"},\"line\":{\"color\":\"white\"}},\"type\":\"table\"}],\"barpolar\":[{\"marker\":{\"line\":{\"color\":\"#E5ECF6\",\"width\":0.5},\"pattern\":{\"fillmode\":\"overlay\",\"size\":10,\"solidity\":0.2}},\"type\":\"barpolar\"}],\"pie\":[{\"automargin\":true,\"type\":\"pie\"}]},\"layout\":{\"autotypenumbers\":\"strict\",\"colorway\":[\"#636efa\",\"#EF553B\",\"#00cc96\",\"#ab63fa\",\"#FFA15A\",\"#19d3f3\",\"#FF6692\",\"#B6E880\",\"#FF97FF\",\"#FECB52\"],\"font\":{\"color\":\"#2a3f5f\"},\"hovermode\":\"closest\",\"hoverlabel\":{\"align\":\"left\"},\"paper_bgcolor\":\"white\",\"plot_bgcolor\":\"#E5ECF6\",\"polar\":{\"bgcolor\":\"#E5ECF6\",\"angularaxis\":{\"gridcolor\":\"white\",\"linecolor\":\"white\",\"ticks\":\"\"},\"radialaxis\":{\"gridcolor\":\"white\",\"linecolor\":\"white\",\"ticks\":\"\"}},\"ternary\":{\"bgcolor\":\"#E5ECF6\",\"aaxis\":{\"gridcolor\":\"white\",\"linecolor\":\"white\",\"ticks\":\"\"},\"baxis\":{\"gridcolor\":\"white\",\"linecolor\":\"white\",\"ticks\":\"\"},\"caxis\":{\"gridcolor\":\"white\",\"linecolor\":\"white\",\"ticks\":\"\"}},\"coloraxis\":{\"colorbar\":{\"outlinewidth\":0,\"ticks\":\"\"}},\"colorscale\":{\"sequential\":[[0.0,\"#0d0887\"],[0.1111111111111111,\"#46039f\"],[0.2222222222222222,\"#7201a8\"],[0.3333333333333333,\"#9c179e\"],[0.4444444444444444,\"#bd3786\"],[0.5555555555555556,\"#d8576b\"],[0.6666666666666666,\"#ed7953\"],[0.7777777777777778,\"#fb9f3a\"],[0.8888888888888888,\"#fdca26\"],[1.0,\"#f0f921\"]],\"sequentialminus\":[[0.0,\"#0d0887\"],[0.1111111111111111,\"#46039f\"],[0.2222222222222222,\"#7201a8\"],[0.3333333333333333,\"#9c179e\"],[0.4444444444444444,\"#bd3786\"],[0.5555555555555556,\"#d8576b\"],[0.6666666666666666,\"#ed7953\"],[0.7777777777777778,\"#fb9f3a\"],[0.8888888888888888,\"#fdca26\"],[1.0,\"#f0f921\"]],\"diverging\":[[0,\"#8e0152\"],[0.1,\"#c51b7d\"],[0.2,\"#de77ae\"],[0.3,\"#f1b6da\"],[0.4,\"#fde0ef\"],[0.5,\"#f7f7f7\"],[0.6,\"#e6f5d0\"],[0.7,\"#b8e186\"],[0.8,\"#7fbc41\"],[0.9,\"#4d9221\"],[1,\"#276419\"]]},\"xaxis\":{\"gridcolor\":\"white\",\"linecolor\":\"white\",\"ticks\":\"\",\"title\":{\"standoff\":15},\"zerolinecolor\":\"white\",\"automargin\":true,\"zerolinewidth\":2},\"yaxis\":{\"gridcolor\":\"white\",\"linecolor\":\"white\",\"ticks\":\"\",\"title\":{\"standoff\":15},\"zerolinecolor\":\"white\",\"automargin\":true,\"zerolinewidth\":2},\"scene\":{\"xaxis\":{\"backgroundcolor\":\"#E5ECF6\",\"gridcolor\":\"white\",\"linecolor\":\"white\",\"showbackground\":true,\"ticks\":\"\",\"zerolinecolor\":\"white\",\"gridwidth\":2},\"yaxis\":{\"backgroundcolor\":\"#E5ECF6\",\"gridcolor\":\"white\",\"linecolor\":\"white\",\"showbackground\":true,\"ticks\":\"\",\"zerolinecolor\":\"white\",\"gridwidth\":2},\"zaxis\":{\"backgroundcolor\":\"#E5ECF6\",\"gridcolor\":\"white\",\"linecolor\":\"white\",\"showbackground\":true,\"ticks\":\"\",\"zerolinecolor\":\"white\",\"gridwidth\":2}},\"shapedefaults\":{\"line\":{\"color\":\"#2a3f5f\"}},\"annotationdefaults\":{\"arrowcolor\":\"#2a3f5f\",\"arrowhead\":0,\"arrowwidth\":1},\"geo\":{\"bgcolor\":\"white\",\"landcolor\":\"#E5ECF6\",\"subunitcolor\":\"white\",\"showland\":true,\"showlakes\":true,\"lakecolor\":\"white\"},\"title\":{\"x\":0.05},\"mapbox\":{\"style\":\"light\"}}},\"xaxis\":{\"anchor\":\"y\",\"domain\":[0.0,1.0],\"title\":{\"text\":\"step\"}},\"yaxis\":{\"anchor\":\"x\",\"domain\":[0.0,1.0],\"title\":{\"text\":\"value\"}},\"legend\":{\"title\":{\"text\":\"variable\"},\"tracegroupgap\":0},\"title\":{\"text\":\"emissions\"}},                        {\"responsive\": true}                    ).then(function(){\n",
       "                            \n",
       "var gd = document.getElementById('03a538fe-ff54-4089-b2e3-9f8180a39d43');\n",
       "var x = new MutationObserver(function (mutations, observer) {{\n",
       "        var display = window.getComputedStyle(gd).display;\n",
       "        if (!display || display === 'none') {{\n",
       "            console.log([gd, 'removed!']);\n",
       "            Plotly.purge(gd);\n",
       "            observer.disconnect();\n",
       "        }}\n",
       "}});\n",
       "\n",
       "// Listen for the removal of the full notebook cells\n",
       "var notebookContainer = gd.closest('#notebook-container');\n",
       "if (notebookContainer) {{\n",
       "    x.observe(notebookContainer, {childList: true});\n",
       "}}\n",
       "\n",
       "// Listen for the clearing of the current output cell\n",
       "var outputEl = gd.closest('.output');\n",
       "if (outputEl) {{\n",
       "    x.observe(outputEl, {childList: true});\n",
       "}}\n",
       "\n",
       "                        })                };                });            </script>        </div>"
      ]
     },
     "metadata": {},
     "output_type": "display_data"
    },
    {
     "data": {
      "text/html": [
       "\n",
       "        <iframe\n",
       "            width=\"700\"\n",
       "            height=\"600\"\n",
       "            src=\"temp_map_hubs.html\"\n",
       "            frameborder=\"0\"\n",
       "            allowfullscreen\n",
       "            \n",
       "        ></iframe>\n",
       "        "
      ],
      "text/plain": [
       "<IPython.lib.display.IFrame at 0x24134f43e90>"
      ]
     },
     "metadata": {},
     "output_type": "display_data"
    },
    {
     "name": "stdout",
     "output_type": "stream",
     "text": [
      "         1500714 function calls (1443858 primitive calls) in 2.214 seconds\n",
      "\n",
      "   Ordered by: standard name\n",
      "\n",
      "   ncalls  tottime  percall  cumtime  percall filename:lineno(function)\n",
      "        2    0.000    0.000    0.000    0.000 2056038199.py:102(find_clients)\n",
      "        2    0.000    0.000    0.000    0.000 2056038199.py:120(<listcomp>)\n",
      "        2    0.000    0.000    0.000    0.000 2056038199.py:125(calc_materials_toSend)\n",
      "        2    0.000    0.000    0.000    0.000 2056038199.py:135(make_materials_request)\n",
      "       29    0.002    0.000    0.132    0.005 2056038199.py:18(calc_materials_required)\n",
      "        2    0.000    0.000    0.000    0.000 2056038199.py:181(find_suppliers)\n",
      "        4    0.000    0.000    0.000    0.000 2056038199.py:187(<listcomp>)\n",
      "        2    0.000    0.000    0.000    0.000 2056038199.py:196(collect_materials_fromSupplier)\n",
      "       29    0.000    0.000    0.133    0.005 2056038199.py:2(__init__)\n",
      "        2    0.002    0.001    0.106    0.053 2056038199.py:214(send_materials_toClient)\n",
      "        2    0.000    0.000    0.000    0.000 2056038199.py:216(<listcomp>)\n",
      "       29    0.001    0.000    0.003    0.000 2056038199.py:225(<listcomp>)\n",
      "        3    0.000    0.000    0.000    0.000 2056038199.py:240(__init__)\n",
      "        3    0.000    0.000    0.000    0.000 2056038199.py:247(step)\n",
      "        3    0.000    0.000    0.000    0.000 2056038199.py:253(find_clients)\n",
      "        1    0.000    0.000    0.000    0.000 2056038199.py:288(__init__)\n",
      "        1    0.000    0.000    0.000    0.000 2056038199.py:299(step)\n",
      "        1    0.000    0.000    0.000    0.000 2056038199.py:303(__init__)\n",
      "        1    0.000    0.000    0.000    0.000 2056038199.py:312(step)\n",
      "       29    0.000    0.000    0.000    0.000 2056038199.py:42(step)\n",
      "       29    0.000    0.000    0.000    0.000 2056038199.py:46(list_materials_toRequest)\n",
      "       29    0.000    0.000    0.000    0.000 2056038199.py:57(request_materials)\n",
      "        2    0.000    0.000    0.000    0.000 2056038199.py:69(__init__)\n",
      "        2    0.000    0.000    0.106    0.053 2056038199.py:90(step)\n",
      "        2    0.000    0.000    0.005    0.002 2148120964.py:102(get_capacity)\n",
      "        1    0.000    0.000    0.003    0.003 2148120964.py:112(create_trucks_urban)\n",
      "        1    0.000    0.000    0.002    0.002 2148120964.py:124(create_vehicles_international)\n",
      "        1    0.000    0.000    0.000    0.000 2148120964.py:126(<listcomp>)\n",
      "        1    0.000    0.000    0.000    0.000 2148120964.py:13(<lambda>)\n",
      "        1    0.000    0.000    0.000    0.000 2148120964.py:14(<lambda>)\n",
      "        1    0.000    0.000    0.001    0.001 2148120964.py:142(create_od_matrix_h2c)\n",
      "        1    0.000    0.000    0.000    0.000 2148120964.py:15(<lambda>)\n",
      "        1    0.000    0.000    0.001    0.001 2148120964.py:150(create_od_matrix_h2h)\n",
      "        1    0.000    0.000    0.001    0.001 2148120964.py:166(assign_hubs_to_sites)\n",
      "        1    0.000    0.000    0.000    0.000 2148120964.py:168(<listcomp>)\n",
      "        1    0.000    0.000    0.000    0.000 2148120964.py:178(assign_hubs_to_hubs)\n",
      "        1    0.000    0.000    0.107    0.107 2148120964.py:195(step)\n",
      "        1    0.000    0.000    0.000    0.000 2148120964.py:200(calc_emissions)\n",
      "        1    0.000    0.000    1.396    1.396 2148120964.py:203(visualize)\n",
      "        1    0.014    0.014    1.260    1.260 2148120964.py:209(save_folium_html)\n",
      "      761    0.002    0.000    0.002    0.000 2148120964.py:226(<listcomp>)\n",
      "        1    0.000    0.000    0.000    0.000 2148120964.py:231(display_total_emissions)\n",
      "        1    0.000    0.000    0.128    0.128 2148120964.py:237(display_emissions_chart)\n",
      "        1    0.000    0.000    0.003    0.003 2148120964.py:245(display_folium_html)\n",
      "        3    0.000    0.000    0.005    0.002 2148120964.py:249(plotPoints)\n",
      "        1    0.000    0.000    0.002    0.002 2148120964.py:256(plotLines_h2c)\n",
      "        1    0.000    0.000    0.000    0.000 2148120964.py:266(plotLines_s2h)\n",
      "        1    0.000    0.000    0.000    0.000 2148120964.py:268(<listcomp>)\n",
      "        4    0.000    0.000    0.000    0.000 2148120964.py:273(<listcomp>)\n",
      "        1    0.000    0.000    0.000    0.000 2148120964.py:310(plotPoints_hubs)\n",
      "        1    0.000    0.000    0.000    0.000 2148120964.py:311(<listcomp>)\n",
      "        1    0.000    0.000    0.738    0.738 2148120964.py:4(__init__)\n",
      "        1    0.001    0.001    0.274    0.274 2148120964.py:45(load_data)\n",
      "        1    0.000    0.000    0.000    0.000 2148120964.py:61(add_parameters)\n",
      "        1    0.001    0.001    0.146    0.146 2148120964.py:69(create_constructionSites)\n",
      "        1    0.000    0.000    0.002    0.002 2148120964.py:78(create_suppliers)\n",
      "        1    0.000    0.000    0.007    0.007 2148120964.py:87(create_hubs)\n",
      "        1    0.000    0.000    2.241    2.241 3032997686.py:1(test_run)\n",
      "        1    0.000    0.000    0.000    0.000 <__array_function__ internals>:177(all)\n",
      "        8    0.000    0.000    0.000    0.000 <__array_function__ internals>:177(append)\n",
      "       62    0.000    0.000    0.000    0.000 <__array_function__ internals>:177(argmin)\n",
      "       10    0.000    0.000    0.000    0.000 <__array_function__ internals>:177(argsort)\n",
      "       58    0.000    0.000    0.001    0.000 <__array_function__ internals>:177(array_equal)\n",
      "        2    0.000    0.000    0.000    0.000 <__array_function__ internals>:177(atleast_1d)\n",
      "       10    0.000    0.000    0.000    0.000 <__array_function__ internals>:177(atleast_2d)\n",
      "        4    0.000    0.000    0.000    0.000 <__array_function__ internals>:177(bincount)\n",
      "       47    0.000    0.000    0.000    0.000 <__array_function__ internals>:177(concatenate)\n",
      "       87    0.000    0.000    0.000    0.000 <__array_function__ internals>:177(copyto)\n",
      "       10    0.000    0.000    0.000    0.000 <__array_function__ internals>:177(delete)\n",
      "        2    0.000    0.000    0.000    0.000 <__array_function__ internals>:177(in1d)\n",
      "        5    0.000    0.000    0.000    0.000 <__array_function__ internals>:177(insert)\n",
      "        5    0.000    0.000    0.000    0.000 <__array_function__ internals>:177(moveaxis)\n",
      "       58    0.000    0.000    0.000    0.000 <__array_function__ internals>:177(ndim)\n",
      "        3    0.000    0.000    0.000    0.000 <__array_function__ internals>:177(prod)\n",
      "        8    0.000    0.000    0.000    0.000 <__array_function__ internals>:177(ravel)\n",
      "        2    0.000    0.000    0.000    0.000 <__array_function__ internals>:177(setdiff1d)\n",
      "        1    0.000    0.000    0.000    0.000 <__array_function__ internals>:177(tile)\n",
      "       10    0.000    0.000    0.000    0.000 <__array_function__ internals>:177(vstack)\n",
      "        5    0.000    0.000    0.000    0.000 <attrs generated init fiona.path.ParsedPath>:1(__init__)\n",
      "        5    0.000    0.000    0.000    0.000 <attrs generated init fiona.path.UnparsedPath>:1(__init__)\n",
      "       10    0.000    0.000    0.000    0.000 <frozen _collections_abc>:778(__contains__)\n",
      "      954    0.001    0.000    0.001    0.000 <frozen _collections_abc>:786(keys)\n",
      "      954    0.000    0.000    0.000    0.000 <frozen _collections_abc>:812(__init__)\n",
      "     6678    0.002    0.000    0.006    0.000 <frozen _collections_abc>:835(__iter__)\n",
      "      537    0.000    0.000    0.001    0.000 <frozen abc>:117(__instancecheck__)\n",
      "        2    0.000    0.000    0.000    0.000 <frozen abc>:121(__subclasscheck__)\n",
      "        2    0.000    0.000    0.000    0.000 <frozen codecs>:260(__init__)\n",
      "        2    0.000    0.000    0.000    0.000 <frozen codecs>:309(__init__)\n",
      "        6    0.000    0.000    0.000    0.000 <frozen codecs>:319(decode)\n",
      "        6    0.000    0.000    0.000    0.000 <frozen codecs>:331(getstate)\n",
      "        3    0.000    0.000    0.000    0.000 <frozen genericpath>:16(exists)\n",
      "        2    0.000    0.000    0.000    0.000 <frozen genericpath>:27(isfile)\n",
      "        2    0.000    0.000    0.000    0.000 <frozen genericpath>:53(getmtime)\n",
      "      188    0.000    0.000    0.001    0.000 <frozen importlib._bootstrap>:1037(_resolve_name)\n",
      "      191    0.000    0.000    0.000    0.000 <frozen importlib._bootstrap>:1103(_sanity_check)\n",
      "      191    0.000    0.000    0.000    0.000 <frozen importlib._bootstrap>:1167(_find_and_load)\n",
      "      191    0.000    0.000    0.002    0.000 <frozen importlib._bootstrap>:1194(_gcd_import)\n",
      "      989    0.001    0.000    0.002    0.000 <frozen importlib._bootstrap>:1209(_handle_fromlist)\n",
      "     2279    0.003    0.000    0.004    0.000 <frozen importlib._bootstrap>:405(parent)\n",
      "        3    0.000    0.000    0.000    0.000 <frozen io>:60(__getattr__)\n",
      "       38    0.000    0.000    0.000    0.000 <frozen ntpath>:103(join)\n",
      "       76    0.000    0.000    0.000    0.000 <frozen ntpath>:150(splitdrive)\n",
      "       11    0.000    0.000    0.001    0.000 <frozen ntpath>:254(islink)\n",
      "       11    0.000    0.000    0.000    0.000 <frozen ntpath>:317(expanduser)\n",
      "        1    0.000    0.000    0.000    0.000 <frozen os>:282(walk)\n",
      "    45/13    0.000    0.000    0.002    0.000 <frozen os>:344(_walk)\n",
      "       20    0.000    0.000    0.000    0.000 <frozen os>:673(__getitem__)\n",
      "       20    0.000    0.000    0.000    0.000 <frozen os>:741(check_str)\n",
      "       20    0.000    0.000    0.000    0.000 <frozen os>:747(encodekey)\n",
      "        7    0.000    0.000    0.000    0.000 <string>:1(<lambda>)\n",
      "        1    0.000    0.000    2.241    2.241 <string>:1(<module>)\n",
      "        2    0.000    0.000    0.000    0.000 <string>:2(__init__)\n",
      "        1    0.000    0.000    0.000    0.000 <template>:1(<module>)\n",
      "        1    0.000    0.000    0.000    0.000 <template>:19(macro)\n",
      "        2    0.000    0.000    0.000    0.000 <template>:4(root)\n",
      "        1    0.000    0.000    0.000    0.000 <template>:49(macro)\n",
      "        1    0.000    0.000    0.000    0.000 <template>:65(macro)\n",
      "     1908    0.005    0.000    0.008    0.000 __init__.py:1012(__iter__)\n",
      "      954    0.001    0.000    0.001    0.000 __init__.py:1021(__bool__)\n",
      "      191    0.000    0.000    0.002    0.000 __init__.py:108(import_module)\n",
      "        5    0.000    0.000    0.005    0.001 __init__.py:117(open)\n",
      "       10    0.000    0.000    0.000    0.000 __init__.py:1327(getLogger)\n",
      "     5497    0.005    0.000    0.008    0.000 __init__.py:1467(debug)\n",
      "       89    0.000    0.000    0.000    0.000 __init__.py:152(align_method_SERIES)\n",
      "      357    0.000    0.000    0.001    0.000 __init__.py:163(match)\n",
      "     5497    0.003    0.000    0.003    0.000 __init__.py:1734(isEnabledFor)\n",
      "        8    0.000    0.000    0.000    0.000 __init__.py:178(sub)\n",
      "     1712    0.007    0.000    0.045    0.000 __init__.py:183(dumps)\n",
      "      190    0.000    0.000    0.001    0.000 __init__.py:198(split)\n",
      "       10    0.000    0.000    0.000    0.000 __init__.py:2081(getLogger)\n",
      "      761    0.001    0.000    0.001    0.000 __init__.py:21(wrapper)\n",
      "       33    0.000    0.000    0.000    0.000 __init__.py:225(compile)\n",
      "       10    0.000    0.000    0.000    0.000 __init__.py:228(_acquireLock)\n",
      "       10    0.000    0.000    0.000    0.000 __init__.py:237(_releaseLock)\n",
      "      588    0.001    0.000    0.001    0.000 __init__.py:272(_compile)\n",
      "      177    0.000    0.000    0.003    0.000 __init__.py:282(__getattr__)\n",
      "        1    0.000    0.000    0.000    0.000 __init__.py:299(loads)\n",
      "     1700    0.003    0.000    0.005    0.000 __init__.py:70(__new__)\n",
      "        5    0.000    0.000    0.000    0.000 __init__.py:764(__init__)\n",
      "        5    0.000    0.000    0.000    0.000 __init__.py:801(addFilter)\n",
      "        5    0.000    0.000    0.000    0.000 __init__.py:808(removeFilter)\n",
      "      869    0.001    0.000    0.001    0.000 __init__.py:988(__init__)\n",
      "     5724    0.005    0.000    0.005    0.000 __init__.py:998(__getitem__)\n",
      "        1    0.000    0.000    0.000    0.000 _aaxis.py:1461(__init__)\n",
      "        1    0.000    0.000    0.000    0.000 _aaxis.py:1936(__init__)\n",
      "        1    0.000    0.000    0.000    0.000 _activeselection.py:103(__init__)\n",
      "        1    0.000    0.000    0.000    0.000 _activeshape.py:103(__init__)\n",
      "        1    0.000    0.000    0.000    0.000 _angularaxis.py:1645(__init__)\n",
      "        2    0.000    0.000    0.000    0.000 _annotation.py:1541(__init__)\n",
      "       30    0.000    0.000    0.000    0.000 _asarray.py:109(<setcomp>)\n",
      "       30    0.000    0.000    0.000    0.000 _asarray.py:22(require)\n",
      "        1    0.000    0.000    0.001    0.001 _bar.py:2508(__init__)\n",
      "        1    0.000    0.000    0.001    0.001 _barpolar.py:1490(__init__)\n",
      "        1    0.000    0.000    0.001    0.001 _base_renderers.py:331(to_mimebundle)\n",
      "        1    0.000    0.000    0.001    0.001 _base_renderers.py:89(to_mimebundle)\n",
      "        1    0.000    0.000    0.000    0.000 _baxis.py:1461(__init__)\n",
      "        1    0.000    0.000    0.000    0.000 _baxis.py:1936(__init__)\n",
      "        1    0.000    0.000    0.001    0.001 _carpet.py:1536(__init__)\n",
      "        1    0.000    0.000    0.000    0.000 _caxis.py:1461(__init__)\n",
      "        1    0.000    0.000    0.000    0.000 _cells.py:436(__init__)\n",
      "        1    0.000    0.000    0.120    0.120 _chart_types.py:216(line)\n",
      "        1    0.000    0.000    0.000    0.000 _choropleth.py:1755(__init__)\n",
      "        2    0.000    0.000    0.000    0.000 _coloraxis.py:559(__init__)\n",
      "        2    0.000    0.000    0.000    0.000 _colorbar.py:1647(__init__)\n",
      "        5    0.000    0.000    0.001    0.000 _colorbar.py:1648(__init__)\n",
      "        3    0.000    0.000    0.000    0.000 _colorbar.py:1649(__init__)\n",
      "        3    0.000    0.000    0.000    0.000 _colorbar.py:1650(__init__)\n",
      "        5    0.000    0.000    0.001    0.000 _colorbar.py:1651(__init__)\n",
      "        2    0.000    0.000    0.000    0.000 _colorbar.py:1652(__init__)\n",
      "        2    0.000    0.000    0.002    0.001 _colorscale.py:169(__init__)\n",
      "       22    0.000    0.000    0.000    0.000 _compat.py:174(ignore_shapely2_warnings)\n",
      "        1    0.000    0.000    0.001    0.001 _contour.py:2574(__init__)\n",
      "        1    0.000    0.000    0.000    0.000 _contourcarpet.py:1876(__init__)\n",
      "        2    0.000    0.000    0.000    0.000 _core.py:1019(_is_col_list)\n",
      "        3    0.000    0.000    0.000    0.000 _core.py:1060(_escape_col_name)\n",
      "        4    0.000    0.000    0.001    0.000 _core.py:1066(to_unindexed_series)\n",
      "        1    0.000    0.000    0.005    0.005 _core.py:1076(process_args_into_dataframe)\n",
      "        1    0.000    0.000    0.000    0.000 _core.py:1137(<listcomp>)\n",
      "        1    0.000    0.000    0.012    0.012 _core.py:1278(build_dataframe)\n",
      "       41    0.000    0.000    0.000    0.000 _core.py:135(get_label)\n",
      "        1    0.000    0.000    0.000    0.000 _core.py:1436(<listcomp>)\n",
      "        2    0.000    0.000    0.000    0.000 _core.py:154(_is_continuous)\n",
      "       35    0.000    0.000    0.000    0.000 _core.py:158(get_decorated_label)\n",
      "        1    0.000    0.000    0.001    0.001 _core.py:1705(infer_config)\n",
      "        1    0.000    0.000    0.000    0.000 _core.py:1706(<listcomp>)\n",
      "        1    0.000    0.000    0.000    0.000 _core.py:1916(<listcomp>)\n",
      "        1    0.000    0.000    0.002    0.002 _core.py:1923(get_groups_and_orders)\n",
      "        1    0.000    0.000    0.000    0.000 _core.py:1957(<listcomp>)\n",
      "        7    0.000    0.000    0.000    0.000 _core.py:196(make_mapping)\n",
      "        1    0.000    0.000    0.000    0.000 _core.py:1960(<listcomp>)\n",
      "        6    0.000    0.000    0.000    0.000 _core.py:1967(<lambda>)\n",
      "        1    0.000    0.000    0.000    0.000 _core.py:1971(<listcomp>)\n",
      "        1    0.000    0.000    0.000    0.000 _core.py:1976(<listcomp>)\n",
      "        1    0.000    0.000    0.001    0.001 _core.py:1978(<dictcomp>)\n",
      "        1    0.000    0.000    0.120    0.120 _core.py:1985(make_figure)\n",
      "        1    0.000    0.000    0.000    0.000 _core.py:2002(<listcomp>)\n",
      "        6    0.000    0.000    0.000    0.000 _core.py:204(<lambda>)\n",
      "        2    0.000    0.000    0.000    0.000 _core.py:214(<listcomp>)\n",
      "        6    0.000    0.000    0.000    0.000 _core.py:215(<lambda>)\n",
      "        1    0.000    0.000    0.000    0.000 _core.py:2177(<listcomp>)\n",
      "        1    0.000    0.000    0.024    0.024 _core.py:2282(init_figure)\n",
      "        1    0.000    0.000    0.000    0.000 _core.py:2284(<listcomp>)\n",
      "        9    0.000    0.000    0.005    0.001 _core.py:239(<lambda>)\n",
      "        3    0.000    0.000    0.002    0.001 _core.py:246(make_trace_kwargs)\n",
      "        3    0.000    0.000    0.000    0.000 _core.py:519(<listcomp>)\n",
      "        1    0.000    0.000    0.007    0.007 _core.py:525(configure_axes)\n",
      "        2    0.000    0.000    0.000    0.000 _core.py:544(set_cartesian_axis_opts)\n",
      "        1    0.000    0.000    0.007    0.007 _core.py:632(configure_cartesian_axes)\n",
      "        1    0.000    0.000    0.000    0.000 _core.py:750(configure_animation_controls)\n",
      "        1    0.000    0.000    0.000    0.000 _core.py:808(make_trace_spec)\n",
      "        1    0.000    0.000    0.001    0.001 _core.py:902(apply_default_cascade)\n",
      "        1    0.000    0.000    0.000    0.000 _core.py:946(<listcomp>)\n",
      "        1    0.000    0.000    0.000    0.000 _core.py:954(<listcomp>)\n",
      "        1    0.000    0.000    0.000    0.000 _core.py:988(_get_reserved_col_names)\n",
      "        1    0.000    0.000    0.019    0.019 _data.py:1319(__init__)\n",
      "        2    0.000    0.000    0.000    0.000 _data.py:5(__init__)\n",
      "        4    0.000    0.000    0.000    0.000 _data.py:892(scatter)\n",
      "        2    0.000    0.000    0.007    0.003 _decorators.py:170(wrapper)\n",
      "     10/8    0.000    0.000    0.008    0.001 _decorators.py:323(wrapper)\n",
      "       78    0.000    0.000    0.000    0.000 _dtype.py:24(_kind_name)\n",
      "       78    0.000    0.000    0.000    0.000 _dtype.py:330(_name_includes_bit_suffix)\n",
      "       78    0.000    0.000    0.001    0.000 _dtype.py:344(_name_get)\n",
      "        1    0.000    0.000    0.000    0.000 _error_x.py:445(__init__)\n",
      "        1    0.000    0.000    0.000    0.000 _error_y.py:424(__init__)\n",
      "        1    0.000    0.000    0.001    0.001 _figure.py:21587(select_xaxes)\n",
      "        1    0.000    0.000    0.001    0.001 _figure.py:21699(select_yaxes)\n",
      "        1    0.000    0.000    0.005    0.005 _figure.py:5(__init__)\n",
      "        3    0.000    0.000    0.071    0.024 _figure.py:736(update_layout)\n",
      "        1    0.000    0.000    0.004    0.004 _figure.py:891(add_traces)\n",
      "        2    0.000    0.000    0.000    0.000 _fill.py:107(__init__)\n",
      "        1    0.000    0.000    0.000    0.000 _fillpattern.py:417(__init__)\n",
      "        3    0.000    0.000    0.000    0.000 _font.py:144(__init__)\n",
      "        1    0.000    0.000    0.000    0.000 _frames.py:5(__init__)\n",
      "        2    0.000    0.000    0.000    0.000 _geo.py:1273(__init__)\n",
      "        1    0.000    0.000    0.000    0.000 _grid.py:417(__init__)\n",
      "        1    0.000    0.000    0.000    0.000 _header.py:436(__init__)\n",
      "        1    0.000    0.000    0.001    0.001 _heatmap.py:2376(__init__)\n",
      "        1    0.000    0.000    0.001    0.001 _heatmapgl.py:1629(__init__)\n",
      "        1    0.000    0.000    0.000    0.000 _histogram.py:2437(__init__)\n",
      "        1    0.000    0.000    0.001    0.001 _histogram2d.py:2335(__init__)\n",
      "        1    0.000    0.000    0.001    0.001 _histogram2dcontour.py:2462(__init__)\n",
      "        2    0.000    0.000    0.000    0.000 _hoverlabel.py:310(__init__)\n",
      "        1    0.000    0.000    0.001    0.001 _html.py:27(to_html)\n",
      "        1    0.000    0.000    0.000    0.000 _image.py:486(__init__)\n",
      "        1    0.000    0.000    0.000    0.000 _json.py:152(to_json)\n",
      "        3    0.000    0.000    0.000    0.000 _json.py:21(default_engine)\n",
      "        3    0.000    0.000    0.001    0.000 _json.py:60(to_json_plotly)\n",
      "        2    0.000    0.000    0.000    0.000 _layout.py:1955(legend)\n",
      "        1    0.000    0.000    0.000    0.000 _layout.py:217(annotations)\n",
      "        1    0.000    0.000    0.000    0.000 _layout.py:3436(template)\n",
      "        1    0.000    0.000    0.004    0.004 _layout.py:3492(template)\n",
      "        1    0.000    0.000    0.000    0.000 _layout.py:3545(title)\n",
      "        3    0.000    0.000    0.000    0.000 _layout.py:4088(xaxis)\n",
      "        3    0.000    0.000    0.000    0.000 _layout.py:4599(yaxis)\n",
      "        1    0.000    0.000    0.000    0.000 _layout.py:5(__init__)\n",
      "        3    0.000    0.000    0.011    0.004 _layout.py:5577(__init__)\n",
      "      386    0.000    0.000    0.001    0.000 _layout.py:56(_subplot_re_match)\n",
      "        2    0.000    0.000    0.000    0.000 _layout.py:975(colorway)\n",
      "        1    0.000    0.000    0.000    0.000 _legend.py:452(title)\n",
      "        1    0.000    0.000    0.000    0.000 _legend.py:778(__init__)\n",
      "        1    0.000    0.000    0.000    0.000 _line.py:127(dash)\n",
      "        1    0.000    0.000    0.000    0.000 _line.py:134(__init__)\n",
      "        2    0.000    0.000    0.000    0.000 _line.py:147(__init__)\n",
      "        6    0.000    0.000    0.000    0.000 _line.py:277(__init__)\n",
      "        2    0.000    0.000    0.000    0.000 _line.py:465(__init__)\n",
      "        1    0.000    0.000    0.000    0.000 _line.py:710(__init__)\n",
      "        1    0.000    0.000    0.000    0.000 _line.py:758(__init__)\n",
      "        2    0.000    0.000    0.000    0.000 _mapbox.py:511(__init__)\n",
      "        1    0.000    0.000    0.000    0.000 _margin.py:159(__init__)\n",
      "        1    0.000    0.000    0.000    0.000 _marker.py:1021(__init__)\n",
      "        1    0.000    0.000    0.000    0.000 _marker.py:1037(__init__)\n",
      "        1    0.000    0.000    0.000    0.000 _marker.py:1076(symbol)\n",
      "        2    0.000    0.000    0.000    0.000 _marker.py:1200(__init__)\n",
      "        1    0.000    0.000    0.000    0.000 _marker.py:1327(__init__)\n",
      "        9    0.000    0.000    0.001    0.000 _marker.py:1349(__init__)\n",
      "        1    0.000    0.000    0.001    0.001 _marker.py:952(__init__)\n",
      "        2    0.000    0.000    0.001    0.000 _marker.py:953(__init__)\n",
      "        1    0.000    0.000    0.000    0.000 _mesh3d.py:2503(__init__)\n",
      "        6    0.000    0.000    0.000    0.000 _methods.py:38(_amax)\n",
      "        3    0.000    0.000    0.000    0.000 _methods.py:42(_amin)\n",
      "       68    0.000    0.000    0.001    0.000 _methods.py:46(_sum)\n",
      "      463    0.000    0.000    0.002    0.000 _methods.py:54(_any)\n",
      "       58    0.000    0.000    0.000    0.000 _methods.py:60(_all)\n",
      "        1    0.000    0.000    0.000    0.000 _modebar.py:405(__init__)\n",
      "        1    0.000    0.000    0.000    0.000 _newselection.py:90(__init__)\n",
      "        1    0.000    0.000    0.000    0.000 _newshape.py:240(__init__)\n",
      "        1    0.000    0.000    0.000    0.000 _parcoords.py:1000(__init__)\n",
      "        3    0.000    0.000    0.001    0.000 _pattern.py:417(__init__)\n",
      "        1    0.000    0.000    0.000    0.000 _pie.py:1824(__init__)\n",
      "        2    0.000    0.000    0.001    0.000 _polar.py:939(__init__)\n",
      "        1    0.000    0.000    0.000    0.000 _radialaxis.py:1825(__init__)\n",
      "        2    0.000    0.000    0.000    0.000 _renderers.py:175(_activate_pending_renderers)\n",
      "        2    0.000    0.000    0.000    0.000 _renderers.py:184(<listcomp>)\n",
      "        2    0.000    0.000    0.000    0.000 _renderers.py:194(<listcomp>)\n",
      "        1    0.000    0.000    0.002    0.002 _renderers.py:254(_build_mime_bundle)\n",
      "        1    0.000    0.000    0.000    0.000 _renderers.py:300(_perform_external_rendering)\n",
      "        1    0.000    0.000    0.007    0.007 _renderers.py:350(show)\n",
      "        4    0.000    0.000    0.000    0.000 _scatter.py:1019(marker)\n",
      "        1    0.000    0.000    0.000    0.000 _scatter.py:2235(type)\n",
      "        9    0.000    0.000    0.003    0.000 _scatter.py:2635(__init__)\n",
      "        7    0.000    0.000    0.000    0.000 _scatter.py:960(line)\n",
      "        1    0.000    0.000    0.001    0.001 _scatter3d.py:2158(__init__)\n",
      "        1    0.000    0.000    0.000    0.000 _scattercarpet.py:1785(__init__)\n",
      "        1    0.000    0.000    0.000    0.000 _scattergeo.py:1815(__init__)\n",
      "        1    0.000    0.000    0.000    0.000 _scattergl.py:2279(__init__)\n",
      "        1    0.000    0.000    0.000    0.000 _scattermapbox.py:1686(__init__)\n",
      "        1    0.000    0.000    0.000    0.000 _scatterpolar.py:1885(__init__)\n",
      "        1    0.000    0.000    0.000    0.000 _scatterpolargl.py:1805(__init__)\n",
      "        1    0.000    0.000    0.000    0.000 _scatterternary.py:1857(__init__)\n",
      "        2    0.000    0.000    0.002    0.001 _scene.py:1541(__init__)\n",
      "        1    0.000    0.000    0.000    0.000 _selection.py:398(__init__)\n",
      "        2    0.000    0.000    0.000    0.000 _shape.py:765(__init__)\n",
      "        1    0.000    0.000    0.000    0.000 _slider.py:927(__init__)\n",
      "        1    0.000    0.000    0.000    0.000 _smith.py:387(__init__)\n",
      "        1    0.000    0.000    0.000    0.000 _subplots.py:1028(_subplot_type_for_trace_type)\n",
      "        1    0.000    0.000    0.000    0.000 _subplots.py:1054(_validate_coerce_subplot_type)\n",
      "        1    0.000    0.000    0.001    0.001 _subplots.py:1073(_init_subplot)\n",
      "        1    0.000    0.000    0.000    0.000 _subplots.py:1110(_build_subplot_title_annotations)\n",
      "        1    0.000    0.000    0.000    0.000 _subplots.py:1202(_build_grid_str)\n",
      "        1    0.000    0.000    0.000    0.000 _subplots.py:1228(<listcomp>)\n",
      "        2    0.000    0.000    0.000    0.000 _subplots.py:1231(_get_cell_str)\n",
      "        2    0.000    0.000    0.000    0.000 _subplots.py:1232(<setcomp>)\n",
      "        1    0.000    0.000    0.000    0.000 _subplots.py:1243(<listcomp>)\n",
      "        1    0.000    0.000    0.000    0.000 _subplots.py:1254(_pad)\n",
      "        3    0.000    0.000    0.001    0.000 _subplots.py:1341(_set_trace_grid_reference)\n",
      "        1    0.000    0.000    0.000    0.000 _subplots.py:38(_get_initial_max_subplot_ids)\n",
      "        1    0.000    0.000    0.000    0.000 _subplots.py:39(<dictcomp>)\n",
      "        1    0.000    0.000    0.000    0.000 _subplots.py:398(_check_keys_and_fill)\n",
      "        1    0.000    0.000    0.000    0.000 _subplots.py:399(_checks)\n",
      "        2    0.000    0.000    0.000    0.000 _subplots.py:440(<genexpr>)\n",
      "        2    0.000    0.000    0.000    0.000 _subplots.py:442(<genexpr>)\n",
      "        2    0.000    0.000    0.000    0.000 _subplots.py:443(<genexpr>)\n",
      "        1    0.000    0.000    0.024    0.024 _subplots.py:45(make_subplots)\n",
      "        2    0.000    0.000    0.000    0.000 _subplots.py:533(_check_hv_spacing)\n",
      "        1    0.000    0.000    0.000    0.000 _subplots.py:651(<listcomp>)\n",
      "        1    0.000    0.000    0.000    0.000 _subplots.py:652(<listcomp>)\n",
      "        1    0.000    0.000    0.000    0.000 _subplots.py:662(<listcomp>)\n",
      "        1    0.000    0.000    0.000    0.000 _subplots.py:665(<listcomp>)\n",
      "        2    0.000    0.000    0.000    0.000 _subplots.py:854(_configure_shared_axes)\n",
      "        2    0.000    0.000    0.000    0.000 _subplots.py:865(update_axis_matches)\n",
      "        1    0.000    0.000    0.001    0.001 _subplots.py:932(_init_subplot_xy)\n",
      "        1    0.000    0.000    0.001    0.001 _surface.py:2092(__init__)\n",
      "        1    0.000    0.000    0.001    0.001 _table.py:881(__init__)\n",
      "        4    0.000    0.000    0.000    0.000 _template.py:15(data)\n",
      "        2    0.000    0.000    0.000    0.000 _template.py:216(layout)\n",
      "        3    0.000    0.000    0.036    0.012 _template.py:250(__init__)\n",
      "        5    0.000    0.000    0.000    0.000 _templates.py:139(default)\n",
      "        2    0.000    0.000    0.000    0.000 _templates.py:195(merge_templates)\n",
      "        1    0.000    0.000    0.000    0.000 _templates.py:60(__contains__)\n",
      "        2    0.000    0.000    0.000    0.000 _templates.py:66(__getitem__)\n",
      "        2    0.000    0.000    0.001    0.001 _ternary.py:926(__init__)\n",
      "        1    0.000    0.000    0.000    0.000 _title.py:124(__init__)\n",
      "        4    0.000    0.000    0.000    0.000 _title.py:136(__init__)\n",
      "        2    0.000    0.000    0.000    0.000 _title.py:332(__init__)\n",
      "        1    0.000    0.000    0.000    0.000 _transition.py:102(__init__)\n",
      "      512    0.001    0.000    0.002    0.000 _ufunc_config.py:131(geterr)\n",
      "      512    0.002    0.000    0.004    0.000 _ufunc_config.py:32(seterr)\n",
      "      256    0.000    0.000    0.000    0.000 _ufunc_config.py:425(__init__)\n",
      "      256    0.001    0.000    0.003    0.000 _ufunc_config.py:429(__enter__)\n",
      "      256    0.001    0.000    0.002    0.000 _ufunc_config.py:434(__exit__)\n",
      "        1    0.000    0.000    0.000    0.000 _uniformtext.py:80(__init__)\n",
      "        1    0.000    0.000    0.000    0.000 _updatemenu.py:689(__init__)\n",
      "        3    0.000    0.000    0.003    0.001 _utils.py:8(validate_coerce_fig_to_dict)\n",
      "       11    0.000    0.000    0.000    0.000 _validators.py:226(validate_bool_kwarg)\n",
      "        5    0.000    0.000    0.010    0.002 _vectorized.py:105(from_shapely)\n",
      "        4    0.003    0.001    0.063    0.016 _vectorized.py:158(to_shapely)\n",
      "        4    0.000    0.000    0.019    0.005 _vectorized.py:162(<listcomp>)\n",
      "      808    0.002    0.000    0.018    0.000 _vectorized.py:71(_pygeos_to_shapely)\n",
      "        1    0.000    0.000    0.000    0.000 _xaxis.py:2029(__init__)\n",
      "        1    0.000    0.000    0.000    0.000 _xaxis.py:2443(title)\n",
      "        3    0.000    0.000    0.001    0.000 _xaxis.py:3150(__init__)\n",
      "        1    0.000    0.000    0.000    0.000 _yaxis.py:2029(__init__)\n",
      "        1    0.000    0.000    0.000    0.000 _yaxis.py:2314(title)\n",
      "        3    0.000    0.000    0.001    0.000 _yaxis.py:3015(__init__)\n",
      "        1    0.000    0.000    0.000    0.000 _zaxis.py:2029(__init__)\n",
      "       36    0.000    0.000    0.000    0.000 agent.py:25(__init__)\n",
      "        4    0.000    0.000    0.000    0.000 algorithms.py:117(_ensure_data)\n",
      "      213    0.001    0.000    0.002    0.000 algorithms.py:1480(take)\n",
      "        2    0.000    0.000    0.000    0.000 algorithms.py:1791(safe_sort)\n",
      "        6    0.000    0.000    0.000    0.000 algorithms.py:197(_reconstruct_data)\n",
      "       62    0.000    0.000    0.001    0.000 algorithms.py:235(_ensure_arraylike)\n",
      "        4    0.000    0.000    0.000    0.000 algorithms.py:269(_get_hashtable_algo)\n",
      "        4    0.000    0.000    0.000    0.000 algorithms.py:287(_check_object_for_strings)\n",
      "        2    0.000    0.000    0.000    0.000 algorithms.py:315(unique)\n",
      "        2    0.000    0.000    0.000    0.000 algorithms.py:412(unique_with_mask)\n",
      "       29    0.008    0.000    0.012    0.000 algorithms.py:439(isin)\n",
      "        2    0.000    0.000    0.000    0.000 algorithms.py:526(factorize_array)\n",
      "        2    0.000    0.000    0.000    0.000 algorithms.py:589(factorize)\n",
      "        2    0.000    0.000    0.000    0.000 algorithms.py:851(resolve_na_sentinel)\n",
      "        2    0.000    0.000    0.000    0.000 algorithms.py:901(_re_wrap_factorize)\n",
      "        1    0.000    0.000    0.000    0.000 animation.py:5(__init__)\n",
      "        1    0.000    0.000    0.000    0.000 animation.py:51(__init__)\n",
      "       12    0.000    0.000    0.000    0.000 api.py:384(default_index)\n",
      "        4    0.000    0.000    0.063    0.016 array.py:1041(astype)\n",
      "        4    0.000    0.000    0.063    0.016 array.py:1337(__array__)\n",
      "        5    0.000    0.000    0.019    0.004 array.py:138(from_shapely)\n",
      "        4    0.000    0.000    0.063    0.016 array.py:157(to_shapely)\n",
      "       21    0.000    0.000    0.009    0.000 array.py:272(__init__)\n",
      "       84    0.000    0.000    0.000    0.000 array.py:322(crs)\n",
      "       21    0.000    0.000    0.009    0.000 array.py:336(crs)\n",
      "       69    0.000    0.000    0.000    0.000 array.py:354(dtype)\n",
      "       27    0.000    0.000    0.000    0.000 array.py:358(__len__)\n",
      "        3    0.000    0.000    0.000    0.000 array.py:37(construct_from_string)\n",
      "       97    0.000    0.000    0.000    0.000 array.py:949(size)\n",
      "       97    0.000    0.000    0.000    0.000 array.py:953(shape)\n",
      "       70    0.000    0.000    0.000    0.000 array.py:957(ndim)\n",
      "       14    0.000    0.000    0.000    0.000 array.py:961(copy)\n",
      "        2    0.000    0.000    0.000    0.000 array.py:965(take)\n",
      "       59    0.000    0.000    0.001    0.000 array_ops.py:136(_na_arithmetic_op)\n",
      "       58    0.000    0.000    0.002    0.000 array_ops.py:185(arithmetic_op)\n",
      "      182    0.001    0.000    0.009    0.000 array_ops.py:231(comparison_op)\n",
      "       31    0.000    0.000    0.000    0.000 array_ops.py:295(na_logical_op)\n",
      "       31    0.000    0.000    0.001    0.000 array_ops.py:336(logical_op)\n",
      "       62    0.000    0.000    0.000    0.000 array_ops.py:354(fill_bool)\n",
      "       58    0.000    0.000    0.000    0.000 array_ops.py:445(maybe_prepare_scalar_for_op)\n",
      "       58    0.000    0.000    0.000    0.000 array_ops.py:514(_bool_arith_check)\n",
      "      188    0.001    0.000    0.004    0.000 array_ops.py:60(comp_method_OBJECT_ARRAY)\n",
      "       58    0.000    0.000    0.014    0.000 arraylike.py:100(__add__)\n",
      "      188    0.000    0.000    0.044    0.000 arraylike.py:40(__eq__)\n",
      "        1    0.000    0.000    0.000    0.000 arraylike.py:56(__gt__)\n",
      "       31    0.000    0.000    0.007    0.000 arraylike.py:70(__and__)\n",
      "        2    0.000    0.000    0.000    0.000 arraysetops.py:519(_in1d_dispatcher)\n",
      "        2    0.000    0.000    0.000    0.000 arraysetops.py:523(in1d)\n",
      "        2    0.000    0.000    0.000    0.000 arraysetops.py:784(_setdiff1d_dispatcher)\n",
      "        2    0.000    0.000    0.000    0.000 arraysetops.py:788(setdiff1d)\n",
      "        3    0.000    0.000    0.000    0.000 ast.py:33(parse)\n",
      "        3    0.000    0.000    0.000    0.000 ast.py:54(literal_eval)\n",
      "     27/3    0.000    0.000    0.000    0.000 ast.py:82(_convert)\n",
      "        1    0.000    0.000    0.000    0.000 astype.py:192(astype_array)\n",
      "        1    0.000    0.000    0.000    0.000 astype.py:239(astype_array_safe)\n",
      "        2    0.000    0.000    0.000    0.000 astype.py:68(astype_nansafe)\n",
      "        2    0.000    0.000    0.000    0.000 attr.txt:4(root)\n",
      "       64    0.000    0.000    0.000    0.000 base.py:1024(view)\n",
      "        2    0.000    0.000    0.000    0.000 base.py:1055(astype)\n",
      "        3    0.000    0.000    0.000    0.000 base.py:106(__eq__)\n",
      "      211    0.002    0.000    0.005    0.000 base.py:1169(take)\n",
      "      211    0.000    0.000    0.000    0.000 base.py:1195(_maybe_disallow_fill)\n",
      "      964    0.001    0.000    0.010    0.000 base.py:13(is_geometry_type)\n",
      "        3    0.000    0.000    0.000    0.000 base.py:130(<genexpr>)\n",
      "       58    0.001    0.000    0.014    0.000 base.py:1316(_arith_method)\n",
      "        8    0.000    0.000    0.000    0.000 base.py:135(__hash__)\n",
      "       69    0.000    0.000    0.000    0.000 base.py:135(crs)\n",
      "        8    0.000    0.000    0.000    0.000 base.py:138(<genexpr>)\n",
      "        3    0.000    0.000    0.000    0.000 base.py:148(is_consolidated)\n",
      "       16    0.000    0.000    0.000    0.000 base.py:166(kind)\n",
      "      300    0.000    0.000    0.000    0.000 base.py:1735(name)\n",
      "        1    0.000    0.000    0.000    0.000 base.py:1753(_validate_names)\n",
      "        1    0.000    0.000    0.000    0.000 base.py:1786(_get_default_index_names)\n",
      "        4    0.000    0.000    0.000    0.000 base.py:1821(_get_names)\n",
      "    12380    0.026    0.000    0.053    0.000 base.py:191(_empty)\n",
      "        7    0.000    0.000    0.000    0.000 base.py:2018(nlevels)\n",
      "        1    0.000    0.000    0.000    0.000 base.py:2031(_validate_index_level)\n",
      "     6190    0.006    0.000    0.036    0.000 base.py:208(__del__)\n",
      "        1    0.000    0.000    0.000    0.000 base.py:2092(_get_level_values)\n",
      "        4    0.000    0.000    0.000    0.000 base.py:210(interleaved_dtype)\n",
      "    26990    0.006    0.000    0.006    0.000 base.py:228(_geom)\n",
      "       19    0.000    0.000    0.000    0.000 base.py:2382(is_unique)\n",
      "     6190    0.012    0.000    0.052    0.000 base.py:240(_set_geom)\n",
      "       90    0.000    0.000    0.000    0.000 base.py:242(disallow_kwargs)\n",
      "       14    0.000    0.000    0.000    0.000 base.py:2422(is_boolean)\n",
      "    51991    0.052    0.000    0.052    0.000 base.py:245(__setattr__)\n",
      "     1117    0.001    0.000    0.007    0.000 base.py:2582(is_object)\n",
      "       19    0.000    0.000    0.000    0.000 base.py:2623(is_categorical)\n",
      "        9    0.000    0.000    0.000    0.000 base.py:2746(inferred_type)\n",
      "      111    0.000    0.000    0.001    0.000 base.py:2753(_is_all_dates)\n",
      "       28    0.000    0.000    0.000    0.000 base.py:2784(_is_multi)\n",
      "       35    0.000    0.000    0.000    0.000 base.py:2802(_na_value)\n",
      "       60    0.000    0.000    0.000    0.000 base.py:286(is_dtype)\n",
      "        2    0.000    0.000    0.000    0.000 base.py:3004(unique)\n",
      "       47    0.000    0.000    0.002    0.000 base.py:305(_array_interface_base)\n",
      "        2    0.000    0.000    0.000    0.000 base.py:3210(_validate_sort_keyword)\n",
      "     2404    0.000    0.000    0.000    0.000 base.py:324(ndim)\n",
      "        2    0.000    0.000    0.000    0.000 base.py:3428(_wrap_setop_result)\n",
      "        5    0.000    0.000    0.000    0.000 base.py:356(size)\n",
      "        2    0.000    0.000    0.001    0.001 base.py:3571(difference)\n",
      "        4    0.000    0.000    0.000    0.000 base.py:358(_get_common_dtype)\n",
      "        2    0.000    0.000    0.001    0.000 base.py:3626(_difference)\n",
      "        2    0.000    0.000    0.000    0.000 base.py:3640(_wrap_difference_result)\n",
      "        2    0.000    0.000    0.000    0.000 base.py:3732(_assert_can_do_setop)\n",
      "        2    0.000    0.000    0.000    0.000 base.py:3738(_convert_can_do_setop)\n",
      "     1325    0.002    0.000    0.004    0.000 base.py:3755(get_loc)\n",
      "        5    0.000    0.000    0.001    0.000 base.py:3889(get_indexer)\n",
      "        4    0.000    0.000    0.000    0.000 base.py:3976(_get_indexer)\n",
      "        5    0.000    0.000    0.000    0.000 base.py:4021(_check_indexing_method)\n",
      "       20    0.000    0.000    0.000    0.000 base.py:414(_engine_type)\n",
      "   114/90    0.002    0.000    0.009    0.000 base.py:431(__new__)\n",
      "        2    0.000    0.000    0.000    0.000 base.py:4344(_validate_can_reindex)\n",
      "        2    0.000    0.000    0.001    0.000 base.py:4361(reindex)\n",
      "        2    0.000    0.000    0.000    0.000 base.py:4480(_wrap_reindex_result)\n",
      "        2    0.000    0.000    0.000    0.000 base.py:4484(_maybe_preserve_names)\n",
      "      220    0.000    0.000    0.001    0.000 base.py:46(__len__)\n",
      "        8    0.000    0.000    0.000    0.000 base.py:494(find)\n",
      "     1046    0.000    0.000    0.000    0.000 base.py:5131(_values)\n",
      "       24    0.000    0.000    0.000    0.000 base.py:5157(_get_engine_target)\n",
      "        5    0.000    0.000    0.000    0.000 base.py:5245(_validate_fill_value)\n",
      "     1635    0.004    0.000    0.005    0.000 base.py:5295(__contains__)\n",
      "      736    0.002    0.000    0.004    0.000 base.py:5345(__getitem__)\n",
      "      236    0.001    0.000    0.002    0.000 base.py:54(shape)\n",
      "     1117    0.002    0.000    0.012    0.000 base.py:5404(_can_hold_identifiers_and_holds_name)\n",
      "        2    0.000    0.000    0.000    0.000 base.py:543(empty)\n",
      "  515/514    0.002    0.000    0.008    0.000 base.py:5505(equals)\n",
      "       16    0.000    0.000    0.000    0.000 base.py:556(<genexpr>)\n",
      "        3    0.000    0.000    0.000    0.000 base.py:5592(identical)\n",
      "      707    0.000    0.000    0.001    0.000 base.py:56(<genexpr>)\n",
      "        4    0.000    0.000    0.000    0.000 base.py:5605(<genexpr>)\n",
      "       32    0.000    0.000    0.000    0.000 base.py:575(_ensure_array)\n",
      "     1223    0.002    0.000    0.005    0.000 base.py:58(_validate_set_axis)\n",
      "       90    0.000    0.000    0.002    0.000 base.py:589(_dtype_to_subclass)\n",
      "      912    0.002    0.000    0.003    0.000 base.py:5975(_get_values_for_loc)\n",
      "        3    0.000    0.000    0.001    0.000 base.py:6073(get_indexer_for)\n",
      "       12    0.000    0.000    0.000    0.000 base.py:6234(_index_as_unique)\n",
      "        5    0.000    0.000    0.000    0.000 base.py:6246(_maybe_promote)\n",
      "        1    0.000    0.000    0.000    0.000 base.py:6292(_find_common_type_compat)\n",
      "        7    0.000    0.000    0.000    0.000 base.py:6326(_should_compare)\n",
      "        7    0.000    0.000    0.000    0.000 base.py:6344(_is_comparable_dtype)\n",
      "      808    0.001    0.000    0.001    0.000 base.py:64(geometry_type_name)\n",
      "     1325    0.000    0.000    0.000    0.000 base.py:6610(_maybe_cast_indexer)\n",
      "        5    0.000    0.000    0.000    0.000 base.py:6617(_maybe_cast_listlike_indexer)\n",
      "        5    0.000    0.000    0.001    0.000 base.py:6885(insert)\n",
      "      397    0.001    0.000    0.002    0.000 base.py:691(_simple_new)\n",
      "        7    0.000    0.000    0.001    0.000 base.py:6982(_cmp_method)\n",
      "      808    0.005    0.000    0.016    0.000 base.py:70(geom_factory)\n",
      "       22    0.000    0.000    0.005    0.000 base.py:709(_with_infer)\n",
      "     5604    0.011    0.000    0.037    0.000 base.py:715(is_empty)\n",
      "       32    0.000    0.000    0.000    0.000 base.py:729(_constructor)\n",
      "     2393    0.002    0.000    0.006    0.000 base.py:7318(ensure_index)\n",
      "        2    0.000    0.000    0.000    0.000 base.py:7377(ensure_has_len)\n",
      "     1338    0.002    0.000    0.004    0.000 base.py:7413(maybe_extract_name)\n",
      "       12    0.000    0.000    0.000    0.000 base.py:742(__iter__)\n",
      "       31    0.000    0.000    0.001    0.000 base.py:7437(_maybe_cast_data_without_dtype)\n",
      "        7    0.000    0.000    0.000    0.000 base.py:7497(unpack_nested_dtype)\n",
      "        2    0.000    0.000    0.000    0.000 base.py:7520(_maybe_try_sort)\n",
      "        2    0.000    0.000    0.000    0.000 base.py:805(_shallow_copy)\n",
      "       34    0.000    0.000    0.000    0.000 base.py:822(_view)\n",
      "        1    0.000    0.000    0.000    0.000 base.py:831(_rename)\n",
      "      522    0.000    0.000    0.000    0.000 base.py:840(is_)\n",
      "        1    0.000    0.000    0.001    0.001 base.py:87(reindex_axis)\n",
      "      444    0.000    0.000    0.000    0.000 base.py:871(_reset_identity)\n",
      "       20    0.000    0.000    0.000    0.000 base.py:882(_engine)\n",
      "     5182    0.003    0.000    0.004    0.000 base.py:926(__len__)\n",
      "       60    0.000    0.000    0.000    0.000 base.py:932(__array__)\n",
      "      356    0.000    0.000    0.000    0.000 base.py:987(dtype)\n",
      "        1    0.000    0.000    0.000    0.000 base.py:989(unique)\n",
      "        2    0.000    0.000    0.000    0.000 base_parser.py:1056(_make_date_converter)\n",
      "        2    0.000    0.000    0.000    0.000 base_parser.py:1148(_process_date_conversion)\n",
      "        4    0.000    0.000    0.000    0.000 base_parser.py:1283(_is_potential_multi_index)\n",
      "        8    0.000    0.000    0.000    0.000 base_parser.py:1308(<genexpr>)\n",
      "        2    0.000    0.000    0.000    0.000 base_parser.py:1312(_validate_parse_dates_arg)\n",
      "        6    0.000    0.000    0.000    0.000 base_parser.py:1334(is_index_col)\n",
      "        2    0.000    0.000    0.000    0.000 base_parser.py:165(_validate_parse_dates_presence)\n",
      "        2    0.000    0.000    0.000    0.000 base_parser.py:209(<setcomp>)\n",
      "        2    0.000    0.000    0.000    0.000 base_parser.py:221(<listcomp>)\n",
      "        2    0.000    0.000    0.000    0.000 base_parser.py:229(_has_complex_date_col)\n",
      "        2    0.000    0.000    0.000    0.000 base_parser.py:258(_extract_multi_indexer_columns)\n",
      "        2    0.000    0.000    0.000    0.000 base_parser.py:327(_maybe_dedup_names)\n",
      "        2    0.000    0.000    0.000    0.000 base_parser.py:358(_maybe_make_multi_index_columns)\n",
      "        2    0.000    0.000    0.000    0.000 base_parser.py:370(_make_index)\n",
      "        2    0.000    0.000    0.000    0.000 base_parser.py:612(_set_noconvert_dtype_columns)\n",
      "        2    0.000    0.000    0.000    0.000 base_parser.py:814(_do_date_conversions)\n",
      "        2    0.000    0.000    0.000    0.000 base_parser.py:834(_check_data_length)\n",
      "        2    0.000    0.000    0.000    0.000 base_parser.py:88(__init__)\n",
      "        2    0.000    0.000    0.000    0.000 base_parser.py:924(_validate_usecols_arg)\n",
      "      251    0.000    0.000    0.000    0.000 basedatatypes.py:108(<lambda>)\n",
      "      269    0.000    0.000    0.000    0.000 basedatatypes.py:117(<lambda>)\n",
      "      210    0.000    0.000    0.000    0.000 basedatatypes.py:118(<listcomp>)\n",
      "      210    0.000    0.000    0.000    0.000 basedatatypes.py:119(<listcomp>)\n",
      "        2    0.000    0.000    0.000    0.000 basedatatypes.py:1197(_selector_matches)\n",
      "        2    0.000    0.000    0.000    0.000 basedatatypes.py:1233(_filter_by_selector)\n",
      "        2    0.000    0.000    0.000    0.000 basedatatypes.py:1249(<lambda>)\n",
      "        2    0.000    0.000    0.000    0.000 basedatatypes.py:1251(_filt)\n",
      "       68    0.000    0.000    0.000    0.000 basedatatypes.py:135(_remake_path_from_tuple)\n",
      "        3    0.000    0.000    0.071    0.024 basedatatypes.py:1377(update_layout)\n",
      "        2    0.000    0.000    0.002    0.001 basedatatypes.py:1404(_select_layout_subplots_by_prefix)\n",
      "       10    0.000    0.000    0.000    0.000 basedatatypes.py:142(_add_square_brackets_to_number)\n",
      "      184    0.000    0.000    0.000    0.000 basedatatypes.py:1435(<lambda>)\n",
      "        2    0.000    0.000    0.000    0.000 basedatatypes.py:1436(<lambda>)\n",
      "        2    0.000    0.000    0.000    0.000 basedatatypes.py:1438(<lambda>)\n",
      "        2    0.000    0.000    0.000    0.000 basedatatypes.py:1440(<lambda>)\n",
      "        8    0.000    0.000    0.000    0.000 basedatatypes.py:1446(<lambda>)\n",
      "        2    0.000    0.000    0.000    0.000 basedatatypes.py:1451(<listcomp>)\n",
      "        5    0.000    0.000    0.000    0.000 basedatatypes.py:147(_prepend_dot_if_not_number)\n",
      "  226/224    0.001    0.000    0.024    0.000 basedatatypes.py:159(_check_path_in_prop_tree)\n",
      "        4    0.000    0.000    0.000    0.000 basedatatypes.py:1676(_perform_plotly_restyle)\n",
      "        4    0.000    0.000    0.000    0.000 basedatatypes.py:1791(_normalize_trace_indexes)\n",
      "     2046    0.002    0.000    0.007    0.000 basedatatypes.py:1810(_str_to_dict_path)\n",
      "        9    0.000    0.000    0.001    0.000 basedatatypes.py:1840(_set_in)\n",
      "        2    0.000    0.000    0.000    0.000 basedatatypes.py:1983(_validate_rows_cols)\n",
      "        1    0.000    0.000    0.004    0.004 basedatatypes.py:2105(add_traces)\n",
      "        1    0.000    0.000    0.000    0.000 basedatatypes.py:2240(<listcomp>)\n",
      "        1    0.000    0.000    0.000    0.000 basedatatypes.py:2250(<listcomp>)\n",
      "        2    0.000    0.000    0.000    0.000 basedatatypes.py:2323(_validate_get_grid_ref)\n",
      "      287    0.000    0.000    0.001    0.000 basedatatypes.py:2422(_get_child_props)\n",
      "      152    0.000    0.000    0.001    0.000 basedatatypes.py:2454(_get_child_prop_defaults)\n",
      "        1    0.000    0.000    0.004    0.004 basedatatypes.py:2506(_initialize_layout_template)\n",
      "      496    0.000    0.000    0.002    0.000 basedatatypes.py:2526(layout)\n",
      "        4    0.000    0.000    0.005    0.001 basedatatypes.py:2610(_perform_plotly_relayout)\n",
      "        9    0.000    0.000    0.003    0.000 basedatatypes.py:2653(_is_key_path_compatible)\n",
      "        9    0.000    0.000    0.000    0.000 basedatatypes.py:2675(_relayout_child)\n",
      "        4    0.000    0.000    0.001    0.000 basedatatypes.py:2713(_build_dispatch_plan)\n",
      "       21    0.000    0.000    0.000    0.000 basedatatypes.py:2769(<listcomp>)\n",
      "        4    0.000    0.000    0.003    0.001 basedatatypes.py:2777(_dispatch_layout_change_callbacks)\n",
      "        1    0.000    0.000    0.000    0.000 basedatatypes.py:2837(frames)\n",
      "        1    0.000    0.000    0.000    0.000 basedatatypes.py:2848(frames)\n",
      "        5    0.000    0.000    0.007    0.001 basedatatypes.py:2859(plotly_update)\n",
      "        5    0.000    0.000    0.005    0.001 basedatatypes.py:2933(_perform_plotly_update)\n",
      "        1    0.000    0.000    0.000    0.000 basedatatypes.py:2967(_send_addTraces_msg)\n",
      "        4    0.000    0.000    0.000    0.000 basedatatypes.py:2982(_send_update_msg)\n",
      "       10    0.000    0.000    0.008    0.001 basedatatypes.py:2994(batch_update)\n",
      "        5    0.000    0.000    0.000    0.000 basedatatypes.py:3063(_build_update_params_from_batch)\n",
      "        5    0.000    0.000    0.000    0.000 basedatatypes.py:3077(<listcomp>)\n",
      "        5    0.000    0.000    0.000    0.000 basedatatypes.py:3081(<listcomp>)\n",
      "        5    0.000    0.000    0.000    0.000 basedatatypes.py:3090(<dictcomp>)\n",
      "        1    0.000    0.000    0.003    0.003 basedatatypes.py:3276(to_dict)\n",
      "        1    0.000    0.000    0.000    0.000 basedatatypes.py:3299(<listcomp>)\n",
      "        1    0.000    0.000    0.007    0.007 basedatatypes.py:3364(show)\n",
      "        4    0.000    0.000    0.000    0.000 basedatatypes.py:383(_generator)\n",
      "    61/46    0.001    0.000    0.080    0.002 basedatatypes.py:3840(_perform_update)\n",
      "        4    0.000    0.000    0.000    0.000 basedatatypes.py:3951(_index_is)\n",
      "        4    0.000    0.000    0.000    0.000 basedatatypes.py:3958(<listcomp>)\n",
      "        1    0.000    0.000    0.005    0.005 basedatatypes.py:412(__init__)\n",
      "      161    0.001    0.000    0.003    0.000 basedatatypes.py:4261(__init__)\n",
      "     1408    0.005    0.000    0.007    0.000 basedatatypes.py:4326(_get_validator)\n",
      "      284    0.000    0.000    0.000    0.000 basedatatypes.py:4364(_process_kwargs)\n",
      "      621    0.000    0.000    0.000    0.000 basedatatypes.py:4384(plotly_name)\n",
      "1730/1401    0.001    0.000    0.009    0.000 basedatatypes.py:4407(_props)\n",
      "  165/118    0.001    0.000    0.007    0.000 basedatatypes.py:4430(_get_child_props)\n",
      "  367/354    0.000    0.000    0.002    0.000 basedatatypes.py:4477(_init_props)\n",
      "       13    0.000    0.000    0.001    0.000 basedatatypes.py:4493(_init_child_props)\n",
      "    49/36    0.000    0.000    0.000    0.000 basedatatypes.py:4536(_get_child_prop_defaults)\n",
      "  250/179    0.000    0.000    0.001    0.000 basedatatypes.py:4576(_prop_defaults)\n",
      "       63    0.000    0.000    0.002    0.000 basedatatypes.py:4590(_get_prop_validator)\n",
      "     3477    0.001    0.000    0.001    0.000 basedatatypes.py:4619(parent)\n",
      "       28    0.000    0.000    0.000    0.000 basedatatypes.py:4629(figure)\n",
      "  533/418    0.004    0.000    0.015    0.000 basedatatypes.py:4658(__getitem__)\n",
      "        6    0.000    0.000    0.000    0.000 basedatatypes.py:4725(<listcomp>)\n",
      "  195/165    0.001    0.000    0.005    0.000 basedatatypes.py:4753(__contains__)\n",
      "   363/92    0.003    0.000    0.062    0.001 basedatatypes.py:4796(__setitem__)\n",
      "2312/2301    0.003    0.000    0.007    0.000 basedatatypes.py:4901(__setattr__)\n",
      "        3    0.000    0.000    0.000    0.000 basedatatypes.py:4920(__iter__)\n",
      "        1    0.000    0.000    0.000    0.000 basedatatypes.py:4929(__eq__)\n",
      "       23    0.000    0.000    0.088    0.004 basedatatypes.py:5095(update)\n",
      "      273    0.004    0.000    0.018    0.000 basedatatypes.py:51(_str_to_dict_path_full)\n",
      "  376/355    0.000    0.000    0.000    0.000 basedatatypes.py:5160(_in_batch_mode)\n",
      "      247    0.001    0.000    0.017    0.000 basedatatypes.py:5170(_set_prop)\n",
      "     85/9    0.001    0.000    0.049    0.005 basedatatypes.py:5236(_set_compound_prop)\n",
      "        1    0.000    0.000    0.000    0.000 basedatatypes.py:524(<listcomp>)\n",
      "       26    0.000    0.000    0.018    0.001 basedatatypes.py:5310(_set_array_prop)\n",
      "        1    0.000    0.000    0.000    0.000 basedatatypes.py:534(<listcomp>)\n",
      "       26    0.000    0.000    0.002    0.000 basedatatypes.py:5347(<listcomp>)\n",
      "    21/18    0.000    0.000    0.001    0.000 basedatatypes.py:5405(_prop_set_child)\n",
      "        9    0.000    0.000    0.000    0.000 basedatatypes.py:5445(_restyle_child)\n",
      "     12/9    0.000    0.000    0.000    0.000 basedatatypes.py:5454(_relayout_child)\n",
      "       13    0.000    0.000    0.000    0.000 basedatatypes.py:5465(_dispatch_change_callbacks)\n",
      "        7    0.000    0.000    0.010    0.001 basedatatypes.py:5582(to_plotly_json)\n",
      "  698/111    0.002    0.000    0.003    0.000 basedatatypes.py:5592(_vals_equal)\n",
      "   434/95    0.000    0.000    0.002    0.000 basedatatypes.py:5618(<genexpr>)\n",
      "    381/3    0.000    0.000    0.003    0.001 basedatatypes.py:5625(<genexpr>)\n",
      "       65    0.000    0.000    0.001    0.000 basedatatypes.py:5640(__init__)\n",
      "  157/145    0.000    0.000    0.001    0.000 basedatatypes.py:5643(_send_prop_set)\n",
      "        3    0.000    0.000    0.000    0.000 basedatatypes.py:5680(__init__)\n",
      "        9    0.000    0.000    0.000    0.000 basedatatypes.py:5711(_process_kwargs)\n",
      "        9    0.000    0.000    0.000    0.000 basedatatypes.py:5715(<dictcomp>)\n",
      "        9    0.000    0.000    0.000    0.000 basedatatypes.py:5720(<dictcomp>)\n",
      "      340    0.001    0.000    0.002    0.000 basedatatypes.py:5771(_strip_subplot_suffix_of_1)\n",
      "        4    0.000    0.000    0.000    0.000 basedatatypes.py:5809(_get_prop_validator)\n",
      "  238/228    0.000    0.000    0.010    0.000 basedatatypes.py:5827(__getitem__)\n",
      "    98/74    0.000    0.000    0.004    0.000 basedatatypes.py:5834(__contains__)\n",
      "     25/6    0.000    0.000    0.053    0.009 basedatatypes.py:5841(__setitem__)\n",
      "       49    0.000    0.000    0.004    0.000 basedatatypes.py:5866(__setattr__)\n",
      "       60    0.000    0.000    0.001    0.000 basedatatypes.py:5895(__init__)\n",
      "  218/209    0.000    0.000    0.000    0.000 basedatatypes.py:5898(_send_prop_set)\n",
      "       33    0.000    0.000    0.001    0.000 basedatatypes.py:5912(__init__)\n",
      "    34/33    0.000    0.000    0.000    0.000 basedatatypes.py:705(__setattr__)\n",
      "      500    0.001    0.000    0.002    0.000 basedatatypes.py:724(__getitem__)\n",
      "      251    0.000    0.000    0.000    0.000 basedatatypes.py:77(_make_hyphen_key)\n",
      "      269    0.000    0.000    0.000    0.000 basedatatypes.py:86(_make_underscore_key)\n",
      "      251    0.001    0.000    0.009    0.000 basedatatypes.py:93(_split_and_chomp)\n",
      "        3    0.000    0.000    0.000    0.000 basedatatypes.py:952(data)\n",
      "       22    0.000    0.000    0.000    0.000 basevalidators.py:1037(validate_coerce)\n",
      "       63    0.000    0.000    0.000    0.000 basevalidators.py:1295(numbers_allowed)\n",
      "       63    0.000    0.000    0.003    0.000 basevalidators.py:1339(validate_coerce)\n",
      "       63    0.000    0.000    0.003    0.000 basevalidators.py:1401(vc_scalar)\n",
      "      255    0.001    0.000    0.006    0.000 basevalidators.py:1407(perform_validate_coerce)\n",
      "        1    0.000    0.000    0.000    0.000 basevalidators.py:1483(validate_coerce)\n",
      "        1    0.000    0.000    0.000    0.000 basevalidators.py:1489(<listcomp>)\n",
      "        1    0.000    0.000    0.000    0.000 basevalidators.py:1493(<listcomp>)\n",
      "        9    0.000    0.000    0.004    0.000 basevalidators.py:1587(validate_coerce)\n",
      "        9    0.000    0.000    0.002    0.000 basevalidators.py:1621(<listcomp>)\n",
      "        9    0.000    0.000    0.002    0.000 basevalidators.py:1638(<listcomp>)\n",
      "      138    0.000    0.000    0.000    0.000 basevalidators.py:170(is_numpy_convertable)\n",
      "       12    0.000    0.000    0.000    0.000 basevalidators.py:1743(validate_coerce)\n",
      "      103    0.000    0.000    0.001    0.000 basevalidators.py:178(is_homogeneous_array)\n",
      "      347    0.001    0.000    0.005    0.000 basevalidators.py:18(fullmatch)\n",
      "        8    0.000    0.000    0.000    0.000 basevalidators.py:1835(vc_scalar)\n",
      "        6    0.000    0.000    0.000    0.000 basevalidators.py:1847(<listcomp>)\n",
      "       12    0.000    0.000    0.000    0.000 basevalidators.py:1850(<genexpr>)\n",
      "        8    0.000    0.000    0.000    0.000 basevalidators.py:1855(validate_coerce)\n",
      "        1    0.000    0.000    0.000    0.000 basevalidators.py:1914(validate_coerce)\n",
      "      200    0.000    0.000    0.000    0.000 basevalidators.py:202(is_simple_array)\n",
      "      125    0.000    0.000    0.000    0.000 basevalidators.py:209(is_array)\n",
      "        4    0.000    0.000    0.000    0.000 basevalidators.py:2123(validate_coerce)\n",
      "        6    0.000    0.000    0.000    0.000 basevalidators.py:233(__init__)\n",
      "        1    0.000    0.000    0.000    0.000 basevalidators.py:2382(__init__)\n",
      "        2    0.000    0.000    0.000    0.000 basevalidators.py:2395(compute_graph_obj_module_str)\n",
      "      129    0.000    0.000    0.000    0.000 basevalidators.py:2421(data_class)\n",
      "    86/10    0.001    0.000    0.037    0.004 basevalidators.py:2450(validate_coerce)\n",
      "      815    0.000    0.000    0.000    0.000 basevalidators.py:2469(present)\n",
      "        3    0.000    0.000    0.000    0.000 basevalidators.py:2485(validate_coerce)\n",
      "        1    0.000    0.000    0.000    0.000 basevalidators.py:2492(__init__)\n",
      "       50    0.000    0.000    0.000    0.000 basevalidators.py:2527(data_class)\n",
      "       28    0.000    0.000    0.015    0.001 basevalidators.py:2535(validate_coerce)\n",
      "       20    0.000    0.000    0.000    0.000 basevalidators.py:2567(present)\n",
      "        2    0.000    0.000    0.000    0.000 basevalidators.py:2573(__init__)\n",
      "        4    0.000    0.000    0.000    0.000 basevalidators.py:2617(get_trace_class)\n",
      "        3    0.000    0.000    0.004    0.001 basevalidators.py:2626(validate_coerce)\n",
      "        1    0.000    0.000    0.039    0.039 basevalidators.py:2722(validate_coerce)\n",
      "    81/34    0.000    0.000    0.001    0.000 basevalidators.py:29(to_scalar_or_list)\n",
      "       59    0.000    0.000    0.000    0.000 basevalidators.py:338(present)\n",
      "       12    0.000    0.000    0.000    0.000 basevalidators.py:394(validate_coerce)\n",
      "       34    0.000    0.000    0.001    0.000 basevalidators.py:42(<listcomp>)\n",
      "        1    0.000    0.000    0.000    0.000 basevalidators.py:424(__init__)\n",
      "       59    0.000    0.000    0.000    0.000 basevalidators.py:503(perform_replacemenet)\n",
      "       12    0.000    0.000    0.000    0.000 basevalidators.py:55(copy_to_readonly_numpy_array)\n",
      "       59    0.000    0.000    0.000    0.000 basevalidators.py:576(in_values)\n",
      "       62    0.000    0.000    0.001    0.000 basevalidators.py:593(validate_coerce)\n",
      "       12    0.000    0.000    0.000    0.000 basevalidators.py:638(validate_coerce)\n",
      "        1    0.000    0.000    0.000    0.000 basevalidators.py:695(__init__)\n",
      "       48    0.000    0.000    0.000    0.000 basevalidators.py:754(validate_coerce)\n",
      "        1    0.000    0.000    0.000    0.000 basevalidators.py:882(validate_coerce)\n",
      "        4    0.000    0.000    0.063    0.016 blocks.py:1596(get_values)\n",
      "       30    0.000    0.000    0.000    0.000 blocks.py:160(_consolidate_key)\n",
      "        4    0.000    0.000    0.000    0.000 blocks.py:1639(shape)\n",
      "        9    0.000    0.000    0.000    0.000 blocks.py:1646(iget)\n",
      "        2    0.000    0.000    0.000    0.000 blocks.py:1756(take_nd)\n",
      "        8    0.000    0.000    0.000    0.000 blocks.py:1910(get_values)\n",
      "        5    0.000    0.000    0.000    0.000 blocks.py:1918(delete)\n",
      "       91    0.000    0.000    0.000    0.000 blocks.py:196(external_values)\n",
      "      135    0.000    0.000    0.002    0.000 blocks.py:200(fill_value)\n",
      "       58    0.000    0.000    0.000    0.000 blocks.py:206(_standardize_fill_value)\n",
      "     1212    0.003    0.000    0.005    0.000 blocks.py:2089(maybe_coerce_values)\n",
      "     1241    0.003    0.000    0.004    0.000 blocks.py:2118(get_block_type)\n",
      "       49    0.000    0.000    0.000    0.000 blocks.py:213(mgr_locs)\n",
      "       30    0.000    0.000    0.000    0.000 blocks.py:2159(new_block_2d)\n",
      "     1181    0.006    0.000    0.020    0.000 blocks.py:2170(new_block)\n",
      "     1181    0.002    0.000    0.004    0.000 blocks.py:2184(check_ndim)\n",
      "        2    0.000    0.000    0.000    0.000 blocks.py:221(make_block)\n",
      "      145    0.000    0.000    0.000    0.000 blocks.py:2248(extend_blocks)\n",
      "       64    0.000    0.000    0.000    0.000 blocks.py:2264(ensure_block_shape)\n",
      "      315    0.001    0.000    0.001    0.000 blocks.py:236(make_block_same_class)\n",
      "       91    0.000    0.000    0.000    0.000 blocks.py:2368(external_values)\n",
      "        5    0.000    0.000    0.000    0.000 blocks.py:275(__len__)\n",
      "        1    0.000    0.000    0.000    0.000 blocks.py:301(getitem_block_columns)\n",
      "       58    0.000    0.000    0.000    0.000 blocks.py:323(should_store)\n",
      "        1    0.000    0.000    0.000    0.000 blocks.py:345(apply)\n",
      "        1    0.000    0.000    0.000    0.000 blocks.py:376(_split_op_result)\n",
      "     1462    0.001    0.000    0.001    0.000 blocks.py:500(dtype)\n",
      "        1    0.000    0.000    0.000    0.000 blocks.py:504(astype)\n",
      "       67    0.000    0.000    0.000    0.000 blocks.py:544(copy)\n",
      "        2    0.000    0.000    0.000    0.000 blocks.py:821(shape)\n",
      "      442    0.000    0.000    0.000    0.000 blocks.py:825(iget)\n",
      "        2    0.000    0.000    0.000    0.000 blocks.py:834(_slice)\n",
      "       58    0.000    0.000    0.000    0.000 blocks.py:841(set_inplace)\n",
      "      313    0.001    0.000    0.012    0.000 blocks.py:859(take_nd)\n",
      "       58    0.001    0.000    0.002    0.000 blocks.py:939(setitem)\n",
      "        2    0.000    0.000    0.000    0.000 c_parser_wrapper.py:190(close)\n",
      "        2    0.000    0.000    0.000    0.000 c_parser_wrapper.py:197(_set_noconvert_columns)\n",
      "        2    0.000    0.000    0.000    0.000 c_parser_wrapper.py:208(<dictcomp>)\n",
      "        2    0.000    0.000    0.000    0.000 c_parser_wrapper.py:209(<listcomp>)\n",
      "        2    0.000    0.000    0.001    0.001 c_parser_wrapper.py:218(read)\n",
      "        2    0.000    0.000    0.000    0.000 c_parser_wrapper.py:314(<listcomp>)\n",
      "        2    0.000    0.000    0.000    0.000 c_parser_wrapper.py:318(<dictcomp>)\n",
      "        2    0.000    0.000    0.000    0.000 c_parser_wrapper.py:351(_concatenate_chunks)\n",
      "       14    0.000    0.000    0.000    0.000 c_parser_wrapper.py:363(<listcomp>)\n",
      "       14    0.000    0.000    0.000    0.000 c_parser_wrapper.py:365(<setcomp>)\n",
      "       14    0.000    0.000    0.000    0.000 c_parser_wrapper.py:367(<setcomp>)\n",
      "        2    0.000    0.000    0.000    0.000 c_parser_wrapper.py:416(ensure_dtype_objs)\n",
      "        2    0.000    0.000    0.000    0.000 c_parser_wrapper.py:49(__init__)\n",
      "      836    0.005    0.000    0.009    0.000 cast.py:1178(maybe_infer_to_datetimelike)\n",
      "        3    0.000    0.000    0.000    0.000 cast.py:120(maybe_convert_platform)\n",
      "       29    0.000    0.000    0.001    0.000 cast.py:1291(maybe_cast_to_datetime)\n",
      "      339    0.000    0.000    0.000    0.000 cast.py:1422(sanitize_to_nanoseconds)\n",
      "        1    0.000    0.000    0.000    0.000 cast.py:1536(common_dtype_categorical_compat)\n",
      "        5    0.000    0.000    0.000    0.000 cast.py:1589(find_common_type)\n",
      "       19    0.000    0.000    0.000    0.000 cast.py:1619(<genexpr>)\n",
      "        2    0.000    0.000    0.000    0.000 cast.py:1628(<genexpr>)\n",
      "        2    0.000    0.000    0.000    0.000 cast.py:1630(<genexpr>)\n",
      "        3    0.000    0.000    0.000    0.000 cast.py:1635(<genexpr>)\n",
      "       85    0.000    0.000    0.001    0.000 cast.py:1763(construct_1d_object_array_from_listlike)\n",
      "       63    0.000    0.000    0.000    0.000 cast.py:1931(np_can_hold_element)\n",
      "      315    0.000    0.000    0.000    0.000 cast.py:527(maybe_promote)\n",
      "        1    0.000    0.000    0.000    0.000 cast.py:739(infer_dtype_from)\n",
      "        1    0.000    0.000    0.000    0.000 cast.py:863(infer_dtype_from_array)\n",
      "       58    0.000    0.000    0.000    0.000 cast.py:919(_maybe_infer_dtype_type)\n",
      "        5    0.000    0.000    0.000    0.000 collection.py:185(guard_driver_mode)\n",
      "     5382    0.003    0.000    0.003    0.000 collection.py:192(driver)\n",
      "       10    0.000    0.000    0.000    0.000 collection.py:199(schema)\n",
      "       10    0.000    0.000    0.000    0.000 collection.py:211(crs)\n",
      "        5    0.000    0.000    0.001    0.000 collection.py:218(crs_wkt)\n",
      "        5    0.000    0.000    0.000    0.000 collection.py:235(filter)\n",
      "        5    0.000    0.000    0.000    0.000 collection.py:334(__iter__)\n",
      "        5    0.000    0.000    0.005    0.001 collection.py:38(__init__)\n",
      "       10    0.000    0.000    0.001    0.000 collection.py:451(close)\n",
      "        5    0.000    0.000    0.000    0.000 collection.py:465(closed)\n",
      "        5    0.000    0.000    0.000    0.000 collection.py:470(__enter__)\n",
      "        5    0.000    0.000    0.001    0.000 collection.py:476(__exit__)\n",
      "        5    0.000    0.000    0.000    0.000 collection.py:481(__del__)\n",
      "      182    0.000    0.000    0.001    0.000 common.py:1048(is_numeric_v_string_like)\n",
      "       58    0.000    0.000    0.001    0.000 common.py:1097(is_datetimelike_v_numeric)\n",
      "        2    0.000    0.000    0.000    0.000 common.py:1102(_maybe_memory_map)\n",
      "        2    0.000    0.000    0.000    0.000 common.py:112(close)\n",
      "        4    0.000    0.000    0.000    0.000 common.py:1147(_is_binary_mode)\n",
      "      575    0.001    0.000    0.001    0.000 common.py:1154(needs_i8_conversion)\n",
      "        4    0.000    0.000    0.000    0.000 common.py:116(ensure_python_int)\n",
      "       37    0.000    0.000    0.000    0.000 common.py:1204(is_numeric_dtype)\n",
      "      329    0.001    0.000    0.002    0.000 common.py:1246(is_float_dtype)\n",
      "      770    0.002    0.000    0.005    0.000 common.py:1278(is_bool_dtype)\n",
      "        2    0.000    0.000    0.000    0.000 common.py:136(is_url)\n",
      "     1367    0.001    0.000    0.001    0.000 common.py:1420(is_1d_only_ea_dtype)\n",
      "      598    0.001    0.000    0.001    0.000 common.py:1433(is_extension_array_dtype)\n",
      "     2283    0.001    0.000    0.001    0.000 common.py:146(classes)\n",
      "     2283    0.001    0.000    0.002    0.000 common.py:148(<lambda>)\n",
      "      228    0.000    0.000    0.000    0.000 common.py:1487(is_ea_or_datetimelike_dtype)\n",
      "       58    0.000    0.000    0.000    0.000 common.py:1500(is_complex_dtype)\n",
      "      676    0.000    0.000    0.001    0.000 common.py:151(cast_scalar_indexer)\n",
      "      444    0.000    0.000    0.000    0.000 common.py:151(classes_and_not_datetimelike)\n",
      "       23    0.000    0.000    0.000    0.000 common.py:1532(_is_dtype)\n",
      "     1799    0.001    0.000    0.002    0.000 common.py:1556(get_dtype)\n",
      "      444    0.000    0.000    0.001    0.000 common.py:156(<lambda>)\n",
      "     2727    0.004    0.000    0.010    0.000 common.py:1591(_is_dtype_type)\n",
      "     1867    0.003    0.000    0.012    0.000 common.py:162(is_object_dtype)\n",
      "        6    0.000    0.000    0.000    0.000 common.py:164(_expand_user)\n",
      "     1872    0.003    0.000    0.009    0.000 common.py:1725(validate_all_hashable)\n",
      "     3744    0.002    0.000    0.004    0.000 common.py:1744(<genexpr>)\n",
      "      450    0.001    0.000    0.001    0.000 common.py:1751(pandas_dtype)\n",
      "        2    0.000    0.000    0.000    0.000 common.py:183(validate_header_arg)\n",
      "        2    0.000    0.000    0.000    0.000 common.py:192(all_none)\n",
      "        4    0.000    0.000    0.000    0.000 common.py:196(<genexpr>)\n",
      "        4    0.000    0.000    0.000    0.000 common.py:224(stringify_path)\n",
      "       56    0.000    0.000    0.001    0.000 common.py:235(asarray_tuplesafe)\n",
      "        2    0.000    0.000    0.000    0.000 common.py:268(is_fsspec_url)\n",
      "        2    0.000    0.000    0.000    0.000 common.py:280(_get_filepath_or_buffer)\n",
      "        6    0.000    0.000    0.000    0.000 common.py:293(maybe_iterable_to_list)\n",
      "      234    0.000    0.000    0.000    0.000 common.py:303(is_null_slice)\n",
      "        9    0.000    0.000    0.000    0.000 common.py:319(is_datetime64_dtype)\n",
      "       58    0.000    0.000    0.000    0.000 common.py:323(is_full_slice)\n",
      "     1955    0.001    0.000    0.002    0.000 common.py:352(apply_if_callable)\n",
      "        1    0.000    0.000    0.000    0.000 common.py:352(is_datetime64tz_dtype)\n",
      "       40    0.000    0.000    0.000    0.000 common.py:393(is_timedelta64_dtype)\n",
      "        1    0.000    0.000    0.000    0.000 common.py:413(random_state)\n",
      "        6    0.000    0.000    0.000    0.000 common.py:463(is_interval_dtype)\n",
      "        2    0.000    0.000    0.000    0.000 common.py:494(get_compression_method)\n",
      "       53    0.000    0.000    0.000    0.000 common.py:501(is_categorical_dtype)\n",
      "        2    0.000    0.000    0.000    0.000 common.py:529(infer_compression)\n",
      "        5    0.000    0.000    0.000    0.000 common.py:537(is_string_or_object_np_dtype)\n",
      "       23    0.000    0.000    0.000    0.000 common.py:544(is_string_dtype)\n",
      "     1178    0.001    0.000    0.003    0.000 common.py:556(require_length_match)\n",
      "      278    0.001    0.000    0.070    0.000 common.py:57(new_method)\n",
      "       23    0.000    0.000    0.000    0.000 common.py:573(condition)\n",
      "        4    0.000    0.000    0.000    0.000 common.py:576(is_excluded_dtype)\n",
      "      445    0.001    0.000    0.002    0.000 common.py:585(is_dtype_equal)\n",
      "        6    0.000    0.000    0.000    0.000 common.py:61(flatten)\n",
      "        2    0.000    0.000    0.001    0.000 common.py:645(get_handle)\n",
      "      227    0.000    0.000    0.001    0.000 common.py:684(is_integer_dtype)\n",
      "       90    0.000    0.000    0.000    0.000 common.py:736(is_signed_integer_dtype)\n",
      "      273    0.000    0.000    0.002    0.000 common.py:77(get_op_result_name)\n",
      "       90    0.000    0.000    0.000    0.000 common.py:790(is_unsigned_integer_dtype)\n",
      "      570    0.002    0.000    0.008    0.000 common.py:96(is_bool_indexer)\n",
      "       33    0.000    0.000    0.000    0.000 common.py:99(_maybe_match_name)\n",
      "      869    0.004    0.000    0.264    0.000 compiler.py:101(generate)\n",
      "      869    0.002    0.000    0.003    0.000 compiler.py:1376(_make_finalize)\n",
      "      869    0.002    0.000    0.020    0.000 compiler.py:142(find_undeclared)\n",
      "      869    0.001    0.000    0.007    0.000 compiler.py:1424(_output_const_repr)\n",
      "      869    0.002    0.000    0.003    0.000 compiler.py:1431(_output_child_to_const)\n",
      "      869    0.006    0.000    0.025    0.000 compiler.py:1479(visit_Output)\n",
      "      869    0.002    0.000    0.004    0.000 compiler.py:168(__init__)\n",
      "      869    0.001    0.000    0.001    0.000 compiler.py:255(__init__)\n",
      "      869    0.001    0.000    0.001    0.000 compiler.py:277(__init__)\n",
      "      869    0.005    0.000    0.005    0.000 compiler.py:301(__init__)\n",
      "      869    0.000    0.000    0.000    0.000 compiler.py:414(indent)\n",
      "      869    0.001    0.000    0.001    0.000 compiler.py:418(outdent)\n",
      "      869    0.002    0.000    0.036    0.000 compiler.py:442(blockvisit)\n",
      "    10428    0.025    0.000    0.031    0.000 compiler.py:453(write)\n",
      "    10428    0.012    0.000    0.057    0.000 compiler.py:467(writeline)\n",
      "    10428    0.009    0.000    0.013    0.000 compiler.py:474(newline)\n",
      "      869    0.004    0.000    0.021    0.000 compiler.py:538(pull_dependencies)\n",
      "      869    0.001    0.000    0.002    0.000 compiler.py:581(enter_frame)\n",
      "      869    0.000    0.000    0.000    0.000 compiler.py:597(leave_frame)\n",
      "      869    0.000    0.000    0.000    0.000 compiler.py:605(choose_async)\n",
      "      869    0.001    0.000    0.001    0.000 compiler.py:608(func)\n",
      "      869    0.002    0.000    0.023    0.000 compiler.py:720(write_commons)\n",
      "      869    0.029    0.000    0.248    0.000 compiler.py:826(visit_Template)\n",
      "      869    0.000    0.000    0.000    0.000 compiler.py:939(<genexpr>)\n",
      "      869    0.000    0.000    0.000    0.000 compiler.py:941(<genexpr>)\n",
      "     1539    0.005    0.000    0.013    0.000 config.py:116(_get_single_key)\n",
      "     1539    0.003    0.000    0.021    0.000 config.py:134(_get_option)\n",
      "     1539    0.002    0.000    0.023    0.000 config.py:262(__call__)\n",
      "     1539    0.001    0.000    0.001    0.000 config.py:579(_select_options)\n",
      "     1539    0.004    0.000    0.005    0.000 config.py:597(_get_root)\n",
      "     3078    0.004    0.000    0.004    0.000 config.py:611(_get_deprecated_option)\n",
      "     1539    0.001    0.000    0.002    0.000 config.py:638(_translate_key)\n",
      "     1539    0.001    0.000    0.004    0.000 config.py:650(_warn_if_deprecated)\n",
      "        3    0.000    0.000    0.000    0.000 configurable.py:521(instance)\n",
      "        2    0.000    0.000    0.000    0.000 configurable.py:565(initialized)\n",
      "       11    0.000    0.000    0.005    0.000 construction.py:100(arrays_to_mgr)\n",
      "        5    0.000    0.000    0.004    0.001 construction.py:1038(_convert_object_array)\n",
      "       29    0.000    0.000    0.004    0.000 construction.py:1054(convert)\n",
      "        5    0.000    0.000    0.004    0.001 construction.py:1060(<listcomp>)\n",
      "       11    0.000    0.000    0.000    0.000 construction.py:231(mgr_to_mgr)\n",
      "     1580    0.002    0.000    0.013    0.000 construction.py:399(extract_array)\n",
      "        6    0.000    0.000    0.008    0.001 construction.py:423(dict_to_mgr)\n",
      "     1710    0.002    0.000    0.002    0.000 construction.py:461(ensure_wrapped_if_datetimelike)\n",
      "        3    0.000    0.000    0.000    0.000 construction.py:481(<listcomp>)\n",
      "        3    0.000    0.000    0.000    0.000 construction.py:482(<listcomp>)\n",
      "        6    0.000    0.000    0.000    0.000 construction.py:488(<listcomp>)\n",
      "     1203    0.010    0.000    0.040    0.000 construction.py:493(sanitize_array)\n",
      "        5    0.000    0.000    0.010    0.002 construction.py:496(nested_data_to_arrays)\n",
      "        5    0.000    0.000    0.000    0.000 construction.py:525(treat_as_nested)\n",
      "       11    0.000    0.000    0.002    0.000 construction.py:588(_homogenize)\n",
      "        4    0.000    0.000    0.000    0.000 construction.py:627(_extract_index)\n",
      "     1203    0.002    0.000    0.004    0.000 construction.py:676(_sanitize_ndim)\n",
      "     1196    0.001    0.000    0.001    0.000 construction.py:713(_sanitize_str_dtypes)\n",
      "     1203    0.001    0.000    0.001    0.000 construction.py:733(_maybe_repeat)\n",
      "     1193    0.004    0.000    0.013    0.000 construction.py:744(_try_cast)\n",
      "        5    0.000    0.000    0.010    0.002 construction.py:790(to_arrays)\n",
      "     1225    0.002    0.000    0.003    0.000 construction.py:861(is_empty_data)\n",
      "        3    0.000    0.000    0.001    0.000 construction.py:881(create_series_with_explicit_dtype)\n",
      "        5    0.000    0.000    0.005    0.001 construction.py:921(_list_of_dict_to_arrays)\n",
      "        5    0.002    0.000    0.002    0.000 construction.py:952(<listcomp>)\n",
      "        5    0.000    0.000    0.004    0.001 construction.py:958(_finalize_columns_and_data)\n",
      "        5    0.000    0.000    0.000    0.000 construction.py:980(_validate_or_indexify_columns)\n",
      "       16    0.000    0.000    0.000    0.000 contextlib.py:104(__init__)\n",
      "       16    0.000    0.000    0.000    0.000 contextlib.py:132(__enter__)\n",
      "       16    0.000    0.000    0.008    0.000 contextlib.py:141(__exit__)\n",
      "       16    0.000    0.000    0.000    0.000 contextlib.py:284(helper)\n",
      "      117    0.000    0.000    0.000    0.000 contextlib.py:425(__init__)\n",
      "      117    0.000    0.000    0.000    0.000 contextlib.py:428(__enter__)\n",
      "      117    0.000    0.000    0.000    0.000 contextlib.py:431(__exit__)\n",
      "        3    0.000    0.000    0.000    0.000 contextlib.py:447(_create_exit_wrapper)\n",
      "        3    0.000    0.000    0.000    0.000 contextlib.py:457(__init__)\n",
      "        3    0.000    0.000    0.000    0.000 contextlib.py:487(enter_context)\n",
      "        3    0.000    0.000    0.000    0.000 contextlib.py:519(_push_cm_exit)\n",
      "        3    0.000    0.000    0.000    0.000 contextlib.py:524(_push_exit_callback)\n",
      "        3    0.000    0.000    0.000    0.000 contextlib.py:540(__enter__)\n",
      "        3    0.000    0.000    0.000    0.000 contextlib.py:543(__exit__)\n",
      "      761    0.004    0.000    0.028    0.000 coords.py:145(array_interface)\n",
      "     1637    0.001    0.000    0.001    0.000 coords.py:40(__init__)\n",
      "     4796    0.014    0.000    0.047    0.000 coords.py:43(_update)\n",
      "     3159    0.011    0.000    0.043    0.000 coords.py:51(__len__)\n",
      "      115    0.001    0.000    0.004    0.000 coords.py:76(__getitem__)\n",
      "        2    0.000    0.000    0.000    0.000 copy.py:107(_copy_immutable)\n",
      " 7733/129    0.014    0.000    0.027    0.000 copy.py:128(deepcopy)\n",
      "     5771    0.001    0.000    0.001    0.000 copy.py:182(_deepcopy_atomic)\n",
      "  990/220    0.002    0.000    0.017    0.000 copy.py:201(_deepcopy_list)\n",
      "  948/130    0.003    0.000    0.027    0.000 copy.py:227(_deepcopy_dict)\n",
      "     1962    0.002    0.000    0.002    0.000 copy.py:243(_keep_alive)\n",
      "        2    0.000    0.000    0.000    0.000 copy.py:259(_reconstruct)\n",
      "      113    0.000    0.000    0.000    0.000 copy.py:66(copy)\n",
      "        2    0.000    0.000    0.000    0.000 copyreg.py:104(__newobj__)\n",
      "       10    0.000    0.000    0.000    0.000 crs.py:125(_prepare_from_string)\n",
      "       10    0.000    0.000    0.000    0.000 crs.py:153(_is_epsg_code)\n",
      "        7    0.000    0.000    0.009    0.001 crs.py:1547(__eq__)\n",
      "       10    0.017    0.002    0.018    0.002 crs.py:183(__init__)\n",
      "       14    0.000    0.000    0.000    0.000 crs.py:350(_crs)\n",
      "       28    0.000    0.000    0.018    0.001 crs.py:475(from_user_input)\n",
      "       10    0.000    0.000    0.000    0.000 crs.py:60(__init__)\n",
      "        7    0.000    0.000    0.009    0.001 crs.py:951(equals)\n",
      "        5    0.000    0.000    0.000    0.000 dataclasses.py:1247(is_dataclass)\n",
      "        3    0.000    0.000    0.000    0.000 datacollection.py:122(_new_model_reporter)\n",
      "        1    0.000    0.000    0.000    0.000 datacollection.py:193(collect)\n",
      "        1    0.000    0.000    0.001    0.001 datacollection.py:235(get_model_vars_dataframe)\n",
      "        1    0.000    0.000    0.000    0.000 datacollection.py:54(__init__)\n",
      "        1    0.000    0.000    0.000    0.000 decoder.py:332(decode)\n",
      "        1    0.000    0.000    0.000    0.000 decoder.py:343(raw_decode)\n",
      "       12    0.000    0.000    0.001    0.000 decorator.py:199(fix)\n",
      "       12    0.000    0.000    0.001    0.000 decorator.py:229(fun)\n",
      "       11    0.000    0.000    0.000    0.000 dir2.py:54(get_real_method)\n",
      "      271    0.000    0.000    0.001    0.000 dispatch.py:13(should_extension_dispatch)\n",
      "        1    0.000    0.000    0.000    0.000 display.py:275(__init__)\n",
      "        1    0.000    0.000    0.000    0.000 display.py:285(_repr_html_)\n",
      "        2    0.000    0.000    0.005    0.002 display_functions.py:105(display)\n",
      "        2    0.000    0.000    0.004    0.002 display_functions.py:45(publish_display_data)\n",
      "        2    0.000    0.000    0.000    0.000 displaypub.py:43(_validate_data)\n",
      "        6    0.000    0.000    0.000    0.000 dtypes.py:1247(is_dtype)\n",
      "     1778    0.004    0.000    0.034    0.000 element.py:120(add_child)\n",
      "      828    0.001    0.000    0.032    0.000 element.py:134(add_to)\n",
      " 1764/867    0.002    0.000    0.002    0.000 element.py:157(get_root)\n",
      "   917/37    0.001    0.000    0.049    0.001 element.py:164(render)\n",
      "        1    0.000    0.000    0.900    0.900 element.py:168(save)\n",
      "        4    0.000    0.000    0.000    0.000 element.py:224(__init__)\n",
      "        6    0.000    0.000    0.000    0.000 element.py:252(__init__)\n",
      "        1    0.000    0.000    0.001    0.001 element.py:299(__init__)\n",
      "      867    0.000    0.000    0.000    0.000 element.py:331(get_root)\n",
      "        1    0.000    0.000    0.898    0.898 element.py:335(render)\n",
      "       34    0.000    0.000    0.000    0.000 element.py:424(__init__)\n",
      "     1884    0.007    0.000    0.649    0.000 element.py:53(__init__)\n",
      "      830    0.001    0.000    0.006    0.000 element.py:619(__init__)\n",
      "    830/1    0.013    0.000    0.850    0.850 element.py:623(render)\n",
      "     3595    0.006    0.000    0.107    0.000 element.py:80(get_name)\n",
      "        1    0.000    0.000    0.850    0.850 elements.py:10(render)\n",
      "     1711    0.002    0.000    0.002    0.000 encoder.py:105(__init__)\n",
      "     1712    0.006    0.000    0.037    0.000 encoder.py:183(encode)\n",
      "     1709    0.029    0.000    0.030    0.000 encoder.py:205(iterencode)\n",
      "       35    0.000    0.000    0.000    0.000 enum.py:1226(value)\n",
      "       35    0.000    0.000    0.000    0.000 enum.py:188(__get__)\n",
      "        5    0.000    0.000    0.000    0.000 env.py:117(__init__)\n",
      "        5    0.000    0.000    0.000    0.000 env.py:209(credentialize)\n",
      "        5    0.000    0.000    0.007    0.001 env.py:231(__enter__)\n",
      "        5    0.000    0.000    0.000    0.000 env.py:241(<setcomp>)\n",
      "        5    0.000    0.000    0.000    0.000 env.py:260(__exit__)\n",
      "        5    0.000    0.000    0.007    0.001 env.py:279(defenv)\n",
      "        5    0.000    0.000    0.000    0.000 env.py:305(setenv)\n",
      "        5    0.000    0.000    0.000    0.000 env.py:314(hascreds)\n",
      "       10    0.000    0.000    0.000    0.000 env.py:315(<genexpr>)\n",
      "        5    0.000    0.000    0.000    0.000 env.py:318(delenv)\n",
      "        5    0.000    0.000    0.000    0.000 env.py:330(__init__)\n",
      "        5    0.000    0.000    0.000    0.000 env.py:333(__enter__)\n",
      "        5    0.000    0.000    0.000    0.000 env.py:336(__exit__)\n",
      "        5    0.000    0.000    0.000    0.000 env.py:340(env_ctx_if_needed)\n",
      "        5    0.000    0.000    0.005    0.001 env.py:405(wrapper)\n",
      "      869    0.003    0.000    0.634    0.001 environment.py:1086(from_string)\n",
      "      869    0.002    0.000    0.002    0.000 environment.py:1107(make_globals)\n",
      "      869    0.004    0.000    0.638    0.001 environment.py:1161(__new__)\n",
      "      869    0.003    0.000    0.020    0.000 environment.py:1210(from_code)\n",
      "      869    0.003    0.000    0.004    0.000 environment.py:1241(_from_namespace)\n",
      "   954/37    0.002    0.000    0.060    0.002 environment.py:1269(render)\n",
      "      954    0.001    0.000    0.030    0.000 environment.py:1375(new_context)\n",
      "     2490    0.001    0.000    0.001    0.000 environment.py:1423(_get_default_module)\n",
      "     2490    0.002    0.000    0.003    0.000 environment.py:1464(module)\n",
      "        2    0.000    0.000    0.000    0.000 environment.py:1489(is_up_to_date)\n",
      "      869    0.001    0.000    0.007    0.000 environment.py:452(lexer)\n",
      "     2607    0.005    0.000    0.009    0.000 environment.py:457(iter_extensions)\n",
      "      144    0.000    0.000    0.000    0.000 environment.py:461(getitem)\n",
      "     5861    0.003    0.000    0.005    0.000 environment.py:480(getattr)\n",
      "      869    0.003    0.000    0.183    0.000 environment.py:613(_parse)\n",
      "      869    0.002    0.000    0.006    0.000 environment.py:640(preprocess)\n",
      "      869    0.003    0.000    0.106    0.000 environment.py:656(_tokenize)\n",
      "      869    0.002    0.000    0.266    0.000 environment.py:677(_generate)\n",
      "      869    0.001    0.000    0.155    0.000 environment.py:698(_compile)\n",
      "      869    0.004    0.000    0.608    0.001 environment.py:728(compile)\n",
      "        1    0.000    0.000    0.003    0.003 environment.py:893(list_templates)\n",
      "        1    0.000    0.000    0.000    0.000 environment.py:926(<listcomp>)\n",
      "        2    0.000    0.000    0.000    0.000 environment.py:950(_load_template)\n",
      "        2    0.000    0.000    0.000    0.000 environment.py:975(get_template)\n",
      "       10    0.000    0.000    0.000    0.000 exceptions.py:19(clear)\n",
      "       59    0.000    0.000    0.001    0.000 expressions.py:225(evaluate)\n",
      "       59    0.000    0.000    0.001    0.000 expressions.py:64(_evaluate_standard)\n",
      "        5    0.000    0.000    0.000    0.000 file.py:145(_expand_user)\n",
      "        5    0.000    0.000    0.000    0.000 file.py:154(_is_url)\n",
      "        5    0.000    0.000    0.000    0.000 file.py:162(_is_zip)\n",
      "        5    0.000    0.000    0.562    0.112 file.py:172(_read_file)\n",
      "        5    0.004    0.001    0.561    0.112 file.py:270(_read_file_fiona)\n",
      "       10    0.000    0.000    0.000    0.000 file.py:32(_import_fiona)\n",
      "        5    0.000    0.000    0.000    0.000 file.py:352(<listcomp>)\n",
      "        5    0.000    0.000    0.000    0.000 file.py:77(_check_fiona)\n",
      "        5    0.000    0.000    0.000    0.000 file.py:94(_check_engine)\n",
      "     1700    0.005    0.000    0.064    0.000 filters.py:1662(do_tojson)\n",
      "     1817    0.002    0.000    0.002    0.000 flags.py:49(__init__)\n",
      "     1701    0.001    0.000    0.001    0.000 flags.py:53(allows_duplicate_labels)\n",
      "     1701    0.002    0.000    0.002    0.000 flags.py:85(allows_duplicate_labels)\n",
      "        1    0.000    0.000    0.004    0.004 folium.py:214(__init__)\n",
      "        1    0.000    0.000    0.851    0.851 folium.py:338(render)\n",
      "        1    0.000    0.000    0.000    0.000 folium.py:62(__init__)\n",
      "        3    0.000    0.000    0.000    0.000 format.py:190(_check_version)\n",
      "        3    0.000    0.000    0.000    0.000 format.py:217(read_magic)\n",
      "        3    0.000    0.000    0.000    0.000 format.py:282(descr_to_dtype)\n",
      "        3    0.000    0.000    0.001    0.000 format.py:533(_filter_header)\n",
      "        3    0.000    0.000    0.001    0.000 format.py:568(_read_array_header)\n",
      "        9    0.000    0.000    0.000    0.000 format.py:611(<genexpr>)\n",
      "        3    0.000    0.000    0.004    0.001 format.py:697(read_array)\n",
      "        9    0.000    0.000    0.000    0.000 format.py:891(_read_bytes)\n",
      "       12    0.000    0.000    0.001    0.000 formatters.py:217(catch_format_error)\n",
      "       11    0.000    0.000    0.000    0.000 formatters.py:271(_get_type)\n",
      "        9    0.000    0.000    0.000    0.000 formatters.py:328(__call__)\n",
      "       11    0.000    0.000    0.000    0.000 formatters.py:356(_check_return)\n",
      "       11    0.000    0.000    0.000    0.000 formatters.py:371(lookup)\n",
      "       11    0.000    0.000    0.000    0.000 formatters.py:394(lookup_by_type)\n",
      "       22    0.000    0.000    0.000    0.000 formatters.py:550(_in_deferred_types)\n",
      "        1    0.000    0.000    0.000    0.000 formatters.py:693(__call__)\n",
      "        1    0.000    0.000    0.000    0.000 formatters.py:828(_check_return)\n",
      "        1    0.000    0.000    0.001    0.001 formatters.py:88(format)\n",
      "        1    0.000    0.000    0.000    0.000 formatters.py:905(__call__)\n",
      "        1    0.000    0.000    0.000    0.000 formatters.py:942(_check_return)\n",
      "        1    0.000    0.000    0.000    0.000 formatters.py:951(__call__)\n",
      "        4    0.000    0.000    0.064    0.016 frame.py:11651(values)\n",
      "       12    0.000    0.000    0.000    0.000 frame.py:11999(_reindex_for_setitem)\n",
      "      812    0.004    0.000    0.195    0.000 frame.py:1364(iterrows)\n",
      "      119    0.000    0.000    0.000    0.000 frame.py:1496(__len__)\n",
      "      335    0.001    0.000    0.019    0.000 frame.py:3700(_ixs)\n",
      "       58    0.000    0.000    0.000    0.000 frame.py:3734(_get_column_array)\n",
      "  605/599    0.004    0.000    0.085    0.000 frame.py:3755(__getitem__)\n",
      "      148    0.001    0.000    0.053    0.000 frame.py:3829(_getitem_bool_array)\n",
      "       19    0.000    0.000    0.006    0.000 frame.py:3952(__setitem__)\n",
      "       15    0.000    0.000    0.002    0.000 frame.py:4129(_iset_item_mgr)\n",
      "       19    0.000    0.000    0.003    0.000 frame.py:4136(_set_item_mgr)\n",
      "       19    0.000    0.000    0.006    0.000 frame.py:4161(_set_item)\n",
      "       20    0.000    0.000    0.001    0.000 frame.py:4223(_ensure_valid_index)\n",
      "      335    0.001    0.000    0.010    0.000 frame.py:4246(_box_col_values)\n",
      "      107    0.000    0.000    0.000    0.000 frame.py:4260(_clear_item_cache)\n",
      "      457    0.002    0.000    0.021    0.000 frame.py:4263(_get_item_cache)\n",
      "        1    0.000    0.000    0.000    0.000 frame.py:4745(insert)\n",
      "       20    0.000    0.000    0.002    0.000 frame.py:4881(_sanitize_column)\n",
      "        1    0.000    0.000    0.000    0.000 frame.py:5633(pop)\n",
      "      184    0.000    0.000    0.000    0.000 frame.py:598(_constructor)\n",
      "      196    0.001    0.000    0.024    0.000 frame.py:607(__init__)\n",
      "        1    0.000    0.000    0.001    0.001 frame.py:6117(reset_index)\n",
      "        1    0.000    0.000    0.000    0.000 frame.py:8254(groupby)\n",
      "      236    0.000    0.000    0.000    0.000 frame.py:855(axes)\n",
      "       60    0.000    0.000    0.000    0.000 frame.py:872(shape)\n",
      "        1    0.000    0.000    0.006    0.006 frame.py:9103(melt)\n",
      "        1    0.000    0.000    0.000    0.000 frame.py:949(_values)\n",
      "       10    0.000    0.000    0.000    0.000 fromnumeric.py:1008(_argsort_dispatcher)\n",
      "       10    0.000    0.000    0.000    0.000 fromnumeric.py:1012(argsort)\n",
      "       62    0.000    0.000    0.000    0.000 fromnumeric.py:1219(_argmin_dispatcher)\n",
      "       62    0.000    0.000    0.000    0.000 fromnumeric.py:1223(argmin)\n",
      "        8    0.000    0.000    0.000    0.000 fromnumeric.py:1751(_ravel_dispatcher)\n",
      "        8    0.000    0.000    0.000    0.000 fromnumeric.py:1755(ravel)\n",
      "        1    0.000    0.000    0.000    0.000 fromnumeric.py:2401(_all_dispatcher)\n",
      "        1    0.000    0.000    0.000    0.000 fromnumeric.py:2406(all)\n",
      "        3    0.000    0.000    0.000    0.000 fromnumeric.py:2922(_prod_dispatcher)\n",
      "        3    0.000    0.000    0.000    0.000 fromnumeric.py:2927(prod)\n",
      "       58    0.000    0.000    0.000    0.000 fromnumeric.py:3117(_ndim_dispatcher)\n",
      "       58    0.000    0.000    0.000    0.000 fromnumeric.py:3121(ndim)\n",
      "       72    0.000    0.000    0.000    0.000 fromnumeric.py:51(_wrapfunc)\n",
      "        4    0.000    0.000    0.000    0.000 fromnumeric.py:69(_wrapreduction)\n",
      "        4    0.000    0.000    0.000    0.000 fromnumeric.py:70(<dictcomp>)\n",
      "        1    0.000    0.000    0.000    0.000 frozen.py:70(__getitem__)\n",
      "       65    0.000    0.000    0.000    0.000 function.py:56(__call__)\n",
      "       10    0.000    0.000    0.000    0.000 function_base.py:4995(_delete_dispatcher)\n",
      "       10    0.000    0.000    0.000    0.000 function_base.py:4999(delete)\n",
      "        5    0.000    0.000    0.000    0.000 function_base.py:5191(_insert_dispatcher)\n",
      "        5    0.000    0.000    0.000    0.000 function_base.py:5195(insert)\n",
      "        8    0.000    0.000    0.000    0.000 function_base.py:5385(_append_dispatcher)\n",
      "        8    0.000    0.000    0.000    0.000 function_base.py:5389(append)\n",
      "        3    0.000    0.000    0.000    0.000 generic.py:11108(_logical_func)\n",
      "        3    0.000    0.000    0.000    0.000 generic.py:11166(any)\n",
      "        3    0.000    0.000    0.000    0.000 generic.py:11443(_min_count_stat_function)\n",
      "        3    0.000    0.000    0.000    0.000 generic.py:11492(sum)\n",
      "        3    0.000    0.000    0.000    0.000 generic.py:11598(any)\n",
      "        3    0.000    0.000    0.000    0.000 generic.py:11777(sum)\n",
      "       58    0.001    0.000    0.017    0.000 generic.py:12068(_inplace_method)\n",
      "       58    0.000    0.000    0.017    0.000 generic.py:12094(__iadd__)\n",
      "       58    0.000    0.000    0.001    0.000 generic.py:1390(_indexed_same)\n",
      "      116    0.000    0.000    0.000    0.000 generic.py:1392(<genexpr>)\n",
      "        1    0.000    0.000    0.000    0.000 generic.py:1516(__invert__)\n",
      "        2    0.000    0.000    0.000    0.000 generic.py:1754(_check_label_or_level_ambiguity)\n",
      "        2    0.000    0.000    0.000    0.000 generic.py:1775(<genexpr>)\n",
      "       23    0.000    0.000    0.000    0.000 generic.py:1997(__contains__)\n",
      "     1817    0.007    0.000    0.009    0.000 generic.py:259(__init__)\n",
      "     1701    0.001    0.000    0.001    0.000 generic.py:332(attrs)\n",
      "     3402    0.001    0.000    0.001    0.000 generic.py:353(flags)\n",
      "        1    0.000    0.000    0.003    0.003 generic.py:3778(take)\n",
      "      153    0.001    0.000    0.040    0.000 generic.py:3873(_take)\n",
      "      152    0.001    0.000    0.042    0.000 generic.py:3894(_take_with_is_copy)\n",
      "       58    0.000    0.000    0.006    0.000 generic.py:3908(xs)\n",
      "    11009    0.007    0.000    0.009    0.000 generic.py:40(_check)\n",
      "      151    0.000    0.000    0.000    0.000 generic.py:4114(_set_is_copy)\n",
      "       19    0.000    0.000    0.000    0.000 generic.py:4137(_check_setitem_copy)\n",
      "        1    0.000    0.000    0.000    0.000 generic.py:4215(__delitem__)\n",
      "        1    0.000    0.000    0.000    0.000 generic.py:4255(_check_inplace_and_allows_duplicate_labels)\n",
      "        9    0.000    0.000    0.000    0.000 generic.py:445(_validate_dtype)\n",
      "    11009    0.007    0.000    0.017    0.000 generic.py:45(_instancecheck)\n",
      "        3    0.000    0.000    0.001    0.000 generic.py:5044(reindex)\n",
      "        3    0.000    0.000    0.000    0.000 generic.py:518(_construct_axes_from_arguments)\n",
      "        6    0.000    0.000    0.000    0.000 generic.py:5277(<genexpr>)\n",
      "        1    0.000    0.000    0.000    0.000 generic.py:5293(_reindex_axes)\n",
      "        1    0.000    0.000    0.000    0.000 generic.py:5332(_reindex_with_indexers)\n",
      "        3    0.000    0.000    0.000    0.000 generic.py:547(<dictcomp>)\n",
      "     1241    0.001    0.000    0.001    0.000 generic.py:550(_get_axis_number)\n",
      "        1    0.000    0.000    0.003    0.003 generic.py:5626(sample)\n",
      "     1017    0.001    0.000    0.002    0.000 generic.py:564(_get_axis)\n",
      "      154    0.000    0.000    0.000    0.000 generic.py:570(_get_block_manager_axis)\n",
      "     1701    0.011    0.000    0.018    0.000 generic.py:5844(__finalize__)\n",
      "2875/2870    0.007    0.000    0.045    0.000 generic.py:5888(__getattr__)\n",
      "     2515    0.007    0.000    0.025    0.000 generic.py:5904(__setattr__)\n",
      "      161    0.000    0.000    0.002    0.000 generic.py:5959(_protect_consolidate)\n",
      "      161    0.000    0.000    0.002    0.000 generic.py:5973(_consolidate_inplace)\n",
      "      161    0.000    0.000    0.001    0.000 generic.py:5977(f)\n",
      "        3    0.000    0.000    0.001    0.000 generic.py:6045(dtypes)\n",
      "        1    0.000    0.000    0.000    0.000 generic.py:6076(astype)\n",
      "       34    0.000    0.000    0.003    0.000 generic.py:6258(copy)\n",
      "     1166    0.001    0.000    0.002    0.000 generic.py:640(_info_axis)\n",
      "      119    0.000    0.000    0.000    0.000 generic.py:664(ndim)\n",
      "        3    0.000    0.000    0.000    0.000 generic.py:7765(isna)\n",
      "        1    0.000    0.000    0.000    0.000 generic.py:821(_set_axis)\n",
      "        1    0.000    0.000    0.000    0.000 generic.py:922(pop)\n",
      "13921/5382    0.032    0.000    0.047    0.000 geo.py:26(_is_coordinates_empty)\n",
      "     5382    0.021    0.000    0.189    0.000 geo.py:67(shape)\n",
      "        7    0.000    0.000    0.055    0.008 geodataframe.py:133(__init__)\n",
      "  131/125    0.001    0.000    0.014    0.000 geodataframe.py:1409(__getitem__)\n",
      "       14    0.000    0.000    0.005    0.000 geodataframe.py:1430(__setitem__)\n",
      "        2    0.000    0.000    0.000    0.000 geodataframe.py:1512(_constructor)\n",
      "      109    0.000    0.000    0.000    0.000 geodataframe.py:1516(_constructor_sliced)\n",
      "      913    0.004    0.000    0.124    0.000 geodataframe.py:1518(_geodataframe_constructor_sliced)\n",
      "        2    0.000    0.000    0.000    0.000 geodataframe.py:1542(__finalize__)\n",
      "       16    0.000    0.000    0.000    0.000 geodataframe.py:197(__setattr__)\n",
      "       19    0.000    0.000    0.001    0.000 geodataframe.py:204(_get_geometry)\n",
      "        7    0.000    0.000    0.014    0.002 geodataframe.py:244(set_geometry)\n",
      "        2    0.000    0.000    0.004    0.002 geodataframe.py:26(_geodataframe_constructor_with_fallback)\n",
      "       19    0.000    0.000    0.001    0.000 geodataframe.py:396(crs)\n",
      "       28    0.000    0.000    0.021    0.001 geodataframe.py:40(_ensure_geometry)\n",
      "        5    0.244    0.049    0.511    0.102 geodataframe.py:558(from_features)\n",
      "     6412    0.002    0.000    0.002    0.000 geos.py:607(errcheck_predicate)\n",
      "       23    0.000    0.000    0.002    0.000 geoseries.py:154(__init__)\n",
      "       69    0.000    0.000    0.000    0.000 geoseries.py:237(geometry)\n",
      "       10    0.000    0.000    0.001    0.000 groupby.py:673(indices)\n",
      "        3    0.000    0.000    0.000    0.000 groupby.py:681(_get_indices)\n",
      "        6    0.000    0.000    0.000    0.000 groupby.py:688(get_converter)\n",
      "        6    0.000    0.000    0.000    0.000 groupby.py:696(<lambda>)\n",
      "        3    0.000    0.000    0.000    0.000 groupby.py:723(<listcomp>)\n",
      "        9    0.000    0.000    0.000    0.000 groupby.py:724(<genexpr>)\n",
      "        3    0.000    0.000    0.000    0.000 groupby.py:730(<listcomp>)\n",
      "        3    0.000    0.000    0.000    0.000 groupby.py:732(_get_index)\n",
      "        1    0.000    0.000    0.000    0.000 groupby.py:739(_selected_obj)\n",
      "        3    0.000    0.000    0.001    0.000 groupby.py:788(get_group)\n",
      "        1    0.000    0.000    0.000    0.000 groupby.py:916(__init__)\n",
      "        1    0.000    0.000    0.000    0.000 groupby.py:975(__getattr__)\n",
      "    44/27    0.000    0.000    0.001    0.000 groupby.py:985(__getattribute__)\n",
      "        2    0.000    0.000    0.000    0.000 grouper.py:467(__init__)\n",
      "        2    0.000    0.000    0.000    0.000 grouper.py:569(name)\n",
      "        2    0.000    0.000    0.000    0.000 grouper.py:587(_ilevel)\n",
      "        2    0.000    0.000    0.000    0.000 grouper.py:615(codes)\n",
      "        2    0.000    0.000    0.000    0.000 grouper.py:649(group_index)\n",
      "        2    0.000    0.000    0.000    0.000 grouper.py:658(_codes_and_uniques)\n",
      "        1    0.000    0.000    0.000    0.000 grouper.py:702(get_grouper)\n",
      "        3    0.000    0.000    0.000    0.000 grouper.py:804(<genexpr>)\n",
      "        3    0.000    0.000    0.000    0.000 grouper.py:805(<genexpr>)\n",
      "        3    0.000    0.000    0.000    0.000 grouper.py:806(<genexpr>)\n",
      "        2    0.000    0.000    0.000    0.000 grouper.py:840(is_in_axis)\n",
      "        2    0.000    0.000    0.000    0.000 grouper.py:857(is_in_obj)\n",
      "        2    0.000    0.000    0.000    0.000 grouper.py:927(_is_label_like)\n",
      "        2    0.000    0.000    0.000    0.000 grouper.py:931(_convert_grouper)\n",
      "        8    0.000    0.000    0.000    0.000 hmac.py:117(update)\n",
      "        2    0.000    0.000    0.000    0.000 hmac.py:122(copy)\n",
      "        2    0.000    0.000    0.000    0.000 hmac.py:139(_current)\n",
      "        2    0.000    0.000    0.000    0.000 hmac.py:161(hexdigest)\n",
      "      869    0.001    0.000    0.001    0.000 idtracking.py:175(__init__)\n",
      "      869    0.002    0.000    0.023    0.000 idtracking.py:178(_simple_visit)\n",
      "      869    0.000    0.000    0.000    0.000 idtracking.py:235(__init__)\n",
      "      869    0.001    0.000    0.001    0.000 idtracking.py:31(__init__)\n",
      "      869    0.002    0.000    0.030    0.000 idtracking.py:46(analyze_node)\n",
      "     5604    0.002    0.000    0.002    0.000 impl.py:56(__getitem__)\n",
      "      188    0.001    0.000    0.003    0.000 importers.py:23(__getattr__)\n",
      "  243/185    0.001    0.000    0.029    0.000 indexing.py:1059(__getitem__)\n",
      "      177    0.000    0.000    0.000    0.000 indexing.py:1063(<genexpr>)\n",
      "      177    0.000    0.000    0.000    0.000 indexing.py:1064(<genexpr>)\n",
      "       58    0.000    0.000    0.010    0.000 indexing.py:1087(_getbool_axis)\n",
      "       58    0.000    0.000    0.000    0.000 indexing.py:1108(_validate_key)\n",
      "       58    0.000    0.000    0.000    0.000 indexing.py:1127(_has_valid_setitem_indexer)\n",
      "       58    0.000    0.000    0.000    0.000 indexing.py:1130(_is_scalar_access)\n",
      "       58    0.000    0.000    0.022    0.000 indexing.py:1244(_getitem_tuple)\n",
      "       58    0.000    0.000    0.006    0.000 indexing.py:1258(_get_label)\n",
      "      116    0.001    0.000    0.019    0.000 indexing.py:1276(_getitem_axis)\n",
      "      116    0.001    0.000    0.006    0.000 indexing.py:1333(_convert_to_indexer)\n",
      "      186    0.000    0.000    0.000    0.000 indexing.py:139(iloc)\n",
      "        2    0.000    0.000    0.000    0.000 indexing.py:1448(_validate_key)\n",
      "        1    0.000    0.000    0.000    0.000 indexing.py:1524(_is_scalar_access)\n",
      "        2    0.000    0.000    0.000    0.000 indexing.py:1537(<genexpr>)\n",
      "      126    0.000    0.000    0.001    0.000 indexing.py:1539(_validate_integer)\n",
      "        1    0.000    0.000    0.001    0.001 indexing.py:1561(_getitem_tuple)\n",
      "        1    0.000    0.000    0.001    0.001 indexing.py:1569(_get_list_axis)\n",
      "      127    0.001    0.000    0.005    0.000 indexing.py:1592(_getitem_axis)\n",
      "       58    0.001    0.000    0.032    0.001 indexing.py:1658(_setitem_with_indexer)\n",
      "       58    0.001    0.000    0.030    0.001 indexing.py:1799(_setitem_with_indexer_split_path)\n",
      "       58    0.001    0.000    0.010    0.000 indexing.py:1957(_setitem_single_column)\n",
      "       58    0.000    0.000    0.000    0.000 indexing.py:2185(_ensure_iterable_column_indexer)\n",
      "       58    0.001    0.000    0.013    0.000 indexing.py:2202(_align_series)\n",
      "      116    0.000    0.000    0.000    0.000 indexing.py:2225(ravel)\n",
      "       58    0.000    0.000    0.000    0.000 indexing.py:2230(<listcomp>)\n",
      "      174    0.000    0.000    0.000    0.000 indexing.py:2247(<genexpr>)\n",
      "      167    0.000    0.000    0.000    0.000 indexing.py:2488(convert_to_index_sliceable)\n",
      "      265    0.001    0.000    0.017    0.000 indexing.py:2522(check_bool_indexer)\n",
      "       58    0.000    0.000    0.000    0.000 indexing.py:2612(is_nested_tuple)\n",
      "      118    0.000    0.000    0.000    0.000 indexing.py:2629(is_label_like)\n",
      "     1935    0.004    0.000    0.006    0.000 indexing.py:2656(check_deprecated_indexers)\n",
      "      351    0.000    0.000    0.000    0.000 indexing.py:2661(<genexpr>)\n",
      "      351    0.000    0.000    0.000    0.000 indexing.py:2672(<genexpr>)\n",
      "      116    0.000    0.000    0.000    0.000 indexing.py:278(loc)\n",
      "       58    0.001    0.000    0.008    0.000 indexing.py:672(_get_setitem_indexer)\n",
      "       58    0.000    0.000    0.001    0.000 indexing.py:705(_maybe_mask_setitem_value)\n",
      "       58    0.000    0.000    0.000    0.000 indexing.py:770(_ensure_listlike_indexer)\n",
      "       58    0.001    0.000    0.042    0.001 indexing.py:806(__setitem__)\n",
      "      174    0.000    0.000    0.000    0.000 indexing.py:810(<genexpr>)\n",
      "      174    0.000    0.000    0.000    0.000 indexing.py:811(<genexpr>)\n",
      "       59    0.000    0.000    0.000    0.000 indexing.py:842(_expand_ellipsis)\n",
      "      177    0.000    0.000    0.000    0.000 indexing.py:848(<genexpr>)\n",
      "        1    0.000    0.000    0.000    0.000 indexing.py:864(_validate_tuple_indexer)\n",
      "       59    0.000    0.000    0.000    0.000 indexing.py:881(_is_nested_tuple_indexer)\n",
      "      177    0.000    0.000    0.000    0.000 indexing.py:888(<genexpr>)\n",
      "       58    0.000    0.000    0.006    0.000 indexing.py:892(_convert_tuple)\n",
      "       58    0.000    0.000    0.006    0.000 indexing.py:896(<listcomp>)\n",
      "      118    0.000    0.000    0.000    0.000 indexing.py:899(_validate_key_length)\n",
      "        1    0.000    0.000    0.001    0.001 indexing.py:911(_getitem_tuple_same_dim)\n",
      "       59    0.001    0.000    0.021    0.000 indexing.py:931(_getitem_lowerdim)\n",
      "        9    0.000    0.000    0.000    0.000 inference.py:102(is_file_like)\n",
      "     1049    0.001    0.000    0.003    0.000 inference.py:188(is_array_like)\n",
      "       29    0.000    0.000    0.000    0.000 inference.py:266(is_dict_like)\n",
      "      100    0.000    0.000    0.000    0.000 inference.py:292(<genexpr>)\n",
      "        5    0.000    0.000    0.000    0.000 inference.py:298(is_named_tuple)\n",
      "     3825    0.003    0.000    0.004    0.000 inference.py:325(is_hashable)\n",
      "      174    0.000    0.000    0.000    0.000 inference.py:363(is_sequence)\n",
      "        5    0.000    0.000    0.000    0.000 inference.py:394(is_dataclass)\n",
      "        4    0.000    0.000    0.000    0.000 inference.py:77(iterable_not_string)\n",
      "       51    0.000    0.000    0.000    0.000 inspect.py:2729(name)\n",
      "      134    0.000    0.000    0.000    0.000 inspect.py:2741(kind)\n",
      "       12    0.000    0.000    0.000    0.000 inspect.py:2821(__init__)\n",
      "       12    0.000    0.000    0.000    0.000 inspect.py:2829(args)\n",
      "       12    0.000    0.000    0.000    0.000 inspect.py:2852(kwargs)\n",
      "       12    0.000    0.000    0.000    0.000 inspect.py:2882(apply_defaults)\n",
      "       12    0.000    0.000    0.000    0.000 inspect.py:292(isclass)\n",
      "       48    0.000    0.000    0.000    0.000 inspect.py:3024(parameters)\n",
      "       12    0.000    0.000    0.000    0.000 inspect.py:3068(_bind)\n",
      "       12    0.000    0.000    0.000    0.000 inspect.py:3199(bind)\n",
      "        5    0.000    0.000    0.000    0.000 io.py:39(check_shapely_version)\n",
      "        5    0.009    0.002    0.010    0.002 io.py:476(from_shapely)\n",
      "       11    0.000    0.000    0.000    0.000 iostream.py:202(schedule)\n",
      "        2    0.000    0.000    0.000    0.000 iostream.py:214(send_multipart)\n",
      "        2    0.000    0.000    0.000    0.000 iostream.py:283(send_multipart)\n",
      "        6    0.000    0.000    0.000    0.000 iostream.py:437(_is_master_process)\n",
      "        6    0.000    0.000    0.000    0.000 iostream.py:456(_schedule_flush)\n",
      "        4    0.000    0.000    0.002    0.001 iostream.py:471(flush)\n",
      "        6    0.000    0.000    0.000    0.000 iostream.py:526(write)\n",
      "       11    0.000    0.000    0.000    0.000 iostream.py:90(_event_pipe)\n",
      "        4    0.000    0.000    0.000    0.000 jsonutil.py:108(json_default)\n",
      "        4    0.000    0.000    0.000    0.000 jsonutil.py:39(_ensure_tzinfo)\n",
      "        2    0.000    0.000    0.000    0.000 jsonutil.py:52(encode_images)\n",
      "        2    0.000    0.000    0.000    0.000 jsonutil.py:77(json_clean)\n",
      "      869    0.003    0.000    0.085    0.000 lexer.py:323(__init__)\n",
      "     1738    0.001    0.000    0.001    0.000 lexer.py:340(__bool__)\n",
      "     1738    0.004    0.000    0.096    0.000 lexer.py:378(__next__)\n",
      "      869    0.002    0.000    0.003    0.000 lexer.py:395(close)\n",
      "      869    0.002    0.000    0.006    0.000 lexer.py:426(get_lexer)\n",
      "      869    0.001    0.000    0.008    0.000 lexer.py:596(_normalize_newlines)\n",
      "      869    0.002    0.000    0.087    0.000 lexer.py:602(tokenize)\n",
      "     1738    0.005    0.000    0.086    0.000 lexer.py:613(wrap)\n",
      "     1738    0.012    0.000    0.072    0.000 lexer.py:667(tokeniter)\n",
      "      761    0.001    0.000    0.038    0.000 linestring.py:107(__array_interface__)\n",
      "     1522    0.002    0.000    0.002    0.000 linestring.py:116(_get_coords)\n",
      "     3157    0.009    0.000    0.066    0.000 linestring.py:28(__init__)\n",
      "      761    0.001    0.000    0.035    0.000 linestring.py:91(_array_interface)\n",
      "        2    0.000    0.000    0.000    0.000 loaders.py:351(up_to_date)\n",
      "        1    0.000    0.000    0.003    0.003 loaders.py:368(list_templates)\n",
      "       36    0.000    0.000    0.000    0.000 loaders.py:377(<genexpr>)\n",
      "        5    0.000    0.000    0.000    0.000 logutils.py:12(__init__)\n",
      "      186    0.000    0.000    0.001    0.000 managers.py:1050(from_blocks)\n",
      "      393    0.003    0.000    0.005    0.000 managers.py:1116(iget)\n",
      "       58    0.000    0.000    0.000    0.000 managers.py:1128(iget_values)\n",
      "       73    0.001    0.000    0.004    0.000 managers.py:1168(iset)\n",
      "       10    0.000    0.000    0.000    0.000 managers.py:1290(<genexpr>)\n",
      "       68    0.000    0.000    0.001    0.000 managers.py:1324(_iset_single)\n",
      "       58    0.000    0.000    0.008    0.000 managers.py:1353(column_setitem)\n",
      "        5    0.000    0.000    0.002    0.000 managers.py:1372(insert)\n",
      "       17    0.000    0.000    0.000    0.000 managers.py:1413(<genexpr>)\n",
      "        4    0.000    0.000    0.000    0.000 managers.py:1423(_insert_update_mgr_locs)\n",
      "        4    0.000    0.000    0.000    0.000 managers.py:1433(_insert_update_blklocs_and_blknos)\n",
      "        1    0.000    0.000    0.000    0.000 managers.py:1455(idelete)\n",
      "      691    0.000    0.000    0.000    0.000 managers.py:169(blknos)\n",
      "        4    0.000    0.000    0.064    0.016 managers.py:1697(as_array)\n",
      "        4    0.000    0.000    0.064    0.016 managers.py:1758(_interleave)\n",
      "        4    0.000    0.000    0.000    0.000 managers.py:1772(<listcomp>)\n",
      "      202    0.000    0.000    0.001    0.000 managers.py:1822(is_consolidated)\n",
      "       81    0.000    0.000    0.001    0.000 managers.py:1830(_consolidate_check)\n",
      "       78    0.000    0.000    0.001    0.000 managers.py:1836(<listcomp>)\n",
      "       44    0.000    0.000    0.002    0.000 managers.py:1840(_consolidate_inplace)\n",
      "      673    0.000    0.000    0.000    0.000 managers.py:185(blklocs)\n",
      "        4    0.000    0.000    0.000    0.000 managers.py:1858(ndim)\n",
      "     1636    0.002    0.000    0.002    0.000 managers.py:1867(__init__)\n",
      "       63    0.000    0.000    0.000    0.000 managers.py:1891(from_blocks)\n",
      "     1179    0.004    0.000    0.027    0.000 managers.py:1907(from_array)\n",
      "     1574    0.001    0.000    0.001    0.000 managers.py:1979(_block)\n",
      "        1    0.000    0.000    0.000    0.000 managers.py:1993(getitem_mgr)\n",
      "        1    0.000    0.000    0.000    0.000 managers.py:2022(index)\n",
      "     3161    0.008    0.000    0.009    0.000 managers.py:2026(dtype)\n",
      "       91    0.000    0.000    0.000    0.000 managers.py:2033(external_values)\n",
      "     1908    0.002    0.000    0.002    0.000 managers.py:2037(internal_values)\n",
      "       11    0.000    0.000    0.003    0.000 managers.py:2148(create_block_manager_from_column_arrays)\n",
      "       49    0.000    0.000    0.000    0.000 managers.py:2203(_grouping_func)\n",
      "       11    0.000    0.000    0.001    0.000 managers.py:2219(_form_blocks)\n",
      "     1223    0.002    0.000    0.007    0.000 managers.py:225(set_axis)\n",
      "       30    0.000    0.000    0.000    0.000 managers.py:2271(_stack_arrays)\n",
      "        8    0.000    0.000    0.002    0.000 managers.py:2285(_consolidate)\n",
      "       60    0.000    0.000    0.000    0.000 managers.py:2290(<lambda>)\n",
      "       64    0.000    0.000    0.000    0.000 managers.py:230(is_single_block)\n",
      "       18    0.000    0.000    0.001    0.000 managers.py:2327(_merge_blocks)\n",
      "       10    0.000    0.000    0.000    0.000 managers.py:2338(<listcomp>)\n",
      "       10    0.000    0.000    0.000    0.000 managers.py:2347(<listcomp>)\n",
      "      227    0.000    0.000    0.000    0.000 managers.py:235(items)\n",
      "        4    0.000    0.000    0.000    0.000 managers.py:2364(_fast_count_smallints)\n",
      "        3    0.000    0.000    0.000    0.000 managers.py:2373(_preprocess_slice_or_indexer)\n",
      "      330    0.000    0.000    0.005    0.000 managers.py:2396(_using_copy_on_write)\n",
      "       15    0.000    0.000    0.000    0.000 managers.py:259(_clear_reference_block)\n",
      "        3    0.000    0.000    0.000    0.000 managers.py:266(get_dtypes)\n",
      "        3    0.000    0.000    0.000    0.000 managers.py:267(<listcomp>)\n",
      "       94    0.001    0.000    0.004    0.000 managers.py:296(apply)\n",
      "       94    0.000    0.000    0.000    0.000 managers.py:325(<dictcomp>)\n",
      "       58    0.000    0.000    0.004    0.000 managers.py:374(setitem)\n",
      "        1    0.000    0.000    0.000    0.000 managers.py:444(astype)\n",
      "       34    0.000    0.000    0.002    0.000 managers.py:611(copy)\n",
      "       64    0.000    0.000    0.001    0.000 managers.py:637(copy_func)\n",
      "       32    0.000    0.000    0.001    0.000 managers.py:640(<listcomp>)\n",
      "        2    0.000    0.000    0.000    0.000 managers.py:649(<listcomp>)\n",
      "      161    0.000    0.000    0.001    0.000 managers.py:665(consolidate)\n",
      "      155    0.001    0.000    0.020    0.000 managers.py:681(reindex_indexer)\n",
      "      153    0.001    0.000    0.015    0.000 managers.py:742(<listcomp>)\n",
      "        3    0.000    0.000    0.000    0.000 managers.py:764(_slice_take_blocks_ax0)\n",
      "      153    0.001    0.000    0.030    0.000 managers.py:934(take)\n",
      "      199    0.000    0.000    0.000    0.000 managers.py:987(__init__)\n",
      "       34    0.000    0.000    0.001    0.000 map.py:276(__init__)\n",
      "       34    0.000    0.000    0.073    0.002 map.py:303(render)\n",
      "        1    0.000    0.000    0.000    0.000 map.py:33(__init__)\n",
      "       34    0.000    0.000    0.002    0.000 map.py:348(__init__)\n",
      "       34    0.000    0.000    0.041    0.001 map.py:376(render)\n",
      "        1    0.000    0.000    0.006    0.006 melt.py:38(melt)\n",
      "        8    0.000    0.000    0.000    0.000 missing.py:107(clean_fill_method)\n",
      "      194    0.000    0.000    0.001    0.000 missing.py:108(isna)\n",
      "       59    0.000    0.000    0.000    0.000 missing.py:140(dispatch_fill_zeros)\n",
      "      194    0.000    0.000    0.001    0.000 missing.py:191(_isna)\n",
      "        5    0.000    0.000    0.000    0.000 missing.py:268(_isna_array)\n",
      "        5    0.000    0.000    0.000    0.000 missing.py:309(_isna_string_dtype)\n",
      "      221    0.001    0.000    0.004    0.000 missing.py:460(array_equivalent)\n",
      "        7    0.000    0.000    0.000    0.000 missing.py:564(_array_equivalent_object)\n",
      "      135    0.000    0.000    0.002    0.000 missing.py:641(na_value_for_dtype)\n",
      "       64    0.000    0.000    0.000    0.000 missing.py:695(is_valid_na_for_dtype)\n",
      "        8    0.000    0.000    0.000    0.000 missing.py:910(clean_reindex_fill_method)\n",
      "        1    0.000    0.000    0.000    0.000 model.py:21(__new__)\n",
      "        1    0.000    0.000    0.000    0.000 model.py:28(__init__)\n",
      "       87    0.000    0.000    0.000    0.000 multiarray.py:1071(copyto)\n",
      "       47    0.000    0.000    0.000    0.000 multiarray.py:148(concatenate)\n",
      "        4    0.000    0.000    0.000    0.000 multiarray.py:883(bincount)\n",
      "        3    0.000    0.000    0.000    0.000 nanops.py:1453(_maybe_null_out)\n",
      "        3    0.000    0.000    0.000    0.000 nanops.py:1492(check_below_min_count)\n",
      "        6    0.000    0.000    0.000    0.000 nanops.py:195(_get_fill_value)\n",
      "        6    0.000    0.000    0.000    0.000 nanops.py:217(_maybe_get_mask)\n",
      "        6    0.000    0.000    0.000    0.000 nanops.py:261(_get_values)\n",
      "        6    0.000    0.000    0.000    0.000 nanops.py:350(_na_ok_dtype)\n",
      "        3    0.000    0.000    0.000    0.000 nanops.py:403(new_func)\n",
      "        3    0.000    0.000    0.000    0.000 nanops.py:469(newfunc)\n",
      "        3    0.000    0.000    0.000    0.000 nanops.py:496(nanany)\n",
      "        3    0.000    0.000    0.000    0.000 nanops.py:588(nansum)\n",
      "        9    0.000    0.000    0.000    0.000 nanops.py:79(check)\n",
      "        3    0.000    0.000    0.000    0.000 nanops.py:83(_f)\n",
      "       12    0.000    0.000    0.000    0.000 nanops.py:86(<genexpr>)\n",
      "     2607    0.013    0.000    0.017    0.000 nodes.py:127(__init__)\n",
      "    33022    0.017    0.000    0.021    0.000 nodes.py:145(iter_fields)\n",
      "    26939    0.040    0.000    0.070    0.000 nodes.py:167(iter_child_nodes)\n",
      "      869    0.001    0.000    0.018    0.000 nodes.py:184(find)\n",
      "7821/2607    0.014    0.000    0.046    0.000 nodes.py:193(find_all)\n",
      "      869    0.005    0.000    0.020    0.000 nodes.py:229(set_environment)\n",
      "      869    0.001    0.000    0.001    0.000 nodes.py:612(as_const)\n",
      "     1823    0.002    0.000    0.002    0.000 nodes.py:74(__init__)\n",
      "      869    0.000    0.000    0.000    0.000 nodes.py:92(get_eval_context)\n",
      "        3    0.000    0.000    0.005    0.002 npyio.py:254(load)\n",
      "        2    0.000    0.000    0.000    0.000 numeric.py:115(inferred_type)\n",
      "       58    0.000    0.000    0.001    0.000 numeric.py:132(_ensure_array)\n",
      "       10    0.000    0.000    0.000    0.000 numeric.py:1347(normalize_axis_tuple)\n",
      "       10    0.000    0.000    0.000    0.000 numeric.py:1397(<listcomp>)\n",
      "        5    0.000    0.000    0.000    0.000 numeric.py:1406(_moveaxis_dispatcher)\n",
      "        5    0.000    0.000    0.000    0.000 numeric.py:1410(moveaxis)\n",
      "        5    0.000    0.000    0.000    0.000 numeric.py:1472(<listcomp>)\n",
      "        2    0.000    0.000    0.000    0.000 numeric.py:149(ones)\n",
      "       60    0.000    0.000    0.000    0.000 numeric.py:181(_validate_dtype)\n",
      "       81    0.000    0.000    0.000    0.000 numeric.py:1873(isscalar)\n",
      "       58    0.000    0.000    0.000    0.000 numeric.py:192(_ensure_dtype)\n",
      "       58    0.000    0.000    0.000    0.000 numeric.py:2398(_array_equal_dispatcher)\n",
      "       58    0.000    0.000    0.001    0.000 numeric.py:2402(array_equal)\n",
      "       85    0.000    0.000    0.001    0.000 numeric.py:289(full)\n",
      "       38    0.000    0.000    0.000    0.000 numerictypes.py:282(issubclass_)\n",
      "       19    0.000    0.000    0.000    0.000 numerictypes.py:356(issubdtype)\n",
      "       60    0.001    0.000    0.001    0.000 numerictypes.py:573(_can_coerce_all)\n",
      "      570    0.000    0.000    0.000    0.000 numerictypes.py:582(<listcomp>)\n",
      "       30    0.000    0.000    0.002    0.000 numerictypes.py:597(find_common_type)\n",
      "       30    0.000    0.000    0.000    0.000 numerictypes.py:649(<listcomp>)\n",
      "       30    0.000    0.000    0.000    0.000 numerictypes.py:650(<listcomp>)\n",
      "        3    0.000    0.000    0.001    0.000 offline.py:110(_get_jconfig)\n",
      "        1    0.000    0.000    0.000    0.000 ops.py:742(__init__)\n",
      "        3    0.000    0.000    0.000    0.000 ops.py:762(groupings)\n",
      "        1    0.000    0.000    0.001    0.001 ops.py:857(indices)\n",
      "        1    0.000    0.000    0.000    0.000 ops.py:863(<listcomp>)\n",
      "        1    0.000    0.000    0.000    0.000 ops.py:864(<listcomp>)\n",
      "      869    0.000    0.000    0.000    0.000 optimizer.py:27(__init__)\n",
      "     1142    0.001    0.000    0.001    0.000 optional_imports.py:15(get_module)\n",
      "       12    0.000    0.000    0.000    0.000 parse.py:110(_coerce_args)\n",
      "       12    0.000    0.000    0.000    0.000 parse.py:366(urlparse)\n",
      "       12    0.000    0.000    0.000    0.000 parse.py:99(_noop)\n",
      "      869    0.004    0.000    0.069    0.000 parser.py:1028(parse)\n",
      "      869    0.003    0.000    0.111    0.000 parser.py:51(__init__)\n",
      "      869    0.006    0.000    0.041    0.000 parser.py:979(subparse)\n",
      "      869    0.003    0.000    0.009    0.000 parser.py:989(flush_data)\n",
      "       10    0.000    0.000    0.000    0.000 path.py:107(parse_path)\n",
      "        5    0.000    0.000    0.000    0.000 path.py:150(vsi_path)\n",
      "        5    0.000    0.000    0.000    0.000 path.py:52(from_uri)\n",
      "       47    0.000    0.000    0.002    0.000 point.py:111(_ctypes)\n",
      "       47    0.000    0.000    0.003    0.000 point.py:124(_array_interface)\n",
      "       47    0.000    0.000    0.003    0.000 point.py:141(__array_interface__)\n",
      "      115    0.000    0.000    0.000    0.000 point.py:160(_get_coords)\n",
      "     2225    0.022    0.000    0.024    0.000 point.py:244(geos_point_from_py)\n",
      "     2225    0.008    0.000    0.051    0.000 point.py:38(__init__)\n",
      "       34    0.000    0.000    0.001    0.000 point.py:63(x)\n",
      "       34    0.000    0.000    0.002    0.000 point.py:68(y)\n",
      "     5604    0.015    0.000    0.023    0.000 predicates.py:23(__call__)\n",
      "        9    0.000    0.000    0.000    0.000 pretty.py:118(_safe_getattr)\n",
      "        1    0.000    0.000    0.000    0.000 pretty.py:201(__init__)\n",
      "        4    0.000    0.000    0.000    0.000 pretty.py:232(text)\n",
      "        3    0.000    0.000    0.000    0.000 pretty.py:280(begin_group)\n",
      "        3    0.000    0.000    0.000    0.000 pretty.py:304(end_group)\n",
      "        1    0.000    0.000    0.000    0.000 pretty.py:313(flush)\n",
      "       14    0.000    0.000    0.000    0.000 pretty.py:321(_get_mro)\n",
      "        1    0.000    0.000    0.000    0.000 pretty.py:355(__init__)\n",
      "      2/1    0.000    0.000    0.000    0.000 pretty.py:372(pretty)\n",
      "        2    0.000    0.000    0.000    0.000 pretty.py:417(_in_deferred_types)\n",
      "        4    0.000    0.000    0.000    0.000 pretty.py:482(__init__)\n",
      "        1    0.000    0.000    0.000    0.000 pretty.py:490(__init__)\n",
      "        4    0.000    0.000    0.000    0.000 pretty.py:495(enq)\n",
      "        3    0.000    0.000    0.000    0.000 pretty.py:512(remove)\n",
      "        1    0.000    0.000    0.000    0.000 pretty.py:588(_default_pprint)\n",
      "        1    0.000    0.000    0.000    0.000 pretty.py:745(_type_pprint)\n",
      "        1    0.000    0.000    0.000    0.000 pretty.py:753(<listcomp>)\n",
      "        2    0.000    0.000    0.000    0.000 py3k.py:49(isfileobj)\n",
      "        1    0.000    0.000    0.000    0.000 random.py:119(__init__)\n",
      "        1    0.000    0.000    0.000    0.000 random.py:128(seed)\n",
      "       58    0.000    0.000    0.000    0.000 random.py:517(uniform)\n",
      "        2    0.000    0.000    0.000    0.000 range.py:118(__new__)\n",
      "       47    0.000    0.000    0.000    0.000 range.py:173(_simple_new)\n",
      "        5    0.000    0.000    0.000    0.000 range.py:189(_constructor)\n",
      "        7    0.000    0.000    0.000    0.000 range.py:195(_data)\n",
      "        7    0.000    0.000    0.000    0.000 range.py:247(start)\n",
      "        7    0.000    0.000    0.000    0.000 range.py:270(stop)\n",
      "        7    0.000    0.000    0.000    0.000 range.py:293(step)\n",
      "      106    0.000    0.000    0.000    0.000 range.py:353(dtype)\n",
      "       18    0.000    0.000    0.000    0.000 range.py:378(inferred_type)\n",
      "       50    0.000    0.000    0.000    0.000 range.py:433(__iter__)\n",
      "       33    0.000    0.000    0.000    0.000 range.py:453(_view)\n",
      "        1    0.000    0.000    0.000    0.000 range.py:458(copy)\n",
      "      224    0.000    0.000    0.000    0.000 range.py:541(equals)\n",
      "     1160    0.001    0.000    0.001    0.000 range.py:946(__len__)\n",
      "       58    0.000    0.000    0.002    0.000 range.py:956(__getitem__)\n",
      "        1    0.000    0.000    0.003    0.003 raster_layers.py:77(__init__)\n",
      "       24    0.000    0.000    0.000    0.000 raster_layers.py:99(<lambda>)\n",
      "        2    0.000    0.000    0.001    0.001 readers.py:1395(__init__)\n",
      "        2    0.000    0.000    0.000    0.000 readers.py:1444(close)\n",
      "        2    0.000    0.000    0.000    0.000 readers.py:1449(_get_options_with_defaults)\n",
      "        2    0.000    0.000    0.000    0.000 readers.py:1516(_check_file_or_buffer)\n",
      "        2    0.000    0.000    0.000    0.000 readers.py:1527(_clean_options)\n",
      "        2    0.000    0.000    0.001    0.001 readers.py:1703(_make_engine)\n",
      "        2    0.000    0.000    0.005    0.003 readers.py:1762(read)\n",
      "        2    0.000    0.000    0.000    0.000 readers.py:1812(__enter__)\n",
      "        2    0.000    0.000    0.000    0.000 readers.py:1815(__exit__)\n",
      "        2    0.000    0.000    0.000    0.000 readers.py:1879(_clean_na_values)\n",
      "        2    0.000    0.000    0.000    0.000 readers.py:1954(_refine_defaults_read)\n",
      "        2    0.000    0.000    0.000    0.000 readers.py:2132(_extract_dialect)\n",
      "        2    0.000    0.000    0.000    0.000 readers.py:2230(_validate_skipfooter)\n",
      "        4    0.000    0.000    0.000    0.000 readers.py:517(validate_integer)\n",
      "        2    0.000    0.000    0.000    0.000 readers.py:547(_validate_names)\n",
      "        2    0.000    0.000    0.007    0.003 readers.py:571(_read)\n",
      "        2    0.000    0.000    0.007    0.003 readers.py:854(read_csv)\n",
      "      954    0.004    0.000    0.009    0.000 runtime.py:163(__init__)\n",
      "      954    0.000    0.000    0.000    0.000 runtime.py:182(<dictcomp>)\n",
      "     1008    0.001    0.000    0.001    0.000 runtime.py:227(resolve_or_missing)\n",
      "2865/1938    0.015    0.000    0.112    0.000 runtime.py:260(call)\n",
      "      832    0.004    0.000    0.141    0.000 runtime.py:687(__call__)\n",
      "      832    0.002    0.000    0.136    0.000 runtime.py:773(_invoke)\n",
      "      954    0.007    0.000    0.029    0.000 runtime.py:91(new_context)\n",
      "        1    0.000    0.000    0.000    0.000 sample.py:115(sample)\n",
      "        1    0.000    0.000    0.000    0.000 sample.py:78(process_sampling_size)\n",
      "        1    0.000    0.000    0.000    0.000 series.py:1068(_get_values)\n",
      "      912    0.002    0.000    0.008    0.000 series.py:1072(_get_value)\n",
      "      335    0.000    0.000    0.002    0.000 series.py:1267(_set_as_cached)\n",
      "        2    0.000    0.000    0.000    0.000 series.py:1274(_clear_item_cache)\n",
      "        4    0.000    0.000    0.001    0.000 series.py:1428(reset_index)\n",
      "        1    0.000    0.000    0.000    0.000 series.py:2183(unique)\n",
      "      271    0.001    0.000    0.040    0.000 series.py:3194(_construct_result)\n",
      "1621/1615    0.018    0.000    0.158    0.000 series.py:342(__init__)\n",
      "        6    0.000    0.000    0.001    0.000 series.py:4773(_reduce)\n",
      "        1    0.000    0.000    0.000    0.000 series.py:4835(_needs_reindex_multi)\n",
      "        3    0.000    0.000    0.002    0.001 series.py:486(_init_dict)\n",
      "        3    0.000    0.000    0.001    0.000 series.py:5077(reindex)\n",
      "      371    0.000    0.000    0.000    0.000 series.py:546(_constructor)\n",
      "       29    0.000    0.000    0.016    0.001 series.py:5490(isin)\n",
      "     1222    0.003    0.000    0.011    0.000 series.py:565(_set_axis)\n",
      "        3    0.000    0.000    0.000    0.000 series.py:5707(isna)\n",
      "     3161    0.002    0.000    0.012    0.000 series.py:596(dtype)\n",
      "     2400    0.005    0.000    0.008    0.000 series.py:611(name)\n",
      "      182    0.002    0.000    0.044    0.000 series.py:6233(_cmp_method)\n",
      "       31    0.000    0.000    0.007    0.000 series.py:6247(_logical_method)\n",
      "       58    0.000    0.000    0.014    0.000 series.py:6257(_arith_method)\n",
      "     1871    0.004    0.000    0.013    0.000 series.py:661(name)\n",
      "       91    0.000    0.000    0.000    0.000 series.py:666(values)\n",
      "     1908    0.002    0.000    0.004    0.000 series.py:708(_values)\n",
      "      220    0.000    0.000    0.001    0.000 series.py:764(__len__)\n",
      "      265    0.000    0.000    0.001    0.000 series.py:846(__array__)\n",
      "       58    0.000    0.000    0.006    0.000 series.py:916(take)\n",
      "       58    0.000    0.000    0.006    0.000 series.py:936(_take_with_is_copy)\n",
      "      126    0.000    0.000    0.001    0.000 series.py:947(_ixs)\n",
      "      913    0.004    0.000    0.016    0.000 series.py:966(__getitem__)\n",
      "        5    0.000    0.000    0.000    0.000 session.py:103(get_credential_options)\n",
      "        2    0.000    0.000    0.000    0.000 session.py:201(utcnow)\n",
      "        2    0.000    0.000    0.000    0.000 session.py:273(msg_header)\n",
      "        2    0.000    0.000    0.000    0.000 session.py:280(extract_header)\n",
      "        2    0.000    0.000    0.000    0.000 session.py:599(msg_id)\n",
      "        2    0.000    0.000    0.000    0.000 session.py:643(msg_header)\n",
      "        2    0.000    0.000    0.000    0.000 session.py:646(msg)\n",
      "        2    0.000    0.000    0.000    0.000 session.py:672(sign)\n",
      "        2    0.000    0.000    0.001    0.000 session.py:687(serialize)\n",
      "        2    0.000    0.000    0.001    0.001 session.py:751(send)\n",
      "        2    0.000    0.000    0.000    0.000 session.py:850(<listcomp>)\n",
      "        8    0.000    0.000    0.001    0.000 session.py:97(json_packer)\n",
      "        5    0.000    0.000    0.000    0.000 session.py:99(__init__)\n",
      "        1    0.000    0.000    0.000    0.000 shape_base.py:1187(_tile_dispatcher)\n",
      "        1    0.000    0.000    0.000    0.000 shape_base.py:1191(tile)\n",
      "        2    0.000    0.000    0.000    0.000 shape_base.py:1263(<genexpr>)\n",
      "        2    0.000    0.000    0.000    0.000 shape_base.py:1273(<genexpr>)\n",
      "        2    0.000    0.000    0.000    0.000 shape_base.py:19(_atleast_1d_dispatcher)\n",
      "       10    0.000    0.000    0.000    0.000 shape_base.py:207(_arrays_for_stack_dispatcher)\n",
      "       10    0.000    0.000    0.000    0.000 shape_base.py:218(_vhstack_dispatcher)\n",
      "       10    0.000    0.000    0.000    0.000 shape_base.py:222(vstack)\n",
      "        2    0.000    0.000    0.000    0.000 shape_base.py:23(atleast_1d)\n",
      "       10    0.000    0.000    0.000    0.000 shape_base.py:77(_atleast_2d_dispatcher)\n",
      "       10    0.000    0.000    0.000    0.000 shape_base.py:81(atleast_2d)\n",
      "       11    0.000    0.000    0.000    0.000 socket.py:545(send)\n",
      "        1    0.000    0.000    0.000    0.000 sorting.py:109(get_group_index)\n",
      "        1    0.000    0.000    0.000    0.000 sorting.py:144(_int64_cut_off)\n",
      "        1    0.000    0.000    0.000    0.000 sorting.py:157(<listcomp>)\n",
      "        1    0.000    0.000    0.000    0.000 sorting.py:227(is_int64_overflow_possible)\n",
      "        1    0.000    0.000    0.000    0.000 sorting.py:606(get_indexer_dict)\n",
      "        3    0.000    0.000    0.000    0.000 sorting.py:615(<genexpr>)\n",
      "        1    0.000    0.000    0.000    0.000 sorting.py:629(<listcomp>)\n",
      "        1    0.000    0.000    0.000    0.000 sorting.py:639(get_group_index_sorter)\n",
      "      319    0.002    0.000    0.007    0.000 take.py:120(_take_nd_ndarray)\n",
      "      319    0.000    0.000    0.000    0.000 take.py:326(_get_take_nd_function)\n",
      "      319    0.002    0.000    0.003    0.000 take.py:554(_take_preprocess_indexer_and_fill_value)\n",
      "      319    0.001    0.000    0.008    0.000 take.py:57(take_nd)\n",
      "       15    0.000    0.000    0.000    0.000 threading.py:1118(_wait_for_tstate_lock)\n",
      "        8    0.000    0.000    0.000    0.000 threading.py:1161(ident)\n",
      "       15    0.000    0.000    0.000    0.000 threading.py:1185(is_alive)\n",
      "       14    0.000    0.000    0.000    0.000 threading.py:1446(current_thread)\n",
      "        4    0.000    0.000    0.000    0.000 threading.py:236(__init__)\n",
      "        4    0.000    0.000    0.000    0.000 threading.py:264(__enter__)\n",
      "        4    0.000    0.000    0.000    0.000 threading.py:267(__exit__)\n",
      "        4    0.000    0.000    0.000    0.000 threading.py:273(_release_save)\n",
      "        4    0.000    0.000    0.000    0.000 threading.py:276(_acquire_restore)\n",
      "        4    0.000    0.000    0.000    0.000 threading.py:279(_is_owned)\n",
      "        4    0.000    0.000    0.002    0.000 threading.py:288(wait)\n",
      "        4    0.000    0.000    0.000    0.000 threading.py:555(__init__)\n",
      "       15    0.000    0.000    0.000    0.000 threading.py:568(is_set)\n",
      "        4    0.000    0.000    0.002    0.000 threading.py:604(wait)\n",
      "        2    0.000    0.000    0.000    0.000 tiles.txt:4(root)\n",
      "        1    0.000    0.000    0.107    0.107 time.py:103(do_each)\n",
      "        1    0.000    0.000    0.000    0.000 time.py:50(__init__)\n",
      "       36    0.000    0.000    0.000    0.000 time.py:57(add)\n",
      "        1    0.000    0.000    0.107    0.107 time.py:79(step)\n",
      "        1    0.000    0.000    0.000    0.000 time.py:95(get_agent_keys)\n",
      "        3    0.000    0.000    0.000    0.000 tokenize.py:168(__init__)\n",
      "       57    0.000    0.000    0.000    0.000 tokenize.py:174(add_whitespace)\n",
      "        3    0.000    0.000    0.000    0.000 tokenize.py:187(untokenize)\n",
      "        3    0.000    0.000    0.000    0.000 tokenize.py:261(untokenize)\n",
      "       63    0.000    0.000    0.000    0.000 tokenize.py:433(_tokenize)\n",
      "        3    0.000    0.000    0.000    0.000 tokenize.py:616(generate_tokens)\n",
      "        3    0.000    0.000    0.001    0.000 tools.py:693(get_config_plotly_server_url)\n",
      "     5604    0.004    0.000    0.005    0.000 topology.py:18(_validate)\n",
      "      139    0.000    0.000    0.000    0.000 traitlets.py:643(get)\n",
      "      139    0.000    0.000    0.000    0.000 traitlets.py:675(__get__)\n",
      "        2    0.000    0.000    0.000    0.000 typing.py:1287(__instancecheck__)\n",
      "        2    0.000    0.000    0.000    0.000 typing.py:1546(__subclasscheck__)\n",
      "     2614    0.001    0.000    0.001    0.000 typing.py:2216(cast)\n",
      "        2    0.000    0.000    0.000    0.000 tz.py:74(utcoffset)\n",
      "     4704    0.021    0.000    0.030    0.000 utilities.py:27(validate_location)\n",
      "     3595    0.015    0.000    0.101    0.000 utilities.py:353(_camelify)\n",
      "     3595    0.059    0.000    0.081    0.000 utilities.py:354(<listcomp>)\n",
      "       68    0.000    0.000    0.000    0.000 utilities.py:359(_parse_size)\n",
      "       80    0.000    0.000    0.000    0.000 utilities.py:384(camelize)\n",
      "      202    0.000    0.000    0.000    0.000 utilities.py:394(<genexpr>)\n",
      "        4    0.000    0.000    0.000    0.000 utilities.py:398(_parse_size)\n",
      "       70    0.000    0.000    0.001    0.000 utilities.py:471(parse_options)\n",
      "       70    0.000    0.000    0.001    0.000 utilities.py:473(<dictcomp>)\n",
      "     4704    0.004    0.000    0.004    0.000 utilities.py:67(<listcomp>)\n",
      "      794    0.005    0.000    0.041    0.000 utilities.py:70(validate_locations)\n",
      "      794    0.003    0.000    0.033    0.000 utilities.py:92(<listcomp>)\n",
      "      794    0.001    0.000    0.001    0.000 utilities.py:98(if_pandas_df_convert_to_numpy)\n",
      "       58    0.000    0.000    0.000    0.000 utils.py:127(check_setitem_lengths)\n",
      "       12    0.000    0.000    0.000    0.000 utils.py:138(encode_as_plotly)\n",
      "      210    0.000    0.000    0.001    0.000 utils.py:14(cumsum)\n",
      "       12    0.000    0.000    0.000    0.000 utils.py:146(encode_as_list)\n",
      "       12    0.000    0.000    0.000    0.000 utils.py:154(encode_as_sage)\n",
      "       12    0.000    0.000    0.000    0.000 utils.py:168(encode_as_pandas)\n",
      "       12    0.000    0.000    0.000    0.000 utils.py:184(encode_as_numpy)\n",
      "      269    0.000    0.000    0.000    0.000 utils.py:19(_reducer)\n",
      "        2    0.000    0.000    0.000    0.000 utils.py:191(validate_indices)\n",
      "       12    0.000    0.000    0.000    0.000 utils.py:201(encode_as_datetime)\n",
      "       12    0.000    0.000    0.000    0.000 utils.py:209(encode_as_date)\n",
      "      154    0.003    0.000    0.005    0.000 utils.py:243(maybe_convert_indices)\n",
      "        2    0.000    0.000    0.001    0.001 utils.py:268(_natural_sort_strings)\n",
      "      184    0.001    0.000    0.001    0.000 utils.py:269(key)\n",
      "        1    0.000    0.000    0.000    0.000 utils.py:282(_get_int_type)\n",
      " 1342/461    0.002    0.000    0.004    0.000 utils.py:291(split_multichar)\n",
      "       58    0.000    0.000    0.001    0.000 utils.py:294(length_of_indexer)\n",
      "      881    0.001    0.000    0.001    0.000 utils.py:307(<lambda>)\n",
      "      210    0.001    0.000    0.002    0.000 utils.py:311(split_string_positions)\n",
      "      269    0.000    0.000    0.000    0.000 utils.py:330(<lambda>)\n",
      "  502/251    0.002    0.000    0.007    0.000 utils.py:382(chomp_empty_strings)\n",
      "      502    0.000    0.000    0.001    0.000 utils.py:401(_rev)\n",
      "      502    0.000    0.000    0.000    0.000 utils.py:402(<listcomp>)\n",
      "      251    0.000    0.000    0.000    0.000 utils.py:411(_Chomper)\n",
      "      251    0.000    0.000    0.000    0.000 utils.py:412(__init__)\n",
      "      269    0.000    0.000    0.000    0.000 utils.py:415(__call__)\n",
      "      265    0.002    0.000    0.010    0.000 utils.py:430(check_array_indexer)\n",
      "      871    0.001    0.000    0.004    0.000 utils.py:463(get)\n",
      "      871    0.003    0.000    0.003    0.000 utils.py:497(__getitem__)\n",
      "        3    0.000    0.000    0.001    0.000 utils.py:51(encode)\n",
      "     1700    0.008    0.000    0.060    0.000 utils.py:626(htmlsafe_json_dumps)\n",
      "      535    0.000    0.000    0.001    0.000 utils.py:66(is_list_like_indexer)\n",
      "     5730    0.003    0.000    0.009    0.000 utils.py:81(from_obj)\n",
      "       12    0.000    0.000    0.000    0.000 utils.py:88(default)\n",
      "        3    0.000    0.000    0.000    0.000 utils.py:967(safe_eval)\n",
      "        1    0.000    0.000    0.000    0.000 uuid.py:139(__init__)\n",
      "        1    0.000    0.000    0.000    0.000 uuid.py:280(__str__)\n",
      "        1    0.000    0.000    0.000    0.000 uuid.py:716(uuid4)\n",
      "     1408    0.001    0.000    0.001    0.000 validator_cache.py:8(get_validator)\n",
      "      794    0.002    0.000    0.048    0.000 vector_layers.py:107(__init__)\n",
      "      828    0.006    0.000    0.008    0.000 vector_layers.py:14(path_options)\n",
      "      794    0.003    0.000    0.060    0.000 vector_layers.py:156(__init__)\n",
      "       34    0.000    0.000    0.002    0.000 vector_layers.py:301(__init__)\n",
      "        2    0.000    0.000    0.000    0.000 version.py:324(parse)\n",
      "        2    0.000    0.000    0.000    0.000 version.py:329(<listcomp>)\n",
      "        1    0.000    0.000    0.000    0.000 version.py:344(_cmp)\n",
      "        2    0.000    0.000    0.000    0.000 version.py:52(__init__)\n",
      "        1    0.000    0.000    0.000    0.000 version.py:71(__lt__)\n",
      "     7821    0.008    0.000    0.013    0.000 visitor.py:28(get_visitor)\n",
      " 7821/869    0.017    0.000    0.253    0.000 visitor.py:35(visit)\n",
      "5214/2607    0.008    0.000    0.040    0.000 visitor.py:44(generic_visit)\n",
      "       33    0.000    0.000    0.001    0.000 warnings.py:130(filterwarnings)\n",
      "       33    0.000    0.000    0.000    0.000 warnings.py:181(_add_filter)\n",
      "       33    0.000    0.000    0.000    0.000 warnings.py:440(__init__)\n",
      "       33    0.000    0.000    0.000    0.000 warnings.py:466(__enter__)\n",
      "       33    0.000    0.000    0.000    0.000 warnings.py:487(__exit__)\n",
      "        2    0.000    0.000    0.002    0.001 zmqshell.py:63(_flush_streams)\n",
      "        2    0.000    0.000    0.000    0.000 zmqshell.py:73(_hooks)\n",
      "        2    0.000    0.000    0.003    0.002 zmqshell.py:80(publish)\n",
      "     6575    0.004    0.000    0.004    0.000 {built-in method __new__ of type object at 0x00007FF929C3B480}\n",
      "      537    0.000    0.000    0.000    0.000 {built-in method _abc._abc_instancecheck}\n",
      "        2    0.000    0.000    0.000    0.000 {built-in method _abc._abc_subclasscheck}\n",
      "        2    0.000    0.000    0.000    0.000 {built-in method _codecs.lookup_error}\n",
      "        2    0.000    0.000    0.000    0.000 {built-in method _codecs.lookup}\n",
      "        6    0.000    0.000    0.000    0.000 {built-in method _codecs.utf_8_decode}\n",
      "     3389    0.001    0.000    0.001    0.000 {built-in method _ctypes.byref}\n",
      "2427/1925    0.002    0.000    0.011    0.000 {built-in method _functools.reduce}\n",
      "        3    0.000    0.000    0.000    0.000 {built-in method _json.encode_basestring_ascii}\n",
      "       58    0.001    0.000    0.001    0.000 {built-in method _operator.add}\n",
      "       31    0.000    0.000    0.000    0.000 {built-in method _operator.and_}\n",
      "        1    0.000    0.000    0.000    0.000 {built-in method _operator.gt}\n",
      "       10    0.000    0.000    0.000    0.000 {built-in method _operator.index}\n",
      "        1    0.000    0.000    0.000    0.000 {built-in method _operator.invert}\n",
      "        1    0.003    0.003    0.003    0.003 {built-in method _pickle.load}\n",
      "       11    0.000    0.000    0.000    0.000 {built-in method _stat.S_ISLNK}\n",
      "        2    0.000    0.000    0.000    0.000 {built-in method _stat.S_ISREG}\n",
      "        3    0.000    0.000    0.000    0.000 {built-in method _struct.calcsize}\n",
      "        3    0.000    0.000    0.000    0.000 {built-in method _struct.unpack}\n",
      "        8    0.000    0.000    0.000    0.000 {built-in method _thread.allocate_lock}\n",
      "       14    0.000    0.000    0.000    0.000 {built-in method _thread.get_ident}\n",
      "       99    0.000    0.000    0.000    0.000 {built-in method _warnings._filters_mutated}\n",
      "      810    0.002    0.000    0.002    0.000 {built-in method _warnings.warn}\n",
      "     1884    0.001    0.000    0.001    0.000 {built-in method binascii.hexlify}\n",
      "      251    0.003    0.000    0.003    0.000 {built-in method builtins.__build_class__}\n",
      "      808    0.001    0.000    0.002    0.000 {built-in method builtins.__import__}\n",
      "10828/7441    0.010    0.000    0.037    0.000 {built-in method builtins.all}\n",
      "     1320    0.001    0.000    0.002    0.000 {built-in method builtins.any}\n",
      "     3921    0.001    0.000    0.001    0.000 {built-in method builtins.callable}\n",
      "      872    0.154    0.000    0.154    0.000 {built-in method builtins.compile}\n",
      "      347    0.003    0.000    0.003    0.000 {built-in method builtins.dir}\n",
      "    870/1    0.004    0.000    2.241    2.241 {built-in method builtins.exec}\n",
      "47692/47649    0.016    0.000    0.024    0.000 {built-in method builtins.getattr}\n",
      "      808    0.000    0.000    0.000    0.000 {built-in method builtins.globals}\n",
      "    32572    0.014    0.000    0.016    0.000 {built-in method builtins.hasattr}\n",
      "     5460    0.002    0.000    0.002    0.000 {built-in method builtins.hash}\n",
      "    11776    0.002    0.000    0.002    0.000 {built-in method builtins.id}\n",
      "181737/180599    0.050    0.000    0.067    0.000 {built-in method builtins.isinstance}\n",
      "     6378    0.001    0.000    0.002    0.000 {built-in method builtins.issubclass}\n",
      "    10433    0.003    0.000    0.003    0.000 {built-in method builtins.iter}\n",
      "104392/97495    0.023    0.000    0.036    0.000 {built-in method builtins.len}\n",
      "      813    0.000    0.000    0.000    0.000 {built-in method builtins.locals}\n",
      "    10436    0.005    0.000    0.005    0.000 {built-in method builtins.max}\n",
      "        5    0.000    0.000    0.000    0.000 {built-in method builtins.min}\n",
      "6014/4276    0.004    0.000    0.106    0.000 {built-in method builtins.next}\n",
      "        2    0.000    0.000    0.000    0.000 {built-in method builtins.ord}\n",
      "        3    0.000    0.000    0.000    0.000 {built-in method builtins.print}\n",
      "      869    0.006    0.000    0.006    0.000 {built-in method builtins.repr}\n",
      "        4    0.000    0.000    0.000    0.000 {built-in method builtins.round}\n",
      "     7821    0.002    0.000    0.002    0.000 {built-in method builtins.setattr}\n",
      "     5248    0.006    0.000    0.007    0.000 {built-in method builtins.sorted}\n",
      "      348    0.000    0.000    0.000    0.000 {built-in method builtins.sum}\n",
      "        2    0.000    0.000    0.000    0.000 {built-in method builtins.vars}\n",
      "        1    0.000    0.000    0.000    0.000 {built-in method from_bytes}\n",
      "        1    0.000    0.000    0.000    0.000 {built-in method fromkeys}\n",
      "        6    0.001    0.000    0.001    0.000 {built-in method io.open}\n",
      "       62    0.000    0.000    0.000    0.000 {built-in method math.ceil}\n",
      "     9408    0.002    0.000    0.002    0.000 {built-in method math.isnan}\n",
      "      129    0.000    0.000    0.000    0.000 {built-in method nt.fspath}\n",
      "       10    0.000    0.000    0.000    0.000 {built-in method nt.getpid}\n",
      "       11    0.001    0.000    0.001    0.000 {built-in method nt.lstat}\n",
      "       12    0.001    0.000    0.001    0.000 {built-in method nt.scandir}\n",
      "        7    0.001    0.000    0.001    0.000 {built-in method nt.stat}\n",
      "     1885    0.002    0.000    0.002    0.000 {built-in method nt.urandom}\n",
      "       20    0.000    0.000    0.000    0.000 {built-in method numpy.arange}\n",
      "      887    0.001    0.000    0.064    0.000 {built-in method numpy.array}\n",
      "      194    0.000    0.000    0.000    0.000 {built-in method numpy.asanyarray}\n",
      "2019/1695    0.003    0.000    0.004    0.000 {built-in method numpy.asarray}\n",
      "       12    0.000    0.000    0.000    0.000 {built-in method numpy.ascontiguousarray}\n",
      "  393/348    0.001    0.000    0.003    0.000 {built-in method numpy.core._multiarray_umath.implement_array_function}\n",
      "       20    0.000    0.000    0.000    0.000 {built-in method numpy.core._multiarray_umath.normalize_axis_index}\n",
      "      544    0.001    0.000    0.001    0.000 {built-in method numpy.empty}\n",
      "        2    0.000    0.000    0.000    0.000 {built-in method numpy.fromfile}\n",
      "     1024    0.000    0.000    0.000    0.000 {built-in method numpy.geterrobj}\n",
      "      512    0.001    0.000    0.001    0.000 {built-in method numpy.seterrobj}\n",
      "        5    0.000    0.000    0.000    0.000 {built-in method numpy.zeros}\n",
      "        1    0.000    0.000    0.000    0.000 {built-in method pandas._libs.lib.ensure_string_array}\n",
      "        9    0.000    0.000    0.000    0.000 {built-in method pandas._libs.lib.is_datetime_array}\n",
      "      189    0.000    0.000    0.000    0.000 {built-in method pandas._libs.missing.checknull}\n",
      "       31    0.000    0.000    0.000    0.000 {built-in method pandas._libs.missing.is_matching_na}\n",
      "        5    0.000    0.000    0.000    0.000 {built-in method pandas._libs.missing.isnaobj}\n",
      "        1    0.000    0.000    0.000    0.000 {built-in method sys.audit}\n",
      "        3    0.000    0.000    0.000    0.000 {built-in method sys.exc_info}\n",
      "        2    0.000    0.000    0.000    0.000 {built-in method sys.getfilesystemencoding}\n",
      "        2    0.000    0.000    0.000    0.000 {built-in method utcnow}\n",
      "        1    0.000    0.000    0.000    0.000 {function FrozenList.__getitem__ at 0x000002412CAF6B60}\n",
      "        1    0.000    0.000    0.000    0.000 {function Random.seed at 0x00000241289159E0}\n",
      "       24    0.000    0.000    0.000    0.000 {method '__deepcopy__' of 'numpy.ndarray' objects}\n",
      "        3    0.000    0.000    0.000    0.000 {method '__enter__' of '_io._IOBase' objects}\n",
      "        4    0.000    0.000    0.000    0.000 {method '__enter__' of '_thread.lock' objects}\n",
      "        6    0.000    0.000    0.000    0.000 {method '__exit__' of '_thread.RLock' objects}\n",
      "      875    0.000    0.000    0.000    0.000 {method '__exit__' of '_thread.lock' objects}\n",
      "       12    0.000    0.000    0.000    0.000 {method '__exit__' of 'nt.ScandirIterator' objects}\n",
      "        2    0.000    0.000    0.000    0.000 {method '__reduce_ex__' of 'object' objects}\n",
      "       12    0.000    0.000    0.000    0.000 {method '_rebuild_blknos_and_blklocs' of 'pandas._libs.internals.BlockManager' objects}\n",
      "       10    0.000    0.000    0.000    0.000 {method 'acquire' of '_thread.RLock' objects}\n",
      "       31    0.002    0.000    0.002    0.000 {method 'acquire' of '_thread.lock' objects}\n",
      "       11    0.000    0.000    0.000    0.000 {method 'add' of 'set' objects}\n",
      "       58    0.000    0.000    0.001    0.000 {method 'all' of 'numpy.ndarray' objects}\n",
      "      463    0.001    0.000    0.003    0.000 {method 'any' of 'numpy.ndarray' objects}\n",
      "       20    0.000    0.000    0.000    0.000 {method 'append' of 'collections.deque' objects}\n",
      "    13375    0.003    0.000    0.003    0.000 {method 'append' of 'list' objects}\n",
      "       62    0.000    0.000    0.000    0.000 {method 'argmin' of 'numpy.ndarray' objects}\n",
      "       13    0.000    0.000    0.000    0.000 {method 'argsort' of 'numpy.ndarray' objects}\n",
      "      165    0.000    0.000    0.000    0.000 {method 'astype' of 'numpy.ndarray' objects}\n",
      "       42    0.000    0.000    0.000    0.000 {method 'capitalize' of 'str' objects}\n",
      "        1    0.000    0.000    0.000    0.000 {method 'choice' of 'numpy.random.mtrand.RandomState' objects}\n",
      "       10    0.000    0.000    0.000    0.000 {method 'clear' of 'collections.OrderedDict' objects}\n",
      "        1    0.000    0.000    0.000    0.000 {method 'clear' of 'collections.deque' objects}\n",
      "      221    0.000    0.000    0.000    0.000 {method 'clear' of 'dict' objects}\n",
      "        5    0.000    0.000    0.000    0.000 {method 'clear_config_options' of 'fiona._env.ConfigEnv' objects}\n",
      "        1    0.001    0.001    0.001    0.001 {method 'close' of '_io.BufferedWriter' objects}\n",
      "        2    0.000    0.000    0.000    0.000 {method 'close' of '_io.TextIOWrapper' objects}\n",
      "        2    0.000    0.000    0.000    0.000 {method 'close' of 'pandas._libs.parsers.TextReader' objects}\n",
      "        2    0.000    0.000    0.000    0.000 {method 'copy' of '_hashlib.HMAC' objects}\n",
      "        3    0.000    0.000    0.000    0.000 {method 'copy' of 'collections.OrderedDict' objects}\n",
      "      129    0.000    0.000    0.000    0.000 {method 'copy' of 'dict' objects}\n",
      "       29    0.000    0.000    0.000    0.000 {method 'copy' of 'list' objects}\n",
      "      532    0.001    0.000    0.001    0.000 {method 'copy' of 'numpy.ndarray' objects}\n",
      "        1    0.000    0.000    0.000    0.000 {method 'count' of 'list' objects}\n",
      "      869    0.001    0.000    0.001    0.000 {method 'count' of 'str' objects}\n",
      "     1887    0.001    0.000    0.001    0.000 {method 'decode' of 'bytes' objects}\n",
      "        5    0.000    0.000    0.000    0.000 {method 'delete' of 'pandas._libs.internals.BlockPlacement' objects}\n",
      "        1    0.000    0.000    0.000    0.000 {method 'disable' of '_lsprof.Profiler' objects}\n",
      "       13    0.000    0.000    0.000    0.000 {method 'encode' of 'str' objects}\n",
      "      871    0.000    0.000    0.000    0.000 {method 'end' of 're.Match' objects}\n",
      "       23    0.000    0.000    0.000    0.000 {method 'endswith' of 'str' objects}\n",
      "        7    0.000    0.000    0.000    0.000 {method 'equals' of 'pyproj._crs._CRS' objects}\n",
      "     2607    0.002    0.000    0.014    0.000 {method 'extend' of 'collections.deque' objects}\n",
      "      857    0.000    0.000    0.001    0.000 {method 'extend' of 'list' objects}\n",
      "        2    0.000    0.000    0.000    0.000 {method 'factorize' of 'pandas._libs.hashtable.StringHashTable' objects}\n",
      "      248    0.000    0.000    0.000    0.000 {method 'format' of 'str' objects}\n",
      "    25101    0.005    0.000    0.005    0.000 {method 'get' of 'dict' objects}\n",
      "        1    0.000    0.000    0.000    0.000 {method 'get' of 'mappingproxy' objects}\n",
      "        5    0.000    0.000    0.000    0.000 {method 'get_config_options' of 'fiona._env.ConfigEnv' objects}\n",
      "        5    0.000    0.000    0.000    0.000 {method 'get_crs' of 'fiona.ogrext.Session' objects}\n",
      "        5    0.001    0.000    0.001    0.000 {method 'get_crs_wkt' of 'fiona.ogrext.Session' objects}\n",
      "       10    0.000    0.000    0.000    0.000 {method 'get_driver' of 'fiona.ogrext.Session' objects}\n",
      "        4    0.000    0.000    0.000    0.000 {method 'get_indexer' of 'pandas._libs.index.IndexEngine' objects}\n",
      "     1325    0.001    0.000    0.001    0.000 {method 'get_loc' of 'pandas._libs.index.IndexEngine' objects}\n",
      "        5    0.000    0.000    0.000    0.000 {method 'get_schema' of 'fiona.ogrext.Session' objects}\n",
      "      870    0.002    0.000    0.002    0.000 {method 'getvalue' of '_io.StringIO' objects}\n",
      "     1750    0.001    0.000    0.001    0.000 {method 'group' of 're.Match' objects}\n",
      "        2    0.000    0.000    0.000    0.000 {method 'hexdigest' of '_hashlib.HMAC' objects}\n",
      "        1    0.000    0.000    0.000    0.000 {method 'increment_above' of 'pandas._libs.internals.BlockPlacement' objects}\n",
      "        8    0.000    0.000    0.000    0.000 {method 'index' of 'list' objects}\n",
      "       53    0.000    0.000    0.000    0.000 {method 'insert' of 'list' objects}\n",
      "       35    0.000    0.000    0.000    0.000 {method 'is_dir' of 'nt.DirEntry' objects}\n",
      "        5    0.000    0.000    0.000    0.000 {method 'isactive' of 'fiona.ogrext.Session' objects}\n",
      "       36    0.000    0.000    0.000    0.000 {method 'isidentifier' of 'str' objects}\n",
      "    20744    0.004    0.000    0.004    0.000 {method 'islower' of 'str' objects}\n",
      "       10    0.000    0.000    0.000    0.000 {method 'isnumeric' of 'str' objects}\n",
      "        4    0.000    0.000    0.000    0.000 {method 'isoformat' of 'datetime.datetime' objects}\n",
      "    35373    0.006    0.000    0.006    0.000 {method 'isupper' of 'str' objects}\n",
      "       15    0.000    0.000    0.000    0.000 {method 'item' of 'numpy.ndarray' objects}\n",
      "      953    0.000    0.000    0.000    0.000 {method 'items' of 'collections.OrderedDict' objects}\n",
      "     4160    0.001    0.000    0.001    0.000 {method 'items' of 'dict' objects}\n",
      "       36    0.000    0.000    0.000    0.000 {method 'items' of 'mappingproxy' objects}\n",
      "12360/11237    0.012    0.000    0.067    0.000 {method 'join' of 'str' objects}\n",
      "      296    0.000    0.000    0.000    0.000 {method 'keys' of 'dict' objects}\n",
      "    29998    0.007    0.000    0.007    0.000 {method 'lower' of 'str' objects}\n",
      "     3610    0.002    0.000    0.002    0.000 {method 'lstrip' of 'str' objects}\n",
      "     4280    0.050    0.000    0.050    0.000 {method 'match' of 're.Pattern' objects}\n",
      "        6    0.000    0.000    0.000    0.000 {method 'max' of 'numpy.ndarray' objects}\n",
      "        3    0.000    0.000    0.000    0.000 {method 'min' of 'numpy.ndarray' objects}\n",
      "      213    0.001    0.000    0.001    0.000 {method 'nonzero' of 'numpy.ndarray' objects}\n",
      "        3    0.000    0.000    0.000    0.000 {method 'pop' of 'collections.deque' objects}\n",
      "    28412    0.005    0.000    0.005    0.000 {method 'pop' of 'dict' objects}\n",
      "      891    0.000    0.000    0.000    0.000 {method 'pop' of 'list' objects}\n",
      "       14    0.000    0.000    0.000    0.000 {method 'pop' of 'set' objects}\n",
      "     2607    0.001    0.000    0.001    0.000 {method 'popleft' of 'collections.deque' objects}\n",
      "       58    0.000    0.000    0.000    0.000 {method 'random' of '_random.Random' objects}\n",
      "      289    0.000    0.000    0.000    0.000 {method 'ravel' of 'numpy.ndarray' objects}\n",
      "       12    0.000    0.000    0.000    0.000 {method 'read' of '_io.BufferedReader' objects}\n",
      "        2    0.000    0.000    0.001    0.000 {method 'read_low_memory' of 'pandas._libs.parsers.TextReader' objects}\n",
      "        6    0.000    0.000    0.000    0.000 {method 'readline' of '_io.StringIO' objects}\n",
      "      605    0.003    0.000    0.003    0.000 {method 'reduce' of 'numpy.ufunc' objects}\n",
      "       10    0.000    0.000    0.000    0.000 {method 'release' of '_thread.RLock' objects}\n",
      "        4    0.000    0.000    0.000    0.000 {method 'release' of '_thread.lock' objects}\n",
      "        2    0.000    0.000    0.000    0.000 {method 'remove' of 'collections.deque' objects}\n",
      "       70    0.000    0.000    0.000    0.000 {method 'remove' of 'list' objects}\n",
      "        2    0.000    0.000    0.000    0.000 {method 'repeat' of 'numpy.ndarray' objects}\n",
      "        2    0.000    0.000    0.000    0.000 {method 'replace' of 'datetime.datetime' objects}\n",
      "    11298    0.006    0.000    0.006    0.000 {method 'replace' of 'str' objects}\n",
      "      290    0.000    0.000    0.000    0.000 {method 'reshape' of 'numpy.ndarray' objects}\n",
      "        2    0.000    0.000    0.000    0.000 {method 'reverse' of 'list' objects}\n",
      "     2279    0.001    0.000    0.001    0.000 {method 'rpartition' of 'str' objects}\n",
      "      188    0.000    0.000    0.000    0.000 {method 'rsplit' of 'str' objects}\n",
      "        3    0.000    0.000    0.000    0.000 {method 'seek' of '_io.BufferedReader' objects}\n",
      "        9    0.000    0.000    0.000    0.000 {method 'setdefault' of 'dict' objects}\n",
      "        1    0.000    0.000    0.000    0.000 {method 'sort' of 'list' objects}\n",
      "       57    0.000    0.000    0.000    0.000 {method 'span' of 're.Match' objects}\n",
      "     1061    0.007    0.000    0.007    0.000 {method 'split' of 're.Pattern' objects}\n",
      "     2700    0.002    0.000    0.002    0.000 {method 'split' of 'str' objects}\n",
      "        5    0.007    0.001    0.007    0.001 {method 'start' of 'fiona._env.GDALEnv' objects}\n",
      "        5    0.005    0.001    0.005    0.001 {method 'start' of 'fiona.ogrext.Session' objects}\n",
      "        6    0.000    0.000    0.000    0.000 {method 'startswith' of 'bytes' objects}\n",
      "     2777    0.001    0.000    0.001    0.000 {method 'startswith' of 'str' objects}\n",
      "        5    0.000    0.000    0.000    0.000 {method 'stop' of 'fiona._env.GDALEnv' objects}\n",
      "        5    0.000    0.000    0.000    0.000 {method 'stop' of 'fiona.ogrext.Session' objects}\n",
      "       87    0.000    0.000    0.000    0.000 {method 'strip' of 'str' objects}\n",
      "      877    0.007    0.000    0.007    0.000 {method 'sub' of 're.Pattern' objects}\n",
      "       68    0.000    0.000    0.001    0.000 {method 'sum' of 'numpy.ndarray' objects}\n",
      "      281    0.001    0.000    0.001    0.000 {method 'take' of 'numpy.ndarray' objects}\n",
      "       12    0.000    0.000    0.000    0.000 {method 'tolist' of 'numpy.ndarray' objects}\n",
      "        9    0.000    0.000    0.000    0.000 {method 'transpose' of 'numpy.ndarray' objects}\n",
      "        1    0.000    0.000    0.000    0.000 {method 'unique' of 'pandas._libs.hashtable.Int64HashTable' objects}\n",
      "        1    0.000    0.000    0.000    0.000 {method 'unique' of 'pandas._libs.hashtable.StringHashTable' objects}\n",
      "        8    0.000    0.000    0.000    0.000 {method 'update' of '_hashlib.HMAC' objects}\n",
      "    10888    0.014    0.000    0.014    0.000 {method 'update' of 'dict' objects}\n",
      "       21    0.000    0.000    0.000    0.000 {method 'update' of 'set' objects}\n",
      "       10    0.000    0.000    0.000    0.000 {method 'update_config_options' of 'fiona._env.ConfigEnv' objects}\n",
      "       50    0.000    0.000    0.000    0.000 {method 'upper' of 'str' objects}\n",
      "        9    0.000    0.000    0.000    0.000 {method 'values' of 'collections.OrderedDict' objects}\n",
      "     2644    0.001    0.000    0.001    0.000 {method 'values' of 'dict' objects}\n",
      "       12    0.000    0.000    0.000    0.000 {method 'values' of 'mappingproxy' objects}\n",
      "        1    0.000    0.000    0.000    0.000 {method 'write' of '_io.BufferedWriter' objects}\n",
      "    30425    0.006    0.000    0.006    0.000 {method 'write' of '_io.StringIO' objects}\n",
      "        2    0.000    0.000    0.000    0.000 {pandas._libs.algos.ensure_int64}\n",
      "      862    0.000    0.000    0.000    0.000 {pandas._libs.algos.ensure_object}\n",
      "      599    0.000    0.000    0.000    0.000 {pandas._libs.algos.ensure_platform_int}\n",
      "        4    0.000    0.000    0.000    0.000 {pandas._libs.algos.take_1d_int64_int64}\n",
      "        3    0.000    0.000    0.000    0.000 {pandas._libs.algos.take_1d_object_object}\n",
      "        5    0.000    0.000    0.000    0.000 {pandas._libs.algos.take_2d_axis0_float64_float64}\n",
      "        4    0.000    0.000    0.000    0.000 {pandas._libs.algos.take_2d_axis0_int64_int64}\n",
      "        5    0.000    0.000    0.000    0.000 {pandas._libs.algos.take_2d_axis0_object_object}\n",
      "        2    0.000    0.000    0.000    0.000 {pandas._libs.algos.take_2d_axis1_float64_float64}\n",
      "      149    0.001    0.000    0.001    0.000 {pandas._libs.algos.take_2d_axis1_int64_int64}\n",
      "      147    0.000    0.000    0.000    0.000 {pandas._libs.algos.take_2d_axis1_object_object}\n",
      "        8    0.000    0.000    0.000    0.000 {pandas._libs.hashtable.object_hash}\n",
      "        7    0.000    0.000    0.000    0.000 {pandas._libs.internals.get_blkno_placements}\n",
      "        7    0.000    0.000    0.000    0.000 {pandas._libs.lib.array_equivalent_object}\n",
      "        5    0.004    0.001    0.004    0.001 {pandas._libs.lib.dicts_to_array}\n",
      "        5    0.000    0.000    0.000    0.000 {pandas._libs.lib.dtypes_all_equal}\n",
      "        1    0.000    0.000    0.000    0.000 {pandas._libs.lib.indices_fast}\n",
      "      836    0.003    0.000    0.003    0.000 {pandas._libs.lib.infer_datetimelike_array}\n",
      "       44    0.001    0.000    0.001    0.000 {pandas._libs.lib.infer_dtype}\n",
      "       12    0.000    0.000    0.000    0.000 {pandas._libs.lib.is_all_arraylike}\n",
      "       13    0.000    0.000    0.000    0.000 {pandas._libs.lib.is_bool}\n",
      "      794    0.000    0.000    0.000    0.000 {pandas._libs.lib.is_float}\n",
      "     2945    0.001    0.000    0.001    0.000 {pandas._libs.lib.is_integer}\n",
      "     1020    0.000    0.000    0.000    0.000 {pandas._libs.lib.is_iterator}\n",
      "     5700    0.003    0.000    0.004    0.000 {pandas._libs.lib.is_list_like}\n",
      "     1901    0.001    0.000    0.001    0.000 {pandas._libs.lib.is_scalar}\n",
      "     1343    0.000    0.000    0.000    0.000 {pandas._libs.lib.item_from_zerodim}\n",
      "       85    0.004    0.000    0.005    0.000 {pandas._libs.lib.maybe_convert_objects}\n",
      "        1    0.000    0.000    0.000    0.000 {pandas._libs.lib.maybe_indices_to_slice}\n",
      "      188    0.002    0.000    0.002    0.000 {pandas._libs.ops.scalar_compare}\n",
      "       10    0.000    0.000    0.000    0.000 {pyproj._crs.is_proj}\n",
      "      761    0.000    0.000    0.000    0.000 {shapely.speedups._speedups.coordseq_iter}\n",
      "     3157    0.024    0.000    0.024    0.000 {shapely.speedups._speedups.geos_linestring_from_py}\n",
      "\n",
      "\n"
     ]
    }
   ],
   "source": [
    "def test_run(): \n",
    "    parameters_dict = {}\n",
    "    for name in dropdowns.keys(): \n",
    "        parameters_dict[name] = dropdowns[name].value\n",
    "\n",
    "    # create and run model \n",
    "    model = Model(parameters_dict)\n",
    "    for i in range(1): \n",
    "        model.step()\n",
    "\n",
    "    model.visualize()\n",
    "    pass\n",
    "\n",
    "import cProfile\n",
    "cProfile.run('test_run()')"
   ]
  },
  {
   "cell_type": "code",
   "execution_count": 5,
   "id": "fa922fbe-bcc4-43bf-a779-5b53c1026239",
   "metadata": {
    "tags": []
   },
   "outputs": [
    {
     "data": {
      "application/vnd.jupyter.widget-view+json": {
       "model_id": "",
       "version_major": 2,
       "version_minor": 0
      },
      "text/plain": [
       "Button(description='Run Model', style=ButtonStyle())"
      ]
     },
     "metadata": {},
     "output_type": "display_data"
    },
    {
     "data": {
      "application/vnd.jupyter.widget-view+json": {
       "model_id": "",
       "version_major": 2,
       "version_minor": 0
      },
      "text/plain": [
       "Output()"
      ]
     },
     "metadata": {},
     "output_type": "display_data"
    }
   ],
   "source": [
    "import ipywidgets as widgets\n",
    "from IPython.display import display, clear_output, IFrame\n",
    "import folium\n",
    "\n",
    "# Create an output widget to handle the display within the notebook\n",
    "out = widgets.Output()\n",
    "\n",
    "# Function to be triggered\n",
    "def on_button_click(b):\n",
    "    with out:\n",
    "        clear_output(wait=True)  # Clear the previous output\n",
    "        \n",
    "        parameters_dict = {}\n",
    "        for name in dropdowns.keys(): \n",
    "            parameters_dict[name] = dropdowns[name].value\n",
    "\n",
    "        # create and run model \n",
    "        model = Model(parameters_dict)\n",
    "        for i in range(10): \n",
    "            model.step()\n",
    "\n",
    "        # visualize results \n",
    "        model.visualize()\n",
    "        \n",
    "        # Display the folium map using IFrame\n",
    "        display(IFrame(src=model.iframe, width=700, height=400))\n",
    "        \n",
    "        # You can add other outputs like plotly plots or more printed text here\n",
    "\n",
    "# Create the button\n",
    "button = widgets.Button(description=\"Run Model\")\n",
    "button.on_click(on_button_click)\n",
    "\n",
    "# Display the button and the output widget\n",
    "display(button, out)\n"
   ]
  },
  {
   "cell_type": "code",
   "execution_count": null,
   "id": "ff3fcb0f-176d-45e7-bd8b-a822780f75e4",
   "metadata": {},
   "outputs": [],
   "source": []
  }
 ],
 "metadata": {
  "kernelspec": {
   "display_name": "Python 3 (ipykernel)",
   "language": "python",
   "name": "python3"
  },
  "language_info": {
   "codemirror_mode": {
    "name": "ipython",
    "version": 3
   },
   "file_extension": ".py",
   "mimetype": "text/x-python",
   "name": "python",
   "nbconvert_exporter": "python",
   "pygments_lexer": "ipython3",
   "version": "3.11.0"
  }
 },
 "nbformat": 4,
 "nbformat_minor": 5
}
