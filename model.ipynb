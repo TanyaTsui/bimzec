{
 "cells": [
  {
   "cell_type": "code",
   "execution_count": 1,
   "id": "2070e485-c622-4da1-8257-2219677fd6d9",
   "metadata": {},
   "outputs": [],
   "source": [
    "from mesa import Agent, Model\n",
    "from mesa.time import RandomActivation, BaseScheduler\n",
    "import pandas as pd\n",
    "import geopandas as gpd\n",
    "import shapely\n",
    "from shapely.geometry import Polygon, Point, MultiPoint, box\n",
    "import math\n",
    "import matplotlib.pyplot as plt\n",
    "import numpy as np\n",
    "from numpy import exp\n",
    "from numpy.random import rand, seed\n",
    "import folium\n",
    "import random \n",
    "from haversine import haversine\n",
    "import plotly.express as px\n",
    "from plotly.subplots import make_subplots\n",
    "import base64\n",
    "from io import BytesIO\n",
    "from IPython.display import IFrame\n",
    "from IPython.display import display, Javascript\n",
    "from IPython.core.display import HTML\n",
    "import copy\n",
    "pd.options.mode.chained_assignment = None  # default='warn'"
   ]
  },
  {
   "cell_type": "code",
   "execution_count": 2,
   "id": "15d600bb-fd7b-4f45-ba09-5de590be888e",
   "metadata": {},
   "outputs": [],
   "source": [
    "class ConstructionSite(Agent): \n",
    "    def __init__(self, unique_id, model, buildingType, coords, \n",
    "                 inA10, waterbound, start_year, end_year):\n",
    "        super().__init__(unique_id, model)\n",
    "        self.buildingType = buildingType # A, B, or C\n",
    "        self.coords = coords \n",
    "        self.inA10 = inA10 # True or False \n",
    "        self.waterbound = waterbound # True or False\n",
    "        self.start_year = start_year\n",
    "        self.end_year = end_year\n",
    "        self.materials_request = {}\n",
    "        self.materials_request_forHubs = {}\n",
    "        self.materials_request_forSuppliers = {}\n",
    "        self.materials_received = {}\n",
    "        self.material_composition_df = None\n",
    "        \n",
    "        if self.model.hub_network == 'decentralized': \n",
    "            self.nearestHub_id = None\n",
    "            self.nearestHub_dist = None\n",
    "        self.nearestMacroHub_id = None\n",
    "        self.nearestMacroHub_dist = None\n",
    "        \n",
    "        self.filter_material_composition_df()\n",
    "        self.calc_materials_required()\n",
    "        if self.model.modularity_type == 'full': \n",
    "            self.add_materials_required_modular_core()\n",
    "            \n",
    "    def filter_material_composition_df(self): \n",
    "        '''make df of materials required, based on building, biobased, and modular type'''\n",
    "        b = self.model.build_info.copy()\n",
    "        b = b[(b.buildingType == self.buildingType) & (b.biobased_type == self.model.biobased_type)] \n",
    "        if self.model.modularity_type == 'none': \n",
    "            b = b[b.material != 'modules']\n",
    "        else: # self.model.modularity_type == 'full': \n",
    "            b = b[(b.structural_type == 'foundation') | (b.material == 'modules')]\n",
    "        b = b[~b.tons.isna()]\n",
    "        self.material_composition_df = b\n",
    "    \n",
    "    def calc_materials_required(self): \n",
    "        '''make dictionaries required to record materials required and received on construction site'''\n",
    "        self.materials_required = {}\n",
    "        self.materials_received = {}\n",
    "        self.material_composition_df.apply(lambda row: self._add_materials_required(row), axis=1)\n",
    "        \n",
    "    def add_materials_required_modular_core(self): \n",
    "        b = self.model.build_info.copy()\n",
    "        b = b[(b.buildingType == self.buildingType) & \n",
    "              (b.biobased_type == self.model.biobased_type) & \n",
    "              (b.structural_type == 'structural')] \n",
    "        b = b[~b.tons.isna()]\n",
    "        b.tons = b.tons * 0.2\n",
    "        b.apply(lambda row: self._add_materials_required(row), axis=1)\n",
    "        \n",
    "        self.material_composition_df = pd.concat([self.material_composition_df, b])\n",
    "        \n",
    "    def _add_materials_required(self, row): \n",
    "        strucType = row.structural_type\n",
    "        mat = row.material\n",
    "        amount = row.tons\n",
    "\n",
    "        self.materials_required[strucType] = self.materials_required.get(strucType, {})\n",
    "        self.materials_required[strucType][mat] = self.materials_required[strucType].get(mat, 0) + amount\n",
    "\n",
    "        self.materials_received[strucType] = self.materials_received.get(strucType, {})\n",
    "        self.materials_received[strucType][mat] = 0\n",
    "                \n",
    "    def step(self): \n",
    "        if self.start_year <= self.model.year <= self.end_year + 1: \n",
    "            self.make_materials_request_dicts()\n",
    "            self.request_materials()\n",
    "        \n",
    "    def make_materials_request_dicts(self): \n",
    "        self.materials_request_forHubs = {}\n",
    "        self.materials_request_forSuppliers = {}\n",
    "        self.materials_request_all = {}\n",
    "        \n",
    "        for strucType, mat_amounts in self.materials_required.items(): \n",
    "            self.materials_request_forHubs[strucType] = {}\n",
    "            self.materials_request_forSuppliers[strucType] = {}\n",
    "            self.materials_request_all[strucType] = {}\n",
    "            \n",
    "            for mat, amount in mat_amounts.items(): \n",
    "                if mat in self.model.materials_forHubs: \n",
    "                    self.materials_request_forHubs[strucType][mat] = amount\n",
    "                elif mat in self.model.materials_forSuppliers: \n",
    "                    self.materials_request_forSuppliers[strucType][mat] = amount\n",
    "                else: \n",
    "                    print('ERROR: mat not in list for hubs or suppliers')\n",
    "                self.materials_request_all[strucType][mat] = amount\n",
    "                \n",
    "    def request_materials(self):\n",
    "        '''make materials_request that will be received by supplier / macro / micro hub'''        \n",
    "        materials_request_forHubs = self.materials_request_forHubs\n",
    "        materials_request_forSuppliers = self.materials_request_forSuppliers\n",
    "        materials_request_all = self.materials_request_all\n",
    "        \n",
    "        for strucType, mat_amounts in self.materials_required.items():             \n",
    "            for mat, amount in mat_amounts.items(): \n",
    "                mat_required = amount \n",
    "                mat_received = self.materials_received[strucType][mat] \n",
    "                mat_stillNeeded = mat_required - mat_received\n",
    "                \n",
    "                mat_request = mat_required / (self.end_year - self.start_year + 1)\n",
    "                mat_request = mat_request if mat_request < mat_stillNeeded else mat_stillNeeded\n",
    "                if self.model.year > self.end_year: \n",
    "                    mat_request = 0\n",
    "                                \n",
    "                materials_request_all[strucType][mat] = mat_request\n",
    "                if mat in self.model.materials_forHubs: \n",
    "                    materials_request_forHubs[strucType][mat] = mat_request\n",
    "                elif mat in self.model.materials_forSuppliers: \n",
    "                    materials_request_forSuppliers[strucType][mat] = mat_request\n",
    "                else: \n",
    "                    print(f'error: {mat} has not been assigned to hubs or suppliers')\n",
    "                    \n",
    "        if self.model.year > self.end_year: \n",
    "            materials_request_forHubs = {}\n",
    "            materials_request_forSuppliers = {}\n",
    "            materials_request_all = {}\n",
    "                        \n",
    "        self.materials_request_forSuppliers = materials_request_forSuppliers\n",
    "        self.materials_request_forHubs = materials_request_forHubs\n",
    "        self.materials_request_all = materials_request_all\n",
    "            \n",
    "        \n",
    "class Hub(Agent):\n",
    "    def __init__(self, unique_id, model, hubType, coords, inA10, waterbound):\n",
    "        super().__init__(unique_id, model)\n",
    "        self.hubType = hubType # macro or micro \n",
    "        self.coords = coords\n",
    "        self.inA10 = inA10 # True of False\n",
    "        self.waterbound = waterbound # True of False\n",
    "        self.nearestMacroHub_id = None\n",
    "        self.nearestMacroHub_dist = None\n",
    "        \n",
    "        self.materials_toSend = {}\n",
    "        self.nTrips = {}\n",
    "        self.materials_request = {}\n",
    "        self.materials_request_forSuppliers = {}\n",
    "        self.materials_received = dict.fromkeys(self.model.materials_list, 0)\n",
    "        \n",
    "        self.suppliers = {}\n",
    "        self.clients = {}\n",
    "        self.trucks_toSite = []\n",
    "        self.vehicles_toSupplier = []\n",
    "        self.demolition_site_ids = []\n",
    "        self.supplier_ids = []\n",
    "        self.client_ids = []\n",
    "                                \n",
    "    def step(self):\n",
    "        self.find_clients()\n",
    "        if self.clients: # if hub has clients: \n",
    "            print(f'{self.hubType} hub {self.unique_id} is calculating materials to send... ')\n",
    "            self.calc_materials_toSend() # to each site / microHub\n",
    "            self.check_if_materials_toSend_hasAmounts()\n",
    "            if not self.materials_toSend_hasAmounts: \n",
    "                self.materials_request = {}\n",
    "            \n",
    "            elif self.materials_toSend_hasAmounts: # if hub has materials to send: \n",
    "                print(f'{self.hubType} hub {self.unique_id} is making materials request ... ')\n",
    "                self.make_materials_request() # for suppliers / demSites / macroHubs \n",
    "\n",
    "                if self.hubType != 'macro_assembly': \n",
    "                    print(f'{self.hubType} hub {self.unique_id} is triaging materials request ... ')\n",
    "                    self.triage_materials_request()\n",
    "\n",
    "                    if self.model.circularity_type != 'none' and self.hubType == 'macro': \n",
    "                        print(f'{self.hubType} hub {self.unique_id} is collecting materials from dem sites ... ')\n",
    "                        self.simplify_matRequest_forDemolitionSites()\n",
    "                        self.collect_materials_fromDemolitionSites()\n",
    "\n",
    "                else: # hubType == 'macro_assembly'\n",
    "                    print(f'{self.hubType} hub {self.unique_id} is making materials request for module supplier ... ')\n",
    "                    self.materials_request_forModuleSupplier() \n",
    "\n",
    "                if self.hubType != 'micro': # hubType = 'macro' or 'macro_assembly' \n",
    "                    print(f'{self.hubType} hub {self.unique_id} is collecting materials from supplier ... ')\n",
    "                    self.find_suppliers()\n",
    "                    self.collect_materials_fromSupplier() # collect materials from suppliers \n",
    "\n",
    "                print(f'{self.hubType} hub {self.unique_id} is sending materials to client ... ')\n",
    "                self.send_materials_toClient() # send materials to site / microhub\n",
    "        \n",
    "    def find_clients(self): \n",
    "        '''make dictionary of clients. \n",
    "            - For macrohubs, clients are nearby construction sites and micro hubs. \n",
    "            - For microhubs, clients are nearby construction sites. \n",
    "            - for macro assembly hubs, clients are all construction sites and microhubs (if hub_network is decentralized).\n",
    "        self.clients = {id: {'agent': agentObject, 'distance': 14312}, ... etc}'''\n",
    "        \n",
    "        self.clients = {}\n",
    "        \n",
    "        if self.model.hub_network == 'decentralized': \n",
    "            if self.hubType == 'macro': \n",
    "                microHubs = [hub for hub in self.model.hubs if hub.hubType == 'micro']\n",
    "                microHubs = [hub for hub in microHubs if hub.nearestMacroHub_id == self.unique_id]\n",
    "                sites = [s for s in self.model.construction_sites if s.nearestHub_id == self.unique_id]\n",
    "                clients = microHubs + sites # sometimes sends directly to sites if no microhub is closeby\n",
    "                for client in clients: \n",
    "                    self.clients[client.unique_id] = {'agent': client, 'distance': client.nearestMacroHub_dist}\n",
    "            \n",
    "            elif self.hubType == 'macro_assembly': \n",
    "                microHubs = [hub for hub in self.model.hubs if hub.hubType == 'micro']\n",
    "                clients = microHubs\n",
    "                for client in clients: \n",
    "                    od = self.model.od_matrix_h2h\n",
    "                    distance = od[(od[:, 0] == self.unique_id) & (od[:, 1] == client.unique_id)][0][2]\n",
    "                    self.clients[client.unique_id] = {'agent': client, 'distance': distance}\n",
    "            \n",
    "            elif self.hubType == 'micro': \n",
    "                sites = self.model.construction_sites\n",
    "                clients = [site for site in sites if site.nearestHub_id == self.unique_id]\n",
    "                for client in clients: \n",
    "                    self.clients[client.unique_id] = {'agent': client, 'distance': client.nearestHub_dist}\n",
    "        \n",
    "        elif self.model.hub_network == 'centralized':\n",
    "            if self.hubType == 'macro': \n",
    "                sites = self.model.construction_sites\n",
    "                clients = [site for site in sites if site.nearestMacroHub_id == self.unique_id]\n",
    "                for client in clients: \n",
    "                    self.clients[client.unique_id] = {'agent': client, 'distance': client.nearestMacroHub_dist}    \n",
    "            else: # if self.hubType == 'macro_assembly'\n",
    "                clients = self.model.construction_sites\n",
    "                for client in clients: \n",
    "                    od = self.model.od_matrix_h2c\n",
    "                    distance = od[(od[:, 0] == self.unique_id) & (od[:, 1] == client.unique_id)][0][2]\n",
    "                    self.clients[client.unique_id] = {'agent': client, 'distance': distance}\n",
    "                                    \n",
    "    def calc_materials_toSend(self): \n",
    "        '''check which clients still need materials and make materials_toSend dictionary\n",
    "        self.clients = microhubs or construction sites \n",
    "        self.materials_toSend = {site_id: {'foundation': {'timber': 123, ... }, ... }'''\n",
    "        self.materials_toSend = {}\n",
    "        matList = []\n",
    "               \n",
    "        for client_id in self.clients.keys():\n",
    "            materials_request, sum_values = self._get_materials_request(client_id)\n",
    "            \n",
    "            if sum_values > 0: # if client is requesting anything: \n",
    "                matList = self._make_materials_list(materials_request)\n",
    "                materials_toSend = self._make_materials_toSend_dict(client_id, matList, materials_request)\n",
    "        \n",
    "        self.materials_list = matList\n",
    "        self.materials_toSend = self._remove_zeros(self.materials_toSend)\n",
    "                \n",
    "    def _get_materials_request(self, client_id): \n",
    "        client = self.clients[client_id]['agent']\n",
    "        \n",
    "        if isinstance(client, Hub): \n",
    "            materials_request = client.materials_request.copy()\n",
    "        elif isinstance(client, ConstructionSite): \n",
    "            materials_request = client.materials_request_forHubs.copy()\n",
    "        else: \n",
    "            print('somethings wrong here: couldnt get materials request')\n",
    "        \n",
    "        sum_values = sum(sum(request.values()) for request in materials_request.values())\n",
    "        return materials_request, sum_values\n",
    "    \n",
    "    def _make_materials_list(self, materials_request): \n",
    "        matList = []\n",
    "        for strucType, mat_amounts in materials_request.items(): \n",
    "            for mat, amount in mat_amounts.items(): \n",
    "                matList.append(mat)\n",
    "                \n",
    "        matList = list(set(matList))\n",
    "        if self.hubType == 'macro_assembly': \n",
    "            matList = ['modules']\n",
    "            \n",
    "        return matList\n",
    "    \n",
    "    def _make_materials_toSend_dict(self, client_id, matList, materials_request): \n",
    "        \n",
    "        self.materials_toSend[client_id] = {\n",
    "            strucType: {\n",
    "                mat: 0 for mat in matList \n",
    "            } for strucType in materials_request.keys()\n",
    "        }\n",
    "        for strucType, mat_amounts in materials_request.items(): \n",
    "            for mat, amount in mat_amounts.items(): \n",
    "                if mat in matList: \n",
    "                    self.materials_toSend[client_id][strucType][mat] += amount \n",
    "    \n",
    "    def _remove_zeros(self, materials_toSend): \n",
    "        materials_toSend_noZeros = {}\n",
    "        for client_id, toSend_dict in materials_toSend.items():\n",
    "            materials_toSend_noZeros[client_id] = {}\n",
    "            for strucType, mat_amounts in toSend_dict.items(): \n",
    "                materials_toSend_noZeros[client_id][strucType] = {}\n",
    "                for mat, amount in mat_amounts.items(): \n",
    "                    if amount == 0: \n",
    "                        continue\n",
    "                    materials_toSend_noZeros[client_id][strucType][mat] = amount\n",
    "        return materials_toSend_noZeros\n",
    "        \n",
    "    def check_if_materials_toSend_hasAmounts(self): \n",
    "        hasAmounts = False\n",
    "        for site_id, mat_request in self.materials_toSend.items(): \n",
    "            for strucType, mat_amounts in mat_request.items(): \n",
    "                for mat, amount in mat_amounts.items(): \n",
    "                    if amount > 0: \n",
    "                        hasAmounts = True\n",
    "                        break\n",
    "        self.materials_toSend_hasAmounts = hasAmounts\n",
    "                            \n",
    "    def make_materials_request(self):\n",
    "        '''self.materials_request = {'foundation': {'timber': 123, ... }, ... }, ... }'''\n",
    "                              \n",
    "        materials_request = {}\n",
    "        for site_id, mat_request in self.materials_toSend.items():\n",
    "            for strucType, mat_amounts in mat_request.items(): \n",
    "                materials_request[strucType] = materials_request.get(strucType, {})\n",
    "                for mat, amount in mat_amounts.items(): \n",
    "                    materials_request[strucType][mat] = materials_request[strucType].get(mat, 0) + amount \n",
    "        \n",
    "        self.materials_request = materials_request\n",
    "        \n",
    "        if self.unique_id == 373: \n",
    "            print(f'macro hub {self.unique_id} has the following mat request: \\n{self.materials_request}')\n",
    "\n",
    "                \n",
    "    def materials_request_forModuleSupplier(self): \n",
    "        '''this function only runs for the macro_assembly hub. \n",
    "        it simplifies the materials_request into materials_request for suppliers, \n",
    "        which doesnt have information on structural type'''\n",
    "        matReqSupplier = {} \n",
    "        for strucType, mat_amounts in self.materials_request.items(): \n",
    "            matReqSupplier[strucType] = {}\n",
    "            for mat, amount in mat_amounts.items(): \n",
    "                matReqSupplier[strucType][mat] = matReqSupplier[strucType].get(mat, 0) + amount\n",
    "        self.materials_request_forSuppliers = matReqSupplier\n",
    "        \n",
    "    def triage_materials_request(self):\n",
    "        '''separate self.materials_request into two parts, \n",
    "        one for demolition sites and one for suppliers'''\n",
    "        \n",
    "        strucTypes_suppliers, strucTypes_demSites = self._pick_strucTypes_forTriage()\n",
    "        \n",
    "        self.materials_request_forDemSites = self._make_matRequest_triaged(strucTypes_demSites)\n",
    "        self.materials_request_forSuppliers = self._make_matRequest_triaged(strucTypes_suppliers)\n",
    "        \n",
    "        if self.unique_id == 373:\n",
    "            print(f'supplier strucTypes: {strucTypes_suppliers}; demsite strucTypes: {strucTypes_demSites}')\n",
    "            print(f'mat request for demsites: {self.materials_request_forDemSites}')\n",
    "            print(f'mat request for supplers: {self.materials_request_forSuppliers}')\n",
    "            \n",
    "    def _pick_strucTypes_forTriage(self): \n",
    "        '''pick strucType for demSite and suppliers'''\n",
    "        strucTypes_forCircParam_dict = {\n",
    "            'none': [], \n",
    "            'semi': ['non-structural'], \n",
    "            'full': ['non-structural', 'structural'], \n",
    "            'extreme': ['non-structural', 'structural', 'foundation']\n",
    "        }\n",
    "        strucTypes_all = ['non-structural', 'structural', 'foundation']\n",
    "        strucTypes_demSites = strucTypes_forCircParam_dict[self.model.circularity_type] \n",
    "        strucTypes_suppliers = [i for i in strucTypes_all if i not in strucTypes_demSites]\n",
    "        if self.model.modularity_type == 'full': \n",
    "            strucTypes_suppliers = strucTypes_suppliers + ['non-structural']\n",
    "            # if 'structural' in strucTypes_suppliers: \n",
    "            #     strucTypes_suppliers.remove('structural')\n",
    "            # if 'structural' in strucTypes_demSites:\n",
    "            #     strucTypes_demSites.remove('structural')\n",
    "        return strucTypes_suppliers, strucTypes_demSites\n",
    "    \n",
    "    def _make_matRequest_triaged(self, strucTypes): \n",
    "        '''make separate materials_requests for demSites and suppliers'''\n",
    "        matRequest_triaged = {}\n",
    "        for strucType in strucTypes:\n",
    "            matRequest_triaged[strucType] = {}\n",
    "            mat_amounts = self.materials_request[strucType]\n",
    "            for mat, amount in mat_amounts.items(): \n",
    "                if mat == 'modules': \n",
    "                    continue\n",
    "                matRequest_triaged[strucType][mat] = matRequest_triaged[strucType].get(mat, 0) + amount\n",
    "        matRequest_triaged = {k: v for k, v in matRequest_triaged.items() if v!= 0}\n",
    "        return matRequest_triaged\n",
    "        \n",
    "    def simplify_matRequest_forDemolitionSites(self): \n",
    "        '''convert mat names in materials_request_forDemSites to match mat names in demolition_sites_df'''\n",
    "        \n",
    "        materials_request_old = self.materials_request_forDemSites\n",
    "        materials_request_new = {}\n",
    "        \n",
    "        for strucType, mat_amounts in materials_request_old.items(): \n",
    "            for mat, amount in mat_amounts.items(): \n",
    "                materials_request_new[mat] = materials_request_new.get(mat, 0) + amount\n",
    "        \n",
    "        self.materials_request_forDemSites = materials_request_new\n",
    "                               \n",
    "    def collect_materials_fromDemolitionSites(self): \n",
    "        '''collect materials from randomly selected demolition sites'''\n",
    "        \n",
    "        materials_collected = {key: 0 for key in self.materials_request_forDemSites.keys()}\n",
    "        demSites = self.model.demolition_sites_df\n",
    "        demSites = demSites[demSites.nearestMacroHub_id == self.unique_id]\n",
    "        mats_collected = []\n",
    "        \n",
    "        for matName_conSite, request_amount in self.materials_request_forDemSites.items(): \n",
    "            matName_demSite = self._get_matName_demSite(matName_conSite)\n",
    "            self.distances_all = []\n",
    "            self.nTrips_all = []\n",
    "            self.emissions_all = []\n",
    "            \n",
    "            while True: \n",
    "                demSite = demSites.sample(1).iloc[0]\n",
    "                collect_tons = self._calc_collect_tons(demSite, matName_demSite, matName_conSite, request_amount, materials_collected)\n",
    "                vehicle, capacity = self._get_vehicle_forDemSite(demSite, matName_demSite)\n",
    "                nTrips, emissions = self._record_emissions(demSite, matName_conSite, collect_tons, vehicle, capacity)\n",
    "                if vehicle.transportation_network == 'road': \n",
    "                    self._record_road_impact(demSite, nTrips, vehicle, capacity)\n",
    "                                                   \n",
    "                # stop if enough materials have been collected \n",
    "                materials_collected[matName_conSite] += collect_tons\n",
    "                if materials_collected[matName_conSite] >= request_amount: \n",
    "                    break\n",
    "                \n",
    "            # record mats collected for print statement below\n",
    "            mats_collected.append(matName_conSite)\n",
    "        print(f'{self.hubType} hub {self.unique_id} has collected the following materials from demolition sites: \\n{mats_collected}')\n",
    "        \n",
    "    def _get_matName_demSite(self, matName_conSite): \n",
    "        conversion_df = self.model.materialNames_conversion\n",
    "        matName_demSite = conversion_df[conversion_df.name_from_conSiteData == matName_conSite].name_from_demSiteData.iloc[0]\n",
    "        return matName_demSite\n",
    "    \n",
    "    def _calc_collect_tons(self, demSite, matName_demSite, matName_conSite, request_amount, materials_collected): \n",
    "        available_tons = demSite[matName_demSite] \n",
    "        still_needed = request_amount - materials_collected[matName_conSite]\n",
    "        collect_tons = still_needed if available_tons >= still_needed else available_tons\n",
    "        return collect_tons\n",
    "    \n",
    "    def _get_vehicle_forDemSite(self, demSite, matName_demSite): \n",
    "        '''make vehicle capacities for demolition sites by converting mat names in vehicles_info\n",
    "        into mat names in demolition_sites_df'''\n",
    "        \n",
    "        # get info for vehicle based on model params  \n",
    "        if self.model.network_type == 'water' and self.waterbound and demSite.waterbound: \n",
    "            transportation_network = 'water'\n",
    "            vehicle_type = 'water'\n",
    "        else: # road network is used \n",
    "            transportation_network = 'road'\n",
    "            if self.model.truck_type == 'semi': \n",
    "                vehicle_type = 'electric' if self.inA10 or demSite.inA10 else 'diesel'\n",
    "            else: \n",
    "                vehicle_type = self.model.truck_type \n",
    "        \n",
    "        # select vehicle \n",
    "        vehicles_df = self.model.vehicles_info_demSites\n",
    "        vehicle = vehicles_df[(vehicles_df.transportation_network == transportation_network) & \n",
    "                              (vehicles_df.vehicle_type == vehicle_type)].iloc[0]\n",
    "        capacity = vehicle[f'capacity_{matName_demSite}'] \n",
    "        \n",
    "        return vehicle, capacity # need this for self.collect_materials_fromDemolitionSites() \n",
    "    \n",
    "    def _record_emissions(self, demSite, matName_conSite, collect_tons, vehicle, capacity): \n",
    "        distance = demSite.nearestMacroHub_dist\n",
    "        nTrips = math.ceil(collect_tons / capacity)\n",
    "        emissions = vehicle.emissions_perKm_tCO2 * distance * nTrips * 2\n",
    "        \n",
    "        self.distances_all.append(distance)\n",
    "        self.nTrips_all.append(nTrips*2)\n",
    "        self.emissions_all.append(emissions)\n",
    "\n",
    "        self.model.emissions_d2h += emissions\n",
    "        self.model.emissions_per_material[matName_conSite] = self.model.emissions_per_material.get(matName_conSite, 0) + emissions\n",
    "        self.demolition_site_ids.append(demSite.unique_id)\n",
    "        \n",
    "        return nTrips, emissions\n",
    "        \n",
    "    def _record_road_impact(self, demSite, nTrips, vehicle, capacity): \n",
    "        # record roads used\n",
    "        roadMatrix = self.model.road_matrix_d2h\n",
    "        road_ids = roadMatrix[(roadMatrix[:, 1] == self.unique_id) & (roadMatrix[:, 0] == demSite.unique_id)][0][2]\n",
    "        mask = self.model.roads_used['osmid'].isin(road_ids)\n",
    "        self.model.roads_used.loc[mask, 'nTrips'] += nTrips\n",
    "\n",
    "        # record road damage\n",
    "        nAxels = vehicle.nAxels\n",
    "        weight = capacity / nAxels \n",
    "        damage = (weight ** 4) * nTrips \n",
    "        self.model.roads_used.loc[mask, 'damage'] += damage\n",
    "    \n",
    "    def find_suppliers(self): \n",
    "        '''this function is only run by macro hubs - see Hub.step()\n",
    "        select supplier agent and distance based on location type (national / international)\n",
    "        self.materials_request_forSuppliers = {'mat': 123, 'mat': 456 ... }\n",
    "        self.suppliers = {'timber': {'agent': agentObject, 'distance': 14312}, ... etc}'''\n",
    "               \n",
    "        self.suppliers = {}\n",
    "        mat_info = self.model.materials_logistics_info\n",
    "        \n",
    "        matList = []\n",
    "        for strucType, mat_amounts in self.materials_request_forSuppliers.items(): \n",
    "            for mat in mat_amounts.keys(): \n",
    "                matList.append(mat)\n",
    "        matList = list(set(matList))\n",
    "        \n",
    "        for mat in matList:\n",
    "            self.suppliers[mat] = {}\n",
    "            supplier = [s for s in self.model.suppliers if s.material_type == mat][0]\n",
    "            self.suppliers[mat]['agent'] = supplier \n",
    "            self.suppliers[mat]['distance'] = haversine(self.coords, supplier.coords) # supplier.distance_fromAms\n",
    "                        \n",
    "    def collect_materials_fromSupplier(self): \n",
    "        '''this function is only run by macro hubs - see Hub.step()\n",
    "        collect materials from factory supplier (national / international)'''\n",
    "        mats_collected = []\n",
    "        print(f'request for suppliers: \\n{self.materials_request_forSuppliers}')\n",
    "        for strucType, mat_amounts in self.materials_request_forSuppliers.items():\n",
    "            for mat, amount in mat_amounts.items(): \n",
    "                if amount == 0: \n",
    "                    continue\n",
    "                mats_collected.append(f'{strucType} {mat}')\n",
    "                # get info for calculating emissions and road usage \n",
    "                supplier = self.suppliers[mat]['agent']\n",
    "                distance = self.suppliers[mat]['distance']\n",
    "                if self.model.network_type == 'water' and not self.waterbound: \n",
    "                    network_type = 'road'\n",
    "                else: \n",
    "                    network_type = self.model.network_type\n",
    "                vehicle = self._select_vehicle(mat, network_type, 'diesel')\n",
    "                capacity = vehicle['capacity_modules_2D'] if mat == 'modules' else vehicle[f'capacity_{mat}'] # * 0.8\n",
    "                nTrips = math.ceil(amount / capacity)\n",
    "\n",
    "                # record road usage road network is used  \n",
    "                if self.model.network_type == 'road' or (self.model.network_type == 'water' and not self.waterbound): \n",
    "                    roadMatrix = self.model.road_matrix_s2h\n",
    "                    road_ids = roadMatrix[(roadMatrix[:, 0] == supplier.unique_id) & (roadMatrix[:, 1] == self.unique_id)][0][2]\n",
    "                    mask = self.model.roads_used['osmid'].isin(road_ids)\n",
    "                    self.model.roads_used.loc[mask, 'nTrips'] += nTrips\n",
    "\n",
    "                    # record road damage\n",
    "                    nAxels = vehicle['nAxels']\n",
    "                    weight = capacity / nAxels \n",
    "                    damage = (weight ** 4) * nTrips \n",
    "                    self.model.roads_used.loc[mask, 'damage'] += damage\n",
    "\n",
    "                # record emissions, materials received, and suppliers used \n",
    "                emissions = vehicle['emissions_perKm_tCO2'] * distance * nTrips * 2\n",
    "                self.model.emissions_s2h += emissions\n",
    "                if mat == 'glass': \n",
    "                    self.model.emissions_glass['s2h'] = self.model.emissions_glass.get('s2h', 0) + emissions\n",
    "                    # print(f's2h emissions: {emissions}')\n",
    "                self.model.emissions_per_material[mat] = self.model.emissions_per_material.get(mat, 0) + emissions\n",
    "                self.materials_received[mat] += amount\n",
    "                self.supplier_ids.append(supplier.unique_id)\n",
    "        # print(f'{self.hubType} hub {self.unique_id} has collected the following materials from suppliers: \\n{mats_collected}')\n",
    "        \n",
    "    def send_materials_toClient(self): \n",
    "        '''send materials to client (either construction sites or micro hubs) \n",
    "        self.materials_toSend = {site_id: {'foundation': {'timber': 123, ... }, ... }, ... }'''\n",
    "        mats_sent = []\n",
    "        # for each client (either construction site or micro hub): \n",
    "        for client_id, mat_toSend_dict in self.materials_toSend.items(): \n",
    "            \n",
    "            # get client and vehicle info\n",
    "            client = self.clients[client_id]['agent']\n",
    "            distance = self.clients[client_id]['distance']\n",
    "            \n",
    "            # get vehicle based on params \n",
    "            fuel_type = self.model.truck_type\n",
    "            network_type = self.model.network_type\n",
    "            if self.model.network_type == 'water' and self.waterbound and client.waterbound: \n",
    "                network_type = 'water'\n",
    "            else: # network_type == 'road' or 'rail', or not waterbound: \n",
    "                network_type = 'road'\n",
    "                if self.model.truck_type == 'semi': \n",
    "                    fuel_type = 'electric' if client.inA10 or self.inA10 else 'diesel'\n",
    "                else: # truck_type == 'none' or 'full'\n",
    "                    fuel_type = self.model.truck_type      \n",
    "            \n",
    "            # determine path used\n",
    "            roadMatrix = self.model.road_matrix_h2hc\n",
    "            road_ids = roadMatrix[(roadMatrix[:, 0] == self.unique_id) & (roadMatrix[:, 1] == client.unique_id)][0][2]\n",
    "            road_ids_str = [','.join(map(str, r)) if isinstance(r, list) else str(r) for r in road_ids]\n",
    "            # mask = self.model.roads_used['osmid'].isin(road_ids_str)\n",
    "            mask = self.model.roads_used['osmid'].apply(lambda x: x in road_ids_str)\n",
    "\n",
    "            damages = []\n",
    "            n_trips_list = []\n",
    "            for strucType, mat_amounts in mat_toSend_dict.items(): \n",
    "                for mat, amount in mat_amounts.items(): \n",
    "                    mats_sent.append(f'{strucType} {mat}')\n",
    "                    vehicle = self._select_vehicle(mat, network_type, fuel_type)\n",
    "\n",
    "                    # record emissions \n",
    "                    capacity = vehicle['capacity_modules_3D'] if mat == 'modules' else vehicle[f'capacity_{mat}']\n",
    "                    nTrips = math.ceil(amount / capacity)\n",
    "                    emissions = vehicle.emissions_perKm_tCO2 * distance * nTrips * 2\n",
    "                    self.model.emissions_h2c += emissions\n",
    "                    self.model.emissions_per_material[mat] = self.model.emissions_per_material.get(mat, 0) + emissions\n",
    "                    if mat == 'glass': \n",
    "                        self.model.emissions_glass['h2c'] = self.model.emissions_glass.get('h2c', 0) + emissions\n",
    "                        # print(f'h2c: {round(distance,2)} km | {round(amount,2)} tons | {round(emissions,4)} tCO2')\n",
    "                    \n",
    "                    if network_type == 'road': \n",
    "                        # record roads used, road damage\n",
    "                        nAxels = vehicle.nAxels\n",
    "                        weight = capacity / nAxels \n",
    "                        damage = (weight ** 4) * nTrips \n",
    "                        if self.model.network_type == 'water': \n",
    "                            if self.waterbound and client.waterbound: \n",
    "                                damage = 0\n",
    "                        damages.append(damage)\n",
    "                        n_trips_list.append(nTrips)\n",
    "                    \n",
    "                    # record  materials received, client ids \n",
    "                    if type(client) is ConstructionSite: \n",
    "                        client.materials_received[strucType].setdefault(mat, 0)\n",
    "                        client.materials_received[strucType][mat] += amount\n",
    "                    else: # if client == micro hub: \n",
    "                        client.materials_received.setdefault(mat, 0)\n",
    "                        client.materials_received[mat] += amount\n",
    "                    self.client_ids.append(client_id)\n",
    "                    \n",
    "            self.model.roads_used.loc[mask, 'damage'] += sum(damages)\n",
    "            self.model.roads_used.loc[mask, 'nTrips'] += sum(n_trips_list)\n",
    "        # print(f'{self.hubType} hub {self.unique_id} sent the following materials to its clients: {set(mats_sent)}')\n",
    "\n",
    "    def _select_vehicle(self, mat, network_type, fuel_type):\n",
    "        logistics_info = self.model.materials_logistics_info\n",
    "        mat = 'modules_2D' if mat == 'modules' else mat # doesn't matter if it's modules_2D or 3D, they use the same truck. And we're only selecting a truck here.\n",
    "        logistics_info = logistics_info[logistics_info.material == mat].iloc[0]\n",
    "        vehicle_info = self.model.vehicles_info\n",
    "\n",
    "        if network_type == 'water': \n",
    "            fuel_type = 'na'\n",
    "            if logistics_info.water_usage == 'no':\n",
    "                network_type = 'road'\n",
    "                fuel_type = 'diesel'\n",
    "        elif network_type == 'rail': \n",
    "            fuel_type = 'na'\n",
    "            if logistics_info.rail_usage == 'no':\n",
    "                network_type = 'road'\n",
    "                fuel_type = 'diesel'\n",
    "\n",
    "        vehicle = vehicle_info[\n",
    "            ((vehicle_info.transportation_network != 'road') | \n",
    "             (vehicle_info.vehicle_name == logistics_info.vehicle_name)) & \n",
    "            (vehicle_info.transportation_network == network_type) & \n",
    "            (vehicle_info.vehicle_type == fuel_type)\n",
    "        ].iloc[0]\n",
    "\n",
    "        return vehicle\n",
    "    \n",
    "class Supplier(Agent): \n",
    "    # supplier = Supplier(row.unique_id, self, row.material, coords)\n",
    "    def __init__(self, unique_id, model, material, coords): \n",
    "        super().__init__(unique_id, model)\n",
    "        self.material = material\n",
    "        self.location_type = material\n",
    "        self.coords = coords\n",
    "        self.clients = {}\n",
    "        self.waterbound = 0\n",
    "        self.material_type = material\n",
    "        \n",
    "    def step(self): \n",
    "        self.find_clients() \n",
    "        self.calc_materials_toSend() \n",
    "        if self.materials_toSend: \n",
    "            print(f'{self.material_type} supplier is sending materials to site ... ')\n",
    "            self.send_materials_supplierToSite() \n",
    "    \n",
    "    def find_clients(self): \n",
    "        '''self.clients = list of client agents [agent, agent, agent ...]\n",
    "        clients are only construction sites, not hubs, because logistics\n",
    "        between suppliers and hubs are handled by hubs, not suppliers.'''\n",
    "        sites = [site for site in self.model.construction_sites if site.materials_request_forSuppliers]\n",
    "        clients = []\n",
    "        for site in sites: \n",
    "            if self.model.hub_network != 'none': \n",
    "                matReq = site.materials_request_forSuppliers\n",
    "            else: \n",
    "                matReq = site.materials_request_all\n",
    "            for mat_amounts in matReq.values(): \n",
    "                for mat in mat_amounts.keys(): \n",
    "                    if mat == self.material_type: \n",
    "                        clients.append(site)\n",
    "        self.clients = clients\n",
    "                        \n",
    "    def calc_materials_toSend(self): \n",
    "        '''self.materials_toSend = {id: 123 ... }'''\n",
    "        self.materials_toSend = {}\n",
    "        for client in self.clients: \n",
    "            if self.model.hub_network != 'none': \n",
    "                mat_req = client.materials_request_forSuppliers\n",
    "            else: \n",
    "                mat_req = client.materials_request_all\n",
    "            self.materials_toSend[client.unique_id] = {}\n",
    "            for strucType, mat_amounts in mat_req.items(): \n",
    "                self.materials_toSend[client.unique_id][strucType] = {} \n",
    "                for mat, amount in mat_amounts.items(): \n",
    "                    if mat == self.material_type: \n",
    "                        self.materials_toSend[client.unique_id][strucType][mat] = self.materials_toSend[client.unique_id][strucType].get(mat, 0) + amount \n",
    "        \n",
    "    def send_materials_supplierToSite(self): \n",
    "        client_dict = {c.unique_id: c for c in self.clients}\n",
    "        \n",
    "        for client_id, mat_toSend_dict in self.materials_toSend.items(): \n",
    "            client = client_dict[client_id]\n",
    "            distance = haversine(client.coords, self.coords)\n",
    "            mask = self._get_mask_forRoadsUsed(self.unique_id, client_id)\n",
    "\n",
    "            nTrips_total = []\n",
    "            damage_total = []\n",
    "            for strucType, mat_amounts in mat_toSend_dict.items(): \n",
    "                for mat, amount in mat_amounts.items():  \n",
    "                    vehicle = self._select_vehicle(mat, self.model.network_type, self.model.truck_type)\n",
    "                    capacity = vehicle[f'capacity_modules_3D'] if mat == 'modules' else vehicle[f'capacity_{mat}'] * 0.3 \n",
    "                    nTrips = math.ceil(amount / capacity)\n",
    "                    client.materials_received[strucType][mat] += amount\n",
    "                    self._record_emissions(vehicle, mat, amount, distance, nTrips)\n",
    "                    self._record_road_impact(nTrips_total, damage_total, mat, amount, vehicle)\n",
    "                    \n",
    "            self.model.roads_used.loc[mask, 'nTrips'] += sum(nTrips_total)\n",
    "            self.model.roads_used.loc[mask, 'damage'] += sum(damage_total)\n",
    "\n",
    "    def _select_vehicle(self, mat, network_type, fuel_type):\n",
    "        logistics_info = self.model.materials_logistics_info\n",
    "        logistics_info = logistics_info[logistics_info.material == mat].iloc[0]\n",
    "        vehicle_info = self.model.vehicles_info\n",
    "\n",
    "        fuel_type = 'diesel'\n",
    "        if network_type == 'water': \n",
    "            fuel_type = 'na'\n",
    "            if logistics_info.water_usage == 'no':\n",
    "                network_type = 'road'\n",
    "                fuel_type = 'diesel'\n",
    "        elif network_type == 'rail': \n",
    "            fuel_type = 'na'\n",
    "            if logistics_info.rail_usage == 'no':\n",
    "                network_type = 'road'\n",
    "                fuel_type = 'diesel'\n",
    "\n",
    "        vehicle = vehicle_info[\n",
    "            ((vehicle_info.transportation_network != 'road') | \n",
    "             (vehicle_info.vehicle_name == logistics_info.vehicle_name)) & \n",
    "            (vehicle_info.transportation_network == network_type) & \n",
    "            (vehicle_info.vehicle_type == fuel_type)\n",
    "        ].iloc[0]\n",
    "\n",
    "        return vehicle\n",
    "    \n",
    "    def _get_mask_forRoadsUsed(self, self_id, client_id): \n",
    "        roadMatrix = self.model.road_matrix_s2c\n",
    "        road_ids = roadMatrix[(roadMatrix[:, 0] == self_id) & \n",
    "                              (roadMatrix[:, 1] == client_id)][0][2]\n",
    "        mask = self.model.roads_used['osmid'].isin(road_ids)\n",
    "        return mask \n",
    "    \n",
    "    def _record_emissions(self, vehicle, mat, amount, distance, nTrips): \n",
    "        emissions = vehicle.emissions_perKm_tCO2 * distance * nTrips * 2\n",
    "        self.model.emissions_s2c += emissions\n",
    "        if mat == 'glass': \n",
    "            self.model.emissions_glass['s2c'] = self.model.emissions_glass.get('s2c', 0) + emissions\n",
    "\n",
    "        self.model.emissions_per_material[mat] = self.model.emissions_per_material.get(mat, 0) + emissions\n",
    "        \n",
    "    def _record_road_impact(self, nTrips_total, damage_total, mat, amount, vehicle): \n",
    "        capacity = vehicle[f'capacity_modules_3D'] if mat == 'modules' else vehicle[f'capacity_{mat}'] * 0.3 \n",
    "\n",
    "        nTrips = math.ceil(amount / capacity)\n",
    "        nTrips_total.append(nTrips)\n",
    "\n",
    "        nAxels = vehicle.nAxels\n",
    "        weight = capacity / nAxels \n",
    "        damage = (weight ** 4) * nTrips \n",
    "        damage_total.append(damage)"
   ]
  },
  {
   "cell_type": "code",
   "execution_count": 47,
   "id": "f3f97134-978e-49db-9b40-25533ffdcff7",
   "metadata": {
    "tags": []
   },
   "outputs": [],
   "source": [
    "from mesa import Model\n",
    "from mesa.datacollection import DataCollector\n",
    "class Model(Model):\n",
    "    def __init__(self, parameters_dict): \n",
    "        '''create construction sites, hubs, and vehicles'''\n",
    "        super().__init__()\n",
    "        self.schedule = BaseScheduler(self)\n",
    "        self.emissions_s2h = 0\n",
    "        self.emissions_h2c = 0 \n",
    "        self.emissions_s2c = 0\n",
    "        self.emissions_d2h = 0\n",
    "        self.emissions_per_material = {}\n",
    "        self.emissions_glass = {}\n",
    "        self.roads_used = gpd.read_file('data/data_cleaned/ams_roads_edges.shp')\n",
    "        self.roads_used['damage'] = 0 \n",
    "        self.roads_used['damage'] = self.roads_used['damage'].astype(float)\n",
    "        self.datacollector = DataCollector(\n",
    "            model_reporters = {\n",
    "                'emissions_s2h': lambda m: m.emissions_s2h, \n",
    "                'emissions_h2c': lambda m: m.emissions_h2c, \n",
    "                'emissions_s2c': lambda m: m.emissions_s2c, \n",
    "                'emissions_d2h': lambda m: m.emissions_d2h, \n",
    "                'emissions_total': lambda m: m.emissions_s2h + m.emissions_h2c + m.emissions_s2c + m.emissions_d2h,\n",
    "                'emissions_per_material': lambda m: dict(m.emissions_per_material), \n",
    "                'emissions_glass': lambda m: dict(m.emissions_glass)\n",
    "            }\n",
    "        )\n",
    "        \n",
    "        self.load_data()\n",
    "        self.load_material_info()\n",
    "        self.add_parameters(parameters_dict) \n",
    "        \n",
    "        '''\n",
    "        DO NOT CHANGE ORDER OF AGENT CREATION BELOW. \n",
    "        od matrices (created externally in dataPrep.ipynb to save time) depends on \n",
    "        agent.unique_ids, which change if the order of agent creation is changed. \n",
    "        '''\n",
    "        self.create_constructionSites()\n",
    "        self.create_suppliers() \n",
    "        if self.hub_network != 'none': \n",
    "            self.create_hubs()\n",
    "        \n",
    "        if self.hub_network != 'none': \n",
    "            self.create_od_matrix_h2c()\n",
    "            self.create_od_matrix_h2h()\n",
    "            self.assign_hubs_to_sites()\n",
    "            self.assign_hubs_to_hubs()\n",
    "        \n",
    "        if self.circularity_type != 'none': \n",
    "            self.create_od_matrix_d2h()\n",
    "            self.assign_hubs_to_demolition_sites()\n",
    "                    \n",
    "    def load_data(self): \n",
    "        self.construction_sites_df = gpd.read_file('data/data_cleaned/construction_sites.shp')\n",
    "        self.hubs_df = gpd.read_file('data/data_cleaned/hubs.shp')\n",
    "        self.suppliers_df = gpd.read_file('data/data_cleaned/suppliers.shp')\n",
    "        self.demolition_sites_df = gpd.read_file('data/data_cleaned/demolition_sites.shp')\n",
    "        self.vehicles_info = pd.read_csv('data/data_cleaned/vehicles_info.csv')\n",
    "        self.vehicles_info_demSites = pd.read_csv('data/data_cleaned/vehicles_info_demSites.csv')\n",
    "        self.build_info = pd.read_csv('data/data_cleaned/buildingType_info.csv')\n",
    "        self.materials_logistics_info = pd.read_csv('data/data_cleaned/materials_logistics_info.csv')\n",
    "        self.materialNames_conversion = pd.read_csv('data/data_cleaned/materialNames_conversion.csv')\n",
    "        self.materials_list = list(self.build_info.material.unique())\n",
    "        self.road_matrix_h2hc = np.load('data/data_cleaned/roadOsmIds_matrix_h2hc.npy', allow_pickle=True)\n",
    "        self.road_matrix_d2h = np.load('data/data_cleaned/roadOsmIds_matrix_d2h.npy', allow_pickle=True)\n",
    "        self.road_matrix_s2h = np.load('data/data_cleaned/roadOsmIds_matrix_s2h.npy', allow_pickle=True)\n",
    "        self.road_matrix_s2c = np.load('data/data_cleaned/roadOsmIds_matrix_s2c.npy', allow_pickle=True)\n",
    "\n",
    "        self.construction_sites = []\n",
    "        self.hubs = []\n",
    "        self.suppliers = []\n",
    "        self.trucks_urban = []\n",
    "        self.vehicles_international = []\n",
    "        \n",
    "    def load_material_info(self): \n",
    "        df = self.materials_logistics_info\n",
    "        self.materials_forHubs = df[df.hub_usage == 'yes'].material.to_list()\n",
    "        self.materials_forHubs = self.materials_forHubs + ['modules']\n",
    "        self.materials_forSuppliers = df[df.hub_usage == 'no'].material.to_list()\n",
    "        \n",
    "    def add_parameters(self, parameters_dict): \n",
    "        self.network_type = parameters_dict['network_type']\n",
    "        self.truck_type = parameters_dict['truck_type']\n",
    "        self.biobased_type = parameters_dict['biobased_type']\n",
    "        self.modularity_type = parameters_dict['modularity_type']\n",
    "        self.hub_network = parameters_dict['hub_network']\n",
    "        self.circularity_type = parameters_dict['circularity_type']\n",
    "        self.parameters_dict = parameters_dict\n",
    "    \n",
    "    def create_constructionSites(self): \n",
    "        for i, row in self.construction_sites_df.iterrows(): \n",
    "            coords = (row.geometry.y, row.geometry.x)\n",
    "            site = ConstructionSite(row.unique_id, self, row.buildType, \n",
    "                                    coords, row.inA10, row.waterbound, \n",
    "                                    row.start_year, row.end_year)\n",
    "            self.schedule.add(site)\n",
    "            self.construction_sites.append(site)\n",
    "            \n",
    "    def create_suppliers(self): \n",
    "        for i, row in self.suppliers_df.iterrows(): \n",
    "            coords = (row.geometry.y, row.geometry.x)\n",
    "            supplier = Supplier(row.unique_id, self, row.material, coords)\n",
    "            self.schedule.add(supplier)\n",
    "            self.suppliers.append(supplier)\n",
    "    \n",
    "    def create_hubs(self): \n",
    "        if self.hub_network == 'centralized': \n",
    "            hub_type = ['macro', 'macro_assembly']\n",
    "        elif self.hub_network == 'decentralized': \n",
    "            hub_type = ['micro', 'macro', 'macro_assembly']\n",
    "        elif self.hub_network == 'none': \n",
    "            hub_type = []\n",
    "        for i, row in self.hubs_df.iterrows(): \n",
    "            if row.hub_type in hub_type: \n",
    "                coords = (row.geometry.y, row.geometry.x)\n",
    "                hub = Hub(row.unique_id, self, row.hub_type, coords, row.inA10, row.waterbound)\n",
    "                self.schedule.add(hub)\n",
    "                self.hubs.append(hub)\n",
    "                \n",
    "    def get_capacity(self, network_type, truck_type): \n",
    "        '''capacity_dict = {'timber': 20, 'concrete': 25, ... }\n",
    "        emissions_perTonKm = 0.0009 (emissions per km for a particular vehicle)'''\n",
    "        v = self.vehicles_info.copy()\n",
    "        v = v[(v.transportation_network == network_type) & (v.vehicle_type == truck_type)]\n",
    "        capacity_dict = {}\n",
    "        for mat in self.materials_list + ['modules']: \n",
    "            capacity = v[f'capacity_{mat}'].iloc[0]\n",
    "            capacity_dict[mat] = capacity\n",
    "        emissions_perTonKm = v.emissions_perTonKm.iloc[0]\n",
    "        nAxels = v.nAxels.iloc[0]\n",
    "        return capacity_dict, emissions_perTonKm, nAxels\n",
    "    \n",
    "    # this needs to be changed to real distance od matrix \n",
    "    # add this in data prep \n",
    "    def create_od_matrix_h2c(self): \n",
    "        '''This od matrix was made in dataPrep.ipynb. The ids correspond to the \n",
    "        agent unique ids in the agent based model. If the input data for construction sites\n",
    "        and hubs changes, this od matrix needs to change accordingly in dataPrep.ipynb.'''\n",
    "        self.od_matrix_h2c = np.load('data/data_cleaned/od_matrix_h2c.npy')\n",
    "    \n",
    "    def create_od_matrix_h2h(self): \n",
    "        '''This od matrix was made in dataPrep.ipynb. The ids correspond to the \n",
    "        agent unique ids in the agent based model. If the input data for construction sites\n",
    "        and hubs changes, this od matrix needs to change accordingly in dataPrep.ipynb.'''\n",
    "        self.od_matrix_h2h = np.load('data/data_cleaned/od_matrix_h2h.npy')\n",
    "        \n",
    "    def create_od_matrix_d2h(self): \n",
    "        '''This od matrix was made in dataPrep.ipynb. The ids correspond to the \n",
    "        agent unique ids in the agent based model. If the input data for construction sites\n",
    "        and hubs changes, this od matrix needs to change accordingly in dataPrep.ipynb.'''\n",
    "        self.od_matrix_d2h = np.load('data/data_cleaned/od_matrix_d2h.npy')\n",
    "                \n",
    "    def assign_hubs_to_sites(self):\n",
    "        od = self.od_matrix_h2c\n",
    "        nMacroHubs = len([hub for hub in self.hubs if hub.hubType == 'macro'])\n",
    "        for site in self.construction_sites: \n",
    "            site_od = od[od[:, 1] == site.unique_id]\n",
    "            if self.hub_network == 'decentralized': \n",
    "                site.nearestHub_id = int(site_od[np.argmin(site_od[:, 2]), 0])\n",
    "                site.nearestHub_dist = site_od[np.argmin(site_od[:, 2]), 2]\n",
    "            site_od_macro = site_od[:nMacroHubs]\n",
    "            site.nearestMacroHub_id = int(site_od_macro[np.argmin(site_od_macro[:, 2]), 0])\n",
    "            site.nearestMacroHub_dist = site_od_macro[np.argmin(site_od_macro[:, 2]), 2]\n",
    "                        \n",
    "    def assign_hubs_to_hubs(self): \n",
    "        od = self.od_matrix_h2h\n",
    "        for hub in self.hubs: \n",
    "            hub_od = od[od[:, 1] == hub.unique_id]\n",
    "            hub.nearestMacroHub_id = int(hub_od[np.argmin(hub_od[:, 2])][0])\n",
    "            hub.nearestMacroHub_dist = hub_od[np.argmin(hub_od[:, 2])][2]\n",
    "            \n",
    "    def assign_hubs_to_demolition_sites(self): \n",
    "        od = self.od_matrix_d2h\n",
    "        def func(row): \n",
    "            unique_id = row.unique_id\n",
    "            site_od = od[od[:, 0] == unique_id]\n",
    "            # nearest hub out of all hubs\n",
    "            row['nearestHub_id'] = int(site_od[np.argmin(site_od[:, 2]), 1])\n",
    "            row['nearestHub_dist'] = site_od[np.argmin(site_od[:, 2]), 2]\n",
    "            # nearest macroHub\n",
    "            macroHubIds = [h.unique_id for h in self.hubs if h.hubType == 'macro']\n",
    "            site_od_macro = site_od[np.isin(site_od[:, 1], macroHubIds)]\n",
    "            row['nearestMacroHub_id'] = int(site_od_macro[np.argmin(site_od_macro[:, 2]), 1])\n",
    "            row['nearestMacroHub_dist'] = site_od_macro[np.argmin(site_od_macro[:, 2]), 2]\n",
    "            return row\n",
    "        self.demolition_sites_df = self.demolition_sites_df.apply(lambda row: func(row), axis=1)\n",
    "            \n",
    "    def step(self): # each model.step() is a year\n",
    "        self.year = self.schedule.steps + 2023\n",
    "        self.schedule.step()\n",
    "        self.calc_emissions()\n",
    "        self.datacollector.collect(self)\n",
    "    \n",
    "    def calc_emissions(self): \n",
    "        self.emissions = round(self.emissions_h2c + self.emissions_s2h + self.emissions_s2c + self.emissions_d2h)\n",
    "    \n",
    "    def visualize(self): \n",
    "        emissions_text = self.display_total_emissions()\n",
    "        fig_emissions = self.display_emissions_chart()\n",
    "        fig_emissions_perMaterial = self.display_emissions_chart_byMaterial()\n",
    "        fig_materials = self.display_materials_chart()\n",
    "        map_html = self.display_folium_html()\n",
    "\n",
    "        return emissions_text, fig_emissions, fig_emissions_perMaterial, fig_materials, map_html\n",
    "        \n",
    "    def display_total_emissions(self): \n",
    "        total_emissions = round(self.emissions_h2c + self.emissions_s2h + self.emissions_s2c + self.emissions_d2h)\n",
    "        emissions_text = (\n",
    "            f'''\n",
    "            emissions (suppliers to construction sites): {round(self.emissions_s2c)} tCO2eq\n",
    "            emissions (suppliers to hubs): {round(self.emissions_s2h)} tCO2eq\n",
    "            emissions (demSites to hubs): {round(self.emissions_d2h)} tCO2eq\n",
    "            emissions (hubs to construction sites): {round(self.emissions_h2c)} tCO2eq\n",
    "            emissions (total): {total_emissions} tCO2eq\n",
    "            '''\n",
    "        )\n",
    "        return emissions_text\n",
    "        \n",
    "    def display_emissions_chart(self): \n",
    "        data = self.datacollector.get_model_vars_dataframe()\n",
    "        data = data.reset_index(names='step')\n",
    "        data.step = data.step.map(lambda x: x + 2023)\n",
    "        data.rename(columns={'step': 'year'}, inplace=True)\n",
    "        fig = px.line(data, x=\"year\", \n",
    "                      y=['emissions_s2c', 'emissions_s2h', 'emissions_d2h', 'emissions_h2c', 'emissions_total'], \n",
    "                      title='emissions')\n",
    "        fig.update_layout(height=500)  # or any desired height in pixels\n",
    "        return fig\n",
    "    \n",
    "    def display_emissions_chart_byMaterial(self): \n",
    "        data = self.datacollector.get_model_vars_dataframe()\n",
    "        df = data.copy()\n",
    "        df = df[['emissions_per_material']]\n",
    "        df = df.explode('emissions_per_material').reset_index(names='step')\n",
    "        df = df.rename(columns={'emissions_per_material': 'material'})\n",
    "        df = df.dropna()\n",
    "        def get_emissions(row): \n",
    "            emissions_dict = data.iloc[row.step].emissions_per_material\n",
    "            row['emissions'] = emissions_dict[row.material]\n",
    "            return row\n",
    "        df = df.apply(lambda row: get_emissions(row), axis=1)\n",
    "\n",
    "        dfAdd = df[df.step == 1]\n",
    "        dfAdd.step = 0\n",
    "        dfAdd.emissions = 0\n",
    "        df = pd.concat([dfAdd, df])\n",
    "        df.step = df.step.map(lambda x: x + 2023)\n",
    "        df.rename(columns={'step': 'year'}, inplace=True)\n",
    "\n",
    "        fig = px.line(df, x='year', y='emissions', color='material', title='emissions per material')\n",
    "        fig.update_layout(height=500)\n",
    "        return fig\n",
    "    \n",
    "    def display_materials_chart(self): \n",
    "        df_mat = self._make_df_materials(self.construction_sites)\n",
    "        df_circ = self._make_df_circular(self.construction_sites, self.circularity_type)\n",
    "        self.df_mat = df_mat\n",
    "        self.df_circ = df_circ\n",
    "        \n",
    "        fig_1 = px.pie(df_mat, values='tons', names='material', title='materials used')\n",
    "        fig_2 = px.pie(df_circ, values='tons', names='circular', title='materials used')\n",
    "\n",
    "        fig = make_subplots(rows=1, cols=2, \n",
    "                            subplot_titles=('by material type', 'by circularity type'),\n",
    "                            specs=[[{'type':'domain'}, {'type':'domain'}]])\n",
    "        fig.add_trace(fig_1.data[0], 1, 1)\n",
    "        fig.add_trace(fig_2.data[0], 1, 2)\n",
    "        fig.update_layout(title_text=\"Total material usage\")\n",
    "        fig.update_layout(showlegend=False)\n",
    "        for annotation in fig['layout']['annotations']: \n",
    "            annotation['font'] = dict(size=12)  # Set to desired font size\n",
    "        \n",
    "        return fig \n",
    "    \n",
    "    def _make_df_materials(self, consite_agents_list): \n",
    "        dfs = []\n",
    "        for site in consite_agents_list: \n",
    "            df = site.material_composition_df\n",
    "            df = df.groupby(by='material').sum(numeric_only=True).reset_index()\n",
    "            dfs.append(df)\n",
    "        return pd.concat(dfs).groupby('material').sum(numeric_only=True).reset_index() \n",
    "    \n",
    "    def _make_df_circular(self, consite_agents_list, circularity_type): \n",
    "        circularity_dict = {\n",
    "            'none': [], \n",
    "            'semi': ['non-structural'], \n",
    "            'full': ['non-structural', 'structural'], \n",
    "            'extreme': ['non-structural', 'structural', 'foundation']\n",
    "        }\n",
    "\n",
    "        dfs = []\n",
    "        for site in consite_agents_list: \n",
    "            df = site.material_composition_df\n",
    "            \n",
    "            def decide_circularity(row): \n",
    "                bulk_materials = ['cement_cover-floor', 'concrete_in-situ', 'concrete_prefab', 'gravel_sand']\n",
    "                row['circular'] = 'circular' if row.structural_type in circularity_dict[circularity_type] else 'not circular'\n",
    "                if row.material in bulk_materials or row.material == 'modules': \n",
    "                    row['circular'] = 'not circular'\n",
    "                return row \n",
    "            df = df.apply(lambda row: decide_circularity(row), axis=1)\n",
    "            df = df.groupby('circular').sum(numeric_only=True).reset_index()\n",
    "            \n",
    "            dfs.append(df)\n",
    "            \n",
    "        return pd.concat(dfs).groupby('circular').sum(numeric_only=True).reset_index()\n",
    "    \n",
    "    def display_folium_html(self): \n",
    "        \n",
    "        m = folium.Map([52.377231, 4.899288], zoom_start=11, tiles='cartodbdark_matter')\n",
    "        if self.hub_network != 'none':  \n",
    "            if self.circularity_type != 'none': \n",
    "                self.plotPoints_demSites(m, '#4a4a4a', 1)\n",
    "        self.plotLines_roadsUsed(m)\n",
    "        if self.network_type != 'road': \n",
    "            self._plotLines_nonRoad_networks(m)\n",
    "        self.plotPoints(m, self.suppliers, 'grey', 1)\n",
    "        self.plotPoints(m, self.construction_sites, 'white', 1)\n",
    "        self.plotPoints(m, [h for h in self.hubs if h.hubType != 'micro' and h.clients], 'red', 8)\n",
    "        self.plotPoints(m, [h for h in self.hubs if h.hubType == 'micro' and h.clients], 'red', 4)\n",
    "        html_string = m._repr_html_()\n",
    "        return html_string\n",
    "    \n",
    "    def _plotLines_nonRoad_networks(self, m): \n",
    "        if self.network_type == 'water': \n",
    "            waterPaths_plot = gpd.read_file('data/networkLines_water.gpkg') \n",
    "            def style_function(feature):\n",
    "                return {\n",
    "                    'color': 'blue',\n",
    "                    'weight': 2,\n",
    "                    'opacity': 1,\n",
    "                }\n",
    "\n",
    "            folium.GeoJson(\n",
    "                waterPaths_plot,\n",
    "                style_function=style_function,\n",
    "            ).add_to(m)\n",
    "            \n",
    "        elif self.network_type == 'rail': \n",
    "            def style_function(feature):\n",
    "                return {\n",
    "                    'color': 'brown',\n",
    "                    'weight': 2,\n",
    "                    'opacity': 1,\n",
    "                    'dashArray': '5, 5',  # This creates the dotted line effect\n",
    "                }\n",
    "            \n",
    "            railPaths_plot = gpd.read_file('data/networkLines_rail.gpkg')\n",
    "            folium.GeoJson(\n",
    "                railPaths_plot,\n",
    "                style_function=style_function,\n",
    "            ).add_to(m)\n",
    "    \n",
    "    def plotPoints(self, m, agent_list, color, radius): \n",
    "        for agent in agent_list: \n",
    "            # selected_color = 'blue' if agent.waterbound else color\n",
    "            selected_color = color\n",
    "            folium.CircleMarker(\n",
    "                location=agent.coords, radius=radius, color=selected_color, fill_color=selected_color, \n",
    "                popup=folium.Popup(f'id: {agent.unique_id}', max_width=300, height=150), \n",
    "            ).add_to(m)\n",
    "\n",
    "    def plotLines_roadsUsed(self, m): \n",
    "        indicator = 'nTrips'\n",
    "        df = self.roads_used\n",
    "        df = df[df.nTrips > 0]\n",
    "        max_trips = df[indicator].max()\n",
    "        quantiles = df[indicator].quantile([0, 0.2, 0.4, 0.6, 0.8, 1])\n",
    "        def get_color(value):\n",
    "            lowVal = 80\n",
    "            inc = (255 - lowVal) / 5\n",
    "            if value <= quantiles[0.2]:\n",
    "                return f'rgb({lowVal}, 0, 0)'  # Dark Red\n",
    "            elif value <= quantiles[0.4]:\n",
    "                return f'rgb({lowVal+inc*1}, 0, 0)'  # Slightly Brighter Red\n",
    "            elif value <= quantiles[0.6]:\n",
    "                return f'rgb({lowVal+inc*2}, 0, 0)'  # Medium Bright Red\n",
    "            elif value <= quantiles[0.8]:\n",
    "                return f'rgb({lowVal+inc*3}, 0, 0)'  # Brighter Red\n",
    "            else:\n",
    "                return 'rgb(255, 0, 0)'  # Brightest Red\n",
    "        def style_function(feature):\n",
    "            nTrips = feature['properties'][indicator]\n",
    "            proportion = np.log(1 + nTrips) / np.log(1 + max_trips)\n",
    "            red_intensity = int(20 + 235 * proportion)\n",
    "            return {\n",
    "                'fillOpacity': 0.5,\n",
    "                'weight': 2,  # or however thick you want your roads\n",
    "                'color': get_color(nTrips)\n",
    "                # 'color': f'rgb({red_intensity}, 0, 0)'\n",
    "            }\n",
    "        def popup_function(feature):\n",
    "            return folium.Popup(str(feature['properties'][indicator]))\n",
    "        folium.GeoJson(\n",
    "            df, \n",
    "            style_function=style_function, \n",
    "            popup=popup_function\n",
    "        ).add_to(m)\n",
    "                \n",
    "    def plotLines_s2h(self, m): \n",
    "        if self.hub_network != 'none': \n",
    "            macroHubs = [hub for hub in self.hubs if hub.hubType == 'macro']\n",
    "            for hub in self.hubs: \n",
    "                if hub.supplier_ids: \n",
    "                    for supplier_id in hub.supplier_ids: \n",
    "                        suppliers = self.suppliers if hub.hubType != 'micro' else macroHubs\n",
    "                        supplier = [s for s in suppliers if s.unique_id == supplier_id][0]\n",
    "                        folium.PolyLine(\n",
    "                            locations=[supplier.coords, hub.coords], weight=1, \n",
    "                            color='#454545', dash_array='5'\n",
    "                        ).add_to(m)\n",
    "        else: \n",
    "            sites = self.construction_sites\n",
    "            for supplier in self.suppliers: \n",
    "                for site in sites: \n",
    "                    folium.PolyLine(\n",
    "                        locations=[supplier.coords, site.coords], weight=1, \n",
    "                        color='#454545', dash_array='5'\n",
    "                    ).add_to(m)\n",
    "                \n",
    "    def plotLines_d2h(self, m):\n",
    "        for hub in self.hubs: \n",
    "            coords_hub = hub.coords\n",
    "            demSite_ids = list(set(hub.demolition_site_ids))\n",
    "            for demSite_id in demSite_ids:\n",
    "                demSites = self.demolition_sites_df\n",
    "                demSite = demSites[demSites.unique_id == demSite_id].iloc[0]\n",
    "                coord_demSite = (demSite.geometry.y, demSite.geometry.x)\n",
    "                folium.PolyLine(\n",
    "                    locations=[coords_hub, coord_demSite], weight=1, \n",
    "                    color='#454545', dash_array='5'\n",
    "                ).add_to(m)\n",
    "        \n",
    "    def plotPoints_demSites(self, m, color, radius): \n",
    "        for hub in self.hubs: \n",
    "            demSite_ids = list(set(hub.demolition_site_ids))\n",
    "            for demSite_id in demSite_ids: \n",
    "                demSites = self.demolition_sites_df\n",
    "                demSite = demSites[demSites.unique_id == demSite_id].iloc[0]\n",
    "                coord = (demSite.geometry.y, demSite.geometry.x)\n",
    "                folium.CircleMarker(\n",
    "                    location=coord, radius=radius, color=color, \n",
    "                    popup=folium.Popup(f'id: {demSite.unique_id}', max_width=300)\n",
    "                ).add_to(m)\n",
    "                \n",
    "    def plotPoints_hubs(self, m, color):\n",
    "        self.plotPoints(m, [hub for hub in self.hubs if hub.hubType == 'macro'], color, 5)\n",
    "        if self.hub_network == 'decentralized': \n",
    "            for macroHub in [h for h in self.hubs if h.hubType == 'macro']: \n",
    "                for client_id in macroHub.client_ids: \n",
    "                    if client_id in [h.unique_id for h in self.hubs]: \n",
    "                        microHub = [h for h in self.hubs if h.unique_id == client_id][0]\n",
    "                        folium.CircleMarker(\n",
    "                            location=microHub.coords, radius=1, color=color, \n",
    "                            popup=folium.Popup(f'id: {microHub.unique_id}', max_width=300)\n",
    "                        ).add_to(m)"
   ]
  },
  {
   "cell_type": "code",
   "execution_count": 5,
   "id": "2c8ecf30-b515-45a5-b2d9-6a1f8a9f2697",
   "metadata": {
    "tags": []
   },
   "outputs": [
    {
     "data": {
      "application/vnd.jupyter.widget-view+json": {
       "model_id": "",
       "version_major": 2,
       "version_minor": 0
      },
      "text/plain": [
       "Dropdown(description='hub_network', layout=Layout(width='500px'), options=('centralized', 'decentralized', 'no…"
      ]
     },
     "metadata": {},
     "output_type": "display_data"
    },
    {
     "data": {
      "application/vnd.jupyter.widget-view+json": {
       "model_id": "",
       "version_major": 2,
       "version_minor": 0
      },
      "text/plain": [
       "Dropdown(description='network_type', layout=Layout(width='500px'), options=('road', 'water', 'rail'), style=De…"
      ]
     },
     "metadata": {},
     "output_type": "display_data"
    },
    {
     "data": {
      "application/vnd.jupyter.widget-view+json": {
       "model_id": "",
       "version_major": 2,
       "version_minor": 0
      },
      "text/plain": [
       "Dropdown(description='truck_type', layout=Layout(width='500px'), options=('diesel', 'semi', 'electric'), style…"
      ]
     },
     "metadata": {},
     "output_type": "display_data"
    },
    {
     "data": {
      "application/vnd.jupyter.widget-view+json": {
       "model_id": "",
       "version_major": 2,
       "version_minor": 0
      },
      "text/plain": [
       "Dropdown(description='biobased_type', layout=Layout(width='500px'), options=('biobased non-structural + struct…"
      ]
     },
     "metadata": {},
     "output_type": "display_data"
    },
    {
     "data": {
      "application/vnd.jupyter.widget-view+json": {
       "model_id": "",
       "version_major": 2,
       "version_minor": 0
      },
      "text/plain": [
       "Dropdown(description='modularity_type', layout=Layout(width='500px'), options=('conventional', 'non-structural…"
      ]
     },
     "metadata": {},
     "output_type": "display_data"
    },
    {
     "data": {
      "application/vnd.jupyter.widget-view+json": {
       "model_id": "",
       "version_major": 2,
       "version_minor": 0
      },
      "text/plain": [
       "Dropdown(description='circularity_type', layout=Layout(width='500px'), options=('circular non-structural eleme…"
      ]
     },
     "metadata": {},
     "output_type": "display_data"
    }
   ],
   "source": [
    "import ipywidgets as widgets\n",
    "from IPython.display import display\n",
    "\n",
    "# Define your parameters and their options\n",
    "params_options = {\n",
    "    'hub_network': ['centralized', 'decentralized', 'none'],\n",
    "    'network_type': ['road', 'water', 'rail'],\n",
    "    'truck_type': ['diesel', 'semi', 'electric'],\n",
    "    'biobased_type': ['biobased non-structural + structural elements', \n",
    "                      'conventional'],\n",
    "    'modularity_type': ['conventional', 'non-structural modules'], \n",
    "    'circularity_type': ['circular non-structural elements', \n",
    "                      'circular non-structural + structural elements', \n",
    "                      'circular non-structural + structural + foundation elements', \n",
    "                      'conventional'],\n",
    "}\n",
    "\n",
    "params_conversion = {\n",
    "    'biobased_type': {'biobased non-structural + structural elements': 'full', \n",
    "                      'conventional': 'none'}, \n",
    "    'modularity_type': {'conventional': 'none', \n",
    "                        'non-structural modules': 'full'}, \n",
    "    'circularity_type': {'circular non-structural elements': 'semi', \n",
    "                      'circular non-structural + structural elements': 'full', \n",
    "                      'circular non-structural + structural + foundation elements': 'extreme', \n",
    "                      'conventional': 'none'}\n",
    "}\n",
    "\n",
    "def update_options_hub_network(change): \n",
    "    if change['new'] == 'none': \n",
    "        dropdowns['network_type'].options = ['road']\n",
    "        dropdowns['truck_type'].options = ['diesel']\n",
    "        dropdowns['circularity_type'].options = ['conventional']\n",
    "        dropdowns['modularity_type'].options = ['conventional']\n",
    "    else:\n",
    "        # Reset to original options if 'none' is not selected\n",
    "        dropdowns['network_type'].options = params_options['network_type']\n",
    "        dropdowns['truck_type'].options = params_options['truck_type']\n",
    "        dropdowns['circularity_type'].options = params_options['circularity_type']\n",
    "        \n",
    "def update_options_biobased_type(change): \n",
    "    if change['new'] == 'conventional': \n",
    "        dropdowns['modularity_type'].options = ['conventional']\n",
    "    else:\n",
    "        dropdowns['modularity_type'].options = params_options['modularity_type']\n",
    "\n",
    "def update_options_modularity_type(change): \n",
    "    if change['new'] == 'non-structural modules': \n",
    "        dropdowns['circularity_type'].options = [ \n",
    "            'circular non-structural + structural elements', \n",
    "            'circular non-structural + structural + foundation elements', \n",
    "            'conventional'\n",
    "        ]\n",
    "    else:\n",
    "        dropdowns['circularity_type'].options = params_options['circularity_type']\n",
    "\n",
    "def update_options_circularity_type(change): \n",
    "    if change['new'] == 'circular non-structural elements': \n",
    "        dropdowns['modularity_type'].options = ['conventional']\n",
    "    else:\n",
    "        dropdowns['modularity_type'].options = params_options['modularity_type']\n",
    "\n",
    "# Create dropdown widgets\n",
    "dropdowns = {}\n",
    "for key, options in params_options.items():\n",
    "    layout = widgets.Layout(width='500px')\n",
    "    style = {'description_width': '100px'}\n",
    "    dropdowns[key] = widgets.Dropdown(options=options, description=key, \n",
    "                                      value=options[0], layout=layout, style=style)\n",
    "    if key == 'hub_network': \n",
    "        dropdowns[key].observe(update_options_hub_network, names='value')\n",
    "    if key == 'biobased_type': \n",
    "        dropdowns[key].observe(update_options_biobased_type, names='value')\n",
    "    if key == 'modularity_type': \n",
    "        dropdowns[key].observe(update_options_modularity_type, names='value')\n",
    "    display(dropdowns[key])"
   ]
  },
  {
   "cell_type": "code",
   "execution_count": 57,
   "id": "f1761147-e84d-45ab-acec-4fbb6581f781",
   "metadata": {
    "collapsed": true,
    "jupyter": {
     "outputs_hidden": true
    },
    "tags": []
   },
   "outputs": [
    {
     "name": "stdout",
     "output_type": "stream",
     "text": [
      "\n",
      "\n",
      "year 2023 ... \n",
      "macro hub 373 is calculating materials to send... \n",
      "macro hub 374 is calculating materials to send... \n",
      "macro_assembly hub 375 is calculating materials to send... \n",
      "\n",
      "\n",
      "year 2024 ... \n",
      "concrete_in-situ supplier is sending materials to site ... \n",
      "gravel_sand supplier is sending materials to site ... \n",
      "macro hub 373 is calculating materials to send... \n",
      "macro hub 373 is making materials request ... \n",
      "macro hub 373 has the following mat request: \n",
      "{'foundation': {'steel': 1677.3333333333337}, 'non-structural': {'modules': 10563.833333333332}, 'structural': {'timber': 4074.3499999999985}}\n",
      "macro hub 373 is triaging materials request ... \n",
      "supplier strucTypes: ['foundation', 'non-structural']; demsite strucTypes: ['non-structural', 'structural']\n",
      "mat request for demsites: {'non-structural': {}, 'structural': {'timber': 4074.3499999999985}}\n",
      "mat request for supplers: {'foundation': {'steel': 1677.3333333333337}, 'non-structural': {}}\n",
      "macro hub 373 is collecting materials from dem sites ... \n",
      "macro hub 373 has collected the following materials from demolition sites: \n",
      "['timber']\n",
      "macro hub 373 is collecting materials from supplier ... \n",
      "request for suppliers: \n",
      "{'foundation': {'steel': 1677.3333333333337}, 'non-structural': {}}\n",
      "macro hub 373 is sending materials to client ... \n",
      "macro hub 374 is calculating materials to send... \n",
      "macro hub 374 is making materials request ... \n",
      "macro hub 374 is triaging materials request ... \n",
      "macro hub 374 is collecting materials from dem sites ... \n",
      "macro hub 374 has collected the following materials from demolition sites: \n",
      "['timber']\n",
      "macro hub 374 is collecting materials from supplier ... \n",
      "request for suppliers: \n",
      "{'foundation': {'steel': 6421.250000000005}, 'non-structural': {}}\n",
      "macro hub 374 is sending materials to client ... \n",
      "macro_assembly hub 375 is calculating materials to send... \n",
      "macro_assembly hub 375 is making materials request ... \n",
      "macro_assembly hub 375 is making materials request for module supplier ... \n",
      "macro_assembly hub 375 is collecting materials from supplier ... \n",
      "request for suppliers: \n",
      "{'foundation': {}, 'non-structural': {'modules': 47843.08333333329}, 'structural': {}}\n",
      "macro_assembly hub 375 is sending materials to client ... \n",
      "\n",
      "\n",
      "year 2025 ... \n",
      "concrete_in-situ supplier is sending materials to site ... \n",
      "gravel_sand supplier is sending materials to site ... \n",
      "macro hub 373 is calculating materials to send... \n",
      "macro hub 373 is making materials request ... \n",
      "macro hub 373 has the following mat request: \n",
      "{'foundation': {'steel': 5758.250000000003}, 'non-structural': {'modules': 33106.250000000015}, 'structural': {'timber': 13744.050000000012}}\n",
      "macro hub 373 is triaging materials request ... \n",
      "supplier strucTypes: ['foundation', 'non-structural']; demsite strucTypes: ['non-structural', 'structural']\n",
      "mat request for demsites: {'non-structural': {}, 'structural': {'timber': 13744.050000000012}}\n",
      "mat request for supplers: {'foundation': {'steel': 5758.250000000003}, 'non-structural': {}}\n",
      "macro hub 373 is collecting materials from dem sites ... \n",
      "macro hub 373 has collected the following materials from demolition sites: \n",
      "['timber']\n",
      "macro hub 373 is collecting materials from supplier ... \n",
      "request for suppliers: \n",
      "{'foundation': {'steel': 5758.250000000003}, 'non-structural': {}}\n",
      "macro hub 373 is sending materials to client ... \n",
      "macro hub 374 is calculating materials to send... \n",
      "macro hub 374 is making materials request ... \n",
      "macro hub 374 is triaging materials request ... \n",
      "macro hub 374 is collecting materials from dem sites ... \n",
      "macro hub 374 has collected the following materials from demolition sites: \n",
      "['timber']\n",
      "macro hub 374 is collecting materials from supplier ... \n",
      "request for suppliers: \n",
      "{'foundation': {'steel': 13158.249999999985}, 'non-structural': {}}\n",
      "macro hub 374 is sending materials to client ... \n",
      "macro_assembly hub 375 is calculating materials to send... \n",
      "macro_assembly hub 375 is making materials request ... \n",
      "macro_assembly hub 375 is making materials request for module supplier ... \n",
      "macro_assembly hub 375 is collecting materials from supplier ... \n",
      "request for suppliers: \n",
      "{'foundation': {}, 'non-structural': {'modules': 108600.0000000002}, 'structural': {}}\n",
      "macro_assembly hub 375 is sending materials to client ... \n"
     ]
    }
   ],
   "source": [
    "parameters_dict = {}\n",
    "for name in dropdowns.keys(): \n",
    "    parameters_dict[name] = dropdowns[name].value\n",
    "\n",
    "for key, value in parameters_dict.items():\n",
    "    if key in params_conversion:\n",
    "        parameters_dict[key] = params_conversion[key][value]\n",
    "\n",
    "# create and run model \n",
    "model = Model(parameters_dict)\n",
    "for i in range(3): \n",
    "    # each model.step() is a year. \n",
    "    # This model simulates 10 years: from 2023 to 2033. \n",
    "    print(f'\\n\\nyear {i + 2023} ... ')\n",
    "    model.step()\n",
    "    # print(f'\\ntotal emissions (for all hubs, all materials): {model.emissions_s2h}')"
   ]
  },
  {
   "cell_type": "code",
   "execution_count": 8,
   "id": "e2f2b004-9d41-4b68-9aab-15319656c7de",
   "metadata": {
    "jupyter": {
     "source_hidden": true
    },
    "tags": []
   },
   "outputs": [
    {
     "data": {
      "application/vnd.jupyter.widget-view+json": {
       "model_id": "",
       "version_major": 2,
       "version_minor": 0
      },
      "text/plain": [
       "Button(description='Run model!', style=ButtonStyle())"
      ]
     },
     "metadata": {},
     "output_type": "display_data"
    },
    {
     "data": {
      "application/vnd.jupyter.widget-view+json": {
       "model_id": "",
       "version_major": 2,
       "version_minor": 0
      },
      "text/plain": [
       "Output()"
      ]
     },
     "metadata": {},
     "output_type": "display_data"
    }
   ],
   "source": [
    "# import ipywidgets as widgets\n",
    "from IPython.display import display, HTML\n",
    "\n",
    "button = widgets.Button(description=\"Run model!\")\n",
    "output = widgets.Output()\n",
    "\n",
    "display(button, output)\n",
    "\n",
    "def on_button_clicked(b):\n",
    "    with output:\n",
    "        output.clear_output(wait=True)\n",
    "        \n",
    "        print('running model ... ')\n",
    "        print('(be patient, this will take ~10-30 seconds)')\n",
    "        parameters_dict = {}\n",
    "        for name in dropdowns.keys(): \n",
    "            parameters_dict[name] = dropdowns[name].value\n",
    "\n",
    "        for key, value in parameters_dict.items():\n",
    "            if key in params_conversion:\n",
    "                parameters_dict[key] = params_conversion[key][value]\n",
    "\n",
    "        # create and run model \n",
    "        model = Model(parameters_dict)\n",
    "        for i in range(12): \n",
    "            # each model.step() is a year. \n",
    "            # This model simulates 10 years: from 2023 to 2033. \n",
    "            print(f'\\n\\nyear: {i + 2023}')\n",
    "            model.step()\n",
    "\n",
    "        emissions_text, fig_emissions, fig_emissions_perMaterial, fig_materials, map_html = model.visualize()\n",
    "\n",
    "        # visualize as widgets\n",
    "        print(emissions_text)\n",
    "        \n",
    "        # fig_emissions.update_layout(height=300, width=500)\n",
    "        # fig_materials.update_layout(height=300, width=500)\n",
    "        \n",
    "        fig_widget_emissions = widgets.Output(layout=widgets.Layout())\n",
    "        fig_widget_materials = widgets.Output(layout=widgets.Layout()) \n",
    "        fig_widget_emissionsPerMaterial = widgets.Output(layout=widgets.Layout())\n",
    "        with fig_widget_emissions:\n",
    "            fig_emissions.show()\n",
    "        with fig_widget_emissionsPerMaterial: \n",
    "            fig_emissions_perMaterial.show()\n",
    "        with fig_widget_materials: \n",
    "            fig_materials.show()\n",
    "            \n",
    "        v_box = widgets.VBox([fig_widget_emissions, fig_widget_emissionsPerMaterial, fig_widget_materials], layout=widgets.Layout(width='30%', height='600px'))\n",
    "        \n",
    "        map_widget = widgets.HTML(map_html, layout=widgets.Layout(width='70%'))\n",
    "        h_box = widgets.HBox([v_box, map_widget])\n",
    "        display(h_box)\n",
    "        \n",
    "\n",
    "button.on_click(on_button_clicked)"
   ]
  },
  {
   "cell_type": "code",
   "execution_count": null,
   "id": "f9120791-87de-4014-87fa-153d9afef67e",
   "metadata": {},
   "outputs": [],
   "source": []
  },
  {
   "cell_type": "code",
   "execution_count": null,
   "id": "287e1c23-6a4a-4f2f-ac04-10583d23844d",
   "metadata": {},
   "outputs": [],
   "source": []
  },
  {
   "cell_type": "code",
   "execution_count": null,
   "id": "92edff09-127b-459f-b341-f9c3138107a7",
   "metadata": {},
   "outputs": [],
   "source": []
  },
  {
   "cell_type": "code",
   "execution_count": null,
   "id": "cb2accd7-2c9f-4e23-8971-07d72cfae130",
   "metadata": {},
   "outputs": [],
   "source": []
  },
  {
   "cell_type": "code",
   "execution_count": null,
   "id": "e48e979c-3c68-4c03-bc13-a6bc3155bc44",
   "metadata": {},
   "outputs": [],
   "source": [
    "df"
   ]
  },
  {
   "cell_type": "code",
   "execution_count": 46,
   "id": "6a3848e3-d73e-4bcb-b39b-2d8b67920959",
   "metadata": {},
   "outputs": [
    {
     "data": {
      "application/vnd.plotly.v1+json": {
       "config": {
        "plotlyServerURL": "https://plot.ly"
       },
       "data": [
        {
         "alignmentgroup": "True",
         "hovertemplate": "biobased_type=full<br>buildingType=%{x}<br>tons=%{y}<extra></extra>",
         "legendgroup": "full",
         "marker": {
          "color": "#636efa",
          "pattern": {
           "shape": ""
          }
         },
         "name": "full",
         "offsetgroup": "full",
         "orientation": "v",
         "showlegend": true,
         "textposition": "auto",
         "type": "bar",
         "x": [
          "B",
          "C",
          "D"
         ],
         "xaxis": "x",
         "y": [
          13038.27,
          32386.77,
          89426.08
         ],
         "yaxis": "y"
        },
        {
         "alignmentgroup": "True",
         "hovertemplate": "biobased_type=none<br>buildingType=%{x}<br>tons=%{y}<extra></extra>",
         "legendgroup": "none",
         "marker": {
          "color": "#EF553B",
          "pattern": {
           "shape": ""
          }
         },
         "name": "none",
         "offsetgroup": "none",
         "orientation": "v",
         "showlegend": true,
         "textposition": "auto",
         "type": "bar",
         "x": [
          "B",
          "C",
          "D"
         ],
         "xaxis": "x",
         "y": [
          19014.8825,
          60444.4475,
          108743.1
         ],
         "yaxis": "y"
        }
       ],
       "layout": {
        "autosize": false,
        "barmode": "group",
        "height": 450,
        "legend": {
         "title": {
          "text": "biobased_type"
         },
         "tracegroupgap": 0
        },
        "template": {
         "data": {
          "bar": [
           {
            "error_x": {
             "color": "#2a3f5f"
            },
            "error_y": {
             "color": "#2a3f5f"
            },
            "marker": {
             "line": {
              "color": "#E5ECF6",
              "width": 0.5
             },
             "pattern": {
              "fillmode": "overlay",
              "size": 10,
              "solidity": 0.2
             }
            },
            "type": "bar"
           }
          ],
          "barpolar": [
           {
            "marker": {
             "line": {
              "color": "#E5ECF6",
              "width": 0.5
             },
             "pattern": {
              "fillmode": "overlay",
              "size": 10,
              "solidity": 0.2
             }
            },
            "type": "barpolar"
           }
          ],
          "carpet": [
           {
            "aaxis": {
             "endlinecolor": "#2a3f5f",
             "gridcolor": "white",
             "linecolor": "white",
             "minorgridcolor": "white",
             "startlinecolor": "#2a3f5f"
            },
            "baxis": {
             "endlinecolor": "#2a3f5f",
             "gridcolor": "white",
             "linecolor": "white",
             "minorgridcolor": "white",
             "startlinecolor": "#2a3f5f"
            },
            "type": "carpet"
           }
          ],
          "choropleth": [
           {
            "colorbar": {
             "outlinewidth": 0,
             "ticks": ""
            },
            "type": "choropleth"
           }
          ],
          "contour": [
           {
            "colorbar": {
             "outlinewidth": 0,
             "ticks": ""
            },
            "colorscale": [
             [
              0,
              "#0d0887"
             ],
             [
              0.1111111111111111,
              "#46039f"
             ],
             [
              0.2222222222222222,
              "#7201a8"
             ],
             [
              0.3333333333333333,
              "#9c179e"
             ],
             [
              0.4444444444444444,
              "#bd3786"
             ],
             [
              0.5555555555555556,
              "#d8576b"
             ],
             [
              0.6666666666666666,
              "#ed7953"
             ],
             [
              0.7777777777777778,
              "#fb9f3a"
             ],
             [
              0.8888888888888888,
              "#fdca26"
             ],
             [
              1,
              "#f0f921"
             ]
            ],
            "type": "contour"
           }
          ],
          "contourcarpet": [
           {
            "colorbar": {
             "outlinewidth": 0,
             "ticks": ""
            },
            "type": "contourcarpet"
           }
          ],
          "heatmap": [
           {
            "colorbar": {
             "outlinewidth": 0,
             "ticks": ""
            },
            "colorscale": [
             [
              0,
              "#0d0887"
             ],
             [
              0.1111111111111111,
              "#46039f"
             ],
             [
              0.2222222222222222,
              "#7201a8"
             ],
             [
              0.3333333333333333,
              "#9c179e"
             ],
             [
              0.4444444444444444,
              "#bd3786"
             ],
             [
              0.5555555555555556,
              "#d8576b"
             ],
             [
              0.6666666666666666,
              "#ed7953"
             ],
             [
              0.7777777777777778,
              "#fb9f3a"
             ],
             [
              0.8888888888888888,
              "#fdca26"
             ],
             [
              1,
              "#f0f921"
             ]
            ],
            "type": "heatmap"
           }
          ],
          "heatmapgl": [
           {
            "colorbar": {
             "outlinewidth": 0,
             "ticks": ""
            },
            "colorscale": [
             [
              0,
              "#0d0887"
             ],
             [
              0.1111111111111111,
              "#46039f"
             ],
             [
              0.2222222222222222,
              "#7201a8"
             ],
             [
              0.3333333333333333,
              "#9c179e"
             ],
             [
              0.4444444444444444,
              "#bd3786"
             ],
             [
              0.5555555555555556,
              "#d8576b"
             ],
             [
              0.6666666666666666,
              "#ed7953"
             ],
             [
              0.7777777777777778,
              "#fb9f3a"
             ],
             [
              0.8888888888888888,
              "#fdca26"
             ],
             [
              1,
              "#f0f921"
             ]
            ],
            "type": "heatmapgl"
           }
          ],
          "histogram": [
           {
            "marker": {
             "pattern": {
              "fillmode": "overlay",
              "size": 10,
              "solidity": 0.2
             }
            },
            "type": "histogram"
           }
          ],
          "histogram2d": [
           {
            "colorbar": {
             "outlinewidth": 0,
             "ticks": ""
            },
            "colorscale": [
             [
              0,
              "#0d0887"
             ],
             [
              0.1111111111111111,
              "#46039f"
             ],
             [
              0.2222222222222222,
              "#7201a8"
             ],
             [
              0.3333333333333333,
              "#9c179e"
             ],
             [
              0.4444444444444444,
              "#bd3786"
             ],
             [
              0.5555555555555556,
              "#d8576b"
             ],
             [
              0.6666666666666666,
              "#ed7953"
             ],
             [
              0.7777777777777778,
              "#fb9f3a"
             ],
             [
              0.8888888888888888,
              "#fdca26"
             ],
             [
              1,
              "#f0f921"
             ]
            ],
            "type": "histogram2d"
           }
          ],
          "histogram2dcontour": [
           {
            "colorbar": {
             "outlinewidth": 0,
             "ticks": ""
            },
            "colorscale": [
             [
              0,
              "#0d0887"
             ],
             [
              0.1111111111111111,
              "#46039f"
             ],
             [
              0.2222222222222222,
              "#7201a8"
             ],
             [
              0.3333333333333333,
              "#9c179e"
             ],
             [
              0.4444444444444444,
              "#bd3786"
             ],
             [
              0.5555555555555556,
              "#d8576b"
             ],
             [
              0.6666666666666666,
              "#ed7953"
             ],
             [
              0.7777777777777778,
              "#fb9f3a"
             ],
             [
              0.8888888888888888,
              "#fdca26"
             ],
             [
              1,
              "#f0f921"
             ]
            ],
            "type": "histogram2dcontour"
           }
          ],
          "mesh3d": [
           {
            "colorbar": {
             "outlinewidth": 0,
             "ticks": ""
            },
            "type": "mesh3d"
           }
          ],
          "parcoords": [
           {
            "line": {
             "colorbar": {
              "outlinewidth": 0,
              "ticks": ""
             }
            },
            "type": "parcoords"
           }
          ],
          "pie": [
           {
            "automargin": true,
            "type": "pie"
           }
          ],
          "scatter": [
           {
            "fillpattern": {
             "fillmode": "overlay",
             "size": 10,
             "solidity": 0.2
            },
            "type": "scatter"
           }
          ],
          "scatter3d": [
           {
            "line": {
             "colorbar": {
              "outlinewidth": 0,
              "ticks": ""
             }
            },
            "marker": {
             "colorbar": {
              "outlinewidth": 0,
              "ticks": ""
             }
            },
            "type": "scatter3d"
           }
          ],
          "scattercarpet": [
           {
            "marker": {
             "colorbar": {
              "outlinewidth": 0,
              "ticks": ""
             }
            },
            "type": "scattercarpet"
           }
          ],
          "scattergeo": [
           {
            "marker": {
             "colorbar": {
              "outlinewidth": 0,
              "ticks": ""
             }
            },
            "type": "scattergeo"
           }
          ],
          "scattergl": [
           {
            "marker": {
             "colorbar": {
              "outlinewidth": 0,
              "ticks": ""
             }
            },
            "type": "scattergl"
           }
          ],
          "scattermapbox": [
           {
            "marker": {
             "colorbar": {
              "outlinewidth": 0,
              "ticks": ""
             }
            },
            "type": "scattermapbox"
           }
          ],
          "scatterpolar": [
           {
            "marker": {
             "colorbar": {
              "outlinewidth": 0,
              "ticks": ""
             }
            },
            "type": "scatterpolar"
           }
          ],
          "scatterpolargl": [
           {
            "marker": {
             "colorbar": {
              "outlinewidth": 0,
              "ticks": ""
             }
            },
            "type": "scatterpolargl"
           }
          ],
          "scatterternary": [
           {
            "marker": {
             "colorbar": {
              "outlinewidth": 0,
              "ticks": ""
             }
            },
            "type": "scatterternary"
           }
          ],
          "surface": [
           {
            "colorbar": {
             "outlinewidth": 0,
             "ticks": ""
            },
            "colorscale": [
             [
              0,
              "#0d0887"
             ],
             [
              0.1111111111111111,
              "#46039f"
             ],
             [
              0.2222222222222222,
              "#7201a8"
             ],
             [
              0.3333333333333333,
              "#9c179e"
             ],
             [
              0.4444444444444444,
              "#bd3786"
             ],
             [
              0.5555555555555556,
              "#d8576b"
             ],
             [
              0.6666666666666666,
              "#ed7953"
             ],
             [
              0.7777777777777778,
              "#fb9f3a"
             ],
             [
              0.8888888888888888,
              "#fdca26"
             ],
             [
              1,
              "#f0f921"
             ]
            ],
            "type": "surface"
           }
          ],
          "table": [
           {
            "cells": {
             "fill": {
              "color": "#EBF0F8"
             },
             "line": {
              "color": "white"
             }
            },
            "header": {
             "fill": {
              "color": "#C8D4E3"
             },
             "line": {
              "color": "white"
             }
            },
            "type": "table"
           }
          ]
         },
         "layout": {
          "annotationdefaults": {
           "arrowcolor": "#2a3f5f",
           "arrowhead": 0,
           "arrowwidth": 1
          },
          "autotypenumbers": "strict",
          "coloraxis": {
           "colorbar": {
            "outlinewidth": 0,
            "ticks": ""
           }
          },
          "colorscale": {
           "diverging": [
            [
             0,
             "#8e0152"
            ],
            [
             0.1,
             "#c51b7d"
            ],
            [
             0.2,
             "#de77ae"
            ],
            [
             0.3,
             "#f1b6da"
            ],
            [
             0.4,
             "#fde0ef"
            ],
            [
             0.5,
             "#f7f7f7"
            ],
            [
             0.6,
             "#e6f5d0"
            ],
            [
             0.7,
             "#b8e186"
            ],
            [
             0.8,
             "#7fbc41"
            ],
            [
             0.9,
             "#4d9221"
            ],
            [
             1,
             "#276419"
            ]
           ],
           "sequential": [
            [
             0,
             "#0d0887"
            ],
            [
             0.1111111111111111,
             "#46039f"
            ],
            [
             0.2222222222222222,
             "#7201a8"
            ],
            [
             0.3333333333333333,
             "#9c179e"
            ],
            [
             0.4444444444444444,
             "#bd3786"
            ],
            [
             0.5555555555555556,
             "#d8576b"
            ],
            [
             0.6666666666666666,
             "#ed7953"
            ],
            [
             0.7777777777777778,
             "#fb9f3a"
            ],
            [
             0.8888888888888888,
             "#fdca26"
            ],
            [
             1,
             "#f0f921"
            ]
           ],
           "sequentialminus": [
            [
             0,
             "#0d0887"
            ],
            [
             0.1111111111111111,
             "#46039f"
            ],
            [
             0.2222222222222222,
             "#7201a8"
            ],
            [
             0.3333333333333333,
             "#9c179e"
            ],
            [
             0.4444444444444444,
             "#bd3786"
            ],
            [
             0.5555555555555556,
             "#d8576b"
            ],
            [
             0.6666666666666666,
             "#ed7953"
            ],
            [
             0.7777777777777778,
             "#fb9f3a"
            ],
            [
             0.8888888888888888,
             "#fdca26"
            ],
            [
             1,
             "#f0f921"
            ]
           ]
          },
          "colorway": [
           "#636efa",
           "#EF553B",
           "#00cc96",
           "#ab63fa",
           "#FFA15A",
           "#19d3f3",
           "#FF6692",
           "#B6E880",
           "#FF97FF",
           "#FECB52"
          ],
          "font": {
           "color": "#2a3f5f"
          },
          "geo": {
           "bgcolor": "white",
           "lakecolor": "white",
           "landcolor": "#E5ECF6",
           "showlakes": true,
           "showland": true,
           "subunitcolor": "white"
          },
          "hoverlabel": {
           "align": "left"
          },
          "hovermode": "closest",
          "mapbox": {
           "style": "light"
          },
          "paper_bgcolor": "white",
          "plot_bgcolor": "#E5ECF6",
          "polar": {
           "angularaxis": {
            "gridcolor": "white",
            "linecolor": "white",
            "ticks": ""
           },
           "bgcolor": "#E5ECF6",
           "radialaxis": {
            "gridcolor": "white",
            "linecolor": "white",
            "ticks": ""
           }
          },
          "scene": {
           "xaxis": {
            "backgroundcolor": "#E5ECF6",
            "gridcolor": "white",
            "gridwidth": 2,
            "linecolor": "white",
            "showbackground": true,
            "ticks": "",
            "zerolinecolor": "white"
           },
           "yaxis": {
            "backgroundcolor": "#E5ECF6",
            "gridcolor": "white",
            "gridwidth": 2,
            "linecolor": "white",
            "showbackground": true,
            "ticks": "",
            "zerolinecolor": "white"
           },
           "zaxis": {
            "backgroundcolor": "#E5ECF6",
            "gridcolor": "white",
            "gridwidth": 2,
            "linecolor": "white",
            "showbackground": true,
            "ticks": "",
            "zerolinecolor": "white"
           }
          },
          "shapedefaults": {
           "line": {
            "color": "#2a3f5f"
           }
          },
          "ternary": {
           "aaxis": {
            "gridcolor": "white",
            "linecolor": "white",
            "ticks": ""
           },
           "baxis": {
            "gridcolor": "white",
            "linecolor": "white",
            "ticks": ""
           },
           "bgcolor": "#E5ECF6",
           "caxis": {
            "gridcolor": "white",
            "linecolor": "white",
            "ticks": ""
           }
          },
          "title": {
           "x": 0.05
          },
          "xaxis": {
           "automargin": true,
           "gridcolor": "white",
           "linecolor": "white",
           "ticks": "",
           "title": {
            "standoff": 15
           },
           "zerolinecolor": "white",
           "zerolinewidth": 2
          },
          "yaxis": {
           "automargin": true,
           "gridcolor": "white",
           "linecolor": "white",
           "ticks": "",
           "title": {
            "standoff": 15
           },
           "zerolinecolor": "white",
           "zerolinewidth": 2
          }
         }
        },
        "title": {
         "text": "Total Tons by Building Type and Biobased Type"
        },
        "width": 600,
        "xaxis": {
         "anchor": "y",
         "autorange": true,
         "domain": [
          0,
          1
         ],
         "range": [
          -0.5,
          2.5
         ],
         "title": {
          "text": "buildingType"
         },
         "type": "category"
        },
        "yaxis": {
         "anchor": "x",
         "autorange": true,
         "domain": [
          0,
          1
         ],
         "range": [
          0,
          114466.42105263159
         ],
         "title": {
          "text": "tons"
         },
         "type": "linear"
        }
       }
      },
      "image/png": "[encoded data removed]",
      "text/html": [
       "<div>                            <div id=\"0db46421-ebdf-4b23-b20e-0bb769eec3b1\" class=\"plotly-graph-div\" style=\"height:525px; width:600px;\"></div>            <script type=\"text/javascript\">                require([\"plotly\"], function(Plotly) {                    window.PLOTLYENV=window.PLOTLYENV || {};                                    if (document.getElementById(\"0db46421-ebdf-4b23-b20e-0bb769eec3b1\")) {                    Plotly.newPlot(                        \"0db46421-ebdf-4b23-b20e-0bb769eec3b1\",                        [{\"alignmentgroup\":\"True\",\"hovertemplate\":\"biobased_type=full<br>buildingType=%{x}<br>tons=%{y}<extra></extra>\",\"legendgroup\":\"full\",\"marker\":{\"color\":\"#636efa\",\"pattern\":{\"shape\":\"\"}},\"name\":\"full\",\"offsetgroup\":\"full\",\"orientation\":\"v\",\"showlegend\":true,\"textposition\":\"auto\",\"x\":[\"B\",\"C\",\"D\"],\"xaxis\":\"x\",\"y\":[13038.27,32386.77,89426.08],\"yaxis\":\"y\",\"type\":\"bar\"},{\"alignmentgroup\":\"True\",\"hovertemplate\":\"biobased_type=none<br>buildingType=%{x}<br>tons=%{y}<extra></extra>\",\"legendgroup\":\"none\",\"marker\":{\"color\":\"#EF553B\",\"pattern\":{\"shape\":\"\"}},\"name\":\"none\",\"offsetgroup\":\"none\",\"orientation\":\"v\",\"showlegend\":true,\"textposition\":\"auto\",\"x\":[\"B\",\"C\",\"D\"],\"xaxis\":\"x\",\"y\":[19014.8825,60444.4475,108743.1],\"yaxis\":\"y\",\"type\":\"bar\"}],                        {\"template\":{\"data\":{\"histogram2dcontour\":[{\"type\":\"histogram2dcontour\",\"colorbar\":{\"outlinewidth\":0,\"ticks\":\"\"},\"colorscale\":[[0.0,\"#0d0887\"],[0.1111111111111111,\"#46039f\"],[0.2222222222222222,\"#7201a8\"],[0.3333333333333333,\"#9c179e\"],[0.4444444444444444,\"#bd3786\"],[0.5555555555555556,\"#d8576b\"],[0.6666666666666666,\"#ed7953\"],[0.7777777777777778,\"#fb9f3a\"],[0.8888888888888888,\"#fdca26\"],[1.0,\"#f0f921\"]]}],\"choropleth\":[{\"type\":\"choropleth\",\"colorbar\":{\"outlinewidth\":0,\"ticks\":\"\"}}],\"histogram2d\":[{\"type\":\"histogram2d\",\"colorbar\":{\"outlinewidth\":0,\"ticks\":\"\"},\"colorscale\":[[0.0,\"#0d0887\"],[0.1111111111111111,\"#46039f\"],[0.2222222222222222,\"#7201a8\"],[0.3333333333333333,\"#9c179e\"],[0.4444444444444444,\"#bd3786\"],[0.5555555555555556,\"#d8576b\"],[0.6666666666666666,\"#ed7953\"],[0.7777777777777778,\"#fb9f3a\"],[0.8888888888888888,\"#fdca26\"],[1.0,\"#f0f921\"]]}],\"heatmap\":[{\"type\":\"heatmap\",\"colorbar\":{\"outlinewidth\":0,\"ticks\":\"\"},\"colorscale\":[[0.0,\"#0d0887\"],[0.1111111111111111,\"#46039f\"],[0.2222222222222222,\"#7201a8\"],[0.3333333333333333,\"#9c179e\"],[0.4444444444444444,\"#bd3786\"],[0.5555555555555556,\"#d8576b\"],[0.6666666666666666,\"#ed7953\"],[0.7777777777777778,\"#fb9f3a\"],[0.8888888888888888,\"#fdca26\"],[1.0,\"#f0f921\"]]}],\"heatmapgl\":[{\"type\":\"heatmapgl\",\"colorbar\":{\"outlinewidth\":0,\"ticks\":\"\"},\"colorscale\":[[0.0,\"#0d0887\"],[0.1111111111111111,\"#46039f\"],[0.2222222222222222,\"#7201a8\"],[0.3333333333333333,\"#9c179e\"],[0.4444444444444444,\"#bd3786\"],[0.5555555555555556,\"#d8576b\"],[0.6666666666666666,\"#ed7953\"],[0.7777777777777778,\"#fb9f3a\"],[0.8888888888888888,\"#fdca26\"],[1.0,\"#f0f921\"]]}],\"contourcarpet\":[{\"type\":\"contourcarpet\",\"colorbar\":{\"outlinewidth\":0,\"ticks\":\"\"}}],\"contour\":[{\"type\":\"contour\",\"colorbar\":{\"outlinewidth\":0,\"ticks\":\"\"},\"colorscale\":[[0.0,\"#0d0887\"],[0.1111111111111111,\"#46039f\"],[0.2222222222222222,\"#7201a8\"],[0.3333333333333333,\"#9c179e\"],[0.4444444444444444,\"#bd3786\"],[0.5555555555555556,\"#d8576b\"],[0.6666666666666666,\"#ed7953\"],[0.7777777777777778,\"#fb9f3a\"],[0.8888888888888888,\"#fdca26\"],[1.0,\"#f0f921\"]]}],\"surface\":[{\"type\":\"surface\",\"colorbar\":{\"outlinewidth\":0,\"ticks\":\"\"},\"colorscale\":[[0.0,\"#0d0887\"],[0.1111111111111111,\"#46039f\"],[0.2222222222222222,\"#7201a8\"],[0.3333333333333333,\"#9c179e\"],[0.4444444444444444,\"#bd3786\"],[0.5555555555555556,\"#d8576b\"],[0.6666666666666666,\"#ed7953\"],[0.7777777777777778,\"#fb9f3a\"],[0.8888888888888888,\"#fdca26\"],[1.0,\"#f0f921\"]]}],\"mesh3d\":[{\"type\":\"mesh3d\",\"colorbar\":{\"outlinewidth\":0,\"ticks\":\"\"}}],\"scatter\":[{\"fillpattern\":{\"fillmode\":\"overlay\",\"size\":10,\"solidity\":0.2},\"type\":\"scatter\"}],\"parcoords\":[{\"type\":\"parcoords\",\"line\":{\"colorbar\":{\"outlinewidth\":0,\"ticks\":\"\"}}}],\"scatterpolargl\":[{\"type\":\"scatterpolargl\",\"marker\":{\"colorbar\":{\"outlinewidth\":0,\"ticks\":\"\"}}}],\"bar\":[{\"error_x\":{\"color\":\"#2a3f5f\"},\"error_y\":{\"color\":\"#2a3f5f\"},\"marker\":{\"line\":{\"color\":\"#E5ECF6\",\"width\":0.5},\"pattern\":{\"fillmode\":\"overlay\",\"size\":10,\"solidity\":0.2}},\"type\":\"bar\"}],\"scattergeo\":[{\"type\":\"scattergeo\",\"marker\":{\"colorbar\":{\"outlinewidth\":0,\"ticks\":\"\"}}}],\"scatterpolar\":[{\"type\":\"scatterpolar\",\"marker\":{\"colorbar\":{\"outlinewidth\":0,\"ticks\":\"\"}}}],\"histogram\":[{\"marker\":{\"pattern\":{\"fillmode\":\"overlay\",\"size\":10,\"solidity\":0.2}},\"type\":\"histogram\"}],\"scattergl\":[{\"type\":\"scattergl\",\"marker\":{\"colorbar\":{\"outlinewidth\":0,\"ticks\":\"\"}}}],\"scatter3d\":[{\"type\":\"scatter3d\",\"line\":{\"colorbar\":{\"outlinewidth\":0,\"ticks\":\"\"}},\"marker\":{\"colorbar\":{\"outlinewidth\":0,\"ticks\":\"\"}}}],\"scattermapbox\":[{\"type\":\"scattermapbox\",\"marker\":{\"colorbar\":{\"outlinewidth\":0,\"ticks\":\"\"}}}],\"scatterternary\":[{\"type\":\"scatterternary\",\"marker\":{\"colorbar\":{\"outlinewidth\":0,\"ticks\":\"\"}}}],\"scattercarpet\":[{\"type\":\"scattercarpet\",\"marker\":{\"colorbar\":{\"outlinewidth\":0,\"ticks\":\"\"}}}],\"carpet\":[{\"aaxis\":{\"endlinecolor\":\"#2a3f5f\",\"gridcolor\":\"white\",\"linecolor\":\"white\",\"minorgridcolor\":\"white\",\"startlinecolor\":\"#2a3f5f\"},\"baxis\":{\"endlinecolor\":\"#2a3f5f\",\"gridcolor\":\"white\",\"linecolor\":\"white\",\"minorgridcolor\":\"white\",\"startlinecolor\":\"#2a3f5f\"},\"type\":\"carpet\"}],\"table\":[{\"cells\":{\"fill\":{\"color\":\"#EBF0F8\"},\"line\":{\"color\":\"white\"}},\"header\":{\"fill\":{\"color\":\"#C8D4E3\"},\"line\":{\"color\":\"white\"}},\"type\":\"table\"}],\"barpolar\":[{\"marker\":{\"line\":{\"color\":\"#E5ECF6\",\"width\":0.5},\"pattern\":{\"fillmode\":\"overlay\",\"size\":10,\"solidity\":0.2}},\"type\":\"barpolar\"}],\"pie\":[{\"automargin\":true,\"type\":\"pie\"}]},\"layout\":{\"autotypenumbers\":\"strict\",\"colorway\":[\"#636efa\",\"#EF553B\",\"#00cc96\",\"#ab63fa\",\"#FFA15A\",\"#19d3f3\",\"#FF6692\",\"#B6E880\",\"#FF97FF\",\"#FECB52\"],\"font\":{\"color\":\"#2a3f5f\"},\"hovermode\":\"closest\",\"hoverlabel\":{\"align\":\"left\"},\"paper_bgcolor\":\"white\",\"plot_bgcolor\":\"#E5ECF6\",\"polar\":{\"bgcolor\":\"#E5ECF6\",\"angularaxis\":{\"gridcolor\":\"white\",\"linecolor\":\"white\",\"ticks\":\"\"},\"radialaxis\":{\"gridcolor\":\"white\",\"linecolor\":\"white\",\"ticks\":\"\"}},\"ternary\":{\"bgcolor\":\"#E5ECF6\",\"aaxis\":{\"gridcolor\":\"white\",\"linecolor\":\"white\",\"ticks\":\"\"},\"baxis\":{\"gridcolor\":\"white\",\"linecolor\":\"white\",\"ticks\":\"\"},\"caxis\":{\"gridcolor\":\"white\",\"linecolor\":\"white\",\"ticks\":\"\"}},\"coloraxis\":{\"colorbar\":{\"outlinewidth\":0,\"ticks\":\"\"}},\"colorscale\":{\"sequential\":[[0.0,\"#0d0887\"],[0.1111111111111111,\"#46039f\"],[0.2222222222222222,\"#7201a8\"],[0.3333333333333333,\"#9c179e\"],[0.4444444444444444,\"#bd3786\"],[0.5555555555555556,\"#d8576b\"],[0.6666666666666666,\"#ed7953\"],[0.7777777777777778,\"#fb9f3a\"],[0.8888888888888888,\"#fdca26\"],[1.0,\"#f0f921\"]],\"sequentialminus\":[[0.0,\"#0d0887\"],[0.1111111111111111,\"#46039f\"],[0.2222222222222222,\"#7201a8\"],[0.3333333333333333,\"#9c179e\"],[0.4444444444444444,\"#bd3786\"],[0.5555555555555556,\"#d8576b\"],[0.6666666666666666,\"#ed7953\"],[0.7777777777777778,\"#fb9f3a\"],[0.8888888888888888,\"#fdca26\"],[1.0,\"#f0f921\"]],\"diverging\":[[0,\"#8e0152\"],[0.1,\"#c51b7d\"],[0.2,\"#de77ae\"],[0.3,\"#f1b6da\"],[0.4,\"#fde0ef\"],[0.5,\"#f7f7f7\"],[0.6,\"#e6f5d0\"],[0.7,\"#b8e186\"],[0.8,\"#7fbc41\"],[0.9,\"#4d9221\"],[1,\"#276419\"]]},\"xaxis\":{\"gridcolor\":\"white\",\"linecolor\":\"white\",\"ticks\":\"\",\"title\":{\"standoff\":15},\"zerolinecolor\":\"white\",\"automargin\":true,\"zerolinewidth\":2},\"yaxis\":{\"gridcolor\":\"white\",\"linecolor\":\"white\",\"ticks\":\"\",\"title\":{\"standoff\":15},\"zerolinecolor\":\"white\",\"automargin\":true,\"zerolinewidth\":2},\"scene\":{\"xaxis\":{\"backgroundcolor\":\"#E5ECF6\",\"gridcolor\":\"white\",\"linecolor\":\"white\",\"showbackground\":true,\"ticks\":\"\",\"zerolinecolor\":\"white\",\"gridwidth\":2},\"yaxis\":{\"backgroundcolor\":\"#E5ECF6\",\"gridcolor\":\"white\",\"linecolor\":\"white\",\"showbackground\":true,\"ticks\":\"\",\"zerolinecolor\":\"white\",\"gridwidth\":2},\"zaxis\":{\"backgroundcolor\":\"#E5ECF6\",\"gridcolor\":\"white\",\"linecolor\":\"white\",\"showbackground\":true,\"ticks\":\"\",\"zerolinecolor\":\"white\",\"gridwidth\":2}},\"shapedefaults\":{\"line\":{\"color\":\"#2a3f5f\"}},\"annotationdefaults\":{\"arrowcolor\":\"#2a3f5f\",\"arrowhead\":0,\"arrowwidth\":1},\"geo\":{\"bgcolor\":\"white\",\"landcolor\":\"#E5ECF6\",\"subunitcolor\":\"white\",\"showland\":true,\"showlakes\":true,\"lakecolor\":\"white\"},\"title\":{\"x\":0.05},\"mapbox\":{\"style\":\"light\"}}},\"xaxis\":{\"anchor\":\"y\",\"domain\":[0.0,1.0],\"title\":{\"text\":\"buildingType\"}},\"yaxis\":{\"anchor\":\"x\",\"domain\":[0.0,1.0],\"title\":{\"text\":\"tons\"}},\"legend\":{\"title\":{\"text\":\"biobased_type\"},\"tracegroupgap\":0},\"title\":{\"text\":\"Total Tons by Building Type and Biobased Type\"},\"barmode\":\"group\",\"width\":600,\"autosize\":false},                        {\"responsive\": true}                    ).then(function(){\n",
       "                            \n",
       "var gd = document.getElementById('0db46421-ebdf-4b23-b20e-0bb769eec3b1');\n",
       "var x = new MutationObserver(function (mutations, observer) {{\n",
       "        var display = window.getComputedStyle(gd).display;\n",
       "        if (!display || display === 'none') {{\n",
       "            console.log([gd, 'removed!']);\n",
       "            Plotly.purge(gd);\n",
       "            observer.disconnect();\n",
       "        }}\n",
       "}});\n",
       "\n",
       "// Listen for the removal of the full notebook cells\n",
       "var notebookContainer = gd.closest('#notebook-container');\n",
       "if (notebookContainer) {{\n",
       "    x.observe(notebookContainer, {childList: true});\n",
       "}}\n",
       "\n",
       "// Listen for the clearing of the current output cell\n",
       "var outputEl = gd.closest('.output');\n",
       "if (outputEl) {{\n",
       "    x.observe(outputEl, {childList: true});\n",
       "}}\n",
       "\n",
       "                        })                };                });            </script>        </div>"
      ]
     },
     "metadata": {},
     "output_type": "display_data"
    }
   ],
   "source": [
    "df = pd.read_csv('data/data_cleaned/buildingType_info.csv')\n",
    "df = df[~df.tons.isna()]\n",
    "\n",
    "grouped_data = df.groupby(['buildingType', 'biobased_type']).sum(numeric_only=True).reset_index()\n",
    "\n",
    "fig = px.bar(grouped_data, x='buildingType', y='tons', color='biobased_type', barmode='group',\n",
    "             title='Total Tons by Building Type and Biobased Type')\n",
    "fig.update_layout(width=600, autosize=False)\n",
    "fig.show()"
   ]
  },
  {
   "cell_type": "code",
   "execution_count": 38,
   "id": "f018ebba-36af-41fc-a892-0e2d621272e1",
   "metadata": {},
   "outputs": [
    {
     "data": {
      "application/vnd.plotly.v1+json": {
       "config": {
        "plotlyServerURL": "https://plot.ly"
       },
       "data": [
        {
         "domain": {
          "x": [
           0,
           1
          ],
          "y": [
           0,
           1
          ]
         },
         "hovertemplate": "material=%{label}<br>tons=%{value}<extra></extra>",
         "labels": [
          "concrete_in-situ",
          "gravel_sand",
          "steel",
          "concrete_in-situ",
          "concrete_prefab",
          "steel",
          "aluminium",
          "brick",
          "cement_cover-floor",
          "concrete_prefab",
          "furnishing_stone",
          "glass",
          "gypsum",
          "isolation",
          "plaster",
          "bitumen",
          "steel",
          "modules"
         ],
         "legendgroup": "",
         "name": "",
         "showlegend": true,
         "type": "pie",
         "values": [
          9792,
          250,
          816,
          21648,
          11066,
          597.8475,
          194.3,
          1922,
          1051.6,
          928.4,
          522,
          3539.8,
          2760,
          69,
          8.8,
          26,
          90.7,
          5162
         ]
        }
       ],
       "layout": {
        "autosize": false,
        "height": 450,
        "legend": {
         "tracegroupgap": 0
        },
        "template": {
         "data": {
          "bar": [
           {
            "error_x": {
             "color": "#2a3f5f"
            },
            "error_y": {
             "color": "#2a3f5f"
            },
            "marker": {
             "line": {
              "color": "#E5ECF6",
              "width": 0.5
             },
             "pattern": {
              "fillmode": "overlay",
              "size": 10,
              "solidity": 0.2
             }
            },
            "type": "bar"
           }
          ],
          "barpolar": [
           {
            "marker": {
             "line": {
              "color": "#E5ECF6",
              "width": 0.5
             },
             "pattern": {
              "fillmode": "overlay",
              "size": 10,
              "solidity": 0.2
             }
            },
            "type": "barpolar"
           }
          ],
          "carpet": [
           {
            "aaxis": {
             "endlinecolor": "#2a3f5f",
             "gridcolor": "white",
             "linecolor": "white",
             "minorgridcolor": "white",
             "startlinecolor": "#2a3f5f"
            },
            "baxis": {
             "endlinecolor": "#2a3f5f",
             "gridcolor": "white",
             "linecolor": "white",
             "minorgridcolor": "white",
             "startlinecolor": "#2a3f5f"
            },
            "type": "carpet"
           }
          ],
          "choropleth": [
           {
            "colorbar": {
             "outlinewidth": 0,
             "ticks": ""
            },
            "type": "choropleth"
           }
          ],
          "contour": [
           {
            "colorbar": {
             "outlinewidth": 0,
             "ticks": ""
            },
            "colorscale": [
             [
              0,
              "#0d0887"
             ],
             [
              0.1111111111111111,
              "#46039f"
             ],
             [
              0.2222222222222222,
              "#7201a8"
             ],
             [
              0.3333333333333333,
              "#9c179e"
             ],
             [
              0.4444444444444444,
              "#bd3786"
             ],
             [
              0.5555555555555556,
              "#d8576b"
             ],
             [
              0.6666666666666666,
              "#ed7953"
             ],
             [
              0.7777777777777778,
              "#fb9f3a"
             ],
             [
              0.8888888888888888,
              "#fdca26"
             ],
             [
              1,
              "#f0f921"
             ]
            ],
            "type": "contour"
           }
          ],
          "contourcarpet": [
           {
            "colorbar": {
             "outlinewidth": 0,
             "ticks": ""
            },
            "type": "contourcarpet"
           }
          ],
          "heatmap": [
           {
            "colorbar": {
             "outlinewidth": 0,
             "ticks": ""
            },
            "colorscale": [
             [
              0,
              "#0d0887"
             ],
             [
              0.1111111111111111,
              "#46039f"
             ],
             [
              0.2222222222222222,
              "#7201a8"
             ],
             [
              0.3333333333333333,
              "#9c179e"
             ],
             [
              0.4444444444444444,
              "#bd3786"
             ],
             [
              0.5555555555555556,
              "#d8576b"
             ],
             [
              0.6666666666666666,
              "#ed7953"
             ],
             [
              0.7777777777777778,
              "#fb9f3a"
             ],
             [
              0.8888888888888888,
              "#fdca26"
             ],
             [
              1,
              "#f0f921"
             ]
            ],
            "type": "heatmap"
           }
          ],
          "heatmapgl": [
           {
            "colorbar": {
             "outlinewidth": 0,
             "ticks": ""
            },
            "colorscale": [
             [
              0,
              "#0d0887"
             ],
             [
              0.1111111111111111,
              "#46039f"
             ],
             [
              0.2222222222222222,
              "#7201a8"
             ],
             [
              0.3333333333333333,
              "#9c179e"
             ],
             [
              0.4444444444444444,
              "#bd3786"
             ],
             [
              0.5555555555555556,
              "#d8576b"
             ],
             [
              0.6666666666666666,
              "#ed7953"
             ],
             [
              0.7777777777777778,
              "#fb9f3a"
             ],
             [
              0.8888888888888888,
              "#fdca26"
             ],
             [
              1,
              "#f0f921"
             ]
            ],
            "type": "heatmapgl"
           }
          ],
          "histogram": [
           {
            "marker": {
             "pattern": {
              "fillmode": "overlay",
              "size": 10,
              "solidity": 0.2
             }
            },
            "type": "histogram"
           }
          ],
          "histogram2d": [
           {
            "colorbar": {
             "outlinewidth": 0,
             "ticks": ""
            },
            "colorscale": [
             [
              0,
              "#0d0887"
             ],
             [
              0.1111111111111111,
              "#46039f"
             ],
             [
              0.2222222222222222,
              "#7201a8"
             ],
             [
              0.3333333333333333,
              "#9c179e"
             ],
             [
              0.4444444444444444,
              "#bd3786"
             ],
             [
              0.5555555555555556,
              "#d8576b"
             ],
             [
              0.6666666666666666,
              "#ed7953"
             ],
             [
              0.7777777777777778,
              "#fb9f3a"
             ],
             [
              0.8888888888888888,
              "#fdca26"
             ],
             [
              1,
              "#f0f921"
             ]
            ],
            "type": "histogram2d"
           }
          ],
          "histogram2dcontour": [
           {
            "colorbar": {
             "outlinewidth": 0,
             "ticks": ""
            },
            "colorscale": [
             [
              0,
              "#0d0887"
             ],
             [
              0.1111111111111111,
              "#46039f"
             ],
             [
              0.2222222222222222,
              "#7201a8"
             ],
             [
              0.3333333333333333,
              "#9c179e"
             ],
             [
              0.4444444444444444,
              "#bd3786"
             ],
             [
              0.5555555555555556,
              "#d8576b"
             ],
             [
              0.6666666666666666,
              "#ed7953"
             ],
             [
              0.7777777777777778,
              "#fb9f3a"
             ],
             [
              0.8888888888888888,
              "#fdca26"
             ],
             [
              1,
              "#f0f921"
             ]
            ],
            "type": "histogram2dcontour"
           }
          ],
          "mesh3d": [
           {
            "colorbar": {
             "outlinewidth": 0,
             "ticks": ""
            },
            "type": "mesh3d"
           }
          ],
          "parcoords": [
           {
            "line": {
             "colorbar": {
              "outlinewidth": 0,
              "ticks": ""
             }
            },
            "type": "parcoords"
           }
          ],
          "pie": [
           {
            "automargin": true,
            "type": "pie"
           }
          ],
          "scatter": [
           {
            "fillpattern": {
             "fillmode": "overlay",
             "size": 10,
             "solidity": 0.2
            },
            "type": "scatter"
           }
          ],
          "scatter3d": [
           {
            "line": {
             "colorbar": {
              "outlinewidth": 0,
              "ticks": ""
             }
            },
            "marker": {
             "colorbar": {
              "outlinewidth": 0,
              "ticks": ""
             }
            },
            "type": "scatter3d"
           }
          ],
          "scattercarpet": [
           {
            "marker": {
             "colorbar": {
              "outlinewidth": 0,
              "ticks": ""
             }
            },
            "type": "scattercarpet"
           }
          ],
          "scattergeo": [
           {
            "marker": {
             "colorbar": {
              "outlinewidth": 0,
              "ticks": ""
             }
            },
            "type": "scattergeo"
           }
          ],
          "scattergl": [
           {
            "marker": {
             "colorbar": {
              "outlinewidth": 0,
              "ticks": ""
             }
            },
            "type": "scattergl"
           }
          ],
          "scattermapbox": [
           {
            "marker": {
             "colorbar": {
              "outlinewidth": 0,
              "ticks": ""
             }
            },
            "type": "scattermapbox"
           }
          ],
          "scatterpolar": [
           {
            "marker": {
             "colorbar": {
              "outlinewidth": 0,
              "ticks": ""
             }
            },
            "type": "scatterpolar"
           }
          ],
          "scatterpolargl": [
           {
            "marker": {
             "colorbar": {
              "outlinewidth": 0,
              "ticks": ""
             }
            },
            "type": "scatterpolargl"
           }
          ],
          "scatterternary": [
           {
            "marker": {
             "colorbar": {
              "outlinewidth": 0,
              "ticks": ""
             }
            },
            "type": "scatterternary"
           }
          ],
          "surface": [
           {
            "colorbar": {
             "outlinewidth": 0,
             "ticks": ""
            },
            "colorscale": [
             [
              0,
              "#0d0887"
             ],
             [
              0.1111111111111111,
              "#46039f"
             ],
             [
              0.2222222222222222,
              "#7201a8"
             ],
             [
              0.3333333333333333,
              "#9c179e"
             ],
             [
              0.4444444444444444,
              "#bd3786"
             ],
             [
              0.5555555555555556,
              "#d8576b"
             ],
             [
              0.6666666666666666,
              "#ed7953"
             ],
             [
              0.7777777777777778,
              "#fb9f3a"
             ],
             [
              0.8888888888888888,
              "#fdca26"
             ],
             [
              1,
              "#f0f921"
             ]
            ],
            "type": "surface"
           }
          ],
          "table": [
           {
            "cells": {
             "fill": {
              "color": "#EBF0F8"
             },
             "line": {
              "color": "white"
             }
            },
            "header": {
             "fill": {
              "color": "#C8D4E3"
             },
             "line": {
              "color": "white"
             }
            },
            "type": "table"
           }
          ]
         },
         "layout": {
          "annotationdefaults": {
           "arrowcolor": "#2a3f5f",
           "arrowhead": 0,
           "arrowwidth": 1
          },
          "autotypenumbers": "strict",
          "coloraxis": {
           "colorbar": {
            "outlinewidth": 0,
            "ticks": ""
           }
          },
          "colorscale": {
           "diverging": [
            [
             0,
             "#8e0152"
            ],
            [
             0.1,
             "#c51b7d"
            ],
            [
             0.2,
             "#de77ae"
            ],
            [
             0.3,
             "#f1b6da"
            ],
            [
             0.4,
             "#fde0ef"
            ],
            [
             0.5,
             "#f7f7f7"
            ],
            [
             0.6,
             "#e6f5d0"
            ],
            [
             0.7,
             "#b8e186"
            ],
            [
             0.8,
             "#7fbc41"
            ],
            [
             0.9,
             "#4d9221"
            ],
            [
             1,
             "#276419"
            ]
           ],
           "sequential": [
            [
             0,
             "#0d0887"
            ],
            [
             0.1111111111111111,
             "#46039f"
            ],
            [
             0.2222222222222222,
             "#7201a8"
            ],
            [
             0.3333333333333333,
             "#9c179e"
            ],
            [
             0.4444444444444444,
             "#bd3786"
            ],
            [
             0.5555555555555556,
             "#d8576b"
            ],
            [
             0.6666666666666666,
             "#ed7953"
            ],
            [
             0.7777777777777778,
             "#fb9f3a"
            ],
            [
             0.8888888888888888,
             "#fdca26"
            ],
            [
             1,
             "#f0f921"
            ]
           ],
           "sequentialminus": [
            [
             0,
             "#0d0887"
            ],
            [
             0.1111111111111111,
             "#46039f"
            ],
            [
             0.2222222222222222,
             "#7201a8"
            ],
            [
             0.3333333333333333,
             "#9c179e"
            ],
            [
             0.4444444444444444,
             "#bd3786"
            ],
            [
             0.5555555555555556,
             "#d8576b"
            ],
            [
             0.6666666666666666,
             "#ed7953"
            ],
            [
             0.7777777777777778,
             "#fb9f3a"
            ],
            [
             0.8888888888888888,
             "#fdca26"
            ],
            [
             1,
             "#f0f921"
            ]
           ]
          },
          "colorway": [
           "#636efa",
           "#EF553B",
           "#00cc96",
           "#ab63fa",
           "#FFA15A",
           "#19d3f3",
           "#FF6692",
           "#B6E880",
           "#FF97FF",
           "#FECB52"
          ],
          "font": {
           "color": "#2a3f5f"
          },
          "geo": {
           "bgcolor": "white",
           "lakecolor": "white",
           "landcolor": "#E5ECF6",
           "showlakes": true,
           "showland": true,
           "subunitcolor": "white"
          },
          "hoverlabel": {
           "align": "left"
          },
          "hovermode": "closest",
          "mapbox": {
           "style": "light"
          },
          "paper_bgcolor": "white",
          "plot_bgcolor": "#E5ECF6",
          "polar": {
           "angularaxis": {
            "gridcolor": "white",
            "linecolor": "white",
            "ticks": ""
           },
           "bgcolor": "#E5ECF6",
           "radialaxis": {
            "gridcolor": "white",
            "linecolor": "white",
            "ticks": ""
           }
          },
          "scene": {
           "xaxis": {
            "backgroundcolor": "#E5ECF6",
            "gridcolor": "white",
            "gridwidth": 2,
            "linecolor": "white",
            "showbackground": true,
            "ticks": "",
            "zerolinecolor": "white"
           },
           "yaxis": {
            "backgroundcolor": "#E5ECF6",
            "gridcolor": "white",
            "gridwidth": 2,
            "linecolor": "white",
            "showbackground": true,
            "ticks": "",
            "zerolinecolor": "white"
           },
           "zaxis": {
            "backgroundcolor": "#E5ECF6",
            "gridcolor": "white",
            "gridwidth": 2,
            "linecolor": "white",
            "showbackground": true,
            "ticks": "",
            "zerolinecolor": "white"
           }
          },
          "shapedefaults": {
           "line": {
            "color": "#2a3f5f"
           }
          },
          "ternary": {
           "aaxis": {
            "gridcolor": "white",
            "linecolor": "white",
            "ticks": ""
           },
           "baxis": {
            "gridcolor": "white",
            "linecolor": "white",
            "ticks": ""
           },
           "bgcolor": "#E5ECF6",
           "caxis": {
            "gridcolor": "white",
            "linecolor": "white",
            "ticks": ""
           }
          },
          "title": {
           "x": 0.05
          },
          "xaxis": {
           "automargin": true,
           "gridcolor": "white",
           "linecolor": "white",
           "ticks": "",
           "title": {
            "standoff": 15
           },
           "zerolinecolor": "white",
           "zerolinewidth": 2
          },
          "yaxis": {
           "automargin": true,
           "gridcolor": "white",
           "linecolor": "white",
           "ticks": "",
           "title": {
            "standoff": 15
           },
           "zerolinecolor": "white",
           "zerolinewidth": 2
          }
         }
        },
        "title": {
         "text": "conventional building (60444 tons)"
        },
        "width": 700
       }
      },
      "image/png": "[encoded data removed]",
      "text/html": [
       "<div>                            <div id=\"70dd69ba-1053-4748-9270-c413823a6a67\" class=\"plotly-graph-div\" style=\"height:525px; width:700px;\"></div>            <script type=\"text/javascript\">                require([\"plotly\"], function(Plotly) {                    window.PLOTLYENV=window.PLOTLYENV || {};                                    if (document.getElementById(\"70dd69ba-1053-4748-9270-c413823a6a67\")) {                    Plotly.newPlot(                        \"70dd69ba-1053-4748-9270-c413823a6a67\",                        [{\"domain\":{\"x\":[0.0,1.0],\"y\":[0.0,1.0]},\"hovertemplate\":\"material=%{label}<br>tons=%{value}<extra></extra>\",\"labels\":[\"concrete_in-situ\",\"gravel_sand\",\"steel\",\"concrete_in-situ\",\"concrete_prefab\",\"steel\",\"aluminium\",\"brick\",\"cement_cover-floor\",\"concrete_prefab\",\"furnishing_stone\",\"glass\",\"gypsum\",\"isolation\",\"plaster\",\"bitumen\",\"steel\",\"modules\"],\"legendgroup\":\"\",\"name\":\"\",\"showlegend\":true,\"values\":[9792.0,250.0,816.0,21648.0,11066.0,597.8475,194.3,1922.0,1051.6,928.4,522.0,3539.8,2760.0,69.0,8.8,26.0,90.7,5162.0],\"type\":\"pie\"}],                        {\"template\":{\"data\":{\"histogram2dcontour\":[{\"type\":\"histogram2dcontour\",\"colorbar\":{\"outlinewidth\":0,\"ticks\":\"\"},\"colorscale\":[[0.0,\"#0d0887\"],[0.1111111111111111,\"#46039f\"],[0.2222222222222222,\"#7201a8\"],[0.3333333333333333,\"#9c179e\"],[0.4444444444444444,\"#bd3786\"],[0.5555555555555556,\"#d8576b\"],[0.6666666666666666,\"#ed7953\"],[0.7777777777777778,\"#fb9f3a\"],[0.8888888888888888,\"#fdca26\"],[1.0,\"#f0f921\"]]}],\"choropleth\":[{\"type\":\"choropleth\",\"colorbar\":{\"outlinewidth\":0,\"ticks\":\"\"}}],\"histogram2d\":[{\"type\":\"histogram2d\",\"colorbar\":{\"outlinewidth\":0,\"ticks\":\"\"},\"colorscale\":[[0.0,\"#0d0887\"],[0.1111111111111111,\"#46039f\"],[0.2222222222222222,\"#7201a8\"],[0.3333333333333333,\"#9c179e\"],[0.4444444444444444,\"#bd3786\"],[0.5555555555555556,\"#d8576b\"],[0.6666666666666666,\"#ed7953\"],[0.7777777777777778,\"#fb9f3a\"],[0.8888888888888888,\"#fdca26\"],[1.0,\"#f0f921\"]]}],\"heatmap\":[{\"type\":\"heatmap\",\"colorbar\":{\"outlinewidth\":0,\"ticks\":\"\"},\"colorscale\":[[0.0,\"#0d0887\"],[0.1111111111111111,\"#46039f\"],[0.2222222222222222,\"#7201a8\"],[0.3333333333333333,\"#9c179e\"],[0.4444444444444444,\"#bd3786\"],[0.5555555555555556,\"#d8576b\"],[0.6666666666666666,\"#ed7953\"],[0.7777777777777778,\"#fb9f3a\"],[0.8888888888888888,\"#fdca26\"],[1.0,\"#f0f921\"]]}],\"heatmapgl\":[{\"type\":\"heatmapgl\",\"colorbar\":{\"outlinewidth\":0,\"ticks\":\"\"},\"colorscale\":[[0.0,\"#0d0887\"],[0.1111111111111111,\"#46039f\"],[0.2222222222222222,\"#7201a8\"],[0.3333333333333333,\"#9c179e\"],[0.4444444444444444,\"#bd3786\"],[0.5555555555555556,\"#d8576b\"],[0.6666666666666666,\"#ed7953\"],[0.7777777777777778,\"#fb9f3a\"],[0.8888888888888888,\"#fdca26\"],[1.0,\"#f0f921\"]]}],\"contourcarpet\":[{\"type\":\"contourcarpet\",\"colorbar\":{\"outlinewidth\":0,\"ticks\":\"\"}}],\"contour\":[{\"type\":\"contour\",\"colorbar\":{\"outlinewidth\":0,\"ticks\":\"\"},\"colorscale\":[[0.0,\"#0d0887\"],[0.1111111111111111,\"#46039f\"],[0.2222222222222222,\"#7201a8\"],[0.3333333333333333,\"#9c179e\"],[0.4444444444444444,\"#bd3786\"],[0.5555555555555556,\"#d8576b\"],[0.6666666666666666,\"#ed7953\"],[0.7777777777777778,\"#fb9f3a\"],[0.8888888888888888,\"#fdca26\"],[1.0,\"#f0f921\"]]}],\"surface\":[{\"type\":\"surface\",\"colorbar\":{\"outlinewidth\":0,\"ticks\":\"\"},\"colorscale\":[[0.0,\"#0d0887\"],[0.1111111111111111,\"#46039f\"],[0.2222222222222222,\"#7201a8\"],[0.3333333333333333,\"#9c179e\"],[0.4444444444444444,\"#bd3786\"],[0.5555555555555556,\"#d8576b\"],[0.6666666666666666,\"#ed7953\"],[0.7777777777777778,\"#fb9f3a\"],[0.8888888888888888,\"#fdca26\"],[1.0,\"#f0f921\"]]}],\"mesh3d\":[{\"type\":\"mesh3d\",\"colorbar\":{\"outlinewidth\":0,\"ticks\":\"\"}}],\"scatter\":[{\"fillpattern\":{\"fillmode\":\"overlay\",\"size\":10,\"solidity\":0.2},\"type\":\"scatter\"}],\"parcoords\":[{\"type\":\"parcoords\",\"line\":{\"colorbar\":{\"outlinewidth\":0,\"ticks\":\"\"}}}],\"scatterpolargl\":[{\"type\":\"scatterpolargl\",\"marker\":{\"colorbar\":{\"outlinewidth\":0,\"ticks\":\"\"}}}],\"bar\":[{\"error_x\":{\"color\":\"#2a3f5f\"},\"error_y\":{\"color\":\"#2a3f5f\"},\"marker\":{\"line\":{\"color\":\"#E5ECF6\",\"width\":0.5},\"pattern\":{\"fillmode\":\"overlay\",\"size\":10,\"solidity\":0.2}},\"type\":\"bar\"}],\"scattergeo\":[{\"type\":\"scattergeo\",\"marker\":{\"colorbar\":{\"outlinewidth\":0,\"ticks\":\"\"}}}],\"scatterpolar\":[{\"type\":\"scatterpolar\",\"marker\":{\"colorbar\":{\"outlinewidth\":0,\"ticks\":\"\"}}}],\"histogram\":[{\"marker\":{\"pattern\":{\"fillmode\":\"overlay\",\"size\":10,\"solidity\":0.2}},\"type\":\"histogram\"}],\"scattergl\":[{\"type\":\"scattergl\",\"marker\":{\"colorbar\":{\"outlinewidth\":0,\"ticks\":\"\"}}}],\"scatter3d\":[{\"type\":\"scatter3d\",\"line\":{\"colorbar\":{\"outlinewidth\":0,\"ticks\":\"\"}},\"marker\":{\"colorbar\":{\"outlinewidth\":0,\"ticks\":\"\"}}}],\"scattermapbox\":[{\"type\":\"scattermapbox\",\"marker\":{\"colorbar\":{\"outlinewidth\":0,\"ticks\":\"\"}}}],\"scatterternary\":[{\"type\":\"scatterternary\",\"marker\":{\"colorbar\":{\"outlinewidth\":0,\"ticks\":\"\"}}}],\"scattercarpet\":[{\"type\":\"scattercarpet\",\"marker\":{\"colorbar\":{\"outlinewidth\":0,\"ticks\":\"\"}}}],\"carpet\":[{\"aaxis\":{\"endlinecolor\":\"#2a3f5f\",\"gridcolor\":\"white\",\"linecolor\":\"white\",\"minorgridcolor\":\"white\",\"startlinecolor\":\"#2a3f5f\"},\"baxis\":{\"endlinecolor\":\"#2a3f5f\",\"gridcolor\":\"white\",\"linecolor\":\"white\",\"minorgridcolor\":\"white\",\"startlinecolor\":\"#2a3f5f\"},\"type\":\"carpet\"}],\"table\":[{\"cells\":{\"fill\":{\"color\":\"#EBF0F8\"},\"line\":{\"color\":\"white\"}},\"header\":{\"fill\":{\"color\":\"#C8D4E3\"},\"line\":{\"color\":\"white\"}},\"type\":\"table\"}],\"barpolar\":[{\"marker\":{\"line\":{\"color\":\"#E5ECF6\",\"width\":0.5},\"pattern\":{\"fillmode\":\"overlay\",\"size\":10,\"solidity\":0.2}},\"type\":\"barpolar\"}],\"pie\":[{\"automargin\":true,\"type\":\"pie\"}]},\"layout\":{\"autotypenumbers\":\"strict\",\"colorway\":[\"#636efa\",\"#EF553B\",\"#00cc96\",\"#ab63fa\",\"#FFA15A\",\"#19d3f3\",\"#FF6692\",\"#B6E880\",\"#FF97FF\",\"#FECB52\"],\"font\":{\"color\":\"#2a3f5f\"},\"hovermode\":\"closest\",\"hoverlabel\":{\"align\":\"left\"},\"paper_bgcolor\":\"white\",\"plot_bgcolor\":\"#E5ECF6\",\"polar\":{\"bgcolor\":\"#E5ECF6\",\"angularaxis\":{\"gridcolor\":\"white\",\"linecolor\":\"white\",\"ticks\":\"\"},\"radialaxis\":{\"gridcolor\":\"white\",\"linecolor\":\"white\",\"ticks\":\"\"}},\"ternary\":{\"bgcolor\":\"#E5ECF6\",\"aaxis\":{\"gridcolor\":\"white\",\"linecolor\":\"white\",\"ticks\":\"\"},\"baxis\":{\"gridcolor\":\"white\",\"linecolor\":\"white\",\"ticks\":\"\"},\"caxis\":{\"gridcolor\":\"white\",\"linecolor\":\"white\",\"ticks\":\"\"}},\"coloraxis\":{\"colorbar\":{\"outlinewidth\":0,\"ticks\":\"\"}},\"colorscale\":{\"sequential\":[[0.0,\"#0d0887\"],[0.1111111111111111,\"#46039f\"],[0.2222222222222222,\"#7201a8\"],[0.3333333333333333,\"#9c179e\"],[0.4444444444444444,\"#bd3786\"],[0.5555555555555556,\"#d8576b\"],[0.6666666666666666,\"#ed7953\"],[0.7777777777777778,\"#fb9f3a\"],[0.8888888888888888,\"#fdca26\"],[1.0,\"#f0f921\"]],\"sequentialminus\":[[0.0,\"#0d0887\"],[0.1111111111111111,\"#46039f\"],[0.2222222222222222,\"#7201a8\"],[0.3333333333333333,\"#9c179e\"],[0.4444444444444444,\"#bd3786\"],[0.5555555555555556,\"#d8576b\"],[0.6666666666666666,\"#ed7953\"],[0.7777777777777778,\"#fb9f3a\"],[0.8888888888888888,\"#fdca26\"],[1.0,\"#f0f921\"]],\"diverging\":[[0,\"#8e0152\"],[0.1,\"#c51b7d\"],[0.2,\"#de77ae\"],[0.3,\"#f1b6da\"],[0.4,\"#fde0ef\"],[0.5,\"#f7f7f7\"],[0.6,\"#e6f5d0\"],[0.7,\"#b8e186\"],[0.8,\"#7fbc41\"],[0.9,\"#4d9221\"],[1,\"#276419\"]]},\"xaxis\":{\"gridcolor\":\"white\",\"linecolor\":\"white\",\"ticks\":\"\",\"title\":{\"standoff\":15},\"zerolinecolor\":\"white\",\"automargin\":true,\"zerolinewidth\":2},\"yaxis\":{\"gridcolor\":\"white\",\"linecolor\":\"white\",\"ticks\":\"\",\"title\":{\"standoff\":15},\"zerolinecolor\":\"white\",\"automargin\":true,\"zerolinewidth\":2},\"scene\":{\"xaxis\":{\"backgroundcolor\":\"#E5ECF6\",\"gridcolor\":\"white\",\"linecolor\":\"white\",\"showbackground\":true,\"ticks\":\"\",\"zerolinecolor\":\"white\",\"gridwidth\":2},\"yaxis\":{\"backgroundcolor\":\"#E5ECF6\",\"gridcolor\":\"white\",\"linecolor\":\"white\",\"showbackground\":true,\"ticks\":\"\",\"zerolinecolor\":\"white\",\"gridwidth\":2},\"zaxis\":{\"backgroundcolor\":\"#E5ECF6\",\"gridcolor\":\"white\",\"linecolor\":\"white\",\"showbackground\":true,\"ticks\":\"\",\"zerolinecolor\":\"white\",\"gridwidth\":2}},\"shapedefaults\":{\"line\":{\"color\":\"#2a3f5f\"}},\"annotationdefaults\":{\"arrowcolor\":\"#2a3f5f\",\"arrowhead\":0,\"arrowwidth\":1},\"geo\":{\"bgcolor\":\"white\",\"landcolor\":\"#E5ECF6\",\"subunitcolor\":\"white\",\"showland\":true,\"showlakes\":true,\"lakecolor\":\"white\"},\"title\":{\"x\":0.05},\"mapbox\":{\"style\":\"light\"}}},\"legend\":{\"tracegroupgap\":0},\"title\":{\"text\":\"conventional building (60444 tons)\"},\"width\":700,\"autosize\":false},                        {\"responsive\": true}                    ).then(function(){\n",
       "                            \n",
       "var gd = document.getElementById('70dd69ba-1053-4748-9270-c413823a6a67');\n",
       "var x = new MutationObserver(function (mutations, observer) {{\n",
       "        var display = window.getComputedStyle(gd).display;\n",
       "        if (!display || display === 'none') {{\n",
       "            console.log([gd, 'removed!']);\n",
       "            Plotly.purge(gd);\n",
       "            observer.disconnect();\n",
       "        }}\n",
       "}});\n",
       "\n",
       "// Listen for the removal of the full notebook cells\n",
       "var notebookContainer = gd.closest('#notebook-container');\n",
       "if (notebookContainer) {{\n",
       "    x.observe(notebookContainer, {childList: true});\n",
       "}}\n",
       "\n",
       "// Listen for the clearing of the current output cell\n",
       "var outputEl = gd.closest('.output');\n",
       "if (outputEl) {{\n",
       "    x.observe(outputEl, {childList: true});\n",
       "}}\n",
       "\n",
       "                        })                };                });            </script>        </div>"
      ]
     },
     "metadata": {},
     "output_type": "display_data"
    }
   ],
   "source": [
    "df = pd.read_csv('data/data_cleaned/buildingType_info.csv')\n",
    "df = df[(df.buildingType == 'C') & (df.biobased_type == 'none')]\n",
    "df = df[~df.tons.isna()]\n",
    "mass_total = df.tons.sum()\n",
    "df\n",
    "\n",
    "fig = px.pie(df, values='tons', names='material', title=f'conventional building ({round(mass_total)} tons)')\n",
    "fig.update_layout(width=700, autosize=False)\n",
    "fig.show()"
   ]
  },
  {
   "cell_type": "code",
   "execution_count": 39,
   "id": "7bdb923c-d7a9-4d52-99c3-9d0f831ca62c",
   "metadata": {},
   "outputs": [
    {
     "data": {
      "application/vnd.plotly.v1+json": {
       "config": {
        "plotlyServerURL": "https://plot.ly"
       },
       "data": [
        {
         "domain": {
          "x": [
           0,
           1
          ],
          "y": [
           0,
           1
          ]
         },
         "hovertemplate": "material=%{label}<br>tons=%{value}<extra></extra>",
         "labels": [
          "concrete_in-situ",
          "gravel_sand",
          "steel",
          "timber",
          "aluminium",
          "brick",
          "cement_cover-floor",
          "concrete_prefab",
          "furnishing_stone",
          "glass",
          "gypsum",
          "isolation",
          "plaster",
          "bitumen",
          "steel",
          "modules"
         ],
         "legendgroup": "",
         "name": "",
         "showlegend": true,
         "type": "pie",
         "values": [
          9792,
          250,
          816,
          6607,
          194.3,
          547.77,
          1051.6,
          928.4,
          522,
          3539.8,
          2760,
          90.4,
          8.8,
          26,
          90.7,
          5162
         ]
        }
       ],
       "layout": {
        "autosize": false,
        "height": 450,
        "legend": {
         "tracegroupgap": 0
        },
        "template": {
         "data": {
          "bar": [
           {
            "error_x": {
             "color": "#2a3f5f"
            },
            "error_y": {
             "color": "#2a3f5f"
            },
            "marker": {
             "line": {
              "color": "#E5ECF6",
              "width": 0.5
             },
             "pattern": {
              "fillmode": "overlay",
              "size": 10,
              "solidity": 0.2
             }
            },
            "type": "bar"
           }
          ],
          "barpolar": [
           {
            "marker": {
             "line": {
              "color": "#E5ECF6",
              "width": 0.5
             },
             "pattern": {
              "fillmode": "overlay",
              "size": 10,
              "solidity": 0.2
             }
            },
            "type": "barpolar"
           }
          ],
          "carpet": [
           {
            "aaxis": {
             "endlinecolor": "#2a3f5f",
             "gridcolor": "white",
             "linecolor": "white",
             "minorgridcolor": "white",
             "startlinecolor": "#2a3f5f"
            },
            "baxis": {
             "endlinecolor": "#2a3f5f",
             "gridcolor": "white",
             "linecolor": "white",
             "minorgridcolor": "white",
             "startlinecolor": "#2a3f5f"
            },
            "type": "carpet"
           }
          ],
          "choropleth": [
           {
            "colorbar": {
             "outlinewidth": 0,
             "ticks": ""
            },
            "type": "choropleth"
           }
          ],
          "contour": [
           {
            "colorbar": {
             "outlinewidth": 0,
             "ticks": ""
            },
            "colorscale": [
             [
              0,
              "#0d0887"
             ],
             [
              0.1111111111111111,
              "#46039f"
             ],
             [
              0.2222222222222222,
              "#7201a8"
             ],
             [
              0.3333333333333333,
              "#9c179e"
             ],
             [
              0.4444444444444444,
              "#bd3786"
             ],
             [
              0.5555555555555556,
              "#d8576b"
             ],
             [
              0.6666666666666666,
              "#ed7953"
             ],
             [
              0.7777777777777778,
              "#fb9f3a"
             ],
             [
              0.8888888888888888,
              "#fdca26"
             ],
             [
              1,
              "#f0f921"
             ]
            ],
            "type": "contour"
           }
          ],
          "contourcarpet": [
           {
            "colorbar": {
             "outlinewidth": 0,
             "ticks": ""
            },
            "type": "contourcarpet"
           }
          ],
          "heatmap": [
           {
            "colorbar": {
             "outlinewidth": 0,
             "ticks": ""
            },
            "colorscale": [
             [
              0,
              "#0d0887"
             ],
             [
              0.1111111111111111,
              "#46039f"
             ],
             [
              0.2222222222222222,
              "#7201a8"
             ],
             [
              0.3333333333333333,
              "#9c179e"
             ],
             [
              0.4444444444444444,
              "#bd3786"
             ],
             [
              0.5555555555555556,
              "#d8576b"
             ],
             [
              0.6666666666666666,
              "#ed7953"
             ],
             [
              0.7777777777777778,
              "#fb9f3a"
             ],
             [
              0.8888888888888888,
              "#fdca26"
             ],
             [
              1,
              "#f0f921"
             ]
            ],
            "type": "heatmap"
           }
          ],
          "heatmapgl": [
           {
            "colorbar": {
             "outlinewidth": 0,
             "ticks": ""
            },
            "colorscale": [
             [
              0,
              "#0d0887"
             ],
             [
              0.1111111111111111,
              "#46039f"
             ],
             [
              0.2222222222222222,
              "#7201a8"
             ],
             [
              0.3333333333333333,
              "#9c179e"
             ],
             [
              0.4444444444444444,
              "#bd3786"
             ],
             [
              0.5555555555555556,
              "#d8576b"
             ],
             [
              0.6666666666666666,
              "#ed7953"
             ],
             [
              0.7777777777777778,
              "#fb9f3a"
             ],
             [
              0.8888888888888888,
              "#fdca26"
             ],
             [
              1,
              "#f0f921"
             ]
            ],
            "type": "heatmapgl"
           }
          ],
          "histogram": [
           {
            "marker": {
             "pattern": {
              "fillmode": "overlay",
              "size": 10,
              "solidity": 0.2
             }
            },
            "type": "histogram"
           }
          ],
          "histogram2d": [
           {
            "colorbar": {
             "outlinewidth": 0,
             "ticks": ""
            },
            "colorscale": [
             [
              0,
              "#0d0887"
             ],
             [
              0.1111111111111111,
              "#46039f"
             ],
             [
              0.2222222222222222,
              "#7201a8"
             ],
             [
              0.3333333333333333,
              "#9c179e"
             ],
             [
              0.4444444444444444,
              "#bd3786"
             ],
             [
              0.5555555555555556,
              "#d8576b"
             ],
             [
              0.6666666666666666,
              "#ed7953"
             ],
             [
              0.7777777777777778,
              "#fb9f3a"
             ],
             [
              0.8888888888888888,
              "#fdca26"
             ],
             [
              1,
              "#f0f921"
             ]
            ],
            "type": "histogram2d"
           }
          ],
          "histogram2dcontour": [
           {
            "colorbar": {
             "outlinewidth": 0,
             "ticks": ""
            },
            "colorscale": [
             [
              0,
              "#0d0887"
             ],
             [
              0.1111111111111111,
              "#46039f"
             ],
             [
              0.2222222222222222,
              "#7201a8"
             ],
             [
              0.3333333333333333,
              "#9c179e"
             ],
             [
              0.4444444444444444,
              "#bd3786"
             ],
             [
              0.5555555555555556,
              "#d8576b"
             ],
             [
              0.6666666666666666,
              "#ed7953"
             ],
             [
              0.7777777777777778,
              "#fb9f3a"
             ],
             [
              0.8888888888888888,
              "#fdca26"
             ],
             [
              1,
              "#f0f921"
             ]
            ],
            "type": "histogram2dcontour"
           }
          ],
          "mesh3d": [
           {
            "colorbar": {
             "outlinewidth": 0,
             "ticks": ""
            },
            "type": "mesh3d"
           }
          ],
          "parcoords": [
           {
            "line": {
             "colorbar": {
              "outlinewidth": 0,
              "ticks": ""
             }
            },
            "type": "parcoords"
           }
          ],
          "pie": [
           {
            "automargin": true,
            "type": "pie"
           }
          ],
          "scatter": [
           {
            "fillpattern": {
             "fillmode": "overlay",
             "size": 10,
             "solidity": 0.2
            },
            "type": "scatter"
           }
          ],
          "scatter3d": [
           {
            "line": {
             "colorbar": {
              "outlinewidth": 0,
              "ticks": ""
             }
            },
            "marker": {
             "colorbar": {
              "outlinewidth": 0,
              "ticks": ""
             }
            },
            "type": "scatter3d"
           }
          ],
          "scattercarpet": [
           {
            "marker": {
             "colorbar": {
              "outlinewidth": 0,
              "ticks": ""
             }
            },
            "type": "scattercarpet"
           }
          ],
          "scattergeo": [
           {
            "marker": {
             "colorbar": {
              "outlinewidth": 0,
              "ticks": ""
             }
            },
            "type": "scattergeo"
           }
          ],
          "scattergl": [
           {
            "marker": {
             "colorbar": {
              "outlinewidth": 0,
              "ticks": ""
             }
            },
            "type": "scattergl"
           }
          ],
          "scattermapbox": [
           {
            "marker": {
             "colorbar": {
              "outlinewidth": 0,
              "ticks": ""
             }
            },
            "type": "scattermapbox"
           }
          ],
          "scatterpolar": [
           {
            "marker": {
             "colorbar": {
              "outlinewidth": 0,
              "ticks": ""
             }
            },
            "type": "scatterpolar"
           }
          ],
          "scatterpolargl": [
           {
            "marker": {
             "colorbar": {
              "outlinewidth": 0,
              "ticks": ""
             }
            },
            "type": "scatterpolargl"
           }
          ],
          "scatterternary": [
           {
            "marker": {
             "colorbar": {
              "outlinewidth": 0,
              "ticks": ""
             }
            },
            "type": "scatterternary"
           }
          ],
          "surface": [
           {
            "colorbar": {
             "outlinewidth": 0,
             "ticks": ""
            },
            "colorscale": [
             [
              0,
              "#0d0887"
             ],
             [
              0.1111111111111111,
              "#46039f"
             ],
             [
              0.2222222222222222,
              "#7201a8"
             ],
             [
              0.3333333333333333,
              "#9c179e"
             ],
             [
              0.4444444444444444,
              "#bd3786"
             ],
             [
              0.5555555555555556,
              "#d8576b"
             ],
             [
              0.6666666666666666,
              "#ed7953"
             ],
             [
              0.7777777777777778,
              "#fb9f3a"
             ],
             [
              0.8888888888888888,
              "#fdca26"
             ],
             [
              1,
              "#f0f921"
             ]
            ],
            "type": "surface"
           }
          ],
          "table": [
           {
            "cells": {
             "fill": {
              "color": "#EBF0F8"
             },
             "line": {
              "color": "white"
             }
            },
            "header": {
             "fill": {
              "color": "#C8D4E3"
             },
             "line": {
              "color": "white"
             }
            },
            "type": "table"
           }
          ]
         },
         "layout": {
          "annotationdefaults": {
           "arrowcolor": "#2a3f5f",
           "arrowhead": 0,
           "arrowwidth": 1
          },
          "autotypenumbers": "strict",
          "coloraxis": {
           "colorbar": {
            "outlinewidth": 0,
            "ticks": ""
           }
          },
          "colorscale": {
           "diverging": [
            [
             0,
             "#8e0152"
            ],
            [
             0.1,
             "#c51b7d"
            ],
            [
             0.2,
             "#de77ae"
            ],
            [
             0.3,
             "#f1b6da"
            ],
            [
             0.4,
             "#fde0ef"
            ],
            [
             0.5,
             "#f7f7f7"
            ],
            [
             0.6,
             "#e6f5d0"
            ],
            [
             0.7,
             "#b8e186"
            ],
            [
             0.8,
             "#7fbc41"
            ],
            [
             0.9,
             "#4d9221"
            ],
            [
             1,
             "#276419"
            ]
           ],
           "sequential": [
            [
             0,
             "#0d0887"
            ],
            [
             0.1111111111111111,
             "#46039f"
            ],
            [
             0.2222222222222222,
             "#7201a8"
            ],
            [
             0.3333333333333333,
             "#9c179e"
            ],
            [
             0.4444444444444444,
             "#bd3786"
            ],
            [
             0.5555555555555556,
             "#d8576b"
            ],
            [
             0.6666666666666666,
             "#ed7953"
            ],
            [
             0.7777777777777778,
             "#fb9f3a"
            ],
            [
             0.8888888888888888,
             "#fdca26"
            ],
            [
             1,
             "#f0f921"
            ]
           ],
           "sequentialminus": [
            [
             0,
             "#0d0887"
            ],
            [
             0.1111111111111111,
             "#46039f"
            ],
            [
             0.2222222222222222,
             "#7201a8"
            ],
            [
             0.3333333333333333,
             "#9c179e"
            ],
            [
             0.4444444444444444,
             "#bd3786"
            ],
            [
             0.5555555555555556,
             "#d8576b"
            ],
            [
             0.6666666666666666,
             "#ed7953"
            ],
            [
             0.7777777777777778,
             "#fb9f3a"
            ],
            [
             0.8888888888888888,
             "#fdca26"
            ],
            [
             1,
             "#f0f921"
            ]
           ]
          },
          "colorway": [
           "#636efa",
           "#EF553B",
           "#00cc96",
           "#ab63fa",
           "#FFA15A",
           "#19d3f3",
           "#FF6692",
           "#B6E880",
           "#FF97FF",
           "#FECB52"
          ],
          "font": {
           "color": "#2a3f5f"
          },
          "geo": {
           "bgcolor": "white",
           "lakecolor": "white",
           "landcolor": "#E5ECF6",
           "showlakes": true,
           "showland": true,
           "subunitcolor": "white"
          },
          "hoverlabel": {
           "align": "left"
          },
          "hovermode": "closest",
          "mapbox": {
           "style": "light"
          },
          "paper_bgcolor": "white",
          "plot_bgcolor": "#E5ECF6",
          "polar": {
           "angularaxis": {
            "gridcolor": "white",
            "linecolor": "white",
            "ticks": ""
           },
           "bgcolor": "#E5ECF6",
           "radialaxis": {
            "gridcolor": "white",
            "linecolor": "white",
            "ticks": ""
           }
          },
          "scene": {
           "xaxis": {
            "backgroundcolor": "#E5ECF6",
            "gridcolor": "white",
            "gridwidth": 2,
            "linecolor": "white",
            "showbackground": true,
            "ticks": "",
            "zerolinecolor": "white"
           },
           "yaxis": {
            "backgroundcolor": "#E5ECF6",
            "gridcolor": "white",
            "gridwidth": 2,
            "linecolor": "white",
            "showbackground": true,
            "ticks": "",
            "zerolinecolor": "white"
           },
           "zaxis": {
            "backgroundcolor": "#E5ECF6",
            "gridcolor": "white",
            "gridwidth": 2,
            "linecolor": "white",
            "showbackground": true,
            "ticks": "",
            "zerolinecolor": "white"
           }
          },
          "shapedefaults": {
           "line": {
            "color": "#2a3f5f"
           }
          },
          "ternary": {
           "aaxis": {
            "gridcolor": "white",
            "linecolor": "white",
            "ticks": ""
           },
           "baxis": {
            "gridcolor": "white",
            "linecolor": "white",
            "ticks": ""
           },
           "bgcolor": "#E5ECF6",
           "caxis": {
            "gridcolor": "white",
            "linecolor": "white",
            "ticks": ""
           }
          },
          "title": {
           "x": 0.05
          },
          "xaxis": {
           "automargin": true,
           "gridcolor": "white",
           "linecolor": "white",
           "ticks": "",
           "title": {
            "standoff": 15
           },
           "zerolinecolor": "white",
           "zerolinewidth": 2
          },
          "yaxis": {
           "automargin": true,
           "gridcolor": "white",
           "linecolor": "white",
           "ticks": "",
           "title": {
            "standoff": 15
           },
           "zerolinecolor": "white",
           "zerolinewidth": 2
          }
         }
        },
        "title": {
         "text": "biobased building (32387 tons)"
        },
        "width": 700
       }
      },
      "image/png": "[encoded data removed]",
      "text/html": [
       "<div>                            <div id=\"e4f3f468-c2db-49e8-a840-215850d8eb6e\" class=\"plotly-graph-div\" style=\"height:525px; width:700px;\"></div>            <script type=\"text/javascript\">                require([\"plotly\"], function(Plotly) {                    window.PLOTLYENV=window.PLOTLYENV || {};                                    if (document.getElementById(\"e4f3f468-c2db-49e8-a840-215850d8eb6e\")) {                    Plotly.newPlot(                        \"e4f3f468-c2db-49e8-a840-215850d8eb6e\",                        [{\"domain\":{\"x\":[0.0,1.0],\"y\":[0.0,1.0]},\"hovertemplate\":\"material=%{label}<br>tons=%{value}<extra></extra>\",\"labels\":[\"concrete_in-situ\",\"gravel_sand\",\"steel\",\"timber\",\"aluminium\",\"brick\",\"cement_cover-floor\",\"concrete_prefab\",\"furnishing_stone\",\"glass\",\"gypsum\",\"isolation\",\"plaster\",\"bitumen\",\"steel\",\"modules\"],\"legendgroup\":\"\",\"name\":\"\",\"showlegend\":true,\"values\":[9792.0,250.0,816.0,6607.0,194.3,547.77,1051.6,928.4,522.0,3539.8,2760.0,90.4,8.8,26.0,90.7,5162.0],\"type\":\"pie\"}],                        {\"template\":{\"data\":{\"histogram2dcontour\":[{\"type\":\"histogram2dcontour\",\"colorbar\":{\"outlinewidth\":0,\"ticks\":\"\"},\"colorscale\":[[0.0,\"#0d0887\"],[0.1111111111111111,\"#46039f\"],[0.2222222222222222,\"#7201a8\"],[0.3333333333333333,\"#9c179e\"],[0.4444444444444444,\"#bd3786\"],[0.5555555555555556,\"#d8576b\"],[0.6666666666666666,\"#ed7953\"],[0.7777777777777778,\"#fb9f3a\"],[0.8888888888888888,\"#fdca26\"],[1.0,\"#f0f921\"]]}],\"choropleth\":[{\"type\":\"choropleth\",\"colorbar\":{\"outlinewidth\":0,\"ticks\":\"\"}}],\"histogram2d\":[{\"type\":\"histogram2d\",\"colorbar\":{\"outlinewidth\":0,\"ticks\":\"\"},\"colorscale\":[[0.0,\"#0d0887\"],[0.1111111111111111,\"#46039f\"],[0.2222222222222222,\"#7201a8\"],[0.3333333333333333,\"#9c179e\"],[0.4444444444444444,\"#bd3786\"],[0.5555555555555556,\"#d8576b\"],[0.6666666666666666,\"#ed7953\"],[0.7777777777777778,\"#fb9f3a\"],[0.8888888888888888,\"#fdca26\"],[1.0,\"#f0f921\"]]}],\"heatmap\":[{\"type\":\"heatmap\",\"colorbar\":{\"outlinewidth\":0,\"ticks\":\"\"},\"colorscale\":[[0.0,\"#0d0887\"],[0.1111111111111111,\"#46039f\"],[0.2222222222222222,\"#7201a8\"],[0.3333333333333333,\"#9c179e\"],[0.4444444444444444,\"#bd3786\"],[0.5555555555555556,\"#d8576b\"],[0.6666666666666666,\"#ed7953\"],[0.7777777777777778,\"#fb9f3a\"],[0.8888888888888888,\"#fdca26\"],[1.0,\"#f0f921\"]]}],\"heatmapgl\":[{\"type\":\"heatmapgl\",\"colorbar\":{\"outlinewidth\":0,\"ticks\":\"\"},\"colorscale\":[[0.0,\"#0d0887\"],[0.1111111111111111,\"#46039f\"],[0.2222222222222222,\"#7201a8\"],[0.3333333333333333,\"#9c179e\"],[0.4444444444444444,\"#bd3786\"],[0.5555555555555556,\"#d8576b\"],[0.6666666666666666,\"#ed7953\"],[0.7777777777777778,\"#fb9f3a\"],[0.8888888888888888,\"#fdca26\"],[1.0,\"#f0f921\"]]}],\"contourcarpet\":[{\"type\":\"contourcarpet\",\"colorbar\":{\"outlinewidth\":0,\"ticks\":\"\"}}],\"contour\":[{\"type\":\"contour\",\"colorbar\":{\"outlinewidth\":0,\"ticks\":\"\"},\"colorscale\":[[0.0,\"#0d0887\"],[0.1111111111111111,\"#46039f\"],[0.2222222222222222,\"#7201a8\"],[0.3333333333333333,\"#9c179e\"],[0.4444444444444444,\"#bd3786\"],[0.5555555555555556,\"#d8576b\"],[0.6666666666666666,\"#ed7953\"],[0.7777777777777778,\"#fb9f3a\"],[0.8888888888888888,\"#fdca26\"],[1.0,\"#f0f921\"]]}],\"surface\":[{\"type\":\"surface\",\"colorbar\":{\"outlinewidth\":0,\"ticks\":\"\"},\"colorscale\":[[0.0,\"#0d0887\"],[0.1111111111111111,\"#46039f\"],[0.2222222222222222,\"#7201a8\"],[0.3333333333333333,\"#9c179e\"],[0.4444444444444444,\"#bd3786\"],[0.5555555555555556,\"#d8576b\"],[0.6666666666666666,\"#ed7953\"],[0.7777777777777778,\"#fb9f3a\"],[0.8888888888888888,\"#fdca26\"],[1.0,\"#f0f921\"]]}],\"mesh3d\":[{\"type\":\"mesh3d\",\"colorbar\":{\"outlinewidth\":0,\"ticks\":\"\"}}],\"scatter\":[{\"fillpattern\":{\"fillmode\":\"overlay\",\"size\":10,\"solidity\":0.2},\"type\":\"scatter\"}],\"parcoords\":[{\"type\":\"parcoords\",\"line\":{\"colorbar\":{\"outlinewidth\":0,\"ticks\":\"\"}}}],\"scatterpolargl\":[{\"type\":\"scatterpolargl\",\"marker\":{\"colorbar\":{\"outlinewidth\":0,\"ticks\":\"\"}}}],\"bar\":[{\"error_x\":{\"color\":\"#2a3f5f\"},\"error_y\":{\"color\":\"#2a3f5f\"},\"marker\":{\"line\":{\"color\":\"#E5ECF6\",\"width\":0.5},\"pattern\":{\"fillmode\":\"overlay\",\"size\":10,\"solidity\":0.2}},\"type\":\"bar\"}],\"scattergeo\":[{\"type\":\"scattergeo\",\"marker\":{\"colorbar\":{\"outlinewidth\":0,\"ticks\":\"\"}}}],\"scatterpolar\":[{\"type\":\"scatterpolar\",\"marker\":{\"colorbar\":{\"outlinewidth\":0,\"ticks\":\"\"}}}],\"histogram\":[{\"marker\":{\"pattern\":{\"fillmode\":\"overlay\",\"size\":10,\"solidity\":0.2}},\"type\":\"histogram\"}],\"scattergl\":[{\"type\":\"scattergl\",\"marker\":{\"colorbar\":{\"outlinewidth\":0,\"ticks\":\"\"}}}],\"scatter3d\":[{\"type\":\"scatter3d\",\"line\":{\"colorbar\":{\"outlinewidth\":0,\"ticks\":\"\"}},\"marker\":{\"colorbar\":{\"outlinewidth\":0,\"ticks\":\"\"}}}],\"scattermapbox\":[{\"type\":\"scattermapbox\",\"marker\":{\"colorbar\":{\"outlinewidth\":0,\"ticks\":\"\"}}}],\"scatterternary\":[{\"type\":\"scatterternary\",\"marker\":{\"colorbar\":{\"outlinewidth\":0,\"ticks\":\"\"}}}],\"scattercarpet\":[{\"type\":\"scattercarpet\",\"marker\":{\"colorbar\":{\"outlinewidth\":0,\"ticks\":\"\"}}}],\"carpet\":[{\"aaxis\":{\"endlinecolor\":\"#2a3f5f\",\"gridcolor\":\"white\",\"linecolor\":\"white\",\"minorgridcolor\":\"white\",\"startlinecolor\":\"#2a3f5f\"},\"baxis\":{\"endlinecolor\":\"#2a3f5f\",\"gridcolor\":\"white\",\"linecolor\":\"white\",\"minorgridcolor\":\"white\",\"startlinecolor\":\"#2a3f5f\"},\"type\":\"carpet\"}],\"table\":[{\"cells\":{\"fill\":{\"color\":\"#EBF0F8\"},\"line\":{\"color\":\"white\"}},\"header\":{\"fill\":{\"color\":\"#C8D4E3\"},\"line\":{\"color\":\"white\"}},\"type\":\"table\"}],\"barpolar\":[{\"marker\":{\"line\":{\"color\":\"#E5ECF6\",\"width\":0.5},\"pattern\":{\"fillmode\":\"overlay\",\"size\":10,\"solidity\":0.2}},\"type\":\"barpolar\"}],\"pie\":[{\"automargin\":true,\"type\":\"pie\"}]},\"layout\":{\"autotypenumbers\":\"strict\",\"colorway\":[\"#636efa\",\"#EF553B\",\"#00cc96\",\"#ab63fa\",\"#FFA15A\",\"#19d3f3\",\"#FF6692\",\"#B6E880\",\"#FF97FF\",\"#FECB52\"],\"font\":{\"color\":\"#2a3f5f\"},\"hovermode\":\"closest\",\"hoverlabel\":{\"align\":\"left\"},\"paper_bgcolor\":\"white\",\"plot_bgcolor\":\"#E5ECF6\",\"polar\":{\"bgcolor\":\"#E5ECF6\",\"angularaxis\":{\"gridcolor\":\"white\",\"linecolor\":\"white\",\"ticks\":\"\"},\"radialaxis\":{\"gridcolor\":\"white\",\"linecolor\":\"white\",\"ticks\":\"\"}},\"ternary\":{\"bgcolor\":\"#E5ECF6\",\"aaxis\":{\"gridcolor\":\"white\",\"linecolor\":\"white\",\"ticks\":\"\"},\"baxis\":{\"gridcolor\":\"white\",\"linecolor\":\"white\",\"ticks\":\"\"},\"caxis\":{\"gridcolor\":\"white\",\"linecolor\":\"white\",\"ticks\":\"\"}},\"coloraxis\":{\"colorbar\":{\"outlinewidth\":0,\"ticks\":\"\"}},\"colorscale\":{\"sequential\":[[0.0,\"#0d0887\"],[0.1111111111111111,\"#46039f\"],[0.2222222222222222,\"#7201a8\"],[0.3333333333333333,\"#9c179e\"],[0.4444444444444444,\"#bd3786\"],[0.5555555555555556,\"#d8576b\"],[0.6666666666666666,\"#ed7953\"],[0.7777777777777778,\"#fb9f3a\"],[0.8888888888888888,\"#fdca26\"],[1.0,\"#f0f921\"]],\"sequentialminus\":[[0.0,\"#0d0887\"],[0.1111111111111111,\"#46039f\"],[0.2222222222222222,\"#7201a8\"],[0.3333333333333333,\"#9c179e\"],[0.4444444444444444,\"#bd3786\"],[0.5555555555555556,\"#d8576b\"],[0.6666666666666666,\"#ed7953\"],[0.7777777777777778,\"#fb9f3a\"],[0.8888888888888888,\"#fdca26\"],[1.0,\"#f0f921\"]],\"diverging\":[[0,\"#8e0152\"],[0.1,\"#c51b7d\"],[0.2,\"#de77ae\"],[0.3,\"#f1b6da\"],[0.4,\"#fde0ef\"],[0.5,\"#f7f7f7\"],[0.6,\"#e6f5d0\"],[0.7,\"#b8e186\"],[0.8,\"#7fbc41\"],[0.9,\"#4d9221\"],[1,\"#276419\"]]},\"xaxis\":{\"gridcolor\":\"white\",\"linecolor\":\"white\",\"ticks\":\"\",\"title\":{\"standoff\":15},\"zerolinecolor\":\"white\",\"automargin\":true,\"zerolinewidth\":2},\"yaxis\":{\"gridcolor\":\"white\",\"linecolor\":\"white\",\"ticks\":\"\",\"title\":{\"standoff\":15},\"zerolinecolor\":\"white\",\"automargin\":true,\"zerolinewidth\":2},\"scene\":{\"xaxis\":{\"backgroundcolor\":\"#E5ECF6\",\"gridcolor\":\"white\",\"linecolor\":\"white\",\"showbackground\":true,\"ticks\":\"\",\"zerolinecolor\":\"white\",\"gridwidth\":2},\"yaxis\":{\"backgroundcolor\":\"#E5ECF6\",\"gridcolor\":\"white\",\"linecolor\":\"white\",\"showbackground\":true,\"ticks\":\"\",\"zerolinecolor\":\"white\",\"gridwidth\":2},\"zaxis\":{\"backgroundcolor\":\"#E5ECF6\",\"gridcolor\":\"white\",\"linecolor\":\"white\",\"showbackground\":true,\"ticks\":\"\",\"zerolinecolor\":\"white\",\"gridwidth\":2}},\"shapedefaults\":{\"line\":{\"color\":\"#2a3f5f\"}},\"annotationdefaults\":{\"arrowcolor\":\"#2a3f5f\",\"arrowhead\":0,\"arrowwidth\":1},\"geo\":{\"bgcolor\":\"white\",\"landcolor\":\"#E5ECF6\",\"subunitcolor\":\"white\",\"showland\":true,\"showlakes\":true,\"lakecolor\":\"white\"},\"title\":{\"x\":0.05},\"mapbox\":{\"style\":\"light\"}}},\"legend\":{\"tracegroupgap\":0},\"title\":{\"text\":\"biobased building (32387 tons)\"},\"width\":700,\"autosize\":false},                        {\"responsive\": true}                    ).then(function(){\n",
       "                            \n",
       "var gd = document.getElementById('e4f3f468-c2db-49e8-a840-215850d8eb6e');\n",
       "var x = new MutationObserver(function (mutations, observer) {{\n",
       "        var display = window.getComputedStyle(gd).display;\n",
       "        if (!display || display === 'none') {{\n",
       "            console.log([gd, 'removed!']);\n",
       "            Plotly.purge(gd);\n",
       "            observer.disconnect();\n",
       "        }}\n",
       "}});\n",
       "\n",
       "// Listen for the removal of the full notebook cells\n",
       "var notebookContainer = gd.closest('#notebook-container');\n",
       "if (notebookContainer) {{\n",
       "    x.observe(notebookContainer, {childList: true});\n",
       "}}\n",
       "\n",
       "// Listen for the clearing of the current output cell\n",
       "var outputEl = gd.closest('.output');\n",
       "if (outputEl) {{\n",
       "    x.observe(outputEl, {childList: true});\n",
       "}}\n",
       "\n",
       "                        })                };                });            </script>        </div>"
      ]
     },
     "metadata": {},
     "output_type": "display_data"
    }
   ],
   "source": [
    "df = pd.read_csv('data/data_cleaned/buildingType_info.csv')\n",
    "df = df[(df.buildingType == 'C') & (df.biobased_type == 'full')]\n",
    "df = df[~df.tons.isna()]\n",
    "mass_total = df.tons.sum()\n",
    "df\n",
    "\n",
    "fig = px.pie(df, values='tons', names='material', title=f'biobased building ({round(mass_total)} tons)')\n",
    "fig.update_layout(width=700, autosize=False)\n",
    "fig.show()"
   ]
  },
  {
   "cell_type": "code",
   "execution_count": 98,
   "id": "df54fdf5-3b6b-48c6-9579-f4428b02432a",
   "metadata": {},
   "outputs": [
    {
     "data": {
      "text/html": [
       "<div style=\"width:100%;\"><div style=\"position:relative;width:100%;height:0;padding-bottom:60%;\"><span style=\"color:#565656\">Make this Notebook Trusted to load map: File -> Trust Notebook</span><iframe srcdoc=\"&lt;!DOCTYPE html&gt;\n",
       "&lt;html&gt;\n",
       "&lt;head&gt;\n",
       "    \n",
       "    &lt;meta http-equiv=&quot;content-type&quot; content=&quot;text/html; charset=UTF-8&quot; /&gt;\n",
       "    \n",
       "        &lt;script&gt;\n",
       "            L_NO_TOUCH = false;\n",
       "            L_DISABLE_3D = false;\n",
       "        &lt;/script&gt;\n",
       "    \n",
       "    &lt;style&gt;html, body {width: 100%;height: 100%;margin: 0;padding: 0;}&lt;/style&gt;\n",
       "    &lt;style&gt;#map {position:absolute;top:0;bottom:0;right:0;left:0;}&lt;/style&gt;\n",
       "    &lt;script src=&quot;https://cdn.jsdelivr.net/npm/leaflet@1.6.0/dist/leaflet.js&quot;&gt;&lt;/script&gt;\n",
       "    &lt;script src=&quot;https://code.jquery.com/jquery-1.12.4.min.js&quot;&gt;&lt;/script&gt;\n",
       "    &lt;script src=&quot;https://maxcdn.bootstrapcdn.com/bootstrap/3.2.0/js/bootstrap.min.js&quot;&gt;&lt;/script&gt;\n",
       "    &lt;script src=&quot;https://cdnjs.cloudflare.com/ajax/libs/Leaflet.awesome-markers/2.0.2/leaflet.awesome-markers.js&quot;&gt;&lt;/script&gt;\n",
       "    &lt;link rel=&quot;stylesheet&quot; href=&quot;https://cdn.jsdelivr.net/npm/leaflet@1.6.0/dist/leaflet.css&quot;/&gt;\n",
       "    &lt;link rel=&quot;stylesheet&quot; href=&quot;https://maxcdn.bootstrapcdn.com/bootstrap/3.2.0/css/bootstrap.min.css&quot;/&gt;\n",
       "    &lt;link rel=&quot;stylesheet&quot; href=&quot;https://maxcdn.bootstrapcdn.com/bootstrap/3.2.0/css/bootstrap-theme.min.css&quot;/&gt;\n",
       "    &lt;link rel=&quot;stylesheet&quot; href=&quot;https://maxcdn.bootstrapcdn.com/font-awesome/4.6.3/css/font-awesome.min.css&quot;/&gt;\n",
       "    &lt;link rel=&quot;stylesheet&quot; href=&quot;https://cdnjs.cloudflare.com/ajax/libs/Leaflet.awesome-markers/2.0.2/leaflet.awesome-markers.css&quot;/&gt;\n",
       "    &lt;link rel=&quot;stylesheet&quot; href=&quot;https://cdn.jsdelivr.net/gh/python-visualization/folium/folium/templates/leaflet.awesome.rotate.min.css&quot;/&gt;\n",
       "    \n",
       "            &lt;meta name=&quot;viewport&quot; content=&quot;width=device-width,\n",
       "                initial-scale=1.0, maximum-scale=1.0, user-scalable=no&quot; /&gt;\n",
       "            &lt;style&gt;\n",
       "                #map_45c9747cc28b7d08dd5e37b8f08bc8b4 {\n",
       "                    position: relative;\n",
       "                    width: 100.0%;\n",
       "                    height: 100.0%;\n",
       "                    left: 0.0%;\n",
       "                    top: 0.0%;\n",
       "                }\n",
       "            &lt;/style&gt;\n",
       "        \n",
       "&lt;/head&gt;\n",
       "&lt;body&gt;\n",
       "    \n",
       "    \n",
       "            &lt;div class=&quot;folium-map&quot; id=&quot;map_45c9747cc28b7d08dd5e37b8f08bc8b4&quot; &gt;&lt;/div&gt;\n",
       "        \n",
       "&lt;/body&gt;\n",
       "&lt;script&gt;\n",
       "    \n",
       "    \n",
       "            var map_45c9747cc28b7d08dd5e37b8f08bc8b4 = L.map(\n",
       "                &quot;map_45c9747cc28b7d08dd5e37b8f08bc8b4&quot;,\n",
       "                {\n",
       "                    center: [52.377231, 4.899288],\n",
       "                    crs: L.CRS.EPSG3857,\n",
       "                    zoom: 11,\n",
       "                    zoomControl: true,\n",
       "                    preferCanvas: false,\n",
       "                }\n",
       "            );\n",
       "\n",
       "            \n",
       "\n",
       "        \n",
       "    \n",
       "            var tile_layer_ce7804e808cd8ac7e2d7dd0c3fd7523f = L.tileLayer(\n",
       "                &quot;https://cartodb-basemaps-{s}.global.ssl.fastly.net/dark_all/{z}/{x}/{y}.png&quot;,\n",
       "                {&quot;attribution&quot;: &quot;\\u0026copy; \\u003ca href=\\&quot;http://www.openstreetmap.org/copyright\\&quot;\\u003eOpenStreetMap\\u003c/a\\u003e contributors \\u0026copy; \\u003ca href=\\&quot;http://cartodb.com/attributions\\&quot;\\u003eCartoDB\\u003c/a\\u003e, CartoDB \\u003ca href =\\&quot;http://cartodb.com/attributions\\&quot;\\u003eattributions\\u003c/a\\u003e&quot;, &quot;detectRetina&quot;: false, &quot;maxNativeZoom&quot;: 18, &quot;maxZoom&quot;: 18, &quot;minZoom&quot;: 0, &quot;noWrap&quot;: false, &quot;opacity&quot;: 1, &quot;subdomains&quot;: &quot;abc&quot;, &quot;tms&quot;: false}\n",
       "            ).addTo(map_45c9747cc28b7d08dd5e37b8f08bc8b4);\n",
       "        \n",
       "    \n",
       "        function geo_json_304105531d74326545b85f2550f9830e_styler(feature) {\n",
       "            switch(feature.id) {\n",
       "                default:\n",
       "                    return {&quot;color&quot;: &quot;blue&quot;, &quot;opacity&quot;: 1, &quot;weight&quot;: 2};\n",
       "            }\n",
       "        }\n",
       "\n",
       "        function geo_json_304105531d74326545b85f2550f9830e_onEachFeature(feature, layer) {\n",
       "            layer.on({\n",
       "            });\n",
       "        };\n",
       "        var geo_json_304105531d74326545b85f2550f9830e = L.geoJson(null, {\n",
       "                onEachFeature: geo_json_304105531d74326545b85f2550f9830e_onEachFeature,\n",
       "            \n",
       "                style: geo_json_304105531d74326545b85f2550f9830e_styler,\n",
       "        });\n",
       "\n",
       "        function geo_json_304105531d74326545b85f2550f9830e_add (data) {\n",
       "            geo_json_304105531d74326545b85f2550f9830e\n",
       "                .addData(data)\n",
       "                .addTo(map_45c9747cc28b7d08dd5e37b8f08bc8b4);\n",
       "        }\n",
       "            geo_json_304105531d74326545b85f2550f9830e_add({&quot;bbox&quot;: [4.605684881533262, 52.16532133816061, 5.187909567115644, 52.46733784557702], &quot;features&quot;: [{&quot;bbox&quot;: [4.605974246556492, 52.31751247034968, 5.187909567115644, 52.46733784557702], &quot;geometry&quot;: {&quot;coordinates&quot;: [[[4.605974246556492, 52.46733784557702], [4.6216444755066775, 52.4664699718897], [4.630191873115869, 52.46495115176184], [4.639095412292111, 52.46430021280754], [4.647642809901304, 52.46256432853785], [4.651560367138849, 52.46256432853785], [4.664381463552638, 52.45930936103942], [4.674353427430028, 52.45431794347912], [4.680051692502822, 52.4517135010072], [4.68290082503922, 52.45041122201167], [4.687530665410867, 52.44780654849912], [4.692160505782511, 52.44433341087682], [4.699283337123504, 52.44129419082076], [4.70391317749515, 52.439774502167985], [4.706406168464499, 52.43825476109772], [4.71424128293959, 52.436083611496166], [4.718871123311235, 52.43478087038588], [4.729555370322727, 52.43260954961829], [4.743088749870614, 52.43043812186916], [4.752348430613904, 52.42870090264167], [4.774429207770984, 52.42631211440387], [4.802920533134957, 52.42229431496862], [4.813070567795872, 52.42164274542057], [4.820549540703913, 52.42077397104422], [4.827494301261383, 52.41860196020775], [4.83586362808705, 52.41680997072025], [4.839514079149309, 52.41686427450197], [4.842541282469231, 52.41680997072025], [4.844589096479767, 52.416918578216794], [4.856163697408881, 52.41588679619958], [4.858033440635892, 52.41539804892322], [4.861416785522864, 52.41452915150155], [4.863731705708686, 52.41349731357746], [4.8669369798121345, 52.41203097605047], [4.873169457235503, 52.40774030105092], [4.879223863875347, 52.404589919519715], [4.882072996411745, 52.40214550299096], [4.893825668124381, 52.39290981824924], [4.895517340567867, 52.390138735886836], [4.897921296145451, 52.3864436887671], [4.899256827021889, 52.38405261110371], [4.9004142871148, 52.38220487148142], [4.903441490434722, 52.38079184194549], [4.90851650776518, 52.37948746685197], [4.91363604279152, 52.379976612027505], [4.925700338375326, 52.38147118871281], [4.934960019118616, 52.381362493932436], [4.939767930273788, 52.38125379888448], [4.946178478480682, 52.38103640798584], [4.950986389635853, 52.38103640798584], [4.959444751853283, 52.38201465860096], [4.96416362761669, 52.379895088207874], [4.968437326421287, 52.37755800804184], [4.971998742091783, 52.37489467287956], [4.975649193154042, 52.37353576652761], [4.978765431865726, 52.37147014879325], [4.9989764657957965, 52.3672298939386], [5.087477645207639, 52.3627717512278], [5.098518033786178, 52.35972690743611], [5.113832121169314, 52.35102619754827], [5.121311094077357, 52.34167102389376], [5.131639199521796, 52.32926692819061], [5.136981323027541, 52.32709041233184], [5.13947431399689, 52.324260781622385], [5.14944627787428, 52.3190363725299], [5.167609497793813, 52.31751247034968], [5.176513036970055, 52.31881867543126], [5.187909567115644, 52.320995598225984]]], &quot;type&quot;: &quot;MultiLineString&quot;}, &quot;id&quot;: &quot;0&quot;, &quot;properties&quot;: {}, &quot;type&quot;: &quot;Feature&quot;}, {&quot;bbox&quot;: [4.953880039868133, 52.16532133816061, 5.0219475968705005, 52.38130814644192], &quot;geometry&quot;: {&quot;coordinates&quot;: [[[4.953880039868133, 52.38130814644192], [4.954325216826946, 52.376362244776566], [4.954503287610471, 52.373046550005256], [4.956729172404532, 52.37114398979377], [4.9581537386727295, 52.363315451254124], [4.959578304940928, 52.360433764874166], [4.968125702550121, 52.356518720025846], [4.9727555429217665, 52.35553990461686], [4.975693710849927, 52.354343545231664], [4.97952223269571, 52.352766476560824], [4.991631045975399, 52.346076904619885], [5.00756838110087, 52.33802632163059], [5.014424106266577, 52.33285794524777], [5.015848672534777, 52.331280110022355], [5.017540344978262, 52.32806985772], [5.018252628112362, 52.32148539109622], [5.0193210528135115, 52.316832139933695], [5.019410088205274, 52.31533537620434], [5.019588158988799, 52.31402906831074], [5.019810747468204, 52.31285880141583], [5.0219475968705005, 52.28966480688978], [5.021591455303451, 52.27746402977996], [5.0199888182517265, 52.27386851717574], [4.994524696207676, 52.17897249130886], [4.994524696207676, 52.17078230208747], [4.996305404042924, 52.16532133816061]]], &quot;type&quot;: &quot;MultiLineString&quot;}, &quot;id&quot;: &quot;1&quot;, &quot;properties&quot;: {}, &quot;type&quot;: &quot;Feature&quot;}, {&quot;bbox&quot;: [4.605684881533262, 52.30638095064378, 4.722521574373494, 52.434020920286265], &quot;geometry&quot;: {&quot;coordinates&quot;: [[[4.722521574373494, 52.434020920286265], [4.716467167733649, 52.430546695797474], [4.710412761093805, 52.42750652470452], [4.705426779155109, 52.42571489711718], [4.699728514082314, 52.42408608157505], [4.695098673710669, 52.420665373043526], [4.69144822264841, 52.418547658566], [4.687174523843814, 52.41675566687171], [4.680407834069871, 52.414583458092], [4.679962657111058, 52.414420538120105], [4.673285002728877, 52.40974990966017], [4.664648569727924, 52.40632808887619], [4.659484517005703, 52.403286247558576], [4.655745030551681, 52.401439313001525], [4.653608181149384, 52.39991825001802], [4.65200554409766, 52.39785386638242], [4.65129326096356, 52.39654999537659], [4.651115190180036, 52.39492010244179], [4.649868694695362, 52.39133412608665], [4.649334482344788, 52.389160665279526], [4.649512553128313, 52.388399928712595], [4.649312223496846, 52.386905586572205], [4.644949489300489, 52.38519382341587], [4.642634569114665, 52.38435150289396], [4.641833250588804, 52.3835906834478], [4.642411980635258, 52.382911369291605], [4.644059135382864, 52.382204871481456], [4.644771418516964, 52.38201465860098], [4.64499400699637, 52.38133532019557], [4.644059135382864, 52.38065597133775], [4.642322945243497, 52.380384228867975], [4.640942896671179, 52.38005813569665], [4.639429295011219, 52.37989508820791], [4.639028635748288, 52.37951464172613], [4.638271834918307, 52.37927006725689], [4.638182799526545, 52.378183053226216], [4.639607365794744, 52.37715036511173], [4.641521626717635, 52.376253537419636], [4.642456498331141, 52.3759002366615], [4.642768122202309, 52.37524798168229], [4.64316878146524, 52.37388908620149], [4.641788732892923, 52.37272040264653], [4.639918989665912, 52.37166040709742], [4.638583458789476, 52.37087218878774], [4.636669197866583, 52.36970342540316], [4.636268538603653, 52.368507449462], [4.636357573995415, 52.36780072118543], [4.63729244560892, 52.36497369501164], [4.63693630404187, 52.3628533066583], [4.636847268650108, 52.36100467993474], [4.637114374825396, 52.36018908473294], [4.6372034102171575, 52.3587209754327], [4.635689808557197, 52.35616526140671], [4.636224020907771, 52.35366378115319], [4.639963507361793, 52.34931304347321], [4.639607365794744, 52.346919955206744], [4.639607365794744, 52.3452882298391], [4.640853861279417, 52.34082787321414], [4.640319648928842, 52.339631115612704], [4.638538941093594, 52.338434325621634], [4.632395499061987, 52.33740070819984], [4.629012154175014, 52.336856689326765], [4.626430127813905, 52.335496612865484], [4.622245464401071, 52.334136494577166], [4.620375721174061, 52.333320403526976], [4.61921826108115, 52.332558704961116], [4.61663623472004, 52.33076322072676], [4.6157458808024145, 52.33005588874479], [4.614410349925977, 52.32793382493505], [4.6125406066989685, 52.326464644203384], [4.611472181997819, 52.32466891260512], [4.611561217389581, 52.322981946830524], [4.611650252781343, 52.32091396555389], [4.612006394348393, 52.316233440516314], [4.6120954297401555, 52.31416514384858], [4.611828323564869, 52.31253220978334], [4.610225686513144, 52.31084478129337], [4.607287518584985, 52.30839517385932], [4.606041023100311, 52.3069797833344], [4.605684881533262, 52.30638095064378]]], &quot;type&quot;: &quot;MultiLineString&quot;}, &quot;id&quot;: &quot;2&quot;, &quot;properties&quot;: {}, &quot;type&quot;: &quot;Feature&quot;}], &quot;type&quot;: &quot;FeatureCollection&quot;});\n",
       "\n",
       "        \n",
       "&lt;/script&gt;\n",
       "&lt;/html&gt;\" style=\"position:absolute;width:100%;height:100%;left:0;top:0;border:none !important;\" allowfullscreen webkitallowfullscreen mozallowfullscreen></iframe></div></div>"
      ],
      "text/plain": [
       "<folium.folium.Map at 0x20072992a90>"
      ]
     },
     "execution_count": 98,
     "metadata": {},
     "output_type": "execute_result"
    }
   ],
   "source": [
    "railPaths_plot = gpd.read_file('data/networkLines_rail.gpkg')\n",
    "waterPaths_plot = gpd.read_file('data/networkLines_water.gpkg') \n",
    "\n",
    "m = folium.Map([52.377231, 4.899288], zoom_start=11, tiles='cartodbdark_matter')\n",
    "\n",
    "def style_function(feature):\n",
    "    return {\n",
    "        'color': 'blue',\n",
    "        'weight': 2,\n",
    "        'opacity': 1,\n",
    "    }\n",
    "\n",
    "folium.GeoJson(\n",
    "    waterPaths_plot,\n",
    "    style_function=style_function,\n",
    ").add_to(m)\n",
    "\n",
    "m"
   ]
  },
  {
   "cell_type": "code",
   "execution_count": 90,
   "id": "6cb69e91-640e-4e01-bceb-ceece98fb8af",
   "metadata": {},
   "outputs": [
    {
     "data": {
      "text/html": [
       "<div>\n",
       "<style scoped>\n",
       "    .dataframe tbody tr th:only-of-type {\n",
       "        vertical-align: middle;\n",
       "    }\n",
       "\n",
       "    .dataframe tbody tr th {\n",
       "        vertical-align: top;\n",
       "    }\n",
       "\n",
       "    .dataframe thead th {\n",
       "        text-align: right;\n",
       "    }\n",
       "</style>\n",
       "<table border=\"1\" class=\"dataframe\">\n",
       "  <thead>\n",
       "    <tr style=\"text-align: right;\">\n",
       "      <th></th>\n",
       "      <th>material</th>\n",
       "      <th>unit</th>\n",
       "      <th>biobased_type</th>\n",
       "      <th>structural_type</th>\n",
       "      <th>buildingType</th>\n",
       "      <th>tons</th>\n",
       "      <th>circular</th>\n",
       "    </tr>\n",
       "  </thead>\n",
       "  <tbody>\n",
       "    <tr>\n",
       "      <th>46</th>\n",
       "      <td>concrete_in-situ</td>\n",
       "      <td>tons</td>\n",
       "      <td>full</td>\n",
       "      <td>foundation</td>\n",
       "      <td>B</td>\n",
       "      <td>2652.00000</td>\n",
       "      <td>not circular</td>\n",
       "    </tr>\n",
       "    <tr>\n",
       "      <th>50</th>\n",
       "      <td>gravel_sand</td>\n",
       "      <td>tons</td>\n",
       "      <td>full</td>\n",
       "      <td>foundation</td>\n",
       "      <td>B</td>\n",
       "      <td>200.00000</td>\n",
       "      <td>not circular</td>\n",
       "    </tr>\n",
       "    <tr>\n",
       "      <th>55</th>\n",
       "      <td>steel</td>\n",
       "      <td>tons</td>\n",
       "      <td>full</td>\n",
       "      <td>foundation</td>\n",
       "      <td>B</td>\n",
       "      <td>221.00000</td>\n",
       "      <td>not circular</td>\n",
       "    </tr>\n",
       "    <tr>\n",
       "      <th>85</th>\n",
       "      <td>modules</td>\n",
       "      <td>tons</td>\n",
       "      <td>full</td>\n",
       "      <td>non-structural</td>\n",
       "      <td>B</td>\n",
       "      <td>3439.00000</td>\n",
       "      <td>not circular</td>\n",
       "    </tr>\n",
       "    <tr>\n",
       "      <th>60</th>\n",
       "      <td>concrete_in-situ</td>\n",
       "      <td>tons</td>\n",
       "      <td>full</td>\n",
       "      <td>structural</td>\n",
       "      <td>B</td>\n",
       "      <td>275.58360</td>\n",
       "      <td>not circular</td>\n",
       "    </tr>\n",
       "    <tr>\n",
       "      <th>61</th>\n",
       "      <td>concrete_prefab</td>\n",
       "      <td>tons</td>\n",
       "      <td>full</td>\n",
       "      <td>structural</td>\n",
       "      <td>B</td>\n",
       "      <td>2941.96254</td>\n",
       "      <td>not circular</td>\n",
       "    </tr>\n",
       "    <tr>\n",
       "      <th>69</th>\n",
       "      <td>steel</td>\n",
       "      <td>tons</td>\n",
       "      <td>full</td>\n",
       "      <td>structural</td>\n",
       "      <td>B</td>\n",
       "      <td>39.85650</td>\n",
       "      <td>circular</td>\n",
       "    </tr>\n",
       "  </tbody>\n",
       "</table>\n",
       "</div>"
      ],
      "text/plain": [
       "            material  unit biobased_type structural_type buildingType  \\\n",
       "46  concrete_in-situ  tons          full      foundation            B   \n",
       "50       gravel_sand  tons          full      foundation            B   \n",
       "55             steel  tons          full      foundation            B   \n",
       "85           modules  tons          full  non-structural            B   \n",
       "60  concrete_in-situ  tons          full      structural            B   \n",
       "61   concrete_prefab  tons          full      structural            B   \n",
       "69             steel  tons          full      structural            B   \n",
       "\n",
       "          tons      circular  \n",
       "46  2652.00000  not circular  \n",
       "50   200.00000  not circular  \n",
       "55   221.00000  not circular  \n",
       "85  3439.00000  not circular  \n",
       "60   275.58360  not circular  \n",
       "61  2941.96254  not circular  \n",
       "69    39.85650      circular  "
      ]
     },
     "execution_count": 90,
     "metadata": {},
     "output_type": "execute_result"
    }
   ],
   "source": [
    "site = [s for s in model.construction_sites][0]\n",
    "df = site.material_composition_df\n",
    "circularity_type = model.circularity_type\n",
    "\n",
    "circularity_dict = {\n",
    "            'none': [], \n",
    "            'semi': ['non-structural'], \n",
    "            'full': ['non-structural', 'structural'], \n",
    "            'extreme': ['non-structural', 'structural', 'foundation']\n",
    "        }\n",
    "\n",
    "def decide_circularity(row): \n",
    "    bulk_materials = ['cement_cover-floor', 'concrete_in-situ', 'concrete_prefab', 'gravel_sand']\n",
    "    row['circular'] = 'circular' if row.structural_type in circularity_dict[circularity_type] else 'not circular'\n",
    "    if row.material in bulk_materials or row.material == 'modules': \n",
    "        row['circular'] = 'not circular'\n",
    "    return row \n",
    "df = df.apply(lambda row: decide_circularity(row), axis=1)\n",
    "# df = df.groupby('circular').sum(numeric_only=True).reset_index()\n",
    "df"
   ]
  },
  {
   "cell_type": "code",
   "execution_count": 185,
   "id": "124f6aad-d68d-48e0-bc80-c9d1a8c6459c",
   "metadata": {
    "tags": []
   },
   "outputs": [
    {
     "data": {
      "application/vnd.plotly.v1+json": {
       "config": {
        "plotlyServerURL": "https://plot.ly"
       },
       "data": [
        {
         "domain": {
          "x": [
           0,
           1
          ],
          "y": [
           0,
           1
          ]
         },
         "hovertemplate": "material=%{label}<br>emissions=%{value}<extra></extra>",
         "labels": [
          "cement_cover-floor",
          "concrete_in-situ",
          "concrete_prefab",
          "gravel_sand",
          "brick",
          "isolation",
          "glass",
          "furnishing_stone",
          "steel",
          "bitumen",
          "gypsum",
          "aluminium",
          "plaster"
         ],
         "legendgroup": "",
         "name": "",
         "showlegend": true,
         "type": "pie",
         "values": [
          249.4457682119084,
          11018.552390712666,
          64871.82287003981,
          982.1801765885155,
          1042.921928858883,
          924.4342785178246,
          17501.779501797577,
          1804.8367801729983,
          966.2102530723126,
          43.080651189342056,
          5606.595452775331,
          478.06229202960463,
          4.673205167589151
         ]
        }
       ],
       "layout": {
        "height": 500,
        "legend": {
         "tracegroupgap": 0
        },
        "template": {
         "data": {
          "bar": [
           {
            "error_x": {
             "color": "#2a3f5f"
            },
            "error_y": {
             "color": "#2a3f5f"
            },
            "marker": {
             "line": {
              "color": "#E5ECF6",
              "width": 0.5
             },
             "pattern": {
              "fillmode": "overlay",
              "size": 10,
              "solidity": 0.2
             }
            },
            "type": "bar"
           }
          ],
          "barpolar": [
           {
            "marker": {
             "line": {
              "color": "#E5ECF6",
              "width": 0.5
             },
             "pattern": {
              "fillmode": "overlay",
              "size": 10,
              "solidity": 0.2
             }
            },
            "type": "barpolar"
           }
          ],
          "carpet": [
           {
            "aaxis": {
             "endlinecolor": "#2a3f5f",
             "gridcolor": "white",
             "linecolor": "white",
             "minorgridcolor": "white",
             "startlinecolor": "#2a3f5f"
            },
            "baxis": {
             "endlinecolor": "#2a3f5f",
             "gridcolor": "white",
             "linecolor": "white",
             "minorgridcolor": "white",
             "startlinecolor": "#2a3f5f"
            },
            "type": "carpet"
           }
          ],
          "choropleth": [
           {
            "colorbar": {
             "outlinewidth": 0,
             "ticks": ""
            },
            "type": "choropleth"
           }
          ],
          "contour": [
           {
            "colorbar": {
             "outlinewidth": 0,
             "ticks": ""
            },
            "colorscale": [
             [
              0,
              "#0d0887"
             ],
             [
              0.1111111111111111,
              "#46039f"
             ],
             [
              0.2222222222222222,
              "#7201a8"
             ],
             [
              0.3333333333333333,
              "#9c179e"
             ],
             [
              0.4444444444444444,
              "#bd3786"
             ],
             [
              0.5555555555555556,
              "#d8576b"
             ],
             [
              0.6666666666666666,
              "#ed7953"
             ],
             [
              0.7777777777777778,
              "#fb9f3a"
             ],
             [
              0.8888888888888888,
              "#fdca26"
             ],
             [
              1,
              "#f0f921"
             ]
            ],
            "type": "contour"
           }
          ],
          "contourcarpet": [
           {
            "colorbar": {
             "outlinewidth": 0,
             "ticks": ""
            },
            "type": "contourcarpet"
           }
          ],
          "heatmap": [
           {
            "colorbar": {
             "outlinewidth": 0,
             "ticks": ""
            },
            "colorscale": [
             [
              0,
              "#0d0887"
             ],
             [
              0.1111111111111111,
              "#46039f"
             ],
             [
              0.2222222222222222,
              "#7201a8"
             ],
             [
              0.3333333333333333,
              "#9c179e"
             ],
             [
              0.4444444444444444,
              "#bd3786"
             ],
             [
              0.5555555555555556,
              "#d8576b"
             ],
             [
              0.6666666666666666,
              "#ed7953"
             ],
             [
              0.7777777777777778,
              "#fb9f3a"
             ],
             [
              0.8888888888888888,
              "#fdca26"
             ],
             [
              1,
              "#f0f921"
             ]
            ],
            "type": "heatmap"
           }
          ],
          "heatmapgl": [
           {
            "colorbar": {
             "outlinewidth": 0,
             "ticks": ""
            },
            "colorscale": [
             [
              0,
              "#0d0887"
             ],
             [
              0.1111111111111111,
              "#46039f"
             ],
             [
              0.2222222222222222,
              "#7201a8"
             ],
             [
              0.3333333333333333,
              "#9c179e"
             ],
             [
              0.4444444444444444,
              "#bd3786"
             ],
             [
              0.5555555555555556,
              "#d8576b"
             ],
             [
              0.6666666666666666,
              "#ed7953"
             ],
             [
              0.7777777777777778,
              "#fb9f3a"
             ],
             [
              0.8888888888888888,
              "#fdca26"
             ],
             [
              1,
              "#f0f921"
             ]
            ],
            "type": "heatmapgl"
           }
          ],
          "histogram": [
           {
            "marker": {
             "pattern": {
              "fillmode": "overlay",
              "size": 10,
              "solidity": 0.2
             }
            },
            "type": "histogram"
           }
          ],
          "histogram2d": [
           {
            "colorbar": {
             "outlinewidth": 0,
             "ticks": ""
            },
            "colorscale": [
             [
              0,
              "#0d0887"
             ],
             [
              0.1111111111111111,
              "#46039f"
             ],
             [
              0.2222222222222222,
              "#7201a8"
             ],
             [
              0.3333333333333333,
              "#9c179e"
             ],
             [
              0.4444444444444444,
              "#bd3786"
             ],
             [
              0.5555555555555556,
              "#d8576b"
             ],
             [
              0.6666666666666666,
              "#ed7953"
             ],
             [
              0.7777777777777778,
              "#fb9f3a"
             ],
             [
              0.8888888888888888,
              "#fdca26"
             ],
             [
              1,
              "#f0f921"
             ]
            ],
            "type": "histogram2d"
           }
          ],
          "histogram2dcontour": [
           {
            "colorbar": {
             "outlinewidth": 0,
             "ticks": ""
            },
            "colorscale": [
             [
              0,
              "#0d0887"
             ],
             [
              0.1111111111111111,
              "#46039f"
             ],
             [
              0.2222222222222222,
              "#7201a8"
             ],
             [
              0.3333333333333333,
              "#9c179e"
             ],
             [
              0.4444444444444444,
              "#bd3786"
             ],
             [
              0.5555555555555556,
              "#d8576b"
             ],
             [
              0.6666666666666666,
              "#ed7953"
             ],
             [
              0.7777777777777778,
              "#fb9f3a"
             ],
             [
              0.8888888888888888,
              "#fdca26"
             ],
             [
              1,
              "#f0f921"
             ]
            ],
            "type": "histogram2dcontour"
           }
          ],
          "mesh3d": [
           {
            "colorbar": {
             "outlinewidth": 0,
             "ticks": ""
            },
            "type": "mesh3d"
           }
          ],
          "parcoords": [
           {
            "line": {
             "colorbar": {
              "outlinewidth": 0,
              "ticks": ""
             }
            },
            "type": "parcoords"
           }
          ],
          "pie": [
           {
            "automargin": true,
            "type": "pie"
           }
          ],
          "scatter": [
           {
            "fillpattern": {
             "fillmode": "overlay",
             "size": 10,
             "solidity": 0.2
            },
            "type": "scatter"
           }
          ],
          "scatter3d": [
           {
            "line": {
             "colorbar": {
              "outlinewidth": 0,
              "ticks": ""
             }
            },
            "marker": {
             "colorbar": {
              "outlinewidth": 0,
              "ticks": ""
             }
            },
            "type": "scatter3d"
           }
          ],
          "scattercarpet": [
           {
            "marker": {
             "colorbar": {
              "outlinewidth": 0,
              "ticks": ""
             }
            },
            "type": "scattercarpet"
           }
          ],
          "scattergeo": [
           {
            "marker": {
             "colorbar": {
              "outlinewidth": 0,
              "ticks": ""
             }
            },
            "type": "scattergeo"
           }
          ],
          "scattergl": [
           {
            "marker": {
             "colorbar": {
              "outlinewidth": 0,
              "ticks": ""
             }
            },
            "type": "scattergl"
           }
          ],
          "scattermapbox": [
           {
            "marker": {
             "colorbar": {
              "outlinewidth": 0,
              "ticks": ""
             }
            },
            "type": "scattermapbox"
           }
          ],
          "scatterpolar": [
           {
            "marker": {
             "colorbar": {
              "outlinewidth": 0,
              "ticks": ""
             }
            },
            "type": "scatterpolar"
           }
          ],
          "scatterpolargl": [
           {
            "marker": {
             "colorbar": {
              "outlinewidth": 0,
              "ticks": ""
             }
            },
            "type": "scatterpolargl"
           }
          ],
          "scatterternary": [
           {
            "marker": {
             "colorbar": {
              "outlinewidth": 0,
              "ticks": ""
             }
            },
            "type": "scatterternary"
           }
          ],
          "surface": [
           {
            "colorbar": {
             "outlinewidth": 0,
             "ticks": ""
            },
            "colorscale": [
             [
              0,
              "#0d0887"
             ],
             [
              0.1111111111111111,
              "#46039f"
             ],
             [
              0.2222222222222222,
              "#7201a8"
             ],
             [
              0.3333333333333333,
              "#9c179e"
             ],
             [
              0.4444444444444444,
              "#bd3786"
             ],
             [
              0.5555555555555556,
              "#d8576b"
             ],
             [
              0.6666666666666666,
              "#ed7953"
             ],
             [
              0.7777777777777778,
              "#fb9f3a"
             ],
             [
              0.8888888888888888,
              "#fdca26"
             ],
             [
              1,
              "#f0f921"
             ]
            ],
            "type": "surface"
           }
          ],
          "table": [
           {
            "cells": {
             "fill": {
              "color": "#EBF0F8"
             },
             "line": {
              "color": "white"
             }
            },
            "header": {
             "fill": {
              "color": "#C8D4E3"
             },
             "line": {
              "color": "white"
             }
            },
            "type": "table"
           }
          ]
         },
         "layout": {
          "annotationdefaults": {
           "arrowcolor": "#2a3f5f",
           "arrowhead": 0,
           "arrowwidth": 1
          },
          "autotypenumbers": "strict",
          "coloraxis": {
           "colorbar": {
            "outlinewidth": 0,
            "ticks": ""
           }
          },
          "colorscale": {
           "diverging": [
            [
             0,
             "#8e0152"
            ],
            [
             0.1,
             "#c51b7d"
            ],
            [
             0.2,
             "#de77ae"
            ],
            [
             0.3,
             "#f1b6da"
            ],
            [
             0.4,
             "#fde0ef"
            ],
            [
             0.5,
             "#f7f7f7"
            ],
            [
             0.6,
             "#e6f5d0"
            ],
            [
             0.7,
             "#b8e186"
            ],
            [
             0.8,
             "#7fbc41"
            ],
            [
             0.9,
             "#4d9221"
            ],
            [
             1,
             "#276419"
            ]
           ],
           "sequential": [
            [
             0,
             "#0d0887"
            ],
            [
             0.1111111111111111,
             "#46039f"
            ],
            [
             0.2222222222222222,
             "#7201a8"
            ],
            [
             0.3333333333333333,
             "#9c179e"
            ],
            [
             0.4444444444444444,
             "#bd3786"
            ],
            [
             0.5555555555555556,
             "#d8576b"
            ],
            [
             0.6666666666666666,
             "#ed7953"
            ],
            [
             0.7777777777777778,
             "#fb9f3a"
            ],
            [
             0.8888888888888888,
             "#fdca26"
            ],
            [
             1,
             "#f0f921"
            ]
           ],
           "sequentialminus": [
            [
             0,
             "#0d0887"
            ],
            [
             0.1111111111111111,
             "#46039f"
            ],
            [
             0.2222222222222222,
             "#7201a8"
            ],
            [
             0.3333333333333333,
             "#9c179e"
            ],
            [
             0.4444444444444444,
             "#bd3786"
            ],
            [
             0.5555555555555556,
             "#d8576b"
            ],
            [
             0.6666666666666666,
             "#ed7953"
            ],
            [
             0.7777777777777778,
             "#fb9f3a"
            ],
            [
             0.8888888888888888,
             "#fdca26"
            ],
            [
             1,
             "#f0f921"
            ]
           ]
          },
          "colorway": [
           "#636efa",
           "#EF553B",
           "#00cc96",
           "#ab63fa",
           "#FFA15A",
           "#19d3f3",
           "#FF6692",
           "#B6E880",
           "#FF97FF",
           "#FECB52"
          ],
          "font": {
           "color": "#2a3f5f"
          },
          "geo": {
           "bgcolor": "white",
           "lakecolor": "white",
           "landcolor": "#E5ECF6",
           "showlakes": true,
           "showland": true,
           "subunitcolor": "white"
          },
          "hoverlabel": {
           "align": "left"
          },
          "hovermode": "closest",
          "mapbox": {
           "style": "light"
          },
          "paper_bgcolor": "white",
          "plot_bgcolor": "#E5ECF6",
          "polar": {
           "angularaxis": {
            "gridcolor": "white",
            "linecolor": "white",
            "ticks": ""
           },
           "bgcolor": "#E5ECF6",
           "radialaxis": {
            "gridcolor": "white",
            "linecolor": "white",
            "ticks": ""
           }
          },
          "scene": {
           "xaxis": {
            "backgroundcolor": "#E5ECF6",
            "gridcolor": "white",
            "gridwidth": 2,
            "linecolor": "white",
            "showbackground": true,
            "ticks": "",
            "zerolinecolor": "white"
           },
           "yaxis": {
            "backgroundcolor": "#E5ECF6",
            "gridcolor": "white",
            "gridwidth": 2,
            "linecolor": "white",
            "showbackground": true,
            "ticks": "",
            "zerolinecolor": "white"
           },
           "zaxis": {
            "backgroundcolor": "#E5ECF6",
            "gridcolor": "white",
            "gridwidth": 2,
            "linecolor": "white",
            "showbackground": true,
            "ticks": "",
            "zerolinecolor": "white"
           }
          },
          "shapedefaults": {
           "line": {
            "color": "#2a3f5f"
           }
          },
          "ternary": {
           "aaxis": {
            "gridcolor": "white",
            "linecolor": "white",
            "ticks": ""
           },
           "baxis": {
            "gridcolor": "white",
            "linecolor": "white",
            "ticks": ""
           },
           "bgcolor": "#E5ECF6",
           "caxis": {
            "gridcolor": "white",
            "linecolor": "white",
            "ticks": ""
           }
          },
          "title": {
           "x": 0.05
          },
          "xaxis": {
           "automargin": true,
           "gridcolor": "white",
           "linecolor": "white",
           "ticks": "",
           "title": {
            "standoff": 15
           },
           "zerolinecolor": "white",
           "zerolinewidth": 2
          },
          "yaxis": {
           "automargin": true,
           "gridcolor": "white",
           "linecolor": "white",
           "ticks": "",
           "title": {
            "standoff": 15
           },
           "zerolinecolor": "white",
           "zerolinewidth": 2
          }
         }
        },
        "title": {
         "text": "emissions per material"
        },
        "width": 500
       }
      },
      "image/png": "[encoded data removed]",
      "text/html": [
       "<div>                            <div id=\"e51691d1-7a8e-4585-a96f-41977a5cb33d\" class=\"plotly-graph-div\" style=\"height:500px; width:500px;\"></div>            <script type=\"text/javascript\">                require([\"plotly\"], function(Plotly) {                    window.PLOTLYENV=window.PLOTLYENV || {};                                    if (document.getElementById(\"e51691d1-7a8e-4585-a96f-41977a5cb33d\")) {                    Plotly.newPlot(                        \"e51691d1-7a8e-4585-a96f-41977a5cb33d\",                        [{\"domain\":{\"x\":[0.0,1.0],\"y\":[0.0,1.0]},\"hovertemplate\":\"material=%{label}<br>emissions=%{value}<extra></extra>\",\"labels\":[\"cement_cover-floor\",\"concrete_in-situ\",\"concrete_prefab\",\"gravel_sand\",\"brick\",\"isolation\",\"glass\",\"furnishing_stone\",\"steel\",\"bitumen\",\"gypsum\",\"aluminium\",\"plaster\"],\"legendgroup\":\"\",\"name\":\"\",\"showlegend\":true,\"values\":[249.4457682119084,11018.552390712666,64871.82287003981,982.1801765885155,1042.921928858883,924.4342785178246,17501.779501797577,1804.8367801729983,966.2102530723126,43.080651189342056,5606.595452775331,478.06229202960463,4.673205167589151],\"type\":\"pie\"}],                        {\"template\":{\"data\":{\"histogram2dcontour\":[{\"type\":\"histogram2dcontour\",\"colorbar\":{\"outlinewidth\":0,\"ticks\":\"\"},\"colorscale\":[[0.0,\"#0d0887\"],[0.1111111111111111,\"#46039f\"],[0.2222222222222222,\"#7201a8\"],[0.3333333333333333,\"#9c179e\"],[0.4444444444444444,\"#bd3786\"],[0.5555555555555556,\"#d8576b\"],[0.6666666666666666,\"#ed7953\"],[0.7777777777777778,\"#fb9f3a\"],[0.8888888888888888,\"#fdca26\"],[1.0,\"#f0f921\"]]}],\"choropleth\":[{\"type\":\"choropleth\",\"colorbar\":{\"outlinewidth\":0,\"ticks\":\"\"}}],\"histogram2d\":[{\"type\":\"histogram2d\",\"colorbar\":{\"outlinewidth\":0,\"ticks\":\"\"},\"colorscale\":[[0.0,\"#0d0887\"],[0.1111111111111111,\"#46039f\"],[0.2222222222222222,\"#7201a8\"],[0.3333333333333333,\"#9c179e\"],[0.4444444444444444,\"#bd3786\"],[0.5555555555555556,\"#d8576b\"],[0.6666666666666666,\"#ed7953\"],[0.7777777777777778,\"#fb9f3a\"],[0.8888888888888888,\"#fdca26\"],[1.0,\"#f0f921\"]]}],\"heatmap\":[{\"type\":\"heatmap\",\"colorbar\":{\"outlinewidth\":0,\"ticks\":\"\"},\"colorscale\":[[0.0,\"#0d0887\"],[0.1111111111111111,\"#46039f\"],[0.2222222222222222,\"#7201a8\"],[0.3333333333333333,\"#9c179e\"],[0.4444444444444444,\"#bd3786\"],[0.5555555555555556,\"#d8576b\"],[0.6666666666666666,\"#ed7953\"],[0.7777777777777778,\"#fb9f3a\"],[0.8888888888888888,\"#fdca26\"],[1.0,\"#f0f921\"]]}],\"heatmapgl\":[{\"type\":\"heatmapgl\",\"colorbar\":{\"outlinewidth\":0,\"ticks\":\"\"},\"colorscale\":[[0.0,\"#0d0887\"],[0.1111111111111111,\"#46039f\"],[0.2222222222222222,\"#7201a8\"],[0.3333333333333333,\"#9c179e\"],[0.4444444444444444,\"#bd3786\"],[0.5555555555555556,\"#d8576b\"],[0.6666666666666666,\"#ed7953\"],[0.7777777777777778,\"#fb9f3a\"],[0.8888888888888888,\"#fdca26\"],[1.0,\"#f0f921\"]]}],\"contourcarpet\":[{\"type\":\"contourcarpet\",\"colorbar\":{\"outlinewidth\":0,\"ticks\":\"\"}}],\"contour\":[{\"type\":\"contour\",\"colorbar\":{\"outlinewidth\":0,\"ticks\":\"\"},\"colorscale\":[[0.0,\"#0d0887\"],[0.1111111111111111,\"#46039f\"],[0.2222222222222222,\"#7201a8\"],[0.3333333333333333,\"#9c179e\"],[0.4444444444444444,\"#bd3786\"],[0.5555555555555556,\"#d8576b\"],[0.6666666666666666,\"#ed7953\"],[0.7777777777777778,\"#fb9f3a\"],[0.8888888888888888,\"#fdca26\"],[1.0,\"#f0f921\"]]}],\"surface\":[{\"type\":\"surface\",\"colorbar\":{\"outlinewidth\":0,\"ticks\":\"\"},\"colorscale\":[[0.0,\"#0d0887\"],[0.1111111111111111,\"#46039f\"],[0.2222222222222222,\"#7201a8\"],[0.3333333333333333,\"#9c179e\"],[0.4444444444444444,\"#bd3786\"],[0.5555555555555556,\"#d8576b\"],[0.6666666666666666,\"#ed7953\"],[0.7777777777777778,\"#fb9f3a\"],[0.8888888888888888,\"#fdca26\"],[1.0,\"#f0f921\"]]}],\"mesh3d\":[{\"type\":\"mesh3d\",\"colorbar\":{\"outlinewidth\":0,\"ticks\":\"\"}}],\"scatter\":[{\"fillpattern\":{\"fillmode\":\"overlay\",\"size\":10,\"solidity\":0.2},\"type\":\"scatter\"}],\"parcoords\":[{\"type\":\"parcoords\",\"line\":{\"colorbar\":{\"outlinewidth\":0,\"ticks\":\"\"}}}],\"scatterpolargl\":[{\"type\":\"scatterpolargl\",\"marker\":{\"colorbar\":{\"outlinewidth\":0,\"ticks\":\"\"}}}],\"bar\":[{\"error_x\":{\"color\":\"#2a3f5f\"},\"error_y\":{\"color\":\"#2a3f5f\"},\"marker\":{\"line\":{\"color\":\"#E5ECF6\",\"width\":0.5},\"pattern\":{\"fillmode\":\"overlay\",\"size\":10,\"solidity\":0.2}},\"type\":\"bar\"}],\"scattergeo\":[{\"type\":\"scattergeo\",\"marker\":{\"colorbar\":{\"outlinewidth\":0,\"ticks\":\"\"}}}],\"scatterpolar\":[{\"type\":\"scatterpolar\",\"marker\":{\"colorbar\":{\"outlinewidth\":0,\"ticks\":\"\"}}}],\"histogram\":[{\"marker\":{\"pattern\":{\"fillmode\":\"overlay\",\"size\":10,\"solidity\":0.2}},\"type\":\"histogram\"}],\"scattergl\":[{\"type\":\"scattergl\",\"marker\":{\"colorbar\":{\"outlinewidth\":0,\"ticks\":\"\"}}}],\"scatter3d\":[{\"type\":\"scatter3d\",\"line\":{\"colorbar\":{\"outlinewidth\":0,\"ticks\":\"\"}},\"marker\":{\"colorbar\":{\"outlinewidth\":0,\"ticks\":\"\"}}}],\"scattermapbox\":[{\"type\":\"scattermapbox\",\"marker\":{\"colorbar\":{\"outlinewidth\":0,\"ticks\":\"\"}}}],\"scatterternary\":[{\"type\":\"scatterternary\",\"marker\":{\"colorbar\":{\"outlinewidth\":0,\"ticks\":\"\"}}}],\"scattercarpet\":[{\"type\":\"scattercarpet\",\"marker\":{\"colorbar\":{\"outlinewidth\":0,\"ticks\":\"\"}}}],\"carpet\":[{\"aaxis\":{\"endlinecolor\":\"#2a3f5f\",\"gridcolor\":\"white\",\"linecolor\":\"white\",\"minorgridcolor\":\"white\",\"startlinecolor\":\"#2a3f5f\"},\"baxis\":{\"endlinecolor\":\"#2a3f5f\",\"gridcolor\":\"white\",\"linecolor\":\"white\",\"minorgridcolor\":\"white\",\"startlinecolor\":\"#2a3f5f\"},\"type\":\"carpet\"}],\"table\":[{\"cells\":{\"fill\":{\"color\":\"#EBF0F8\"},\"line\":{\"color\":\"white\"}},\"header\":{\"fill\":{\"color\":\"#C8D4E3\"},\"line\":{\"color\":\"white\"}},\"type\":\"table\"}],\"barpolar\":[{\"marker\":{\"line\":{\"color\":\"#E5ECF6\",\"width\":0.5},\"pattern\":{\"fillmode\":\"overlay\",\"size\":10,\"solidity\":0.2}},\"type\":\"barpolar\"}],\"pie\":[{\"automargin\":true,\"type\":\"pie\"}]},\"layout\":{\"autotypenumbers\":\"strict\",\"colorway\":[\"#636efa\",\"#EF553B\",\"#00cc96\",\"#ab63fa\",\"#FFA15A\",\"#19d3f3\",\"#FF6692\",\"#B6E880\",\"#FF97FF\",\"#FECB52\"],\"font\":{\"color\":\"#2a3f5f\"},\"hovermode\":\"closest\",\"hoverlabel\":{\"align\":\"left\"},\"paper_bgcolor\":\"white\",\"plot_bgcolor\":\"#E5ECF6\",\"polar\":{\"bgcolor\":\"#E5ECF6\",\"angularaxis\":{\"gridcolor\":\"white\",\"linecolor\":\"white\",\"ticks\":\"\"},\"radialaxis\":{\"gridcolor\":\"white\",\"linecolor\":\"white\",\"ticks\":\"\"}},\"ternary\":{\"bgcolor\":\"#E5ECF6\",\"aaxis\":{\"gridcolor\":\"white\",\"linecolor\":\"white\",\"ticks\":\"\"},\"baxis\":{\"gridcolor\":\"white\",\"linecolor\":\"white\",\"ticks\":\"\"},\"caxis\":{\"gridcolor\":\"white\",\"linecolor\":\"white\",\"ticks\":\"\"}},\"coloraxis\":{\"colorbar\":{\"outlinewidth\":0,\"ticks\":\"\"}},\"colorscale\":{\"sequential\":[[0.0,\"#0d0887\"],[0.1111111111111111,\"#46039f\"],[0.2222222222222222,\"#7201a8\"],[0.3333333333333333,\"#9c179e\"],[0.4444444444444444,\"#bd3786\"],[0.5555555555555556,\"#d8576b\"],[0.6666666666666666,\"#ed7953\"],[0.7777777777777778,\"#fb9f3a\"],[0.8888888888888888,\"#fdca26\"],[1.0,\"#f0f921\"]],\"sequentialminus\":[[0.0,\"#0d0887\"],[0.1111111111111111,\"#46039f\"],[0.2222222222222222,\"#7201a8\"],[0.3333333333333333,\"#9c179e\"],[0.4444444444444444,\"#bd3786\"],[0.5555555555555556,\"#d8576b\"],[0.6666666666666666,\"#ed7953\"],[0.7777777777777778,\"#fb9f3a\"],[0.8888888888888888,\"#fdca26\"],[1.0,\"#f0f921\"]],\"diverging\":[[0,\"#8e0152\"],[0.1,\"#c51b7d\"],[0.2,\"#de77ae\"],[0.3,\"#f1b6da\"],[0.4,\"#fde0ef\"],[0.5,\"#f7f7f7\"],[0.6,\"#e6f5d0\"],[0.7,\"#b8e186\"],[0.8,\"#7fbc41\"],[0.9,\"#4d9221\"],[1,\"#276419\"]]},\"xaxis\":{\"gridcolor\":\"white\",\"linecolor\":\"white\",\"ticks\":\"\",\"title\":{\"standoff\":15},\"zerolinecolor\":\"white\",\"automargin\":true,\"zerolinewidth\":2},\"yaxis\":{\"gridcolor\":\"white\",\"linecolor\":\"white\",\"ticks\":\"\",\"title\":{\"standoff\":15},\"zerolinecolor\":\"white\",\"automargin\":true,\"zerolinewidth\":2},\"scene\":{\"xaxis\":{\"backgroundcolor\":\"#E5ECF6\",\"gridcolor\":\"white\",\"linecolor\":\"white\",\"showbackground\":true,\"ticks\":\"\",\"zerolinecolor\":\"white\",\"gridwidth\":2},\"yaxis\":{\"backgroundcolor\":\"#E5ECF6\",\"gridcolor\":\"white\",\"linecolor\":\"white\",\"showbackground\":true,\"ticks\":\"\",\"zerolinecolor\":\"white\",\"gridwidth\":2},\"zaxis\":{\"backgroundcolor\":\"#E5ECF6\",\"gridcolor\":\"white\",\"linecolor\":\"white\",\"showbackground\":true,\"ticks\":\"\",\"zerolinecolor\":\"white\",\"gridwidth\":2}},\"shapedefaults\":{\"line\":{\"color\":\"#2a3f5f\"}},\"annotationdefaults\":{\"arrowcolor\":\"#2a3f5f\",\"arrowhead\":0,\"arrowwidth\":1},\"geo\":{\"bgcolor\":\"white\",\"landcolor\":\"#E5ECF6\",\"subunitcolor\":\"white\",\"showland\":true,\"showlakes\":true,\"lakecolor\":\"white\"},\"title\":{\"x\":0.05},\"mapbox\":{\"style\":\"light\"}}},\"legend\":{\"tracegroupgap\":0},\"title\":{\"text\":\"emissions per material\"},\"height\":500,\"width\":500},                        {\"responsive\": true}                    ).then(function(){\n",
       "                            \n",
       "var gd = document.getElementById('e51691d1-7a8e-4585-a96f-41977a5cb33d');\n",
       "var x = new MutationObserver(function (mutations, observer) {{\n",
       "        var display = window.getComputedStyle(gd).display;\n",
       "        if (!display || display === 'none') {{\n",
       "            console.log([gd, 'removed!']);\n",
       "            Plotly.purge(gd);\n",
       "            observer.disconnect();\n",
       "        }}\n",
       "}});\n",
       "\n",
       "// Listen for the removal of the full notebook cells\n",
       "var notebookContainer = gd.closest('#notebook-container');\n",
       "if (notebookContainer) {{\n",
       "    x.observe(notebookContainer, {childList: true});\n",
       "}}\n",
       "\n",
       "// Listen for the clearing of the current output cell\n",
       "var outputEl = gd.closest('.output');\n",
       "if (outputEl) {{\n",
       "    x.observe(outputEl, {childList: true});\n",
       "}}\n",
       "\n",
       "                        })                };                });            </script>        </div>"
      ]
     },
     "metadata": {},
     "output_type": "display_data"
    }
   ],
   "source": [
    "data = model.datacollector.get_model_vars_dataframe()\n",
    "df = data.copy()\n",
    "df = df[['emissions_per_material']]\n",
    "df = df.explode('emissions_per_material').reset_index(names='step')\n",
    "df = df.rename(columns={'emissions_per_material': 'material'})\n",
    "df = df.dropna()\n",
    "def get_emissions(row): \n",
    "    emissions_dict = data.iloc[row.step].emissions_per_material\n",
    "    row['emissions'] = emissions_dict[row.material]\n",
    "    return row\n",
    "df = df.apply(lambda row: get_emissions(row), axis=1)\n",
    "\n",
    "dfAdd = df[df.step == 1]\n",
    "dfAdd.step = 0\n",
    "dfAdd.emissions = 0\n",
    "df = pd.concat([dfAdd, df])\n",
    "df.step = df.step.map(lambda x: x + 2023)\n",
    "df.rename(columns={'step': 'year'}, inplace=True)\n",
    "\n",
    "df = df[df.year == 2028]\n",
    "df\n",
    "\n",
    "fig = px.pie(df, values='emissions', names='material', title='emissions per material', height=500, width=500)\n",
    "fig.show()"
   ]
  },
  {
   "cell_type": "code",
   "execution_count": 100,
   "id": "063862e7-f676-4ab3-b91d-684112e6ef68",
   "metadata": {},
   "outputs": [
    {
     "data": {
      "application/vnd.plotly.v1+json": {
       "config": {
        "plotlyServerURL": "https://plot.ly"
       },
       "data": [
        {
         "domain": {
          "x": [
           0,
           1
          ],
          "y": [
           0,
           1
          ]
         },
         "hovertemplate": "bulk=%{label}<br>tons=%{value}<extra></extra>",
         "labels": [
          "bulk",
          "bulk",
          "not bulk",
          "bulk",
          "bulk",
          "not bulk",
          "not bulk",
          "not bulk",
          "bulk",
          "not bulk",
          "not bulk",
          "bulk",
          "not bulk",
          "not bulk",
          "not bulk",
          "not bulk",
          "bulk",
          "bulk",
          "not bulk",
          "bulk",
          "bulk",
          "not bulk",
          "not bulk",
          "not bulk",
          "bulk",
          "bulk",
          "not bulk",
          "not bulk",
          "not bulk",
          "not bulk",
          "not bulk",
          "not bulk",
          "not bulk",
          "bulk",
          "bulk",
          "not bulk",
          "bulk",
          "bulk",
          "not bulk",
          "not bulk",
          "not bulk",
          "bulk",
          "bulk",
          "not bulk",
          "not bulk",
          "not bulk",
          "not bulk",
          "not bulk",
          "not bulk"
         ],
         "legendgroup": "",
         "name": "",
         "showlegend": true,
         "type": "pie",
         "values": [
          2652,
          200,
          221,
          547.1999999999999,
          7816,
          199.2825,
          321,
          322,
          723.8000000000001,
          216,
          2100,
          6.2,
          2200,
          26.1,
          13.3,
          60,
          9792,
          250,
          816,
          21648,
          11066,
          597.8475,
          194.3,
          1922,
          1051.6,
          928.4,
          522,
          3539.8,
          2760,
          69,
          8.8,
          26,
          90.7,
          26580,
          300,
          2215,
          9360,
          38020,
          1328.55,
          361.7,
          538,
          253.00000000000003,
          3128.4,
          1594,
          8922,
          5975,
          113.45,
          19,
          328
         ]
        }
       ],
       "layout": {
        "height": 500,
        "legend": {
         "tracegroupgap": 0
        },
        "template": {
         "data": {
          "bar": [
           {
            "error_x": {
             "color": "#2a3f5f"
            },
            "error_y": {
             "color": "#2a3f5f"
            },
            "marker": {
             "line": {
              "color": "#E5ECF6",
              "width": 0.5
             },
             "pattern": {
              "fillmode": "overlay",
              "size": 10,
              "solidity": 0.2
             }
            },
            "type": "bar"
           }
          ],
          "barpolar": [
           {
            "marker": {
             "line": {
              "color": "#E5ECF6",
              "width": 0.5
             },
             "pattern": {
              "fillmode": "overlay",
              "size": 10,
              "solidity": 0.2
             }
            },
            "type": "barpolar"
           }
          ],
          "carpet": [
           {
            "aaxis": {
             "endlinecolor": "#2a3f5f",
             "gridcolor": "white",
             "linecolor": "white",
             "minorgridcolor": "white",
             "startlinecolor": "#2a3f5f"
            },
            "baxis": {
             "endlinecolor": "#2a3f5f",
             "gridcolor": "white",
             "linecolor": "white",
             "minorgridcolor": "white",
             "startlinecolor": "#2a3f5f"
            },
            "type": "carpet"
           }
          ],
          "choropleth": [
           {
            "colorbar": {
             "outlinewidth": 0,
             "ticks": ""
            },
            "type": "choropleth"
           }
          ],
          "contour": [
           {
            "colorbar": {
             "outlinewidth": 0,
             "ticks": ""
            },
            "colorscale": [
             [
              0,
              "#0d0887"
             ],
             [
              0.1111111111111111,
              "#46039f"
             ],
             [
              0.2222222222222222,
              "#7201a8"
             ],
             [
              0.3333333333333333,
              "#9c179e"
             ],
             [
              0.4444444444444444,
              "#bd3786"
             ],
             [
              0.5555555555555556,
              "#d8576b"
             ],
             [
              0.6666666666666666,
              "#ed7953"
             ],
             [
              0.7777777777777778,
              "#fb9f3a"
             ],
             [
              0.8888888888888888,
              "#fdca26"
             ],
             [
              1,
              "#f0f921"
             ]
            ],
            "type": "contour"
           }
          ],
          "contourcarpet": [
           {
            "colorbar": {
             "outlinewidth": 0,
             "ticks": ""
            },
            "type": "contourcarpet"
           }
          ],
          "heatmap": [
           {
            "colorbar": {
             "outlinewidth": 0,
             "ticks": ""
            },
            "colorscale": [
             [
              0,
              "#0d0887"
             ],
             [
              0.1111111111111111,
              "#46039f"
             ],
             [
              0.2222222222222222,
              "#7201a8"
             ],
             [
              0.3333333333333333,
              "#9c179e"
             ],
             [
              0.4444444444444444,
              "#bd3786"
             ],
             [
              0.5555555555555556,
              "#d8576b"
             ],
             [
              0.6666666666666666,
              "#ed7953"
             ],
             [
              0.7777777777777778,
              "#fb9f3a"
             ],
             [
              0.8888888888888888,
              "#fdca26"
             ],
             [
              1,
              "#f0f921"
             ]
            ],
            "type": "heatmap"
           }
          ],
          "heatmapgl": [
           {
            "colorbar": {
             "outlinewidth": 0,
             "ticks": ""
            },
            "colorscale": [
             [
              0,
              "#0d0887"
             ],
             [
              0.1111111111111111,
              "#46039f"
             ],
             [
              0.2222222222222222,
              "#7201a8"
             ],
             [
              0.3333333333333333,
              "#9c179e"
             ],
             [
              0.4444444444444444,
              "#bd3786"
             ],
             [
              0.5555555555555556,
              "#d8576b"
             ],
             [
              0.6666666666666666,
              "#ed7953"
             ],
             [
              0.7777777777777778,
              "#fb9f3a"
             ],
             [
              0.8888888888888888,
              "#fdca26"
             ],
             [
              1,
              "#f0f921"
             ]
            ],
            "type": "heatmapgl"
           }
          ],
          "histogram": [
           {
            "marker": {
             "pattern": {
              "fillmode": "overlay",
              "size": 10,
              "solidity": 0.2
             }
            },
            "type": "histogram"
           }
          ],
          "histogram2d": [
           {
            "colorbar": {
             "outlinewidth": 0,
             "ticks": ""
            },
            "colorscale": [
             [
              0,
              "#0d0887"
             ],
             [
              0.1111111111111111,
              "#46039f"
             ],
             [
              0.2222222222222222,
              "#7201a8"
             ],
             [
              0.3333333333333333,
              "#9c179e"
             ],
             [
              0.4444444444444444,
              "#bd3786"
             ],
             [
              0.5555555555555556,
              "#d8576b"
             ],
             [
              0.6666666666666666,
              "#ed7953"
             ],
             [
              0.7777777777777778,
              "#fb9f3a"
             ],
             [
              0.8888888888888888,
              "#fdca26"
             ],
             [
              1,
              "#f0f921"
             ]
            ],
            "type": "histogram2d"
           }
          ],
          "histogram2dcontour": [
           {
            "colorbar": {
             "outlinewidth": 0,
             "ticks": ""
            },
            "colorscale": [
             [
              0,
              "#0d0887"
             ],
             [
              0.1111111111111111,
              "#46039f"
             ],
             [
              0.2222222222222222,
              "#7201a8"
             ],
             [
              0.3333333333333333,
              "#9c179e"
             ],
             [
              0.4444444444444444,
              "#bd3786"
             ],
             [
              0.5555555555555556,
              "#d8576b"
             ],
             [
              0.6666666666666666,
              "#ed7953"
             ],
             [
              0.7777777777777778,
              "#fb9f3a"
             ],
             [
              0.8888888888888888,
              "#fdca26"
             ],
             [
              1,
              "#f0f921"
             ]
            ],
            "type": "histogram2dcontour"
           }
          ],
          "mesh3d": [
           {
            "colorbar": {
             "outlinewidth": 0,
             "ticks": ""
            },
            "type": "mesh3d"
           }
          ],
          "parcoords": [
           {
            "line": {
             "colorbar": {
              "outlinewidth": 0,
              "ticks": ""
             }
            },
            "type": "parcoords"
           }
          ],
          "pie": [
           {
            "automargin": true,
            "type": "pie"
           }
          ],
          "scatter": [
           {
            "fillpattern": {
             "fillmode": "overlay",
             "size": 10,
             "solidity": 0.2
            },
            "type": "scatter"
           }
          ],
          "scatter3d": [
           {
            "line": {
             "colorbar": {
              "outlinewidth": 0,
              "ticks": ""
             }
            },
            "marker": {
             "colorbar": {
              "outlinewidth": 0,
              "ticks": ""
             }
            },
            "type": "scatter3d"
           }
          ],
          "scattercarpet": [
           {
            "marker": {
             "colorbar": {
              "outlinewidth": 0,
              "ticks": ""
             }
            },
            "type": "scattercarpet"
           }
          ],
          "scattergeo": [
           {
            "marker": {
             "colorbar": {
              "outlinewidth": 0,
              "ticks": ""
             }
            },
            "type": "scattergeo"
           }
          ],
          "scattergl": [
           {
            "marker": {
             "colorbar": {
              "outlinewidth": 0,
              "ticks": ""
             }
            },
            "type": "scattergl"
           }
          ],
          "scattermapbox": [
           {
            "marker": {
             "colorbar": {
              "outlinewidth": 0,
              "ticks": ""
             }
            },
            "type": "scattermapbox"
           }
          ],
          "scatterpolar": [
           {
            "marker": {
             "colorbar": {
              "outlinewidth": 0,
              "ticks": ""
             }
            },
            "type": "scatterpolar"
           }
          ],
          "scatterpolargl": [
           {
            "marker": {
             "colorbar": {
              "outlinewidth": 0,
              "ticks": ""
             }
            },
            "type": "scatterpolargl"
           }
          ],
          "scatterternary": [
           {
            "marker": {
             "colorbar": {
              "outlinewidth": 0,
              "ticks": ""
             }
            },
            "type": "scatterternary"
           }
          ],
          "surface": [
           {
            "colorbar": {
             "outlinewidth": 0,
             "ticks": ""
            },
            "colorscale": [
             [
              0,
              "#0d0887"
             ],
             [
              0.1111111111111111,
              "#46039f"
             ],
             [
              0.2222222222222222,
              "#7201a8"
             ],
             [
              0.3333333333333333,
              "#9c179e"
             ],
             [
              0.4444444444444444,
              "#bd3786"
             ],
             [
              0.5555555555555556,
              "#d8576b"
             ],
             [
              0.6666666666666666,
              "#ed7953"
             ],
             [
              0.7777777777777778,
              "#fb9f3a"
             ],
             [
              0.8888888888888888,
              "#fdca26"
             ],
             [
              1,
              "#f0f921"
             ]
            ],
            "type": "surface"
           }
          ],
          "table": [
           {
            "cells": {
             "fill": {
              "color": "#EBF0F8"
             },
             "line": {
              "color": "white"
             }
            },
            "header": {
             "fill": {
              "color": "#C8D4E3"
             },
             "line": {
              "color": "white"
             }
            },
            "type": "table"
           }
          ]
         },
         "layout": {
          "annotationdefaults": {
           "arrowcolor": "#2a3f5f",
           "arrowhead": 0,
           "arrowwidth": 1
          },
          "autotypenumbers": "strict",
          "coloraxis": {
           "colorbar": {
            "outlinewidth": 0,
            "ticks": ""
           }
          },
          "colorscale": {
           "diverging": [
            [
             0,
             "#8e0152"
            ],
            [
             0.1,
             "#c51b7d"
            ],
            [
             0.2,
             "#de77ae"
            ],
            [
             0.3,
             "#f1b6da"
            ],
            [
             0.4,
             "#fde0ef"
            ],
            [
             0.5,
             "#f7f7f7"
            ],
            [
             0.6,
             "#e6f5d0"
            ],
            [
             0.7,
             "#b8e186"
            ],
            [
             0.8,
             "#7fbc41"
            ],
            [
             0.9,
             "#4d9221"
            ],
            [
             1,
             "#276419"
            ]
           ],
           "sequential": [
            [
             0,
             "#0d0887"
            ],
            [
             0.1111111111111111,
             "#46039f"
            ],
            [
             0.2222222222222222,
             "#7201a8"
            ],
            [
             0.3333333333333333,
             "#9c179e"
            ],
            [
             0.4444444444444444,
             "#bd3786"
            ],
            [
             0.5555555555555556,
             "#d8576b"
            ],
            [
             0.6666666666666666,
             "#ed7953"
            ],
            [
             0.7777777777777778,
             "#fb9f3a"
            ],
            [
             0.8888888888888888,
             "#fdca26"
            ],
            [
             1,
             "#f0f921"
            ]
           ],
           "sequentialminus": [
            [
             0,
             "#0d0887"
            ],
            [
             0.1111111111111111,
             "#46039f"
            ],
            [
             0.2222222222222222,
             "#7201a8"
            ],
            [
             0.3333333333333333,
             "#9c179e"
            ],
            [
             0.4444444444444444,
             "#bd3786"
            ],
            [
             0.5555555555555556,
             "#d8576b"
            ],
            [
             0.6666666666666666,
             "#ed7953"
            ],
            [
             0.7777777777777778,
             "#fb9f3a"
            ],
            [
             0.8888888888888888,
             "#fdca26"
            ],
            [
             1,
             "#f0f921"
            ]
           ]
          },
          "colorway": [
           "#636efa",
           "#EF553B",
           "#00cc96",
           "#ab63fa",
           "#FFA15A",
           "#19d3f3",
           "#FF6692",
           "#B6E880",
           "#FF97FF",
           "#FECB52"
          ],
          "font": {
           "color": "#2a3f5f"
          },
          "geo": {
           "bgcolor": "white",
           "lakecolor": "white",
           "landcolor": "#E5ECF6",
           "showlakes": true,
           "showland": true,
           "subunitcolor": "white"
          },
          "hoverlabel": {
           "align": "left"
          },
          "hovermode": "closest",
          "mapbox": {
           "style": "light"
          },
          "paper_bgcolor": "white",
          "plot_bgcolor": "#E5ECF6",
          "polar": {
           "angularaxis": {
            "gridcolor": "white",
            "linecolor": "white",
            "ticks": ""
           },
           "bgcolor": "#E5ECF6",
           "radialaxis": {
            "gridcolor": "white",
            "linecolor": "white",
            "ticks": ""
           }
          },
          "scene": {
           "xaxis": {
            "backgroundcolor": "#E5ECF6",
            "gridcolor": "white",
            "gridwidth": 2,
            "linecolor": "white",
            "showbackground": true,
            "ticks": "",
            "zerolinecolor": "white"
           },
           "yaxis": {
            "backgroundcolor": "#E5ECF6",
            "gridcolor": "white",
            "gridwidth": 2,
            "linecolor": "white",
            "showbackground": true,
            "ticks": "",
            "zerolinecolor": "white"
           },
           "zaxis": {
            "backgroundcolor": "#E5ECF6",
            "gridcolor": "white",
            "gridwidth": 2,
            "linecolor": "white",
            "showbackground": true,
            "ticks": "",
            "zerolinecolor": "white"
           }
          },
          "shapedefaults": {
           "line": {
            "color": "#2a3f5f"
           }
          },
          "ternary": {
           "aaxis": {
            "gridcolor": "white",
            "linecolor": "white",
            "ticks": ""
           },
           "baxis": {
            "gridcolor": "white",
            "linecolor": "white",
            "ticks": ""
           },
           "bgcolor": "#E5ECF6",
           "caxis": {
            "gridcolor": "white",
            "linecolor": "white",
            "ticks": ""
           }
          },
          "title": {
           "x": 0.05
          },
          "xaxis": {
           "automargin": true,
           "gridcolor": "white",
           "linecolor": "white",
           "ticks": "",
           "title": {
            "standoff": 15
           },
           "zerolinecolor": "white",
           "zerolinewidth": 2
          },
          "yaxis": {
           "automargin": true,
           "gridcolor": "white",
           "linecolor": "white",
           "ticks": "",
           "title": {
            "standoff": 15
           },
           "zerolinecolor": "white",
           "zerolinewidth": 2
          }
         }
        },
        "title": {
         "text": "material mass (bulk vs not bulk)"
        },
        "width": 500
       }
      },
      "image/png": "[encoded data removed]",
      "text/html": [
       "<div>                            <div id=\"5d57848e-93bc-4f19-a8a9-67b3314db679\" class=\"plotly-graph-div\" style=\"height:500px; width:500px;\"></div>            <script type=\"text/javascript\">                require([\"plotly\"], function(Plotly) {                    window.PLOTLYENV=window.PLOTLYENV || {};                                    if (document.getElementById(\"5d57848e-93bc-4f19-a8a9-67b3314db679\")) {                    Plotly.newPlot(                        \"5d57848e-93bc-4f19-a8a9-67b3314db679\",                        [{\"domain\":{\"x\":[0.0,1.0],\"y\":[0.0,1.0]},\"hovertemplate\":\"bulk=%{label}<br>tons=%{value}<extra></extra>\",\"labels\":[\"bulk\",\"bulk\",\"not bulk\",\"bulk\",\"bulk\",\"not bulk\",\"not bulk\",\"not bulk\",\"bulk\",\"not bulk\",\"not bulk\",\"bulk\",\"not bulk\",\"not bulk\",\"not bulk\",\"not bulk\",\"bulk\",\"bulk\",\"not bulk\",\"bulk\",\"bulk\",\"not bulk\",\"not bulk\",\"not bulk\",\"bulk\",\"bulk\",\"not bulk\",\"not bulk\",\"not bulk\",\"not bulk\",\"not bulk\",\"not bulk\",\"not bulk\",\"bulk\",\"bulk\",\"not bulk\",\"bulk\",\"bulk\",\"not bulk\",\"not bulk\",\"not bulk\",\"bulk\",\"bulk\",\"not bulk\",\"not bulk\",\"not bulk\",\"not bulk\",\"not bulk\",\"not bulk\"],\"legendgroup\":\"\",\"name\":\"\",\"showlegend\":true,\"values\":[2652.0,200.0,221.0,547.1999999999999,7816.0,199.2825,321.0,322.0,723.8000000000001,216.0,2100.0,6.2,2200.0,26.1,13.3,60.0,9792.0,250.0,816.0,21648.0,11066.0,597.8475,194.3,1922.0,1051.6,928.4,522.0,3539.8,2760.0,69.0,8.8,26.0,90.7,26580.0,300.0,2215.0,9360.0,38020.0,1328.55,361.7,538.0,253.00000000000003,3128.4,1594.0,8922.0,5975.0,113.45,19.0,328.0],\"type\":\"pie\"}],                        {\"template\":{\"data\":{\"histogram2dcontour\":[{\"type\":\"histogram2dcontour\",\"colorbar\":{\"outlinewidth\":0,\"ticks\":\"\"},\"colorscale\":[[0.0,\"#0d0887\"],[0.1111111111111111,\"#46039f\"],[0.2222222222222222,\"#7201a8\"],[0.3333333333333333,\"#9c179e\"],[0.4444444444444444,\"#bd3786\"],[0.5555555555555556,\"#d8576b\"],[0.6666666666666666,\"#ed7953\"],[0.7777777777777778,\"#fb9f3a\"],[0.8888888888888888,\"#fdca26\"],[1.0,\"#f0f921\"]]}],\"choropleth\":[{\"type\":\"choropleth\",\"colorbar\":{\"outlinewidth\":0,\"ticks\":\"\"}}],\"histogram2d\":[{\"type\":\"histogram2d\",\"colorbar\":{\"outlinewidth\":0,\"ticks\":\"\"},\"colorscale\":[[0.0,\"#0d0887\"],[0.1111111111111111,\"#46039f\"],[0.2222222222222222,\"#7201a8\"],[0.3333333333333333,\"#9c179e\"],[0.4444444444444444,\"#bd3786\"],[0.5555555555555556,\"#d8576b\"],[0.6666666666666666,\"#ed7953\"],[0.7777777777777778,\"#fb9f3a\"],[0.8888888888888888,\"#fdca26\"],[1.0,\"#f0f921\"]]}],\"heatmap\":[{\"type\":\"heatmap\",\"colorbar\":{\"outlinewidth\":0,\"ticks\":\"\"},\"colorscale\":[[0.0,\"#0d0887\"],[0.1111111111111111,\"#46039f\"],[0.2222222222222222,\"#7201a8\"],[0.3333333333333333,\"#9c179e\"],[0.4444444444444444,\"#bd3786\"],[0.5555555555555556,\"#d8576b\"],[0.6666666666666666,\"#ed7953\"],[0.7777777777777778,\"#fb9f3a\"],[0.8888888888888888,\"#fdca26\"],[1.0,\"#f0f921\"]]}],\"heatmapgl\":[{\"type\":\"heatmapgl\",\"colorbar\":{\"outlinewidth\":0,\"ticks\":\"\"},\"colorscale\":[[0.0,\"#0d0887\"],[0.1111111111111111,\"#46039f\"],[0.2222222222222222,\"#7201a8\"],[0.3333333333333333,\"#9c179e\"],[0.4444444444444444,\"#bd3786\"],[0.5555555555555556,\"#d8576b\"],[0.6666666666666666,\"#ed7953\"],[0.7777777777777778,\"#fb9f3a\"],[0.8888888888888888,\"#fdca26\"],[1.0,\"#f0f921\"]]}],\"contourcarpet\":[{\"type\":\"contourcarpet\",\"colorbar\":{\"outlinewidth\":0,\"ticks\":\"\"}}],\"contour\":[{\"type\":\"contour\",\"colorbar\":{\"outlinewidth\":0,\"ticks\":\"\"},\"colorscale\":[[0.0,\"#0d0887\"],[0.1111111111111111,\"#46039f\"],[0.2222222222222222,\"#7201a8\"],[0.3333333333333333,\"#9c179e\"],[0.4444444444444444,\"#bd3786\"],[0.5555555555555556,\"#d8576b\"],[0.6666666666666666,\"#ed7953\"],[0.7777777777777778,\"#fb9f3a\"],[0.8888888888888888,\"#fdca26\"],[1.0,\"#f0f921\"]]}],\"surface\":[{\"type\":\"surface\",\"colorbar\":{\"outlinewidth\":0,\"ticks\":\"\"},\"colorscale\":[[0.0,\"#0d0887\"],[0.1111111111111111,\"#46039f\"],[0.2222222222222222,\"#7201a8\"],[0.3333333333333333,\"#9c179e\"],[0.4444444444444444,\"#bd3786\"],[0.5555555555555556,\"#d8576b\"],[0.6666666666666666,\"#ed7953\"],[0.7777777777777778,\"#fb9f3a\"],[0.8888888888888888,\"#fdca26\"],[1.0,\"#f0f921\"]]}],\"mesh3d\":[{\"type\":\"mesh3d\",\"colorbar\":{\"outlinewidth\":0,\"ticks\":\"\"}}],\"scatter\":[{\"fillpattern\":{\"fillmode\":\"overlay\",\"size\":10,\"solidity\":0.2},\"type\":\"scatter\"}],\"parcoords\":[{\"type\":\"parcoords\",\"line\":{\"colorbar\":{\"outlinewidth\":0,\"ticks\":\"\"}}}],\"scatterpolargl\":[{\"type\":\"scatterpolargl\",\"marker\":{\"colorbar\":{\"outlinewidth\":0,\"ticks\":\"\"}}}],\"bar\":[{\"error_x\":{\"color\":\"#2a3f5f\"},\"error_y\":{\"color\":\"#2a3f5f\"},\"marker\":{\"line\":{\"color\":\"#E5ECF6\",\"width\":0.5},\"pattern\":{\"fillmode\":\"overlay\",\"size\":10,\"solidity\":0.2}},\"type\":\"bar\"}],\"scattergeo\":[{\"type\":\"scattergeo\",\"marker\":{\"colorbar\":{\"outlinewidth\":0,\"ticks\":\"\"}}}],\"scatterpolar\":[{\"type\":\"scatterpolar\",\"marker\":{\"colorbar\":{\"outlinewidth\":0,\"ticks\":\"\"}}}],\"histogram\":[{\"marker\":{\"pattern\":{\"fillmode\":\"overlay\",\"size\":10,\"solidity\":0.2}},\"type\":\"histogram\"}],\"scattergl\":[{\"type\":\"scattergl\",\"marker\":{\"colorbar\":{\"outlinewidth\":0,\"ticks\":\"\"}}}],\"scatter3d\":[{\"type\":\"scatter3d\",\"line\":{\"colorbar\":{\"outlinewidth\":0,\"ticks\":\"\"}},\"marker\":{\"colorbar\":{\"outlinewidth\":0,\"ticks\":\"\"}}}],\"scattermapbox\":[{\"type\":\"scattermapbox\",\"marker\":{\"colorbar\":{\"outlinewidth\":0,\"ticks\":\"\"}}}],\"scatterternary\":[{\"type\":\"scatterternary\",\"marker\":{\"colorbar\":{\"outlinewidth\":0,\"ticks\":\"\"}}}],\"scattercarpet\":[{\"type\":\"scattercarpet\",\"marker\":{\"colorbar\":{\"outlinewidth\":0,\"ticks\":\"\"}}}],\"carpet\":[{\"aaxis\":{\"endlinecolor\":\"#2a3f5f\",\"gridcolor\":\"white\",\"linecolor\":\"white\",\"minorgridcolor\":\"white\",\"startlinecolor\":\"#2a3f5f\"},\"baxis\":{\"endlinecolor\":\"#2a3f5f\",\"gridcolor\":\"white\",\"linecolor\":\"white\",\"minorgridcolor\":\"white\",\"startlinecolor\":\"#2a3f5f\"},\"type\":\"carpet\"}],\"table\":[{\"cells\":{\"fill\":{\"color\":\"#EBF0F8\"},\"line\":{\"color\":\"white\"}},\"header\":{\"fill\":{\"color\":\"#C8D4E3\"},\"line\":{\"color\":\"white\"}},\"type\":\"table\"}],\"barpolar\":[{\"marker\":{\"line\":{\"color\":\"#E5ECF6\",\"width\":0.5},\"pattern\":{\"fillmode\":\"overlay\",\"size\":10,\"solidity\":0.2}},\"type\":\"barpolar\"}],\"pie\":[{\"automargin\":true,\"type\":\"pie\"}]},\"layout\":{\"autotypenumbers\":\"strict\",\"colorway\":[\"#636efa\",\"#EF553B\",\"#00cc96\",\"#ab63fa\",\"#FFA15A\",\"#19d3f3\",\"#FF6692\",\"#B6E880\",\"#FF97FF\",\"#FECB52\"],\"font\":{\"color\":\"#2a3f5f\"},\"hovermode\":\"closest\",\"hoverlabel\":{\"align\":\"left\"},\"paper_bgcolor\":\"white\",\"plot_bgcolor\":\"#E5ECF6\",\"polar\":{\"bgcolor\":\"#E5ECF6\",\"angularaxis\":{\"gridcolor\":\"white\",\"linecolor\":\"white\",\"ticks\":\"\"},\"radialaxis\":{\"gridcolor\":\"white\",\"linecolor\":\"white\",\"ticks\":\"\"}},\"ternary\":{\"bgcolor\":\"#E5ECF6\",\"aaxis\":{\"gridcolor\":\"white\",\"linecolor\":\"white\",\"ticks\":\"\"},\"baxis\":{\"gridcolor\":\"white\",\"linecolor\":\"white\",\"ticks\":\"\"},\"caxis\":{\"gridcolor\":\"white\",\"linecolor\":\"white\",\"ticks\":\"\"}},\"coloraxis\":{\"colorbar\":{\"outlinewidth\":0,\"ticks\":\"\"}},\"colorscale\":{\"sequential\":[[0.0,\"#0d0887\"],[0.1111111111111111,\"#46039f\"],[0.2222222222222222,\"#7201a8\"],[0.3333333333333333,\"#9c179e\"],[0.4444444444444444,\"#bd3786\"],[0.5555555555555556,\"#d8576b\"],[0.6666666666666666,\"#ed7953\"],[0.7777777777777778,\"#fb9f3a\"],[0.8888888888888888,\"#fdca26\"],[1.0,\"#f0f921\"]],\"sequentialminus\":[[0.0,\"#0d0887\"],[0.1111111111111111,\"#46039f\"],[0.2222222222222222,\"#7201a8\"],[0.3333333333333333,\"#9c179e\"],[0.4444444444444444,\"#bd3786\"],[0.5555555555555556,\"#d8576b\"],[0.6666666666666666,\"#ed7953\"],[0.7777777777777778,\"#fb9f3a\"],[0.8888888888888888,\"#fdca26\"],[1.0,\"#f0f921\"]],\"diverging\":[[0,\"#8e0152\"],[0.1,\"#c51b7d\"],[0.2,\"#de77ae\"],[0.3,\"#f1b6da\"],[0.4,\"#fde0ef\"],[0.5,\"#f7f7f7\"],[0.6,\"#e6f5d0\"],[0.7,\"#b8e186\"],[0.8,\"#7fbc41\"],[0.9,\"#4d9221\"],[1,\"#276419\"]]},\"xaxis\":{\"gridcolor\":\"white\",\"linecolor\":\"white\",\"ticks\":\"\",\"title\":{\"standoff\":15},\"zerolinecolor\":\"white\",\"automargin\":true,\"zerolinewidth\":2},\"yaxis\":{\"gridcolor\":\"white\",\"linecolor\":\"white\",\"ticks\":\"\",\"title\":{\"standoff\":15},\"zerolinecolor\":\"white\",\"automargin\":true,\"zerolinewidth\":2},\"scene\":{\"xaxis\":{\"backgroundcolor\":\"#E5ECF6\",\"gridcolor\":\"white\",\"linecolor\":\"white\",\"showbackground\":true,\"ticks\":\"\",\"zerolinecolor\":\"white\",\"gridwidth\":2},\"yaxis\":{\"backgroundcolor\":\"#E5ECF6\",\"gridcolor\":\"white\",\"linecolor\":\"white\",\"showbackground\":true,\"ticks\":\"\",\"zerolinecolor\":\"white\",\"gridwidth\":2},\"zaxis\":{\"backgroundcolor\":\"#E5ECF6\",\"gridcolor\":\"white\",\"linecolor\":\"white\",\"showbackground\":true,\"ticks\":\"\",\"zerolinecolor\":\"white\",\"gridwidth\":2}},\"shapedefaults\":{\"line\":{\"color\":\"#2a3f5f\"}},\"annotationdefaults\":{\"arrowcolor\":\"#2a3f5f\",\"arrowhead\":0,\"arrowwidth\":1},\"geo\":{\"bgcolor\":\"white\",\"landcolor\":\"#E5ECF6\",\"subunitcolor\":\"white\",\"showland\":true,\"showlakes\":true,\"lakecolor\":\"white\"},\"title\":{\"x\":0.05},\"mapbox\":{\"style\":\"light\"}}},\"legend\":{\"tracegroupgap\":0},\"title\":{\"text\":\"material mass (bulk vs not bulk)\"},\"height\":500,\"width\":500},                        {\"responsive\": true}                    ).then(function(){\n",
       "                            \n",
       "var gd = document.getElementById('5d57848e-93bc-4f19-a8a9-67b3314db679');\n",
       "var x = new MutationObserver(function (mutations, observer) {{\n",
       "        var display = window.getComputedStyle(gd).display;\n",
       "        if (!display || display === 'none') {{\n",
       "            console.log([gd, 'removed!']);\n",
       "            Plotly.purge(gd);\n",
       "            observer.disconnect();\n",
       "        }}\n",
       "}});\n",
       "\n",
       "// Listen for the removal of the full notebook cells\n",
       "var notebookContainer = gd.closest('#notebook-container');\n",
       "if (notebookContainer) {{\n",
       "    x.observe(notebookContainer, {childList: true});\n",
       "}}\n",
       "\n",
       "// Listen for the clearing of the current output cell\n",
       "var outputEl = gd.closest('.output');\n",
       "if (outputEl) {{\n",
       "    x.observe(outputEl, {childList: true});\n",
       "}}\n",
       "\n",
       "                        })                };                });            </script>        </div>"
      ]
     },
     "metadata": {},
     "output_type": "display_data"
    }
   ],
   "source": [
    "df = model.build_info\n",
    "df = df[(df.biobased_type == 'none') & (df.material != 'modules')]\n",
    "df['bulk'] = df.material.map(lambda x: 'bulk' if x in ['cement_cover-floor', 'concrete_in-situ', 'concrete_prefab', 'gravel_sand'] else 'not bulk')\n",
    "df = df[~df.tons.isna()]\n",
    "df\n",
    "\n",
    "fig = px.pie(df, values='tons', names='bulk', title='material mass (bulk vs not bulk)', height=500, width=500)\n",
    "fig.show()"
   ]
  },
  {
   "cell_type": "code",
   "execution_count": 70,
   "id": "3b24e3d7-8eab-49af-99e0-be35db1ba564",
   "metadata": {
    "tags": []
   },
   "outputs": [
    {
     "data": {
      "text/html": [
       "<div>\n",
       "<style scoped>\n",
       "    .dataframe tbody tr th:only-of-type {\n",
       "        vertical-align: middle;\n",
       "    }\n",
       "\n",
       "    .dataframe tbody tr th {\n",
       "        vertical-align: top;\n",
       "    }\n",
       "\n",
       "    .dataframe thead th {\n",
       "        text-align: right;\n",
       "    }\n",
       "</style>\n",
       "<table border=\"1\" class=\"dataframe\">\n",
       "  <thead>\n",
       "    <tr style=\"text-align: right;\">\n",
       "      <th></th>\n",
       "      <th>material</th>\n",
       "      <th>unit</th>\n",
       "      <th>biobased_type</th>\n",
       "      <th>structural_type</th>\n",
       "      <th>buildingType</th>\n",
       "      <th>tons</th>\n",
       "      <th>collectFrom</th>\n",
       "    </tr>\n",
       "  </thead>\n",
       "  <tbody>\n",
       "    <tr>\n",
       "      <th>3</th>\n",
       "      <td>concrete_in-situ</td>\n",
       "      <td>tons</td>\n",
       "      <td>none</td>\n",
       "      <td>foundation</td>\n",
       "      <td>B</td>\n",
       "      <td>2652.0000</td>\n",
       "      <td>from suppliers</td>\n",
       "    </tr>\n",
       "    <tr>\n",
       "      <th>7</th>\n",
       "      <td>gravel_sand</td>\n",
       "      <td>tons</td>\n",
       "      <td>none</td>\n",
       "      <td>foundation</td>\n",
       "      <td>B</td>\n",
       "      <td>200.0000</td>\n",
       "      <td>from suppliers</td>\n",
       "    </tr>\n",
       "    <tr>\n",
       "      <th>12</th>\n",
       "      <td>steel</td>\n",
       "      <td>tons</td>\n",
       "      <td>none</td>\n",
       "      <td>foundation</td>\n",
       "      <td>B</td>\n",
       "      <td>221.0000</td>\n",
       "      <td>from demSites</td>\n",
       "    </tr>\n",
       "    <tr>\n",
       "      <th>17</th>\n",
       "      <td>concrete_in-situ</td>\n",
       "      <td>tons</td>\n",
       "      <td>none</td>\n",
       "      <td>structural</td>\n",
       "      <td>B</td>\n",
       "      <td>547.2000</td>\n",
       "      <td>from suppliers</td>\n",
       "    </tr>\n",
       "    <tr>\n",
       "      <th>18</th>\n",
       "      <td>concrete_prefab</td>\n",
       "      <td>tons</td>\n",
       "      <td>none</td>\n",
       "      <td>structural</td>\n",
       "      <td>B</td>\n",
       "      <td>7816.0000</td>\n",
       "      <td>from suppliers</td>\n",
       "    </tr>\n",
       "    <tr>\n",
       "      <th>26</th>\n",
       "      <td>steel</td>\n",
       "      <td>tons</td>\n",
       "      <td>none</td>\n",
       "      <td>structural</td>\n",
       "      <td>B</td>\n",
       "      <td>199.2825</td>\n",
       "      <td>from demSites</td>\n",
       "    </tr>\n",
       "    <tr>\n",
       "      <th>28</th>\n",
       "      <td>aluminium</td>\n",
       "      <td>tons</td>\n",
       "      <td>none</td>\n",
       "      <td>non-structural</td>\n",
       "      <td>B</td>\n",
       "      <td>321.0000</td>\n",
       "      <td>from demSites</td>\n",
       "    </tr>\n",
       "    <tr>\n",
       "      <th>29</th>\n",
       "      <td>brick</td>\n",
       "      <td>tons</td>\n",
       "      <td>none</td>\n",
       "      <td>non-structural</td>\n",
       "      <td>B</td>\n",
       "      <td>322.0000</td>\n",
       "      <td>from demSites</td>\n",
       "    </tr>\n",
       "    <tr>\n",
       "      <th>32</th>\n",
       "      <td>concrete_prefab</td>\n",
       "      <td>tons</td>\n",
       "      <td>none</td>\n",
       "      <td>non-structural</td>\n",
       "      <td>B</td>\n",
       "      <td>723.8000</td>\n",
       "      <td>from suppliers</td>\n",
       "    </tr>\n",
       "    <tr>\n",
       "      <th>33</th>\n",
       "      <td>furnishing_stone</td>\n",
       "      <td>tons</td>\n",
       "      <td>none</td>\n",
       "      <td>non-structural</td>\n",
       "      <td>B</td>\n",
       "      <td>216.0000</td>\n",
       "      <td>from demSites</td>\n",
       "    </tr>\n",
       "    <tr>\n",
       "      <th>34</th>\n",
       "      <td>glass</td>\n",
       "      <td>tons</td>\n",
       "      <td>none</td>\n",
       "      <td>non-structural</td>\n",
       "      <td>B</td>\n",
       "      <td>2100.0000</td>\n",
       "      <td>from demSites</td>\n",
       "    </tr>\n",
       "    <tr>\n",
       "      <th>35</th>\n",
       "      <td>gravel_sand</td>\n",
       "      <td>tons</td>\n",
       "      <td>none</td>\n",
       "      <td>non-structural</td>\n",
       "      <td>B</td>\n",
       "      <td>6.2000</td>\n",
       "      <td>from suppliers</td>\n",
       "    </tr>\n",
       "    <tr>\n",
       "      <th>36</th>\n",
       "      <td>gypsum</td>\n",
       "      <td>tons</td>\n",
       "      <td>none</td>\n",
       "      <td>non-structural</td>\n",
       "      <td>B</td>\n",
       "      <td>2200.0000</td>\n",
       "      <td>from demSites</td>\n",
       "    </tr>\n",
       "    <tr>\n",
       "      <th>37</th>\n",
       "      <td>isolation</td>\n",
       "      <td>tons</td>\n",
       "      <td>none</td>\n",
       "      <td>non-structural</td>\n",
       "      <td>B</td>\n",
       "      <td>26.1000</td>\n",
       "      <td>from demSites</td>\n",
       "    </tr>\n",
       "    <tr>\n",
       "      <th>39</th>\n",
       "      <td>bitumen</td>\n",
       "      <td>tons</td>\n",
       "      <td>none</td>\n",
       "      <td>non-structural</td>\n",
       "      <td>B</td>\n",
       "      <td>13.3000</td>\n",
       "      <td>from demSites</td>\n",
       "    </tr>\n",
       "    <tr>\n",
       "      <th>40</th>\n",
       "      <td>steel</td>\n",
       "      <td>tons</td>\n",
       "      <td>none</td>\n",
       "      <td>non-structural</td>\n",
       "      <td>B</td>\n",
       "      <td>60.0000</td>\n",
       "      <td>from demSites</td>\n",
       "    </tr>\n",
       "  </tbody>\n",
       "</table>\n",
       "</div>"
      ],
      "text/plain": [
       "            material  unit biobased_type structural_type buildingType  \\\n",
       "3   concrete_in-situ  tons          none      foundation            B   \n",
       "7        gravel_sand  tons          none      foundation            B   \n",
       "12             steel  tons          none      foundation            B   \n",
       "17  concrete_in-situ  tons          none      structural            B   \n",
       "18   concrete_prefab  tons          none      structural            B   \n",
       "26             steel  tons          none      structural            B   \n",
       "28         aluminium  tons          none  non-structural            B   \n",
       "29             brick  tons          none  non-structural            B   \n",
       "32   concrete_prefab  tons          none  non-structural            B   \n",
       "33  furnishing_stone  tons          none  non-structural            B   \n",
       "34             glass  tons          none  non-structural            B   \n",
       "35       gravel_sand  tons          none  non-structural            B   \n",
       "36            gypsum  tons          none  non-structural            B   \n",
       "37         isolation  tons          none  non-structural            B   \n",
       "39           bitumen  tons          none  non-structural            B   \n",
       "40             steel  tons          none  non-structural            B   \n",
       "\n",
       "         tons     collectFrom  \n",
       "3   2652.0000  from suppliers  \n",
       "7    200.0000  from suppliers  \n",
       "12   221.0000   from demSites  \n",
       "17   547.2000  from suppliers  \n",
       "18  7816.0000  from suppliers  \n",
       "26   199.2825   from demSites  \n",
       "28   321.0000   from demSites  \n",
       "29   322.0000   from demSites  \n",
       "32   723.8000  from suppliers  \n",
       "33   216.0000   from demSites  \n",
       "34  2100.0000   from demSites  \n",
       "35     6.2000  from suppliers  \n",
       "36  2200.0000   from demSites  \n",
       "37    26.1000   from demSites  \n",
       "39    13.3000   from demSites  \n",
       "40    60.0000   from demSites  "
      ]
     },
     "execution_count": 70,
     "metadata": {},
     "output_type": "execute_result"
    }
   ],
   "source": [
    "df = model.build_info\n",
    "df = df[(df.biobased_type == 'none') & (df.buildingType == 'B') & (df.material != 'modules')]\n",
    "def decide_collectFrom(row):\n",
    "    circular_strucTypes = ['structural', 'non-structural', 'foundation']\n",
    "    row['collectFrom'] = 'from demSites' if row.structural_type in circular_strucTypes else 'from suppliers'\n",
    "    if row.material in ['cement_cover-floor', 'concrete_in-situ', 'concrete_prefab', 'gravel_sand']: \n",
    "        row['collectFrom'] = 'from suppliers' \n",
    "    return row \n",
    "df = df.apply(lambda row: decide_collectFrom(row), axis=1)\n",
    "df = df[~df.tons.isna()]\n",
    "df"
   ]
  },
  {
   "cell_type": "code",
   "execution_count": 77,
   "id": "6c7f0dad-d79c-44ca-98bc-376a099751fa",
   "metadata": {
    "tags": []
   },
   "outputs": [
    {
     "data": {
      "application/vnd.plotly.v1+json": {
       "config": {
        "plotlyServerURL": "https://plot.ly"
       },
       "data": [
        {
         "domain": {
          "x": [
           0,
           1
          ],
          "y": [
           0,
           1
          ]
         },
         "hovertemplate": "collectFrom=%{label}<br>tons=%{value}<extra></extra>",
         "labels": [
          "from suppliers to site",
          "from suppliers to site",
          "from demSites to hub",
          "from suppliers to site",
          "from suppliers to site",
          "from demSites to hub",
          "from demSites to hub",
          "from demSites to hub",
          "from suppliers to site",
          "from demSites to hub",
          "from demSites to hub",
          "from suppliers to site",
          "from demSites to hub",
          "from demSites to hub",
          "from demSites to hub",
          "from demSites to hub"
         ],
         "legendgroup": "",
         "name": "",
         "showlegend": true,
         "type": "pie",
         "values": [
          2652,
          200,
          221,
          547.1999999999999,
          7816,
          199.2825,
          321,
          322,
          723.8000000000001,
          216,
          2100,
          6.2,
          2200,
          26.1,
          13.3,
          60
         ]
        }
       ],
       "layout": {
        "height": 500,
        "legend": {
         "tracegroupgap": 0
        },
        "template": {
         "data": {
          "bar": [
           {
            "error_x": {
             "color": "#2a3f5f"
            },
            "error_y": {
             "color": "#2a3f5f"
            },
            "marker": {
             "line": {
              "color": "#E5ECF6",
              "width": 0.5
             },
             "pattern": {
              "fillmode": "overlay",
              "size": 10,
              "solidity": 0.2
             }
            },
            "type": "bar"
           }
          ],
          "barpolar": [
           {
            "marker": {
             "line": {
              "color": "#E5ECF6",
              "width": 0.5
             },
             "pattern": {
              "fillmode": "overlay",
              "size": 10,
              "solidity": 0.2
             }
            },
            "type": "barpolar"
           }
          ],
          "carpet": [
           {
            "aaxis": {
             "endlinecolor": "#2a3f5f",
             "gridcolor": "white",
             "linecolor": "white",
             "minorgridcolor": "white",
             "startlinecolor": "#2a3f5f"
            },
            "baxis": {
             "endlinecolor": "#2a3f5f",
             "gridcolor": "white",
             "linecolor": "white",
             "minorgridcolor": "white",
             "startlinecolor": "#2a3f5f"
            },
            "type": "carpet"
           }
          ],
          "choropleth": [
           {
            "colorbar": {
             "outlinewidth": 0,
             "ticks": ""
            },
            "type": "choropleth"
           }
          ],
          "contour": [
           {
            "colorbar": {
             "outlinewidth": 0,
             "ticks": ""
            },
            "colorscale": [
             [
              0,
              "#0d0887"
             ],
             [
              0.1111111111111111,
              "#46039f"
             ],
             [
              0.2222222222222222,
              "#7201a8"
             ],
             [
              0.3333333333333333,
              "#9c179e"
             ],
             [
              0.4444444444444444,
              "#bd3786"
             ],
             [
              0.5555555555555556,
              "#d8576b"
             ],
             [
              0.6666666666666666,
              "#ed7953"
             ],
             [
              0.7777777777777778,
              "#fb9f3a"
             ],
             [
              0.8888888888888888,
              "#fdca26"
             ],
             [
              1,
              "#f0f921"
             ]
            ],
            "type": "contour"
           }
          ],
          "contourcarpet": [
           {
            "colorbar": {
             "outlinewidth": 0,
             "ticks": ""
            },
            "type": "contourcarpet"
           }
          ],
          "heatmap": [
           {
            "colorbar": {
             "outlinewidth": 0,
             "ticks": ""
            },
            "colorscale": [
             [
              0,
              "#0d0887"
             ],
             [
              0.1111111111111111,
              "#46039f"
             ],
             [
              0.2222222222222222,
              "#7201a8"
             ],
             [
              0.3333333333333333,
              "#9c179e"
             ],
             [
              0.4444444444444444,
              "#bd3786"
             ],
             [
              0.5555555555555556,
              "#d8576b"
             ],
             [
              0.6666666666666666,
              "#ed7953"
             ],
             [
              0.7777777777777778,
              "#fb9f3a"
             ],
             [
              0.8888888888888888,
              "#fdca26"
             ],
             [
              1,
              "#f0f921"
             ]
            ],
            "type": "heatmap"
           }
          ],
          "heatmapgl": [
           {
            "colorbar": {
             "outlinewidth": 0,
             "ticks": ""
            },
            "colorscale": [
             [
              0,
              "#0d0887"
             ],
             [
              0.1111111111111111,
              "#46039f"
             ],
             [
              0.2222222222222222,
              "#7201a8"
             ],
             [
              0.3333333333333333,
              "#9c179e"
             ],
             [
              0.4444444444444444,
              "#bd3786"
             ],
             [
              0.5555555555555556,
              "#d8576b"
             ],
             [
              0.6666666666666666,
              "#ed7953"
             ],
             [
              0.7777777777777778,
              "#fb9f3a"
             ],
             [
              0.8888888888888888,
              "#fdca26"
             ],
             [
              1,
              "#f0f921"
             ]
            ],
            "type": "heatmapgl"
           }
          ],
          "histogram": [
           {
            "marker": {
             "pattern": {
              "fillmode": "overlay",
              "size": 10,
              "solidity": 0.2
             }
            },
            "type": "histogram"
           }
          ],
          "histogram2d": [
           {
            "colorbar": {
             "outlinewidth": 0,
             "ticks": ""
            },
            "colorscale": [
             [
              0,
              "#0d0887"
             ],
             [
              0.1111111111111111,
              "#46039f"
             ],
             [
              0.2222222222222222,
              "#7201a8"
             ],
             [
              0.3333333333333333,
              "#9c179e"
             ],
             [
              0.4444444444444444,
              "#bd3786"
             ],
             [
              0.5555555555555556,
              "#d8576b"
             ],
             [
              0.6666666666666666,
              "#ed7953"
             ],
             [
              0.7777777777777778,
              "#fb9f3a"
             ],
             [
              0.8888888888888888,
              "#fdca26"
             ],
             [
              1,
              "#f0f921"
             ]
            ],
            "type": "histogram2d"
           }
          ],
          "histogram2dcontour": [
           {
            "colorbar": {
             "outlinewidth": 0,
             "ticks": ""
            },
            "colorscale": [
             [
              0,
              "#0d0887"
             ],
             [
              0.1111111111111111,
              "#46039f"
             ],
             [
              0.2222222222222222,
              "#7201a8"
             ],
             [
              0.3333333333333333,
              "#9c179e"
             ],
             [
              0.4444444444444444,
              "#bd3786"
             ],
             [
              0.5555555555555556,
              "#d8576b"
             ],
             [
              0.6666666666666666,
              "#ed7953"
             ],
             [
              0.7777777777777778,
              "#fb9f3a"
             ],
             [
              0.8888888888888888,
              "#fdca26"
             ],
             [
              1,
              "#f0f921"
             ]
            ],
            "type": "histogram2dcontour"
           }
          ],
          "mesh3d": [
           {
            "colorbar": {
             "outlinewidth": 0,
             "ticks": ""
            },
            "type": "mesh3d"
           }
          ],
          "parcoords": [
           {
            "line": {
             "colorbar": {
              "outlinewidth": 0,
              "ticks": ""
             }
            },
            "type": "parcoords"
           }
          ],
          "pie": [
           {
            "automargin": true,
            "type": "pie"
           }
          ],
          "scatter": [
           {
            "fillpattern": {
             "fillmode": "overlay",
             "size": 10,
             "solidity": 0.2
            },
            "type": "scatter"
           }
          ],
          "scatter3d": [
           {
            "line": {
             "colorbar": {
              "outlinewidth": 0,
              "ticks": ""
             }
            },
            "marker": {
             "colorbar": {
              "outlinewidth": 0,
              "ticks": ""
             }
            },
            "type": "scatter3d"
           }
          ],
          "scattercarpet": [
           {
            "marker": {
             "colorbar": {
              "outlinewidth": 0,
              "ticks": ""
             }
            },
            "type": "scattercarpet"
           }
          ],
          "scattergeo": [
           {
            "marker": {
             "colorbar": {
              "outlinewidth": 0,
              "ticks": ""
             }
            },
            "type": "scattergeo"
           }
          ],
          "scattergl": [
           {
            "marker": {
             "colorbar": {
              "outlinewidth": 0,
              "ticks": ""
             }
            },
            "type": "scattergl"
           }
          ],
          "scattermapbox": [
           {
            "marker": {
             "colorbar": {
              "outlinewidth": 0,
              "ticks": ""
             }
            },
            "type": "scattermapbox"
           }
          ],
          "scatterpolar": [
           {
            "marker": {
             "colorbar": {
              "outlinewidth": 0,
              "ticks": ""
             }
            },
            "type": "scatterpolar"
           }
          ],
          "scatterpolargl": [
           {
            "marker": {
             "colorbar": {
              "outlinewidth": 0,
              "ticks": ""
             }
            },
            "type": "scatterpolargl"
           }
          ],
          "scatterternary": [
           {
            "marker": {
             "colorbar": {
              "outlinewidth": 0,
              "ticks": ""
             }
            },
            "type": "scatterternary"
           }
          ],
          "surface": [
           {
            "colorbar": {
             "outlinewidth": 0,
             "ticks": ""
            },
            "colorscale": [
             [
              0,
              "#0d0887"
             ],
             [
              0.1111111111111111,
              "#46039f"
             ],
             [
              0.2222222222222222,
              "#7201a8"
             ],
             [
              0.3333333333333333,
              "#9c179e"
             ],
             [
              0.4444444444444444,
              "#bd3786"
             ],
             [
              0.5555555555555556,
              "#d8576b"
             ],
             [
              0.6666666666666666,
              "#ed7953"
             ],
             [
              0.7777777777777778,
              "#fb9f3a"
             ],
             [
              0.8888888888888888,
              "#fdca26"
             ],
             [
              1,
              "#f0f921"
             ]
            ],
            "type": "surface"
           }
          ],
          "table": [
           {
            "cells": {
             "fill": {
              "color": "#EBF0F8"
             },
             "line": {
              "color": "white"
             }
            },
            "header": {
             "fill": {
              "color": "#C8D4E3"
             },
             "line": {
              "color": "white"
             }
            },
            "type": "table"
           }
          ]
         },
         "layout": {
          "annotationdefaults": {
           "arrowcolor": "#2a3f5f",
           "arrowhead": 0,
           "arrowwidth": 1
          },
          "autotypenumbers": "strict",
          "coloraxis": {
           "colorbar": {
            "outlinewidth": 0,
            "ticks": ""
           }
          },
          "colorscale": {
           "diverging": [
            [
             0,
             "#8e0152"
            ],
            [
             0.1,
             "#c51b7d"
            ],
            [
             0.2,
             "#de77ae"
            ],
            [
             0.3,
             "#f1b6da"
            ],
            [
             0.4,
             "#fde0ef"
            ],
            [
             0.5,
             "#f7f7f7"
            ],
            [
             0.6,
             "#e6f5d0"
            ],
            [
             0.7,
             "#b8e186"
            ],
            [
             0.8,
             "#7fbc41"
            ],
            [
             0.9,
             "#4d9221"
            ],
            [
             1,
             "#276419"
            ]
           ],
           "sequential": [
            [
             0,
             "#0d0887"
            ],
            [
             0.1111111111111111,
             "#46039f"
            ],
            [
             0.2222222222222222,
             "#7201a8"
            ],
            [
             0.3333333333333333,
             "#9c179e"
            ],
            [
             0.4444444444444444,
             "#bd3786"
            ],
            [
             0.5555555555555556,
             "#d8576b"
            ],
            [
             0.6666666666666666,
             "#ed7953"
            ],
            [
             0.7777777777777778,
             "#fb9f3a"
            ],
            [
             0.8888888888888888,
             "#fdca26"
            ],
            [
             1,
             "#f0f921"
            ]
           ],
           "sequentialminus": [
            [
             0,
             "#0d0887"
            ],
            [
             0.1111111111111111,
             "#46039f"
            ],
            [
             0.2222222222222222,
             "#7201a8"
            ],
            [
             0.3333333333333333,
             "#9c179e"
            ],
            [
             0.4444444444444444,
             "#bd3786"
            ],
            [
             0.5555555555555556,
             "#d8576b"
            ],
            [
             0.6666666666666666,
             "#ed7953"
            ],
            [
             0.7777777777777778,
             "#fb9f3a"
            ],
            [
             0.8888888888888888,
             "#fdca26"
            ],
            [
             1,
             "#f0f921"
            ]
           ]
          },
          "colorway": [
           "#636efa",
           "#EF553B",
           "#00cc96",
           "#ab63fa",
           "#FFA15A",
           "#19d3f3",
           "#FF6692",
           "#B6E880",
           "#FF97FF",
           "#FECB52"
          ],
          "font": {
           "color": "#2a3f5f"
          },
          "geo": {
           "bgcolor": "white",
           "lakecolor": "white",
           "landcolor": "#E5ECF6",
           "showlakes": true,
           "showland": true,
           "subunitcolor": "white"
          },
          "hoverlabel": {
           "align": "left"
          },
          "hovermode": "closest",
          "mapbox": {
           "style": "light"
          },
          "paper_bgcolor": "white",
          "plot_bgcolor": "#E5ECF6",
          "polar": {
           "angularaxis": {
            "gridcolor": "white",
            "linecolor": "white",
            "ticks": ""
           },
           "bgcolor": "#E5ECF6",
           "radialaxis": {
            "gridcolor": "white",
            "linecolor": "white",
            "ticks": ""
           }
          },
          "scene": {
           "xaxis": {
            "backgroundcolor": "#E5ECF6",
            "gridcolor": "white",
            "gridwidth": 2,
            "linecolor": "white",
            "showbackground": true,
            "ticks": "",
            "zerolinecolor": "white"
           },
           "yaxis": {
            "backgroundcolor": "#E5ECF6",
            "gridcolor": "white",
            "gridwidth": 2,
            "linecolor": "white",
            "showbackground": true,
            "ticks": "",
            "zerolinecolor": "white"
           },
           "zaxis": {
            "backgroundcolor": "#E5ECF6",
            "gridcolor": "white",
            "gridwidth": 2,
            "linecolor": "white",
            "showbackground": true,
            "ticks": "",
            "zerolinecolor": "white"
           }
          },
          "shapedefaults": {
           "line": {
            "color": "#2a3f5f"
           }
          },
          "ternary": {
           "aaxis": {
            "gridcolor": "white",
            "linecolor": "white",
            "ticks": ""
           },
           "baxis": {
            "gridcolor": "white",
            "linecolor": "white",
            "ticks": ""
           },
           "bgcolor": "#E5ECF6",
           "caxis": {
            "gridcolor": "white",
            "linecolor": "white",
            "ticks": ""
           }
          },
          "title": {
           "x": 0.05
          },
          "xaxis": {
           "automargin": true,
           "gridcolor": "white",
           "linecolor": "white",
           "ticks": "",
           "title": {
            "standoff": 15
           },
           "zerolinecolor": "white",
           "zerolinewidth": 2
          },
          "yaxis": {
           "automargin": true,
           "gridcolor": "white",
           "linecolor": "white",
           "ticks": "",
           "title": {
            "standoff": 15
           },
           "zerolinecolor": "white",
           "zerolinewidth": 2
          }
         }
        },
        "title": {
         "text": "materials collected from hubs (tons) for B"
        },
        "width": 500
       }
      },
      "image/png": "[encoded data removed]",
      "text/html": [
       "<div>                            <div id=\"e4e60bf5-b36f-4381-a9c5-9fa6764f4e47\" class=\"plotly-graph-div\" style=\"height:500px; width:500px;\"></div>            <script type=\"text/javascript\">                require([\"plotly\"], function(Plotly) {                    window.PLOTLYENV=window.PLOTLYENV || {};                                    if (document.getElementById(\"e4e60bf5-b36f-4381-a9c5-9fa6764f4e47\")) {                    Plotly.newPlot(                        \"e4e60bf5-b36f-4381-a9c5-9fa6764f4e47\",                        [{\"domain\":{\"x\":[0.0,1.0],\"y\":[0.0,1.0]},\"hovertemplate\":\"collectFrom=%{label}<br>tons=%{value}<extra></extra>\",\"labels\":[\"from suppliers to site\",\"from suppliers to site\",\"from demSites to hub\",\"from suppliers to site\",\"from suppliers to site\",\"from demSites to hub\",\"from demSites to hub\",\"from demSites to hub\",\"from suppliers to site\",\"from demSites to hub\",\"from demSites to hub\",\"from suppliers to site\",\"from demSites to hub\",\"from demSites to hub\",\"from demSites to hub\",\"from demSites to hub\"],\"legendgroup\":\"\",\"name\":\"\",\"showlegend\":true,\"values\":[2652.0,200.0,221.0,547.1999999999999,7816.0,199.2825,321.0,322.0,723.8000000000001,216.0,2100.0,6.2,2200.0,26.1,13.3,60.0],\"type\":\"pie\"}],                        {\"template\":{\"data\":{\"histogram2dcontour\":[{\"type\":\"histogram2dcontour\",\"colorbar\":{\"outlinewidth\":0,\"ticks\":\"\"},\"colorscale\":[[0.0,\"#0d0887\"],[0.1111111111111111,\"#46039f\"],[0.2222222222222222,\"#7201a8\"],[0.3333333333333333,\"#9c179e\"],[0.4444444444444444,\"#bd3786\"],[0.5555555555555556,\"#d8576b\"],[0.6666666666666666,\"#ed7953\"],[0.7777777777777778,\"#fb9f3a\"],[0.8888888888888888,\"#fdca26\"],[1.0,\"#f0f921\"]]}],\"choropleth\":[{\"type\":\"choropleth\",\"colorbar\":{\"outlinewidth\":0,\"ticks\":\"\"}}],\"histogram2d\":[{\"type\":\"histogram2d\",\"colorbar\":{\"outlinewidth\":0,\"ticks\":\"\"},\"colorscale\":[[0.0,\"#0d0887\"],[0.1111111111111111,\"#46039f\"],[0.2222222222222222,\"#7201a8\"],[0.3333333333333333,\"#9c179e\"],[0.4444444444444444,\"#bd3786\"],[0.5555555555555556,\"#d8576b\"],[0.6666666666666666,\"#ed7953\"],[0.7777777777777778,\"#fb9f3a\"],[0.8888888888888888,\"#fdca26\"],[1.0,\"#f0f921\"]]}],\"heatmap\":[{\"type\":\"heatmap\",\"colorbar\":{\"outlinewidth\":0,\"ticks\":\"\"},\"colorscale\":[[0.0,\"#0d0887\"],[0.1111111111111111,\"#46039f\"],[0.2222222222222222,\"#7201a8\"],[0.3333333333333333,\"#9c179e\"],[0.4444444444444444,\"#bd3786\"],[0.5555555555555556,\"#d8576b\"],[0.6666666666666666,\"#ed7953\"],[0.7777777777777778,\"#fb9f3a\"],[0.8888888888888888,\"#fdca26\"],[1.0,\"#f0f921\"]]}],\"heatmapgl\":[{\"type\":\"heatmapgl\",\"colorbar\":{\"outlinewidth\":0,\"ticks\":\"\"},\"colorscale\":[[0.0,\"#0d0887\"],[0.1111111111111111,\"#46039f\"],[0.2222222222222222,\"#7201a8\"],[0.3333333333333333,\"#9c179e\"],[0.4444444444444444,\"#bd3786\"],[0.5555555555555556,\"#d8576b\"],[0.6666666666666666,\"#ed7953\"],[0.7777777777777778,\"#fb9f3a\"],[0.8888888888888888,\"#fdca26\"],[1.0,\"#f0f921\"]]}],\"contourcarpet\":[{\"type\":\"contourcarpet\",\"colorbar\":{\"outlinewidth\":0,\"ticks\":\"\"}}],\"contour\":[{\"type\":\"contour\",\"colorbar\":{\"outlinewidth\":0,\"ticks\":\"\"},\"colorscale\":[[0.0,\"#0d0887\"],[0.1111111111111111,\"#46039f\"],[0.2222222222222222,\"#7201a8\"],[0.3333333333333333,\"#9c179e\"],[0.4444444444444444,\"#bd3786\"],[0.5555555555555556,\"#d8576b\"],[0.6666666666666666,\"#ed7953\"],[0.7777777777777778,\"#fb9f3a\"],[0.8888888888888888,\"#fdca26\"],[1.0,\"#f0f921\"]]}],\"surface\":[{\"type\":\"surface\",\"colorbar\":{\"outlinewidth\":0,\"ticks\":\"\"},\"colorscale\":[[0.0,\"#0d0887\"],[0.1111111111111111,\"#46039f\"],[0.2222222222222222,\"#7201a8\"],[0.3333333333333333,\"#9c179e\"],[0.4444444444444444,\"#bd3786\"],[0.5555555555555556,\"#d8576b\"],[0.6666666666666666,\"#ed7953\"],[0.7777777777777778,\"#fb9f3a\"],[0.8888888888888888,\"#fdca26\"],[1.0,\"#f0f921\"]]}],\"mesh3d\":[{\"type\":\"mesh3d\",\"colorbar\":{\"outlinewidth\":0,\"ticks\":\"\"}}],\"scatter\":[{\"fillpattern\":{\"fillmode\":\"overlay\",\"size\":10,\"solidity\":0.2},\"type\":\"scatter\"}],\"parcoords\":[{\"type\":\"parcoords\",\"line\":{\"colorbar\":{\"outlinewidth\":0,\"ticks\":\"\"}}}],\"scatterpolargl\":[{\"type\":\"scatterpolargl\",\"marker\":{\"colorbar\":{\"outlinewidth\":0,\"ticks\":\"\"}}}],\"bar\":[{\"error_x\":{\"color\":\"#2a3f5f\"},\"error_y\":{\"color\":\"#2a3f5f\"},\"marker\":{\"line\":{\"color\":\"#E5ECF6\",\"width\":0.5},\"pattern\":{\"fillmode\":\"overlay\",\"size\":10,\"solidity\":0.2}},\"type\":\"bar\"}],\"scattergeo\":[{\"type\":\"scattergeo\",\"marker\":{\"colorbar\":{\"outlinewidth\":0,\"ticks\":\"\"}}}],\"scatterpolar\":[{\"type\":\"scatterpolar\",\"marker\":{\"colorbar\":{\"outlinewidth\":0,\"ticks\":\"\"}}}],\"histogram\":[{\"marker\":{\"pattern\":{\"fillmode\":\"overlay\",\"size\":10,\"solidity\":0.2}},\"type\":\"histogram\"}],\"scattergl\":[{\"type\":\"scattergl\",\"marker\":{\"colorbar\":{\"outlinewidth\":0,\"ticks\":\"\"}}}],\"scatter3d\":[{\"type\":\"scatter3d\",\"line\":{\"colorbar\":{\"outlinewidth\":0,\"ticks\":\"\"}},\"marker\":{\"colorbar\":{\"outlinewidth\":0,\"ticks\":\"\"}}}],\"scattermapbox\":[{\"type\":\"scattermapbox\",\"marker\":{\"colorbar\":{\"outlinewidth\":0,\"ticks\":\"\"}}}],\"scatterternary\":[{\"type\":\"scatterternary\",\"marker\":{\"colorbar\":{\"outlinewidth\":0,\"ticks\":\"\"}}}],\"scattercarpet\":[{\"type\":\"scattercarpet\",\"marker\":{\"colorbar\":{\"outlinewidth\":0,\"ticks\":\"\"}}}],\"carpet\":[{\"aaxis\":{\"endlinecolor\":\"#2a3f5f\",\"gridcolor\":\"white\",\"linecolor\":\"white\",\"minorgridcolor\":\"white\",\"startlinecolor\":\"#2a3f5f\"},\"baxis\":{\"endlinecolor\":\"#2a3f5f\",\"gridcolor\":\"white\",\"linecolor\":\"white\",\"minorgridcolor\":\"white\",\"startlinecolor\":\"#2a3f5f\"},\"type\":\"carpet\"}],\"table\":[{\"cells\":{\"fill\":{\"color\":\"#EBF0F8\"},\"line\":{\"color\":\"white\"}},\"header\":{\"fill\":{\"color\":\"#C8D4E3\"},\"line\":{\"color\":\"white\"}},\"type\":\"table\"}],\"barpolar\":[{\"marker\":{\"line\":{\"color\":\"#E5ECF6\",\"width\":0.5},\"pattern\":{\"fillmode\":\"overlay\",\"size\":10,\"solidity\":0.2}},\"type\":\"barpolar\"}],\"pie\":[{\"automargin\":true,\"type\":\"pie\"}]},\"layout\":{\"autotypenumbers\":\"strict\",\"colorway\":[\"#636efa\",\"#EF553B\",\"#00cc96\",\"#ab63fa\",\"#FFA15A\",\"#19d3f3\",\"#FF6692\",\"#B6E880\",\"#FF97FF\",\"#FECB52\"],\"font\":{\"color\":\"#2a3f5f\"},\"hovermode\":\"closest\",\"hoverlabel\":{\"align\":\"left\"},\"paper_bgcolor\":\"white\",\"plot_bgcolor\":\"#E5ECF6\",\"polar\":{\"bgcolor\":\"#E5ECF6\",\"angularaxis\":{\"gridcolor\":\"white\",\"linecolor\":\"white\",\"ticks\":\"\"},\"radialaxis\":{\"gridcolor\":\"white\",\"linecolor\":\"white\",\"ticks\":\"\"}},\"ternary\":{\"bgcolor\":\"#E5ECF6\",\"aaxis\":{\"gridcolor\":\"white\",\"linecolor\":\"white\",\"ticks\":\"\"},\"baxis\":{\"gridcolor\":\"white\",\"linecolor\":\"white\",\"ticks\":\"\"},\"caxis\":{\"gridcolor\":\"white\",\"linecolor\":\"white\",\"ticks\":\"\"}},\"coloraxis\":{\"colorbar\":{\"outlinewidth\":0,\"ticks\":\"\"}},\"colorscale\":{\"sequential\":[[0.0,\"#0d0887\"],[0.1111111111111111,\"#46039f\"],[0.2222222222222222,\"#7201a8\"],[0.3333333333333333,\"#9c179e\"],[0.4444444444444444,\"#bd3786\"],[0.5555555555555556,\"#d8576b\"],[0.6666666666666666,\"#ed7953\"],[0.7777777777777778,\"#fb9f3a\"],[0.8888888888888888,\"#fdca26\"],[1.0,\"#f0f921\"]],\"sequentialminus\":[[0.0,\"#0d0887\"],[0.1111111111111111,\"#46039f\"],[0.2222222222222222,\"#7201a8\"],[0.3333333333333333,\"#9c179e\"],[0.4444444444444444,\"#bd3786\"],[0.5555555555555556,\"#d8576b\"],[0.6666666666666666,\"#ed7953\"],[0.7777777777777778,\"#fb9f3a\"],[0.8888888888888888,\"#fdca26\"],[1.0,\"#f0f921\"]],\"diverging\":[[0,\"#8e0152\"],[0.1,\"#c51b7d\"],[0.2,\"#de77ae\"],[0.3,\"#f1b6da\"],[0.4,\"#fde0ef\"],[0.5,\"#f7f7f7\"],[0.6,\"#e6f5d0\"],[0.7,\"#b8e186\"],[0.8,\"#7fbc41\"],[0.9,\"#4d9221\"],[1,\"#276419\"]]},\"xaxis\":{\"gridcolor\":\"white\",\"linecolor\":\"white\",\"ticks\":\"\",\"title\":{\"standoff\":15},\"zerolinecolor\":\"white\",\"automargin\":true,\"zerolinewidth\":2},\"yaxis\":{\"gridcolor\":\"white\",\"linecolor\":\"white\",\"ticks\":\"\",\"title\":{\"standoff\":15},\"zerolinecolor\":\"white\",\"automargin\":true,\"zerolinewidth\":2},\"scene\":{\"xaxis\":{\"backgroundcolor\":\"#E5ECF6\",\"gridcolor\":\"white\",\"linecolor\":\"white\",\"showbackground\":true,\"ticks\":\"\",\"zerolinecolor\":\"white\",\"gridwidth\":2},\"yaxis\":{\"backgroundcolor\":\"#E5ECF6\",\"gridcolor\":\"white\",\"linecolor\":\"white\",\"showbackground\":true,\"ticks\":\"\",\"zerolinecolor\":\"white\",\"gridwidth\":2},\"zaxis\":{\"backgroundcolor\":\"#E5ECF6\",\"gridcolor\":\"white\",\"linecolor\":\"white\",\"showbackground\":true,\"ticks\":\"\",\"zerolinecolor\":\"white\",\"gridwidth\":2}},\"shapedefaults\":{\"line\":{\"color\":\"#2a3f5f\"}},\"annotationdefaults\":{\"arrowcolor\":\"#2a3f5f\",\"arrowhead\":0,\"arrowwidth\":1},\"geo\":{\"bgcolor\":\"white\",\"landcolor\":\"#E5ECF6\",\"subunitcolor\":\"white\",\"showland\":true,\"showlakes\":true,\"lakecolor\":\"white\"},\"title\":{\"x\":0.05},\"mapbox\":{\"style\":\"light\"}}},\"legend\":{\"tracegroupgap\":0},\"title\":{\"text\":\"materials collected from hubs (tons) for B\"},\"height\":500,\"width\":500},                        {\"responsive\": true}                    ).then(function(){\n",
       "                            \n",
       "var gd = document.getElementById('e4e60bf5-b36f-4381-a9c5-9fa6764f4e47');\n",
       "var x = new MutationObserver(function (mutations, observer) {{\n",
       "        var display = window.getComputedStyle(gd).display;\n",
       "        if (!display || display === 'none') {{\n",
       "            console.log([gd, 'removed!']);\n",
       "            Plotly.purge(gd);\n",
       "            observer.disconnect();\n",
       "        }}\n",
       "}});\n",
       "\n",
       "// Listen for the removal of the full notebook cells\n",
       "var notebookContainer = gd.closest('#notebook-container');\n",
       "if (notebookContainer) {{\n",
       "    x.observe(notebookContainer, {childList: true});\n",
       "}}\n",
       "\n",
       "// Listen for the clearing of the current output cell\n",
       "var outputEl = gd.closest('.output');\n",
       "if (outputEl) {{\n",
       "    x.observe(outputEl, {childList: true});\n",
       "}}\n",
       "\n",
       "                        })                };                });            </script>        </div>"
      ]
     },
     "metadata": {},
     "output_type": "display_data"
    },
    {
     "data": {
      "application/vnd.plotly.v1+json": {
       "config": {
        "plotlyServerURL": "https://plot.ly"
       },
       "data": [
        {
         "domain": {
          "x": [
           0,
           1
          ],
          "y": [
           0,
           1
          ]
         },
         "hovertemplate": "collectFrom=%{label}<br>tons=%{value}<extra></extra>",
         "labels": [
          "from suppliers to site",
          "from suppliers to site",
          "from demSites to hub",
          "from suppliers to site",
          "from suppliers to site",
          "from demSites to hub",
          "from demSites to hub",
          "from demSites to hub",
          "from suppliers to site",
          "from suppliers to site",
          "from demSites to hub",
          "from demSites to hub",
          "from demSites to hub",
          "from demSites to hub",
          "from demSites to hub",
          "from demSites to hub",
          "from demSites to hub"
         ],
         "legendgroup": "",
         "name": "",
         "showlegend": true,
         "type": "pie",
         "values": [
          9792,
          250,
          816,
          21648,
          11066,
          597.8475,
          194.3,
          1922,
          1051.6,
          928.4,
          522,
          3539.8,
          2760,
          69,
          8.8,
          26,
          90.7
         ]
        }
       ],
       "layout": {
        "height": 500,
        "legend": {
         "tracegroupgap": 0
        },
        "template": {
         "data": {
          "bar": [
           {
            "error_x": {
             "color": "#2a3f5f"
            },
            "error_y": {
             "color": "#2a3f5f"
            },
            "marker": {
             "line": {
              "color": "#E5ECF6",
              "width": 0.5
             },
             "pattern": {
              "fillmode": "overlay",
              "size": 10,
              "solidity": 0.2
             }
            },
            "type": "bar"
           }
          ],
          "barpolar": [
           {
            "marker": {
             "line": {
              "color": "#E5ECF6",
              "width": 0.5
             },
             "pattern": {
              "fillmode": "overlay",
              "size": 10,
              "solidity": 0.2
             }
            },
            "type": "barpolar"
           }
          ],
          "carpet": [
           {
            "aaxis": {
             "endlinecolor": "#2a3f5f",
             "gridcolor": "white",
             "linecolor": "white",
             "minorgridcolor": "white",
             "startlinecolor": "#2a3f5f"
            },
            "baxis": {
             "endlinecolor": "#2a3f5f",
             "gridcolor": "white",
             "linecolor": "white",
             "minorgridcolor": "white",
             "startlinecolor": "#2a3f5f"
            },
            "type": "carpet"
           }
          ],
          "choropleth": [
           {
            "colorbar": {
             "outlinewidth": 0,
             "ticks": ""
            },
            "type": "choropleth"
           }
          ],
          "contour": [
           {
            "colorbar": {
             "outlinewidth": 0,
             "ticks": ""
            },
            "colorscale": [
             [
              0,
              "#0d0887"
             ],
             [
              0.1111111111111111,
              "#46039f"
             ],
             [
              0.2222222222222222,
              "#7201a8"
             ],
             [
              0.3333333333333333,
              "#9c179e"
             ],
             [
              0.4444444444444444,
              "#bd3786"
             ],
             [
              0.5555555555555556,
              "#d8576b"
             ],
             [
              0.6666666666666666,
              "#ed7953"
             ],
             [
              0.7777777777777778,
              "#fb9f3a"
             ],
             [
              0.8888888888888888,
              "#fdca26"
             ],
             [
              1,
              "#f0f921"
             ]
            ],
            "type": "contour"
           }
          ],
          "contourcarpet": [
           {
            "colorbar": {
             "outlinewidth": 0,
             "ticks": ""
            },
            "type": "contourcarpet"
           }
          ],
          "heatmap": [
           {
            "colorbar": {
             "outlinewidth": 0,
             "ticks": ""
            },
            "colorscale": [
             [
              0,
              "#0d0887"
             ],
             [
              0.1111111111111111,
              "#46039f"
             ],
             [
              0.2222222222222222,
              "#7201a8"
             ],
             [
              0.3333333333333333,
              "#9c179e"
             ],
             [
              0.4444444444444444,
              "#bd3786"
             ],
             [
              0.5555555555555556,
              "#d8576b"
             ],
             [
              0.6666666666666666,
              "#ed7953"
             ],
             [
              0.7777777777777778,
              "#fb9f3a"
             ],
             [
              0.8888888888888888,
              "#fdca26"
             ],
             [
              1,
              "#f0f921"
             ]
            ],
            "type": "heatmap"
           }
          ],
          "heatmapgl": [
           {
            "colorbar": {
             "outlinewidth": 0,
             "ticks": ""
            },
            "colorscale": [
             [
              0,
              "#0d0887"
             ],
             [
              0.1111111111111111,
              "#46039f"
             ],
             [
              0.2222222222222222,
              "#7201a8"
             ],
             [
              0.3333333333333333,
              "#9c179e"
             ],
             [
              0.4444444444444444,
              "#bd3786"
             ],
             [
              0.5555555555555556,
              "#d8576b"
             ],
             [
              0.6666666666666666,
              "#ed7953"
             ],
             [
              0.7777777777777778,
              "#fb9f3a"
             ],
             [
              0.8888888888888888,
              "#fdca26"
             ],
             [
              1,
              "#f0f921"
             ]
            ],
            "type": "heatmapgl"
           }
          ],
          "histogram": [
           {
            "marker": {
             "pattern": {
              "fillmode": "overlay",
              "size": 10,
              "solidity": 0.2
             }
            },
            "type": "histogram"
           }
          ],
          "histogram2d": [
           {
            "colorbar": {
             "outlinewidth": 0,
             "ticks": ""
            },
            "colorscale": [
             [
              0,
              "#0d0887"
             ],
             [
              0.1111111111111111,
              "#46039f"
             ],
             [
              0.2222222222222222,
              "#7201a8"
             ],
             [
              0.3333333333333333,
              "#9c179e"
             ],
             [
              0.4444444444444444,
              "#bd3786"
             ],
             [
              0.5555555555555556,
              "#d8576b"
             ],
             [
              0.6666666666666666,
              "#ed7953"
             ],
             [
              0.7777777777777778,
              "#fb9f3a"
             ],
             [
              0.8888888888888888,
              "#fdca26"
             ],
             [
              1,
              "#f0f921"
             ]
            ],
            "type": "histogram2d"
           }
          ],
          "histogram2dcontour": [
           {
            "colorbar": {
             "outlinewidth": 0,
             "ticks": ""
            },
            "colorscale": [
             [
              0,
              "#0d0887"
             ],
             [
              0.1111111111111111,
              "#46039f"
             ],
             [
              0.2222222222222222,
              "#7201a8"
             ],
             [
              0.3333333333333333,
              "#9c179e"
             ],
             [
              0.4444444444444444,
              "#bd3786"
             ],
             [
              0.5555555555555556,
              "#d8576b"
             ],
             [
              0.6666666666666666,
              "#ed7953"
             ],
             [
              0.7777777777777778,
              "#fb9f3a"
             ],
             [
              0.8888888888888888,
              "#fdca26"
             ],
             [
              1,
              "#f0f921"
             ]
            ],
            "type": "histogram2dcontour"
           }
          ],
          "mesh3d": [
           {
            "colorbar": {
             "outlinewidth": 0,
             "ticks": ""
            },
            "type": "mesh3d"
           }
          ],
          "parcoords": [
           {
            "line": {
             "colorbar": {
              "outlinewidth": 0,
              "ticks": ""
             }
            },
            "type": "parcoords"
           }
          ],
          "pie": [
           {
            "automargin": true,
            "type": "pie"
           }
          ],
          "scatter": [
           {
            "fillpattern": {
             "fillmode": "overlay",
             "size": 10,
             "solidity": 0.2
            },
            "type": "scatter"
           }
          ],
          "scatter3d": [
           {
            "line": {
             "colorbar": {
              "outlinewidth": 0,
              "ticks": ""
             }
            },
            "marker": {
             "colorbar": {
              "outlinewidth": 0,
              "ticks": ""
             }
            },
            "type": "scatter3d"
           }
          ],
          "scattercarpet": [
           {
            "marker": {
             "colorbar": {
              "outlinewidth": 0,
              "ticks": ""
             }
            },
            "type": "scattercarpet"
           }
          ],
          "scattergeo": [
           {
            "marker": {
             "colorbar": {
              "outlinewidth": 0,
              "ticks": ""
             }
            },
            "type": "scattergeo"
           }
          ],
          "scattergl": [
           {
            "marker": {
             "colorbar": {
              "outlinewidth": 0,
              "ticks": ""
             }
            },
            "type": "scattergl"
           }
          ],
          "scattermapbox": [
           {
            "marker": {
             "colorbar": {
              "outlinewidth": 0,
              "ticks": ""
             }
            },
            "type": "scattermapbox"
           }
          ],
          "scatterpolar": [
           {
            "marker": {
             "colorbar": {
              "outlinewidth": 0,
              "ticks": ""
             }
            },
            "type": "scatterpolar"
           }
          ],
          "scatterpolargl": [
           {
            "marker": {
             "colorbar": {
              "outlinewidth": 0,
              "ticks": ""
             }
            },
            "type": "scatterpolargl"
           }
          ],
          "scatterternary": [
           {
            "marker": {
             "colorbar": {
              "outlinewidth": 0,
              "ticks": ""
             }
            },
            "type": "scatterternary"
           }
          ],
          "surface": [
           {
            "colorbar": {
             "outlinewidth": 0,
             "ticks": ""
            },
            "colorscale": [
             [
              0,
              "#0d0887"
             ],
             [
              0.1111111111111111,
              "#46039f"
             ],
             [
              0.2222222222222222,
              "#7201a8"
             ],
             [
              0.3333333333333333,
              "#9c179e"
             ],
             [
              0.4444444444444444,
              "#bd3786"
             ],
             [
              0.5555555555555556,
              "#d8576b"
             ],
             [
              0.6666666666666666,
              "#ed7953"
             ],
             [
              0.7777777777777778,
              "#fb9f3a"
             ],
             [
              0.8888888888888888,
              "#fdca26"
             ],
             [
              1,
              "#f0f921"
             ]
            ],
            "type": "surface"
           }
          ],
          "table": [
           {
            "cells": {
             "fill": {
              "color": "#EBF0F8"
             },
             "line": {
              "color": "white"
             }
            },
            "header": {
             "fill": {
              "color": "#C8D4E3"
             },
             "line": {
              "color": "white"
             }
            },
            "type": "table"
           }
          ]
         },
         "layout": {
          "annotationdefaults": {
           "arrowcolor": "#2a3f5f",
           "arrowhead": 0,
           "arrowwidth": 1
          },
          "autotypenumbers": "strict",
          "coloraxis": {
           "colorbar": {
            "outlinewidth": 0,
            "ticks": ""
           }
          },
          "colorscale": {
           "diverging": [
            [
             0,
             "#8e0152"
            ],
            [
             0.1,
             "#c51b7d"
            ],
            [
             0.2,
             "#de77ae"
            ],
            [
             0.3,
             "#f1b6da"
            ],
            [
             0.4,
             "#fde0ef"
            ],
            [
             0.5,
             "#f7f7f7"
            ],
            [
             0.6,
             "#e6f5d0"
            ],
            [
             0.7,
             "#b8e186"
            ],
            [
             0.8,
             "#7fbc41"
            ],
            [
             0.9,
             "#4d9221"
            ],
            [
             1,
             "#276419"
            ]
           ],
           "sequential": [
            [
             0,
             "#0d0887"
            ],
            [
             0.1111111111111111,
             "#46039f"
            ],
            [
             0.2222222222222222,
             "#7201a8"
            ],
            [
             0.3333333333333333,
             "#9c179e"
            ],
            [
             0.4444444444444444,
             "#bd3786"
            ],
            [
             0.5555555555555556,
             "#d8576b"
            ],
            [
             0.6666666666666666,
             "#ed7953"
            ],
            [
             0.7777777777777778,
             "#fb9f3a"
            ],
            [
             0.8888888888888888,
             "#fdca26"
            ],
            [
             1,
             "#f0f921"
            ]
           ],
           "sequentialminus": [
            [
             0,
             "#0d0887"
            ],
            [
             0.1111111111111111,
             "#46039f"
            ],
            [
             0.2222222222222222,
             "#7201a8"
            ],
            [
             0.3333333333333333,
             "#9c179e"
            ],
            [
             0.4444444444444444,
             "#bd3786"
            ],
            [
             0.5555555555555556,
             "#d8576b"
            ],
            [
             0.6666666666666666,
             "#ed7953"
            ],
            [
             0.7777777777777778,
             "#fb9f3a"
            ],
            [
             0.8888888888888888,
             "#fdca26"
            ],
            [
             1,
             "#f0f921"
            ]
           ]
          },
          "colorway": [
           "#636efa",
           "#EF553B",
           "#00cc96",
           "#ab63fa",
           "#FFA15A",
           "#19d3f3",
           "#FF6692",
           "#B6E880",
           "#FF97FF",
           "#FECB52"
          ],
          "font": {
           "color": "#2a3f5f"
          },
          "geo": {
           "bgcolor": "white",
           "lakecolor": "white",
           "landcolor": "#E5ECF6",
           "showlakes": true,
           "showland": true,
           "subunitcolor": "white"
          },
          "hoverlabel": {
           "align": "left"
          },
          "hovermode": "closest",
          "mapbox": {
           "style": "light"
          },
          "paper_bgcolor": "white",
          "plot_bgcolor": "#E5ECF6",
          "polar": {
           "angularaxis": {
            "gridcolor": "white",
            "linecolor": "white",
            "ticks": ""
           },
           "bgcolor": "#E5ECF6",
           "radialaxis": {
            "gridcolor": "white",
            "linecolor": "white",
            "ticks": ""
           }
          },
          "scene": {
           "xaxis": {
            "backgroundcolor": "#E5ECF6",
            "gridcolor": "white",
            "gridwidth": 2,
            "linecolor": "white",
            "showbackground": true,
            "ticks": "",
            "zerolinecolor": "white"
           },
           "yaxis": {
            "backgroundcolor": "#E5ECF6",
            "gridcolor": "white",
            "gridwidth": 2,
            "linecolor": "white",
            "showbackground": true,
            "ticks": "",
            "zerolinecolor": "white"
           },
           "zaxis": {
            "backgroundcolor": "#E5ECF6",
            "gridcolor": "white",
            "gridwidth": 2,
            "linecolor": "white",
            "showbackground": true,
            "ticks": "",
            "zerolinecolor": "white"
           }
          },
          "shapedefaults": {
           "line": {
            "color": "#2a3f5f"
           }
          },
          "ternary": {
           "aaxis": {
            "gridcolor": "white",
            "linecolor": "white",
            "ticks": ""
           },
           "baxis": {
            "gridcolor": "white",
            "linecolor": "white",
            "ticks": ""
           },
           "bgcolor": "#E5ECF6",
           "caxis": {
            "gridcolor": "white",
            "linecolor": "white",
            "ticks": ""
           }
          },
          "title": {
           "x": 0.05
          },
          "xaxis": {
           "automargin": true,
           "gridcolor": "white",
           "linecolor": "white",
           "ticks": "",
           "title": {
            "standoff": 15
           },
           "zerolinecolor": "white",
           "zerolinewidth": 2
          },
          "yaxis": {
           "automargin": true,
           "gridcolor": "white",
           "linecolor": "white",
           "ticks": "",
           "title": {
            "standoff": 15
           },
           "zerolinecolor": "white",
           "zerolinewidth": 2
          }
         }
        },
        "title": {
         "text": "materials collected from hubs (tons) for C"
        },
        "width": 500
       }
      },
      "image/png": "[encoded data removed]",
      "text/html": [
       "<div>                            <div id=\"dac2ddce-d3a4-4c9d-9465-f5a885d99fa0\" class=\"plotly-graph-div\" style=\"height:500px; width:500px;\"></div>            <script type=\"text/javascript\">                require([\"plotly\"], function(Plotly) {                    window.PLOTLYENV=window.PLOTLYENV || {};                                    if (document.getElementById(\"dac2ddce-d3a4-4c9d-9465-f5a885d99fa0\")) {                    Plotly.newPlot(                        \"dac2ddce-d3a4-4c9d-9465-f5a885d99fa0\",                        [{\"domain\":{\"x\":[0.0,1.0],\"y\":[0.0,1.0]},\"hovertemplate\":\"collectFrom=%{label}<br>tons=%{value}<extra></extra>\",\"labels\":[\"from suppliers to site\",\"from suppliers to site\",\"from demSites to hub\",\"from suppliers to site\",\"from suppliers to site\",\"from demSites to hub\",\"from demSites to hub\",\"from demSites to hub\",\"from suppliers to site\",\"from suppliers to site\",\"from demSites to hub\",\"from demSites to hub\",\"from demSites to hub\",\"from demSites to hub\",\"from demSites to hub\",\"from demSites to hub\",\"from demSites to hub\"],\"legendgroup\":\"\",\"name\":\"\",\"showlegend\":true,\"values\":[9792.0,250.0,816.0,21648.0,11066.0,597.8475,194.3,1922.0,1051.6,928.4,522.0,3539.8,2760.0,69.0,8.8,26.0,90.7],\"type\":\"pie\"}],                        {\"template\":{\"data\":{\"histogram2dcontour\":[{\"type\":\"histogram2dcontour\",\"colorbar\":{\"outlinewidth\":0,\"ticks\":\"\"},\"colorscale\":[[0.0,\"#0d0887\"],[0.1111111111111111,\"#46039f\"],[0.2222222222222222,\"#7201a8\"],[0.3333333333333333,\"#9c179e\"],[0.4444444444444444,\"#bd3786\"],[0.5555555555555556,\"#d8576b\"],[0.6666666666666666,\"#ed7953\"],[0.7777777777777778,\"#fb9f3a\"],[0.8888888888888888,\"#fdca26\"],[1.0,\"#f0f921\"]]}],\"choropleth\":[{\"type\":\"choropleth\",\"colorbar\":{\"outlinewidth\":0,\"ticks\":\"\"}}],\"histogram2d\":[{\"type\":\"histogram2d\",\"colorbar\":{\"outlinewidth\":0,\"ticks\":\"\"},\"colorscale\":[[0.0,\"#0d0887\"],[0.1111111111111111,\"#46039f\"],[0.2222222222222222,\"#7201a8\"],[0.3333333333333333,\"#9c179e\"],[0.4444444444444444,\"#bd3786\"],[0.5555555555555556,\"#d8576b\"],[0.6666666666666666,\"#ed7953\"],[0.7777777777777778,\"#fb9f3a\"],[0.8888888888888888,\"#fdca26\"],[1.0,\"#f0f921\"]]}],\"heatmap\":[{\"type\":\"heatmap\",\"colorbar\":{\"outlinewidth\":0,\"ticks\":\"\"},\"colorscale\":[[0.0,\"#0d0887\"],[0.1111111111111111,\"#46039f\"],[0.2222222222222222,\"#7201a8\"],[0.3333333333333333,\"#9c179e\"],[0.4444444444444444,\"#bd3786\"],[0.5555555555555556,\"#d8576b\"],[0.6666666666666666,\"#ed7953\"],[0.7777777777777778,\"#fb9f3a\"],[0.8888888888888888,\"#fdca26\"],[1.0,\"#f0f921\"]]}],\"heatmapgl\":[{\"type\":\"heatmapgl\",\"colorbar\":{\"outlinewidth\":0,\"ticks\":\"\"},\"colorscale\":[[0.0,\"#0d0887\"],[0.1111111111111111,\"#46039f\"],[0.2222222222222222,\"#7201a8\"],[0.3333333333333333,\"#9c179e\"],[0.4444444444444444,\"#bd3786\"],[0.5555555555555556,\"#d8576b\"],[0.6666666666666666,\"#ed7953\"],[0.7777777777777778,\"#fb9f3a\"],[0.8888888888888888,\"#fdca26\"],[1.0,\"#f0f921\"]]}],\"contourcarpet\":[{\"type\":\"contourcarpet\",\"colorbar\":{\"outlinewidth\":0,\"ticks\":\"\"}}],\"contour\":[{\"type\":\"contour\",\"colorbar\":{\"outlinewidth\":0,\"ticks\":\"\"},\"colorscale\":[[0.0,\"#0d0887\"],[0.1111111111111111,\"#46039f\"],[0.2222222222222222,\"#7201a8\"],[0.3333333333333333,\"#9c179e\"],[0.4444444444444444,\"#bd3786\"],[0.5555555555555556,\"#d8576b\"],[0.6666666666666666,\"#ed7953\"],[0.7777777777777778,\"#fb9f3a\"],[0.8888888888888888,\"#fdca26\"],[1.0,\"#f0f921\"]]}],\"surface\":[{\"type\":\"surface\",\"colorbar\":{\"outlinewidth\":0,\"ticks\":\"\"},\"colorscale\":[[0.0,\"#0d0887\"],[0.1111111111111111,\"#46039f\"],[0.2222222222222222,\"#7201a8\"],[0.3333333333333333,\"#9c179e\"],[0.4444444444444444,\"#bd3786\"],[0.5555555555555556,\"#d8576b\"],[0.6666666666666666,\"#ed7953\"],[0.7777777777777778,\"#fb9f3a\"],[0.8888888888888888,\"#fdca26\"],[1.0,\"#f0f921\"]]}],\"mesh3d\":[{\"type\":\"mesh3d\",\"colorbar\":{\"outlinewidth\":0,\"ticks\":\"\"}}],\"scatter\":[{\"fillpattern\":{\"fillmode\":\"overlay\",\"size\":10,\"solidity\":0.2},\"type\":\"scatter\"}],\"parcoords\":[{\"type\":\"parcoords\",\"line\":{\"colorbar\":{\"outlinewidth\":0,\"ticks\":\"\"}}}],\"scatterpolargl\":[{\"type\":\"scatterpolargl\",\"marker\":{\"colorbar\":{\"outlinewidth\":0,\"ticks\":\"\"}}}],\"bar\":[{\"error_x\":{\"color\":\"#2a3f5f\"},\"error_y\":{\"color\":\"#2a3f5f\"},\"marker\":{\"line\":{\"color\":\"#E5ECF6\",\"width\":0.5},\"pattern\":{\"fillmode\":\"overlay\",\"size\":10,\"solidity\":0.2}},\"type\":\"bar\"}],\"scattergeo\":[{\"type\":\"scattergeo\",\"marker\":{\"colorbar\":{\"outlinewidth\":0,\"ticks\":\"\"}}}],\"scatterpolar\":[{\"type\":\"scatterpolar\",\"marker\":{\"colorbar\":{\"outlinewidth\":0,\"ticks\":\"\"}}}],\"histogram\":[{\"marker\":{\"pattern\":{\"fillmode\":\"overlay\",\"size\":10,\"solidity\":0.2}},\"type\":\"histogram\"}],\"scattergl\":[{\"type\":\"scattergl\",\"marker\":{\"colorbar\":{\"outlinewidth\":0,\"ticks\":\"\"}}}],\"scatter3d\":[{\"type\":\"scatter3d\",\"line\":{\"colorbar\":{\"outlinewidth\":0,\"ticks\":\"\"}},\"marker\":{\"colorbar\":{\"outlinewidth\":0,\"ticks\":\"\"}}}],\"scattermapbox\":[{\"type\":\"scattermapbox\",\"marker\":{\"colorbar\":{\"outlinewidth\":0,\"ticks\":\"\"}}}],\"scatterternary\":[{\"type\":\"scatterternary\",\"marker\":{\"colorbar\":{\"outlinewidth\":0,\"ticks\":\"\"}}}],\"scattercarpet\":[{\"type\":\"scattercarpet\",\"marker\":{\"colorbar\":{\"outlinewidth\":0,\"ticks\":\"\"}}}],\"carpet\":[{\"aaxis\":{\"endlinecolor\":\"#2a3f5f\",\"gridcolor\":\"white\",\"linecolor\":\"white\",\"minorgridcolor\":\"white\",\"startlinecolor\":\"#2a3f5f\"},\"baxis\":{\"endlinecolor\":\"#2a3f5f\",\"gridcolor\":\"white\",\"linecolor\":\"white\",\"minorgridcolor\":\"white\",\"startlinecolor\":\"#2a3f5f\"},\"type\":\"carpet\"}],\"table\":[{\"cells\":{\"fill\":{\"color\":\"#EBF0F8\"},\"line\":{\"color\":\"white\"}},\"header\":{\"fill\":{\"color\":\"#C8D4E3\"},\"line\":{\"color\":\"white\"}},\"type\":\"table\"}],\"barpolar\":[{\"marker\":{\"line\":{\"color\":\"#E5ECF6\",\"width\":0.5},\"pattern\":{\"fillmode\":\"overlay\",\"size\":10,\"solidity\":0.2}},\"type\":\"barpolar\"}],\"pie\":[{\"automargin\":true,\"type\":\"pie\"}]},\"layout\":{\"autotypenumbers\":\"strict\",\"colorway\":[\"#636efa\",\"#EF553B\",\"#00cc96\",\"#ab63fa\",\"#FFA15A\",\"#19d3f3\",\"#FF6692\",\"#B6E880\",\"#FF97FF\",\"#FECB52\"],\"font\":{\"color\":\"#2a3f5f\"},\"hovermode\":\"closest\",\"hoverlabel\":{\"align\":\"left\"},\"paper_bgcolor\":\"white\",\"plot_bgcolor\":\"#E5ECF6\",\"polar\":{\"bgcolor\":\"#E5ECF6\",\"angularaxis\":{\"gridcolor\":\"white\",\"linecolor\":\"white\",\"ticks\":\"\"},\"radialaxis\":{\"gridcolor\":\"white\",\"linecolor\":\"white\",\"ticks\":\"\"}},\"ternary\":{\"bgcolor\":\"#E5ECF6\",\"aaxis\":{\"gridcolor\":\"white\",\"linecolor\":\"white\",\"ticks\":\"\"},\"baxis\":{\"gridcolor\":\"white\",\"linecolor\":\"white\",\"ticks\":\"\"},\"caxis\":{\"gridcolor\":\"white\",\"linecolor\":\"white\",\"ticks\":\"\"}},\"coloraxis\":{\"colorbar\":{\"outlinewidth\":0,\"ticks\":\"\"}},\"colorscale\":{\"sequential\":[[0.0,\"#0d0887\"],[0.1111111111111111,\"#46039f\"],[0.2222222222222222,\"#7201a8\"],[0.3333333333333333,\"#9c179e\"],[0.4444444444444444,\"#bd3786\"],[0.5555555555555556,\"#d8576b\"],[0.6666666666666666,\"#ed7953\"],[0.7777777777777778,\"#fb9f3a\"],[0.8888888888888888,\"#fdca26\"],[1.0,\"#f0f921\"]],\"sequentialminus\":[[0.0,\"#0d0887\"],[0.1111111111111111,\"#46039f\"],[0.2222222222222222,\"#7201a8\"],[0.3333333333333333,\"#9c179e\"],[0.4444444444444444,\"#bd3786\"],[0.5555555555555556,\"#d8576b\"],[0.6666666666666666,\"#ed7953\"],[0.7777777777777778,\"#fb9f3a\"],[0.8888888888888888,\"#fdca26\"],[1.0,\"#f0f921\"]],\"diverging\":[[0,\"#8e0152\"],[0.1,\"#c51b7d\"],[0.2,\"#de77ae\"],[0.3,\"#f1b6da\"],[0.4,\"#fde0ef\"],[0.5,\"#f7f7f7\"],[0.6,\"#e6f5d0\"],[0.7,\"#b8e186\"],[0.8,\"#7fbc41\"],[0.9,\"#4d9221\"],[1,\"#276419\"]]},\"xaxis\":{\"gridcolor\":\"white\",\"linecolor\":\"white\",\"ticks\":\"\",\"title\":{\"standoff\":15},\"zerolinecolor\":\"white\",\"automargin\":true,\"zerolinewidth\":2},\"yaxis\":{\"gridcolor\":\"white\",\"linecolor\":\"white\",\"ticks\":\"\",\"title\":{\"standoff\":15},\"zerolinecolor\":\"white\",\"automargin\":true,\"zerolinewidth\":2},\"scene\":{\"xaxis\":{\"backgroundcolor\":\"#E5ECF6\",\"gridcolor\":\"white\",\"linecolor\":\"white\",\"showbackground\":true,\"ticks\":\"\",\"zerolinecolor\":\"white\",\"gridwidth\":2},\"yaxis\":{\"backgroundcolor\":\"#E5ECF6\",\"gridcolor\":\"white\",\"linecolor\":\"white\",\"showbackground\":true,\"ticks\":\"\",\"zerolinecolor\":\"white\",\"gridwidth\":2},\"zaxis\":{\"backgroundcolor\":\"#E5ECF6\",\"gridcolor\":\"white\",\"linecolor\":\"white\",\"showbackground\":true,\"ticks\":\"\",\"zerolinecolor\":\"white\",\"gridwidth\":2}},\"shapedefaults\":{\"line\":{\"color\":\"#2a3f5f\"}},\"annotationdefaults\":{\"arrowcolor\":\"#2a3f5f\",\"arrowhead\":0,\"arrowwidth\":1},\"geo\":{\"bgcolor\":\"white\",\"landcolor\":\"#E5ECF6\",\"subunitcolor\":\"white\",\"showland\":true,\"showlakes\":true,\"lakecolor\":\"white\"},\"title\":{\"x\":0.05},\"mapbox\":{\"style\":\"light\"}}},\"legend\":{\"tracegroupgap\":0},\"title\":{\"text\":\"materials collected from hubs (tons) for C\"},\"height\":500,\"width\":500},                        {\"responsive\": true}                    ).then(function(){\n",
       "                            \n",
       "var gd = document.getElementById('dac2ddce-d3a4-4c9d-9465-f5a885d99fa0');\n",
       "var x = new MutationObserver(function (mutations, observer) {{\n",
       "        var display = window.getComputedStyle(gd).display;\n",
       "        if (!display || display === 'none') {{\n",
       "            console.log([gd, 'removed!']);\n",
       "            Plotly.purge(gd);\n",
       "            observer.disconnect();\n",
       "        }}\n",
       "}});\n",
       "\n",
       "// Listen for the removal of the full notebook cells\n",
       "var notebookContainer = gd.closest('#notebook-container');\n",
       "if (notebookContainer) {{\n",
       "    x.observe(notebookContainer, {childList: true});\n",
       "}}\n",
       "\n",
       "// Listen for the clearing of the current output cell\n",
       "var outputEl = gd.closest('.output');\n",
       "if (outputEl) {{\n",
       "    x.observe(outputEl, {childList: true});\n",
       "}}\n",
       "\n",
       "                        })                };                });            </script>        </div>"
      ]
     },
     "metadata": {},
     "output_type": "display_data"
    },
    {
     "data": {
      "application/vnd.plotly.v1+json": {
       "config": {
        "plotlyServerURL": "https://plot.ly"
       },
       "data": [
        {
         "domain": {
          "x": [
           0,
           1
          ],
          "y": [
           0,
           1
          ]
         },
         "hovertemplate": "collectFrom=%{label}<br>tons=%{value}<extra></extra>",
         "labels": [
          "from suppliers to site",
          "from suppliers to site",
          "from demSites to hub",
          "from suppliers to site",
          "from suppliers to site",
          "from demSites to hub",
          "from demSites to hub",
          "from demSites to hub",
          "from suppliers to site",
          "from suppliers to site",
          "from demSites to hub",
          "from demSites to hub",
          "from demSites to hub",
          "from demSites to hub",
          "from demSites to hub",
          "from demSites to hub"
         ],
         "legendgroup": "",
         "name": "",
         "showlegend": true,
         "type": "pie",
         "values": [
          26580,
          300,
          2215,
          9360,
          38020,
          1328.55,
          361.7,
          538,
          253.00000000000003,
          3128.4,
          1594,
          8922,
          5975,
          113.45,
          19,
          328
         ]
        }
       ],
       "layout": {
        "height": 500,
        "legend": {
         "tracegroupgap": 0
        },
        "template": {
         "data": {
          "bar": [
           {
            "error_x": {
             "color": "#2a3f5f"
            },
            "error_y": {
             "color": "#2a3f5f"
            },
            "marker": {
             "line": {
              "color": "#E5ECF6",
              "width": 0.5
             },
             "pattern": {
              "fillmode": "overlay",
              "size": 10,
              "solidity": 0.2
             }
            },
            "type": "bar"
           }
          ],
          "barpolar": [
           {
            "marker": {
             "line": {
              "color": "#E5ECF6",
              "width": 0.5
             },
             "pattern": {
              "fillmode": "overlay",
              "size": 10,
              "solidity": 0.2
             }
            },
            "type": "barpolar"
           }
          ],
          "carpet": [
           {
            "aaxis": {
             "endlinecolor": "#2a3f5f",
             "gridcolor": "white",
             "linecolor": "white",
             "minorgridcolor": "white",
             "startlinecolor": "#2a3f5f"
            },
            "baxis": {
             "endlinecolor": "#2a3f5f",
             "gridcolor": "white",
             "linecolor": "white",
             "minorgridcolor": "white",
             "startlinecolor": "#2a3f5f"
            },
            "type": "carpet"
           }
          ],
          "choropleth": [
           {
            "colorbar": {
             "outlinewidth": 0,
             "ticks": ""
            },
            "type": "choropleth"
           }
          ],
          "contour": [
           {
            "colorbar": {
             "outlinewidth": 0,
             "ticks": ""
            },
            "colorscale": [
             [
              0,
              "#0d0887"
             ],
             [
              0.1111111111111111,
              "#46039f"
             ],
             [
              0.2222222222222222,
              "#7201a8"
             ],
             [
              0.3333333333333333,
              "#9c179e"
             ],
             [
              0.4444444444444444,
              "#bd3786"
             ],
             [
              0.5555555555555556,
              "#d8576b"
             ],
             [
              0.6666666666666666,
              "#ed7953"
             ],
             [
              0.7777777777777778,
              "#fb9f3a"
             ],
             [
              0.8888888888888888,
              "#fdca26"
             ],
             [
              1,
              "#f0f921"
             ]
            ],
            "type": "contour"
           }
          ],
          "contourcarpet": [
           {
            "colorbar": {
             "outlinewidth": 0,
             "ticks": ""
            },
            "type": "contourcarpet"
           }
          ],
          "heatmap": [
           {
            "colorbar": {
             "outlinewidth": 0,
             "ticks": ""
            },
            "colorscale": [
             [
              0,
              "#0d0887"
             ],
             [
              0.1111111111111111,
              "#46039f"
             ],
             [
              0.2222222222222222,
              "#7201a8"
             ],
             [
              0.3333333333333333,
              "#9c179e"
             ],
             [
              0.4444444444444444,
              "#bd3786"
             ],
             [
              0.5555555555555556,
              "#d8576b"
             ],
             [
              0.6666666666666666,
              "#ed7953"
             ],
             [
              0.7777777777777778,
              "#fb9f3a"
             ],
             [
              0.8888888888888888,
              "#fdca26"
             ],
             [
              1,
              "#f0f921"
             ]
            ],
            "type": "heatmap"
           }
          ],
          "heatmapgl": [
           {
            "colorbar": {
             "outlinewidth": 0,
             "ticks": ""
            },
            "colorscale": [
             [
              0,
              "#0d0887"
             ],
             [
              0.1111111111111111,
              "#46039f"
             ],
             [
              0.2222222222222222,
              "#7201a8"
             ],
             [
              0.3333333333333333,
              "#9c179e"
             ],
             [
              0.4444444444444444,
              "#bd3786"
             ],
             [
              0.5555555555555556,
              "#d8576b"
             ],
             [
              0.6666666666666666,
              "#ed7953"
             ],
             [
              0.7777777777777778,
              "#fb9f3a"
             ],
             [
              0.8888888888888888,
              "#fdca26"
             ],
             [
              1,
              "#f0f921"
             ]
            ],
            "type": "heatmapgl"
           }
          ],
          "histogram": [
           {
            "marker": {
             "pattern": {
              "fillmode": "overlay",
              "size": 10,
              "solidity": 0.2
             }
            },
            "type": "histogram"
           }
          ],
          "histogram2d": [
           {
            "colorbar": {
             "outlinewidth": 0,
             "ticks": ""
            },
            "colorscale": [
             [
              0,
              "#0d0887"
             ],
             [
              0.1111111111111111,
              "#46039f"
             ],
             [
              0.2222222222222222,
              "#7201a8"
             ],
             [
              0.3333333333333333,
              "#9c179e"
             ],
             [
              0.4444444444444444,
              "#bd3786"
             ],
             [
              0.5555555555555556,
              "#d8576b"
             ],
             [
              0.6666666666666666,
              "#ed7953"
             ],
             [
              0.7777777777777778,
              "#fb9f3a"
             ],
             [
              0.8888888888888888,
              "#fdca26"
             ],
             [
              1,
              "#f0f921"
             ]
            ],
            "type": "histogram2d"
           }
          ],
          "histogram2dcontour": [
           {
            "colorbar": {
             "outlinewidth": 0,
             "ticks": ""
            },
            "colorscale": [
             [
              0,
              "#0d0887"
             ],
             [
              0.1111111111111111,
              "#46039f"
             ],
             [
              0.2222222222222222,
              "#7201a8"
             ],
             [
              0.3333333333333333,
              "#9c179e"
             ],
             [
              0.4444444444444444,
              "#bd3786"
             ],
             [
              0.5555555555555556,
              "#d8576b"
             ],
             [
              0.6666666666666666,
              "#ed7953"
             ],
             [
              0.7777777777777778,
              "#fb9f3a"
             ],
             [
              0.8888888888888888,
              "#fdca26"
             ],
             [
              1,
              "#f0f921"
             ]
            ],
            "type": "histogram2dcontour"
           }
          ],
          "mesh3d": [
           {
            "colorbar": {
             "outlinewidth": 0,
             "ticks": ""
            },
            "type": "mesh3d"
           }
          ],
          "parcoords": [
           {
            "line": {
             "colorbar": {
              "outlinewidth": 0,
              "ticks": ""
             }
            },
            "type": "parcoords"
           }
          ],
          "pie": [
           {
            "automargin": true,
            "type": "pie"
           }
          ],
          "scatter": [
           {
            "fillpattern": {
             "fillmode": "overlay",
             "size": 10,
             "solidity": 0.2
            },
            "type": "scatter"
           }
          ],
          "scatter3d": [
           {
            "line": {
             "colorbar": {
              "outlinewidth": 0,
              "ticks": ""
             }
            },
            "marker": {
             "colorbar": {
              "outlinewidth": 0,
              "ticks": ""
             }
            },
            "type": "scatter3d"
           }
          ],
          "scattercarpet": [
           {
            "marker": {
             "colorbar": {
              "outlinewidth": 0,
              "ticks": ""
             }
            },
            "type": "scattercarpet"
           }
          ],
          "scattergeo": [
           {
            "marker": {
             "colorbar": {
              "outlinewidth": 0,
              "ticks": ""
             }
            },
            "type": "scattergeo"
           }
          ],
          "scattergl": [
           {
            "marker": {
             "colorbar": {
              "outlinewidth": 0,
              "ticks": ""
             }
            },
            "type": "scattergl"
           }
          ],
          "scattermapbox": [
           {
            "marker": {
             "colorbar": {
              "outlinewidth": 0,
              "ticks": ""
             }
            },
            "type": "scattermapbox"
           }
          ],
          "scatterpolar": [
           {
            "marker": {
             "colorbar": {
              "outlinewidth": 0,
              "ticks": ""
             }
            },
            "type": "scatterpolar"
           }
          ],
          "scatterpolargl": [
           {
            "marker": {
             "colorbar": {
              "outlinewidth": 0,
              "ticks": ""
             }
            },
            "type": "scatterpolargl"
           }
          ],
          "scatterternary": [
           {
            "marker": {
             "colorbar": {
              "outlinewidth": 0,
              "ticks": ""
             }
            },
            "type": "scatterternary"
           }
          ],
          "surface": [
           {
            "colorbar": {
             "outlinewidth": 0,
             "ticks": ""
            },
            "colorscale": [
             [
              0,
              "#0d0887"
             ],
             [
              0.1111111111111111,
              "#46039f"
             ],
             [
              0.2222222222222222,
              "#7201a8"
             ],
             [
              0.3333333333333333,
              "#9c179e"
             ],
             [
              0.4444444444444444,
              "#bd3786"
             ],
             [
              0.5555555555555556,
              "#d8576b"
             ],
             [
              0.6666666666666666,
              "#ed7953"
             ],
             [
              0.7777777777777778,
              "#fb9f3a"
             ],
             [
              0.8888888888888888,
              "#fdca26"
             ],
             [
              1,
              "#f0f921"
             ]
            ],
            "type": "surface"
           }
          ],
          "table": [
           {
            "cells": {
             "fill": {
              "color": "#EBF0F8"
             },
             "line": {
              "color": "white"
             }
            },
            "header": {
             "fill": {
              "color": "#C8D4E3"
             },
             "line": {
              "color": "white"
             }
            },
            "type": "table"
           }
          ]
         },
         "layout": {
          "annotationdefaults": {
           "arrowcolor": "#2a3f5f",
           "arrowhead": 0,
           "arrowwidth": 1
          },
          "autotypenumbers": "strict",
          "coloraxis": {
           "colorbar": {
            "outlinewidth": 0,
            "ticks": ""
           }
          },
          "colorscale": {
           "diverging": [
            [
             0,
             "#8e0152"
            ],
            [
             0.1,
             "#c51b7d"
            ],
            [
             0.2,
             "#de77ae"
            ],
            [
             0.3,
             "#f1b6da"
            ],
            [
             0.4,
             "#fde0ef"
            ],
            [
             0.5,
             "#f7f7f7"
            ],
            [
             0.6,
             "#e6f5d0"
            ],
            [
             0.7,
             "#b8e186"
            ],
            [
             0.8,
             "#7fbc41"
            ],
            [
             0.9,
             "#4d9221"
            ],
            [
             1,
             "#276419"
            ]
           ],
           "sequential": [
            [
             0,
             "#0d0887"
            ],
            [
             0.1111111111111111,
             "#46039f"
            ],
            [
             0.2222222222222222,
             "#7201a8"
            ],
            [
             0.3333333333333333,
             "#9c179e"
            ],
            [
             0.4444444444444444,
             "#bd3786"
            ],
            [
             0.5555555555555556,
             "#d8576b"
            ],
            [
             0.6666666666666666,
             "#ed7953"
            ],
            [
             0.7777777777777778,
             "#fb9f3a"
            ],
            [
             0.8888888888888888,
             "#fdca26"
            ],
            [
             1,
             "#f0f921"
            ]
           ],
           "sequentialminus": [
            [
             0,
             "#0d0887"
            ],
            [
             0.1111111111111111,
             "#46039f"
            ],
            [
             0.2222222222222222,
             "#7201a8"
            ],
            [
             0.3333333333333333,
             "#9c179e"
            ],
            [
             0.4444444444444444,
             "#bd3786"
            ],
            [
             0.5555555555555556,
             "#d8576b"
            ],
            [
             0.6666666666666666,
             "#ed7953"
            ],
            [
             0.7777777777777778,
             "#fb9f3a"
            ],
            [
             0.8888888888888888,
             "#fdca26"
            ],
            [
             1,
             "#f0f921"
            ]
           ]
          },
          "colorway": [
           "#636efa",
           "#EF553B",
           "#00cc96",
           "#ab63fa",
           "#FFA15A",
           "#19d3f3",
           "#FF6692",
           "#B6E880",
           "#FF97FF",
           "#FECB52"
          ],
          "font": {
           "color": "#2a3f5f"
          },
          "geo": {
           "bgcolor": "white",
           "lakecolor": "white",
           "landcolor": "#E5ECF6",
           "showlakes": true,
           "showland": true,
           "subunitcolor": "white"
          },
          "hoverlabel": {
           "align": "left"
          },
          "hovermode": "closest",
          "mapbox": {
           "style": "light"
          },
          "paper_bgcolor": "white",
          "plot_bgcolor": "#E5ECF6",
          "polar": {
           "angularaxis": {
            "gridcolor": "white",
            "linecolor": "white",
            "ticks": ""
           },
           "bgcolor": "#E5ECF6",
           "radialaxis": {
            "gridcolor": "white",
            "linecolor": "white",
            "ticks": ""
           }
          },
          "scene": {
           "xaxis": {
            "backgroundcolor": "#E5ECF6",
            "gridcolor": "white",
            "gridwidth": 2,
            "linecolor": "white",
            "showbackground": true,
            "ticks": "",
            "zerolinecolor": "white"
           },
           "yaxis": {
            "backgroundcolor": "#E5ECF6",
            "gridcolor": "white",
            "gridwidth": 2,
            "linecolor": "white",
            "showbackground": true,
            "ticks": "",
            "zerolinecolor": "white"
           },
           "zaxis": {
            "backgroundcolor": "#E5ECF6",
            "gridcolor": "white",
            "gridwidth": 2,
            "linecolor": "white",
            "showbackground": true,
            "ticks": "",
            "zerolinecolor": "white"
           }
          },
          "shapedefaults": {
           "line": {
            "color": "#2a3f5f"
           }
          },
          "ternary": {
           "aaxis": {
            "gridcolor": "white",
            "linecolor": "white",
            "ticks": ""
           },
           "baxis": {
            "gridcolor": "white",
            "linecolor": "white",
            "ticks": ""
           },
           "bgcolor": "#E5ECF6",
           "caxis": {
            "gridcolor": "white",
            "linecolor": "white",
            "ticks": ""
           }
          },
          "title": {
           "x": 0.05
          },
          "xaxis": {
           "automargin": true,
           "gridcolor": "white",
           "linecolor": "white",
           "ticks": "",
           "title": {
            "standoff": 15
           },
           "zerolinecolor": "white",
           "zerolinewidth": 2
          },
          "yaxis": {
           "automargin": true,
           "gridcolor": "white",
           "linecolor": "white",
           "ticks": "",
           "title": {
            "standoff": 15
           },
           "zerolinecolor": "white",
           "zerolinewidth": 2
          }
         }
        },
        "title": {
         "text": "materials collected from hubs (tons) for D"
        },
        "width": 500
       }
      },
      "image/png": "[encoded data removed]",
      "text/html": [
       "<div>                            <div id=\"7efc593b-1ca6-40a7-aa1a-2e5ad27181e1\" class=\"plotly-graph-div\" style=\"height:500px; width:500px;\"></div>            <script type=\"text/javascript\">                require([\"plotly\"], function(Plotly) {                    window.PLOTLYENV=window.PLOTLYENV || {};                                    if (document.getElementById(\"7efc593b-1ca6-40a7-aa1a-2e5ad27181e1\")) {                    Plotly.newPlot(                        \"7efc593b-1ca6-40a7-aa1a-2e5ad27181e1\",                        [{\"domain\":{\"x\":[0.0,1.0],\"y\":[0.0,1.0]},\"hovertemplate\":\"collectFrom=%{label}<br>tons=%{value}<extra></extra>\",\"labels\":[\"from suppliers to site\",\"from suppliers to site\",\"from demSites to hub\",\"from suppliers to site\",\"from suppliers to site\",\"from demSites to hub\",\"from demSites to hub\",\"from demSites to hub\",\"from suppliers to site\",\"from suppliers to site\",\"from demSites to hub\",\"from demSites to hub\",\"from demSites to hub\",\"from demSites to hub\",\"from demSites to hub\",\"from demSites to hub\"],\"legendgroup\":\"\",\"name\":\"\",\"showlegend\":true,\"values\":[26580.0,300.0,2215.0,9360.0,38020.0,1328.55,361.7,538.0,253.00000000000003,3128.4,1594.0,8922.0,5975.0,113.45,19.0,328.0],\"type\":\"pie\"}],                        {\"template\":{\"data\":{\"histogram2dcontour\":[{\"type\":\"histogram2dcontour\",\"colorbar\":{\"outlinewidth\":0,\"ticks\":\"\"},\"colorscale\":[[0.0,\"#0d0887\"],[0.1111111111111111,\"#46039f\"],[0.2222222222222222,\"#7201a8\"],[0.3333333333333333,\"#9c179e\"],[0.4444444444444444,\"#bd3786\"],[0.5555555555555556,\"#d8576b\"],[0.6666666666666666,\"#ed7953\"],[0.7777777777777778,\"#fb9f3a\"],[0.8888888888888888,\"#fdca26\"],[1.0,\"#f0f921\"]]}],\"choropleth\":[{\"type\":\"choropleth\",\"colorbar\":{\"outlinewidth\":0,\"ticks\":\"\"}}],\"histogram2d\":[{\"type\":\"histogram2d\",\"colorbar\":{\"outlinewidth\":0,\"ticks\":\"\"},\"colorscale\":[[0.0,\"#0d0887\"],[0.1111111111111111,\"#46039f\"],[0.2222222222222222,\"#7201a8\"],[0.3333333333333333,\"#9c179e\"],[0.4444444444444444,\"#bd3786\"],[0.5555555555555556,\"#d8576b\"],[0.6666666666666666,\"#ed7953\"],[0.7777777777777778,\"#fb9f3a\"],[0.8888888888888888,\"#fdca26\"],[1.0,\"#f0f921\"]]}],\"heatmap\":[{\"type\":\"heatmap\",\"colorbar\":{\"outlinewidth\":0,\"ticks\":\"\"},\"colorscale\":[[0.0,\"#0d0887\"],[0.1111111111111111,\"#46039f\"],[0.2222222222222222,\"#7201a8\"],[0.3333333333333333,\"#9c179e\"],[0.4444444444444444,\"#bd3786\"],[0.5555555555555556,\"#d8576b\"],[0.6666666666666666,\"#ed7953\"],[0.7777777777777778,\"#fb9f3a\"],[0.8888888888888888,\"#fdca26\"],[1.0,\"#f0f921\"]]}],\"heatmapgl\":[{\"type\":\"heatmapgl\",\"colorbar\":{\"outlinewidth\":0,\"ticks\":\"\"},\"colorscale\":[[0.0,\"#0d0887\"],[0.1111111111111111,\"#46039f\"],[0.2222222222222222,\"#7201a8\"],[0.3333333333333333,\"#9c179e\"],[0.4444444444444444,\"#bd3786\"],[0.5555555555555556,\"#d8576b\"],[0.6666666666666666,\"#ed7953\"],[0.7777777777777778,\"#fb9f3a\"],[0.8888888888888888,\"#fdca26\"],[1.0,\"#f0f921\"]]}],\"contourcarpet\":[{\"type\":\"contourcarpet\",\"colorbar\":{\"outlinewidth\":0,\"ticks\":\"\"}}],\"contour\":[{\"type\":\"contour\",\"colorbar\":{\"outlinewidth\":0,\"ticks\":\"\"},\"colorscale\":[[0.0,\"#0d0887\"],[0.1111111111111111,\"#46039f\"],[0.2222222222222222,\"#7201a8\"],[0.3333333333333333,\"#9c179e\"],[0.4444444444444444,\"#bd3786\"],[0.5555555555555556,\"#d8576b\"],[0.6666666666666666,\"#ed7953\"],[0.7777777777777778,\"#fb9f3a\"],[0.8888888888888888,\"#fdca26\"],[1.0,\"#f0f921\"]]}],\"surface\":[{\"type\":\"surface\",\"colorbar\":{\"outlinewidth\":0,\"ticks\":\"\"},\"colorscale\":[[0.0,\"#0d0887\"],[0.1111111111111111,\"#46039f\"],[0.2222222222222222,\"#7201a8\"],[0.3333333333333333,\"#9c179e\"],[0.4444444444444444,\"#bd3786\"],[0.5555555555555556,\"#d8576b\"],[0.6666666666666666,\"#ed7953\"],[0.7777777777777778,\"#fb9f3a\"],[0.8888888888888888,\"#fdca26\"],[1.0,\"#f0f921\"]]}],\"mesh3d\":[{\"type\":\"mesh3d\",\"colorbar\":{\"outlinewidth\":0,\"ticks\":\"\"}}],\"scatter\":[{\"fillpattern\":{\"fillmode\":\"overlay\",\"size\":10,\"solidity\":0.2},\"type\":\"scatter\"}],\"parcoords\":[{\"type\":\"parcoords\",\"line\":{\"colorbar\":{\"outlinewidth\":0,\"ticks\":\"\"}}}],\"scatterpolargl\":[{\"type\":\"scatterpolargl\",\"marker\":{\"colorbar\":{\"outlinewidth\":0,\"ticks\":\"\"}}}],\"bar\":[{\"error_x\":{\"color\":\"#2a3f5f\"},\"error_y\":{\"color\":\"#2a3f5f\"},\"marker\":{\"line\":{\"color\":\"#E5ECF6\",\"width\":0.5},\"pattern\":{\"fillmode\":\"overlay\",\"size\":10,\"solidity\":0.2}},\"type\":\"bar\"}],\"scattergeo\":[{\"type\":\"scattergeo\",\"marker\":{\"colorbar\":{\"outlinewidth\":0,\"ticks\":\"\"}}}],\"scatterpolar\":[{\"type\":\"scatterpolar\",\"marker\":{\"colorbar\":{\"outlinewidth\":0,\"ticks\":\"\"}}}],\"histogram\":[{\"marker\":{\"pattern\":{\"fillmode\":\"overlay\",\"size\":10,\"solidity\":0.2}},\"type\":\"histogram\"}],\"scattergl\":[{\"type\":\"scattergl\",\"marker\":{\"colorbar\":{\"outlinewidth\":0,\"ticks\":\"\"}}}],\"scatter3d\":[{\"type\":\"scatter3d\",\"line\":{\"colorbar\":{\"outlinewidth\":0,\"ticks\":\"\"}},\"marker\":{\"colorbar\":{\"outlinewidth\":0,\"ticks\":\"\"}}}],\"scattermapbox\":[{\"type\":\"scattermapbox\",\"marker\":{\"colorbar\":{\"outlinewidth\":0,\"ticks\":\"\"}}}],\"scatterternary\":[{\"type\":\"scatterternary\",\"marker\":{\"colorbar\":{\"outlinewidth\":0,\"ticks\":\"\"}}}],\"scattercarpet\":[{\"type\":\"scattercarpet\",\"marker\":{\"colorbar\":{\"outlinewidth\":0,\"ticks\":\"\"}}}],\"carpet\":[{\"aaxis\":{\"endlinecolor\":\"#2a3f5f\",\"gridcolor\":\"white\",\"linecolor\":\"white\",\"minorgridcolor\":\"white\",\"startlinecolor\":\"#2a3f5f\"},\"baxis\":{\"endlinecolor\":\"#2a3f5f\",\"gridcolor\":\"white\",\"linecolor\":\"white\",\"minorgridcolor\":\"white\",\"startlinecolor\":\"#2a3f5f\"},\"type\":\"carpet\"}],\"table\":[{\"cells\":{\"fill\":{\"color\":\"#EBF0F8\"},\"line\":{\"color\":\"white\"}},\"header\":{\"fill\":{\"color\":\"#C8D4E3\"},\"line\":{\"color\":\"white\"}},\"type\":\"table\"}],\"barpolar\":[{\"marker\":{\"line\":{\"color\":\"#E5ECF6\",\"width\":0.5},\"pattern\":{\"fillmode\":\"overlay\",\"size\":10,\"solidity\":0.2}},\"type\":\"barpolar\"}],\"pie\":[{\"automargin\":true,\"type\":\"pie\"}]},\"layout\":{\"autotypenumbers\":\"strict\",\"colorway\":[\"#636efa\",\"#EF553B\",\"#00cc96\",\"#ab63fa\",\"#FFA15A\",\"#19d3f3\",\"#FF6692\",\"#B6E880\",\"#FF97FF\",\"#FECB52\"],\"font\":{\"color\":\"#2a3f5f\"},\"hovermode\":\"closest\",\"hoverlabel\":{\"align\":\"left\"},\"paper_bgcolor\":\"white\",\"plot_bgcolor\":\"#E5ECF6\",\"polar\":{\"bgcolor\":\"#E5ECF6\",\"angularaxis\":{\"gridcolor\":\"white\",\"linecolor\":\"white\",\"ticks\":\"\"},\"radialaxis\":{\"gridcolor\":\"white\",\"linecolor\":\"white\",\"ticks\":\"\"}},\"ternary\":{\"bgcolor\":\"#E5ECF6\",\"aaxis\":{\"gridcolor\":\"white\",\"linecolor\":\"white\",\"ticks\":\"\"},\"baxis\":{\"gridcolor\":\"white\",\"linecolor\":\"white\",\"ticks\":\"\"},\"caxis\":{\"gridcolor\":\"white\",\"linecolor\":\"white\",\"ticks\":\"\"}},\"coloraxis\":{\"colorbar\":{\"outlinewidth\":0,\"ticks\":\"\"}},\"colorscale\":{\"sequential\":[[0.0,\"#0d0887\"],[0.1111111111111111,\"#46039f\"],[0.2222222222222222,\"#7201a8\"],[0.3333333333333333,\"#9c179e\"],[0.4444444444444444,\"#bd3786\"],[0.5555555555555556,\"#d8576b\"],[0.6666666666666666,\"#ed7953\"],[0.7777777777777778,\"#fb9f3a\"],[0.8888888888888888,\"#fdca26\"],[1.0,\"#f0f921\"]],\"sequentialminus\":[[0.0,\"#0d0887\"],[0.1111111111111111,\"#46039f\"],[0.2222222222222222,\"#7201a8\"],[0.3333333333333333,\"#9c179e\"],[0.4444444444444444,\"#bd3786\"],[0.5555555555555556,\"#d8576b\"],[0.6666666666666666,\"#ed7953\"],[0.7777777777777778,\"#fb9f3a\"],[0.8888888888888888,\"#fdca26\"],[1.0,\"#f0f921\"]],\"diverging\":[[0,\"#8e0152\"],[0.1,\"#c51b7d\"],[0.2,\"#de77ae\"],[0.3,\"#f1b6da\"],[0.4,\"#fde0ef\"],[0.5,\"#f7f7f7\"],[0.6,\"#e6f5d0\"],[0.7,\"#b8e186\"],[0.8,\"#7fbc41\"],[0.9,\"#4d9221\"],[1,\"#276419\"]]},\"xaxis\":{\"gridcolor\":\"white\",\"linecolor\":\"white\",\"ticks\":\"\",\"title\":{\"standoff\":15},\"zerolinecolor\":\"white\",\"automargin\":true,\"zerolinewidth\":2},\"yaxis\":{\"gridcolor\":\"white\",\"linecolor\":\"white\",\"ticks\":\"\",\"title\":{\"standoff\":15},\"zerolinecolor\":\"white\",\"automargin\":true,\"zerolinewidth\":2},\"scene\":{\"xaxis\":{\"backgroundcolor\":\"#E5ECF6\",\"gridcolor\":\"white\",\"linecolor\":\"white\",\"showbackground\":true,\"ticks\":\"\",\"zerolinecolor\":\"white\",\"gridwidth\":2},\"yaxis\":{\"backgroundcolor\":\"#E5ECF6\",\"gridcolor\":\"white\",\"linecolor\":\"white\",\"showbackground\":true,\"ticks\":\"\",\"zerolinecolor\":\"white\",\"gridwidth\":2},\"zaxis\":{\"backgroundcolor\":\"#E5ECF6\",\"gridcolor\":\"white\",\"linecolor\":\"white\",\"showbackground\":true,\"ticks\":\"\",\"zerolinecolor\":\"white\",\"gridwidth\":2}},\"shapedefaults\":{\"line\":{\"color\":\"#2a3f5f\"}},\"annotationdefaults\":{\"arrowcolor\":\"#2a3f5f\",\"arrowhead\":0,\"arrowwidth\":1},\"geo\":{\"bgcolor\":\"white\",\"landcolor\":\"#E5ECF6\",\"subunitcolor\":\"white\",\"showland\":true,\"showlakes\":true,\"lakecolor\":\"white\"},\"title\":{\"x\":0.05},\"mapbox\":{\"style\":\"light\"}}},\"legend\":{\"tracegroupgap\":0},\"title\":{\"text\":\"materials collected from hubs (tons) for D\"},\"height\":500,\"width\":500},                        {\"responsive\": true}                    ).then(function(){\n",
       "                            \n",
       "var gd = document.getElementById('7efc593b-1ca6-40a7-aa1a-2e5ad27181e1');\n",
       "var x = new MutationObserver(function (mutations, observer) {{\n",
       "        var display = window.getComputedStyle(gd).display;\n",
       "        if (!display || display === 'none') {{\n",
       "            console.log([gd, 'removed!']);\n",
       "            Plotly.purge(gd);\n",
       "            observer.disconnect();\n",
       "        }}\n",
       "}});\n",
       "\n",
       "// Listen for the removal of the full notebook cells\n",
       "var notebookContainer = gd.closest('#notebook-container');\n",
       "if (notebookContainer) {{\n",
       "    x.observe(notebookContainer, {childList: true});\n",
       "}}\n",
       "\n",
       "// Listen for the clearing of the current output cell\n",
       "var outputEl = gd.closest('.output');\n",
       "if (outputEl) {{\n",
       "    x.observe(outputEl, {childList: true});\n",
       "}}\n",
       "\n",
       "                        })                };                });            </script>        </div>"
      ]
     },
     "metadata": {},
     "output_type": "display_data"
    }
   ],
   "source": [
    "def make_collecFrom_df(buildingType): \n",
    "    df = model.build_info\n",
    "    df = df[(df.biobased_type == 'none') & (df.buildingType == buildingType) & (df.material != 'modules')]\n",
    "    def decide_collectFrom(row):\n",
    "        circular_strucTypes = ['structural', 'non-structural', 'foundation']\n",
    "        row['collectFrom'] = 'from demSites to hub' if row.structural_type in circular_strucTypes else 'from suppliers to hub'\n",
    "        if row.material in ['cement_cover-floor', 'concrete_in-situ', 'concrete_prefab', 'gravel_sand']: \n",
    "            row['collectFrom'] = 'from suppliers to site' \n",
    "        return row \n",
    "    df = df.apply(lambda row: decide_collectFrom(row), axis=1)\n",
    "    df = df[~df.tons.isna()]\n",
    "    return df\n",
    "\n",
    "buildingType = 'B'\n",
    "for buildingType in ['B', 'C', 'D']: \n",
    "    df = make_collecFrom_df(buildingType)\n",
    "    fig = px.pie(df, values='tons', names='collectFrom', title=f'materials collected from hubs (tons) for {buildingType}', height=500, width=500)\n",
    "    fig.show()"
   ]
  },
  {
   "cell_type": "code",
   "execution_count": null,
   "id": "acff811f-a9d2-4871-9425-392291fb8fad",
   "metadata": {},
   "outputs": [],
   "source": []
  },
  {
   "cell_type": "code",
   "execution_count": null,
   "id": "7d71f76e-a21e-4b62-845a-0d8252c9cc3a",
   "metadata": {},
   "outputs": [],
   "source": []
  },
  {
   "cell_type": "code",
   "execution_count": null,
   "id": "33d398bf-2c19-4d61-ba12-6235abd38773",
   "metadata": {},
   "outputs": [],
   "source": []
  },
  {
   "cell_type": "code",
   "execution_count": null,
   "id": "b25f5b82-010b-4736-b81b-dbbdab1e7d52",
   "metadata": {},
   "outputs": [],
   "source": []
  },
  {
   "cell_type": "code",
   "execution_count": null,
   "id": "1f503e1c-fe14-4112-a666-b6dcc22fe071",
   "metadata": {},
   "outputs": [],
   "source": []
  },
  {
   "cell_type": "code",
   "execution_count": null,
   "id": "33d200b0-acd0-43d0-a7c7-cc9b371c4fe1",
   "metadata": {},
   "outputs": [],
   "source": []
  },
  {
   "cell_type": "code",
   "execution_count": null,
   "id": "7e9c5bb4-b60d-414b-98d9-b0815a695282",
   "metadata": {},
   "outputs": [],
   "source": []
  },
  {
   "cell_type": "code",
   "execution_count": 10,
   "id": "448771f8-11bd-44a6-9d74-26e9c52845f6",
   "metadata": {},
   "outputs": [],
   "source": [
    "# def test_run(): \n",
    "#     parameters_dict = {}\n",
    "#     for name in dropdowns.keys(): \n",
    "#         parameters_dict[name] = dropdowns[name].value\n",
    "\n",
    "#     for key, value in parameters_dict.items():\n",
    "#         if key in params_conversion:\n",
    "#             parameters_dict[key] = params_conversion[key][value]\n",
    "\n",
    "#     # create and run model \n",
    "#     model = Model(parameters_dict)\n",
    "#     for i in range(10): \n",
    "#         model.step()\n",
    "\n",
    "#     emissions_text, fig_emissions, fig_materials, map_html = model.visualize()\n",
    "\n",
    "#     # visualize as widgets\n",
    "#     print(emissions_text)\n",
    "\n",
    "#     fig_widget_emissions = widgets.Output(layout=widgets.Layout())\n",
    "#     fig_widget_materials = widgets.Output(layout=widgets.Layout()) \n",
    "#     with fig_widget_emissions:\n",
    "#         fig_emissions.show()\n",
    "#     with fig_widget_materials: \n",
    "#         fig_materials.show()\n",
    "\n",
    "#     v_box = widgets.VBox([fig_widget_emissions, fig_widget_materials], layout=widgets.Layout(width='30%', height='600px'))\n",
    "\n",
    "#     map_widget = widgets.HTML(map_html, layout=widgets.Layout(width='70%'))\n",
    "#     h_box = widgets.HBox([v_box, map_widget])\n",
    "#     display(h_box)"
   ]
  },
  {
   "cell_type": "code",
   "execution_count": 9,
   "id": "22d7fd09-0499-4571-9810-49903f314600",
   "metadata": {},
   "outputs": [],
   "source": [
    "# %%time\n",
    "# def profiled_run():\n",
    "#     test_run()\n",
    "# profiler = cProfile.Profile()\n",
    "# profiler.enable()\n",
    "# profiled_run()  # This will run the on_button_clicked function.\n",
    "# profiler.disable()\n",
    "# profiler.dump_stats(\"profile_results.prof\")\n",
    "# profiler.print_stats()"
   ]
  },
  {
   "cell_type": "code",
   "execution_count": 1,
   "id": "6ce473d7-81f3-418c-ab77-f04cc71c4952",
   "metadata": {
    "tags": []
   },
   "outputs": [],
   "source": [
    "# # export for casper and eric \n",
    "\n",
    "# # folium map\n",
    "# # roads used\n",
    "# roads_used = model.roads_used\n",
    "# # demolition sites\n",
    "# demolition_sites = model.demolition_sites_df\n",
    "# # hubs (macro only for now)\n",
    "# hubs = gpd.read_file('data/data_cleaned/hubs.shp')\n",
    "# # construction sites \n",
    "# construction_sites = gpd.read_file('data/data_cleaned/construction_sites.shp')\n",
    "# # suppliers\n",
    "# suppliers = gpd.read_file('data/data_cleaned/suppliers.shp')\n",
    "\n",
    "# # emissions chart \n",
    "# # csv of emissions over time \n",
    "# emissions = model.datacollector.get_model_vars_dataframe()\n",
    "\n",
    "# # materials chart\n",
    "# # csv of materials used \n",
    "# df_materials_byType = model.df_mat\n",
    "# # csv of circular materials used \n",
    "# df_materials_byCirc = model.df_circ\n",
    "\n",
    "# # folium map\n",
    "# roads_used.to_file('results/folium_roadsUsed.shp')\n",
    "# demolition_sites.to_file('results/folium_demolitionSites.shp')\n",
    "# construction_sites.to_file('results/folium_constructionSites.shp')\n",
    "# hubs.to_file('results/folium_hubs.shp')\n",
    "# suppliers.to_file('results/folium_suppliers.shp')\n",
    "\n",
    "# # charts\n",
    "# emissions.to_csv('results/chart_line_emissions.csv')\n",
    "# df_materials_byType.to_csv('results/charts__pie_materialsByType.csv')\n",
    "# df_materials_byCirc.to_csv('results/charts_pie_materialsByCircularity.csv')"
   ]
  },
  {
   "cell_type": "code",
   "execution_count": null,
   "id": "e0443099-cd66-455a-a042-4a84e7958e2b",
   "metadata": {},
   "outputs": [],
   "source": []
  }
 ],
 "metadata": {
  "kernelspec": {
   "display_name": "Python 3 (ipykernel)",
   "language": "python",
   "name": "python3"
  },
  "language_info": {
   "codemirror_mode": {
    "name": "ipython",
    "version": 3
   },
   "file_extension": ".py",
   "mimetype": "text/x-python",
   "name": "python",
   "nbconvert_exporter": "python",
   "pygments_lexer": "ipython3",
   "version": "3.11.0"
  },
  "toc-autonumbering": false,
  "toc-showcode": false,
  "toc-showmarkdowntxt": false,
  "toc-showtags": false
 },
 "nbformat": 4,
 "nbformat_minor": 5
}
