{
 "cells": [
  {
   "cell_type": "code",
   "execution_count": 65,
   "id": "2070e485-c622-4da1-8257-2219677fd6d9",
   "metadata": {},
   "outputs": [],
   "source": [
    "from mesa import Agent, Model\n",
    "from mesa.time import RandomActivation, BaseScheduler\n",
    "import pandas as pd\n",
    "import geopandas as gpd\n",
    "import shapely\n",
    "from shapely.geometry import Polygon, Point, MultiPoint\n",
    "import math\n",
    "import matplotlib.pyplot as plt\n",
    "import numpy as np\n",
    "from numpy import exp\n",
    "from numpy.random import rand, seed\n",
    "import folium\n",
    "import random \n",
    "from haversine import haversine\n",
    "import plotly.express as px\n",
    "pd.options.mode.chained_assignment = None  # default='warn'"
   ]
  },
  {
   "cell_type": "code",
   "execution_count": 66,
   "id": "4ee1c4a3-8b95-4048-9c3f-1bfc3c96fd7c",
   "metadata": {},
   "outputs": [],
   "source": [
    "class ConstructionSite(Agent): \n",
    "    def __init__(self, unique_id, model, buildingType, coords, inA10):\n",
    "        super().__init__(unique_id, model)\n",
    "        self.buildingType = buildingType # A, B, C...etc. \n",
    "        self.coords = coords \n",
    "        self.inA10 = inA10 # True or False \n",
    "        self.materials_request = {}\n",
    "        self.materials_received = {}\n",
    "        \n",
    "        if self.model.hub_network == 'decentralized': \n",
    "            self.nearestMicroHub_id = 0 \n",
    "            self.nearestMicroHub_dist = 0 \n",
    "        self.nearestMacroHub_id = 0 \n",
    "        self.nearestMacroHub_dist = 0 \n",
    "        \n",
    "        self.calc_materials_required()\n",
    "            \n",
    "    def calc_materials_required(self): \n",
    "        materials_required = {}\n",
    "        b = self.model.build_info.copy()\n",
    "        b = b[(b.buildingType == self.buildingType) & \n",
    "              (b.biobased == self.model.biobased_type)] \n",
    "        \n",
    "        if self.model.modularity_type == 'none': \n",
    "            mat_list = self.model.materials_list.copy()\n",
    "            mat_list.remove('modules')\n",
    "            materials_required = dict.fromkeys(mat_list,0)\n",
    "            for mat in mat_list: \n",
    "                for strucType in ['structural', 'nonstructural']: \n",
    "                    b1 = b[b.strucType == strucType]\n",
    "                    materials_required[mat] += b1[mat].iloc[0]\n",
    "        else: \n",
    "            mat_list = self.model.materials_list.copy() \n",
    "            materials_required = dict.fromkeys(mat_list,0)\n",
    "            for mat in mat_list: \n",
    "                b1 = b[b.strucType == 'structural']\n",
    "                materials_required[mat] += b1[mat].iloc[0]\n",
    "                \n",
    "        self.materials_required = materials_required\n",
    "        self.materials_received = dict.fromkeys(materials_required.keys(), 0)\n",
    "        \n",
    "    def step(self): \n",
    "        self.list_materials_toRequest()\n",
    "        self.request_materials()\n",
    "    \n",
    "    def list_materials_toRequest(self): \n",
    "        materials_toRequest = []\n",
    "        for mat in self.materials_required.keys():  \n",
    "            mat_required = self.materials_required[mat]\n",
    "            mat_received = self.materials_received[mat]\n",
    "            if mat_received < mat_required: \n",
    "                materials_toRequest.append(mat)\n",
    "        self.materials_toRequest_list = materials_toRequest\n",
    "        # if not materials_toRequest: \n",
    "        #     print(f'site {self.unique_id} has received all materials')\n",
    "        \n",
    "    def request_materials(self):\n",
    "        material_request = {}\n",
    "        for mat in self.materials_toRequest_list:\n",
    "            mat_required = self.materials_required[mat]\n",
    "            mat_received = self.materials_received[mat] \n",
    "            mat_stillNeeded = mat_required - mat_received\n",
    "            mat_request = mat_required * random.uniform(0.1, 0.2)\n",
    "            mat_request = mat_request if mat_request < mat_stillNeeded else mat_stillNeeded \n",
    "            material_request[mat] = mat_request\n",
    "        self.materials_request = material_request\n",
    "\n",
    "class Hub(Agent):\n",
    "    def __init__(self, unique_id, model, hubType, coords, inA10):\n",
    "        super().__init__(unique_id, model)\n",
    "        self.hubType = hubType # macro or micro \n",
    "        self.coords = coords\n",
    "        self.inA10 = inA10\n",
    "        self.nearestMacroHub_id = None\n",
    "        self.nearestMacroHub_dist = None\n",
    "        \n",
    "        self.materials_toSend = {}\n",
    "        self.nTrips = {}\n",
    "        self.materials_request = {}\n",
    "        self.materials_received = dict.fromkeys(self.model.materials_list, 0)\n",
    "        \n",
    "        self.suppliers = {}\n",
    "        self.clients = {}\n",
    "        self.trucks_toSite = []\n",
    "        self.vehicles_toSupplier = []\n",
    "                                \n",
    "    def step(self):\n",
    "        self.find_clients()\n",
    "        if self.clients: # if hub has clients: \n",
    "            self.calc_materials_toSend() # to each site / microHub\n",
    "            self.make_materials_request() # for suppliers or macroHubs \n",
    "            self.find_suppliers()\n",
    "            self.collect_materials_fromSupplier() # collect materials from suppliers / macroHub\n",
    "            if self.model.hub_network == 'decentralized' and self.hubType == 'micro': \n",
    "                self.send_materials_toClient() \n",
    "            elif self.model.hub_network == 'centralized': \n",
    "                self.send_materials_toClient() \n",
    "        \n",
    "    def find_clients(self): \n",
    "        '''self.clients = {id: {'agent': agentObject, 'distance': 14312}, ... etc}'''\n",
    "        clients_dict = {} \n",
    "        if self.model.hub_network == 'decentralized': \n",
    "            if self.hubType == 'macro': \n",
    "                microHubs = [hub for hub in self.model.hubs if hub.hubType == 'micro']\n",
    "                clients = [hub for hub in microHubs if hub.nearestMacroHub_id == self.unique_id]\n",
    "                for client in clients: \n",
    "                    clients_dict[client.unique_id] = {'agent': client, 'distance': client.nearestMacroHub_dist}\n",
    "            elif self.hubType == 'micro': \n",
    "                sites = self.model.construction_sites\n",
    "                clients = [site for site in sites if site.nearestMicroHub_id == self.unique_id]\n",
    "                for client in clients: \n",
    "                    clients_dict[client.unique_id] = {'agent': client, 'distance': client.nearestMicroHub_dist}\n",
    "        elif self.model.hub_network == 'centralized': \n",
    "            sites = self.model.construction_sites\n",
    "            clients = [site for site in sites if site.nearestMacroHub_id == self.unique_id]\n",
    "            for client in clients: \n",
    "                clients_dict[client.unique_id] = {'agent': client, 'distance': client.nearestMacroHub_dist}\n",
    "        self.clients = clients_dict\n",
    "                \n",
    "    def calc_materials_toSend(self): \n",
    "        '''self.materials_toSend = {site_id: {'timber': 123, 'concrete': 345}, ... etc}'''\n",
    "        clients_dict = self.clients\n",
    "        mat_to_send = {}\n",
    "        for client_id in self.clients.keys():\n",
    "            client = self.clients[client_id]['agent']\n",
    "            if sum(client.materials_request.values()) > 0: \n",
    "                mat_to_send[client_id] = client.materials_request\n",
    "        self.materials_toSend = mat_to_send\n",
    "                \n",
    "    def make_materials_request(self):\n",
    "        '''self.materials_request = {'timber': 3421, 'concrete': 8723, 'modules': 13, ... etc}'''\n",
    "        material_request = {}\n",
    "        for site_id, mat_amounts in self.materials_toSend.items():\n",
    "            for mat, amount in mat_amounts.items(): \n",
    "                try: \n",
    "                    material_request[mat] += amount \n",
    "                except: \n",
    "                    material_request[mat] = 0\n",
    "                    material_request[mat] += amount \n",
    "        self.materials_request = material_request\n",
    "\n",
    "    def find_suppliers(self): \n",
    "        '''self.suppliers = {'timber': {'agent': agentObject, 'distance': 14312}, ... etc}'''\n",
    "        self.suppliers = {}\n",
    "        for mat in self.materials_request.keys(): \n",
    "            self.suppliers[mat] = {}\n",
    "            if self.hubType == 'macro': \n",
    "                supplier = [s for s in self.model.suppliers if s.material == mat][0]\n",
    "                self.suppliers[mat]['agent'] = supplier \n",
    "                self.suppliers[mat]['distance'] = supplier.distance_fromAms\n",
    "            elif self.hubType == 'micro': \n",
    "                macroHubs = [h for h in self.model.hubs if h.hubType == 'macro']\n",
    "                supplier = [h for h in macroHubs if h.unique_id == self.nearestMacroHub_id][0]\n",
    "                self.suppliers[mat]['agent'] = supplier\n",
    "                self.suppliers[mat]['distance'] = self.nearestMacroHub_dist \n",
    "            \n",
    "    def collect_materials_fromSupplier(self): \n",
    "        '''\n",
    "        self.model.emissions_s2h (float) = emissions from vehicle going to supplier and back\n",
    "        self.materials_received (dict) = {'timber': 123, 'concrete': 456 ... etc} \n",
    "        '''\n",
    "        for mat, amount in self.materials_request.items(): \n",
    "            supplier = self.suppliers[mat]['agent']\n",
    "            distance = self.suppliers[mat]['distance']\n",
    "            if self.hubType == 'macro': \n",
    "                vehicle = self.model.vehicles_international[0]\n",
    "            elif self.hubType == 'micro': \n",
    "                trucks = self.model.trucks_urban\n",
    "                vehicle = [t for t in trucks if t.truck_type == self.model.truck_type][0]\n",
    "            capacity = vehicle.capacity[mat]\n",
    "            emissions_perKm = vehicle.emissions_perKm \n",
    "            nTrips = math.ceil(amount / capacity)\n",
    "            \n",
    "            self.model.emissions_s2h += emissions_perKm * distance * nTrips * 2\n",
    "            self.materials_received[mat] += amount\n",
    "        \n",
    "    def send_materials_toClient(self): \n",
    "        trucks = self.model.trucks_urban\n",
    "        truck = [t for t in trucks if t.truck_type == self.model.truck_type][0]\n",
    "        emissions_perKm = truck.emissions_perKm\n",
    "        \n",
    "        for client_id, mat_amounts in self.materials_toSend.items(): \n",
    "            client = self.clients[client_id]['agent']\n",
    "            distance = self.clients[client_id]['distance']\n",
    "            for mat, amount in mat_amounts.items(): \n",
    "                capacity = truck.capacity[mat]\n",
    "                nTrips = math.ceil(amount / capacity)\n",
    "                emissions = emissions_perKm * distance * nTrips * 2\n",
    "                \n",
    "                self.model.emissions_h2c += emissions\n",
    "                client.materials_received[mat] += amount\n",
    "                                        \n",
    "class Supplier(Agent): \n",
    "    def __init__(self, unique_id, model, material, distFromAms, coords): \n",
    "        super().__init__(unique_id, model)\n",
    "        self.material = material\n",
    "        self.distance_fromAms = distFromAms \n",
    "        self.coords = coords\n",
    "        self.clients = {}\n",
    "        \n",
    "    def step(self): \n",
    "        self.find_clients() \n",
    "        if self.clients and self.model.hub_network == 'none': \n",
    "            self.calc_materials_toSend() \n",
    "            self.send_materials_toClient() \n",
    "    \n",
    "    def find_clients(self): \n",
    "        '''self.clients = list of client agents [agent, agent, agent ...]'''\n",
    "        self.clients = {}\n",
    "        if self.model.hub_network == 'centralized': \n",
    "            clients = self.model.hubs\n",
    "        elif self.model.hub_network == 'decentralized': \n",
    "            clients = [hub for hub in self.model.hubs if hub.hubType == 'macro']\n",
    "        elif self.model.hub_network == 'none': \n",
    "            clients = [site for site in self.model.construction_sites]\n",
    "        self.clients = clients \n",
    "                \n",
    "    def calc_materials_toSend(self): \n",
    "        '''self.materials_toSend = {id: {'timber': 123, 'concrete': 456}, ... }'''\n",
    "        self.materials_toSend = {}\n",
    "        for client in self.clients: \n",
    "            client_id = client.unique_id\n",
    "            mat_req = client.materials_request \n",
    "            if self.material in mat_req.keys(): \n",
    "                self.materials_toSend[client_id] = mat_req\n",
    "\n",
    "    def send_materials_toClient(self): \n",
    "        for client_id, mat_amounts in self.materials_toSend.items(): \n",
    "            client = [c for c in self.clients if c.unique_id == client_id][0]\n",
    "            distance = self.distance_fromAms\n",
    "            vehicle = self.model.vehicles_international[0]\n",
    "            emissions_perKm = vehicle.emissions_perKm\n",
    "            for mat, amount in mat_amounts.items(): \n",
    "                capacity = vehicle.capacity[mat]\n",
    "                nTrips = math.ceil(amount / capacity)\n",
    "                emissions = emissions_perKm * distance * nTrips * 2\n",
    "                \n",
    "                self.model.emissions_s2h += emissions\n",
    "                client.materials_received[mat] += amount\n",
    "                            \n",
    "class Truck_Urban(Agent):\n",
    "    def __init__(self, unique_id, model, truck_type, capacity, emissions_perKm):\n",
    "        super().__init__(unique_id, model)\n",
    "        self.emissions = 0\n",
    "        self.truck_type = truck_type\n",
    "        self.capacity = capacity\n",
    "        self.emissions_perKm = emissions_perKm\n",
    "        \n",
    "        self.loaded = False\n",
    "        self.content = {} # {'material': amount}\n",
    "        self.destination_id = None\n",
    "        \n",
    "    def step(self):\n",
    "        pass\n",
    "    \n",
    "class Vehicle_International(Agent): \n",
    "    def __init__(self, unique_id, model, network_type, capacity, emissions_perKm): \n",
    "        super().__init__(unique_id, model)\n",
    "        self.emissions = 0 \n",
    "        self.network_type = network_type\n",
    "        self.capacity = capacity\n",
    "        self.emissions_perKm = emissions_perKm\n",
    "        self.loaded = False\n",
    "        self.content = {}\n",
    "        \n",
    "    def step(self): \n",
    "        pass "
   ]
  },
  {
   "cell_type": "code",
   "execution_count": 67,
   "id": "d7cc2cdc-29c2-4e41-8420-d0541c131c21",
   "metadata": {
    "tags": []
   },
   "outputs": [],
   "source": [
    "from mesa import Model\n",
    "from mesa.datacollection import DataCollector\n",
    "class Model(Model):\n",
    "    def __init__(self, parameters_dict): \n",
    "        '''create construction sites, hubs, and vehicles'''\n",
    "        super().__init__()\n",
    "        self.schedule = BaseScheduler(self)\n",
    "        self.emissions_s2h = 0\n",
    "        self.emissions_h2c = 0 \n",
    "        self.datacollector = DataCollector(\n",
    "            model_reporters = {\n",
    "                'emissions_s2h': lambda m: m.emissions_s2h, \n",
    "                'emissions_h2c': lambda m: m.emissions_h2c, \n",
    "                'emissions_total': lambda m: m.emissions_s2h + m.emissions_h2c, \n",
    "            }\n",
    "        )\n",
    "        \n",
    "        self.load_data()\n",
    "        self.add_parameters(parameters_dict) \n",
    "        \n",
    "        self.id_count = 0\n",
    "        self.create_constructionSites()\n",
    "        self.create_suppliers() \n",
    "        if self.hub_network != 'none': \n",
    "            self.create_hubs()\n",
    "        self.create_trucks_urban()\n",
    "        self.create_vehicles_international() \n",
    "        \n",
    "        if self.hub_network != 'none': \n",
    "            self.create_od_matrix_h2c()\n",
    "            self.create_od_matrix_h2h()\n",
    "            self.assign_hubs_to_sites()\n",
    "            self.assign_hubs_to_hubs()\n",
    "                    \n",
    "    def load_data(self): \n",
    "        self.construction_sites_df = gpd.read_file('data/data_cleaned/construction_sites.shp')\n",
    "        self.hubs_df = gpd.read_file('data/data_cleaned/hubs.shp')\n",
    "        self.suppliers_df = gpd.read_file('data/data_cleaned/suppliers.shp')\n",
    "        self.vehicles_info = pd.read_csv('data/data_cleaned/vehicles_info.csv')\n",
    "        self.build_info = pd.read_csv('data/data_cleaned/buildingType_info.csv')\n",
    "        self.materials_list = ['timber', 'concrete', 'modules']\n",
    "        \n",
    "        self.construction_sites = []\n",
    "        self.hubs = []\n",
    "        self.suppliers = []\n",
    "        self.trucks_urban = []\n",
    "        self.vehicles_international = []\n",
    "        \n",
    "    def add_parameters(self, parameters_dict): \n",
    "        self.network_type = parameters_dict['network_type']\n",
    "        self.truck_type = parameters_dict['truck_type']\n",
    "        self.biobased_type = parameters_dict['biobased_type']\n",
    "        self.modularity_type = parameters_dict['modularity_type']\n",
    "        self.hub_network = parameters_dict['hub_network']\n",
    "    \n",
    "    def create_constructionSites(self): \n",
    "        for i, row in self.construction_sites_df.iterrows(): \n",
    "            coords = (row.geometry.y, row.geometry.x)\n",
    "            site = ConstructionSite(self.id_count, self, row.buildType, \n",
    "                                    coords, row.inA10)\n",
    "            self.schedule.add(site)\n",
    "            self.construction_sites.append(site)\n",
    "            self.id_count += 1 \n",
    "    \n",
    "    def create_hubs(self): \n",
    "        if self.hub_network == 'centralized': \n",
    "            hub_type = ['macro']\n",
    "        elif self.hub_network == 'decentralized': \n",
    "            hub_type = ['micro', 'macro']\n",
    "        elif self.hub_network == 'none': \n",
    "            hub_type = []\n",
    "        for i, row in self.hubs_df.iterrows(): \n",
    "            if row.hub_type in hub_type: \n",
    "                coords = (row.geometry.y, row.geometry.x)\n",
    "                hub = Hub(self.id_count, self, row.hub_type, coords, row.inA10)\n",
    "                self.schedule.add(hub)\n",
    "                self.hubs.append(hub)\n",
    "                self.id_count += 1 \n",
    "                \n",
    "    def get_capacity(self, network_type, truck_type): \n",
    "        v = self.vehicles_info.copy()\n",
    "        v = v[(v.transType == network_type) & (v.vehicleType == truck_type)]\n",
    "        capacity_dict = {}\n",
    "        for mat in self.materials_list + ['modules']: \n",
    "            capacity = v[f'capacity_{mat}'].iloc[0]\n",
    "            capacity_dict[mat] = capacity\n",
    "        emissions_perKm = v.emissions_perKm.iloc[0]\n",
    "        return capacity_dict, emissions_perKm\n",
    "    \n",
    "    def create_trucks_urban(self): \n",
    "        # create urban trucks\n",
    "        truckTypes = ['diesel', 'electric'] if self.truck_type == 'semi' else [self.truck_type]\n",
    "        for truckType in truckTypes: \n",
    "            capacity_dict, emissions_perKm = self.get_capacity('road', truckType)\n",
    "            truck_urban = Truck_Urban(\n",
    "                self.id_count, self, self.truck_type, \n",
    "                capacity_dict, emissions_perKm)\n",
    "            self.schedule.add(truck_urban)\n",
    "            self.trucks_urban.append(truck_urban)\n",
    "            self.id_count += 1  \n",
    "            \n",
    "    def create_vehicles_international(self): \n",
    "        if self.hub_network != 'none': \n",
    "            hub_ids = [hub.unique_id for hub in self.hubs]\n",
    "        else: \n",
    "            # construction sites are considered 'hubs' if there is no hub_network\n",
    "            hub_ids = [site.unique_id for site in self.construction_sites]\n",
    "                    \n",
    "        vehicle_type = 'diesel' if self.network_type == 'road' else self.network_type\n",
    "        capacity_dict, emissions_perKm = self.get_capacity(self.network_type, vehicle_type)\n",
    "        vehicle_international = Vehicle_International(\n",
    "            self.id_count, self, self.network_type, \n",
    "            capacity_dict, emissions_perKm)\n",
    "        self.schedule.add(vehicle_international)  \n",
    "        self.vehicles_international.append(vehicle_international)\n",
    "        self.id_count += 1 \n",
    "    \n",
    "    def create_suppliers(self): \n",
    "        for i, row in self.suppliers_df.iterrows(): \n",
    "            coords = (row.geometry.y, row.geometry.x)\n",
    "            supplier = Supplier(self.id_count, self, row.material, \n",
    "                                row.distAms, coords)\n",
    "            self.schedule.add(supplier)\n",
    "            self.suppliers.append(supplier)\n",
    "            self.id_count += 1\n",
    "    \n",
    "    def create_od_matrix_h2c(self): \n",
    "        self.od_matrix_h2c = []\n",
    "        for site in self.construction_sites: \n",
    "            for hub in self.hubs: \n",
    "                distance = haversine(site.coords, hub.coords)\n",
    "                self.od_matrix_h2c.append([hub.unique_id, site.unique_id, distance])\n",
    "        self.od_matrix_h2c = np.array(self.od_matrix_h2c)\n",
    "    \n",
    "    def create_od_matrix_h2h(self): \n",
    "        self.od_matrix_h2h = []\n",
    "        macroHubs = [hub for hub in self.hubs if hub.hubType == 'macro']\n",
    "        for macroHub in macroHubs: \n",
    "            for hub in self.hubs: \n",
    "                distance = haversine(macroHub.coords, hub.coords)\n",
    "                self.od_matrix_h2h.append([macroHub.unique_id, hub.unique_id, distance])\n",
    "        self.od_matrix_h2h = np.array(self.od_matrix_h2h)\n",
    "                \n",
    "    def assign_hubs_to_sites(self):\n",
    "        od = self.od_matrix_h2c\n",
    "        nMacroHubs = len([hub for hub in self.hubs if hub.hubType == 'macro'])\n",
    "        for site in self.construction_sites: \n",
    "            site_od = od[od[:, 1] == site.unique_id]\n",
    "            if self.hub_network == 'decentralized': \n",
    "                site_od_micro = site_od[nMacroHubs+1:]\n",
    "                site.nearestMicroHub_id = int(site_od_micro[np.argmin(site_od_micro[:, 2]), 0])\n",
    "                site.nearestMicroHub_dist = site_od_micro[np.argmin(site_od_micro[:, 2]), 2]\n",
    "            site_od_macro = site_od[:nMacroHubs]\n",
    "            site.nearestMacroHub_id = int(site_od_macro[np.argmin(site_od_macro[:, 2]), 0])\n",
    "            site.nearestMacroHub_dist = site_od_macro[np.argmin(site_od_macro[:, 2]), 2]\n",
    "                        \n",
    "    def assign_hubs_to_hubs(self): \n",
    "        od = self.od_matrix_h2h\n",
    "        for hub in self.hubs: \n",
    "            hub_od = od[od[:, 1] == hub.unique_id]\n",
    "            hub.nearestMacroHub_id = int(hub_od[np.argmin(hub_od[:, 2])][0])\n",
    "            hub.nearestMacroHub_dist = hub_od[np.argmin(hub_od[:, 2])][2]\n",
    "            \n",
    "    def step(self):\n",
    "        self.schedule.step()\n",
    "        self.calc_emissions()\n",
    "        self.datacollector.collect(self)\n",
    "    \n",
    "    def calc_emissions(self): \n",
    "        self.emissions = round(self.emissions_h2c + self.emissions_s2h)\n",
    "    \n",
    "    def visualize(self): \n",
    "        self.display_total_emissions()\n",
    "        self.display_emissions_chart()\n",
    "        \n",
    "        m = folium.Map([52.377231, 4.899288], zoom_start=12, tiles='cartodbdark_matter')\n",
    "        if self.hub_network != 'none': \n",
    "            self.plotLines_h2c(m) \n",
    "        self.plotLines_s2h(m)\n",
    "        self.plotPoints(m, [hub for hub in self.hubs if hub.hubType == 'micro'], 'red', 1)\n",
    "        self.plotPoints(m, [hub for hub in self.hubs if hub.hubType == 'macro'], 'red', 5)\n",
    "        self.plotPoints(m, self.construction_sites, 'white', 1)\n",
    "        self.plotPoints(m, self.suppliers, 'pink', 1)\n",
    "        return m \n",
    "    \n",
    "    def display_total_emissions(self): \n",
    "        total_emissions = round(self.emissions_h2c + self.emissions_s2h)\n",
    "        print(f'emissions (hubs to construction sites): {round(self.emissions_h2c)} tCO2eq')\n",
    "        print(f'emissions (suppliers to hubs): {round(self.emissions_s2h)} tCO2eq')\n",
    "        print(f'emissions (total): {total_emissions} tCO2eq')\n",
    "        \n",
    "    def display_emissions_chart(self): \n",
    "        data = self.datacollector.get_model_vars_dataframe()\n",
    "        data = data.reset_index(names='step')\n",
    "        fig = px.line(data, x=\"step\", \n",
    "                      y=['emissions_s2h', 'emissions_h2c', 'emissions_total'], \n",
    "                      title='emissions')\n",
    "        return fig.show()\n",
    "    \n",
    "    def plotPoints(self, m, agent_list, color, radius): \n",
    "        for coord in [agent.coords for agent in agent_list]: \n",
    "            folium.CircleMarker(\n",
    "                location=coord, radius=radius, color=color\n",
    "            ).add_to(m)\n",
    "\n",
    "    def plotLines_h2c(self, m): \n",
    "        for hub in self.hubs: \n",
    "            coords_hub = hub.coords\n",
    "            for site_id in hub.clients.keys(): \n",
    "                coords_site = list(hub.clients[site_id]['agent'].coords)\n",
    "                folium.PolyLine(\n",
    "                    locations=[coords_site, coords_hub], weight=1, \n",
    "                    color='grey', dash_array='5'\n",
    "                ).add_to(m)\n",
    "                \n",
    "    def plotLines_s2h(self, m): \n",
    "        if self.hub_network != 'none': \n",
    "            hubs = [hub for hub in self.hubs if hub.hubType == 'macro']\n",
    "        else: \n",
    "            hubs = self.construction_sites\n",
    "        for supplier in self.suppliers: \n",
    "            for hub in hubs: \n",
    "                folium.PolyLine(\n",
    "                    locations=[supplier.coords, hub.coords], weight=1, \n",
    "                    color='#454545', dash_array='5'\n",
    "                ).add_to(m)"
   ]
  },
  {
   "cell_type": "code",
   "execution_count": 68,
   "id": "bd51a202-d263-429e-8963-f51aa03e2e4b",
   "metadata": {
    "tags": []
   },
   "outputs": [
    {
     "name": "stdout",
     "output_type": "stream",
     "text": [
      "emissions (hubs to construction sites): 32 tCO2eq\n",
      "emissions (suppliers to hubs): 5292 tCO2eq\n",
      "emissions (total): 5324 tCO2eq\n"
     ]
    },
    {
     "data": {
      "application/vnd.plotly.v1+json": {
       "config": {
        "plotlyServerURL": "https://plot.ly"
       },
       "data": [
        {
         "hovertemplate": "variable=emissions_s2h<br>step=%{x}<br>value=%{y}<extra></extra>",
         "legendgroup": "emissions_s2h",
         "line": {
          "color": "#636efa",
          "dash": "solid"
         },
         "marker": {
          "symbol": "circle"
         },
         "mode": "lines",
         "name": "emissions_s2h",
         "orientation": "v",
         "showlegend": true,
         "type": "scatter",
         "x": [
          0,
          1,
          2,
          3,
          4,
          5,
          6,
          7,
          8,
          9
         ],
         "xaxis": "x",
         "y": [
          8.918412059376262,
          843.7480733255885,
          1666.5557798300606,
          2448.8935115703566,
          3240.01612054367,
          4058.7774307368863,
          4838.80011267843,
          5246.067305637784,
          5290.445423716827,
          5292.245423716827
         ],
         "yaxis": "y"
        },
        {
         "hovertemplate": "variable=emissions_h2c<br>step=%{x}<br>value=%{y}<extra></extra>",
         "legendgroup": "emissions_h2c",
         "line": {
          "color": "#EF553B",
          "dash": "solid"
         },
         "marker": {
          "symbol": "circle"
         },
         "mode": "lines",
         "name": "emissions_h2c",
         "orientation": "v",
         "showlegend": true,
         "type": "scatter",
         "x": [
          0,
          1,
          2,
          3,
          4,
          5,
          6,
          7,
          8,
          9
         ],
         "xaxis": "x",
         "y": [
          5.1096787453280355,
          10.049612005068724,
          14.660887005883524,
          19.292345887032464,
          24.181524574585477,
          28.959457523640726,
          31.37653306883517,
          31.614699208840236,
          31.61689536113393,
          31.61689536113393
         ],
         "yaxis": "y"
        },
        {
         "hovertemplate": "variable=emissions_total<br>step=%{x}<br>value=%{y}<extra></extra>",
         "legendgroup": "emissions_total",
         "line": {
          "color": "#00cc96",
          "dash": "solid"
         },
         "marker": {
          "symbol": "circle"
         },
         "mode": "lines",
         "name": "emissions_total",
         "orientation": "v",
         "showlegend": true,
         "type": "scatter",
         "x": [
          0,
          1,
          2,
          3,
          4,
          5,
          6,
          7,
          8,
          9
         ],
         "xaxis": "x",
         "y": [
          14.028090804704298,
          853.7976853306573,
          1681.2166668359441,
          2468.185857457389,
          3264.1976451182554,
          4087.736888260527,
          4870.176645747265,
          5277.682004846624,
          5322.062319077961,
          5323.862319077961
         ],
         "yaxis": "y"
        }
       ],
       "layout": {
        "autosize": true,
        "legend": {
         "title": {
          "text": "variable"
         },
         "tracegroupgap": 0
        },
        "template": {
         "data": {
          "bar": [
           {
            "error_x": {
             "color": "#2a3f5f"
            },
            "error_y": {
             "color": "#2a3f5f"
            },
            "marker": {
             "line": {
              "color": "#E5ECF6",
              "width": 0.5
             },
             "pattern": {
              "fillmode": "overlay",
              "size": 10,
              "solidity": 0.2
             }
            },
            "type": "bar"
           }
          ],
          "barpolar": [
           {
            "marker": {
             "line": {
              "color": "#E5ECF6",
              "width": 0.5
             },
             "pattern": {
              "fillmode": "overlay",
              "size": 10,
              "solidity": 0.2
             }
            },
            "type": "barpolar"
           }
          ],
          "carpet": [
           {
            "aaxis": {
             "endlinecolor": "#2a3f5f",
             "gridcolor": "white",
             "linecolor": "white",
             "minorgridcolor": "white",
             "startlinecolor": "#2a3f5f"
            },
            "baxis": {
             "endlinecolor": "#2a3f5f",
             "gridcolor": "white",
             "linecolor": "white",
             "minorgridcolor": "white",
             "startlinecolor": "#2a3f5f"
            },
            "type": "carpet"
           }
          ],
          "choropleth": [
           {
            "colorbar": {
             "outlinewidth": 0,
             "ticks": ""
            },
            "type": "choropleth"
           }
          ],
          "contour": [
           {
            "colorbar": {
             "outlinewidth": 0,
             "ticks": ""
            },
            "colorscale": [
             [
              0,
              "#0d0887"
             ],
             [
              0.1111111111111111,
              "#46039f"
             ],
             [
              0.2222222222222222,
              "#7201a8"
             ],
             [
              0.3333333333333333,
              "#9c179e"
             ],
             [
              0.4444444444444444,
              "#bd3786"
             ],
             [
              0.5555555555555556,
              "#d8576b"
             ],
             [
              0.6666666666666666,
              "#ed7953"
             ],
             [
              0.7777777777777778,
              "#fb9f3a"
             ],
             [
              0.8888888888888888,
              "#fdca26"
             ],
             [
              1,
              "#f0f921"
             ]
            ],
            "type": "contour"
           }
          ],
          "contourcarpet": [
           {
            "colorbar": {
             "outlinewidth": 0,
             "ticks": ""
            },
            "type": "contourcarpet"
           }
          ],
          "heatmap": [
           {
            "colorbar": {
             "outlinewidth": 0,
             "ticks": ""
            },
            "colorscale": [
             [
              0,
              "#0d0887"
             ],
             [
              0.1111111111111111,
              "#46039f"
             ],
             [
              0.2222222222222222,
              "#7201a8"
             ],
             [
              0.3333333333333333,
              "#9c179e"
             ],
             [
              0.4444444444444444,
              "#bd3786"
             ],
             [
              0.5555555555555556,
              "#d8576b"
             ],
             [
              0.6666666666666666,
              "#ed7953"
             ],
             [
              0.7777777777777778,
              "#fb9f3a"
             ],
             [
              0.8888888888888888,
              "#fdca26"
             ],
             [
              1,
              "#f0f921"
             ]
            ],
            "type": "heatmap"
           }
          ],
          "heatmapgl": [
           {
            "colorbar": {
             "outlinewidth": 0,
             "ticks": ""
            },
            "colorscale": [
             [
              0,
              "#0d0887"
             ],
             [
              0.1111111111111111,
              "#46039f"
             ],
             [
              0.2222222222222222,
              "#7201a8"
             ],
             [
              0.3333333333333333,
              "#9c179e"
             ],
             [
              0.4444444444444444,
              "#bd3786"
             ],
             [
              0.5555555555555556,
              "#d8576b"
             ],
             [
              0.6666666666666666,
              "#ed7953"
             ],
             [
              0.7777777777777778,
              "#fb9f3a"
             ],
             [
              0.8888888888888888,
              "#fdca26"
             ],
             [
              1,
              "#f0f921"
             ]
            ],
            "type": "heatmapgl"
           }
          ],
          "histogram": [
           {
            "marker": {
             "pattern": {
              "fillmode": "overlay",
              "size": 10,
              "solidity": 0.2
             }
            },
            "type": "histogram"
           }
          ],
          "histogram2d": [
           {
            "colorbar": {
             "outlinewidth": 0,
             "ticks": ""
            },
            "colorscale": [
             [
              0,
              "#0d0887"
             ],
             [
              0.1111111111111111,
              "#46039f"
             ],
             [
              0.2222222222222222,
              "#7201a8"
             ],
             [
              0.3333333333333333,
              "#9c179e"
             ],
             [
              0.4444444444444444,
              "#bd3786"
             ],
             [
              0.5555555555555556,
              "#d8576b"
             ],
             [
              0.6666666666666666,
              "#ed7953"
             ],
             [
              0.7777777777777778,
              "#fb9f3a"
             ],
             [
              0.8888888888888888,
              "#fdca26"
             ],
             [
              1,
              "#f0f921"
             ]
            ],
            "type": "histogram2d"
           }
          ],
          "histogram2dcontour": [
           {
            "colorbar": {
             "outlinewidth": 0,
             "ticks": ""
            },
            "colorscale": [
             [
              0,
              "#0d0887"
             ],
             [
              0.1111111111111111,
              "#46039f"
             ],
             [
              0.2222222222222222,
              "#7201a8"
             ],
             [
              0.3333333333333333,
              "#9c179e"
             ],
             [
              0.4444444444444444,
              "#bd3786"
             ],
             [
              0.5555555555555556,
              "#d8576b"
             ],
             [
              0.6666666666666666,
              "#ed7953"
             ],
             [
              0.7777777777777778,
              "#fb9f3a"
             ],
             [
              0.8888888888888888,
              "#fdca26"
             ],
             [
              1,
              "#f0f921"
             ]
            ],
            "type": "histogram2dcontour"
           }
          ],
          "mesh3d": [
           {
            "colorbar": {
             "outlinewidth": 0,
             "ticks": ""
            },
            "type": "mesh3d"
           }
          ],
          "parcoords": [
           {
            "line": {
             "colorbar": {
              "outlinewidth": 0,
              "ticks": ""
             }
            },
            "type": "parcoords"
           }
          ],
          "pie": [
           {
            "automargin": true,
            "type": "pie"
           }
          ],
          "scatter": [
           {
            "fillpattern": {
             "fillmode": "overlay",
             "size": 10,
             "solidity": 0.2
            },
            "type": "scatter"
           }
          ],
          "scatter3d": [
           {
            "line": {
             "colorbar": {
              "outlinewidth": 0,
              "ticks": ""
             }
            },
            "marker": {
             "colorbar": {
              "outlinewidth": 0,
              "ticks": ""
             }
            },
            "type": "scatter3d"
           }
          ],
          "scattercarpet": [
           {
            "marker": {
             "colorbar": {
              "outlinewidth": 0,
              "ticks": ""
             }
            },
            "type": "scattercarpet"
           }
          ],
          "scattergeo": [
           {
            "marker": {
             "colorbar": {
              "outlinewidth": 0,
              "ticks": ""
             }
            },
            "type": "scattergeo"
           }
          ],
          "scattergl": [
           {
            "marker": {
             "colorbar": {
              "outlinewidth": 0,
              "ticks": ""
             }
            },
            "type": "scattergl"
           }
          ],
          "scattermapbox": [
           {
            "marker": {
             "colorbar": {
              "outlinewidth": 0,
              "ticks": ""
             }
            },
            "type": "scattermapbox"
           }
          ],
          "scatterpolar": [
           {
            "marker": {
             "colorbar": {
              "outlinewidth": 0,
              "ticks": ""
             }
            },
            "type": "scatterpolar"
           }
          ],
          "scatterpolargl": [
           {
            "marker": {
             "colorbar": {
              "outlinewidth": 0,
              "ticks": ""
             }
            },
            "type": "scatterpolargl"
           }
          ],
          "scatterternary": [
           {
            "marker": {
             "colorbar": {
              "outlinewidth": 0,
              "ticks": ""
             }
            },
            "type": "scatterternary"
           }
          ],
          "surface": [
           {
            "colorbar": {
             "outlinewidth": 0,
             "ticks": ""
            },
            "colorscale": [
             [
              0,
              "#0d0887"
             ],
             [
              0.1111111111111111,
              "#46039f"
             ],
             [
              0.2222222222222222,
              "#7201a8"
             ],
             [
              0.3333333333333333,
              "#9c179e"
             ],
             [
              0.4444444444444444,
              "#bd3786"
             ],
             [
              0.5555555555555556,
              "#d8576b"
             ],
             [
              0.6666666666666666,
              "#ed7953"
             ],
             [
              0.7777777777777778,
              "#fb9f3a"
             ],
             [
              0.8888888888888888,
              "#fdca26"
             ],
             [
              1,
              "#f0f921"
             ]
            ],
            "type": "surface"
           }
          ],
          "table": [
           {
            "cells": {
             "fill": {
              "color": "#EBF0F8"
             },
             "line": {
              "color": "white"
             }
            },
            "header": {
             "fill": {
              "color": "#C8D4E3"
             },
             "line": {
              "color": "white"
             }
            },
            "type": "table"
           }
          ]
         },
         "layout": {
          "annotationdefaults": {
           "arrowcolor": "#2a3f5f",
           "arrowhead": 0,
           "arrowwidth": 1
          },
          "autotypenumbers": "strict",
          "coloraxis": {
           "colorbar": {
            "outlinewidth": 0,
            "ticks": ""
           }
          },
          "colorscale": {
           "diverging": [
            [
             0,
             "#8e0152"
            ],
            [
             0.1,
             "#c51b7d"
            ],
            [
             0.2,
             "#de77ae"
            ],
            [
             0.3,
             "#f1b6da"
            ],
            [
             0.4,
             "#fde0ef"
            ],
            [
             0.5,
             "#f7f7f7"
            ],
            [
             0.6,
             "#e6f5d0"
            ],
            [
             0.7,
             "#b8e186"
            ],
            [
             0.8,
             "#7fbc41"
            ],
            [
             0.9,
             "#4d9221"
            ],
            [
             1,
             "#276419"
            ]
           ],
           "sequential": [
            [
             0,
             "#0d0887"
            ],
            [
             0.1111111111111111,
             "#46039f"
            ],
            [
             0.2222222222222222,
             "#7201a8"
            ],
            [
             0.3333333333333333,
             "#9c179e"
            ],
            [
             0.4444444444444444,
             "#bd3786"
            ],
            [
             0.5555555555555556,
             "#d8576b"
            ],
            [
             0.6666666666666666,
             "#ed7953"
            ],
            [
             0.7777777777777778,
             "#fb9f3a"
            ],
            [
             0.8888888888888888,
             "#fdca26"
            ],
            [
             1,
             "#f0f921"
            ]
           ],
           "sequentialminus": [
            [
             0,
             "#0d0887"
            ],
            [
             0.1111111111111111,
             "#46039f"
            ],
            [
             0.2222222222222222,
             "#7201a8"
            ],
            [
             0.3333333333333333,
             "#9c179e"
            ],
            [
             0.4444444444444444,
             "#bd3786"
            ],
            [
             0.5555555555555556,
             "#d8576b"
            ],
            [
             0.6666666666666666,
             "#ed7953"
            ],
            [
             0.7777777777777778,
             "#fb9f3a"
            ],
            [
             0.8888888888888888,
             "#fdca26"
            ],
            [
             1,
             "#f0f921"
            ]
           ]
          },
          "colorway": [
           "#636efa",
           "#EF553B",
           "#00cc96",
           "#ab63fa",
           "#FFA15A",
           "#19d3f3",
           "#FF6692",
           "#B6E880",
           "#FF97FF",
           "#FECB52"
          ],
          "font": {
           "color": "#2a3f5f"
          },
          "geo": {
           "bgcolor": "white",
           "lakecolor": "white",
           "landcolor": "#E5ECF6",
           "showlakes": true,
           "showland": true,
           "subunitcolor": "white"
          },
          "hoverlabel": {
           "align": "left"
          },
          "hovermode": "closest",
          "mapbox": {
           "style": "light"
          },
          "paper_bgcolor": "white",
          "plot_bgcolor": "#E5ECF6",
          "polar": {
           "angularaxis": {
            "gridcolor": "white",
            "linecolor": "white",
            "ticks": ""
           },
           "bgcolor": "#E5ECF6",
           "radialaxis": {
            "gridcolor": "white",
            "linecolor": "white",
            "ticks": ""
           }
          },
          "scene": {
           "xaxis": {
            "backgroundcolor": "#E5ECF6",
            "gridcolor": "white",
            "gridwidth": 2,
            "linecolor": "white",
            "showbackground": true,
            "ticks": "",
            "zerolinecolor": "white"
           },
           "yaxis": {
            "backgroundcolor": "#E5ECF6",
            "gridcolor": "white",
            "gridwidth": 2,
            "linecolor": "white",
            "showbackground": true,
            "ticks": "",
            "zerolinecolor": "white"
           },
           "zaxis": {
            "backgroundcolor": "#E5ECF6",
            "gridcolor": "white",
            "gridwidth": 2,
            "linecolor": "white",
            "showbackground": true,
            "ticks": "",
            "zerolinecolor": "white"
           }
          },
          "shapedefaults": {
           "line": {
            "color": "#2a3f5f"
           }
          },
          "ternary": {
           "aaxis": {
            "gridcolor": "white",
            "linecolor": "white",
            "ticks": ""
           },
           "baxis": {
            "gridcolor": "white",
            "linecolor": "white",
            "ticks": ""
           },
           "bgcolor": "#E5ECF6",
           "caxis": {
            "gridcolor": "white",
            "linecolor": "white",
            "ticks": ""
           }
          },
          "title": {
           "x": 0.05
          },
          "xaxis": {
           "automargin": true,
           "gridcolor": "white",
           "linecolor": "white",
           "ticks": "",
           "title": {
            "standoff": 15
           },
           "zerolinecolor": "white",
           "zerolinewidth": 2
          },
          "yaxis": {
           "automargin": true,
           "gridcolor": "white",
           "linecolor": "white",
           "ticks": "",
           "title": {
            "standoff": 15
           },
           "zerolinecolor": "white",
           "zerolinewidth": 2
          }
         }
        },
        "title": {
         "text": "emissions"
        },
        "xaxis": {
         "anchor": "y",
         "autorange": true,
         "domain": [
          0,
          1
         ],
         "range": [
          0,
          9
         ],
         "title": {
          "text": "step"
         },
         "type": "linear"
        },
        "yaxis": {
         "anchor": "x",
         "autorange": true,
         "domain": [
          0,
          1
         ],
         "range": [
          -290.37657905092937,
          5619.348576874218
         ],
         "title": {
          "text": "value"
         },
         "type": "linear"
        }
       }
      },
      "image/png": "[encoded data removed]",
      "text/html": [
       "<div>                            <div id=\"4e546b8f-69e3-4960-a097-f8b6696b992d\" class=\"plotly-graph-div\" style=\"height:525px; width:100%;\"></div>            <script type=\"text/javascript\">                require([\"plotly\"], function(Plotly) {                    window.PLOTLYENV=window.PLOTLYENV || {};                                    if (document.getElementById(\"4e546b8f-69e3-4960-a097-f8b6696b992d\")) {                    Plotly.newPlot(                        \"4e546b8f-69e3-4960-a097-f8b6696b992d\",                        [{\"hovertemplate\":\"variable=emissions_s2h<br>step=%{x}<br>value=%{y}<extra></extra>\",\"legendgroup\":\"emissions_s2h\",\"line\":{\"color\":\"#636efa\",\"dash\":\"solid\"},\"marker\":{\"symbol\":\"circle\"},\"mode\":\"lines\",\"name\":\"emissions_s2h\",\"orientation\":\"v\",\"showlegend\":true,\"x\":[0,1,2,3,4,5,6,7,8,9],\"xaxis\":\"x\",\"y\":[8.918412059376262,843.7480733255885,1666.5557798300606,2448.8935115703566,3240.01612054367,4058.7774307368863,4838.80011267843,5246.067305637784,5290.445423716827,5292.245423716827],\"yaxis\":\"y\",\"type\":\"scatter\"},{\"hovertemplate\":\"variable=emissions_h2c<br>step=%{x}<br>value=%{y}<extra></extra>\",\"legendgroup\":\"emissions_h2c\",\"line\":{\"color\":\"#EF553B\",\"dash\":\"solid\"},\"marker\":{\"symbol\":\"circle\"},\"mode\":\"lines\",\"name\":\"emissions_h2c\",\"orientation\":\"v\",\"showlegend\":true,\"x\":[0,1,2,3,4,5,6,7,8,9],\"xaxis\":\"x\",\"y\":[5.1096787453280355,10.049612005068724,14.660887005883524,19.292345887032464,24.181524574585477,28.959457523640726,31.37653306883517,31.614699208840236,31.61689536113393,31.61689536113393],\"yaxis\":\"y\",\"type\":\"scatter\"},{\"hovertemplate\":\"variable=emissions_total<br>step=%{x}<br>value=%{y}<extra></extra>\",\"legendgroup\":\"emissions_total\",\"line\":{\"color\":\"#00cc96\",\"dash\":\"solid\"},\"marker\":{\"symbol\":\"circle\"},\"mode\":\"lines\",\"name\":\"emissions_total\",\"orientation\":\"v\",\"showlegend\":true,\"x\":[0,1,2,3,4,5,6,7,8,9],\"xaxis\":\"x\",\"y\":[14.028090804704298,853.7976853306573,1681.2166668359441,2468.185857457389,3264.1976451182554,4087.736888260527,4870.176645747265,5277.682004846624,5322.062319077961,5323.862319077961],\"yaxis\":\"y\",\"type\":\"scatter\"}],                        {\"template\":{\"data\":{\"histogram2dcontour\":[{\"type\":\"histogram2dcontour\",\"colorbar\":{\"outlinewidth\":0,\"ticks\":\"\"},\"colorscale\":[[0.0,\"#0d0887\"],[0.1111111111111111,\"#46039f\"],[0.2222222222222222,\"#7201a8\"],[0.3333333333333333,\"#9c179e\"],[0.4444444444444444,\"#bd3786\"],[0.5555555555555556,\"#d8576b\"],[0.6666666666666666,\"#ed7953\"],[0.7777777777777778,\"#fb9f3a\"],[0.8888888888888888,\"#fdca26\"],[1.0,\"#f0f921\"]]}],\"choropleth\":[{\"type\":\"choropleth\",\"colorbar\":{\"outlinewidth\":0,\"ticks\":\"\"}}],\"histogram2d\":[{\"type\":\"histogram2d\",\"colorbar\":{\"outlinewidth\":0,\"ticks\":\"\"},\"colorscale\":[[0.0,\"#0d0887\"],[0.1111111111111111,\"#46039f\"],[0.2222222222222222,\"#7201a8\"],[0.3333333333333333,\"#9c179e\"],[0.4444444444444444,\"#bd3786\"],[0.5555555555555556,\"#d8576b\"],[0.6666666666666666,\"#ed7953\"],[0.7777777777777778,\"#fb9f3a\"],[0.8888888888888888,\"#fdca26\"],[1.0,\"#f0f921\"]]}],\"heatmap\":[{\"type\":\"heatmap\",\"colorbar\":{\"outlinewidth\":0,\"ticks\":\"\"},\"colorscale\":[[0.0,\"#0d0887\"],[0.1111111111111111,\"#46039f\"],[0.2222222222222222,\"#7201a8\"],[0.3333333333333333,\"#9c179e\"],[0.4444444444444444,\"#bd3786\"],[0.5555555555555556,\"#d8576b\"],[0.6666666666666666,\"#ed7953\"],[0.7777777777777778,\"#fb9f3a\"],[0.8888888888888888,\"#fdca26\"],[1.0,\"#f0f921\"]]}],\"heatmapgl\":[{\"type\":\"heatmapgl\",\"colorbar\":{\"outlinewidth\":0,\"ticks\":\"\"},\"colorscale\":[[0.0,\"#0d0887\"],[0.1111111111111111,\"#46039f\"],[0.2222222222222222,\"#7201a8\"],[0.3333333333333333,\"#9c179e\"],[0.4444444444444444,\"#bd3786\"],[0.5555555555555556,\"#d8576b\"],[0.6666666666666666,\"#ed7953\"],[0.7777777777777778,\"#fb9f3a\"],[0.8888888888888888,\"#fdca26\"],[1.0,\"#f0f921\"]]}],\"contourcarpet\":[{\"type\":\"contourcarpet\",\"colorbar\":{\"outlinewidth\":0,\"ticks\":\"\"}}],\"contour\":[{\"type\":\"contour\",\"colorbar\":{\"outlinewidth\":0,\"ticks\":\"\"},\"colorscale\":[[0.0,\"#0d0887\"],[0.1111111111111111,\"#46039f\"],[0.2222222222222222,\"#7201a8\"],[0.3333333333333333,\"#9c179e\"],[0.4444444444444444,\"#bd3786\"],[0.5555555555555556,\"#d8576b\"],[0.6666666666666666,\"#ed7953\"],[0.7777777777777778,\"#fb9f3a\"],[0.8888888888888888,\"#fdca26\"],[1.0,\"#f0f921\"]]}],\"surface\":[{\"type\":\"surface\",\"colorbar\":{\"outlinewidth\":0,\"ticks\":\"\"},\"colorscale\":[[0.0,\"#0d0887\"],[0.1111111111111111,\"#46039f\"],[0.2222222222222222,\"#7201a8\"],[0.3333333333333333,\"#9c179e\"],[0.4444444444444444,\"#bd3786\"],[0.5555555555555556,\"#d8576b\"],[0.6666666666666666,\"#ed7953\"],[0.7777777777777778,\"#fb9f3a\"],[0.8888888888888888,\"#fdca26\"],[1.0,\"#f0f921\"]]}],\"mesh3d\":[{\"type\":\"mesh3d\",\"colorbar\":{\"outlinewidth\":0,\"ticks\":\"\"}}],\"scatter\":[{\"fillpattern\":{\"fillmode\":\"overlay\",\"size\":10,\"solidity\":0.2},\"type\":\"scatter\"}],\"parcoords\":[{\"type\":\"parcoords\",\"line\":{\"colorbar\":{\"outlinewidth\":0,\"ticks\":\"\"}}}],\"scatterpolargl\":[{\"type\":\"scatterpolargl\",\"marker\":{\"colorbar\":{\"outlinewidth\":0,\"ticks\":\"\"}}}],\"bar\":[{\"error_x\":{\"color\":\"#2a3f5f\"},\"error_y\":{\"color\":\"#2a3f5f\"},\"marker\":{\"line\":{\"color\":\"#E5ECF6\",\"width\":0.5},\"pattern\":{\"fillmode\":\"overlay\",\"size\":10,\"solidity\":0.2}},\"type\":\"bar\"}],\"scattergeo\":[{\"type\":\"scattergeo\",\"marker\":{\"colorbar\":{\"outlinewidth\":0,\"ticks\":\"\"}}}],\"scatterpolar\":[{\"type\":\"scatterpolar\",\"marker\":{\"colorbar\":{\"outlinewidth\":0,\"ticks\":\"\"}}}],\"histogram\":[{\"marker\":{\"pattern\":{\"fillmode\":\"overlay\",\"size\":10,\"solidity\":0.2}},\"type\":\"histogram\"}],\"scattergl\":[{\"type\":\"scattergl\",\"marker\":{\"colorbar\":{\"outlinewidth\":0,\"ticks\":\"\"}}}],\"scatter3d\":[{\"type\":\"scatter3d\",\"line\":{\"colorbar\":{\"outlinewidth\":0,\"ticks\":\"\"}},\"marker\":{\"colorbar\":{\"outlinewidth\":0,\"ticks\":\"\"}}}],\"scattermapbox\":[{\"type\":\"scattermapbox\",\"marker\":{\"colorbar\":{\"outlinewidth\":0,\"ticks\":\"\"}}}],\"scatterternary\":[{\"type\":\"scatterternary\",\"marker\":{\"colorbar\":{\"outlinewidth\":0,\"ticks\":\"\"}}}],\"scattercarpet\":[{\"type\":\"scattercarpet\",\"marker\":{\"colorbar\":{\"outlinewidth\":0,\"ticks\":\"\"}}}],\"carpet\":[{\"aaxis\":{\"endlinecolor\":\"#2a3f5f\",\"gridcolor\":\"white\",\"linecolor\":\"white\",\"minorgridcolor\":\"white\",\"startlinecolor\":\"#2a3f5f\"},\"baxis\":{\"endlinecolor\":\"#2a3f5f\",\"gridcolor\":\"white\",\"linecolor\":\"white\",\"minorgridcolor\":\"white\",\"startlinecolor\":\"#2a3f5f\"},\"type\":\"carpet\"}],\"table\":[{\"cells\":{\"fill\":{\"color\":\"#EBF0F8\"},\"line\":{\"color\":\"white\"}},\"header\":{\"fill\":{\"color\":\"#C8D4E3\"},\"line\":{\"color\":\"white\"}},\"type\":\"table\"}],\"barpolar\":[{\"marker\":{\"line\":{\"color\":\"#E5ECF6\",\"width\":0.5},\"pattern\":{\"fillmode\":\"overlay\",\"size\":10,\"solidity\":0.2}},\"type\":\"barpolar\"}],\"pie\":[{\"automargin\":true,\"type\":\"pie\"}]},\"layout\":{\"autotypenumbers\":\"strict\",\"colorway\":[\"#636efa\",\"#EF553B\",\"#00cc96\",\"#ab63fa\",\"#FFA15A\",\"#19d3f3\",\"#FF6692\",\"#B6E880\",\"#FF97FF\",\"#FECB52\"],\"font\":{\"color\":\"#2a3f5f\"},\"hovermode\":\"closest\",\"hoverlabel\":{\"align\":\"left\"},\"paper_bgcolor\":\"white\",\"plot_bgcolor\":\"#E5ECF6\",\"polar\":{\"bgcolor\":\"#E5ECF6\",\"angularaxis\":{\"gridcolor\":\"white\",\"linecolor\":\"white\",\"ticks\":\"\"},\"radialaxis\":{\"gridcolor\":\"white\",\"linecolor\":\"white\",\"ticks\":\"\"}},\"ternary\":{\"bgcolor\":\"#E5ECF6\",\"aaxis\":{\"gridcolor\":\"white\",\"linecolor\":\"white\",\"ticks\":\"\"},\"baxis\":{\"gridcolor\":\"white\",\"linecolor\":\"white\",\"ticks\":\"\"},\"caxis\":{\"gridcolor\":\"white\",\"linecolor\":\"white\",\"ticks\":\"\"}},\"coloraxis\":{\"colorbar\":{\"outlinewidth\":0,\"ticks\":\"\"}},\"colorscale\":{\"sequential\":[[0.0,\"#0d0887\"],[0.1111111111111111,\"#46039f\"],[0.2222222222222222,\"#7201a8\"],[0.3333333333333333,\"#9c179e\"],[0.4444444444444444,\"#bd3786\"],[0.5555555555555556,\"#d8576b\"],[0.6666666666666666,\"#ed7953\"],[0.7777777777777778,\"#fb9f3a\"],[0.8888888888888888,\"#fdca26\"],[1.0,\"#f0f921\"]],\"sequentialminus\":[[0.0,\"#0d0887\"],[0.1111111111111111,\"#46039f\"],[0.2222222222222222,\"#7201a8\"],[0.3333333333333333,\"#9c179e\"],[0.4444444444444444,\"#bd3786\"],[0.5555555555555556,\"#d8576b\"],[0.6666666666666666,\"#ed7953\"],[0.7777777777777778,\"#fb9f3a\"],[0.8888888888888888,\"#fdca26\"],[1.0,\"#f0f921\"]],\"diverging\":[[0,\"#8e0152\"],[0.1,\"#c51b7d\"],[0.2,\"#de77ae\"],[0.3,\"#f1b6da\"],[0.4,\"#fde0ef\"],[0.5,\"#f7f7f7\"],[0.6,\"#e6f5d0\"],[0.7,\"#b8e186\"],[0.8,\"#7fbc41\"],[0.9,\"#4d9221\"],[1,\"#276419\"]]},\"xaxis\":{\"gridcolor\":\"white\",\"linecolor\":\"white\",\"ticks\":\"\",\"title\":{\"standoff\":15},\"zerolinecolor\":\"white\",\"automargin\":true,\"zerolinewidth\":2},\"yaxis\":{\"gridcolor\":\"white\",\"linecolor\":\"white\",\"ticks\":\"\",\"title\":{\"standoff\":15},\"zerolinecolor\":\"white\",\"automargin\":true,\"zerolinewidth\":2},\"scene\":{\"xaxis\":{\"backgroundcolor\":\"#E5ECF6\",\"gridcolor\":\"white\",\"linecolor\":\"white\",\"showbackground\":true,\"ticks\":\"\",\"zerolinecolor\":\"white\",\"gridwidth\":2},\"yaxis\":{\"backgroundcolor\":\"#E5ECF6\",\"gridcolor\":\"white\",\"linecolor\":\"white\",\"showbackground\":true,\"ticks\":\"\",\"zerolinecolor\":\"white\",\"gridwidth\":2},\"zaxis\":{\"backgroundcolor\":\"#E5ECF6\",\"gridcolor\":\"white\",\"linecolor\":\"white\",\"showbackground\":true,\"ticks\":\"\",\"zerolinecolor\":\"white\",\"gridwidth\":2}},\"shapedefaults\":{\"line\":{\"color\":\"#2a3f5f\"}},\"annotationdefaults\":{\"arrowcolor\":\"#2a3f5f\",\"arrowhead\":0,\"arrowwidth\":1},\"geo\":{\"bgcolor\":\"white\",\"landcolor\":\"#E5ECF6\",\"subunitcolor\":\"white\",\"showland\":true,\"showlakes\":true,\"lakecolor\":\"white\"},\"title\":{\"x\":0.05},\"mapbox\":{\"style\":\"light\"}}},\"xaxis\":{\"anchor\":\"y\",\"domain\":[0.0,1.0],\"title\":{\"text\":\"step\"}},\"yaxis\":{\"anchor\":\"x\",\"domain\":[0.0,1.0],\"title\":{\"text\":\"value\"}},\"legend\":{\"title\":{\"text\":\"variable\"},\"tracegroupgap\":0},\"title\":{\"text\":\"emissions\"}},                        {\"responsive\": true}                    ).then(function(){\n",
       "                            \n",
       "var gd = document.getElementById('4e546b8f-69e3-4960-a097-f8b6696b992d');\n",
       "var x = new MutationObserver(function (mutations, observer) {{\n",
       "        var display = window.getComputedStyle(gd).display;\n",
       "        if (!display || display === 'none') {{\n",
       "            console.log([gd, 'removed!']);\n",
       "            Plotly.purge(gd);\n",
       "            observer.disconnect();\n",
       "        }}\n",
       "}});\n",
       "\n",
       "// Listen for the removal of the full notebook cells\n",
       "var notebookContainer = gd.closest('#notebook-container');\n",
       "if (notebookContainer) {{\n",
       "    x.observe(notebookContainer, {childList: true});\n",
       "}}\n",
       "\n",
       "// Listen for the clearing of the current output cell\n",
       "var outputEl = gd.closest('.output');\n",
       "if (outputEl) {{\n",
       "    x.observe(outputEl, {childList: true});\n",
       "}}\n",
       "\n",
       "                        })                };                });            </script>        </div>"
      ]
     },
     "metadata": {},
     "output_type": "display_data"
    },
    {
     "data": {
      "text/html": [
       "<div style=\"width:100%;\"><div style=\"position:relative;width:100%;height:0;padding-bottom:60%;\"><span style=\"color:#565656\">Make this Notebook Trusted to load map: File -> Trust Notebook</span><iframe srcdoc=\"&lt;!DOCTYPE html&gt;\n",
       "&lt;html&gt;\n",
       "&lt;head&gt;\n",
       "    \n",
       "    &lt;meta http-equiv=&quot;content-type&quot; content=&quot;text/html; charset=UTF-8&quot; /&gt;\n",
       "    \n",
       "        &lt;script&gt;\n",
       "            L_NO_TOUCH = false;\n",
       "            L_DISABLE_3D = false;\n",
       "        &lt;/script&gt;\n",
       "    \n",
       "    &lt;style&gt;html, body {width: 100%;height: 100%;margin: 0;padding: 0;}&lt;/style&gt;\n",
       "    &lt;style&gt;#map {position:absolute;top:0;bottom:0;right:0;left:0;}&lt;/style&gt;\n",
       "    &lt;script src=&quot;https://cdn.jsdelivr.net/npm/leaflet@1.6.0/dist/leaflet.js&quot;&gt;&lt;/script&gt;\n",
       "    &lt;script src=&quot;https://code.jquery.com/jquery-1.12.4.min.js&quot;&gt;&lt;/script&gt;\n",
       "    &lt;script src=&quot;https://maxcdn.bootstrapcdn.com/bootstrap/3.2.0/js/bootstrap.min.js&quot;&gt;&lt;/script&gt;\n",
       "    &lt;script src=&quot;https://cdnjs.cloudflare.com/ajax/libs/Leaflet.awesome-markers/2.0.2/leaflet.awesome-markers.js&quot;&gt;&lt;/script&gt;\n",
       "    &lt;link rel=&quot;stylesheet&quot; href=&quot;https://cdn.jsdelivr.net/npm/leaflet@1.6.0/dist/leaflet.css&quot;/&gt;\n",
       "    &lt;link rel=&quot;stylesheet&quot; href=&quot;https://maxcdn.bootstrapcdn.com/bootstrap/3.2.0/css/bootstrap.min.css&quot;/&gt;\n",
       "    &lt;link rel=&quot;stylesheet&quot; href=&quot;https://maxcdn.bootstrapcdn.com/bootstrap/3.2.0/css/bootstrap-theme.min.css&quot;/&gt;\n",
       "    &lt;link rel=&quot;stylesheet&quot; href=&quot;https://maxcdn.bootstrapcdn.com/font-awesome/4.6.3/css/font-awesome.min.css&quot;/&gt;\n",
       "    &lt;link rel=&quot;stylesheet&quot; href=&quot;https://cdnjs.cloudflare.com/ajax/libs/Leaflet.awesome-markers/2.0.2/leaflet.awesome-markers.css&quot;/&gt;\n",
       "    &lt;link rel=&quot;stylesheet&quot; href=&quot;https://cdn.jsdelivr.net/gh/python-visualization/folium/folium/templates/leaflet.awesome.rotate.min.css&quot;/&gt;\n",
       "    \n",
       "            &lt;meta name=&quot;viewport&quot; content=&quot;width=device-width,\n",
       "                initial-scale=1.0, maximum-scale=1.0, user-scalable=no&quot; /&gt;\n",
       "            &lt;style&gt;\n",
       "                #map_24696aca6ee64004fe44677969a6c0bf {\n",
       "                    position: relative;\n",
       "                    width: 100.0%;\n",
       "                    height: 100.0%;\n",
       "                    left: 0.0%;\n",
       "                    top: 0.0%;\n",
       "                }\n",
       "            &lt;/style&gt;\n",
       "        \n",
       "&lt;/head&gt;\n",
       "&lt;body&gt;\n",
       "    \n",
       "    \n",
       "            &lt;div class=&quot;folium-map&quot; id=&quot;map_24696aca6ee64004fe44677969a6c0bf&quot; &gt;&lt;/div&gt;\n",
       "        \n",
       "&lt;/body&gt;\n",
       "&lt;script&gt;\n",
       "    \n",
       "    \n",
       "            var map_24696aca6ee64004fe44677969a6c0bf = L.map(\n",
       "                &quot;map_24696aca6ee64004fe44677969a6c0bf&quot;,\n",
       "                {\n",
       "                    center: [52.377231, 4.899288],\n",
       "                    crs: L.CRS.EPSG3857,\n",
       "                    zoom: 12,\n",
       "                    zoomControl: true,\n",
       "                    preferCanvas: false,\n",
       "                }\n",
       "            );\n",
       "\n",
       "            \n",
       "\n",
       "        \n",
       "    \n",
       "            var tile_layer_242bbb1023e4834b0f2170a581382d36 = L.tileLayer(\n",
       "                &quot;https://cartodb-basemaps-{s}.global.ssl.fastly.net/dark_all/{z}/{x}/{y}.png&quot;,\n",
       "                {&quot;attribution&quot;: &quot;\\u0026copy; \\u003ca href=\\&quot;http://www.openstreetmap.org/copyright\\&quot;\\u003eOpenStreetMap\\u003c/a\\u003e contributors \\u0026copy; \\u003ca href=\\&quot;http://cartodb.com/attributions\\&quot;\\u003eCartoDB\\u003c/a\\u003e, CartoDB \\u003ca href =\\&quot;http://cartodb.com/attributions\\&quot;\\u003eattributions\\u003c/a\\u003e&quot;, &quot;detectRetina&quot;: false, &quot;maxNativeZoom&quot;: 18, &quot;maxZoom&quot;: 18, &quot;minZoom&quot;: 0, &quot;noWrap&quot;: false, &quot;opacity&quot;: 1, &quot;subdomains&quot;: &quot;abc&quot;, &quot;tms&quot;: false}\n",
       "            ).addTo(map_24696aca6ee64004fe44677969a6c0bf);\n",
       "        \n",
       "    \n",
       "            var poly_line_1ffdf362a8ebd4b2266ba0c1301bd92f = L.polyline(\n",
       "                [[52.40329258478124, 4.895598823382601], [52.41680441416802, 4.835733092175357]],\n",
       "                {&quot;bubblingMouseEvents&quot;: true, &quot;color&quot;: &quot;grey&quot;, &quot;dashArray&quot;: &quot;5&quot;, &quot;dashOffset&quot;: null, &quot;fill&quot;: false, &quot;fillColor&quot;: &quot;grey&quot;, &quot;fillOpacity&quot;: 0.2, &quot;fillRule&quot;: &quot;evenodd&quot;, &quot;lineCap&quot;: &quot;round&quot;, &quot;lineJoin&quot;: &quot;round&quot;, &quot;noClip&quot;: false, &quot;opacity&quot;: 1.0, &quot;smoothFactor&quot;: 1.0, &quot;stroke&quot;: true, &quot;weight&quot;: 1}\n",
       "            ).addTo(map_24696aca6ee64004fe44677969a6c0bf);\n",
       "        \n",
       "    \n",
       "            var poly_line_fadfa82be0190a9fd9d880ca91ec3084 = L.polyline(\n",
       "                [[52.40177482192012, 4.892268510602693], [52.41680441416802, 4.835733092175357]],\n",
       "                {&quot;bubblingMouseEvents&quot;: true, &quot;color&quot;: &quot;grey&quot;, &quot;dashArray&quot;: &quot;5&quot;, &quot;dashOffset&quot;: null, &quot;fill&quot;: false, &quot;fillColor&quot;: &quot;grey&quot;, &quot;fillOpacity&quot;: 0.2, &quot;fillRule&quot;: &quot;evenodd&quot;, &quot;lineCap&quot;: &quot;round&quot;, &quot;lineJoin&quot;: &quot;round&quot;, &quot;noClip&quot;: false, &quot;opacity&quot;: 1.0, &quot;smoothFactor&quot;: 1.0, &quot;stroke&quot;: true, &quot;weight&quot;: 1}\n",
       "            ).addTo(map_24696aca6ee64004fe44677969a6c0bf);\n",
       "        \n",
       "    \n",
       "            var poly_line_aa03c324306aba3fe4c243e35918f2d3 = L.polyline(\n",
       "                [[52.38271847843441, 4.859800352785352], [52.41680441416802, 4.835733092175357]],\n",
       "                {&quot;bubblingMouseEvents&quot;: true, &quot;color&quot;: &quot;grey&quot;, &quot;dashArray&quot;: &quot;5&quot;, &quot;dashOffset&quot;: null, &quot;fill&quot;: false, &quot;fillColor&quot;: &quot;grey&quot;, &quot;fillOpacity&quot;: 0.2, &quot;fillRule&quot;: &quot;evenodd&quot;, &quot;lineCap&quot;: &quot;round&quot;, &quot;lineJoin&quot;: &quot;round&quot;, &quot;noClip&quot;: false, &quot;opacity&quot;: 1.0, &quot;smoothFactor&quot;: 1.0, &quot;stroke&quot;: true, &quot;weight&quot;: 1}\n",
       "            ).addTo(map_24696aca6ee64004fe44677969a6c0bf);\n",
       "        \n",
       "    \n",
       "            var poly_line_8b843320ab5aa94244ee0c0056187fec = L.polyline(\n",
       "                [[52.39720109588166, 4.874697603657683], [52.41680441416802, 4.835733092175357]],\n",
       "                {&quot;bubblingMouseEvents&quot;: true, &quot;color&quot;: &quot;grey&quot;, &quot;dashArray&quot;: &quot;5&quot;, &quot;dashOffset&quot;: null, &quot;fill&quot;: false, &quot;fillColor&quot;: &quot;grey&quot;, &quot;fillOpacity&quot;: 0.2, &quot;fillRule&quot;: &quot;evenodd&quot;, &quot;lineCap&quot;: &quot;round&quot;, &quot;lineJoin&quot;: &quot;round&quot;, &quot;noClip&quot;: false, &quot;opacity&quot;: 1.0, &quot;smoothFactor&quot;: 1.0, &quot;stroke&quot;: true, &quot;weight&quot;: 1}\n",
       "            ).addTo(map_24696aca6ee64004fe44677969a6c0bf);\n",
       "        \n",
       "    \n",
       "            var poly_line_48dd2ecf564d7428d9f93287809e96df = L.polyline(\n",
       "                [[52.34244787101316, 4.844735673376495], [52.41680441416802, 4.835733092175357]],\n",
       "                {&quot;bubblingMouseEvents&quot;: true, &quot;color&quot;: &quot;grey&quot;, &quot;dashArray&quot;: &quot;5&quot;, &quot;dashOffset&quot;: null, &quot;fill&quot;: false, &quot;fillColor&quot;: &quot;grey&quot;, &quot;fillOpacity&quot;: 0.2, &quot;fillRule&quot;: &quot;evenodd&quot;, &quot;lineCap&quot;: &quot;round&quot;, &quot;lineJoin&quot;: &quot;round&quot;, &quot;noClip&quot;: false, &quot;opacity&quot;: 1.0, &quot;smoothFactor&quot;: 1.0, &quot;stroke&quot;: true, &quot;weight&quot;: 1}\n",
       "            ).addTo(map_24696aca6ee64004fe44677969a6c0bf);\n",
       "        \n",
       "    \n",
       "            var poly_line_94c1ca2a35496c61c0431e1ea4923a66 = L.polyline(\n",
       "                [[52.396868625406135, 4.866137105371228], [52.41680441416802, 4.835733092175357]],\n",
       "                {&quot;bubblingMouseEvents&quot;: true, &quot;color&quot;: &quot;grey&quot;, &quot;dashArray&quot;: &quot;5&quot;, &quot;dashOffset&quot;: null, &quot;fill&quot;: false, &quot;fillColor&quot;: &quot;grey&quot;, &quot;fillOpacity&quot;: 0.2, &quot;fillRule&quot;: &quot;evenodd&quot;, &quot;lineCap&quot;: &quot;round&quot;, &quot;lineJoin&quot;: &quot;round&quot;, &quot;noClip&quot;: false, &quot;opacity&quot;: 1.0, &quot;smoothFactor&quot;: 1.0, &quot;stroke&quot;: true, &quot;weight&quot;: 1}\n",
       "            ).addTo(map_24696aca6ee64004fe44677969a6c0bf);\n",
       "        \n",
       "    \n",
       "            var poly_line_56bb457838a1d64a5f52738c00f88efc = L.polyline(\n",
       "                [[52.32106380013251, 4.9269144122958926], [52.31140129410532, 4.966573993301029]],\n",
       "                {&quot;bubblingMouseEvents&quot;: true, &quot;color&quot;: &quot;grey&quot;, &quot;dashArray&quot;: &quot;5&quot;, &quot;dashOffset&quot;: null, &quot;fill&quot;: false, &quot;fillColor&quot;: &quot;grey&quot;, &quot;fillOpacity&quot;: 0.2, &quot;fillRule&quot;: &quot;evenodd&quot;, &quot;lineCap&quot;: &quot;round&quot;, &quot;lineJoin&quot;: &quot;round&quot;, &quot;noClip&quot;: false, &quot;opacity&quot;: 1.0, &quot;smoothFactor&quot;: 1.0, &quot;stroke&quot;: true, &quot;weight&quot;: 1}\n",
       "            ).addTo(map_24696aca6ee64004fe44677969a6c0bf);\n",
       "        \n",
       "    \n",
       "            var poly_line_fa729a91dbf8aa6ecfe387ac605b18a2 = L.polyline(\n",
       "                [[52.315849838150285, 4.9342090526282165], [52.31140129410532, 4.966573993301029]],\n",
       "                {&quot;bubblingMouseEvents&quot;: true, &quot;color&quot;: &quot;grey&quot;, &quot;dashArray&quot;: &quot;5&quot;, &quot;dashOffset&quot;: null, &quot;fill&quot;: false, &quot;fillColor&quot;: &quot;grey&quot;, &quot;fillOpacity&quot;: 0.2, &quot;fillRule&quot;: &quot;evenodd&quot;, &quot;lineCap&quot;: &quot;round&quot;, &quot;lineJoin&quot;: &quot;round&quot;, &quot;noClip&quot;: false, &quot;opacity&quot;: 1.0, &quot;smoothFactor&quot;: 1.0, &quot;stroke&quot;: true, &quot;weight&quot;: 1}\n",
       "            ).addTo(map_24696aca6ee64004fe44677969a6c0bf);\n",
       "        \n",
       "    \n",
       "            var poly_line_3aeebd4182c497e617f7c003fddf6fcc = L.polyline(\n",
       "                [[52.31451046531305, 4.923033439309801], [52.31140129410532, 4.966573993301029]],\n",
       "                {&quot;bubblingMouseEvents&quot;: true, &quot;color&quot;: &quot;grey&quot;, &quot;dashArray&quot;: &quot;5&quot;, &quot;dashOffset&quot;: null, &quot;fill&quot;: false, &quot;fillColor&quot;: &quot;grey&quot;, &quot;fillOpacity&quot;: 0.2, &quot;fillRule&quot;: &quot;evenodd&quot;, &quot;lineCap&quot;: &quot;round&quot;, &quot;lineJoin&quot;: &quot;round&quot;, &quot;noClip&quot;: false, &quot;opacity&quot;: 1.0, &quot;smoothFactor&quot;: 1.0, &quot;stroke&quot;: true, &quot;weight&quot;: 1}\n",
       "            ).addTo(map_24696aca6ee64004fe44677969a6c0bf);\n",
       "        \n",
       "    \n",
       "            var poly_line_d4742ec770ac67ee32ee6a554d7b8c99 = L.polyline(\n",
       "                [[52.331697340848876, 4.983837495916115], [52.31140129410532, 4.966573993301029]],\n",
       "                {&quot;bubblingMouseEvents&quot;: true, &quot;color&quot;: &quot;grey&quot;, &quot;dashArray&quot;: &quot;5&quot;, &quot;dashOffset&quot;: null, &quot;fill&quot;: false, &quot;fillColor&quot;: &quot;grey&quot;, &quot;fillOpacity&quot;: 0.2, &quot;fillRule&quot;: &quot;evenodd&quot;, &quot;lineCap&quot;: &quot;round&quot;, &quot;lineJoin&quot;: &quot;round&quot;, &quot;noClip&quot;: false, &quot;opacity&quot;: 1.0, &quot;smoothFactor&quot;: 1.0, &quot;stroke&quot;: true, &quot;weight&quot;: 1}\n",
       "            ).addTo(map_24696aca6ee64004fe44677969a6c0bf);\n",
       "        \n",
       "    \n",
       "            var poly_line_8a7ea34f6e94b10b870a02f677c39014 = L.polyline(\n",
       "                [[52.33992862489158, 5.011911562133861], [52.31140129410532, 4.966573993301029]],\n",
       "                {&quot;bubblingMouseEvents&quot;: true, &quot;color&quot;: &quot;grey&quot;, &quot;dashArray&quot;: &quot;5&quot;, &quot;dashOffset&quot;: null, &quot;fill&quot;: false, &quot;fillColor&quot;: &quot;grey&quot;, &quot;fillOpacity&quot;: 0.2, &quot;fillRule&quot;: &quot;evenodd&quot;, &quot;lineCap&quot;: &quot;round&quot;, &quot;lineJoin&quot;: &quot;round&quot;, &quot;noClip&quot;: false, &quot;opacity&quot;: 1.0, &quot;smoothFactor&quot;: 1.0, &quot;stroke&quot;: true, &quot;weight&quot;: 1}\n",
       "            ).addTo(map_24696aca6ee64004fe44677969a6c0bf);\n",
       "        \n",
       "    \n",
       "            var poly_line_64bdb3120ec5257cba432c15fa33b917 = L.polyline(\n",
       "                [[52.326869168486525, 4.924350200983048], [52.31140129410532, 4.966573993301029]],\n",
       "                {&quot;bubblingMouseEvents&quot;: true, &quot;color&quot;: &quot;grey&quot;, &quot;dashArray&quot;: &quot;5&quot;, &quot;dashOffset&quot;: null, &quot;fill&quot;: false, &quot;fillColor&quot;: &quot;grey&quot;, &quot;fillOpacity&quot;: 0.2, &quot;fillRule&quot;: &quot;evenodd&quot;, &quot;lineCap&quot;: &quot;round&quot;, &quot;lineJoin&quot;: &quot;round&quot;, &quot;noClip&quot;: false, &quot;opacity&quot;: 1.0, &quot;smoothFactor&quot;: 1.0, &quot;stroke&quot;: true, &quot;weight&quot;: 1}\n",
       "            ).addTo(map_24696aca6ee64004fe44677969a6c0bf);\n",
       "        \n",
       "    \n",
       "            var poly_line_0836f549286b91a3d07d3400a7d5279a = L.polyline(\n",
       "                [[52.33120963741873, 4.968729378499803], [52.31140129410532, 4.966573993301029]],\n",
       "                {&quot;bubblingMouseEvents&quot;: true, &quot;color&quot;: &quot;grey&quot;, &quot;dashArray&quot;: &quot;5&quot;, &quot;dashOffset&quot;: null, &quot;fill&quot;: false, &quot;fillColor&quot;: &quot;grey&quot;, &quot;fillOpacity&quot;: 0.2, &quot;fillRule&quot;: &quot;evenodd&quot;, &quot;lineCap&quot;: &quot;round&quot;, &quot;lineJoin&quot;: &quot;round&quot;, &quot;noClip&quot;: false, &quot;opacity&quot;: 1.0, &quot;smoothFactor&quot;: 1.0, &quot;stroke&quot;: true, &quot;weight&quot;: 1}\n",
       "            ).addTo(map_24696aca6ee64004fe44677969a6c0bf);\n",
       "        \n",
       "    \n",
       "            var poly_line_705cec0a762a2841afa89eb0753f77f2 = L.polyline(\n",
       "                [[52.31435300410719, 4.942843001277443], [52.315849838150285, 4.9342090526282165]],\n",
       "                {&quot;bubblingMouseEvents&quot;: true, &quot;color&quot;: &quot;grey&quot;, &quot;dashArray&quot;: &quot;5&quot;, &quot;dashOffset&quot;: null, &quot;fill&quot;: false, &quot;fillColor&quot;: &quot;grey&quot;, &quot;fillOpacity&quot;: 0.2, &quot;fillRule&quot;: &quot;evenodd&quot;, &quot;lineCap&quot;: &quot;round&quot;, &quot;lineJoin&quot;: &quot;round&quot;, &quot;noClip&quot;: false, &quot;opacity&quot;: 1.0, &quot;smoothFactor&quot;: 1.0, &quot;stroke&quot;: true, &quot;weight&quot;: 1}\n",
       "            ).addTo(map_24696aca6ee64004fe44677969a6c0bf);\n",
       "        \n",
       "    \n",
       "            var poly_line_1e423ac5607d6f3d9bfdb4658f39851a = L.polyline(\n",
       "                [[52.39605100415567, 4.903902001242397], [52.40329258478124, 4.895598823382601]],\n",
       "                {&quot;bubblingMouseEvents&quot;: true, &quot;color&quot;: &quot;grey&quot;, &quot;dashArray&quot;: &quot;5&quot;, &quot;dashOffset&quot;: null, &quot;fill&quot;: false, &quot;fillColor&quot;: &quot;grey&quot;, &quot;fillOpacity&quot;: 0.2, &quot;fillRule&quot;: &quot;evenodd&quot;, &quot;lineCap&quot;: &quot;round&quot;, &quot;lineJoin&quot;: &quot;round&quot;, &quot;noClip&quot;: false, &quot;opacity&quot;: 1.0, &quot;smoothFactor&quot;: 1.0, &quot;stroke&quot;: true, &quot;weight&quot;: 1}\n",
       "            ).addTo(map_24696aca6ee64004fe44677969a6c0bf);\n",
       "        \n",
       "    \n",
       "            var poly_line_40b1bf4f5817d01bda772b44cd55ce0a = L.polyline(\n",
       "                [[52.395260004155205, 4.905431001243884], [52.40329258478124, 4.895598823382601]],\n",
       "                {&quot;bubblingMouseEvents&quot;: true, &quot;color&quot;: &quot;grey&quot;, &quot;dashArray&quot;: &quot;5&quot;, &quot;dashOffset&quot;: null, &quot;fill&quot;: false, &quot;fillColor&quot;: &quot;grey&quot;, &quot;fillOpacity&quot;: 0.2, &quot;fillRule&quot;: &quot;evenodd&quot;, &quot;lineCap&quot;: &quot;round&quot;, &quot;lineJoin&quot;: &quot;round&quot;, &quot;noClip&quot;: false, &quot;opacity&quot;: 1.0, &quot;smoothFactor&quot;: 1.0, &quot;stroke&quot;: true, &quot;weight&quot;: 1}\n",
       "            ).addTo(map_24696aca6ee64004fe44677969a6c0bf);\n",
       "        \n",
       "    \n",
       "            var poly_line_349c54f5057724800e45fc12ca55319a = L.polyline(\n",
       "                [[52.39518200415517, 4.905919001244367], [52.40329258478124, 4.895598823382601]],\n",
       "                {&quot;bubblingMouseEvents&quot;: true, &quot;color&quot;: &quot;grey&quot;, &quot;dashArray&quot;: &quot;5&quot;, &quot;dashOffset&quot;: null, &quot;fill&quot;: false, &quot;fillColor&quot;: &quot;grey&quot;, &quot;fillOpacity&quot;: 0.2, &quot;fillRule&quot;: &quot;evenodd&quot;, &quot;lineCap&quot;: &quot;round&quot;, &quot;lineJoin&quot;: &quot;round&quot;, &quot;noClip&quot;: false, &quot;opacity&quot;: 1.0, &quot;smoothFactor&quot;: 1.0, &quot;stroke&quot;: true, &quot;weight&quot;: 1}\n",
       "            ).addTo(map_24696aca6ee64004fe44677969a6c0bf);\n",
       "        \n",
       "    \n",
       "            var poly_line_774b391330dc702eb93eb30e6be42c73 = L.polyline(\n",
       "                [[52.40168800415899, 4.8990640012378375], [52.40329258478124, 4.895598823382601]],\n",
       "                {&quot;bubblingMouseEvents&quot;: true, &quot;color&quot;: &quot;grey&quot;, &quot;dashArray&quot;: &quot;5&quot;, &quot;dashOffset&quot;: null, &quot;fill&quot;: false, &quot;fillColor&quot;: &quot;grey&quot;, &quot;fillOpacity&quot;: 0.2, &quot;fillRule&quot;: &quot;evenodd&quot;, &quot;lineCap&quot;: &quot;round&quot;, &quot;lineJoin&quot;: &quot;round&quot;, &quot;noClip&quot;: false, &quot;opacity&quot;: 1.0, &quot;smoothFactor&quot;: 1.0, &quot;stroke&quot;: true, &quot;weight&quot;: 1}\n",
       "            ).addTo(map_24696aca6ee64004fe44677969a6c0bf);\n",
       "        \n",
       "    \n",
       "            var poly_line_24d3c589959cd9b54064f55008820405 = L.polyline(\n",
       "                [[52.40399100416039, 4.888953001227851], [52.40177482192012, 4.892268510602693]],\n",
       "                {&quot;bubblingMouseEvents&quot;: true, &quot;color&quot;: &quot;grey&quot;, &quot;dashArray&quot;: &quot;5&quot;, &quot;dashOffset&quot;: null, &quot;fill&quot;: false, &quot;fillColor&quot;: &quot;grey&quot;, &quot;fillOpacity&quot;: 0.2, &quot;fillRule&quot;: &quot;evenodd&quot;, &quot;lineCap&quot;: &quot;round&quot;, &quot;lineJoin&quot;: &quot;round&quot;, &quot;noClip&quot;: false, &quot;opacity&quot;: 1.0, &quot;smoothFactor&quot;: 1.0, &quot;stroke&quot;: true, &quot;weight&quot;: 1}\n",
       "            ).addTo(map_24696aca6ee64004fe44677969a6c0bf);\n",
       "        \n",
       "    \n",
       "            var poly_line_0c99df73885d5b71f6f7d423ee7a0811 = L.polyline(\n",
       "                [[52.39173400415317, 4.90243900124073], [52.40177482192012, 4.892268510602693]],\n",
       "                {&quot;bubblingMouseEvents&quot;: true, &quot;color&quot;: &quot;grey&quot;, &quot;dashArray&quot;: &quot;5&quot;, &quot;dashOffset&quot;: null, &quot;fill&quot;: false, &quot;fillColor&quot;: &quot;grey&quot;, &quot;fillOpacity&quot;: 0.2, &quot;fillRule&quot;: &quot;evenodd&quot;, &quot;lineCap&quot;: &quot;round&quot;, &quot;lineJoin&quot;: &quot;round&quot;, &quot;noClip&quot;: false, &quot;opacity&quot;: 1.0, &quot;smoothFactor&quot;: 1.0, &quot;stroke&quot;: true, &quot;weight&quot;: 1}\n",
       "            ).addTo(map_24696aca6ee64004fe44677969a6c0bf);\n",
       "        \n",
       "    \n",
       "            var poly_line_bc87411ceac03f32723a8f86430dcafc = L.polyline(\n",
       "                [[52.402576004159506, 4.893148001231972], [52.40177482192012, 4.892268510602693]],\n",
       "                {&quot;bubblingMouseEvents&quot;: true, &quot;color&quot;: &quot;grey&quot;, &quot;dashArray&quot;: &quot;5&quot;, &quot;dashOffset&quot;: null, &quot;fill&quot;: false, &quot;fillColor&quot;: &quot;grey&quot;, &quot;fillOpacity&quot;: 0.2, &quot;fillRule&quot;: &quot;evenodd&quot;, &quot;lineCap&quot;: &quot;round&quot;, &quot;lineJoin&quot;: &quot;round&quot;, &quot;noClip&quot;: false, &quot;opacity&quot;: 1.0, &quot;smoothFactor&quot;: 1.0, &quot;stroke&quot;: true, &quot;weight&quot;: 1}\n",
       "            ).addTo(map_24696aca6ee64004fe44677969a6c0bf);\n",
       "        \n",
       "    \n",
       "            var poly_line_2c1b21a55dad129d3912d3372d266899 = L.polyline(\n",
       "                [[52.370216004140495, 4.895168001232443], [52.38271847843441, 4.859800352785352]],\n",
       "                {&quot;bubblingMouseEvents&quot;: true, &quot;color&quot;: &quot;grey&quot;, &quot;dashArray&quot;: &quot;5&quot;, &quot;dashOffset&quot;: null, &quot;fill&quot;: false, &quot;fillColor&quot;: &quot;grey&quot;, &quot;fillOpacity&quot;: 0.2, &quot;fillRule&quot;: &quot;evenodd&quot;, &quot;lineCap&quot;: &quot;round&quot;, &quot;lineJoin&quot;: &quot;round&quot;, &quot;noClip&quot;: false, &quot;opacity&quot;: 1.0, &quot;smoothFactor&quot;: 1.0, &quot;stroke&quot;: true, &quot;weight&quot;: 1}\n",
       "            ).addTo(map_24696aca6ee64004fe44677969a6c0bf);\n",
       "        \n",
       "    \n",
       "            var poly_line_fe0683cafe14805d8cd71cf9f0504f58 = L.polyline(\n",
       "                [[52.38634800415012, 4.837586001175717], [52.38271847843441, 4.859800352785352]],\n",
       "                {&quot;bubblingMouseEvents&quot;: true, &quot;color&quot;: &quot;grey&quot;, &quot;dashArray&quot;: &quot;5&quot;, &quot;dashOffset&quot;: null, &quot;fill&quot;: false, &quot;fillColor&quot;: &quot;grey&quot;, &quot;fillOpacity&quot;: 0.2, &quot;fillRule&quot;: &quot;evenodd&quot;, &quot;lineCap&quot;: &quot;round&quot;, &quot;lineJoin&quot;: &quot;round&quot;, &quot;noClip&quot;: false, &quot;opacity&quot;: 1.0, &quot;smoothFactor&quot;: 1.0, &quot;stroke&quot;: true, &quot;weight&quot;: 1}\n",
       "            ).addTo(map_24696aca6ee64004fe44677969a6c0bf);\n",
       "        \n",
       "    \n",
       "            var poly_line_5f6e70227ca1b040af3e7cf03b54be6b = L.polyline(\n",
       "                [[52.37403000414271, 4.889690001227152], [52.38271847843441, 4.859800352785352]],\n",
       "                {&quot;bubblingMouseEvents&quot;: true, &quot;color&quot;: &quot;grey&quot;, &quot;dashArray&quot;: &quot;5&quot;, &quot;dashOffset&quot;: null, &quot;fill&quot;: false, &quot;fillColor&quot;: &quot;grey&quot;, &quot;fillOpacity&quot;: 0.2, &quot;fillRule&quot;: &quot;evenodd&quot;, &quot;lineCap&quot;: &quot;round&quot;, &quot;lineJoin&quot;: &quot;round&quot;, &quot;noClip&quot;: false, &quot;opacity&quot;: 1.0, &quot;smoothFactor&quot;: 1.0, &quot;stroke&quot;: true, &quot;weight&quot;: 1}\n",
       "            ).addTo(map_24696aca6ee64004fe44677969a6c0bf);\n",
       "        \n",
       "    \n",
       "            var poly_line_eb29a44bc85f42f761a755fc6cc3ae79 = L.polyline(\n",
       "                [[52.38666000415029, 4.837160001175309], [52.38271847843441, 4.859800352785352]],\n",
       "                {&quot;bubblingMouseEvents&quot;: true, &quot;color&quot;: &quot;grey&quot;, &quot;dashArray&quot;: &quot;5&quot;, &quot;dashOffset&quot;: null, &quot;fill&quot;: false, &quot;fillColor&quot;: &quot;grey&quot;, &quot;fillOpacity&quot;: 0.2, &quot;fillRule&quot;: &quot;evenodd&quot;, &quot;lineCap&quot;: &quot;round&quot;, &quot;lineJoin&quot;: &quot;round&quot;, &quot;noClip&quot;: false, &quot;opacity&quot;: 1.0, &quot;smoothFactor&quot;: 1.0, &quot;stroke&quot;: true, &quot;weight&quot;: 1}\n",
       "            ).addTo(map_24696aca6ee64004fe44677969a6c0bf);\n",
       "        \n",
       "    \n",
       "            var poly_line_2aacc74875a69ddfb42d87d854918431 = L.polyline(\n",
       "                [[52.38806300415114, 4.834914001173135], [52.38271847843441, 4.859800352785352]],\n",
       "                {&quot;bubblingMouseEvents&quot;: true, &quot;color&quot;: &quot;grey&quot;, &quot;dashArray&quot;: &quot;5&quot;, &quot;dashOffset&quot;: null, &quot;fill&quot;: false, &quot;fillColor&quot;: &quot;grey&quot;, &quot;fillOpacity&quot;: 0.2, &quot;fillRule&quot;: &quot;evenodd&quot;, &quot;lineCap&quot;: &quot;round&quot;, &quot;lineJoin&quot;: &quot;round&quot;, &quot;noClip&quot;: false, &quot;opacity&quot;: 1.0, &quot;smoothFactor&quot;: 1.0, &quot;stroke&quot;: true, &quot;weight&quot;: 1}\n",
       "            ).addTo(map_24696aca6ee64004fe44677969a6c0bf);\n",
       "        \n",
       "    \n",
       "            var poly_line_013ade0fb1750809c719f553d4ea5143 = L.polyline(\n",
       "                [[52.38524600414949, 4.832161001170251], [52.38271847843441, 4.859800352785352]],\n",
       "                {&quot;bubblingMouseEvents&quot;: true, &quot;color&quot;: &quot;grey&quot;, &quot;dashArray&quot;: &quot;5&quot;, &quot;dashOffset&quot;: null, &quot;fill&quot;: false, &quot;fillColor&quot;: &quot;grey&quot;, &quot;fillOpacity&quot;: 0.2, &quot;fillRule&quot;: &quot;evenodd&quot;, &quot;lineCap&quot;: &quot;round&quot;, &quot;lineJoin&quot;: &quot;round&quot;, &quot;noClip&quot;: false, &quot;opacity&quot;: 1.0, &quot;smoothFactor&quot;: 1.0, &quot;stroke&quot;: true, &quot;weight&quot;: 1}\n",
       "            ).addTo(map_24696aca6ee64004fe44677969a6c0bf);\n",
       "        \n",
       "    \n",
       "            var poly_line_24d0e20dd0e819234ef0220702f5236c = L.polyline(\n",
       "                [[52.37403000414271, 4.889690001227152], [52.38271847843441, 4.859800352785352]],\n",
       "                {&quot;bubblingMouseEvents&quot;: true, &quot;color&quot;: &quot;grey&quot;, &quot;dashArray&quot;: &quot;5&quot;, &quot;dashOffset&quot;: null, &quot;fill&quot;: false, &quot;fillColor&quot;: &quot;grey&quot;, &quot;fillOpacity&quot;: 0.2, &quot;fillRule&quot;: &quot;evenodd&quot;, &quot;lineCap&quot;: &quot;round&quot;, &quot;lineJoin&quot;: &quot;round&quot;, &quot;noClip&quot;: false, &quot;opacity&quot;: 1.0, &quot;smoothFactor&quot;: 1.0, &quot;stroke&quot;: true, &quot;weight&quot;: 1}\n",
       "            ).addTo(map_24696aca6ee64004fe44677969a6c0bf);\n",
       "        \n",
       "    \n",
       "            var poly_line_6a9f16b3087138441b1a3a5545519d77 = L.polyline(\n",
       "                [[52.35396400413038, 5.014631001351021], [52.33992862489158, 5.011911562133861]],\n",
       "                {&quot;bubblingMouseEvents&quot;: true, &quot;color&quot;: &quot;grey&quot;, &quot;dashArray&quot;: &quot;5&quot;, &quot;dashOffset&quot;: null, &quot;fill&quot;: false, &quot;fillColor&quot;: &quot;grey&quot;, &quot;fillOpacity&quot;: 0.2, &quot;fillRule&quot;: &quot;evenodd&quot;, &quot;lineCap&quot;: &quot;round&quot;, &quot;lineJoin&quot;: &quot;round&quot;, &quot;noClip&quot;: false, &quot;opacity&quot;: 1.0, &quot;smoothFactor&quot;: 1.0, &quot;stroke&quot;: true, &quot;weight&quot;: 1}\n",
       "            ).addTo(map_24696aca6ee64004fe44677969a6c0bf);\n",
       "        \n",
       "    \n",
       "            var poly_line_d118635469ded9c246da50ab4b34aeca = L.polyline(\n",
       "                [[52.35396400413038, 5.014631001351021], [52.33992862489158, 5.011911562133861]],\n",
       "                {&quot;bubblingMouseEvents&quot;: true, &quot;color&quot;: &quot;grey&quot;, &quot;dashArray&quot;: &quot;5&quot;, &quot;dashOffset&quot;: null, &quot;fill&quot;: false, &quot;fillColor&quot;: &quot;grey&quot;, &quot;fillOpacity&quot;: 0.2, &quot;fillRule&quot;: &quot;evenodd&quot;, &quot;lineCap&quot;: &quot;round&quot;, &quot;lineJoin&quot;: &quot;round&quot;, &quot;noClip&quot;: false, &quot;opacity&quot;: 1.0, &quot;smoothFactor&quot;: 1.0, &quot;stroke&quot;: true, &quot;weight&quot;: 1}\n",
       "            ).addTo(map_24696aca6ee64004fe44677969a6c0bf);\n",
       "        \n",
       "    \n",
       "            var poly_line_abc12296c631463985885853ecc264f4 = L.polyline(\n",
       "                [[52.33841100412168, 4.893263001229024], [52.326869168486525, 4.924350200983048]],\n",
       "                {&quot;bubblingMouseEvents&quot;: true, &quot;color&quot;: &quot;grey&quot;, &quot;dashArray&quot;: &quot;5&quot;, &quot;dashOffset&quot;: null, &quot;fill&quot;: false, &quot;fillColor&quot;: &quot;grey&quot;, &quot;fillOpacity&quot;: 0.2, &quot;fillRule&quot;: &quot;evenodd&quot;, &quot;lineCap&quot;: &quot;round&quot;, &quot;lineJoin&quot;: &quot;round&quot;, &quot;noClip&quot;: false, &quot;opacity&quot;: 1.0, &quot;smoothFactor&quot;: 1.0, &quot;stroke&quot;: true, &quot;weight&quot;: 1}\n",
       "            ).addTo(map_24696aca6ee64004fe44677969a6c0bf);\n",
       "        \n",
       "    \n",
       "            var poly_line_c477a6dd0ba5491ce658b9f3d18e8d5d = L.polyline(\n",
       "                [[52.33712800412097, 4.863074001198793], [52.34244787101316, 4.844735673376495]],\n",
       "                {&quot;bubblingMouseEvents&quot;: true, &quot;color&quot;: &quot;grey&quot;, &quot;dashArray&quot;: &quot;5&quot;, &quot;dashOffset&quot;: null, &quot;fill&quot;: false, &quot;fillColor&quot;: &quot;grey&quot;, &quot;fillOpacity&quot;: 0.2, &quot;fillRule&quot;: &quot;evenodd&quot;, &quot;lineCap&quot;: &quot;round&quot;, &quot;lineJoin&quot;: &quot;round&quot;, &quot;noClip&quot;: false, &quot;opacity&quot;: 1.0, &quot;smoothFactor&quot;: 1.0, &quot;stroke&quot;: true, &quot;weight&quot;: 1}\n",
       "            ).addTo(map_24696aca6ee64004fe44677969a6c0bf);\n",
       "        \n",
       "    \n",
       "            var poly_line_b63027113985147fb5a38fd5fed08f5a = L.polyline(\n",
       "                [[52.33800100412149, 4.877414001213164], [52.34244787101316, 4.844735673376495]],\n",
       "                {&quot;bubblingMouseEvents&quot;: true, &quot;color&quot;: &quot;grey&quot;, &quot;dashArray&quot;: &quot;5&quot;, &quot;dashOffset&quot;: null, &quot;fill&quot;: false, &quot;fillColor&quot;: &quot;grey&quot;, &quot;fillOpacity&quot;: 0.2, &quot;fillRule&quot;: &quot;evenodd&quot;, &quot;lineCap&quot;: &quot;round&quot;, &quot;lineJoin&quot;: &quot;round&quot;, &quot;noClip&quot;: false, &quot;opacity&quot;: 1.0, &quot;smoothFactor&quot;: 1.0, &quot;stroke&quot;: true, &quot;weight&quot;: 1}\n",
       "            ).addTo(map_24696aca6ee64004fe44677969a6c0bf);\n",
       "        \n",
       "    \n",
       "            var poly_line_6c44d99766e9b748e2fc30251cd2d8ba = L.polyline(\n",
       "                [[52.3369680041209, 4.863917001199627], [52.34244787101316, 4.844735673376495]],\n",
       "                {&quot;bubblingMouseEvents&quot;: true, &quot;color&quot;: &quot;grey&quot;, &quot;dashArray&quot;: &quot;5&quot;, &quot;dashOffset&quot;: null, &quot;fill&quot;: false, &quot;fillColor&quot;: &quot;grey&quot;, &quot;fillOpacity&quot;: 0.2, &quot;fillRule&quot;: &quot;evenodd&quot;, &quot;lineCap&quot;: &quot;round&quot;, &quot;lineJoin&quot;: &quot;round&quot;, &quot;noClip&quot;: false, &quot;opacity&quot;: 1.0, &quot;smoothFactor&quot;: 1.0, &quot;stroke&quot;: true, &quot;weight&quot;: 1}\n",
       "            ).addTo(map_24696aca6ee64004fe44677969a6c0bf);\n",
       "        \n",
       "    \n",
       "            var poly_line_936aceb7a9095819c739677db79ffcd7 = L.polyline(\n",
       "                [[52.31075400410493, 4.971066001305494], [52.33120963741873, 4.968729378499803]],\n",
       "                {&quot;bubblingMouseEvents&quot;: true, &quot;color&quot;: &quot;grey&quot;, &quot;dashArray&quot;: &quot;5&quot;, &quot;dashOffset&quot;: null, &quot;fill&quot;: false, &quot;fillColor&quot;: &quot;grey&quot;, &quot;fillOpacity&quot;: 0.2, &quot;fillRule&quot;: &quot;evenodd&quot;, &quot;lineCap&quot;: &quot;round&quot;, &quot;lineJoin&quot;: &quot;round&quot;, &quot;noClip&quot;: false, &quot;opacity&quot;: 1.0, &quot;smoothFactor&quot;: 1.0, &quot;stroke&quot;: true, &quot;weight&quot;: 1}\n",
       "            ).addTo(map_24696aca6ee64004fe44677969a6c0bf);\n",
       "        \n",
       "    \n",
       "            var poly_line_c0e03316c549442d0b37f0388d059b07 = L.polyline(\n",
       "                [[52.37565100414346, 4.960025001297474], [52.33120963741873, 4.968729378499803]],\n",
       "                {&quot;bubblingMouseEvents&quot;: true, &quot;color&quot;: &quot;grey&quot;, &quot;dashArray&quot;: &quot;5&quot;, &quot;dashOffset&quot;: null, &quot;fill&quot;: false, &quot;fillColor&quot;: &quot;grey&quot;, &quot;fillOpacity&quot;: 0.2, &quot;fillRule&quot;: &quot;evenodd&quot;, &quot;lineCap&quot;: &quot;round&quot;, &quot;lineJoin&quot;: &quot;round&quot;, &quot;noClip&quot;: false, &quot;opacity&quot;: 1.0, &quot;smoothFactor&quot;: 1.0, &quot;stroke&quot;: true, &quot;weight&quot;: 1}\n",
       "            ).addTo(map_24696aca6ee64004fe44677969a6c0bf);\n",
       "        \n",
       "    \n",
       "            var poly_line_01ff0d553dc8dc374f0f6f2f95f90b36 = L.polyline(\n",
       "                [[52.37565100414346, 4.960025001297474], [52.33120963741873, 4.968729378499803]],\n",
       "                {&quot;bubblingMouseEvents&quot;: true, &quot;color&quot;: &quot;grey&quot;, &quot;dashArray&quot;: &quot;5&quot;, &quot;dashOffset&quot;: null, &quot;fill&quot;: false, &quot;fillColor&quot;: &quot;grey&quot;, &quot;fillOpacity&quot;: 0.2, &quot;fillRule&quot;: &quot;evenodd&quot;, &quot;lineCap&quot;: &quot;round&quot;, &quot;lineJoin&quot;: &quot;round&quot;, &quot;noClip&quot;: false, &quot;opacity&quot;: 1.0, &quot;smoothFactor&quot;: 1.0, &quot;stroke&quot;: true, &quot;weight&quot;: 1}\n",
       "            ).addTo(map_24696aca6ee64004fe44677969a6c0bf);\n",
       "        \n",
       "    \n",
       "            var poly_line_02caf1a2bde29ac9f33d771fa9bc79ac = L.polyline(\n",
       "                [[52.37565100414346, 4.960025001297474], [52.33120963741873, 4.968729378499803]],\n",
       "                {&quot;bubblingMouseEvents&quot;: true, &quot;color&quot;: &quot;grey&quot;, &quot;dashArray&quot;: &quot;5&quot;, &quot;dashOffset&quot;: null, &quot;fill&quot;: false, &quot;fillColor&quot;: &quot;grey&quot;, &quot;fillOpacity&quot;: 0.2, &quot;fillRule&quot;: &quot;evenodd&quot;, &quot;lineCap&quot;: &quot;round&quot;, &quot;lineJoin&quot;: &quot;round&quot;, &quot;noClip&quot;: false, &quot;opacity&quot;: 1.0, &quot;smoothFactor&quot;: 1.0, &quot;stroke&quot;: true, &quot;weight&quot;: 1}\n",
       "            ).addTo(map_24696aca6ee64004fe44677969a6c0bf);\n",
       "        \n",
       "    \n",
       "            var poly_line_9a418b7826571767d186a858f140d6ed = L.polyline(\n",
       "                [[52.37565100414346, 4.960025001297474], [52.33120963741873, 4.968729378499803]],\n",
       "                {&quot;bubblingMouseEvents&quot;: true, &quot;color&quot;: &quot;grey&quot;, &quot;dashArray&quot;: &quot;5&quot;, &quot;dashOffset&quot;: null, &quot;fill&quot;: false, &quot;fillColor&quot;: &quot;grey&quot;, &quot;fillOpacity&quot;: 0.2, &quot;fillRule&quot;: &quot;evenodd&quot;, &quot;lineCap&quot;: &quot;round&quot;, &quot;lineJoin&quot;: &quot;round&quot;, &quot;noClip&quot;: false, &quot;opacity&quot;: 1.0, &quot;smoothFactor&quot;: 1.0, &quot;stroke&quot;: true, &quot;weight&quot;: 1}\n",
       "            ).addTo(map_24696aca6ee64004fe44677969a6c0bf);\n",
       "        \n",
       "    \n",
       "            var poly_line_9cb1411a64e00b8a6cd866db5d3272c6 = L.polyline(\n",
       "                [[52.37565100414346, 4.960025001297474], [52.33120963741873, 4.968729378499803]],\n",
       "                {&quot;bubblingMouseEvents&quot;: true, &quot;color&quot;: &quot;grey&quot;, &quot;dashArray&quot;: &quot;5&quot;, &quot;dashOffset&quot;: null, &quot;fill&quot;: false, &quot;fillColor&quot;: &quot;grey&quot;, &quot;fillOpacity&quot;: 0.2, &quot;fillRule&quot;: &quot;evenodd&quot;, &quot;lineCap&quot;: &quot;round&quot;, &quot;lineJoin&quot;: &quot;round&quot;, &quot;noClip&quot;: false, &quot;opacity&quot;: 1.0, &quot;smoothFactor&quot;: 1.0, &quot;stroke&quot;: true, &quot;weight&quot;: 1}\n",
       "            ).addTo(map_24696aca6ee64004fe44677969a6c0bf);\n",
       "        \n",
       "    \n",
       "            var poly_line_9a1d58abe868901eacfff2b7325a46fe = L.polyline(\n",
       "                [[52.32304800411234, 4.95648900129149], [52.33120963741873, 4.968729378499803]],\n",
       "                {&quot;bubblingMouseEvents&quot;: true, &quot;color&quot;: &quot;grey&quot;, &quot;dashArray&quot;: &quot;5&quot;, &quot;dashOffset&quot;: null, &quot;fill&quot;: false, &quot;fillColor&quot;: &quot;grey&quot;, &quot;fillOpacity&quot;: 0.2, &quot;fillRule&quot;: &quot;evenodd&quot;, &quot;lineCap&quot;: &quot;round&quot;, &quot;lineJoin&quot;: &quot;round&quot;, &quot;noClip&quot;: false, &quot;opacity&quot;: 1.0, &quot;smoothFactor&quot;: 1.0, &quot;stroke&quot;: true, &quot;weight&quot;: 1}\n",
       "            ).addTo(map_24696aca6ee64004fe44677969a6c0bf);\n",
       "        \n",
       "    \n",
       "            var poly_line_98ed834baca3fff3b3cfec039fbf3b2c = L.polyline(\n",
       "                [[52.30750000410298, 4.972220001306497], [52.33120963741873, 4.968729378499803]],\n",
       "                {&quot;bubblingMouseEvents&quot;: true, &quot;color&quot;: &quot;grey&quot;, &quot;dashArray&quot;: &quot;5&quot;, &quot;dashOffset&quot;: null, &quot;fill&quot;: false, &quot;fillColor&quot;: &quot;grey&quot;, &quot;fillOpacity&quot;: 0.2, &quot;fillRule&quot;: &quot;evenodd&quot;, &quot;lineCap&quot;: &quot;round&quot;, &quot;lineJoin&quot;: &quot;round&quot;, &quot;noClip&quot;: false, &quot;opacity&quot;: 1.0, &quot;smoothFactor&quot;: 1.0, &quot;stroke&quot;: true, &quot;weight&quot;: 1}\n",
       "            ).addTo(map_24696aca6ee64004fe44677969a6c0bf);\n",
       "        \n",
       "    \n",
       "            var poly_line_6f02d9cc7300ec9a8ff0ecb9f4a606b2 = L.polyline(\n",
       "                [[50.91608687465954, 5.837795945608008], [52.41680441416802, 4.835733092175357]],\n",
       "                {&quot;bubblingMouseEvents&quot;: true, &quot;color&quot;: &quot;#454545&quot;, &quot;dashArray&quot;: &quot;5&quot;, &quot;dashOffset&quot;: null, &quot;fill&quot;: false, &quot;fillColor&quot;: &quot;#454545&quot;, &quot;fillOpacity&quot;: 0.2, &quot;fillRule&quot;: &quot;evenodd&quot;, &quot;lineCap&quot;: &quot;round&quot;, &quot;lineJoin&quot;: &quot;round&quot;, &quot;noClip&quot;: false, &quot;opacity&quot;: 1.0, &quot;smoothFactor&quot;: 1.0, &quot;stroke&quot;: true, &quot;weight&quot;: 1}\n",
       "            ).addTo(map_24696aca6ee64004fe44677969a6c0bf);\n",
       "        \n",
       "    \n",
       "            var poly_line_323164d81188af5146326734a81eb9cf = L.polyline(\n",
       "                [[50.91608687465954, 5.837795945608008], [52.31140129410532, 4.966573993301029]],\n",
       "                {&quot;bubblingMouseEvents&quot;: true, &quot;color&quot;: &quot;#454545&quot;, &quot;dashArray&quot;: &quot;5&quot;, &quot;dashOffset&quot;: null, &quot;fill&quot;: false, &quot;fillColor&quot;: &quot;#454545&quot;, &quot;fillOpacity&quot;: 0.2, &quot;fillRule&quot;: &quot;evenodd&quot;, &quot;lineCap&quot;: &quot;round&quot;, &quot;lineJoin&quot;: &quot;round&quot;, &quot;noClip&quot;: false, &quot;opacity&quot;: 1.0, &quot;smoothFactor&quot;: 1.0, &quot;stroke&quot;: true, &quot;weight&quot;: 1}\n",
       "            ).addTo(map_24696aca6ee64004fe44677969a6c0bf);\n",
       "        \n",
       "    \n",
       "            var poly_line_e66ffcf84aa5e59f6830a1343add8d52 = L.polyline(\n",
       "                [[51.47221670497713, 5.737978712307354], [52.41680441416802, 4.835733092175357]],\n",
       "                {&quot;bubblingMouseEvents&quot;: true, &quot;color&quot;: &quot;#454545&quot;, &quot;dashArray&quot;: &quot;5&quot;, &quot;dashOffset&quot;: null, &quot;fill&quot;: false, &quot;fillColor&quot;: &quot;#454545&quot;, &quot;fillOpacity&quot;: 0.2, &quot;fillRule&quot;: &quot;evenodd&quot;, &quot;lineCap&quot;: &quot;round&quot;, &quot;lineJoin&quot;: &quot;round&quot;, &quot;noClip&quot;: false, &quot;opacity&quot;: 1.0, &quot;smoothFactor&quot;: 1.0, &quot;stroke&quot;: true, &quot;weight&quot;: 1}\n",
       "            ).addTo(map_24696aca6ee64004fe44677969a6c0bf);\n",
       "        \n",
       "    \n",
       "            var poly_line_88431a7568120a6b07bc3d72728c20dc = L.polyline(\n",
       "                [[51.47221670497713, 5.737978712307354], [52.31140129410532, 4.966573993301029]],\n",
       "                {&quot;bubblingMouseEvents&quot;: true, &quot;color&quot;: &quot;#454545&quot;, &quot;dashArray&quot;: &quot;5&quot;, &quot;dashOffset&quot;: null, &quot;fill&quot;: false, &quot;fillColor&quot;: &quot;#454545&quot;, &quot;fillOpacity&quot;: 0.2, &quot;fillRule&quot;: &quot;evenodd&quot;, &quot;lineCap&quot;: &quot;round&quot;, &quot;lineJoin&quot;: &quot;round&quot;, &quot;noClip&quot;: false, &quot;opacity&quot;: 1.0, &quot;smoothFactor&quot;: 1.0, &quot;stroke&quot;: true, &quot;weight&quot;: 1}\n",
       "            ).addTo(map_24696aca6ee64004fe44677969a6c0bf);\n",
       "        \n",
       "    \n",
       "            var poly_line_f1b1f6d38a90d8d330d41336e9552651 = L.polyline(\n",
       "                [[51.218521003147536, 9.63702900586856], [52.41680441416802, 4.835733092175357]],\n",
       "                {&quot;bubblingMouseEvents&quot;: true, &quot;color&quot;: &quot;#454545&quot;, &quot;dashArray&quot;: &quot;5&quot;, &quot;dashOffset&quot;: null, &quot;fill&quot;: false, &quot;fillColor&quot;: &quot;#454545&quot;, &quot;fillOpacity&quot;: 0.2, &quot;fillRule&quot;: &quot;evenodd&quot;, &quot;lineCap&quot;: &quot;round&quot;, &quot;lineJoin&quot;: &quot;round&quot;, &quot;noClip&quot;: false, &quot;opacity&quot;: 1.0, &quot;smoothFactor&quot;: 1.0, &quot;stroke&quot;: true, &quot;weight&quot;: 1}\n",
       "            ).addTo(map_24696aca6ee64004fe44677969a6c0bf);\n",
       "        \n",
       "    \n",
       "            var poly_line_9f4481bd1d141f49fe3d47928e2aa3fe = L.polyline(\n",
       "                [[51.218521003147536, 9.63702900586856], [52.31140129410532, 4.966573993301029]],\n",
       "                {&quot;bubblingMouseEvents&quot;: true, &quot;color&quot;: &quot;#454545&quot;, &quot;dashArray&quot;: &quot;5&quot;, &quot;dashOffset&quot;: null, &quot;fill&quot;: false, &quot;fillColor&quot;: &quot;#454545&quot;, &quot;fillOpacity&quot;: 0.2, &quot;fillRule&quot;: &quot;evenodd&quot;, &quot;lineCap&quot;: &quot;round&quot;, &quot;lineJoin&quot;: &quot;round&quot;, &quot;noClip&quot;: false, &quot;opacity&quot;: 1.0, &quot;smoothFactor&quot;: 1.0, &quot;stroke&quot;: true, &quot;weight&quot;: 1}\n",
       "            ).addTo(map_24696aca6ee64004fe44677969a6c0bf);\n",
       "        \n",
       "    \n",
       "            var circle_marker_d5215013ff37e913e7ecd06d8d452ec6 = L.circleMarker(\n",
       "                [52.32106380013251, 4.9269144122958926],\n",
       "                {&quot;bubblingMouseEvents&quot;: true, &quot;color&quot;: &quot;red&quot;, &quot;dashArray&quot;: null, &quot;dashOffset&quot;: null, &quot;fill&quot;: false, &quot;fillColor&quot;: &quot;red&quot;, &quot;fillOpacity&quot;: 0.2, &quot;fillRule&quot;: &quot;evenodd&quot;, &quot;lineCap&quot;: &quot;round&quot;, &quot;lineJoin&quot;: &quot;round&quot;, &quot;opacity&quot;: 1.0, &quot;radius&quot;: 1, &quot;stroke&quot;: true, &quot;weight&quot;: 3}\n",
       "            ).addTo(map_24696aca6ee64004fe44677969a6c0bf);\n",
       "        \n",
       "    \n",
       "            var circle_marker_ff2499a8cfe0865d51c854962bdebdf0 = L.circleMarker(\n",
       "                [52.315849838150285, 4.9342090526282165],\n",
       "                {&quot;bubblingMouseEvents&quot;: true, &quot;color&quot;: &quot;red&quot;, &quot;dashArray&quot;: null, &quot;dashOffset&quot;: null, &quot;fill&quot;: false, &quot;fillColor&quot;: &quot;red&quot;, &quot;fillOpacity&quot;: 0.2, &quot;fillRule&quot;: &quot;evenodd&quot;, &quot;lineCap&quot;: &quot;round&quot;, &quot;lineJoin&quot;: &quot;round&quot;, &quot;opacity&quot;: 1.0, &quot;radius&quot;: 1, &quot;stroke&quot;: true, &quot;weight&quot;: 3}\n",
       "            ).addTo(map_24696aca6ee64004fe44677969a6c0bf);\n",
       "        \n",
       "    \n",
       "            var circle_marker_8745ddf713b690362ecfe82d1b5680d1 = L.circleMarker(\n",
       "                [52.31451046531305, 4.923033439309801],\n",
       "                {&quot;bubblingMouseEvents&quot;: true, &quot;color&quot;: &quot;red&quot;, &quot;dashArray&quot;: null, &quot;dashOffset&quot;: null, &quot;fill&quot;: false, &quot;fillColor&quot;: &quot;red&quot;, &quot;fillOpacity&quot;: 0.2, &quot;fillRule&quot;: &quot;evenodd&quot;, &quot;lineCap&quot;: &quot;round&quot;, &quot;lineJoin&quot;: &quot;round&quot;, &quot;opacity&quot;: 1.0, &quot;radius&quot;: 1, &quot;stroke&quot;: true, &quot;weight&quot;: 3}\n",
       "            ).addTo(map_24696aca6ee64004fe44677969a6c0bf);\n",
       "        \n",
       "    \n",
       "            var circle_marker_cc6b187a0b0e2a5e3cfebfbb2e81d8ec = L.circleMarker(\n",
       "                [52.40329258478124, 4.895598823382601],\n",
       "                {&quot;bubblingMouseEvents&quot;: true, &quot;color&quot;: &quot;red&quot;, &quot;dashArray&quot;: null, &quot;dashOffset&quot;: null, &quot;fill&quot;: false, &quot;fillColor&quot;: &quot;red&quot;, &quot;fillOpacity&quot;: 0.2, &quot;fillRule&quot;: &quot;evenodd&quot;, &quot;lineCap&quot;: &quot;round&quot;, &quot;lineJoin&quot;: &quot;round&quot;, &quot;opacity&quot;: 1.0, &quot;radius&quot;: 1, &quot;stroke&quot;: true, &quot;weight&quot;: 3}\n",
       "            ).addTo(map_24696aca6ee64004fe44677969a6c0bf);\n",
       "        \n",
       "    \n",
       "            var circle_marker_fcb389b01267b7db3ee961fa398dae54 = L.circleMarker(\n",
       "                [52.40177482192012, 4.892268510602693],\n",
       "                {&quot;bubblingMouseEvents&quot;: true, &quot;color&quot;: &quot;red&quot;, &quot;dashArray&quot;: null, &quot;dashOffset&quot;: null, &quot;fill&quot;: false, &quot;fillColor&quot;: &quot;red&quot;, &quot;fillOpacity&quot;: 0.2, &quot;fillRule&quot;: &quot;evenodd&quot;, &quot;lineCap&quot;: &quot;round&quot;, &quot;lineJoin&quot;: &quot;round&quot;, &quot;opacity&quot;: 1.0, &quot;radius&quot;: 1, &quot;stroke&quot;: true, &quot;weight&quot;: 3}\n",
       "            ).addTo(map_24696aca6ee64004fe44677969a6c0bf);\n",
       "        \n",
       "    \n",
       "            var circle_marker_800b1166f6ec53a69cfe4d308e38553a = L.circleMarker(\n",
       "                [52.38271847843441, 4.859800352785352],\n",
       "                {&quot;bubblingMouseEvents&quot;: true, &quot;color&quot;: &quot;red&quot;, &quot;dashArray&quot;: null, &quot;dashOffset&quot;: null, &quot;fill&quot;: false, &quot;fillColor&quot;: &quot;red&quot;, &quot;fillOpacity&quot;: 0.2, &quot;fillRule&quot;: &quot;evenodd&quot;, &quot;lineCap&quot;: &quot;round&quot;, &quot;lineJoin&quot;: &quot;round&quot;, &quot;opacity&quot;: 1.0, &quot;radius&quot;: 1, &quot;stroke&quot;: true, &quot;weight&quot;: 3}\n",
       "            ).addTo(map_24696aca6ee64004fe44677969a6c0bf);\n",
       "        \n",
       "    \n",
       "            var circle_marker_e9326d50838a161c280e1de7b0aa98e0 = L.circleMarker(\n",
       "                [52.331697340848876, 4.983837495916115],\n",
       "                {&quot;bubblingMouseEvents&quot;: true, &quot;color&quot;: &quot;red&quot;, &quot;dashArray&quot;: null, &quot;dashOffset&quot;: null, &quot;fill&quot;: false, &quot;fillColor&quot;: &quot;red&quot;, &quot;fillOpacity&quot;: 0.2, &quot;fillRule&quot;: &quot;evenodd&quot;, &quot;lineCap&quot;: &quot;round&quot;, &quot;lineJoin&quot;: &quot;round&quot;, &quot;opacity&quot;: 1.0, &quot;radius&quot;: 1, &quot;stroke&quot;: true, &quot;weight&quot;: 3}\n",
       "            ).addTo(map_24696aca6ee64004fe44677969a6c0bf);\n",
       "        \n",
       "    \n",
       "            var circle_marker_d50d0d2def2e6f6f1f0ee89947d105fa = L.circleMarker(\n",
       "                [52.33992862489158, 5.011911562133861],\n",
       "                {&quot;bubblingMouseEvents&quot;: true, &quot;color&quot;: &quot;red&quot;, &quot;dashArray&quot;: null, &quot;dashOffset&quot;: null, &quot;fill&quot;: false, &quot;fillColor&quot;: &quot;red&quot;, &quot;fillOpacity&quot;: 0.2, &quot;fillRule&quot;: &quot;evenodd&quot;, &quot;lineCap&quot;: &quot;round&quot;, &quot;lineJoin&quot;: &quot;round&quot;, &quot;opacity&quot;: 1.0, &quot;radius&quot;: 1, &quot;stroke&quot;: true, &quot;weight&quot;: 3}\n",
       "            ).addTo(map_24696aca6ee64004fe44677969a6c0bf);\n",
       "        \n",
       "    \n",
       "            var circle_marker_fd492294f12ad69da98a6c329a3abb27 = L.circleMarker(\n",
       "                [52.39720109588166, 4.874697603657683],\n",
       "                {&quot;bubblingMouseEvents&quot;: true, &quot;color&quot;: &quot;red&quot;, &quot;dashArray&quot;: null, &quot;dashOffset&quot;: null, &quot;fill&quot;: false, &quot;fillColor&quot;: &quot;red&quot;, &quot;fillOpacity&quot;: 0.2, &quot;fillRule&quot;: &quot;evenodd&quot;, &quot;lineCap&quot;: &quot;round&quot;, &quot;lineJoin&quot;: &quot;round&quot;, &quot;opacity&quot;: 1.0, &quot;radius&quot;: 1, &quot;stroke&quot;: true, &quot;weight&quot;: 3}\n",
       "            ).addTo(map_24696aca6ee64004fe44677969a6c0bf);\n",
       "        \n",
       "    \n",
       "            var circle_marker_4034a372602bc7467ab611241adb4ffe = L.circleMarker(\n",
       "                [52.326869168486525, 4.924350200983048],\n",
       "                {&quot;bubblingMouseEvents&quot;: true, &quot;color&quot;: &quot;red&quot;, &quot;dashArray&quot;: null, &quot;dashOffset&quot;: null, &quot;fill&quot;: false, &quot;fillColor&quot;: &quot;red&quot;, &quot;fillOpacity&quot;: 0.2, &quot;fillRule&quot;: &quot;evenodd&quot;, &quot;lineCap&quot;: &quot;round&quot;, &quot;lineJoin&quot;: &quot;round&quot;, &quot;opacity&quot;: 1.0, &quot;radius&quot;: 1, &quot;stroke&quot;: true, &quot;weight&quot;: 3}\n",
       "            ).addTo(map_24696aca6ee64004fe44677969a6c0bf);\n",
       "        \n",
       "    \n",
       "            var circle_marker_54a22c46e73cb9a098729c00cb57801c = L.circleMarker(\n",
       "                [52.34244787101316, 4.844735673376495],\n",
       "                {&quot;bubblingMouseEvents&quot;: true, &quot;color&quot;: &quot;red&quot;, &quot;dashArray&quot;: null, &quot;dashOffset&quot;: null, &quot;fill&quot;: false, &quot;fillColor&quot;: &quot;red&quot;, &quot;fillOpacity&quot;: 0.2, &quot;fillRule&quot;: &quot;evenodd&quot;, &quot;lineCap&quot;: &quot;round&quot;, &quot;lineJoin&quot;: &quot;round&quot;, &quot;opacity&quot;: 1.0, &quot;radius&quot;: 1, &quot;stroke&quot;: true, &quot;weight&quot;: 3}\n",
       "            ).addTo(map_24696aca6ee64004fe44677969a6c0bf);\n",
       "        \n",
       "    \n",
       "            var circle_marker_3de5ff6c35b09526c866cb9eb6a376fe = L.circleMarker(\n",
       "                [52.33120963741873, 4.968729378499803],\n",
       "                {&quot;bubblingMouseEvents&quot;: true, &quot;color&quot;: &quot;red&quot;, &quot;dashArray&quot;: null, &quot;dashOffset&quot;: null, &quot;fill&quot;: false, &quot;fillColor&quot;: &quot;red&quot;, &quot;fillOpacity&quot;: 0.2, &quot;fillRule&quot;: &quot;evenodd&quot;, &quot;lineCap&quot;: &quot;round&quot;, &quot;lineJoin&quot;: &quot;round&quot;, &quot;opacity&quot;: 1.0, &quot;radius&quot;: 1, &quot;stroke&quot;: true, &quot;weight&quot;: 3}\n",
       "            ).addTo(map_24696aca6ee64004fe44677969a6c0bf);\n",
       "        \n",
       "    \n",
       "            var circle_marker_cbe29e9bedaea3eecd53894771ca1a14 = L.circleMarker(\n",
       "                [52.396868625406135, 4.866137105371228],\n",
       "                {&quot;bubblingMouseEvents&quot;: true, &quot;color&quot;: &quot;red&quot;, &quot;dashArray&quot;: null, &quot;dashOffset&quot;: null, &quot;fill&quot;: false, &quot;fillColor&quot;: &quot;red&quot;, &quot;fillOpacity&quot;: 0.2, &quot;fillRule&quot;: &quot;evenodd&quot;, &quot;lineCap&quot;: &quot;round&quot;, &quot;lineJoin&quot;: &quot;round&quot;, &quot;opacity&quot;: 1.0, &quot;radius&quot;: 1, &quot;stroke&quot;: true, &quot;weight&quot;: 3}\n",
       "            ).addTo(map_24696aca6ee64004fe44677969a6c0bf);\n",
       "        \n",
       "    \n",
       "            var circle_marker_db0a4ff12b31c5da9544efadd9bdb1d0 = L.circleMarker(\n",
       "                [52.41680441416802, 4.835733092175357],\n",
       "                {&quot;bubblingMouseEvents&quot;: true, &quot;color&quot;: &quot;red&quot;, &quot;dashArray&quot;: null, &quot;dashOffset&quot;: null, &quot;fill&quot;: false, &quot;fillColor&quot;: &quot;red&quot;, &quot;fillOpacity&quot;: 0.2, &quot;fillRule&quot;: &quot;evenodd&quot;, &quot;lineCap&quot;: &quot;round&quot;, &quot;lineJoin&quot;: &quot;round&quot;, &quot;opacity&quot;: 1.0, &quot;radius&quot;: 5, &quot;stroke&quot;: true, &quot;weight&quot;: 3}\n",
       "            ).addTo(map_24696aca6ee64004fe44677969a6c0bf);\n",
       "        \n",
       "    \n",
       "            var circle_marker_149071d0ab7ff61ce497a8e282313920 = L.circleMarker(\n",
       "                [52.31140129410532, 4.966573993301029],\n",
       "                {&quot;bubblingMouseEvents&quot;: true, &quot;color&quot;: &quot;red&quot;, &quot;dashArray&quot;: null, &quot;dashOffset&quot;: null, &quot;fill&quot;: false, &quot;fillColor&quot;: &quot;red&quot;, &quot;fillOpacity&quot;: 0.2, &quot;fillRule&quot;: &quot;evenodd&quot;, &quot;lineCap&quot;: &quot;round&quot;, &quot;lineJoin&quot;: &quot;round&quot;, &quot;opacity&quot;: 1.0, &quot;radius&quot;: 5, &quot;stroke&quot;: true, &quot;weight&quot;: 3}\n",
       "            ).addTo(map_24696aca6ee64004fe44677969a6c0bf);\n",
       "        \n",
       "    \n",
       "            var circle_marker_a47ae7cc0901a67aba5f32107909c5fc = L.circleMarker(\n",
       "                [52.370216004140495, 4.895168001232443],\n",
       "                {&quot;bubblingMouseEvents&quot;: true, &quot;color&quot;: &quot;white&quot;, &quot;dashArray&quot;: null, &quot;dashOffset&quot;: null, &quot;fill&quot;: false, &quot;fillColor&quot;: &quot;white&quot;, &quot;fillOpacity&quot;: 0.2, &quot;fillRule&quot;: &quot;evenodd&quot;, &quot;lineCap&quot;: &quot;round&quot;, &quot;lineJoin&quot;: &quot;round&quot;, &quot;opacity&quot;: 1.0, &quot;radius&quot;: 1, &quot;stroke&quot;: true, &quot;weight&quot;: 3}\n",
       "            ).addTo(map_24696aca6ee64004fe44677969a6c0bf);\n",
       "        \n",
       "    \n",
       "            var circle_marker_6b9111ca25e4e3639bd4d17d83a453f8 = L.circleMarker(\n",
       "                [52.31075400410493, 4.971066001305494],\n",
       "                {&quot;bubblingMouseEvents&quot;: true, &quot;color&quot;: &quot;white&quot;, &quot;dashArray&quot;: null, &quot;dashOffset&quot;: null, &quot;fill&quot;: false, &quot;fillColor&quot;: &quot;white&quot;, &quot;fillOpacity&quot;: 0.2, &quot;fillRule&quot;: &quot;evenodd&quot;, &quot;lineCap&quot;: &quot;round&quot;, &quot;lineJoin&quot;: &quot;round&quot;, &quot;opacity&quot;: 1.0, &quot;radius&quot;: 1, &quot;stroke&quot;: true, &quot;weight&quot;: 3}\n",
       "            ).addTo(map_24696aca6ee64004fe44677969a6c0bf);\n",
       "        \n",
       "    \n",
       "            var circle_marker_9b3ee0e4c69beff7afff13591ba809eb = L.circleMarker(\n",
       "                [52.39605100415567, 4.903902001242397],\n",
       "                {&quot;bubblingMouseEvents&quot;: true, &quot;color&quot;: &quot;white&quot;, &quot;dashArray&quot;: null, &quot;dashOffset&quot;: null, &quot;fill&quot;: false, &quot;fillColor&quot;: &quot;white&quot;, &quot;fillOpacity&quot;: 0.2, &quot;fillRule&quot;: &quot;evenodd&quot;, &quot;lineCap&quot;: &quot;round&quot;, &quot;lineJoin&quot;: &quot;round&quot;, &quot;opacity&quot;: 1.0, &quot;radius&quot;: 1, &quot;stroke&quot;: true, &quot;weight&quot;: 3}\n",
       "            ).addTo(map_24696aca6ee64004fe44677969a6c0bf);\n",
       "        \n",
       "    \n",
       "            var circle_marker_7932167e0ca869c8672764e6b03995e5 = L.circleMarker(\n",
       "                [52.395260004155205, 4.905431001243884],\n",
       "                {&quot;bubblingMouseEvents&quot;: true, &quot;color&quot;: &quot;white&quot;, &quot;dashArray&quot;: null, &quot;dashOffset&quot;: null, &quot;fill&quot;: false, &quot;fillColor&quot;: &quot;white&quot;, &quot;fillOpacity&quot;: 0.2, &quot;fillRule&quot;: &quot;evenodd&quot;, &quot;lineCap&quot;: &quot;round&quot;, &quot;lineJoin&quot;: &quot;round&quot;, &quot;opacity&quot;: 1.0, &quot;radius&quot;: 1, &quot;stroke&quot;: true, &quot;weight&quot;: 3}\n",
       "            ).addTo(map_24696aca6ee64004fe44677969a6c0bf);\n",
       "        \n",
       "    \n",
       "            var circle_marker_7ae4363043c7ba08b52b2748fc661067 = L.circleMarker(\n",
       "                [52.39518200415517, 4.905919001244367],\n",
       "                {&quot;bubblingMouseEvents&quot;: true, &quot;color&quot;: &quot;white&quot;, &quot;dashArray&quot;: null, &quot;dashOffset&quot;: null, &quot;fill&quot;: false, &quot;fillColor&quot;: &quot;white&quot;, &quot;fillOpacity&quot;: 0.2, &quot;fillRule&quot;: &quot;evenodd&quot;, &quot;lineCap&quot;: &quot;round&quot;, &quot;lineJoin&quot;: &quot;round&quot;, &quot;opacity&quot;: 1.0, &quot;radius&quot;: 1, &quot;stroke&quot;: true, &quot;weight&quot;: 3}\n",
       "            ).addTo(map_24696aca6ee64004fe44677969a6c0bf);\n",
       "        \n",
       "    \n",
       "            var circle_marker_b2ceebc12fa8a2f005b09531c4425458 = L.circleMarker(\n",
       "                [52.37565100414346, 4.960025001297474],\n",
       "                {&quot;bubblingMouseEvents&quot;: true, &quot;color&quot;: &quot;white&quot;, &quot;dashArray&quot;: null, &quot;dashOffset&quot;: null, &quot;fill&quot;: false, &quot;fillColor&quot;: &quot;white&quot;, &quot;fillOpacity&quot;: 0.2, &quot;fillRule&quot;: &quot;evenodd&quot;, &quot;lineCap&quot;: &quot;round&quot;, &quot;lineJoin&quot;: &quot;round&quot;, &quot;opacity&quot;: 1.0, &quot;radius&quot;: 1, &quot;stroke&quot;: true, &quot;weight&quot;: 3}\n",
       "            ).addTo(map_24696aca6ee64004fe44677969a6c0bf);\n",
       "        \n",
       "    \n",
       "            var circle_marker_7679c83cc174ff5f3db56af4a9cfd72f = L.circleMarker(\n",
       "                [52.37565100414346, 4.960025001297474],\n",
       "                {&quot;bubblingMouseEvents&quot;: true, &quot;color&quot;: &quot;white&quot;, &quot;dashArray&quot;: null, &quot;dashOffset&quot;: null, &quot;fill&quot;: false, &quot;fillColor&quot;: &quot;white&quot;, &quot;fillOpacity&quot;: 0.2, &quot;fillRule&quot;: &quot;evenodd&quot;, &quot;lineCap&quot;: &quot;round&quot;, &quot;lineJoin&quot;: &quot;round&quot;, &quot;opacity&quot;: 1.0, &quot;radius&quot;: 1, &quot;stroke&quot;: true, &quot;weight&quot;: 3}\n",
       "            ).addTo(map_24696aca6ee64004fe44677969a6c0bf);\n",
       "        \n",
       "    \n",
       "            var circle_marker_d0a24ccdd5e5bb3f218f52934bcc6556 = L.circleMarker(\n",
       "                [52.37565100414346, 4.960025001297474],\n",
       "                {&quot;bubblingMouseEvents&quot;: true, &quot;color&quot;: &quot;white&quot;, &quot;dashArray&quot;: null, &quot;dashOffset&quot;: null, &quot;fill&quot;: false, &quot;fillColor&quot;: &quot;white&quot;, &quot;fillOpacity&quot;: 0.2, &quot;fillRule&quot;: &quot;evenodd&quot;, &quot;lineCap&quot;: &quot;round&quot;, &quot;lineJoin&quot;: &quot;round&quot;, &quot;opacity&quot;: 1.0, &quot;radius&quot;: 1, &quot;stroke&quot;: true, &quot;weight&quot;: 3}\n",
       "            ).addTo(map_24696aca6ee64004fe44677969a6c0bf);\n",
       "        \n",
       "    \n",
       "            var circle_marker_1c7c5d0ae1fd98abbbfc7d8960ec22f8 = L.circleMarker(\n",
       "                [52.33712800412097, 4.863074001198793],\n",
       "                {&quot;bubblingMouseEvents&quot;: true, &quot;color&quot;: &quot;white&quot;, &quot;dashArray&quot;: null, &quot;dashOffset&quot;: null, &quot;fill&quot;: false, &quot;fillColor&quot;: &quot;white&quot;, &quot;fillOpacity&quot;: 0.2, &quot;fillRule&quot;: &quot;evenodd&quot;, &quot;lineCap&quot;: &quot;round&quot;, &quot;lineJoin&quot;: &quot;round&quot;, &quot;opacity&quot;: 1.0, &quot;radius&quot;: 1, &quot;stroke&quot;: true, &quot;weight&quot;: 3}\n",
       "            ).addTo(map_24696aca6ee64004fe44677969a6c0bf);\n",
       "        \n",
       "    \n",
       "            var circle_marker_109b918bb714ef6461cd0f23d53cb3bf = L.circleMarker(\n",
       "                [52.33800100412149, 4.877414001213164],\n",
       "                {&quot;bubblingMouseEvents&quot;: true, &quot;color&quot;: &quot;white&quot;, &quot;dashArray&quot;: null, &quot;dashOffset&quot;: null, &quot;fill&quot;: false, &quot;fillColor&quot;: &quot;white&quot;, &quot;fillOpacity&quot;: 0.2, &quot;fillRule&quot;: &quot;evenodd&quot;, &quot;lineCap&quot;: &quot;round&quot;, &quot;lineJoin&quot;: &quot;round&quot;, &quot;opacity&quot;: 1.0, &quot;radius&quot;: 1, &quot;stroke&quot;: true, &quot;weight&quot;: 3}\n",
       "            ).addTo(map_24696aca6ee64004fe44677969a6c0bf);\n",
       "        \n",
       "    \n",
       "            var circle_marker_b48b5ecfe26d25123fbd97f179fd0984 = L.circleMarker(\n",
       "                [52.38634800415012, 4.837586001175717],\n",
       "                {&quot;bubblingMouseEvents&quot;: true, &quot;color&quot;: &quot;white&quot;, &quot;dashArray&quot;: null, &quot;dashOffset&quot;: null, &quot;fill&quot;: false, &quot;fillColor&quot;: &quot;white&quot;, &quot;fillOpacity&quot;: 0.2, &quot;fillRule&quot;: &quot;evenodd&quot;, &quot;lineCap&quot;: &quot;round&quot;, &quot;lineJoin&quot;: &quot;round&quot;, &quot;opacity&quot;: 1.0, &quot;radius&quot;: 1, &quot;stroke&quot;: true, &quot;weight&quot;: 3}\n",
       "            ).addTo(map_24696aca6ee64004fe44677969a6c0bf);\n",
       "        \n",
       "    \n",
       "            var circle_marker_a304d6e53e8705e22dd49fb3a2a53069 = L.circleMarker(\n",
       "                [52.37565100414346, 4.960025001297474],\n",
       "                {&quot;bubblingMouseEvents&quot;: true, &quot;color&quot;: &quot;white&quot;, &quot;dashArray&quot;: null, &quot;dashOffset&quot;: null, &quot;fill&quot;: false, &quot;fillColor&quot;: &quot;white&quot;, &quot;fillOpacity&quot;: 0.2, &quot;fillRule&quot;: &quot;evenodd&quot;, &quot;lineCap&quot;: &quot;round&quot;, &quot;lineJoin&quot;: &quot;round&quot;, &quot;opacity&quot;: 1.0, &quot;radius&quot;: 1, &quot;stroke&quot;: true, &quot;weight&quot;: 3}\n",
       "            ).addTo(map_24696aca6ee64004fe44677969a6c0bf);\n",
       "        \n",
       "    \n",
       "            var circle_marker_418735ad14a906c8b844f4cea87a9dfe = L.circleMarker(\n",
       "                [52.37565100414346, 4.960025001297474],\n",
       "                {&quot;bubblingMouseEvents&quot;: true, &quot;color&quot;: &quot;white&quot;, &quot;dashArray&quot;: null, &quot;dashOffset&quot;: null, &quot;fill&quot;: false, &quot;fillColor&quot;: &quot;white&quot;, &quot;fillOpacity&quot;: 0.2, &quot;fillRule&quot;: &quot;evenodd&quot;, &quot;lineCap&quot;: &quot;round&quot;, &quot;lineJoin&quot;: &quot;round&quot;, &quot;opacity&quot;: 1.0, &quot;radius&quot;: 1, &quot;stroke&quot;: true, &quot;weight&quot;: 3}\n",
       "            ).addTo(map_24696aca6ee64004fe44677969a6c0bf);\n",
       "        \n",
       "    \n",
       "            var circle_marker_e4243bf301c3a55374a67ab5c7a4ff73 = L.circleMarker(\n",
       "                [52.32304800411234, 4.95648900129149],\n",
       "                {&quot;bubblingMouseEvents&quot;: true, &quot;color&quot;: &quot;white&quot;, &quot;dashArray&quot;: null, &quot;dashOffset&quot;: null, &quot;fill&quot;: false, &quot;fillColor&quot;: &quot;white&quot;, &quot;fillOpacity&quot;: 0.2, &quot;fillRule&quot;: &quot;evenodd&quot;, &quot;lineCap&quot;: &quot;round&quot;, &quot;lineJoin&quot;: &quot;round&quot;, &quot;opacity&quot;: 1.0, &quot;radius&quot;: 1, &quot;stroke&quot;: true, &quot;weight&quot;: 3}\n",
       "            ).addTo(map_24696aca6ee64004fe44677969a6c0bf);\n",
       "        \n",
       "    \n",
       "            var circle_marker_162cc5d371bcfa0ad8236df17835b36c = L.circleMarker(\n",
       "                [52.30750000410298, 4.972220001306497],\n",
       "                {&quot;bubblingMouseEvents&quot;: true, &quot;color&quot;: &quot;white&quot;, &quot;dashArray&quot;: null, &quot;dashOffset&quot;: null, &quot;fill&quot;: false, &quot;fillColor&quot;: &quot;white&quot;, &quot;fillOpacity&quot;: 0.2, &quot;fillRule&quot;: &quot;evenodd&quot;, &quot;lineCap&quot;: &quot;round&quot;, &quot;lineJoin&quot;: &quot;round&quot;, &quot;opacity&quot;: 1.0, &quot;radius&quot;: 1, &quot;stroke&quot;: true, &quot;weight&quot;: 3}\n",
       "            ).addTo(map_24696aca6ee64004fe44677969a6c0bf);\n",
       "        \n",
       "    \n",
       "            var circle_marker_98bb13fd05bb0fafbaf532ff6b9f989e = L.circleMarker(\n",
       "                [52.37403000414271, 4.889690001227152],\n",
       "                {&quot;bubblingMouseEvents&quot;: true, &quot;color&quot;: &quot;white&quot;, &quot;dashArray&quot;: null, &quot;dashOffset&quot;: null, &quot;fill&quot;: false, &quot;fillColor&quot;: &quot;white&quot;, &quot;fillOpacity&quot;: 0.2, &quot;fillRule&quot;: &quot;evenodd&quot;, &quot;lineCap&quot;: &quot;round&quot;, &quot;lineJoin&quot;: &quot;round&quot;, &quot;opacity&quot;: 1.0, &quot;radius&quot;: 1, &quot;stroke&quot;: true, &quot;weight&quot;: 3}\n",
       "            ).addTo(map_24696aca6ee64004fe44677969a6c0bf);\n",
       "        \n",
       "    \n",
       "            var circle_marker_590ee67be032e1fc0217fda62493e03e = L.circleMarker(\n",
       "                [52.38666000415029, 4.837160001175309],\n",
       "                {&quot;bubblingMouseEvents&quot;: true, &quot;color&quot;: &quot;white&quot;, &quot;dashArray&quot;: null, &quot;dashOffset&quot;: null, &quot;fill&quot;: false, &quot;fillColor&quot;: &quot;white&quot;, &quot;fillOpacity&quot;: 0.2, &quot;fillRule&quot;: &quot;evenodd&quot;, &quot;lineCap&quot;: &quot;round&quot;, &quot;lineJoin&quot;: &quot;round&quot;, &quot;opacity&quot;: 1.0, &quot;radius&quot;: 1, &quot;stroke&quot;: true, &quot;weight&quot;: 3}\n",
       "            ).addTo(map_24696aca6ee64004fe44677969a6c0bf);\n",
       "        \n",
       "    \n",
       "            var circle_marker_a7173bd07b548db234596a846702217d = L.circleMarker(\n",
       "                [52.38806300415114, 4.834914001173135],\n",
       "                {&quot;bubblingMouseEvents&quot;: true, &quot;color&quot;: &quot;white&quot;, &quot;dashArray&quot;: null, &quot;dashOffset&quot;: null, &quot;fill&quot;: false, &quot;fillColor&quot;: &quot;white&quot;, &quot;fillOpacity&quot;: 0.2, &quot;fillRule&quot;: &quot;evenodd&quot;, &quot;lineCap&quot;: &quot;round&quot;, &quot;lineJoin&quot;: &quot;round&quot;, &quot;opacity&quot;: 1.0, &quot;radius&quot;: 1, &quot;stroke&quot;: true, &quot;weight&quot;: 3}\n",
       "            ).addTo(map_24696aca6ee64004fe44677969a6c0bf);\n",
       "        \n",
       "    \n",
       "            var circle_marker_6bd352c13bd378f5cbd3751434af4f12 = L.circleMarker(\n",
       "                [52.38524600414949, 4.832161001170251],\n",
       "                {&quot;bubblingMouseEvents&quot;: true, &quot;color&quot;: &quot;white&quot;, &quot;dashArray&quot;: null, &quot;dashOffset&quot;: null, &quot;fill&quot;: false, &quot;fillColor&quot;: &quot;white&quot;, &quot;fillOpacity&quot;: 0.2, &quot;fillRule&quot;: &quot;evenodd&quot;, &quot;lineCap&quot;: &quot;round&quot;, &quot;lineJoin&quot;: &quot;round&quot;, &quot;opacity&quot;: 1.0, &quot;radius&quot;: 1, &quot;stroke&quot;: true, &quot;weight&quot;: 3}\n",
       "            ).addTo(map_24696aca6ee64004fe44677969a6c0bf);\n",
       "        \n",
       "    \n",
       "            var circle_marker_4c70b0ab222a0b1ef41d7758de4dd9f4 = L.circleMarker(\n",
       "                [52.40399100416039, 4.888953001227851],\n",
       "                {&quot;bubblingMouseEvents&quot;: true, &quot;color&quot;: &quot;white&quot;, &quot;dashArray&quot;: null, &quot;dashOffset&quot;: null, &quot;fill&quot;: false, &quot;fillColor&quot;: &quot;white&quot;, &quot;fillOpacity&quot;: 0.2, &quot;fillRule&quot;: &quot;evenodd&quot;, &quot;lineCap&quot;: &quot;round&quot;, &quot;lineJoin&quot;: &quot;round&quot;, &quot;opacity&quot;: 1.0, &quot;radius&quot;: 1, &quot;stroke&quot;: true, &quot;weight&quot;: 3}\n",
       "            ).addTo(map_24696aca6ee64004fe44677969a6c0bf);\n",
       "        \n",
       "    \n",
       "            var circle_marker_7b70090ab8ec690fd006c65487425fd6 = L.circleMarker(\n",
       "                [52.31435300410719, 4.942843001277443],\n",
       "                {&quot;bubblingMouseEvents&quot;: true, &quot;color&quot;: &quot;white&quot;, &quot;dashArray&quot;: null, &quot;dashOffset&quot;: null, &quot;fill&quot;: false, &quot;fillColor&quot;: &quot;white&quot;, &quot;fillOpacity&quot;: 0.2, &quot;fillRule&quot;: &quot;evenodd&quot;, &quot;lineCap&quot;: &quot;round&quot;, &quot;lineJoin&quot;: &quot;round&quot;, &quot;opacity&quot;: 1.0, &quot;radius&quot;: 1, &quot;stroke&quot;: true, &quot;weight&quot;: 3}\n",
       "            ).addTo(map_24696aca6ee64004fe44677969a6c0bf);\n",
       "        \n",
       "    \n",
       "            var circle_marker_f2dd66c8c25fd6d8c4529e392e6d8dab = L.circleMarker(\n",
       "                [52.40168800415899, 4.8990640012378375],\n",
       "                {&quot;bubblingMouseEvents&quot;: true, &quot;color&quot;: &quot;white&quot;, &quot;dashArray&quot;: null, &quot;dashOffset&quot;: null, &quot;fill&quot;: false, &quot;fillColor&quot;: &quot;white&quot;, &quot;fillOpacity&quot;: 0.2, &quot;fillRule&quot;: &quot;evenodd&quot;, &quot;lineCap&quot;: &quot;round&quot;, &quot;lineJoin&quot;: &quot;round&quot;, &quot;opacity&quot;: 1.0, &quot;radius&quot;: 1, &quot;stroke&quot;: true, &quot;weight&quot;: 3}\n",
       "            ).addTo(map_24696aca6ee64004fe44677969a6c0bf);\n",
       "        \n",
       "    \n",
       "            var circle_marker_3a28794f309ec4ccf8d690992e824877 = L.circleMarker(\n",
       "                [52.37403000414271, 4.889690001227152],\n",
       "                {&quot;bubblingMouseEvents&quot;: true, &quot;color&quot;: &quot;white&quot;, &quot;dashArray&quot;: null, &quot;dashOffset&quot;: null, &quot;fill&quot;: false, &quot;fillColor&quot;: &quot;white&quot;, &quot;fillOpacity&quot;: 0.2, &quot;fillRule&quot;: &quot;evenodd&quot;, &quot;lineCap&quot;: &quot;round&quot;, &quot;lineJoin&quot;: &quot;round&quot;, &quot;opacity&quot;: 1.0, &quot;radius&quot;: 1, &quot;stroke&quot;: true, &quot;weight&quot;: 3}\n",
       "            ).addTo(map_24696aca6ee64004fe44677969a6c0bf);\n",
       "        \n",
       "    \n",
       "            var circle_marker_50c6d804d36d78627a69248f94e587ee = L.circleMarker(\n",
       "                [52.3369680041209, 4.863917001199627],\n",
       "                {&quot;bubblingMouseEvents&quot;: true, &quot;color&quot;: &quot;white&quot;, &quot;dashArray&quot;: null, &quot;dashOffset&quot;: null, &quot;fill&quot;: false, &quot;fillColor&quot;: &quot;white&quot;, &quot;fillOpacity&quot;: 0.2, &quot;fillRule&quot;: &quot;evenodd&quot;, &quot;lineCap&quot;: &quot;round&quot;, &quot;lineJoin&quot;: &quot;round&quot;, &quot;opacity&quot;: 1.0, &quot;radius&quot;: 1, &quot;stroke&quot;: true, &quot;weight&quot;: 3}\n",
       "            ).addTo(map_24696aca6ee64004fe44677969a6c0bf);\n",
       "        \n",
       "    \n",
       "            var circle_marker_3a61e7fee2101962b5db2298211568d9 = L.circleMarker(\n",
       "                [52.33841100412168, 4.893263001229024],\n",
       "                {&quot;bubblingMouseEvents&quot;: true, &quot;color&quot;: &quot;white&quot;, &quot;dashArray&quot;: null, &quot;dashOffset&quot;: null, &quot;fill&quot;: false, &quot;fillColor&quot;: &quot;white&quot;, &quot;fillOpacity&quot;: 0.2, &quot;fillRule&quot;: &quot;evenodd&quot;, &quot;lineCap&quot;: &quot;round&quot;, &quot;lineJoin&quot;: &quot;round&quot;, &quot;opacity&quot;: 1.0, &quot;radius&quot;: 1, &quot;stroke&quot;: true, &quot;weight&quot;: 3}\n",
       "            ).addTo(map_24696aca6ee64004fe44677969a6c0bf);\n",
       "        \n",
       "    \n",
       "            var circle_marker_3728f4fcce9c194fef417a6253914a04 = L.circleMarker(\n",
       "                [52.39173400415317, 4.90243900124073],\n",
       "                {&quot;bubblingMouseEvents&quot;: true, &quot;color&quot;: &quot;white&quot;, &quot;dashArray&quot;: null, &quot;dashOffset&quot;: null, &quot;fill&quot;: false, &quot;fillColor&quot;: &quot;white&quot;, &quot;fillOpacity&quot;: 0.2, &quot;fillRule&quot;: &quot;evenodd&quot;, &quot;lineCap&quot;: &quot;round&quot;, &quot;lineJoin&quot;: &quot;round&quot;, &quot;opacity&quot;: 1.0, &quot;radius&quot;: 1, &quot;stroke&quot;: true, &quot;weight&quot;: 3}\n",
       "            ).addTo(map_24696aca6ee64004fe44677969a6c0bf);\n",
       "        \n",
       "    \n",
       "            var circle_marker_61dbcb5c426369ef3c95317b92897c36 = L.circleMarker(\n",
       "                [52.35396400413038, 5.014631001351021],\n",
       "                {&quot;bubblingMouseEvents&quot;: true, &quot;color&quot;: &quot;white&quot;, &quot;dashArray&quot;: null, &quot;dashOffset&quot;: null, &quot;fill&quot;: false, &quot;fillColor&quot;: &quot;white&quot;, &quot;fillOpacity&quot;: 0.2, &quot;fillRule&quot;: &quot;evenodd&quot;, &quot;lineCap&quot;: &quot;round&quot;, &quot;lineJoin&quot;: &quot;round&quot;, &quot;opacity&quot;: 1.0, &quot;radius&quot;: 1, &quot;stroke&quot;: true, &quot;weight&quot;: 3}\n",
       "            ).addTo(map_24696aca6ee64004fe44677969a6c0bf);\n",
       "        \n",
       "    \n",
       "            var circle_marker_308b945198d57db2c0f1f54f7a35cfe9 = L.circleMarker(\n",
       "                [52.35396400413038, 5.014631001351021],\n",
       "                {&quot;bubblingMouseEvents&quot;: true, &quot;color&quot;: &quot;white&quot;, &quot;dashArray&quot;: null, &quot;dashOffset&quot;: null, &quot;fill&quot;: false, &quot;fillColor&quot;: &quot;white&quot;, &quot;fillOpacity&quot;: 0.2, &quot;fillRule&quot;: &quot;evenodd&quot;, &quot;lineCap&quot;: &quot;round&quot;, &quot;lineJoin&quot;: &quot;round&quot;, &quot;opacity&quot;: 1.0, &quot;radius&quot;: 1, &quot;stroke&quot;: true, &quot;weight&quot;: 3}\n",
       "            ).addTo(map_24696aca6ee64004fe44677969a6c0bf);\n",
       "        \n",
       "    \n",
       "            var circle_marker_5111774249763c2cb3fc8065be7f8d5b = L.circleMarker(\n",
       "                [52.402576004159506, 4.893148001231972],\n",
       "                {&quot;bubblingMouseEvents&quot;: true, &quot;color&quot;: &quot;white&quot;, &quot;dashArray&quot;: null, &quot;dashOffset&quot;: null, &quot;fill&quot;: false, &quot;fillColor&quot;: &quot;white&quot;, &quot;fillOpacity&quot;: 0.2, &quot;fillRule&quot;: &quot;evenodd&quot;, &quot;lineCap&quot;: &quot;round&quot;, &quot;lineJoin&quot;: &quot;round&quot;, &quot;opacity&quot;: 1.0, &quot;radius&quot;: 1, &quot;stroke&quot;: true, &quot;weight&quot;: 3}\n",
       "            ).addTo(map_24696aca6ee64004fe44677969a6c0bf);\n",
       "        \n",
       "    \n",
       "            var circle_marker_83773bcec8847c133a0820fc8b651ddb = L.circleMarker(\n",
       "                [50.91608687465954, 5.837795945608008],\n",
       "                {&quot;bubblingMouseEvents&quot;: true, &quot;color&quot;: &quot;pink&quot;, &quot;dashArray&quot;: null, &quot;dashOffset&quot;: null, &quot;fill&quot;: false, &quot;fillColor&quot;: &quot;pink&quot;, &quot;fillOpacity&quot;: 0.2, &quot;fillRule&quot;: &quot;evenodd&quot;, &quot;lineCap&quot;: &quot;round&quot;, &quot;lineJoin&quot;: &quot;round&quot;, &quot;opacity&quot;: 1.0, &quot;radius&quot;: 1, &quot;stroke&quot;: true, &quot;weight&quot;: 3}\n",
       "            ).addTo(map_24696aca6ee64004fe44677969a6c0bf);\n",
       "        \n",
       "    \n",
       "            var circle_marker_b294aad9c63a9e520685cf0c4208e85b = L.circleMarker(\n",
       "                [51.47221670497713, 5.737978712307354],\n",
       "                {&quot;bubblingMouseEvents&quot;: true, &quot;color&quot;: &quot;pink&quot;, &quot;dashArray&quot;: null, &quot;dashOffset&quot;: null, &quot;fill&quot;: false, &quot;fillColor&quot;: &quot;pink&quot;, &quot;fillOpacity&quot;: 0.2, &quot;fillRule&quot;: &quot;evenodd&quot;, &quot;lineCap&quot;: &quot;round&quot;, &quot;lineJoin&quot;: &quot;round&quot;, &quot;opacity&quot;: 1.0, &quot;radius&quot;: 1, &quot;stroke&quot;: true, &quot;weight&quot;: 3}\n",
       "            ).addTo(map_24696aca6ee64004fe44677969a6c0bf);\n",
       "        \n",
       "    \n",
       "            var circle_marker_036f94f7ec21ab6b93f969b14f883423 = L.circleMarker(\n",
       "                [51.218521003147536, 9.63702900586856],\n",
       "                {&quot;bubblingMouseEvents&quot;: true, &quot;color&quot;: &quot;pink&quot;, &quot;dashArray&quot;: null, &quot;dashOffset&quot;: null, &quot;fill&quot;: false, &quot;fillColor&quot;: &quot;pink&quot;, &quot;fillOpacity&quot;: 0.2, &quot;fillRule&quot;: &quot;evenodd&quot;, &quot;lineCap&quot;: &quot;round&quot;, &quot;lineJoin&quot;: &quot;round&quot;, &quot;opacity&quot;: 1.0, &quot;radius&quot;: 1, &quot;stroke&quot;: true, &quot;weight&quot;: 3}\n",
       "            ).addTo(map_24696aca6ee64004fe44677969a6c0bf);\n",
       "        \n",
       "&lt;/script&gt;\n",
       "&lt;/html&gt;\" style=\"position:absolute;width:100%;height:100%;left:0;top:0;border:none !important;\" allowfullscreen webkitallowfullscreen mozallowfullscreen></iframe></div></div>"
      ],
      "text/plain": [
       "<folium.folium.Map at 0x1a0369dbb50>"
      ]
     },
     "execution_count": 68,
     "metadata": {},
     "output_type": "execute_result"
    }
   ],
   "source": [
    "# input parameters below\n",
    "parameters_dict = {\n",
    "    'hub_network': 'decentralized', # none, centralized, decentralized\n",
    "    'network_type': 'road', # road, roadWater, rail\n",
    "    'truck_type': 'diesel', # diesel, semi, electric \n",
    "    'biobased_type': 'semi', # none, semi, full\n",
    "    'modularity_type': 'full' # none, full \n",
    "}\n",
    "\n",
    "# create and run model \n",
    "model = Model(parameters_dict)\n",
    "for i in range(10): \n",
    "    model.step()\n",
    "\n",
    "# visualize results \n",
    "model.visualize()"
   ]
  },
  {
   "cell_type": "code",
   "execution_count": 64,
   "id": "c432cc6e-cdd6-48fd-93ca-91a0c4e1409e",
   "metadata": {},
   "outputs": [
    {
     "name": "stdout",
     "output_type": "stream",
     "text": [
      "number of trips taken by 25t truck: 5000\n",
      "total tons of materials: 164798\n",
      "it took 5000 trips for a 25t truck to deliver 164798 tons of materials\n",
      "check: this value should in the same order of magnitude of 25: 32.9596\n"
     ]
    }
   ],
   "source": [
    "# checking results for emissions h2c\n",
    "emissions_h2c = 54\n",
    "emissiosn_perKm = 0.0009\n",
    "av_dist = 6 * 2 \n",
    "nTrips = round(emissions_h2c / emissiosn_perKm / av_dist)\n",
    "print(f'number of trips taken by 25t truck: {nTrips}')\n",
    "\n",
    "total_mat = sum([sum(c.materials_required.values()) for c in model.construction_sites])\n",
    "print(f'total tons of materials: {total_mat}')\n",
    "\n",
    "print(f'it took {nTrips} trips for a 25t truck to deliver {total_mat} tons of materials')\n",
    "print(f'check: this value should in the same order of magnitude of 25: {total_mat/nTrips}')"
   ]
  },
  {
   "cell_type": "code",
   "execution_count": 24,
   "id": "adfbc210-d9f1-4152-89f7-c37b34a8afc7",
   "metadata": {},
   "outputs": [
    {
     "name": "stdout",
     "output_type": "stream",
     "text": [
      "site info: \n",
      "hub type: micro\n",
      "coordinates: (52.315849838150285, 4.9342090526282165)\n"
     ]
    }
   ],
   "source": [
    "s = model.hubs[3]\n",
    "print(f'''site info: \n",
    "hub type: {s.hubType}\n",
    "coordinates: {s.coords}''')"
   ]
  },
  {
   "cell_type": "code",
   "execution_count": 26,
   "id": "7fce95cb-7a0e-4836-a97c-7a18a8496c9a",
   "metadata": {},
   "outputs": [
    {
     "data": {
      "text/plain": [
       "{'timber': 2180, 'concrete': 3090, 'modules': 46}"
      ]
     },
     "execution_count": 26,
     "metadata": {},
     "output_type": "execute_result"
    }
   ],
   "source": [
    "model.construction_sites[0].materials_required"
   ]
  },
  {
   "cell_type": "code",
   "execution_count": null,
   "id": "213347da-60a3-4906-bb5d-8d3618682163",
   "metadata": {},
   "outputs": [],
   "source": []
  }
 ],
 "metadata": {
  "kernelspec": {
   "display_name": "Python 3 (ipykernel)",
   "language": "python",
   "name": "python3"
  },
  "language_info": {
   "codemirror_mode": {
    "name": "ipython",
    "version": 3
   },
   "file_extension": ".py",
   "mimetype": "text/x-python",
   "name": "python",
   "nbconvert_exporter": "python",
   "pygments_lexer": "ipython3",
   "version": "3.11.0"
  }
 },
 "nbformat": 4,
 "nbformat_minor": 5
}
